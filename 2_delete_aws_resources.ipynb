{
 "cells": [
  {
   "cell_type": "markdown",
   "id": "eac93db5-af70-4d6b-ac45-c3b863f6ca8a",
   "metadata": {
    "tags": []
   },
   "source": [
    "# Destroy AWS Resources"
   ]
  },
  {
   "cell_type": "code",
   "execution_count": 1,
   "id": "95b093fb-a250-4bde-885d-5072d335bb7d",
   "metadata": {},
   "outputs": [],
   "source": [
    "%load_ext lab_black\n",
    "%load_ext autoreload\n",
    "%autoreload 2"
   ]
  },
  {
   "cell_type": "code",
   "execution_count": 2,
   "id": "a5c0fec3-42d3-44f7-b241-de7e1458795b",
   "metadata": {},
   "outputs": [],
   "source": [
    "import os\n",
    "from glob import glob\n",
    "from time import sleep\n",
    "\n",
    "import boto3\n",
    "from dotenv import find_dotenv, load_dotenv"
   ]
  },
  {
   "cell_type": "code",
   "execution_count": 3,
   "id": "3039b307-b6b7-4ebe-a48d-e9e02b17c3b6",
   "metadata": {},
   "outputs": [],
   "source": [
    "%aimport src.s3.buckets\n",
    "import src.s3.buckets as s3b\n",
    "\n",
    "%aimport src.cw.cloudwatch_logs\n",
    "import src.cw.cloudwatch_logs as cwlogs\n",
    "\n",
    "%aimport src.iam.iam_roles\n",
    "import src.iam.iam_roles as iamr\n",
    "\n",
    "%aimport src.firehose.kinesis_firehose\n",
    "import src.firehose.kinesis_firehose as knsfire\n",
    "\n",
    "%aimport src.ec2.ec2_instances_sec_groups\n",
    "import src.ec2.ec2_instances_sec_groups as ec2h\n",
    "\n",
    "%aimport src.keypairs.ssh_keypairs\n",
    "import src.keypairs.ssh_keypairs as ssh_keys\n",
    "\n",
    "%aimport src.ansible.playbook_utils\n",
    "import src.ansible.playbook_utils as pbu"
   ]
  },
  {
   "cell_type": "code",
   "execution_count": 4,
   "id": "7393dc0a-6058-4554-8257-64537279bbd2",
   "metadata": {},
   "outputs": [
    {
     "data": {
      "text/plain": [
       "True"
      ]
     },
     "execution_count": 4,
     "metadata": {},
     "output_type": "execute_result"
    }
   ],
   "source": [
    "load_dotenv(find_dotenv())"
   ]
  },
  {
   "cell_type": "code",
   "execution_count": 5,
   "id": "6eb61385-6e3f-4f97-98df-caf4cd71f8a2",
   "metadata": {},
   "outputs": [],
   "source": [
    "aws_region = os.getenv(\"AWS_REGION\")"
   ]
  },
  {
   "cell_type": "markdown",
   "id": "ff4d3de8-3eed-4097-a0d7-d368148c27bb",
   "metadata": {},
   "source": [
    "## About"
   ]
  },
  {
   "cell_type": "markdown",
   "id": "b2ffa21b-24a5-4536-b981-ca6be2892d2f",
   "metadata": {},
   "source": [
    "In this notebook, the following AWS resources will be destroyed\n",
    "- EC2 instance\n",
    "- S3 bucket\n",
    "- CloudWatch Logging group (automatically deletes CloudWatch Logging stream)\n",
    "- IAM role\n",
    "- Kinesis Firehose Delivery Stream\n",
    "\n",
    "### Pre-Requisites\n",
    "1. As mentioned in `README.md`, the following environment variables should be set with the user's AWS credendials ([1](https://docs.aws.amazon.com/sdk-for-php/v3/developer-guide/guide_credentials_environment.html), [2](https://docs.aws.amazon.com/sdk-for-php/v3/developer-guide/guide_credentials_profiles.html))\n",
    "   - `AWS_ACCESS_KEY_ID`\n",
    "   - `AWS_SECRET_KEY`\n",
    "   - `AWS_REGION`\n",
    "\n",
    "   These credentials must be associated to a user group whose users have been granted programmatic access to AWS resources. In order to configure this for an IAM user group, see the documentation [here](https://docs.aws.amazon.com/IAM/latest/UserGuide/id_users_create.html#id_users_create_console).\n",
    "\n",
    "### Notes\n",
    "1. All resources must exist in the same AWS region (specified by the environment variable `AWS_REGION`)."
   ]
  },
  {
   "cell_type": "markdown",
   "id": "22d16793-4c77-4dee-bbca-df5ab656ee41",
   "metadata": {},
   "source": [
    "## User Inputs"
   ]
  },
  {
   "cell_type": "code",
   "execution_count": 7,
   "id": "8f1a15e8-0671-4a4d-ab1b-3c6a7adf639f",
   "metadata": {
    "tags": [
     "parameters"
    ]
   },
   "outputs": [],
   "source": [
    "# S3\n",
    "s3_bucket_name = \"\"\n",
    "\n",
    "# IAM Role\n",
    "iam_role_name = \"kinesis-firehose-role\"\n",
    "iam_policy_name = \"mypolicy\"\n",
    "\n",
    "# Kinesis Firehose Stream\n",
    "firehose_stream_name = \"twitter_delivery_stream\"\n",
    "\n",
    "# CloudWatch Logging\n",
    "cw_logs_group_name = f\"kinesisfirehose_{firehose_stream_name}\"\n",
    "\n",
    "# EC2 Security Groups\n",
    "sg_group_tags = [{\"Key\": \"Name\", \"Value\": \"allow-inbound-ssh\"}]\n",
    "\n",
    "# SSH Key Pairs\n",
    "key_fname = \"aws_ec2_key\"\n",
    "keypair_name = \"ec2-key-pair\"\n",
    "\n",
    "# EC2 Instances\n",
    "ec2_instance_tags_list = [{\"Key\": \"Name\", \"Value\": \"my-ec2-instance\"}]\n",
    "ansible_inventory_host_vars_fpath = \"inventories/production/host_vars/ec2host\""
   ]
  },
  {
   "cell_type": "markdown",
   "id": "23fbbd9d-4db8-4a4c-8a62-f164b9f445bf",
   "metadata": {},
   "source": [
    "## Reset Host Target EC2 Attributes in Ansible Inventory"
   ]
  },
  {
   "cell_type": "markdown",
   "id": "0742cfdf-bb6a-4f93-990e-db470e035e2a",
   "metadata": {},
   "source": [
    "Reset the target IP address"
   ]
  },
  {
   "cell_type": "code",
   "execution_count": 7,
   "id": "d1556f8d-498c-48c9-a053-437801cd3ac2",
   "metadata": {},
   "outputs": [
    {
     "name": "stdout",
     "output_type": "stream",
     "text": [
      "Changed to use specified IP address.\n",
      "ansible_host: ...\n",
      "ansible_connection: ssh\n",
      "ansible_user: ec2-user\n",
      "ansible_python_interpreter: /usr/bin/python3\n",
      "ansible_ssh_private_key_file: /tmp/aws_ec2_key.pem\n",
      "CPU times: user 1.13 ms, sys: 148 µs, total: 1.28 ms\n",
      "Wall time: 755 µs\n"
     ]
    }
   ],
   "source": [
    "%%time\n",
    "pbu.replace_inventory_host_ip(ansible_inventory_host_vars_fpath, \"...\")"
   ]
  },
  {
   "cell_type": "markdown",
   "id": "99eef21d-a356-4575-9ea9-9d4d35ac2eae",
   "metadata": {},
   "source": [
    "Reset the target Python version"
   ]
  },
  {
   "cell_type": "code",
   "execution_count": 8,
   "id": "a4d69c9c-46ec-49a4-871b-55f20b188232",
   "metadata": {},
   "outputs": [
    {
     "name": "stdout",
     "output_type": "stream",
     "text": [
      "Changed to use Python 2.7.\n",
      "ansible_host: ...\n",
      "ansible_connection: ssh\n",
      "ansible_user: ec2-user\n",
      "ansible_python_interpreter: /usr/bin/python2.7\n",
      "ansible_ssh_private_key_file: /tmp/aws_ec2_key.pem\n",
      "CPU times: user 724 µs, sys: 94 µs, total: 818 µs\n",
      "Wall time: 507 µs\n"
     ]
    }
   ],
   "source": [
    "%%time\n",
    "pbu.replace_inventory_python_version(ansible_inventory_host_vars_fpath, \"2.7\")"
   ]
  },
  {
   "cell_type": "markdown",
   "id": "235546a2-1def-458a-9537-61a783ed7e9c",
   "metadata": {},
   "source": [
    "## Stop EC2 Instance"
   ]
  },
  {
   "cell_type": "code",
   "execution_count": null,
   "id": "3428ccf5-e69d-42c8-9f27-f184ca1720e7",
   "metadata": {},
   "outputs": [],
   "source": [
    "%%time\n",
    "ec2_instance_filter = dict(Filters=[{\"Name\": \"tag:Name\", \"Values\": [\"my-ec2-instance\"]}])\n",
    "# Filter instances group by tag\n",
    "filtered_instances_list = ec2h.list_ec2_instances_by_filter(aws_region, ec2_instance_filter)\n",
    "# Slice filtered instances by index, to get first matching instance_id\n",
    "first_filtered_instance_id = filtered_instances_list[0][\"id\"]\n",
    "stop_instance_response = ec2h.stop_instance(first_filtered_instance_id, aws_region)\n",
    "stop_instance_response"
   ]
  },
  {
   "cell_type": "markdown",
   "id": "2cc033fd-6514-4eb6-beb5-9a5bbc44ae9d",
   "metadata": {},
   "source": [
    "## Terminate EC2 Instance"
   ]
  },
  {
   "cell_type": "code",
   "execution_count": null,
   "id": "daa3da0b-c026-4be5-b597-bcb370cb63f2",
   "metadata": {},
   "outputs": [],
   "source": [
    "%%time\n",
    "ec2_instance_filter = dict(Filters=[{\"Name\": \"tag:Name\", \"Values\": [\"my-ec2-instance\"]}])\n",
    "# Filter instances group by tag\n",
    "filtered_instances_list = ec2h.list_ec2_instances_by_filter(aws_region, ec2_instance_filter)\n",
    "# Slice filtered instances by index, to get first matching instance_id\n",
    "first_filtered_instance_id = filtered_instances_list[0][\"id\"]\n",
    "terminated_instance_response = ec2h.terminate_instance(first_filtered_instance_id, aws_region)\n",
    "terminated_instance_response"
   ]
  },
  {
   "cell_type": "code",
   "execution_count": 11,
   "id": "8153290b-5f83-4b2a-bfad-d4d1364150a9",
   "metadata": {},
   "outputs": [
    {
     "name": "stdout",
     "output_type": "stream",
     "text": [
      "CPU times: user 31.3 ms, sys: 0 ns, total: 31.3 ms\n",
      "Wall time: 218 ms\n"
     ]
    }
   ],
   "source": [
    "%%time\n",
    "ec2_instance_filter = dict(\n",
    "    Filters=[{\"Name\": \"tag:Name\", \"Values\": [\"my-ec2-instance\"]}]\n",
    ")\n",
    "ec2h.check_ec2_instance_termination(ec2_instance_filter, aws_region)"
   ]
  },
  {
   "cell_type": "markdown",
   "id": "0dc98b93-1dcc-41bb-8ed2-dd7bc41ffe98",
   "metadata": {},
   "source": [
    "## Delete Local SSH Key Pair"
   ]
  },
  {
   "cell_type": "code",
   "execution_count": null,
   "id": "3a83f871-cde4-48ff-b753-5f4a0ba4d950",
   "metadata": {},
   "outputs": [],
   "source": [
    "%%time\n",
    "key_deletion_response = ssh_keys.delete_key_pair(keypair_name, aws_region)\n",
    "key_deletion_response"
   ]
  },
  {
   "cell_type": "code",
   "execution_count": 13,
   "id": "87f18efc-4d8a-4e6a-9bb1-786b632002a9",
   "metadata": {},
   "outputs": [
    {
     "name": "stdout",
     "output_type": "stream",
     "text": [
      "CPU times: user 19 ms, sys: 0 ns, total: 19 ms\n",
      "Wall time: 174 ms\n"
     ]
    }
   ],
   "source": [
    "%%time\n",
    "key_filter = dict(Filters=[{\"Name\": \"tag:Name\", \"Values\": [\"my-ssh-key-pair\"]}])\n",
    "ssh_keys.check_deletion_key_pair(key_filter, aws_region)"
   ]
  },
  {
   "cell_type": "markdown",
   "id": "ed700f8d-b287-455e-9918-979e917ca1e2",
   "metadata": {},
   "source": [
    "## Delete EC2 Security Groups"
   ]
  },
  {
   "cell_type": "code",
   "execution_count": 14,
   "id": "19fc63eb-b9cf-4254-98c8-ae32781834ad",
   "metadata": {},
   "outputs": [],
   "source": [
    "sleep(45)"
   ]
  },
  {
   "cell_type": "code",
   "execution_count": null,
   "id": "97617da9-6acd-40a6-8c81-db233734b432",
   "metadata": {},
   "outputs": [],
   "source": [
    "%%time\n",
    "sg_filter = dict(Filters=[{\"Name\": \"tag:Name\", \"Values\": [\"allow-inbound-ssh\"]}])\n",
    "sg_id_list = ec2h.get_security_group_ids(aws_region, sg_filter)\n",
    "ec2h.delete_sg(sg_id_list[0], aws_region)"
   ]
  },
  {
   "cell_type": "code",
   "execution_count": 16,
   "id": "edfe8395-2de4-4a14-b0b7-6e7b866a1ca2",
   "metadata": {},
   "outputs": [
    {
     "name": "stdout",
     "output_type": "stream",
     "text": [
      "CPU times: user 28.8 ms, sys: 0 ns, total: 28.8 ms\n",
      "Wall time: 323 ms\n"
     ]
    }
   ],
   "source": [
    "%%time\n",
    "sg_filter = dict(Filters=[{\"Name\": \"tag:Name\", \"Values\": [\"allow-inbound-ssh\"]}])\n",
    "ec2h.check_ec2_security_group_deletion(sg_filter, aws_region)"
   ]
  },
  {
   "cell_type": "markdown",
   "id": "26dc5d12-1854-491b-841a-4b19a7f0c652",
   "metadata": {},
   "source": [
    "## Delete the Kinesis Firehose Delivery Stream"
   ]
  },
  {
   "cell_type": "code",
   "execution_count": 17,
   "id": "b61a5023-17d8-47a7-8f3c-b468c0322b02",
   "metadata": {
    "tags": []
   },
   "outputs": [
    {
     "name": "stdout",
     "output_type": "stream",
     "text": [
      "CPU times: user 37.7 ms, sys: 0 ns, total: 37.7 ms\n",
      "Wall time: 336 ms\n"
     ]
    }
   ],
   "source": [
    "%%time\n",
    "firehose_deletion_response = knsfire.delete_kinesis_firehose_stream(\n",
    "    firehose_stream_name, aws_region\n",
    ")\n",
    "knsfire.check_kinesis_firehose_stream_seletion(firehose_stream_name, aws_region)"
   ]
  },
  {
   "cell_type": "markdown",
   "id": "62a0f22a-cd81-4618-af86-583ce64e0ee1",
   "metadata": {},
   "source": [
    "## IAM"
   ]
  },
  {
   "cell_type": "markdown",
   "id": "ef6b1d4d-c7ef-4f24-88b6-40ea17829986",
   "metadata": {},
   "source": [
    "### Delete IAM Firehose-S3 Policy"
   ]
  },
  {
   "cell_type": "markdown",
   "id": "c2c1edf6-fc88-44c9-861c-ea83cd8f21bd",
   "metadata": {},
   "source": [
    "Get Attached IAM Policies"
   ]
  },
  {
   "cell_type": "code",
   "execution_count": null,
   "id": "4b4571c8-4ece-4e5e-8ae5-d8a1436004f1",
   "metadata": {
    "tags": []
   },
   "outputs": [],
   "source": [
    "%%time\n",
    "iam_firehose_s3_policy_list = iamr.get_iam_policies(aws_region, attached=True)\n",
    "iam_policy_dict = [\n",
    "    iam_firehose_s3_policy\n",
    "    for iam_firehose_s3_policy in iam_firehose_s3_policy_list\n",
    "    if iam_firehose_s3_policy[\"PolicyName\"] == iam_policy_name\n",
    "][0]\n",
    "iam_policy_dict"
   ]
  },
  {
   "cell_type": "markdown",
   "id": "35f0e395-770b-4bb8-a5a9-3e14fde39eef",
   "metadata": {},
   "source": [
    "Delete IAM Firehose-S3 Policy"
   ]
  },
  {
   "cell_type": "code",
   "execution_count": null,
   "id": "cf6a54db-5736-48f7-a2b0-3c21e4ec24d2",
   "metadata": {
    "tags": []
   },
   "outputs": [],
   "source": [
    "%%time\n",
    "policy_detachment_response, policy_deletion_response = iamr.delete_iam_policy(\n",
    "    iam_policy_dict[\"Arn\"], iam_role_name, aws_region\n",
    ")\n",
    "print(policy_detachment_response)\n",
    "print(policy_deletion_response)"
   ]
  },
  {
   "cell_type": "markdown",
   "id": "553e70a8-fd65-4b06-8db4-ede2b595e444",
   "metadata": {},
   "source": [
    "### Delete IAM Role"
   ]
  },
  {
   "cell_type": "code",
   "execution_count": 20,
   "id": "70e918a6-00ff-4449-9a75-709dbe50ddab",
   "metadata": {},
   "outputs": [
    {
     "name": "stdout",
     "output_type": "stream",
     "text": [
      "CPU times: user 41.6 ms, sys: 0 ns, total: 41.6 ms\n",
      "Wall time: 279 ms\n"
     ]
    }
   ],
   "source": [
    "%%time\n",
    "iam_role_deletion_response = iamr.delete_iam_role(iam_role_name, aws_region)\n",
    "iamr.check_iam_role_deletion(iam_role_name, aws_region)"
   ]
  },
  {
   "cell_type": "markdown",
   "id": "0fbec973-7265-4966-bfc2-c489223436d3",
   "metadata": {},
   "source": [
    "## Delete CloudWatch Log Group and Stream"
   ]
  },
  {
   "cell_type": "code",
   "execution_count": 21,
   "id": "bdd98e4e-b389-48e3-ad43-e55b1e5a5a90",
   "metadata": {
    "tags": []
   },
   "outputs": [
    {
     "name": "stdout",
     "output_type": "stream",
     "text": [
      "CPU times: user 89 ms, sys: 5.22 ms, total: 94.2 ms\n",
      "Wall time: 561 ms\n"
     ]
    }
   ],
   "source": [
    "%%time\n",
    "cwlogs.delete_cw_log_group_stream(cw_logs_group_name, firehose_stream_name, aws_region)\n",
    "cwlogs.check_cw_log_group_deletion(cw_logs_group_name, aws_region)\n",
    "cwlogs.check_cw_log_stream_deletion(cw_logs_group_name, firehose_stream_name, aws_region)"
   ]
  },
  {
   "cell_type": "markdown",
   "id": "cbbf8af8-34e7-4863-be1a-3b95cbd93b7c",
   "metadata": {},
   "source": [
    "## (Optional) Delete the S3 Bucket"
   ]
  },
  {
   "cell_type": "code",
   "execution_count": 9,
   "id": "db79efeb-e9e5-423d-8185-9ee79f95fb7b",
   "metadata": {},
   "outputs": [
    {
     "name": "stdout",
     "output_type": "stream",
     "text": [
      "CPU times: user 12.6 ms, sys: 181 µs, total: 12.8 ms\n",
      "Wall time: 161 ms\n"
     ]
    }
   ],
   "source": [
    "%%time\n",
    "if s3_bucket_name:\n",
    "    s3_bucket_deletion_response = s3b.delete_s3_bucket(s3_bucket_name, aws_region)\n",
    "    s3b.check_s3_bucket_deletion(s3_bucket_name, aws_region)"
   ]
  }
 ],
 "metadata": {
  "kernelspec": {
   "display_name": "Python 3 (ipykernel)",
   "language": "python",
   "name": "python3"
  },
  "language_info": {
   "codemirror_mode": {
    "name": "ipython",
    "version": 3
   },
   "file_extension": ".py",
   "mimetype": "text/x-python",
   "name": "python",
   "nbconvert_exporter": "python",
   "pygments_lexer": "ipython3",
   "version": "3.9.7"
  }
 },
 "nbformat": 4,
 "nbformat_minor": 5
}
