{
 "cells": [
  {
   "cell_type": "markdown",
   "metadata": {
    "application/vnd.databricks.v1+cell": {
     "inputWidgets": {},
     "nuid": "389061d9-e067-4ff2-bff3-5d7257ef9b38",
     "showTitle": false,
     "title": ""
    }
   },
   "source": [
    "# Combine Raw Data Files using PySpark"
   ]
  },
  {
   "cell_type": "code",
   "execution_count": null,
   "metadata": {
    "application/vnd.databricks.v1+cell": {
     "inputWidgets": {},
     "nuid": "22e5cd43-a246-4b96-a60a-4a6115c5ddcd",
     "showTitle": false,
     "title": ""
    }
   },
   "outputs": [],
   "source": [
    "import os\n",
    "from functools import reduce\n",
    "from typing import List\n",
    "\n",
    "import boto3\n",
    "import pandas as pd\n",
    "from pyspark.sql import SparkSession, functions as F, types as T"
   ]
  },
  {
   "cell_type": "code",
   "execution_count": null,
   "metadata": {
    "application/vnd.databricks.v1+cell": {
     "inputWidgets": {},
     "nuid": "33783ec0-78df-470e-93c6-c4323f05923c",
     "showTitle": false,
     "title": ""
    }
   },
   "outputs": [],
   "source": [
    "# os.environ[\"AWS_ACCESS_KEY_ID\"] = \"\"\n",
    "# os.environ[\"AWS_SECRET_ACCESS_KEY\"] = \"\"\n",
    "# os.environ[\"AWS_REGION\"] = \"\"\n",
    "# os.environ[\"AWS_S3_BUCKET_NAME\"] = \"\""
   ]
  },
  {
   "cell_type": "markdown",
   "metadata": {
    "application/vnd.databricks.v1+cell": {
     "inputWidgets": {},
     "nuid": "889f0730-0ba0-49ca-994c-0e650b35732d",
     "showTitle": false,
     "title": ""
    }
   },
   "source": [
    "## About"
   ]
  },
  {
   "cell_type": "markdown",
   "metadata": {
    "application/vnd.databricks.v1+cell": {
     "inputWidgets": {},
     "nuid": "ad06136c-b9e3-4020-af8a-9c604777844e",
     "showTitle": false,
     "title": ""
    }
   },
   "source": [
    "In this notebook we will walk through how to use PySpark to perform the combination of the raw streamed data that was stored in S3.\n",
    "\n",
    "Previously, in `3_combine_raw_data.ipynb`, we used `pandas` to combine raw hourly streamed data into CSV files and then loaded all CSV files into a single PySpark `DataFrame` in `4_data_processing.ipynb` before performing quantitative analysis. Here, we will load the raw hourly streamed data directly into a single PySpark `DataFrame` and apply the same filters we applied in `3_combine_raw_data.ipynb`.\n",
    "\n",
    "Although we won't perform the quantitative (ML) analysis here, this notebook will show how we could use PySpark to work with raw data from S3.\n",
    "\n",
    "**Requirements**\n",
    "\n",
    "1. This notebook must be run on Databricks.\n",
    "2. Required Python libraries are\n",
    "   - `boto3`\n",
    "3. Four environment variables must be accessible for this notebook\n",
    "   - `AWS_S3_BUCKET_NAME`\n",
    "     - the name of the S3 bucket containing the raw streamed Twitter data\n",
    "   - `AWS_REGION`\n",
    "     - [AWS region](https://aws.amazon.com/about-aws/global-infrastructure/regions_az/) in which the S3 bucket was created\n",
    "     - [as a reminder, S3 buckets must have a globally unique name but are created in a specific region](https://www.quora.com/Why-are-S3-buckets-in-the-global-region)\n",
    "   - `AWS_ACCESS_KEY_ID`\n",
    "     - [AWS credential](https://docs.aws.amazon.com/cli/latest/userguide/cli-configure-files.html)\n",
    "   - `AWS_SECRET_ACCESS_KEY`\n",
    "     - [AWS credential](https://docs.aws.amazon.com/cli/latest/userguide/cli-configure-files.html)\n",
    "\n",
    "The Python package requirements to run this notebook are different to those listed in the `requirements.txt` file for this project."
   ]
  },
  {
   "cell_type": "markdown",
   "metadata": {
    "application/vnd.databricks.v1+cell": {
     "inputWidgets": {},
     "nuid": "a834ba25-d48e-46ca-8396-dff793372202",
     "showTitle": false,
     "title": ""
    }
   },
   "source": [
    "## User Inputs"
   ]
  },
  {
   "cell_type": "code",
   "execution_count": null,
   "metadata": {
    "application/vnd.databricks.v1+cell": {
     "inputWidgets": {},
     "nuid": "2cb01f87-8a8d-4136-97d6-8975b08e7819",
     "showTitle": false,
     "title": ""
    }
   },
   "outputs": [],
   "source": [
    "s3_bucket_name = os.getenv(\"AWS_S3_BUCKET_NAME\")\n",
    "path_to_folder = \"/datasets/twitter/kinesis-demo/\"\n",
    "\n",
    "# List of headers for all streamed twitter attributes\n",
    "headers = [\n",
    "    \"id\",\n",
    "    \"geo\",\n",
    "    \"coordinates\",\n",
    "    \"place\",\n",
    "    \"contributors\",\n",
    "    \"is_quote_status\",\n",
    "    \"quote_count\",\n",
    "    \"reply_count\",\n",
    "    \"retweet_count\",\n",
    "    \"favorite_count\",\n",
    "    \"favorited\",\n",
    "    \"retweeted\",\n",
    "    \"created_at\",\n",
    "    \"source\",\n",
    "    \"in_reply_to_user_id\",\n",
    "    \"in_reply_to_screen_name\",\n",
    "    \"source_text\",\n",
    "    \"place_id\",\n",
    "    \"place_url\",\n",
    "    \"place_place_type\",\n",
    "    \"place_name\",\n",
    "    \"place_full_name\",\n",
    "    \"place_country_code\",\n",
    "    \"place_country\",\n",
    "    \"place_bounding_box_type\",\n",
    "    \"place_bounding_box_coordinates\",\n",
    "    \"place_attributes\",\n",
    "    \"coords_type\",\n",
    "    \"coords_lon\",\n",
    "    \"coords_lat\",\n",
    "    \"geo_type\",\n",
    "    \"geo_lon\",\n",
    "    \"geo_lat\",\n",
    "    \"user_name\",\n",
    "    \"user_screen_name\",\n",
    "    \"user_followers\",\n",
    "    \"user_friends\",\n",
    "    \"user_listed\",\n",
    "    \"user_favourites\",\n",
    "    \"user_statuses\",\n",
    "    \"user_protected\",\n",
    "    \"user_verified\",\n",
    "    \"user_contributors_enabled\",\n",
    "    \"user_joined\",\n",
    "    \"user_location\",\n",
    "    \"retweeted_tweet\",\n",
    "    \"tweet_text_urls\",\n",
    "    \"tweet_text_hashtags\",\n",
    "    \"tweet_text_usernames\",\n",
    "    \"num_urls_in_tweet_text\",\n",
    "    \"num_users_in_tweet_text\",\n",
    "    \"num_hashtags_in_tweet_text\",\n",
    "    \"text\",\n",
    "]\n",
    "\n",
    "# List of partial strings to use to filter out unwanted tweets\n",
    "# - tweets containing sensitive tweet texts that were found retrospectively\n",
    "#   and should be excluded from the CSV files\n",
    "unwanted_partial_strings_list = [\n",
    "    # specific to crypto mining\n",
    "    \"crypto\",\n",
    "    \"token\",\n",
    "    \"koistarter\",\n",
    "    \"daostarter\",\n",
    "    \"decentralized\",\n",
    "    \"services\",\n",
    "    \"pancakeswap\",\n",
    "    \"eraxnft\",\n",
    "    \"browsing\",\n",
    "    \"kommunitas\",\n",
    "    \"hosting\",\n",
    "    \"internet\",\n",
    "    \"exipofficial\",\n",
    "    \"servers\",\n",
    "    \"wallet\",\n",
    "    \"liquidity\",\n",
    "    \"rewards\",\n",
    "    \"floki\",\n",
    "    \"10000000000000linkstelegram\",\n",
    "    \"dogecoin\",\n",
    "    \"czbinance\",\n",
    "    \"watch\",\n",
    "    \"binance\",\n",
    "    \"dogelonmars\",\n",
    "    \"cryptocurrency\",\n",
    "    \"hbomax\",\n",
    "    \"money\",\n",
    "    \"danheld\",\n",
    "    \"cybersecurity\",\n",
    "    # others\n",
    "    \"prostitution\",\n",
    "    \"nairobi\",\n",
    "    \"musembe\",\n",
    "    \"volcano detected\",\n",
    "    \"block-2\",\n",
    "    \"mo-greene\",\n",
    "    \"running scared2012\",\n",
    "    \"running scared 2012\",\n",
    "    \"massacres\",\n",
    "    \"eric ephriam chavez\",\n",
    "    \"drugs\",\n",
    "    \"tanzanite\",\n",
    "    \"vvsorigin\",\n",
    "    \"gemstonecarat\",\n",
    "    \"bin laden\",\n",
    "    \"saddam\",\n",
    "    \"webuye\",\n",
    "    \"bungoma\",\n",
    "    \"perished\",\n",
    "    \"popescu\",\n",
    "    \"whore\",\n",
    "    \"nasty\",\n",
    "    \"ethereum\",\n",
    "    \"pay someone\",\n",
    "    \"gamejoin\",\n",
    "    \"nft\",\n",
    "    \"breeding\",\n",
    "    \"seungkwan\",\n",
    "    \"woozi\",\n",
    "    \"hoshi\",\n",
    "    \"bitcrush\",\n",
    "    \"arcade\",\n",
    "    \"homeworkpay\",\n",
    "    \"homework\",\n",
    "    \"photocards\",\n",
    "    \"deta\",\n",
    "    \"marketing\",\n",
    "    \"dreamcast\",\n",
    "    \"sega\",\n",
    "    \"xbox\",\n",
    "    \"wii\",\n",
    "    \"ps4\",\n",
    "    \"kasama\",\n",
    "    \"nung\",\n",
    "    \"lahat\",\n",
    "    \"jinsoul\",\n",
    "    \"brunisoul\",\n",
    "    \"loona\",\n",
    "    \"taas\",\n",
    "    \"nung\",\n",
    "    \"essay\",\n",
    "    # religious\n",
    "    \"scriptures\",\n",
    "    \"methusealah\",\n",
    "    \"testament\",\n",
    "    \"yahweh\",\n",
    "    \"god\",\n",
    "    \"mullah\",\n",
    "    \"allah\",\n",
    "    \"clergy\",\n",
    "    \"mercy\",\n",
    "    \"morality\",\n",
    "    \"muslims,\",\n",
    "    \"hindus\",\n",
    "    \"buddhist\",\n",
    "    \"catholics\",\n",
    "    \"christians\",\n",
    "    \"atheist\",\n",
    "    # inappropriate\n",
    "    \"nazist\",\n",
    "    \"antifa\",\n",
    "    \"proud boys\",\n",
    "]"
   ]
  },
  {
   "cell_type": "code",
   "execution_count": null,
   "metadata": {
    "application/vnd.databricks.v1+cell": {
     "inputWidgets": {},
     "nuid": "4c54a7ab-34fb-4054-9271-3a06743da179",
     "showTitle": false,
     "title": ""
    }
   },
   "outputs": [],
   "source": [
    "pyspark_df_column_names = headers + [\"blank\"]\n",
    "\n",
    "region = os.getenv(\"AWS_REGION\")"
   ]
  },
  {
   "cell_type": "code",
   "execution_count": null,
   "metadata": {
    "application/vnd.databricks.v1+cell": {
     "inputWidgets": {},
     "nuid": "e5186186-39cd-406d-8f21-0c6d9047d606",
     "showTitle": false,
     "title": ""
    }
   },
   "outputs": [],
   "source": [
    "s3_client = boto3.client(\"s3\", region_name=region)"
   ]
  },
  {
   "cell_type": "code",
   "execution_count": null,
   "metadata": {
    "application/vnd.databricks.v1+cell": {
     "inputWidgets": {},
     "nuid": "038a044f-6fea-49f8-8b29-22d7bfaf06b1",
     "showTitle": false,
     "title": ""
    }
   },
   "outputs": [],
   "source": [
    "def mount_s3_bucket(access_key, secret_key, bucket_name, mount_folder):\n",
    "    \"\"\"Mount S3 bucket to Databricks filesystem.\"\"\"\n",
    "    ENCODED_SECRET_KEY = secret_key.replace(\"/\", \"%2F\")\n",
    "    \n",
    "    s3_path_wout_bucket_name = f\"{s3_bucket_name}/datasets/kinesis/2021\".split(\"/\", 1)[-1]\n",
    "    print (\"Mounting\", s3_path_wout_bucket_name)\n",
    "    \n",
    "    try:\n",
    "        # Unmount the data in case it was already mounted.\n",
    "        dbutils.fs.unmount(\"/mnt/%s\" % mount_folder)\n",
    "    except:\n",
    "        # If it fails to unmount it most likely wasn't mounted in the first place\n",
    "        print (\"Directory not unmounted: \", mount_folder)\n",
    "    finally:\n",
    "        # Lastly, mount our bucket.\n",
    "        dbutils.fs.mount(\"s3a://%s:%s@%s\" % (access_key, ENCODED_SECRET_KEY, bucket_name), \"/mnt/%s\" % mount_folder)\n",
    "        #dbutils.fs.mount(\"s3a://\"+ access_key + \":\" + secret_key + \"@\" + bucket_name, mount_folder)\n",
    "        print (\"The bucket path\", s3_path_wout_bucket_name, \"was mounted to\", mount_folder, \"\\n\")"
   ]
  },
  {
   "cell_type": "markdown",
   "metadata": {
    "application/vnd.databricks.v1+cell": {
     "inputWidgets": {},
     "nuid": "83eea3bc-7e65-4da7-9a35-0063da657599",
     "showTitle": false,
     "title": ""
    }
   },
   "source": [
    "## Get List of Hourly S3 Folders Containing Streamed Data"
   ]
  },
  {
   "cell_type": "markdown",
   "metadata": {
    "application/vnd.databricks.v1+cell": {
     "inputWidgets": {},
     "nuid": "2ee07a3e-c0fa-4530-8565-a9daf1246869",
     "showTitle": false,
     "title": ""
    }
   },
   "source": [
    "We'll use the [`boto3` S3 client](https://boto3.amazonaws.com/v1/documentation/api/latest/reference/services/s3.html#id221) to get a [flat list](https://coderwall.com/p/rcmaea/flatten-a-list-of-lists-in-one-line-in-python) of hourly folders for each day (during December of 2021) on which tweets were streamed by Kinesis into the S3 bucket"
   ]
  },
  {
   "cell_type": "code",
   "execution_count": null,
   "metadata": {
    "application/vnd.databricks.v1+cell": {
     "inputWidgets": {},
     "nuid": "eda1bb57-e513-498f-8ca7-1ff5b8113d91",
     "showTitle": false,
     "title": ""
    }
   },
   "outputs": [],
   "source": [
    "def get_hourly_folders_per_day(s3_bucket_name: str, path_to_folder: str, years_wanted: List[int]) -> List[str]:\n",
    "    \"\"\"Get list of hourly data folders in S3 bucket, for each day of streamed data.\"\"\"\n",
    "    list_of_hourly_dirs = []\n",
    "    for year in years_wanted:\n",
    "        monthly_prefixes = s3_client.list_objects_v2(\n",
    "            Bucket=s3_bucket_name,\n",
    "            Prefix=f\"{path_to_folder[1:]}{year}/\",\n",
    "            Delimiter=\"/\",\n",
    "        )[\"CommonPrefixes\"]\n",
    "        # print(monthly_prefixes)\n",
    "\n",
    "        for monthly_prefix in monthly_prefixes:\n",
    "            daily_prefixes = s3_client.list_objects_v2(\n",
    "                Bucket=s3_bucket_name,\n",
    "                Prefix=monthly_prefix[\"Prefix\"],\n",
    "                Delimiter=\"/\",\n",
    "            )[\"CommonPrefixes\"]\n",
    "            # print(monthly_prefix, daily_prefixes)\n",
    "\n",
    "            for daily_prefix in daily_prefixes:\n",
    "                hourly_prefixes = s3_client.list_objects_v2(\n",
    "                    Bucket=s3_bucket_name,\n",
    "                    Prefix=daily_prefix[\"Prefix\"],\n",
    "                    Delimiter=\"/\",\n",
    "                )[\"CommonPrefixes\"]\n",
    "                # print(\n",
    "                #     monthly_prefix,\n",
    "                #     # daily_prefixes,\n",
    "                #     hourly_prefixes,\n",
    "                # )\n",
    "                list_of_hourly_dirs.append(hourly_prefixes)\n",
    "    list_of_hourly_dirs_flat = [sl[\"Prefix\"] for l in list_of_hourly_dirs for sl in l]\n",
    "    return list_of_hourly_dirs_flat"
   ]
  },
  {
   "cell_type": "code",
   "execution_count": null,
   "metadata": {
    "application/vnd.databricks.v1+cell": {
     "inputWidgets": {},
     "nuid": "1db542bf-3a27-4908-a6bf-d963222f9f0e",
     "showTitle": false,
     "title": ""
    }
   },
   "outputs": [
    {
     "data": {
      "text/plain": [
       "datasets/twitter/kinesis-demo/2021/12/30/17/\n",
       "datasets/twitter/kinesis-demo/2021/12/31/18/\n",
       "datasets/twitter/kinesis-demo/2021/12/31/19/\n",
       "datasets/twitter/kinesis-demo/2021/12/31/20/\n",
       "datasets/twitter/kinesis-demo/2021/12/31/21/\n",
       "datasets/twitter/kinesis-demo/2021/12/31/22/\n",
       "datasets/twitter/kinesis-demo/2021/12/31/23/\n"
      ]
     },
     "metadata": {
      "application/vnd.databricks.v1+output": {
       "addedWidgets": {},
       "arguments": {},
       "data": "datasets/twitter/kinesis-demo/2021/12/30/17/\ndatasets/twitter/kinesis-demo/2021/12/31/18/\ndatasets/twitter/kinesis-demo/2021/12/31/19/\ndatasets/twitter/kinesis-demo/2021/12/31/20/\ndatasets/twitter/kinesis-demo/2021/12/31/21/\ndatasets/twitter/kinesis-demo/2021/12/31/22/\ndatasets/twitter/kinesis-demo/2021/12/31/23/\n",
       "datasetInfos": [],
       "metadata": {},
       "removedWidgets": [],
       "type": "ansi"
      }
     },
     "output_type": "display_data"
    }
   ],
   "source": [
    "# get list of hourly folders, per day\n",
    "list_of_hourly_dirs_flat = get_hourly_folders_per_day(s3_bucket_name, path_to_folder, [2021])\n",
    "print(f\"Found {len(list_of_hourly_dirs_flat):,} hourly folders\")\n",
    "for hourly_dirs in list_of_hourly_dirs_flat:\n",
    "    print(hourly_dirs)"
   ]
  },
  {
   "cell_type": "markdown",
   "metadata": {
    "application/vnd.databricks.v1+cell": {
     "inputWidgets": {},
     "nuid": "44d37a8b-b21f-4f6c-8321-77d8cb449311",
     "showTitle": false,
     "title": ""
    }
   },
   "source": [
    "In the next two sections, we'll use PySpark and `pandas` to read files from all these folders into a single PySpark and `pandas` `DataFrame` respectively. In the case of PySpark, we will first mount each of the hourly folders to a separate Databricks dataset and then read in these files from the Databricks filesystem. For `pandas`, we will use Python to read these files into a nested list and then convert this into a single `pandas.DataFrame`."
   ]
  },
  {
   "cell_type": "markdown",
   "metadata": {
    "application/vnd.databricks.v1+cell": {
     "inputWidgets": {},
     "nuid": "49c2ff8b-2cda-4df2-b0c7-763af13f239c",
     "showTitle": false,
     "title": ""
    }
   },
   "source": [
    "## Load Data with `pandas`"
   ]
  },
  {
   "cell_type": "markdown",
   "metadata": {
    "application/vnd.databricks.v1+cell": {
     "inputWidgets": {},
     "nuid": "9f0bc0f8-112b-4853-9159-611111725f74",
     "showTitle": false,
     "title": ""
    }
   },
   "source": [
    "We'll now load all the files listed above into a `pandas` `DataFrame` and perform some basic filtering of the data. We'll then repeat this using a PySpark `DataFrame`. This data can fit into memory in a single `pandas` `DataFrame` since we have only selected the tweet files (above) that were streamed in 2021, which covered a total of seven hours on December 30 and 31.\n",
    "\n",
    "This will allow us to compare the data filtering performed with PySpark and `pandas`."
   ]
  },
  {
   "cell_type": "markdown",
   "metadata": {
    "application/vnd.databricks.v1+cell": {
     "inputWidgets": {},
     "nuid": "8bd37488-03c8-4428-95ca-227d673f7c2c",
     "showTitle": false,
     "title": ""
    }
   },
   "source": [
    "### Get List of Contents of Streamed Data Files"
   ]
  },
  {
   "cell_type": "markdown",
   "metadata": {
    "application/vnd.databricks.v1+cell": {
     "inputWidgets": {},
     "nuid": "b9519379-24ad-4818-af95-d372d793f15b",
     "showTitle": false,
     "title": ""
    }
   },
   "source": [
    "We'll get a flat list of the contents of all files in each hourly folder"
   ]
  },
  {
   "cell_type": "code",
   "execution_count": null,
   "metadata": {
    "application/vnd.databricks.v1+cell": {
     "inputWidgets": {},
     "nuid": "5977b38e-0509-490d-9bb9-7a020aefc40d",
     "showTitle": false,
     "title": ""
    }
   },
   "outputs": [],
   "source": [
    "def read_files_per_hour(s3_bucket_name: str, flat_list_of_hourly_dirs: List[str]) -> List[str]:\n",
    "    \"\"\"Read individual files in each hourly folder in the S3 bucket.\"\"\"\n",
    "    file_contents_all = []\n",
    "    for list_of_hourly_dirs in flat_list_of_hourly_dirs:\n",
    "        objects_hourly_all = s3_client.list_objects_v2(Bucket=s3_bucket_name, Prefix=list_of_hourly_dirs)\n",
    "        file_contents_list = []\n",
    "        for file_obj_dict in objects_hourly_all[\"Contents\"]:\n",
    "            file_body = s3_client.get_object(Bucket=s3_bucket_name, Key=file_obj_dict.get(\"Key\"))[\"Body\"].read()\n",
    "            file_contents_list.append(file_body)\n",
    "        print(f\"{list_of_hourly_dirs} contains {len(file_contents_list):,} file objects\")\n",
    "        file_contents_all.append(file_contents_list)\n",
    "    file_contents_all_flat = [\n",
    "        file_contents\n",
    "        for file_contents_list in file_contents_all\n",
    "        for file_contents in file_contents_list\n",
    "    ]\n",
    "    return file_contents_all_flat"
   ]
  },
  {
   "cell_type": "code",
   "execution_count": null,
   "metadata": {
    "application/vnd.databricks.v1+cell": {
     "inputWidgets": {},
     "nuid": "df1bff36-61d8-4aa0-a6b9-7d1626a54b97",
     "showTitle": false,
     "title": ""
    }
   },
   "outputs": [
    {
     "data": {
      "text/plain": [
       "datasets/twitter/kinesis-demo/2021/12/30/17/ contains 15 file objects\n",
       "datasets/twitter/kinesis-demo/2021/12/31/18/ contains 40 file objects\n",
       "datasets/twitter/kinesis-demo/2021/12/31/19/ contains 58 file objects\n",
       "datasets/twitter/kinesis-demo/2021/12/31/20/ contains 59 file objects\n",
       "datasets/twitter/kinesis-demo/2021/12/31/21/ contains 59 file objects\n",
       "datasets/twitter/kinesis-demo/2021/12/31/22/ contains 58 file objects\n",
       "datasets/twitter/kinesis-demo/2021/12/31/23/ contains 59 file objects\n",
       "Total number of file objects = 348\n"
      ]
     },
     "metadata": {
      "application/vnd.databricks.v1+output": {
       "addedWidgets": {},
       "arguments": {},
       "data": "datasets/twitter/kinesis-demo/2021/12/30/17/ contains 15 file objects\ndatasets/twitter/kinesis-demo/2021/12/31/18/ contains 40 file objects\ndatasets/twitter/kinesis-demo/2021/12/31/19/ contains 58 file objects\ndatasets/twitter/kinesis-demo/2021/12/31/20/ contains 59 file objects\ndatasets/twitter/kinesis-demo/2021/12/31/21/ contains 59 file objects\ndatasets/twitter/kinesis-demo/2021/12/31/22/ contains 58 file objects\ndatasets/twitter/kinesis-demo/2021/12/31/23/ contains 59 file objects\nTotal number of file objects = 348\n",
       "datasetInfos": [],
       "metadata": {},
       "removedWidgets": [],
       "type": "ansi"
      }
     },
     "output_type": "display_data"
    }
   ],
   "source": [
    "# Read all files from hourly directories\n",
    "file_contents_all_flat = read_files_per_hour(s3_bucket_name, list_of_hourly_dirs_flat)\n",
    "print(f\"Total number of file objects = {len(file_contents_all_flat):,}\")"
   ]
  },
  {
   "cell_type": "markdown",
   "metadata": {
    "application/vnd.databricks.v1+cell": {
     "inputWidgets": {},
     "nuid": "f8fa8ce3-6e10-4d74-a548-4364c9a3d272",
     "showTitle": false,
     "title": ""
    }
   },
   "source": [
    "### Convert List of Streamed Data File Contents into `pandas.DataFrame`"
   ]
  },
  {
   "cell_type": "markdown",
   "metadata": {
    "application/vnd.databricks.v1+cell": {
     "inputWidgets": {},
     "nuid": "79cdf06d-c4d2-4534-b657-a18ab5ce6c58",
     "showTitle": false,
     "title": ""
    }
   },
   "source": [
    "We'll now\n",
    "- load all files in all hourly folders listed above into a single `pandas` `DataFrame`\n",
    "- (filter 1) drop blank rows and then drop rows with no text\n",
    "- (filter 2) remove rows where the text of the tweet (in the `text` column) contains words that are not indicative of the subject (tweets related to space news) we are trying to explore here"
   ]
  },
  {
   "cell_type": "code",
   "execution_count": null,
   "metadata": {
    "application/vnd.databricks.v1+cell": {
     "inputWidgets": {},
     "nuid": "d05c1c09-52c6-4298-8724-4702087ddf0b",
     "showTitle": false,
     "title": ""
    }
   },
   "outputs": [
    {
     "data": {
      "text/plain": [
       "Number of rows after loading data = 29,006\n",
       "Number of rows after dropping missing values = 28,942\n",
       "Number of rows after removing unwanted partial tweets = 25,971\n"
      ]
     },
     "metadata": {
      "application/vnd.databricks.v1+output": {
       "addedWidgets": {},
       "arguments": {},
       "data": "Number of rows after loading data = 29,006\nNumber of rows after dropping missing values = 28,942\nNumber of rows after removing unwanted partial tweets = 25,971\n",
       "datasetInfos": [],
       "metadata": {},
       "removedWidgets": [],
       "type": "ansi"
      }
     },
     "output_type": "display_data"
    },
    {
     "data": {
      "text/html": [
       "<style scoped>\n",
       "  .table-result-container {\n",
       "    max-height: 300px;\n",
       "    overflow: auto;\n",
       "  }\n",
       "  table, th, td {\n",
       "    border: 1px solid black;\n",
       "    border-collapse: collapse;\n",
       "  }\n",
       "  th, td {\n",
       "    padding: 5px;\n",
       "  }\n",
       "  th {\n",
       "    text-align: left;\n",
       "  }\n",
       "</style><div class='table-result-container'><table class='table-result'><thead style='background-color: white'><tr><th>id</th><th>geo</th><th>coordinates</th><th>place</th><th>contributors</th><th>is_quote_status</th><th>quote_count</th><th>reply_count</th><th>retweet_count</th><th>favorite_count</th><th>favorited</th><th>retweeted</th><th>created_at</th><th>source</th><th>in_reply_to_user_id</th><th>in_reply_to_screen_name</th><th>source_text</th><th>place_id</th><th>place_url</th><th>place_place_type</th><th>place_name</th><th>place_full_name</th><th>place_country_code</th><th>place_country</th><th>place_bounding_box_type</th><th>place_bounding_box_coordinates</th><th>place_attributes</th><th>coords_type</th><th>coords_lon</th><th>coords_lat</th><th>geo_type</th><th>geo_lon</th><th>geo_lat</th><th>user_name</th><th>user_screen_name</th><th>user_followers</th><th>user_friends</th><th>user_listed</th><th>user_favourites</th><th>user_statuses</th><th>user_protected</th><th>user_verified</th><th>user_contributors_enabled</th><th>user_joined</th><th>user_location</th><th>retweeted_tweet</th><th>tweet_text_urls</th><th>tweet_text_hashtags</th><th>tweet_text_usernames</th><th>num_urls_in_tweet_text</th><th>num_users_in_tweet_text</th><th>num_hashtags_in_tweet_text</th><th>text</th></tr></thead><tbody><tr><td>1476607990027407364</td><td>None</td><td>None</td><td>None</td><td>None</td><td>False</td><td>0</td><td>0</td><td>0</td><td>0</td><td>False</td><td>False</td><td>Thu Dec 30 17:35:53 +0000 2021</td><td><a href=\"http://twitter.com/download/iphone\" rel=\"nofollow\">Twitter for iPhone</a></td><td>None</td><td>None</td><td>Twitter for iPhone</td><td></td><td></td><td></td><td></td><td></td><td></td><td></td><td></td><td>[[]]</td><td>{}</td><td></td><td></td><td></td><td></td><td></td><td></td><td>Happy New Years 2022</td><td>GuessWho122021</td><td>216</td><td>255</td><td>0</td><td>1165</td><td>3214</td><td>False</td><td>False</td><td>False</td><td>Sat Nov 27 20:38:14 +0000 2021</td><td>World Wide</td><td>no</td><td>https://t.co/yH8cBVuMj3</td><td></td><td></td><td>1</td><td>0</td><td>0</td><td>Space colonists may turn to cannibalism, scientists warn:The first generations to occupy space outposts may be left with few nutrition choices, scholars believe</td></tr><tr><td>1476607992586018824</td><td>None</td><td>None</td><td>None</td><td>None</td><td>True</td><td>0</td><td>0</td><td>0</td><td>0</td><td>False</td><td>False</td><td>Thu Dec 30 17:35:54 +0000 2021</td><td><a href=\"http://twitter.com/download/iphone\" rel=\"nofollow\">Twitter for iPhone</a></td><td>None</td><td>None</td><td>Twitter for iPhone</td><td></td><td></td><td></td><td></td><td></td><td></td><td></td><td></td><td>[[]]</td><td>{}</td><td></td><td></td><td></td><td></td><td></td><td></td><td>TheToysRusKid</td><td>JC1of1</td><td>202</td><td>313</td><td>0</td><td>18454</td><td>53653</td><td>False</td><td>False</td><td>False</td><td>Tue Sep 04 17:18:46 +0000 2018</td><td>Southern California </td><td>no</td><td></td><td></td><td></td><td>0</td><td>0</td><td>0</td><td>1. Beat Street2. Harlem Knights 3. National Lampoons Vacation 4. Bachelor Party 5. Do The right Thing6. How High7. Weird Science 8. Clerks 9. Beverly Hills Cop10. Goodfellas</td></tr><tr><td>1476607997405184000</td><td>None</td><td>None</td><td>None</td><td>None</td><td>False</td><td>0</td><td>0</td><td>0</td><td>0</td><td>False</td><td>False</td><td>Thu Dec 30 17:35:55 +0000 2021</td><td><a href=\"http://publicize.wp.com/\" rel=\"nofollow\">WordPress.com</a></td><td>None</td><td>None</td><td>WordPress.com</td><td></td><td></td><td></td><td></td><td></td><td></td><td></td><td></td><td>[[]]</td><td>{}</td><td></td><td></td><td></td><td></td><td></td><td></td><td>BCABA Network</td><td>BcabaNetwork</td><td>2581</td><td>4710</td><td>42</td><td>3027</td><td>238152</td><td>False</td><td>False</td><td>False</td><td>Wed May 25 10:54:46 +0000 2016</td><td>West Midlands, England</td><td>no</td><td>https://t.co/kPAMK3TxSL</td><td></td><td></td><td>1</td><td>0</td><td>0</td><td>NASA Plans Coverage of Webb Space Telescope Deployments</td></tr><tr><td>1476607997925330945</td><td>None</td><td>None</td><td>None</td><td>None</td><td>False</td><td>0</td><td>0</td><td>0</td><td>0</td><td>False</td><td>False</td><td>Thu Dec 30 17:35:55 +0000 2021</td><td><a href=\"http://twitter.com/download/iphone\" rel=\"nofollow\">Twitter for iPhone</a></td><td>None</td><td>None</td><td>Twitter for iPhone</td><td></td><td></td><td></td><td></td><td></td><td></td><td></td><td></td><td>[[]]</td><td>{}</td><td></td><td></td><td></td><td></td><td></td><td></td><td>Jude Jackson 💙 Solidarity with #NHS workers</td><td>JudeJack</td><td>2138</td><td>4999</td><td>157</td><td>79973</td><td>109065</td><td>False</td><td>False</td><td>False</td><td>Sat Feb 21 14:48:52 +0000 2009</td><td>International</td><td>no</td><td>https://t.co/cRcHiFCHS0</td><td></td><td></td><td>1</td><td>0</td><td>0</td><td>Exciting times!Back in 1915, Einstein published his theory of General Relativity. 1917 the Bolsheviks led the worlds’ first proletarian revolution. Humanity is about to peer back to the beginning of time, and the world is poised once again for revolution.</td></tr><tr><td>1476608000114802695</td><td>None</td><td>None</td><td>None</td><td>None</td><td>False</td><td>0</td><td>0</td><td>0</td><td>0</td><td>False</td><td>False</td><td>Thu Dec 30 17:35:55 +0000 2021</td><td><a href=\"http://twitter.com/download/iphone\" rel=\"nofollow\">Twitter for iPhone</a></td><td>None</td><td>None</td><td>Twitter for iPhone</td><td></td><td></td><td></td><td></td><td></td><td></td><td></td><td></td><td>[[]]</td><td>{}</td><td></td><td></td><td></td><td></td><td></td><td></td><td>Alan Stern</td><td>AlanStern</td><td>43743</td><td>1719</td><td>1163</td><td>33719</td><td>40081</td><td>False</td><td>False</td><td>False</td><td>Sat Jul 26 17:50:37 +0000 2008</td><td>Niwot, CO</td><td>no</td><td></td><td></td><td>ng_rippel|rhwells79|AlanStern|NBCNews</td><td>0</td><td>4</td><td>0</td><td>    Obviously, since science is a mental mode of nature and Pluto doesn’t have a mind. But having it is the very essence of science and that requires functionally useful concepts like “planet”. Non-functional concepts hurt the progress of science and the public’s insights into it.</td></tr></tbody></table></div>"
      ]
     },
     "metadata": {
      "application/vnd.databricks.v1+output": {
       "addedWidgets": {},
       "aggData": [],
       "aggError": "",
       "aggOverflow": false,
       "aggSchema": [],
       "aggSeriesLimitReached": false,
       "aggType": "",
       "arguments": {},
       "columnCustomDisplayInfos": {},
       "data": [
        [
         "1476607990027407364",
         "None",
         "None",
         "None",
         "None",
         "False",
         "0",
         "0",
         "0",
         "0",
         "False",
         "False",
         "Thu Dec 30 17:35:53 +0000 2021",
         "<a href=\"http://twitter.com/download/iphone\" rel=\"nofollow\">Twitter for iPhone</a>",
         "None",
         "None",
         "Twitter for iPhone",
         "",
         "",
         "",
         "",
         "",
         "",
         "",
         "",
         "[[]]",
         "{}",
         "",
         "",
         "",
         "",
         "",
         "",
         "Happy New Years 2022",
         "GuessWho122021",
         "216",
         "255",
         "0",
         "1165",
         "3214",
         "False",
         "False",
         "False",
         "Sat Nov 27 20:38:14 +0000 2021",
         "World Wide",
         "no",
         "https://t.co/yH8cBVuMj3",
         "",
         "",
         "1",
         "0",
         "0",
         "Space colonists may turn to cannibalism, scientists warn:The first generations to occupy space outposts may be left with few nutrition choices, scholars believe"
        ],
        [
         "1476607992586018824",
         "None",
         "None",
         "None",
         "None",
         "True",
         "0",
         "0",
         "0",
         "0",
         "False",
         "False",
         "Thu Dec 30 17:35:54 +0000 2021",
         "<a href=\"http://twitter.com/download/iphone\" rel=\"nofollow\">Twitter for iPhone</a>",
         "None",
         "None",
         "Twitter for iPhone",
         "",
         "",
         "",
         "",
         "",
         "",
         "",
         "",
         "[[]]",
         "{}",
         "",
         "",
         "",
         "",
         "",
         "",
         "TheToysRusKid",
         "JC1of1",
         "202",
         "313",
         "0",
         "18454",
         "53653",
         "False",
         "False",
         "False",
         "Tue Sep 04 17:18:46 +0000 2018",
         "Southern California ",
         "no",
         "",
         "",
         "",
         "0",
         "0",
         "0",
         "1. Beat Street2. Harlem Knights 3. National Lampoons Vacation 4. Bachelor Party 5. Do The right Thing6. How High7. Weird Science 8. Clerks 9. Beverly Hills Cop10. Goodfellas"
        ],
        [
         "1476607997405184000",
         "None",
         "None",
         "None",
         "None",
         "False",
         "0",
         "0",
         "0",
         "0",
         "False",
         "False",
         "Thu Dec 30 17:35:55 +0000 2021",
         "<a href=\"http://publicize.wp.com/\" rel=\"nofollow\">WordPress.com</a>",
         "None",
         "None",
         "WordPress.com",
         "",
         "",
         "",
         "",
         "",
         "",
         "",
         "",
         "[[]]",
         "{}",
         "",
         "",
         "",
         "",
         "",
         "",
         "BCABA Network",
         "BcabaNetwork",
         "2581",
         "4710",
         "42",
         "3027",
         "238152",
         "False",
         "False",
         "False",
         "Wed May 25 10:54:46 +0000 2016",
         "West Midlands, England",
         "no",
         "https://t.co/kPAMK3TxSL",
         "",
         "",
         "1",
         "0",
         "0",
         "NASA Plans Coverage of Webb Space Telescope Deployments"
        ],
        [
         "1476607997925330945",
         "None",
         "None",
         "None",
         "None",
         "False",
         "0",
         "0",
         "0",
         "0",
         "False",
         "False",
         "Thu Dec 30 17:35:55 +0000 2021",
         "<a href=\"http://twitter.com/download/iphone\" rel=\"nofollow\">Twitter for iPhone</a>",
         "None",
         "None",
         "Twitter for iPhone",
         "",
         "",
         "",
         "",
         "",
         "",
         "",
         "",
         "[[]]",
         "{}",
         "",
         "",
         "",
         "",
         "",
         "",
         "Jude Jackson 💙 Solidarity with #NHS workers",
         "JudeJack",
         "2138",
         "4999",
         "157",
         "79973",
         "109065",
         "False",
         "False",
         "False",
         "Sat Feb 21 14:48:52 +0000 2009",
         "International",
         "no",
         "https://t.co/cRcHiFCHS0",
         "",
         "",
         "1",
         "0",
         "0",
         "Exciting times!Back in 1915, Einstein published his theory of General Relativity. 1917 the Bolsheviks led the worlds’ first proletarian revolution. Humanity is about to peer back to the beginning of time, and the world is poised once again for revolution."
        ],
        [
         "1476608000114802695",
         "None",
         "None",
         "None",
         "None",
         "False",
         "0",
         "0",
         "0",
         "0",
         "False",
         "False",
         "Thu Dec 30 17:35:55 +0000 2021",
         "<a href=\"http://twitter.com/download/iphone\" rel=\"nofollow\">Twitter for iPhone</a>",
         "None",
         "None",
         "Twitter for iPhone",
         "",
         "",
         "",
         "",
         "",
         "",
         "",
         "",
         "[[]]",
         "{}",
         "",
         "",
         "",
         "",
         "",
         "",
         "Alan Stern",
         "AlanStern",
         "43743",
         "1719",
         "1163",
         "33719",
         "40081",
         "False",
         "False",
         "False",
         "Sat Jul 26 17:50:37 +0000 2008",
         "Niwot, CO",
         "no",
         "",
         "",
         "ng_rippel|rhwells79|AlanStern|NBCNews",
         "0",
         "4",
         "0",
         "    Obviously, since science is a mental mode of nature and Pluto doesn’t have a mind. But having it is the very essence of science and that requires functionally useful concepts like “planet”. Non-functional concepts hurt the progress of science and the public’s insights into it."
        ]
       ],
       "datasetInfos": [],
       "dbfsResultPath": null,
       "isJsonSchema": true,
       "metadata": {},
       "overflow": false,
       "plotOptions": {
        "customPlotOptions": {},
        "displayType": "table",
        "pivotAggregation": null,
        "pivotColumns": null,
        "xColumns": null,
        "yColumns": null
       },
       "removedWidgets": [],
       "schema": [
        {
         "metadata": "{}",
         "name": "id",
         "type": "\"string\""
        },
        {
         "metadata": "{}",
         "name": "geo",
         "type": "\"string\""
        },
        {
         "metadata": "{}",
         "name": "coordinates",
         "type": "\"string\""
        },
        {
         "metadata": "{}",
         "name": "place",
         "type": "\"string\""
        },
        {
         "metadata": "{}",
         "name": "contributors",
         "type": "\"string\""
        },
        {
         "metadata": "{}",
         "name": "is_quote_status",
         "type": "\"string\""
        },
        {
         "metadata": "{}",
         "name": "quote_count",
         "type": "\"string\""
        },
        {
         "metadata": "{}",
         "name": "reply_count",
         "type": "\"string\""
        },
        {
         "metadata": "{}",
         "name": "retweet_count",
         "type": "\"string\""
        },
        {
         "metadata": "{}",
         "name": "favorite_count",
         "type": "\"string\""
        },
        {
         "metadata": "{}",
         "name": "favorited",
         "type": "\"string\""
        },
        {
         "metadata": "{}",
         "name": "retweeted",
         "type": "\"string\""
        },
        {
         "metadata": "{}",
         "name": "created_at",
         "type": "\"string\""
        },
        {
         "metadata": "{}",
         "name": "source",
         "type": "\"string\""
        },
        {
         "metadata": "{}",
         "name": "in_reply_to_user_id",
         "type": "\"string\""
        },
        {
         "metadata": "{}",
         "name": "in_reply_to_screen_name",
         "type": "\"string\""
        },
        {
         "metadata": "{}",
         "name": "source_text",
         "type": "\"string\""
        },
        {
         "metadata": "{}",
         "name": "place_id",
         "type": "\"string\""
        },
        {
         "metadata": "{}",
         "name": "place_url",
         "type": "\"string\""
        },
        {
         "metadata": "{}",
         "name": "place_place_type",
         "type": "\"string\""
        },
        {
         "metadata": "{}",
         "name": "place_name",
         "type": "\"string\""
        },
        {
         "metadata": "{}",
         "name": "place_full_name",
         "type": "\"string\""
        },
        {
         "metadata": "{}",
         "name": "place_country_code",
         "type": "\"string\""
        },
        {
         "metadata": "{}",
         "name": "place_country",
         "type": "\"string\""
        },
        {
         "metadata": "{}",
         "name": "place_bounding_box_type",
         "type": "\"string\""
        },
        {
         "metadata": "{}",
         "name": "place_bounding_box_coordinates",
         "type": "\"string\""
        },
        {
         "metadata": "{}",
         "name": "place_attributes",
         "type": "\"string\""
        },
        {
         "metadata": "{}",
         "name": "coords_type",
         "type": "\"string\""
        },
        {
         "metadata": "{}",
         "name": "coords_lon",
         "type": "\"string\""
        },
        {
         "metadata": "{}",
         "name": "coords_lat",
         "type": "\"string\""
        },
        {
         "metadata": "{}",
         "name": "geo_type",
         "type": "\"string\""
        },
        {
         "metadata": "{}",
         "name": "geo_lon",
         "type": "\"string\""
        },
        {
         "metadata": "{}",
         "name": "geo_lat",
         "type": "\"string\""
        },
        {
         "metadata": "{}",
         "name": "user_name",
         "type": "\"string\""
        },
        {
         "metadata": "{}",
         "name": "user_screen_name",
         "type": "\"string\""
        },
        {
         "metadata": "{}",
         "name": "user_followers",
         "type": "\"string\""
        },
        {
         "metadata": "{}",
         "name": "user_friends",
         "type": "\"string\""
        },
        {
         "metadata": "{}",
         "name": "user_listed",
         "type": "\"string\""
        },
        {
         "metadata": "{}",
         "name": "user_favourites",
         "type": "\"string\""
        },
        {
         "metadata": "{}",
         "name": "user_statuses",
         "type": "\"string\""
        },
        {
         "metadata": "{}",
         "name": "user_protected",
         "type": "\"string\""
        },
        {
         "metadata": "{}",
         "name": "user_verified",
         "type": "\"string\""
        },
        {
         "metadata": "{}",
         "name": "user_contributors_enabled",
         "type": "\"string\""
        },
        {
         "metadata": "{}",
         "name": "user_joined",
         "type": "\"string\""
        },
        {
         "metadata": "{}",
         "name": "user_location",
         "type": "\"string\""
        },
        {
         "metadata": "{}",
         "name": "retweeted_tweet",
         "type": "\"string\""
        },
        {
         "metadata": "{}",
         "name": "tweet_text_urls",
         "type": "\"string\""
        },
        {
         "metadata": "{}",
         "name": "tweet_text_hashtags",
         "type": "\"string\""
        },
        {
         "metadata": "{}",
         "name": "tweet_text_usernames",
         "type": "\"string\""
        },
        {
         "metadata": "{}",
         "name": "num_urls_in_tweet_text",
         "type": "\"string\""
        },
        {
         "metadata": "{}",
         "name": "num_users_in_tweet_text",
         "type": "\"string\""
        },
        {
         "metadata": "{}",
         "name": "num_hashtags_in_tweet_text",
         "type": "\"string\""
        },
        {
         "metadata": "{}",
         "name": "text",
         "type": "\"string\""
        }
       ],
       "type": "table"
      }
     },
     "output_type": "display_data"
    }
   ],
   "source": [
    "nested_list_of_records = []\n",
    "for file_body in file_contents_all_flat:\n",
    "    list_of_records = file_body.decode(\"utf-8\").split(\"\\n\")[:-1]\n",
    "    nested_list_of_records.append(list_of_records)\n",
    "dfp = pd.DataFrame(\n",
    "    [record.split(\"\\t\")[:-1] for sl in nested_list_of_records for record in sl],\n",
    "    columns=headers\n",
    ")\n",
    "\n",
    "print(f\"Number of rows after loading data = {len(dfp):,}\")\n",
    "\n",
    "# filter 1\n",
    "dfp = dfp.dropna(how=\"all\")\n",
    "\n",
    "dfp = dfp.dropna(subset=[\"text\"])\n",
    "\n",
    "print(f\"Number of rows after dropping missing values = {len(dfp):,}\")\n",
    "\n",
    "# filter 2\n",
    "unwanted_partial_strings = \"|\".join(unwanted_partial_strings_list)\n",
    "dfp = dfp[~dfp[\"text\"].str.lower().str.contains(unwanted_partial_strings)]\n",
    "\n",
    "print(f\"Number of rows after removing unwanted partial tweets = {len(dfp):,}\")\n",
    "\n",
    "dfp = dfp.sort_values(by=[\"id\"], ascending=[True])\n",
    "\n",
    "display(dfp.head())"
   ]
  },
  {
   "cell_type": "markdown",
   "metadata": {
    "application/vnd.databricks.v1+cell": {
     "inputWidgets": {},
     "nuid": "57645d76-c23c-4e64-ba26-963261655b05",
     "showTitle": false,
     "title": ""
    }
   },
   "source": [
    "## Mount Hourly S3 folders to Databricks File System"
   ]
  },
  {
   "cell_type": "markdown",
   "metadata": {
    "application/vnd.databricks.v1+cell": {
     "inputWidgets": {},
     "nuid": "d691edaf-c27c-4b3a-ad9e-f851203a7fcb",
     "showTitle": false,
     "title": ""
    }
   },
   "source": [
    "We'll now mount the folders of hourly data on S3 to the Databricks file system, so that we can use PySpark to read all the individual files (inside each hourly folder) into a single PySpark `DataFrame`. Each folder of hourly data files will be mounted to a separate [Databricks dataset](https://docs.databricks.com/data/databricks-datasets.html) and then get a flat list"
   ]
  },
  {
   "cell_type": "code",
   "execution_count": null,
   "metadata": {
    "application/vnd.databricks.v1+cell": {
     "inputWidgets": {},
     "nuid": "3b701df0-989c-48d6-95a1-e265ca839cd6",
     "showTitle": false,
     "title": ""
    }
   },
   "outputs": [],
   "source": [
    "def mount_all_hourly_files(s3_bucket_name: str, flat_list_of_hourly_dirs: List[str]) -> List[str]:\n",
    "    \"\"\"Mount every folder of hourly data files to a separate Databricks dataset.\"\"\"\n",
    "    dataset_names = []\n",
    "    for hourly_path in flat_list_of_hourly_dirs:\n",
    "        hourly_dataset_name = hourly_path.split(\"/\", 2)[-1][:-1].replace(\"/\", \"_\")\n",
    "        print(f\"Mounting all files in {hourly_path} to {hourly_dataset_name}\")\n",
    "        mount_s3_bucket(\n",
    "            os.getenv(\"AWS_ACCESS_KEY_ID\"),\n",
    "            os.getenv(\"AWS_SECRET_ACCESS_KEY\"),\n",
    "            f\"{s3_bucket_name}/{hourly_path}\",\n",
    "            hourly_dataset_name,\n",
    "        )\n",
    "        dataset_names.append(hourly_dataset_name)\n",
    "    return dataset_names\n",
    "\n",
    "\n",
    "def get_dbfs_mounted_filepaths(dataset_names: List[str]) -> List[List[str]]:\n",
    "    \"\"\"Get filepaths from mounted Databricks datasets.\"\"\"\n",
    "    files_full = [file for dataset_name in dataset_names for file in dbutils.fs.ls(f\"/mnt/{dataset_name}/\")]\n",
    "    file_paths_full = [file.path for file in files_full]\n",
    "    return [file_paths_full, files_full]"
   ]
  },
  {
   "cell_type": "markdown",
   "metadata": {
    "application/vnd.databricks.v1+cell": {
     "inputWidgets": {},
     "nuid": "5db18c87-5778-4752-98a4-94cb8cc7e0d0",
     "showTitle": false,
     "title": ""
    }
   },
   "source": [
    "We'll first mount the files contained in each hourly folder, from the list we found earlier, to a single Databricks dataset of the filepaths to all the files in each folder"
   ]
  },
  {
   "cell_type": "code",
   "execution_count": null,
   "metadata": {
    "application/vnd.databricks.v1+cell": {
     "inputWidgets": {},
     "nuid": "f4aff5c6-ce31-486b-b349-094a9177671e",
     "showTitle": false,
     "title": ""
    }
   },
   "outputs": [
    {
     "data": {
      "text/plain": [
       "Mounting all files in datasets/twitter/kinesis-demo/2021/12/30/17/ to kinesis-demo_2021_12_30_17\n",
       "Mounting datasets/kinesis/2021\n",
       "/mnt/kinesis-demo_2021_12_30_17 has been unmounted.\n",
       "The bucket path datasets/kinesis/2021 was mounted to kinesis-demo_2021_12_30_17 \n",
       "\n",
       "Mounting all files in datasets/twitter/kinesis-demo/2021/12/31/18/ to kinesis-demo_2021_12_31_18\n",
       "Mounting datasets/kinesis/2021\n",
       "/mnt/kinesis-demo_2021_12_31_18 has been unmounted.\n",
       "The bucket path datasets/kinesis/2021 was mounted to kinesis-demo_2021_12_31_18 \n",
       "\n",
       "Mounting all files in datasets/twitter/kinesis-demo/2021/12/31/19/ to kinesis-demo_2021_12_31_19\n",
       "Mounting datasets/kinesis/2021\n",
       "/mnt/kinesis-demo_2021_12_31_19 has been unmounted.\n",
       "The bucket path datasets/kinesis/2021 was mounted to kinesis-demo_2021_12_31_19 \n",
       "\n",
       "Mounting all files in datasets/twitter/kinesis-demo/2021/12/31/20/ to kinesis-demo_2021_12_31_20\n",
       "Mounting datasets/kinesis/2021\n",
       "/mnt/kinesis-demo_2021_12_31_20 has been unmounted.\n",
       "The bucket path datasets/kinesis/2021 was mounted to kinesis-demo_2021_12_31_20 \n",
       "\n",
       "Mounting all files in datasets/twitter/kinesis-demo/2021/12/31/21/ to kinesis-demo_2021_12_31_21\n",
       "Mounting datasets/kinesis/2021\n",
       "/mnt/kinesis-demo_2021_12_31_21 has been unmounted.\n",
       "The bucket path datasets/kinesis/2021 was mounted to kinesis-demo_2021_12_31_21 \n",
       "\n",
       "Mounting all files in datasets/twitter/kinesis-demo/2021/12/31/22/ to kinesis-demo_2021_12_31_22\n",
       "Mounting datasets/kinesis/2021\n",
       "/mnt/kinesis-demo_2021_12_31_22 has been unmounted.\n",
       "The bucket path datasets/kinesis/2021 was mounted to kinesis-demo_2021_12_31_22 \n",
       "\n",
       "Mounting all files in datasets/twitter/kinesis-demo/2021/12/31/23/ to kinesis-demo_2021_12_31_23\n",
       "Mounting datasets/kinesis/2021\n",
       "/mnt/kinesis-demo_2021_12_31_23 has been unmounted.\n",
       "The bucket path datasets/kinesis/2021 was mounted to kinesis-demo_2021_12_31_23 \n",
       "\n",
       "['kinesis-demo_2021_12_30_17', 'kinesis-demo_2021_12_31_18', 'kinesis-demo_2021_12_31_19', 'kinesis-demo_2021_12_31_20', 'kinesis-demo_2021_12_31_21', 'kinesis-demo_2021_12_31_22', 'kinesis-demo_2021_12_31_23']\n",
       "Printing attributes for first 10 mounted files:\n",
       "Printing first five filepaths:\n",
       "dbfs:/mnt/kinesis-demo_2021_12_30_17/twitter_delivery_stream-1-2021-12-30-17-35-58-b98c4593-2164-445f-9c09-b80d647c80fe\n",
       "dbfs:/mnt/kinesis-demo_2021_12_30_17/twitter_delivery_stream-1-2021-12-30-17-37-00-03050126-c5a3-457a-9141-44c723e9a16e\n",
       "dbfs:/mnt/kinesis-demo_2021_12_30_17/twitter_delivery_stream-1-2021-12-30-17-38-01-ee043884-55a1-4696-afe2-ae744d931748\n",
       "dbfs:/mnt/kinesis-demo_2021_12_30_17/twitter_delivery_stream-1-2021-12-30-17-39-01-45daac32-de3f-4189-b312-8cd405214fe4\n",
       "dbfs:/mnt/kinesis-demo_2021_12_30_17/twitter_delivery_stream-1-2021-12-30-17-40-03-9c7445d1-3438-4c6c-96df-4629d801bbd1\n"
      ]
     },
     "metadata": {
      "application/vnd.databricks.v1+output": {
       "addedWidgets": {},
       "arguments": {},
       "data": "Mounting all files in datasets/twitter/kinesis-demo/2021/12/30/17/ to kinesis-demo_2021_12_30_17\nMounting datasets/kinesis/2021\n/mnt/kinesis-demo_2021_12_30_17 has been unmounted.\nThe bucket path datasets/kinesis/2021 was mounted to kinesis-demo_2021_12_30_17 \n\nMounting all files in datasets/twitter/kinesis-demo/2021/12/31/18/ to kinesis-demo_2021_12_31_18\nMounting datasets/kinesis/2021\n/mnt/kinesis-demo_2021_12_31_18 has been unmounted.\nThe bucket path datasets/kinesis/2021 was mounted to kinesis-demo_2021_12_31_18 \n\nMounting all files in datasets/twitter/kinesis-demo/2021/12/31/19/ to kinesis-demo_2021_12_31_19\nMounting datasets/kinesis/2021\n/mnt/kinesis-demo_2021_12_31_19 has been unmounted.\nThe bucket path datasets/kinesis/2021 was mounted to kinesis-demo_2021_12_31_19 \n\nMounting all files in datasets/twitter/kinesis-demo/2021/12/31/20/ to kinesis-demo_2021_12_31_20\nMounting datasets/kinesis/2021\n/mnt/kinesis-demo_2021_12_31_20 has been unmounted.\nThe bucket path datasets/kinesis/2021 was mounted to kinesis-demo_2021_12_31_20 \n\nMounting all files in datasets/twitter/kinesis-demo/2021/12/31/21/ to kinesis-demo_2021_12_31_21\nMounting datasets/kinesis/2021\n/mnt/kinesis-demo_2021_12_31_21 has been unmounted.\nThe bucket path datasets/kinesis/2021 was mounted to kinesis-demo_2021_12_31_21 \n\nMounting all files in datasets/twitter/kinesis-demo/2021/12/31/22/ to kinesis-demo_2021_12_31_22\nMounting datasets/kinesis/2021\n/mnt/kinesis-demo_2021_12_31_22 has been unmounted.\nThe bucket path datasets/kinesis/2021 was mounted to kinesis-demo_2021_12_31_22 \n\nMounting all files in datasets/twitter/kinesis-demo/2021/12/31/23/ to kinesis-demo_2021_12_31_23\nMounting datasets/kinesis/2021\n/mnt/kinesis-demo_2021_12_31_23 has been unmounted.\nThe bucket path datasets/kinesis/2021 was mounted to kinesis-demo_2021_12_31_23 \n\n['kinesis-demo_2021_12_30_17', 'kinesis-demo_2021_12_31_18', 'kinesis-demo_2021_12_31_19', 'kinesis-demo_2021_12_31_20', 'kinesis-demo_2021_12_31_21', 'kinesis-demo_2021_12_31_22', 'kinesis-demo_2021_12_31_23']\nPrinting attributes for first 10 mounted files:\nPrinting first five filepaths:\ndbfs:/mnt/kinesis-demo_2021_12_30_17/twitter_delivery_stream-1-2021-12-30-17-35-58-b98c4593-2164-445f-9c09-b80d647c80fe\ndbfs:/mnt/kinesis-demo_2021_12_30_17/twitter_delivery_stream-1-2021-12-30-17-37-00-03050126-c5a3-457a-9141-44c723e9a16e\ndbfs:/mnt/kinesis-demo_2021_12_30_17/twitter_delivery_stream-1-2021-12-30-17-38-01-ee043884-55a1-4696-afe2-ae744d931748\ndbfs:/mnt/kinesis-demo_2021_12_30_17/twitter_delivery_stream-1-2021-12-30-17-39-01-45daac32-de3f-4189-b312-8cd405214fe4\ndbfs:/mnt/kinesis-demo_2021_12_30_17/twitter_delivery_stream-1-2021-12-30-17-40-03-9c7445d1-3438-4c6c-96df-4629d801bbd1\n",
       "datasetInfos": [],
       "metadata": {},
       "removedWidgets": [],
       "type": "ansi"
      }
     },
     "output_type": "display_data"
    },
    {
     "data": {
      "text/html": [
       "<style scoped>\n",
       "  .table-result-container {\n",
       "    max-height: 300px;\n",
       "    overflow: auto;\n",
       "  }\n",
       "  table, th, td {\n",
       "    border: 1px solid black;\n",
       "    border-collapse: collapse;\n",
       "  }\n",
       "  th, td {\n",
       "    padding: 5px;\n",
       "  }\n",
       "  th {\n",
       "    text-align: left;\n",
       "  }\n",
       "</style><div class='table-result-container'><table class='table-result'><thead style='background-color: white'><tr><th>path</th><th>name</th><th>size</th></tr></thead><tbody><tr><td>dbfs:/mnt/kinesis-demo_2021_12_30_17/twitter_delivery_stream-1-2021-12-30-17-35-58-b98c4593-2164-445f-9c09-b80d647c80fe</td><td>twitter_delivery_stream-1-2021-12-30-17-35-58-b98c4593-2164-445f-9c09-b80d647c80fe</td><td>68390</td></tr><tr><td>dbfs:/mnt/kinesis-demo_2021_12_30_17/twitter_delivery_stream-1-2021-12-30-17-37-00-03050126-c5a3-457a-9141-44c723e9a16e</td><td>twitter_delivery_stream-1-2021-12-30-17-37-00-03050126-c5a3-457a-9141-44c723e9a16e</td><td>75672</td></tr><tr><td>dbfs:/mnt/kinesis-demo_2021_12_30_17/twitter_delivery_stream-1-2021-12-30-17-38-01-ee043884-55a1-4696-afe2-ae744d931748</td><td>twitter_delivery_stream-1-2021-12-30-17-38-01-ee043884-55a1-4696-afe2-ae744d931748</td><td>73484</td></tr><tr><td>dbfs:/mnt/kinesis-demo_2021_12_30_17/twitter_delivery_stream-1-2021-12-30-17-39-01-45daac32-de3f-4189-b312-8cd405214fe4</td><td>twitter_delivery_stream-1-2021-12-30-17-39-01-45daac32-de3f-4189-b312-8cd405214fe4</td><td>93691</td></tr><tr><td>dbfs:/mnt/kinesis-demo_2021_12_30_17/twitter_delivery_stream-1-2021-12-30-17-40-03-9c7445d1-3438-4c6c-96df-4629d801bbd1</td><td>twitter_delivery_stream-1-2021-12-30-17-40-03-9c7445d1-3438-4c6c-96df-4629d801bbd1</td><td>93241</td></tr><tr><td>dbfs:/mnt/kinesis-demo_2021_12_30_17/twitter_delivery_stream-1-2021-12-30-17-41-03-b8becce2-f393-42a9-bc9c-f8847fb4a7d2</td><td>twitter_delivery_stream-1-2021-12-30-17-41-03-b8becce2-f393-42a9-bc9c-f8847fb4a7d2</td><td>71521</td></tr><tr><td>dbfs:/mnt/kinesis-demo_2021_12_30_17/twitter_delivery_stream-1-2021-12-30-17-42-05-d4790ec9-be7b-443a-9109-3d3614310fd9</td><td>twitter_delivery_stream-1-2021-12-30-17-42-05-d4790ec9-be7b-443a-9109-3d3614310fd9</td><td>68828</td></tr><tr><td>dbfs:/mnt/kinesis-demo_2021_12_30_17/twitter_delivery_stream-1-2021-12-30-17-43-05-bbf49b5b-a7a8-4ed7-a7ef-27e366aa82c0</td><td>twitter_delivery_stream-1-2021-12-30-17-43-05-bbf49b5b-a7a8-4ed7-a7ef-27e366aa82c0</td><td>71076</td></tr><tr><td>dbfs:/mnt/kinesis-demo_2021_12_30_17/twitter_delivery_stream-1-2021-12-30-17-44-07-2bf0e38a-9da5-4437-b696-995b1abd0bea</td><td>twitter_delivery_stream-1-2021-12-30-17-44-07-2bf0e38a-9da5-4437-b696-995b1abd0bea</td><td>69835</td></tr><tr><td>dbfs:/mnt/kinesis-demo_2021_12_30_17/twitter_delivery_stream-1-2021-12-30-17-45-07-78f1c731-826b-456c-b6c5-51f4d06ca11b</td><td>twitter_delivery_stream-1-2021-12-30-17-45-07-78f1c731-826b-456c-b6c5-51f4d06ca11b</td><td>77615</td></tr></tbody></table></div>"
      ]
     },
     "metadata": {
      "application/vnd.databricks.v1+output": {
       "addedWidgets": {},
       "aggData": [],
       "aggError": "",
       "aggOverflow": false,
       "aggSchema": [],
       "aggSeriesLimitReached": false,
       "aggType": "",
       "arguments": {},
       "columnCustomDisplayInfos": {},
       "data": [
        [
         "dbfs:/mnt/kinesis-demo_2021_12_30_17/twitter_delivery_stream-1-2021-12-30-17-35-58-b98c4593-2164-445f-9c09-b80d647c80fe",
         "twitter_delivery_stream-1-2021-12-30-17-35-58-b98c4593-2164-445f-9c09-b80d647c80fe",
         68390
        ],
        [
         "dbfs:/mnt/kinesis-demo_2021_12_30_17/twitter_delivery_stream-1-2021-12-30-17-37-00-03050126-c5a3-457a-9141-44c723e9a16e",
         "twitter_delivery_stream-1-2021-12-30-17-37-00-03050126-c5a3-457a-9141-44c723e9a16e",
         75672
        ],
        [
         "dbfs:/mnt/kinesis-demo_2021_12_30_17/twitter_delivery_stream-1-2021-12-30-17-38-01-ee043884-55a1-4696-afe2-ae744d931748",
         "twitter_delivery_stream-1-2021-12-30-17-38-01-ee043884-55a1-4696-afe2-ae744d931748",
         73484
        ],
        [
         "dbfs:/mnt/kinesis-demo_2021_12_30_17/twitter_delivery_stream-1-2021-12-30-17-39-01-45daac32-de3f-4189-b312-8cd405214fe4",
         "twitter_delivery_stream-1-2021-12-30-17-39-01-45daac32-de3f-4189-b312-8cd405214fe4",
         93691
        ],
        [
         "dbfs:/mnt/kinesis-demo_2021_12_30_17/twitter_delivery_stream-1-2021-12-30-17-40-03-9c7445d1-3438-4c6c-96df-4629d801bbd1",
         "twitter_delivery_stream-1-2021-12-30-17-40-03-9c7445d1-3438-4c6c-96df-4629d801bbd1",
         93241
        ],
        [
         "dbfs:/mnt/kinesis-demo_2021_12_30_17/twitter_delivery_stream-1-2021-12-30-17-41-03-b8becce2-f393-42a9-bc9c-f8847fb4a7d2",
         "twitter_delivery_stream-1-2021-12-30-17-41-03-b8becce2-f393-42a9-bc9c-f8847fb4a7d2",
         71521
        ],
        [
         "dbfs:/mnt/kinesis-demo_2021_12_30_17/twitter_delivery_stream-1-2021-12-30-17-42-05-d4790ec9-be7b-443a-9109-3d3614310fd9",
         "twitter_delivery_stream-1-2021-12-30-17-42-05-d4790ec9-be7b-443a-9109-3d3614310fd9",
         68828
        ],
        [
         "dbfs:/mnt/kinesis-demo_2021_12_30_17/twitter_delivery_stream-1-2021-12-30-17-43-05-bbf49b5b-a7a8-4ed7-a7ef-27e366aa82c0",
         "twitter_delivery_stream-1-2021-12-30-17-43-05-bbf49b5b-a7a8-4ed7-a7ef-27e366aa82c0",
         71076
        ],
        [
         "dbfs:/mnt/kinesis-demo_2021_12_30_17/twitter_delivery_stream-1-2021-12-30-17-44-07-2bf0e38a-9da5-4437-b696-995b1abd0bea",
         "twitter_delivery_stream-1-2021-12-30-17-44-07-2bf0e38a-9da5-4437-b696-995b1abd0bea",
         69835
        ],
        [
         "dbfs:/mnt/kinesis-demo_2021_12_30_17/twitter_delivery_stream-1-2021-12-30-17-45-07-78f1c731-826b-456c-b6c5-51f4d06ca11b",
         "twitter_delivery_stream-1-2021-12-30-17-45-07-78f1c731-826b-456c-b6c5-51f4d06ca11b",
         77615
        ]
       ],
       "datasetInfos": [],
       "dbfsResultPath": null,
       "isJsonSchema": true,
       "metadata": {},
       "overflow": false,
       "plotOptions": {
        "customPlotOptions": {},
        "displayType": "table",
        "pivotAggregation": null,
        "pivotColumns": null,
        "xColumns": null,
        "yColumns": null
       },
       "removedWidgets": [],
       "schema": [
        {
         "metadata": "{}",
         "name": "path",
         "type": "\"string\""
        },
        {
         "metadata": "{}",
         "name": "name",
         "type": "\"string\""
        },
        {
         "metadata": "{}",
         "name": "size",
         "type": "\"long\""
        }
       ],
       "type": "table"
      }
     },
     "output_type": "display_data"
    }
   ],
   "source": [
    "# Mount folders to databricks datasets\n",
    "dataset_names = mount_all_hourly_files(s3_bucket_name, list_of_hourly_dirs_flat)\n",
    "print(f\"Finished mounting {len(dataset_names):,} datasets\")\n",
    "\n",
    "# Get filepaths to files in all folders\n",
    "file_paths_full, files_full = get_dbfs_mounted_filepaths(dataset_names)\n",
    "print(\"Printing attributes for first 10 mounted files:\")\n",
    "display(files_full[:10])\n",
    "\n",
    "print(\"Printing first five filepaths:\")\n",
    "for file_path_full in file_paths_full[:5]:\n",
    "    print(file_path_full)"
   ]
  },
  {
   "cell_type": "markdown",
   "metadata": {
    "application/vnd.databricks.v1+cell": {
     "inputWidgets": {},
     "nuid": "f1a3a8e7-bc75-4db8-b526-01ede51c1120",
     "showTitle": false,
     "title": ""
    }
   },
   "source": [
    "We'll now perform a basic sanity check where we verify that the number of files using\n",
    "- mounting with the databricks file system\n",
    "- `boto3`\n",
    "\n",
    "agree with each other"
   ]
  },
  {
   "cell_type": "code",
   "execution_count": null,
   "metadata": {
    "application/vnd.databricks.v1+cell": {
     "inputWidgets": {},
     "nuid": "d6671da6-7a43-4734-8a31-ab1626009636",
     "showTitle": false,
     "title": ""
    }
   },
   "outputs": [],
   "source": [
    "assert len(file_contents_all_flat) == len(file_paths_full)"
   ]
  },
  {
   "cell_type": "markdown",
   "metadata": {
    "application/vnd.databricks.v1+cell": {
     "inputWidgets": {},
     "nuid": "d3a5eb8c-0910-4998-ac7c-660c471bffdf",
     "showTitle": false,
     "title": ""
    }
   },
   "source": [
    "**Observations**\n",
    "1. The two approaches to list all files in all folders of the S3 bucket agree with each other. This means we have the same number of files mounted locally as we do in the hourly folders in the AWS S3 bucket."
   ]
  },
  {
   "cell_type": "markdown",
   "metadata": {
    "application/vnd.databricks.v1+cell": {
     "inputWidgets": {},
     "nuid": "73b852e7-dad2-4530-9482-f6d443c4e63c",
     "showTitle": false,
     "title": ""
    }
   },
   "source": [
    "## Load Data with PySpark"
   ]
  },
  {
   "cell_type": "markdown",
   "metadata": {
    "application/vnd.databricks.v1+cell": {
     "inputWidgets": {},
     "nuid": "c8fcdbf8-bf41-4a4d-89c9-5f28865cf14d",
     "showTitle": false,
     "title": ""
    }
   },
   "source": [
    "### Spark Set-up"
   ]
  },
  {
   "cell_type": "markdown",
   "metadata": {
    "application/vnd.databricks.v1+cell": {
     "inputWidgets": {},
     "nuid": "9e0813bf-5304-433b-a364-585b754aa089",
     "showTitle": false,
     "title": ""
    }
   },
   "source": [
    "To prepare for working with PySpark, we'll now create the [Spark session](https://spark.apache.org/docs/latest/api/scala/org/apache/spark/sql/SparkSession.html) and define a Spark context ([1](https://www.educba.com/sparkcontext/), [2](https://spark.apache.org/docs/latest/api/java/org/apache/spark/SparkContext.html))"
   ]
  },
  {
   "cell_type": "code",
   "execution_count": null,
   "metadata": {
    "application/vnd.databricks.v1+cell": {
     "inputWidgets": {},
     "nuid": "30b67bd8-661b-456c-b489-57f262e26ba7",
     "showTitle": false,
     "title": ""
    }
   },
   "outputs": [
    {
     "data": {
      "text/plain": [
       "Spark Session created\n"
      ]
     },
     "metadata": {
      "application/vnd.databricks.v1+output": {
       "addedWidgets": {},
       "arguments": {},
       "data": "Spark Session created\n",
       "datasetInfos": [],
       "metadata": {},
       "removedWidgets": [],
       "type": "ansi"
      }
     },
     "output_type": "display_data"
    }
   ],
   "source": [
    "spark = (\n",
    "    SparkSession.builder\n",
    "    .appName('Application Name')\n",
    "    .getOrCreate()\n",
    ")\n",
    "print('Spark Session created')\n",
    "\n",
    "sc = spark.sparkContext"
   ]
  },
  {
   "cell_type": "markdown",
   "metadata": {
    "application/vnd.databricks.v1+cell": {
     "inputWidgets": {},
     "nuid": "7f1c1bbf-7259-4f87-9617-07c48c4fbd92",
     "showTitle": false,
     "title": ""
    }
   },
   "source": [
    "### Load Data into single PySpark `DataFrame` and Apply Filters Using Built-in Spark DataFrame Methods"
   ]
  },
  {
   "cell_type": "markdown",
   "metadata": {
    "application/vnd.databricks.v1+cell": {
     "inputWidgets": {},
     "nuid": "82e3b037-d5ce-4d1b-8b02-9acfb5ccb397",
     "showTitle": false,
     "title": ""
    }
   },
   "source": [
    "As we did with the `pandas` approach, we will now\n",
    "- load all data into a pySpark DataFrame\n",
    "- (filter 1) drop blank rows and then drop rows with no text\n",
    "- (filter 2) remove rows where the tweet text (`text` column) contains words that are not indicative of the subject (tweets related to space news) we are trying to explore here\n",
    "\n",
    "and we will print the number of rows in the `DataFrame` after each step, for comparison to the `pandas` approach"
   ]
  },
  {
   "cell_type": "code",
   "execution_count": null,
   "metadata": {
    "application/vnd.databricks.v1+cell": {
     "inputWidgets": {},
     "nuid": "17b42bb8-4844-4271-a8ca-992e9cf246ed",
     "showTitle": false,
     "title": ""
    }
   },
   "outputs": [
    {
     "data": {
      "text/plain": [
       "Number of rows after loading data = 29,005\n",
       "Number of rows after dropping missing values = 28,936\n",
       "Number of rows after removing unwanted partial tweets using built-in PySpark functions = 28,936\n"
      ]
     },
     "metadata": {
      "application/vnd.databricks.v1+output": {
       "addedWidgets": {},
       "arguments": {},
       "data": "Number of rows after loading data = 29,005\nNumber of rows after dropping missing values = 28,936\nNumber of rows after removing unwanted partial tweets using built-in PySpark functions = 28,936\n",
       "datasetInfos": [],
       "metadata": {},
       "removedWidgets": [],
       "type": "ansi"
      }
     },
     "output_type": "display_data"
    },
    {
     "data": {
      "text/html": [
       "<style scoped>\n",
       "  .table-result-container {\n",
       "    max-height: 300px;\n",
       "    overflow: auto;\n",
       "  }\n",
       "  table, th, td {\n",
       "    border: 1px solid black;\n",
       "    border-collapse: collapse;\n",
       "  }\n",
       "  th, td {\n",
       "    padding: 5px;\n",
       "  }\n",
       "  th {\n",
       "    text-align: left;\n",
       "  }\n",
       "</style><div class='table-result-container'><table class='table-result'><thead style='background-color: white'><tr><th>id</th><th>geo</th><th>coordinates</th><th>place</th><th>contributors</th><th>is_quote_status</th><th>quote_count</th><th>reply_count</th><th>retweet_count</th><th>favorite_count</th><th>favorited</th><th>retweeted</th><th>created_at</th><th>source</th><th>in_reply_to_user_id</th><th>in_reply_to_screen_name</th><th>source_text</th><th>place_id</th><th>place_url</th><th>place_place_type</th><th>place_name</th><th>place_full_name</th><th>place_country_code</th><th>place_country</th><th>place_bounding_box_type</th><th>place_bounding_box_coordinates</th><th>place_attributes</th><th>coords_type</th><th>coords_lon</th><th>coords_lat</th><th>geo_type</th><th>geo_lon</th><th>geo_lat</th><th>user_name</th><th>user_screen_name</th><th>user_followers</th><th>user_friends</th><th>user_listed</th><th>user_favourites</th><th>user_statuses</th><th>user_protected</th><th>user_verified</th><th>user_contributors_enabled</th><th>user_joined</th><th>user_location</th><th>retweeted_tweet</th><th>tweet_text_urls</th><th>tweet_text_hashtags</th><th>tweet_text_usernames</th><th>num_urls_in_tweet_text</th><th>num_users_in_tweet_text</th><th>num_hashtags_in_tweet_text</th><th>text</th><th>blank</th></tr></thead><tbody><tr><td>1476607990027407364</td><td>None</td><td>None</td><td>None</td><td>None</td><td>False</td><td>0</td><td>0</td><td>0</td><td>0</td><td>false</td><td>false</td><td>Thu Dec 30 17:35:53 +0000 2021</td><td><a href=\"http://twitter.com/download/iphone\" rel=\"nofollow\">Twitter for iPhone</a></td><td>None</td><td>None</td><td>Twitter for iPhone</td><td>null</td><td>null</td><td>null</td><td>null</td><td>null</td><td>null</td><td>null</td><td>null</td><td>[[]]</td><td>{}</td><td>null</td><td>null</td><td>null</td><td>null</td><td>null</td><td>null</td><td>Happy New Years 2022</td><td>GuessWho122021</td><td>216</td><td>255</td><td>0</td><td>1165</td><td>3214</td><td>false</td><td>false</td><td>false</td><td>Sat Nov 27 20:38:14 +0000 2021</td><td>World Wide</td><td>no</td><td>https://t.co/yH8cBVuMj3</td><td>null</td><td>null</td><td>1</td><td>0</td><td>0</td><td>Space colonists may turn to cannibalism, scientists warn:The first generations to occupy space outposts may be left with few nutrition choices, scholars believe</td><td>null</td></tr><tr><td>1476607992586018824</td><td>None</td><td>None</td><td>None</td><td>None</td><td>True</td><td>0</td><td>0</td><td>0</td><td>0</td><td>false</td><td>false</td><td>Thu Dec 30 17:35:54 +0000 2021</td><td><a href=\"http://twitter.com/download/iphone\" rel=\"nofollow\">Twitter for iPhone</a></td><td>None</td><td>None</td><td>Twitter for iPhone</td><td>null</td><td>null</td><td>null</td><td>null</td><td>null</td><td>null</td><td>null</td><td>null</td><td>[[]]</td><td>{}</td><td>null</td><td>null</td><td>null</td><td>null</td><td>null</td><td>null</td><td>TheToysRusKid</td><td>JC1of1</td><td>202</td><td>313</td><td>0</td><td>18454</td><td>53653</td><td>false</td><td>false</td><td>false</td><td>Tue Sep 04 17:18:46 +0000 2018</td><td>Southern California </td><td>no</td><td>null</td><td>null</td><td>null</td><td>0</td><td>0</td><td>0</td><td>1. Beat Street2. Harlem Knights 3. National Lampoons Vacation 4. Bachelor Party 5. Do The right Thing6. How High7. Weird Science 8. Clerks 9. Beverly Hills Cop10. Goodfellas</td><td>null</td></tr><tr><td>1476607997405184000</td><td>None</td><td>None</td><td>None</td><td>None</td><td>False</td><td>0</td><td>0</td><td>0</td><td>0</td><td>false</td><td>false</td><td>Thu Dec 30 17:35:55 +0000 2021</td><td><a href=\"http://publicize.wp.com/\" rel=\"nofollow\">WordPress.com</a></td><td>None</td><td>None</td><td>WordPress.com</td><td>null</td><td>null</td><td>null</td><td>null</td><td>null</td><td>null</td><td>null</td><td>null</td><td>[[]]</td><td>{}</td><td>null</td><td>null</td><td>null</td><td>null</td><td>null</td><td>null</td><td>BCABA Network</td><td>BcabaNetwork</td><td>2581</td><td>4710</td><td>42</td><td>3027</td><td>238152</td><td>false</td><td>false</td><td>false</td><td>Wed May 25 10:54:46 +0000 2016</td><td>West Midlands, England</td><td>no</td><td>https://t.co/kPAMK3TxSL</td><td>null</td><td>null</td><td>1</td><td>0</td><td>0</td><td>NASA Plans Coverage of Webb Space Telescope Deployments</td><td>null</td></tr><tr><td>1476607997925330945</td><td>None</td><td>None</td><td>None</td><td>None</td><td>False</td><td>0</td><td>0</td><td>0</td><td>0</td><td>false</td><td>false</td><td>Thu Dec 30 17:35:55 +0000 2021</td><td><a href=\"http://twitter.com/download/iphone\" rel=\"nofollow\">Twitter for iPhone</a></td><td>None</td><td>None</td><td>Twitter for iPhone</td><td>null</td><td>null</td><td>null</td><td>null</td><td>null</td><td>null</td><td>null</td><td>null</td><td>[[]]</td><td>{}</td><td>null</td><td>null</td><td>null</td><td>null</td><td>null</td><td>null</td><td>Jude Jackson 💙 Solidarity with #NHS workers</td><td>JudeJack</td><td>2138</td><td>4999</td><td>157</td><td>79973</td><td>109065</td><td>false</td><td>false</td><td>false</td><td>Sat Feb 21 14:48:52 +0000 2009</td><td>International</td><td>no</td><td>https://t.co/cRcHiFCHS0</td><td>null</td><td>null</td><td>1</td><td>0</td><td>0</td><td>Exciting times!Back in 1915, Einstein published his theory of General Relativity. 1917 the Bolsheviks led the worlds’ first proletarian revolution. Humanity is about to peer back to the beginning of time, and the world is poised once again for revolution.</td><td>null</td></tr><tr><td>1476608000114802695</td><td>None</td><td>None</td><td>None</td><td>None</td><td>False</td><td>0</td><td>0</td><td>0</td><td>0</td><td>false</td><td>false</td><td>Thu Dec 30 17:35:55 +0000 2021</td><td><a href=\"http://twitter.com/download/iphone\" rel=\"nofollow\">Twitter for iPhone</a></td><td>None</td><td>None</td><td>Twitter for iPhone</td><td>null</td><td>null</td><td>null</td><td>null</td><td>null</td><td>null</td><td>null</td><td>null</td><td>[[]]</td><td>{}</td><td>null</td><td>null</td><td>null</td><td>null</td><td>null</td><td>null</td><td>Alan Stern</td><td>AlanStern</td><td>43743</td><td>1719</td><td>1163</td><td>33719</td><td>40081</td><td>false</td><td>false</td><td>false</td><td>Sat Jul 26 17:50:37 +0000 2008</td><td>Niwot, CO</td><td>no</td><td>null</td><td>null</td><td>ng_rippel|rhwells79|AlanStern|NBCNews</td><td>0</td><td>4</td><td>0</td><td>    Obviously, since science is a mental mode of nature and Pluto doesn’t have a mind. But having it is the very essence of science and that requires functionally useful concepts like “planet”. Non-functional concepts hurt the progress of science and the public’s insights into it.</td><td>null</td></tr><tr><td>1476608001402277893</td><td>None</td><td>None</td><td>None</td><td>None</td><td>False</td><td>0</td><td>0</td><td>0</td><td>0</td><td>false</td><td>false</td><td>Thu Dec 30 17:35:56 +0000 2021</td><td><a href=\"http://twitter.com/download/iphone\" rel=\"nofollow\">Twitter for iPhone</a></td><td>None</td><td>None</td><td>Twitter for iPhone</td><td>null</td><td>null</td><td>null</td><td>null</td><td>null</td><td>null</td><td>null</td><td>null</td><td>[[]]</td><td>{}</td><td>null</td><td>null</td><td>null</td><td>null</td><td>null</td><td>null</td><td>Nhada Naim</td><td>kognomee_</td><td>115</td><td>403</td><td>0</td><td>14149</td><td>19509</td><td>false</td><td>false</td><td>false</td><td>Mon Sep 12 07:35:14 +0000 2016</td><td>Im there but not too far </td><td>no</td><td>null</td><td>null</td><td>null</td><td>0</td><td>0</td><td>0</td><td>Jupiter is in Penis and Vagina is stationed retrograde. Wear a condom ya’ll</td><td>null</td></tr><tr><td>1476608002782203915</td><td>None</td><td>None</td><td>None</td><td>None</td><td>False</td><td>0</td><td>0</td><td>0</td><td>0</td><td>false</td><td>false</td><td>Thu Dec 30 17:35:56 +0000 2021</td><td><a href=\"https://mobile.twitter.com\" rel=\"nofollow\">Twitter Web App</a></td><td>None</td><td>None</td><td>Twitter Web App</td><td>null</td><td>null</td><td>null</td><td>null</td><td>null</td><td>null</td><td>null</td><td>null</td><td>[[]]</td><td>{}</td><td>null</td><td>null</td><td>null</td><td>null</td><td>null</td><td>null</td><td>Themistoclea (Bonnie DeVarco)</td><td>Themistoclea</td><td>358</td><td>514</td><td>101</td><td>1004</td><td>7869</td><td>false</td><td>false</td><td>false</td><td>Tue Dec 23 19:34:02 +0000 2008</td><td>Ubiquitous</td><td>no</td><td>https://t.co/czsEhxCaVk|https://t.co/n65TKzRAHV</td><td>null</td><td>NASAWebb</td><td>2</td><td>1</td><td>0</td><td>How 'bout we squeeze in some good news before the year ends? Not only did  deploy its tower assembly, the team also said the telescope's launch was so precise that we should expect the science to continue well beyond 10 years! </td><td>null</td></tr><tr><td>1476608009669201922</td><td>None</td><td>None</td><td>None</td><td>None</td><td>True</td><td>0</td><td>0</td><td>0</td><td>0</td><td>false</td><td>false</td><td>Thu Dec 30 17:35:58 +0000 2021</td><td><a href=\"https://mobile.twitter.com\" rel=\"nofollow\">Twitter Web App</a></td><td>None</td><td>None</td><td>Twitter Web App</td><td>null</td><td>null</td><td>null</td><td>null</td><td>null</td><td>null</td><td>null</td><td>null</td><td>[[]]</td><td>{}</td><td>null</td><td>null</td><td>null</td><td>null</td><td>null</td><td>null</td><td>Radio Justice 📻🎙⚖</td><td>justiceputnam</td><td>2599</td><td>1395</td><td>84</td><td>93424</td><td>193934</td><td>false</td><td>false</td><td>false</td><td>Tue Jul 14 05:10:36 +0000 2009</td><td>Rogue River, Oregon #homebase</td><td>no</td><td>null</td><td>null</td><td>null</td><td>0</td><td>0</td><td>0</td><td>NASA: It wasn't a strike, it was just a work slowdown.</td><td>null</td></tr><tr><td>1476608010202066949</td><td>None</td><td>None</td><td>None</td><td>None</td><td>False</td><td>0</td><td>0</td><td>0</td><td>0</td><td>false</td><td>false</td><td>Thu Dec 30 17:35:58 +0000 2021</td><td><a href=\"http://twitter.com/download/iphone\" rel=\"nofollow\">Twitter for iPhone</a></td><td>None</td><td>None</td><td>Twitter for iPhone</td><td>null</td><td>null</td><td>null</td><td>null</td><td>null</td><td>null</td><td>null</td><td>null</td><td>[[]]</td><td>{}</td><td>null</td><td>null</td><td>null</td><td>null</td><td>null</td><td>null</td><td>Kwaku Barcelona</td><td>o_theophilus1</td><td>3845</td><td>1011</td><td>3</td><td>25207</td><td>23203</td><td>false</td><td>false</td><td>false</td><td>Sun Apr 03 20:59:45 +0000 2016</td><td>Kumerican/Ghana/WestAfrica/USA</td><td>no</td><td>null</td><td>null</td><td>FabrizioRomano</td><td>0</td><td>1</td><td>0</td><td> I was being interviewed by Elon Musk. He asked, \"where are you from\", and I said Portugal. He replied, \"so you are a fellow country man of a Pen merchant whose freekick ball broke my rover on Mars. Get out!\". Tears ran down my face. Shame on you Pendu for costing me my dream job</td><td>null</td></tr><tr><td>1476608015965040643</td><td>None</td><td>None</td><td>None</td><td>None</td><td>False</td><td>0</td><td>0</td><td>0</td><td>0</td><td>false</td><td>false</td><td>Thu Dec 30 17:35:59 +0000 2021</td><td><a href=\"http://buckshee.petimer.ru\" rel=\"nofollow\">Buckshee Forum</a></td><td>None</td><td>None</td><td>Buckshee Forum</td><td>null</td><td>null</td><td>null</td><td>null</td><td>null</td><td>null</td><td>null</td><td>null</td><td>[[]]</td><td>{}</td><td>null</td><td>null</td><td>null</td><td>null</td><td>null</td><td>null</td><td>The Buckshee</td><td>BucksheeForum</td><td>17</td><td>1</td><td>0</td><td>0</td><td>329009</td><td>false</td><td>false</td><td>false</td><td>Fri Nov 03 12:41:31 +0000 2017</td><td>None</td><td>no</td><td>https://t.co/V1zNCNlkQPJames</td><td>null</td><td>null</td><td>1</td><td>0</td><td>0</td><td> Webb telescope is captured soaring through space from Earth</td><td>null</td></tr></tbody></table></div>"
      ]
     },
     "metadata": {
      "application/vnd.databricks.v1+output": {
       "addedWidgets": {},
       "aggData": [],
       "aggError": "",
       "aggOverflow": false,
       "aggSchema": [],
       "aggSeriesLimitReached": false,
       "aggType": "",
       "arguments": {},
       "columnCustomDisplayInfos": {},
       "data": [
        [
         "1476607990027407364",
         "None",
         "None",
         "None",
         "None",
         "False",
         0,
         0,
         "0",
         0,
         false,
         false,
         "Thu Dec 30 17:35:53 +0000 2021",
         "<a href=\"http://twitter.com/download/iphone\" rel=\"nofollow\">Twitter for iPhone</a>",
         "None",
         "None",
         "Twitter for iPhone",
         null,
         null,
         null,
         null,
         null,
         null,
         null,
         null,
         "[[]]",
         "{}",
         null,
         null,
         null,
         null,
         null,
         null,
         "Happy New Years 2022",
         "GuessWho122021",
         216,
         255,
         0,
         1165,
         3214,
         false,
         false,
         false,
         "Sat Nov 27 20:38:14 +0000 2021",
         "World Wide",
         "no",
         "https://t.co/yH8cBVuMj3",
         null,
         null,
         1,
         0,
         0,
         "Space colonists may turn to cannibalism, scientists warn:The first generations to occupy space outposts may be left with few nutrition choices, scholars believe",
         null
        ],
        [
         "1476607992586018824",
         "None",
         "None",
         "None",
         "None",
         "True",
         0,
         0,
         "0",
         0,
         false,
         false,
         "Thu Dec 30 17:35:54 +0000 2021",
         "<a href=\"http://twitter.com/download/iphone\" rel=\"nofollow\">Twitter for iPhone</a>",
         "None",
         "None",
         "Twitter for iPhone",
         null,
         null,
         null,
         null,
         null,
         null,
         null,
         null,
         "[[]]",
         "{}",
         null,
         null,
         null,
         null,
         null,
         null,
         "TheToysRusKid",
         "JC1of1",
         202,
         313,
         0,
         18454,
         53653,
         false,
         false,
         false,
         "Tue Sep 04 17:18:46 +0000 2018",
         "Southern California ",
         "no",
         null,
         null,
         null,
         0,
         0,
         0,
         "1. Beat Street2. Harlem Knights 3. National Lampoons Vacation 4. Bachelor Party 5. Do The right Thing6. How High7. Weird Science 8. Clerks 9. Beverly Hills Cop10. Goodfellas",
         null
        ],
        [
         "1476607997405184000",
         "None",
         "None",
         "None",
         "None",
         "False",
         0,
         0,
         "0",
         0,
         false,
         false,
         "Thu Dec 30 17:35:55 +0000 2021",
         "<a href=\"http://publicize.wp.com/\" rel=\"nofollow\">WordPress.com</a>",
         "None",
         "None",
         "WordPress.com",
         null,
         null,
         null,
         null,
         null,
         null,
         null,
         null,
         "[[]]",
         "{}",
         null,
         null,
         null,
         null,
         null,
         null,
         "BCABA Network",
         "BcabaNetwork",
         2581,
         4710,
         42,
         3027,
         238152,
         false,
         false,
         false,
         "Wed May 25 10:54:46 +0000 2016",
         "West Midlands, England",
         "no",
         "https://t.co/kPAMK3TxSL",
         null,
         null,
         1,
         0,
         0,
         "NASA Plans Coverage of Webb Space Telescope Deployments",
         null
        ],
        [
         "1476607997925330945",
         "None",
         "None",
         "None",
         "None",
         "False",
         0,
         0,
         "0",
         0,
         false,
         false,
         "Thu Dec 30 17:35:55 +0000 2021",
         "<a href=\"http://twitter.com/download/iphone\" rel=\"nofollow\">Twitter for iPhone</a>",
         "None",
         "None",
         "Twitter for iPhone",
         null,
         null,
         null,
         null,
         null,
         null,
         null,
         null,
         "[[]]",
         "{}",
         null,
         null,
         null,
         null,
         null,
         null,
         "Jude Jackson 💙 Solidarity with #NHS workers",
         "JudeJack",
         2138,
         4999,
         157,
         79973,
         109065,
         false,
         false,
         false,
         "Sat Feb 21 14:48:52 +0000 2009",
         "International",
         "no",
         "https://t.co/cRcHiFCHS0",
         null,
         null,
         1,
         0,
         0,
         "Exciting times!Back in 1915, Einstein published his theory of General Relativity. 1917 the Bolsheviks led the worlds’ first proletarian revolution. Humanity is about to peer back to the beginning of time, and the world is poised once again for revolution.",
         null
        ],
        [
         "1476608000114802695",
         "None",
         "None",
         "None",
         "None",
         "False",
         0,
         0,
         "0",
         0,
         false,
         false,
         "Thu Dec 30 17:35:55 +0000 2021",
         "<a href=\"http://twitter.com/download/iphone\" rel=\"nofollow\">Twitter for iPhone</a>",
         "None",
         "None",
         "Twitter for iPhone",
         null,
         null,
         null,
         null,
         null,
         null,
         null,
         null,
         "[[]]",
         "{}",
         null,
         null,
         null,
         null,
         null,
         null,
         "Alan Stern",
         "AlanStern",
         43743,
         1719,
         1163,
         33719,
         40081,
         false,
         false,
         false,
         "Sat Jul 26 17:50:37 +0000 2008",
         "Niwot, CO",
         "no",
         null,
         null,
         "ng_rippel|rhwells79|AlanStern|NBCNews",
         0,
         4,
         0,
         "    Obviously, since science is a mental mode of nature and Pluto doesn’t have a mind. But having it is the very essence of science and that requires functionally useful concepts like “planet”. Non-functional concepts hurt the progress of science and the public’s insights into it.",
         null
        ],
        [
         "1476608001402277893",
         "None",
         "None",
         "None",
         "None",
         "False",
         0,
         0,
         "0",
         0,
         false,
         false,
         "Thu Dec 30 17:35:56 +0000 2021",
         "<a href=\"http://twitter.com/download/iphone\" rel=\"nofollow\">Twitter for iPhone</a>",
         "None",
         "None",
         "Twitter for iPhone",
         null,
         null,
         null,
         null,
         null,
         null,
         null,
         null,
         "[[]]",
         "{}",
         null,
         null,
         null,
         null,
         null,
         null,
         "Nhada Naim",
         "kognomee_",
         115,
         403,
         0,
         14149,
         19509,
         false,
         false,
         false,
         "Mon Sep 12 07:35:14 +0000 2016",
         "Im there but not too far ",
         "no",
         null,
         null,
         null,
         0,
         0,
         0,
         "Jupiter is in Penis and Vagina is stationed retrograde. Wear a condom ya’ll",
         null
        ],
        [
         "1476608002782203915",
         "None",
         "None",
         "None",
         "None",
         "False",
         0,
         0,
         "0",
         0,
         false,
         false,
         "Thu Dec 30 17:35:56 +0000 2021",
         "<a href=\"https://mobile.twitter.com\" rel=\"nofollow\">Twitter Web App</a>",
         "None",
         "None",
         "Twitter Web App",
         null,
         null,
         null,
         null,
         null,
         null,
         null,
         null,
         "[[]]",
         "{}",
         null,
         null,
         null,
         null,
         null,
         null,
         "Themistoclea (Bonnie DeVarco)",
         "Themistoclea",
         358,
         514,
         101,
         1004,
         7869,
         false,
         false,
         false,
         "Tue Dec 23 19:34:02 +0000 2008",
         "Ubiquitous",
         "no",
         "https://t.co/czsEhxCaVk|https://t.co/n65TKzRAHV",
         null,
         "NASAWebb",
         2,
         1,
         0,
         "How 'bout we squeeze in some good news before the year ends? Not only did  deploy its tower assembly, the team also said the telescope's launch was so precise that we should expect the science to continue well beyond 10 years! ",
         null
        ],
        [
         "1476608009669201922",
         "None",
         "None",
         "None",
         "None",
         "True",
         0,
         0,
         "0",
         0,
         false,
         false,
         "Thu Dec 30 17:35:58 +0000 2021",
         "<a href=\"https://mobile.twitter.com\" rel=\"nofollow\">Twitter Web App</a>",
         "None",
         "None",
         "Twitter Web App",
         null,
         null,
         null,
         null,
         null,
         null,
         null,
         null,
         "[[]]",
         "{}",
         null,
         null,
         null,
         null,
         null,
         null,
         "Radio Justice 📻🎙⚖",
         "justiceputnam",
         2599,
         1395,
         84,
         93424,
         193934,
         false,
         false,
         false,
         "Tue Jul 14 05:10:36 +0000 2009",
         "Rogue River, Oregon #homebase",
         "no",
         null,
         null,
         null,
         0,
         0,
         0,
         "NASA: It wasn't a strike, it was just a work slowdown.",
         null
        ],
        [
         "1476608010202066949",
         "None",
         "None",
         "None",
         "None",
         "False",
         0,
         0,
         "0",
         0,
         false,
         false,
         "Thu Dec 30 17:35:58 +0000 2021",
         "<a href=\"http://twitter.com/download/iphone\" rel=\"nofollow\">Twitter for iPhone</a>",
         "None",
         "None",
         "Twitter for iPhone",
         null,
         null,
         null,
         null,
         null,
         null,
         null,
         null,
         "[[]]",
         "{}",
         null,
         null,
         null,
         null,
         null,
         null,
         "Kwaku Barcelona",
         "o_theophilus1",
         3845,
         1011,
         3,
         25207,
         23203,
         false,
         false,
         false,
         "Sun Apr 03 20:59:45 +0000 2016",
         "Kumerican/Ghana/WestAfrica/USA",
         "no",
         null,
         null,
         "FabrizioRomano",
         0,
         1,
         0,
         " I was being interviewed by Elon Musk. He asked, \"where are you from\", and I said Portugal. He replied, \"so you are a fellow country man of a Pen merchant whose freekick ball broke my rover on Mars. Get out!\". Tears ran down my face. Shame on you Pendu for costing me my dream job",
         null
        ],
        [
         "1476608015965040643",
         "None",
         "None",
         "None",
         "None",
         "False",
         0,
         0,
         "0",
         0,
         false,
         false,
         "Thu Dec 30 17:35:59 +0000 2021",
         "<a href=\"http://buckshee.petimer.ru\" rel=\"nofollow\">Buckshee Forum</a>",
         "None",
         "None",
         "Buckshee Forum",
         null,
         null,
         null,
         null,
         null,
         null,
         null,
         null,
         "[[]]",
         "{}",
         null,
         null,
         null,
         null,
         null,
         null,
         "The Buckshee",
         "BucksheeForum",
         17,
         1,
         0,
         0,
         329009,
         false,
         false,
         false,
         "Fri Nov 03 12:41:31 +0000 2017",
         "None",
         "no",
         "https://t.co/V1zNCNlkQPJames",
         null,
         null,
         1,
         0,
         0,
         " Webb telescope is captured soaring through space from Earth",
         null
        ]
       ],
       "datasetInfos": [],
       "dbfsResultPath": null,
       "isJsonSchema": true,
       "metadata": {},
       "overflow": false,
       "plotOptions": {
        "customPlotOptions": {},
        "displayType": "table",
        "pivotAggregation": null,
        "pivotColumns": null,
        "xColumns": null,
        "yColumns": null
       },
       "removedWidgets": [],
       "schema": [
        {
         "metadata": "{}",
         "name": "id",
         "type": "\"string\""
        },
        {
         "metadata": "{}",
         "name": "geo",
         "type": "\"string\""
        },
        {
         "metadata": "{}",
         "name": "coordinates",
         "type": "\"string\""
        },
        {
         "metadata": "{}",
         "name": "place",
         "type": "\"string\""
        },
        {
         "metadata": "{}",
         "name": "contributors",
         "type": "\"string\""
        },
        {
         "metadata": "{}",
         "name": "is_quote_status",
         "type": "\"string\""
        },
        {
         "metadata": "{}",
         "name": "quote_count",
         "type": "\"integer\""
        },
        {
         "metadata": "{}",
         "name": "reply_count",
         "type": "\"integer\""
        },
        {
         "metadata": "{}",
         "name": "retweet_count",
         "type": "\"string\""
        },
        {
         "metadata": "{}",
         "name": "favorite_count",
         "type": "\"integer\""
        },
        {
         "metadata": "{}",
         "name": "favorited",
         "type": "\"boolean\""
        },
        {
         "metadata": "{}",
         "name": "retweeted",
         "type": "\"boolean\""
        },
        {
         "metadata": "{}",
         "name": "created_at",
         "type": "\"string\""
        },
        {
         "metadata": "{}",
         "name": "source",
         "type": "\"string\""
        },
        {
         "metadata": "{}",
         "name": "in_reply_to_user_id",
         "type": "\"string\""
        },
        {
         "metadata": "{}",
         "name": "in_reply_to_screen_name",
         "type": "\"string\""
        },
        {
         "metadata": "{}",
         "name": "source_text",
         "type": "\"string\""
        },
        {
         "metadata": "{}",
         "name": "place_id",
         "type": "\"string\""
        },
        {
         "metadata": "{}",
         "name": "place_url",
         "type": "\"string\""
        },
        {
         "metadata": "{}",
         "name": "place_place_type",
         "type": "\"string\""
        },
        {
         "metadata": "{}",
         "name": "place_name",
         "type": "\"string\""
        },
        {
         "metadata": "{}",
         "name": "place_full_name",
         "type": "\"string\""
        },
        {
         "metadata": "{}",
         "name": "place_country_code",
         "type": "\"string\""
        },
        {
         "metadata": "{}",
         "name": "place_country",
         "type": "\"string\""
        },
        {
         "metadata": "{}",
         "name": "place_bounding_box_type",
         "type": "\"string\""
        },
        {
         "metadata": "{}",
         "name": "place_bounding_box_coordinates",
         "type": "\"string\""
        },
        {
         "metadata": "{}",
         "name": "place_attributes",
         "type": "\"string\""
        },
        {
         "metadata": "{}",
         "name": "coords_type",
         "type": "\"string\""
        },
        {
         "metadata": "{}",
         "name": "coords_lon",
         "type": "\"string\""
        },
        {
         "metadata": "{}",
         "name": "coords_lat",
         "type": "\"string\""
        },
        {
         "metadata": "{}",
         "name": "geo_type",
         "type": "\"string\""
        },
        {
         "metadata": "{}",
         "name": "geo_lon",
         "type": "\"string\""
        },
        {
         "metadata": "{}",
         "name": "geo_lat",
         "type": "\"string\""
        },
        {
         "metadata": "{}",
         "name": "user_name",
         "type": "\"string\""
        },
        {
         "metadata": "{}",
         "name": "user_screen_name",
         "type": "\"string\""
        },
        {
         "metadata": "{}",
         "name": "user_followers",
         "type": "\"integer\""
        },
        {
         "metadata": "{}",
         "name": "user_friends",
         "type": "\"integer\""
        },
        {
         "metadata": "{}",
         "name": "user_listed",
         "type": "\"integer\""
        },
        {
         "metadata": "{}",
         "name": "user_favourites",
         "type": "\"integer\""
        },
        {
         "metadata": "{}",
         "name": "user_statuses",
         "type": "\"integer\""
        },
        {
         "metadata": "{}",
         "name": "user_protected",
         "type": "\"boolean\""
        },
        {
         "metadata": "{}",
         "name": "user_verified",
         "type": "\"boolean\""
        },
        {
         "metadata": "{}",
         "name": "user_contributors_enabled",
         "type": "\"boolean\""
        },
        {
         "metadata": "{}",
         "name": "user_joined",
         "type": "\"string\""
        },
        {
         "metadata": "{}",
         "name": "user_location",
         "type": "\"string\""
        },
        {
         "metadata": "{}",
         "name": "retweeted_tweet",
         "type": "\"string\""
        },
        {
         "metadata": "{}",
         "name": "tweet_text_urls",
         "type": "\"string\""
        },
        {
         "metadata": "{}",
         "name": "tweet_text_hashtags",
         "type": "\"string\""
        },
        {
         "metadata": "{}",
         "name": "tweet_text_usernames",
         "type": "\"string\""
        },
        {
         "metadata": "{}",
         "name": "num_urls_in_tweet_text",
         "type": "\"integer\""
        },
        {
         "metadata": "{}",
         "name": "num_users_in_tweet_text",
         "type": "\"integer\""
        },
        {
         "metadata": "{}",
         "name": "num_hashtags_in_tweet_text",
         "type": "\"integer\""
        },
        {
         "metadata": "{}",
         "name": "text",
         "type": "\"string\""
        },
        {
         "metadata": "{}",
         "name": "blank",
         "type": "\"string\""
        }
       ],
       "type": "table"
      }
     },
     "output_type": "display_data"
    }
   ],
   "source": [
    "df = (\n",
    "    spark.read\n",
    "    .format(\"csv\")\n",
    "    .option(\"inferSchema\", \"true\")\n",
    "    .option(\"header\", False)\n",
    "    .option(\"encoding\", \"utf-8\")\n",
    "    .option(\"delimiter\", \"\\t\")\n",
    "    .option(\"multiline\", \"false\")\n",
    "    # .option(\"quote\", \"\\\"\")\n",
    "    # .option(\"escape\", \"\\\"\")\n",
    "    # .option(\"escape\", \"\\n\")\n",
    "    .load(file_paths_full)\n",
    ")\n",
    "\n",
    "df = df.toDF(*pyspark_df_column_names)\n",
    "\n",
    "df = df.cache()\n",
    "\n",
    "print(f\"Number of rows after loading data = {df.count():,}\")\n",
    "\n",
    "# filter 1\n",
    "df = df.dropna(how='all')\n",
    "\n",
    "df = df.dropna(subset=[\"text\"])\n",
    "\n",
    "print(f\"Number of rows after dropping missing values = {df.count():,}\")\n",
    "\n",
    "# filter 2\n",
    "df1 = df.where(\n",
    "    reduce(\n",
    "        lambda a, b: a|b,\n",
    "        (\n",
    "            ~F.lower(df['text']).like('%'+pat+\"%\")\n",
    "            for pat in unwanted_partial_strings_list\n",
    "        )\n",
    "    )\n",
    ")\n",
    "\n",
    "print(\n",
    "    \"Number of rows after removing unwanted partial tweets using \"\n",
    "    f\"built-in PySpark functions = {df1.count():,}\"\n",
    ")\n",
    "\n",
    "df1 = df1.orderBy(F.col(\"id\").asc())\n",
    "\n",
    "display(df1.limit(10))"
   ]
  },
  {
   "cell_type": "markdown",
   "metadata": {
    "application/vnd.databricks.v1+cell": {
     "inputWidgets": {},
     "nuid": "28b9f59f-410d-4ea1-ab27-96226c26447f",
     "showTitle": false,
     "title": ""
    }
   },
   "source": [
    "**Observations**\n",
    "1. There appears to be a difference between the two approaches in terms of the number of rows with blank values that are removed. In this notebook, we will not further explore the differences between these two approaches of removing missing values.\n",
    "2. As we can see, the number of rows before and after applying the filter to remove tweets containing words in the list of unwanted words is the same. This filter was created using PySpark DataFrame's built-in methods but, unfortunately, this approach has not worked."
   ]
  },
  {
   "cell_type": "markdown",
   "metadata": {
    "application/vnd.databricks.v1+cell": {
     "inputWidgets": {},
     "nuid": "8bedf0db-2146-433b-9847-3def395bd5e3",
     "showTitle": false,
     "title": ""
    }
   },
   "source": [
    "### Load Data into single PySpark `DataFrame` and Apply Filters Using `pandas` User-Defined Functions"
   ]
  },
  {
   "cell_type": "markdown",
   "metadata": {
    "application/vnd.databricks.v1+cell": {
     "inputWidgets": {},
     "nuid": "9e2df43a-10d4-44db-b52c-42df8e95c0ba",
     "showTitle": false,
     "title": ""
    }
   },
   "source": [
    "The workaround for the filter to remove unwanted tweets, based on their words, will be to use a [PySpark `pandas` User Defined Functions (UDFs)](https://spark.apache.org/docs/3.0.0/sql-pyspark-pandas-with-arrow.html#pandas-udfs-aka-vectorized-udfs) that applies the `pandas` string method `.contains()` to remove the unwanted list of substrings in the tweet test column (`text`). The `pandas` UDF is defined below wrapped inside a Python function in order to pass a [keyword argument](https://docs.python.org/3/glossary.html) to the `pandas` UDF"
   ]
  },
  {
   "cell_type": "code",
   "execution_count": null,
   "metadata": {
    "application/vnd.databricks.v1+cell": {
     "inputWidgets": {},
     "nuid": "ebaf28bd-deb3-4e54-97ba-9f6c15cd5068",
     "showTitle": false,
     "title": ""
    }
   },
   "outputs": [],
   "source": [
    "def exclude_by_partial_str_wrapper(column: F.column, unwanted_partial_str: str='one|two') -> pd.Series:\n",
    "    \"\"\"Wrapper function to filter single column using pandas UDF with a keyword argument.\"\"\"\n",
    "\n",
    "    @F.pandas_udf(T.BooleanType(), F.PandasUDFType.SCALAR)\n",
    "    def exclude_by_partial_str(column: pd.Series) -> pd.Series:\n",
    "        return ~column.str.lower().str.contains(unwanted_partial_str)\n",
    "\n",
    "    return exclude_by_partial_str(column)"
   ]
  },
  {
   "cell_type": "markdown",
   "metadata": {
    "application/vnd.databricks.v1+cell": {
     "inputWidgets": {},
     "nuid": "e76fe633-b21f-4edb-93af-be1b839d2395",
     "showTitle": false,
     "title": ""
    }
   },
   "source": [
    "We'll now call this `pandas` UDF to exclude unwanted substrings from the tweet text column of the PySpark `DataFrame`"
   ]
  },
  {
   "cell_type": "code",
   "execution_count": null,
   "metadata": {
    "application/vnd.databricks.v1+cell": {
     "inputWidgets": {},
     "nuid": "95fbd60d-e6eb-474c-b5ca-23a207d3bd01",
     "showTitle": false,
     "title": ""
    }
   },
   "outputs": [
    {
     "data": {
      "text/plain": [
       "/databricks/spark/python/pyspark/sql/pandas/functions.py:386: UserWarning: In Python 3.6+ and Spark 3.0+, it is preferred to specify type hints for pandas UDF instead of specifying pandas UDF type which will be deprecated in the future releases. See SPARK-28264 for more details.\n",
       "  warnings.warn(\n",
       "Number of rows after removing unwanted partial tweets using pandas UDF = 25,965\n"
      ]
     },
     "metadata": {
      "application/vnd.databricks.v1+output": {
       "addedWidgets": {},
       "arguments": {},
       "data": "/databricks/spark/python/pyspark/sql/pandas/functions.py:386: UserWarning: In Python 3.6+ and Spark 3.0+, it is preferred to specify type hints for pandas UDF instead of specifying pandas UDF type which will be deprecated in the future releases. See SPARK-28264 for more details.\n  warnings.warn(\nNumber of rows after removing unwanted partial tweets using pandas UDF = 25,965\n",
       "datasetInfos": [],
       "metadata": {},
       "removedWidgets": [],
       "type": "ansi"
      }
     },
     "output_type": "display_data"
    },
    {
     "data": {
      "text/html": [
       "<style scoped>\n",
       "  .table-result-container {\n",
       "    max-height: 300px;\n",
       "    overflow: auto;\n",
       "  }\n",
       "  table, th, td {\n",
       "    border: 1px solid black;\n",
       "    border-collapse: collapse;\n",
       "  }\n",
       "  th, td {\n",
       "    padding: 5px;\n",
       "  }\n",
       "  th {\n",
       "    text-align: left;\n",
       "  }\n",
       "</style><div class='table-result-container'><table class='table-result'><thead style='background-color: white'><tr><th>id</th><th>geo</th><th>coordinates</th><th>place</th><th>contributors</th><th>is_quote_status</th><th>quote_count</th><th>reply_count</th><th>retweet_count</th><th>favorite_count</th><th>favorited</th><th>retweeted</th><th>created_at</th><th>source</th><th>in_reply_to_user_id</th><th>in_reply_to_screen_name</th><th>source_text</th><th>place_id</th><th>place_url</th><th>place_place_type</th><th>place_name</th><th>place_full_name</th><th>place_country_code</th><th>place_country</th><th>place_bounding_box_type</th><th>place_bounding_box_coordinates</th><th>place_attributes</th><th>coords_type</th><th>coords_lon</th><th>coords_lat</th><th>geo_type</th><th>geo_lon</th><th>geo_lat</th><th>user_name</th><th>user_screen_name</th><th>user_followers</th><th>user_friends</th><th>user_listed</th><th>user_favourites</th><th>user_statuses</th><th>user_protected</th><th>user_verified</th><th>user_contributors_enabled</th><th>user_joined</th><th>user_location</th><th>retweeted_tweet</th><th>tweet_text_urls</th><th>tweet_text_hashtags</th><th>tweet_text_usernames</th><th>num_urls_in_tweet_text</th><th>num_users_in_tweet_text</th><th>num_hashtags_in_tweet_text</th><th>text</th><th>blank</th><th>no_unwanted_strs</th></tr></thead><tbody><tr><td>1476607990027407364</td><td>None</td><td>None</td><td>None</td><td>None</td><td>False</td><td>0</td><td>0</td><td>0</td><td>0</td><td>false</td><td>false</td><td>Thu Dec 30 17:35:53 +0000 2021</td><td><a href=\"http://twitter.com/download/iphone\" rel=\"nofollow\">Twitter for iPhone</a></td><td>None</td><td>None</td><td>Twitter for iPhone</td><td>null</td><td>null</td><td>null</td><td>null</td><td>null</td><td>null</td><td>null</td><td>null</td><td>[[]]</td><td>{}</td><td>null</td><td>null</td><td>null</td><td>null</td><td>null</td><td>null</td><td>Happy New Years 2022</td><td>GuessWho122021</td><td>216</td><td>255</td><td>0</td><td>1165</td><td>3214</td><td>false</td><td>false</td><td>false</td><td>Sat Nov 27 20:38:14 +0000 2021</td><td>World Wide</td><td>no</td><td>https://t.co/yH8cBVuMj3</td><td>null</td><td>null</td><td>1</td><td>0</td><td>0</td><td>Space colonists may turn to cannibalism, scientists warn:The first generations to occupy space outposts may be left with few nutrition choices, scholars believe</td><td>null</td><td>true</td></tr><tr><td>1476607992586018824</td><td>None</td><td>None</td><td>None</td><td>None</td><td>True</td><td>0</td><td>0</td><td>0</td><td>0</td><td>false</td><td>false</td><td>Thu Dec 30 17:35:54 +0000 2021</td><td><a href=\"http://twitter.com/download/iphone\" rel=\"nofollow\">Twitter for iPhone</a></td><td>None</td><td>None</td><td>Twitter for iPhone</td><td>null</td><td>null</td><td>null</td><td>null</td><td>null</td><td>null</td><td>null</td><td>null</td><td>[[]]</td><td>{}</td><td>null</td><td>null</td><td>null</td><td>null</td><td>null</td><td>null</td><td>TheToysRusKid</td><td>JC1of1</td><td>202</td><td>313</td><td>0</td><td>18454</td><td>53653</td><td>false</td><td>false</td><td>false</td><td>Tue Sep 04 17:18:46 +0000 2018</td><td>Southern California </td><td>no</td><td>null</td><td>null</td><td>null</td><td>0</td><td>0</td><td>0</td><td>1. Beat Street2. Harlem Knights 3. National Lampoons Vacation 4. Bachelor Party 5. Do The right Thing6. How High7. Weird Science 8. Clerks 9. Beverly Hills Cop10. Goodfellas</td><td>null</td><td>true</td></tr><tr><td>1476607997405184000</td><td>None</td><td>None</td><td>None</td><td>None</td><td>False</td><td>0</td><td>0</td><td>0</td><td>0</td><td>false</td><td>false</td><td>Thu Dec 30 17:35:55 +0000 2021</td><td><a href=\"http://publicize.wp.com/\" rel=\"nofollow\">WordPress.com</a></td><td>None</td><td>None</td><td>WordPress.com</td><td>null</td><td>null</td><td>null</td><td>null</td><td>null</td><td>null</td><td>null</td><td>null</td><td>[[]]</td><td>{}</td><td>null</td><td>null</td><td>null</td><td>null</td><td>null</td><td>null</td><td>BCABA Network</td><td>BcabaNetwork</td><td>2581</td><td>4710</td><td>42</td><td>3027</td><td>238152</td><td>false</td><td>false</td><td>false</td><td>Wed May 25 10:54:46 +0000 2016</td><td>West Midlands, England</td><td>no</td><td>https://t.co/kPAMK3TxSL</td><td>null</td><td>null</td><td>1</td><td>0</td><td>0</td><td>NASA Plans Coverage of Webb Space Telescope Deployments</td><td>null</td><td>true</td></tr><tr><td>1476607997925330945</td><td>None</td><td>None</td><td>None</td><td>None</td><td>False</td><td>0</td><td>0</td><td>0</td><td>0</td><td>false</td><td>false</td><td>Thu Dec 30 17:35:55 +0000 2021</td><td><a href=\"http://twitter.com/download/iphone\" rel=\"nofollow\">Twitter for iPhone</a></td><td>None</td><td>None</td><td>Twitter for iPhone</td><td>null</td><td>null</td><td>null</td><td>null</td><td>null</td><td>null</td><td>null</td><td>null</td><td>[[]]</td><td>{}</td><td>null</td><td>null</td><td>null</td><td>null</td><td>null</td><td>null</td><td>Jude Jackson 💙 Solidarity with #NHS workers</td><td>JudeJack</td><td>2138</td><td>4999</td><td>157</td><td>79973</td><td>109065</td><td>false</td><td>false</td><td>false</td><td>Sat Feb 21 14:48:52 +0000 2009</td><td>International</td><td>no</td><td>https://t.co/cRcHiFCHS0</td><td>null</td><td>null</td><td>1</td><td>0</td><td>0</td><td>Exciting times!Back in 1915, Einstein published his theory of General Relativity. 1917 the Bolsheviks led the worlds’ first proletarian revolution. Humanity is about to peer back to the beginning of time, and the world is poised once again for revolution.</td><td>null</td><td>true</td></tr><tr><td>1476608000114802695</td><td>None</td><td>None</td><td>None</td><td>None</td><td>False</td><td>0</td><td>0</td><td>0</td><td>0</td><td>false</td><td>false</td><td>Thu Dec 30 17:35:55 +0000 2021</td><td><a href=\"http://twitter.com/download/iphone\" rel=\"nofollow\">Twitter for iPhone</a></td><td>None</td><td>None</td><td>Twitter for iPhone</td><td>null</td><td>null</td><td>null</td><td>null</td><td>null</td><td>null</td><td>null</td><td>null</td><td>[[]]</td><td>{}</td><td>null</td><td>null</td><td>null</td><td>null</td><td>null</td><td>null</td><td>Alan Stern</td><td>AlanStern</td><td>43743</td><td>1719</td><td>1163</td><td>33719</td><td>40081</td><td>false</td><td>false</td><td>false</td><td>Sat Jul 26 17:50:37 +0000 2008</td><td>Niwot, CO</td><td>no</td><td>null</td><td>null</td><td>ng_rippel|rhwells79|AlanStern|NBCNews</td><td>0</td><td>4</td><td>0</td><td>    Obviously, since science is a mental mode of nature and Pluto doesn’t have a mind. But having it is the very essence of science and that requires functionally useful concepts like “planet”. Non-functional concepts hurt the progress of science and the public’s insights into it.</td><td>null</td><td>true</td></tr><tr><td>1476608001402277893</td><td>None</td><td>None</td><td>None</td><td>None</td><td>False</td><td>0</td><td>0</td><td>0</td><td>0</td><td>false</td><td>false</td><td>Thu Dec 30 17:35:56 +0000 2021</td><td><a href=\"http://twitter.com/download/iphone\" rel=\"nofollow\">Twitter for iPhone</a></td><td>None</td><td>None</td><td>Twitter for iPhone</td><td>null</td><td>null</td><td>null</td><td>null</td><td>null</td><td>null</td><td>null</td><td>null</td><td>[[]]</td><td>{}</td><td>null</td><td>null</td><td>null</td><td>null</td><td>null</td><td>null</td><td>Nhada Naim</td><td>kognomee_</td><td>115</td><td>403</td><td>0</td><td>14149</td><td>19509</td><td>false</td><td>false</td><td>false</td><td>Mon Sep 12 07:35:14 +0000 2016</td><td>Im there but not too far </td><td>no</td><td>null</td><td>null</td><td>null</td><td>0</td><td>0</td><td>0</td><td>Jupiter is in Penis and Vagina is stationed retrograde. Wear a condom ya’ll</td><td>null</td><td>true</td></tr><tr><td>1476608002782203915</td><td>None</td><td>None</td><td>None</td><td>None</td><td>False</td><td>0</td><td>0</td><td>0</td><td>0</td><td>false</td><td>false</td><td>Thu Dec 30 17:35:56 +0000 2021</td><td><a href=\"https://mobile.twitter.com\" rel=\"nofollow\">Twitter Web App</a></td><td>None</td><td>None</td><td>Twitter Web App</td><td>null</td><td>null</td><td>null</td><td>null</td><td>null</td><td>null</td><td>null</td><td>null</td><td>[[]]</td><td>{}</td><td>null</td><td>null</td><td>null</td><td>null</td><td>null</td><td>null</td><td>Themistoclea (Bonnie DeVarco)</td><td>Themistoclea</td><td>358</td><td>514</td><td>101</td><td>1004</td><td>7869</td><td>false</td><td>false</td><td>false</td><td>Tue Dec 23 19:34:02 +0000 2008</td><td>Ubiquitous</td><td>no</td><td>https://t.co/czsEhxCaVk|https://t.co/n65TKzRAHV</td><td>null</td><td>NASAWebb</td><td>2</td><td>1</td><td>0</td><td>How 'bout we squeeze in some good news before the year ends? Not only did  deploy its tower assembly, the team also said the telescope's launch was so precise that we should expect the science to continue well beyond 10 years! </td><td>null</td><td>true</td></tr><tr><td>1476608009669201922</td><td>None</td><td>None</td><td>None</td><td>None</td><td>True</td><td>0</td><td>0</td><td>0</td><td>0</td><td>false</td><td>false</td><td>Thu Dec 30 17:35:58 +0000 2021</td><td><a href=\"https://mobile.twitter.com\" rel=\"nofollow\">Twitter Web App</a></td><td>None</td><td>None</td><td>Twitter Web App</td><td>null</td><td>null</td><td>null</td><td>null</td><td>null</td><td>null</td><td>null</td><td>null</td><td>[[]]</td><td>{}</td><td>null</td><td>null</td><td>null</td><td>null</td><td>null</td><td>null</td><td>Radio Justice 📻🎙⚖</td><td>justiceputnam</td><td>2599</td><td>1395</td><td>84</td><td>93424</td><td>193934</td><td>false</td><td>false</td><td>false</td><td>Tue Jul 14 05:10:36 +0000 2009</td><td>Rogue River, Oregon #homebase</td><td>no</td><td>null</td><td>null</td><td>null</td><td>0</td><td>0</td><td>0</td><td>NASA: It wasn't a strike, it was just a work slowdown.</td><td>null</td><td>true</td></tr><tr><td>1476608010202066949</td><td>None</td><td>None</td><td>None</td><td>None</td><td>False</td><td>0</td><td>0</td><td>0</td><td>0</td><td>false</td><td>false</td><td>Thu Dec 30 17:35:58 +0000 2021</td><td><a href=\"http://twitter.com/download/iphone\" rel=\"nofollow\">Twitter for iPhone</a></td><td>None</td><td>None</td><td>Twitter for iPhone</td><td>null</td><td>null</td><td>null</td><td>null</td><td>null</td><td>null</td><td>null</td><td>null</td><td>[[]]</td><td>{}</td><td>null</td><td>null</td><td>null</td><td>null</td><td>null</td><td>null</td><td>Kwaku Barcelona</td><td>o_theophilus1</td><td>3845</td><td>1011</td><td>3</td><td>25207</td><td>23203</td><td>false</td><td>false</td><td>false</td><td>Sun Apr 03 20:59:45 +0000 2016</td><td>Kumerican/Ghana/WestAfrica/USA</td><td>no</td><td>null</td><td>null</td><td>FabrizioRomano</td><td>0</td><td>1</td><td>0</td><td> I was being interviewed by Elon Musk. He asked, \"where are you from\", and I said Portugal. He replied, \"so you are a fellow country man of a Pen merchant whose freekick ball broke my rover on Mars. Get out!\". Tears ran down my face. Shame on you Pendu for costing me my dream job</td><td>null</td><td>true</td></tr><tr><td>1476608015965040643</td><td>None</td><td>None</td><td>None</td><td>None</td><td>False</td><td>0</td><td>0</td><td>0</td><td>0</td><td>false</td><td>false</td><td>Thu Dec 30 17:35:59 +0000 2021</td><td><a href=\"http://buckshee.petimer.ru\" rel=\"nofollow\">Buckshee Forum</a></td><td>None</td><td>None</td><td>Buckshee Forum</td><td>null</td><td>null</td><td>null</td><td>null</td><td>null</td><td>null</td><td>null</td><td>null</td><td>[[]]</td><td>{}</td><td>null</td><td>null</td><td>null</td><td>null</td><td>null</td><td>null</td><td>The Buckshee</td><td>BucksheeForum</td><td>17</td><td>1</td><td>0</td><td>0</td><td>329009</td><td>false</td><td>false</td><td>false</td><td>Fri Nov 03 12:41:31 +0000 2017</td><td>None</td><td>no</td><td>https://t.co/V1zNCNlkQPJames</td><td>null</td><td>null</td><td>1</td><td>0</td><td>0</td><td> Webb telescope is captured soaring through space from Earth</td><td>null</td><td>true</td></tr></tbody></table></div>"
      ]
     },
     "metadata": {
      "application/vnd.databricks.v1+output": {
       "addedWidgets": {},
       "aggData": [],
       "aggError": "",
       "aggOverflow": false,
       "aggSchema": [],
       "aggSeriesLimitReached": false,
       "aggType": "",
       "arguments": {},
       "columnCustomDisplayInfos": {},
       "data": [
        [
         "1476607990027407364",
         "None",
         "None",
         "None",
         "None",
         "False",
         0,
         0,
         "0",
         0,
         false,
         false,
         "Thu Dec 30 17:35:53 +0000 2021",
         "<a href=\"http://twitter.com/download/iphone\" rel=\"nofollow\">Twitter for iPhone</a>",
         "None",
         "None",
         "Twitter for iPhone",
         null,
         null,
         null,
         null,
         null,
         null,
         null,
         null,
         "[[]]",
         "{}",
         null,
         null,
         null,
         null,
         null,
         null,
         "Happy New Years 2022",
         "GuessWho122021",
         216,
         255,
         0,
         1165,
         3214,
         false,
         false,
         false,
         "Sat Nov 27 20:38:14 +0000 2021",
         "World Wide",
         "no",
         "https://t.co/yH8cBVuMj3",
         null,
         null,
         1,
         0,
         0,
         "Space colonists may turn to cannibalism, scientists warn:The first generations to occupy space outposts may be left with few nutrition choices, scholars believe",
         null,
         true
        ],
        [
         "1476607992586018824",
         "None",
         "None",
         "None",
         "None",
         "True",
         0,
         0,
         "0",
         0,
         false,
         false,
         "Thu Dec 30 17:35:54 +0000 2021",
         "<a href=\"http://twitter.com/download/iphone\" rel=\"nofollow\">Twitter for iPhone</a>",
         "None",
         "None",
         "Twitter for iPhone",
         null,
         null,
         null,
         null,
         null,
         null,
         null,
         null,
         "[[]]",
         "{}",
         null,
         null,
         null,
         null,
         null,
         null,
         "TheToysRusKid",
         "JC1of1",
         202,
         313,
         0,
         18454,
         53653,
         false,
         false,
         false,
         "Tue Sep 04 17:18:46 +0000 2018",
         "Southern California ",
         "no",
         null,
         null,
         null,
         0,
         0,
         0,
         "1. Beat Street2. Harlem Knights 3. National Lampoons Vacation 4. Bachelor Party 5. Do The right Thing6. How High7. Weird Science 8. Clerks 9. Beverly Hills Cop10. Goodfellas",
         null,
         true
        ],
        [
         "1476607997405184000",
         "None",
         "None",
         "None",
         "None",
         "False",
         0,
         0,
         "0",
         0,
         false,
         false,
         "Thu Dec 30 17:35:55 +0000 2021",
         "<a href=\"http://publicize.wp.com/\" rel=\"nofollow\">WordPress.com</a>",
         "None",
         "None",
         "WordPress.com",
         null,
         null,
         null,
         null,
         null,
         null,
         null,
         null,
         "[[]]",
         "{}",
         null,
         null,
         null,
         null,
         null,
         null,
         "BCABA Network",
         "BcabaNetwork",
         2581,
         4710,
         42,
         3027,
         238152,
         false,
         false,
         false,
         "Wed May 25 10:54:46 +0000 2016",
         "West Midlands, England",
         "no",
         "https://t.co/kPAMK3TxSL",
         null,
         null,
         1,
         0,
         0,
         "NASA Plans Coverage of Webb Space Telescope Deployments",
         null,
         true
        ],
        [
         "1476607997925330945",
         "None",
         "None",
         "None",
         "None",
         "False",
         0,
         0,
         "0",
         0,
         false,
         false,
         "Thu Dec 30 17:35:55 +0000 2021",
         "<a href=\"http://twitter.com/download/iphone\" rel=\"nofollow\">Twitter for iPhone</a>",
         "None",
         "None",
         "Twitter for iPhone",
         null,
         null,
         null,
         null,
         null,
         null,
         null,
         null,
         "[[]]",
         "{}",
         null,
         null,
         null,
         null,
         null,
         null,
         "Jude Jackson 💙 Solidarity with #NHS workers",
         "JudeJack",
         2138,
         4999,
         157,
         79973,
         109065,
         false,
         false,
         false,
         "Sat Feb 21 14:48:52 +0000 2009",
         "International",
         "no",
         "https://t.co/cRcHiFCHS0",
         null,
         null,
         1,
         0,
         0,
         "Exciting times!Back in 1915, Einstein published his theory of General Relativity. 1917 the Bolsheviks led the worlds’ first proletarian revolution. Humanity is about to peer back to the beginning of time, and the world is poised once again for revolution.",
         null,
         true
        ],
        [
         "1476608000114802695",
         "None",
         "None",
         "None",
         "None",
         "False",
         0,
         0,
         "0",
         0,
         false,
         false,
         "Thu Dec 30 17:35:55 +0000 2021",
         "<a href=\"http://twitter.com/download/iphone\" rel=\"nofollow\">Twitter for iPhone</a>",
         "None",
         "None",
         "Twitter for iPhone",
         null,
         null,
         null,
         null,
         null,
         null,
         null,
         null,
         "[[]]",
         "{}",
         null,
         null,
         null,
         null,
         null,
         null,
         "Alan Stern",
         "AlanStern",
         43743,
         1719,
         1163,
         33719,
         40081,
         false,
         false,
         false,
         "Sat Jul 26 17:50:37 +0000 2008",
         "Niwot, CO",
         "no",
         null,
         null,
         "ng_rippel|rhwells79|AlanStern|NBCNews",
         0,
         4,
         0,
         "    Obviously, since science is a mental mode of nature and Pluto doesn’t have a mind. But having it is the very essence of science and that requires functionally useful concepts like “planet”. Non-functional concepts hurt the progress of science and the public’s insights into it.",
         null,
         true
        ],
        [
         "1476608001402277893",
         "None",
         "None",
         "None",
         "None",
         "False",
         0,
         0,
         "0",
         0,
         false,
         false,
         "Thu Dec 30 17:35:56 +0000 2021",
         "<a href=\"http://twitter.com/download/iphone\" rel=\"nofollow\">Twitter for iPhone</a>",
         "None",
         "None",
         "Twitter for iPhone",
         null,
         null,
         null,
         null,
         null,
         null,
         null,
         null,
         "[[]]",
         "{}",
         null,
         null,
         null,
         null,
         null,
         null,
         "Nhada Naim",
         "kognomee_",
         115,
         403,
         0,
         14149,
         19509,
         false,
         false,
         false,
         "Mon Sep 12 07:35:14 +0000 2016",
         "Im there but not too far ",
         "no",
         null,
         null,
         null,
         0,
         0,
         0,
         "Jupiter is in Penis and Vagina is stationed retrograde. Wear a condom ya’ll",
         null,
         true
        ],
        [
         "1476608002782203915",
         "None",
         "None",
         "None",
         "None",
         "False",
         0,
         0,
         "0",
         0,
         false,
         false,
         "Thu Dec 30 17:35:56 +0000 2021",
         "<a href=\"https://mobile.twitter.com\" rel=\"nofollow\">Twitter Web App</a>",
         "None",
         "None",
         "Twitter Web App",
         null,
         null,
         null,
         null,
         null,
         null,
         null,
         null,
         "[[]]",
         "{}",
         null,
         null,
         null,
         null,
         null,
         null,
         "Themistoclea (Bonnie DeVarco)",
         "Themistoclea",
         358,
         514,
         101,
         1004,
         7869,
         false,
         false,
         false,
         "Tue Dec 23 19:34:02 +0000 2008",
         "Ubiquitous",
         "no",
         "https://t.co/czsEhxCaVk|https://t.co/n65TKzRAHV",
         null,
         "NASAWebb",
         2,
         1,
         0,
         "How 'bout we squeeze in some good news before the year ends? Not only did  deploy its tower assembly, the team also said the telescope's launch was so precise that we should expect the science to continue well beyond 10 years! ",
         null,
         true
        ],
        [
         "1476608009669201922",
         "None",
         "None",
         "None",
         "None",
         "True",
         0,
         0,
         "0",
         0,
         false,
         false,
         "Thu Dec 30 17:35:58 +0000 2021",
         "<a href=\"https://mobile.twitter.com\" rel=\"nofollow\">Twitter Web App</a>",
         "None",
         "None",
         "Twitter Web App",
         null,
         null,
         null,
         null,
         null,
         null,
         null,
         null,
         "[[]]",
         "{}",
         null,
         null,
         null,
         null,
         null,
         null,
         "Radio Justice 📻🎙⚖",
         "justiceputnam",
         2599,
         1395,
         84,
         93424,
         193934,
         false,
         false,
         false,
         "Tue Jul 14 05:10:36 +0000 2009",
         "Rogue River, Oregon #homebase",
         "no",
         null,
         null,
         null,
         0,
         0,
         0,
         "NASA: It wasn't a strike, it was just a work slowdown.",
         null,
         true
        ],
        [
         "1476608010202066949",
         "None",
         "None",
         "None",
         "None",
         "False",
         0,
         0,
         "0",
         0,
         false,
         false,
         "Thu Dec 30 17:35:58 +0000 2021",
         "<a href=\"http://twitter.com/download/iphone\" rel=\"nofollow\">Twitter for iPhone</a>",
         "None",
         "None",
         "Twitter for iPhone",
         null,
         null,
         null,
         null,
         null,
         null,
         null,
         null,
         "[[]]",
         "{}",
         null,
         null,
         null,
         null,
         null,
         null,
         "Kwaku Barcelona",
         "o_theophilus1",
         3845,
         1011,
         3,
         25207,
         23203,
         false,
         false,
         false,
         "Sun Apr 03 20:59:45 +0000 2016",
         "Kumerican/Ghana/WestAfrica/USA",
         "no",
         null,
         null,
         "FabrizioRomano",
         0,
         1,
         0,
         " I was being interviewed by Elon Musk. He asked, \"where are you from\", and I said Portugal. He replied, \"so you are a fellow country man of a Pen merchant whose freekick ball broke my rover on Mars. Get out!\". Tears ran down my face. Shame on you Pendu for costing me my dream job",
         null,
         true
        ],
        [
         "1476608015965040643",
         "None",
         "None",
         "None",
         "None",
         "False",
         0,
         0,
         "0",
         0,
         false,
         false,
         "Thu Dec 30 17:35:59 +0000 2021",
         "<a href=\"http://buckshee.petimer.ru\" rel=\"nofollow\">Buckshee Forum</a>",
         "None",
         "None",
         "Buckshee Forum",
         null,
         null,
         null,
         null,
         null,
         null,
         null,
         null,
         "[[]]",
         "{}",
         null,
         null,
         null,
         null,
         null,
         null,
         "The Buckshee",
         "BucksheeForum",
         17,
         1,
         0,
         0,
         329009,
         false,
         false,
         false,
         "Fri Nov 03 12:41:31 +0000 2017",
         "None",
         "no",
         "https://t.co/V1zNCNlkQPJames",
         null,
         null,
         1,
         0,
         0,
         " Webb telescope is captured soaring through space from Earth",
         null,
         true
        ]
       ],
       "datasetInfos": [],
       "dbfsResultPath": null,
       "isJsonSchema": true,
       "metadata": {},
       "overflow": false,
       "plotOptions": {
        "customPlotOptions": {},
        "displayType": "table",
        "pivotAggregation": null,
        "pivotColumns": null,
        "xColumns": null,
        "yColumns": null
       },
       "removedWidgets": [],
       "schema": [
        {
         "metadata": "{}",
         "name": "id",
         "type": "\"string\""
        },
        {
         "metadata": "{}",
         "name": "geo",
         "type": "\"string\""
        },
        {
         "metadata": "{}",
         "name": "coordinates",
         "type": "\"string\""
        },
        {
         "metadata": "{}",
         "name": "place",
         "type": "\"string\""
        },
        {
         "metadata": "{}",
         "name": "contributors",
         "type": "\"string\""
        },
        {
         "metadata": "{}",
         "name": "is_quote_status",
         "type": "\"string\""
        },
        {
         "metadata": "{}",
         "name": "quote_count",
         "type": "\"integer\""
        },
        {
         "metadata": "{}",
         "name": "reply_count",
         "type": "\"integer\""
        },
        {
         "metadata": "{}",
         "name": "retweet_count",
         "type": "\"string\""
        },
        {
         "metadata": "{}",
         "name": "favorite_count",
         "type": "\"integer\""
        },
        {
         "metadata": "{}",
         "name": "favorited",
         "type": "\"boolean\""
        },
        {
         "metadata": "{}",
         "name": "retweeted",
         "type": "\"boolean\""
        },
        {
         "metadata": "{}",
         "name": "created_at",
         "type": "\"string\""
        },
        {
         "metadata": "{}",
         "name": "source",
         "type": "\"string\""
        },
        {
         "metadata": "{}",
         "name": "in_reply_to_user_id",
         "type": "\"string\""
        },
        {
         "metadata": "{}",
         "name": "in_reply_to_screen_name",
         "type": "\"string\""
        },
        {
         "metadata": "{}",
         "name": "source_text",
         "type": "\"string\""
        },
        {
         "metadata": "{}",
         "name": "place_id",
         "type": "\"string\""
        },
        {
         "metadata": "{}",
         "name": "place_url",
         "type": "\"string\""
        },
        {
         "metadata": "{}",
         "name": "place_place_type",
         "type": "\"string\""
        },
        {
         "metadata": "{}",
         "name": "place_name",
         "type": "\"string\""
        },
        {
         "metadata": "{}",
         "name": "place_full_name",
         "type": "\"string\""
        },
        {
         "metadata": "{}",
         "name": "place_country_code",
         "type": "\"string\""
        },
        {
         "metadata": "{}",
         "name": "place_country",
         "type": "\"string\""
        },
        {
         "metadata": "{}",
         "name": "place_bounding_box_type",
         "type": "\"string\""
        },
        {
         "metadata": "{}",
         "name": "place_bounding_box_coordinates",
         "type": "\"string\""
        },
        {
         "metadata": "{}",
         "name": "place_attributes",
         "type": "\"string\""
        },
        {
         "metadata": "{}",
         "name": "coords_type",
         "type": "\"string\""
        },
        {
         "metadata": "{}",
         "name": "coords_lon",
         "type": "\"string\""
        },
        {
         "metadata": "{}",
         "name": "coords_lat",
         "type": "\"string\""
        },
        {
         "metadata": "{}",
         "name": "geo_type",
         "type": "\"string\""
        },
        {
         "metadata": "{}",
         "name": "geo_lon",
         "type": "\"string\""
        },
        {
         "metadata": "{}",
         "name": "geo_lat",
         "type": "\"string\""
        },
        {
         "metadata": "{}",
         "name": "user_name",
         "type": "\"string\""
        },
        {
         "metadata": "{}",
         "name": "user_screen_name",
         "type": "\"string\""
        },
        {
         "metadata": "{}",
         "name": "user_followers",
         "type": "\"integer\""
        },
        {
         "metadata": "{}",
         "name": "user_friends",
         "type": "\"integer\""
        },
        {
         "metadata": "{}",
         "name": "user_listed",
         "type": "\"integer\""
        },
        {
         "metadata": "{}",
         "name": "user_favourites",
         "type": "\"integer\""
        },
        {
         "metadata": "{}",
         "name": "user_statuses",
         "type": "\"integer\""
        },
        {
         "metadata": "{}",
         "name": "user_protected",
         "type": "\"boolean\""
        },
        {
         "metadata": "{}",
         "name": "user_verified",
         "type": "\"boolean\""
        },
        {
         "metadata": "{}",
         "name": "user_contributors_enabled",
         "type": "\"boolean\""
        },
        {
         "metadata": "{}",
         "name": "user_joined",
         "type": "\"string\""
        },
        {
         "metadata": "{}",
         "name": "user_location",
         "type": "\"string\""
        },
        {
         "metadata": "{}",
         "name": "retweeted_tweet",
         "type": "\"string\""
        },
        {
         "metadata": "{}",
         "name": "tweet_text_urls",
         "type": "\"string\""
        },
        {
         "metadata": "{}",
         "name": "tweet_text_hashtags",
         "type": "\"string\""
        },
        {
         "metadata": "{}",
         "name": "tweet_text_usernames",
         "type": "\"string\""
        },
        {
         "metadata": "{}",
         "name": "num_urls_in_tweet_text",
         "type": "\"integer\""
        },
        {
         "metadata": "{}",
         "name": "num_users_in_tweet_text",
         "type": "\"integer\""
        },
        {
         "metadata": "{}",
         "name": "num_hashtags_in_tweet_text",
         "type": "\"integer\""
        },
        {
         "metadata": "{}",
         "name": "text",
         "type": "\"string\""
        },
        {
         "metadata": "{}",
         "name": "blank",
         "type": "\"string\""
        },
        {
         "metadata": "{}",
         "name": "no_unwanted_strs",
         "type": "\"boolean\""
        }
       ],
       "type": "table"
      }
     },
     "output_type": "display_data"
    }
   ],
   "source": [
    "# filter 2\n",
    "df2 = df.withColumn(\n",
    "    \"no_unwanted_strs\",\n",
    "    exclude_by_partial_str_wrapper(F.col(\"text\"), unwanted_partial_strings)\n",
    ").filter(F.col(\"no_unwanted_strs\") == 1)\n",
    "print(\n",
    "    f\"Number of rows after removing unwanted partial tweets using pandas UDF = {df2.count():,}\"\n",
    ")\n",
    "\n",
    "df2 = df2.orderBy(F.col(\"id\").asc())\n",
    "\n",
    "display(df2.limit(10))"
   ]
  },
  {
   "cell_type": "markdown",
   "metadata": {
    "application/vnd.databricks.v1+cell": {
     "inputWidgets": {},
     "nuid": "80fd35f9-ab4f-46a2-9b4f-eac2d5b4f570",
     "showTitle": false,
     "title": ""
    }
   },
   "source": [
    "**Notes**\n",
    "1. The discrepancy between the number of rows remaining after filtering is due to the difference between how `pandas` and `pySpark` appears to drop rows with missing values, which we identified earlier.\n",
    "\n",
    "**Observations**\n",
    "1. As we can see, the filter to remove the list of unwanted words from the tweets is now being applied and the number of rows after filtering is less than before filtering."
   ]
  },
  {
   "cell_type": "markdown",
   "metadata": {
    "application/vnd.databricks.v1+cell": {
     "inputWidgets": {},
     "nuid": "5ed7fc6e-c557-4fd5-92fb-fbb08159c05e",
     "showTitle": false,
     "title": ""
    }
   },
   "source": [
    "### Load and Filter All Data with PySpark"
   ]
  },
  {
   "cell_type": "markdown",
   "metadata": {
    "application/vnd.databricks.v1+cell": {
     "inputWidgets": {},
     "nuid": "1ff6c87a-138e-47b0-841c-e502ad29782b",
     "showTitle": false,
     "title": ""
    }
   },
   "source": [
    "We'll now repeat the entire PySpark workflow with the files from both 2021 (used above) and 2022."
   ]
  },
  {
   "cell_type": "markdown",
   "metadata": {
    "application/vnd.databricks.v1+cell": {
     "inputWidgets": {},
     "nuid": "3fe3e5c8-9f8f-452d-8d66-bab04d7a083b",
     "showTitle": false,
     "title": ""
    }
   },
   "source": [
    "First, we'll get a flat list with the Databricks filesystem filepaths covering tweets streamed during both 2021 and 2022"
   ]
  },
  {
   "cell_type": "code",
   "execution_count": null,
   "metadata": {
    "application/vnd.databricks.v1+cell": {
     "inputWidgets": {},
     "nuid": "989b4920-962a-48f8-844c-ba41a2e0b497",
     "showTitle": false,
     "title": ""
    }
   },
   "outputs": [
    {
     "data": {
      "text/html": [
       "<style scoped>\n",
       "  .ansiout {\n",
       "    display: block;\n",
       "    unicode-bidi: embed;\n",
       "    white-space: pre-wrap;\n",
       "    word-wrap: break-word;\n",
       "    word-break: break-all;\n",
       "    font-family: \"Source Code Pro\", \"Menlo\", monospace;;\n",
       "    font-size: 13px;\n",
       "    color: #555;\n",
       "    margin-left: 4px;\n",
       "    line-height: 19px;\n",
       "  }\n",
       "</style>"
      ]
     },
     "metadata": {
      "application/vnd.databricks.v1+output": {
       "arguments": {},
       "data": "",
       "errorSummary": "",
       "errorTraceType": null,
       "metadata": {},
       "type": "ipynbError"
      }
     },
     "output_type": "display_data"
    }
   ],
   "source": [
    "# get list of hourly folders, per day\n",
    "list_of_hourly_dirs_flat_all = get_hourly_folders_per_day(s3_bucket_name, path_to_folder, [2021, 2022])\n",
    "print(f\"Found {len(list_of_hourly_dirs_flat_all):,} hourly folders\")\n",
    "\n",
    "# Mount folders to databricks datasets\n",
    "dataset_names_all = mount_all_hourly_files(s3_bucket_name, list_of_hourly_dirs_flat_all)\n",
    "print(f\"Finished mounting {len(dataset_names_all):,} datasets\")"
   ]
  },
  {
   "cell_type": "code",
   "execution_count": null,
   "metadata": {
    "application/vnd.databricks.v1+cell": {
     "inputWidgets": {},
     "nuid": "f0f44e42-df6a-424a-812a-f91cf56535a9",
     "showTitle": false,
     "title": ""
    }
   },
   "outputs": [
    {
     "data": {
      "text/plain": [
       "Printing attributes for first 10 mounted files:\n"
      ]
     },
     "metadata": {
      "application/vnd.databricks.v1+output": {
       "addedWidgets": {},
       "arguments": {},
       "data": "Printing attributes for first 10 mounted files:\n",
       "datasetInfos": [],
       "metadata": {},
       "removedWidgets": [],
       "type": "ansi"
      }
     },
     "output_type": "display_data"
    },
    {
     "data": {
      "text/html": [
       "<style scoped>\n",
       "  .table-result-container {\n",
       "    max-height: 300px;\n",
       "    overflow: auto;\n",
       "  }\n",
       "  table, th, td {\n",
       "    border: 1px solid black;\n",
       "    border-collapse: collapse;\n",
       "  }\n",
       "  th, td {\n",
       "    padding: 5px;\n",
       "  }\n",
       "  th {\n",
       "    text-align: left;\n",
       "  }\n",
       "</style><div class='table-result-container'><table class='table-result'><thead style='background-color: white'><tr><th>path</th><th>name</th><th>size</th></tr></thead><tbody><tr><td>dbfs:/mnt/kinesis-demo_2021_12_30_17/twitter_delivery_stream-1-2021-12-30-17-35-58-b98c4593-2164-445f-9c09-b80d647c80fe</td><td>twitter_delivery_stream-1-2021-12-30-17-35-58-b98c4593-2164-445f-9c09-b80d647c80fe</td><td>68390</td></tr><tr><td>dbfs:/mnt/kinesis-demo_2021_12_30_17/twitter_delivery_stream-1-2021-12-30-17-37-00-03050126-c5a3-457a-9141-44c723e9a16e</td><td>twitter_delivery_stream-1-2021-12-30-17-37-00-03050126-c5a3-457a-9141-44c723e9a16e</td><td>75672</td></tr><tr><td>dbfs:/mnt/kinesis-demo_2021_12_30_17/twitter_delivery_stream-1-2021-12-30-17-38-01-ee043884-55a1-4696-afe2-ae744d931748</td><td>twitter_delivery_stream-1-2021-12-30-17-38-01-ee043884-55a1-4696-afe2-ae744d931748</td><td>73484</td></tr><tr><td>dbfs:/mnt/kinesis-demo_2021_12_30_17/twitter_delivery_stream-1-2021-12-30-17-39-01-45daac32-de3f-4189-b312-8cd405214fe4</td><td>twitter_delivery_stream-1-2021-12-30-17-39-01-45daac32-de3f-4189-b312-8cd405214fe4</td><td>93691</td></tr><tr><td>dbfs:/mnt/kinesis-demo_2021_12_30_17/twitter_delivery_stream-1-2021-12-30-17-40-03-9c7445d1-3438-4c6c-96df-4629d801bbd1</td><td>twitter_delivery_stream-1-2021-12-30-17-40-03-9c7445d1-3438-4c6c-96df-4629d801bbd1</td><td>93241</td></tr><tr><td>dbfs:/mnt/kinesis-demo_2021_12_30_17/twitter_delivery_stream-1-2021-12-30-17-41-03-b8becce2-f393-42a9-bc9c-f8847fb4a7d2</td><td>twitter_delivery_stream-1-2021-12-30-17-41-03-b8becce2-f393-42a9-bc9c-f8847fb4a7d2</td><td>71521</td></tr><tr><td>dbfs:/mnt/kinesis-demo_2021_12_30_17/twitter_delivery_stream-1-2021-12-30-17-42-05-d4790ec9-be7b-443a-9109-3d3614310fd9</td><td>twitter_delivery_stream-1-2021-12-30-17-42-05-d4790ec9-be7b-443a-9109-3d3614310fd9</td><td>68828</td></tr><tr><td>dbfs:/mnt/kinesis-demo_2021_12_30_17/twitter_delivery_stream-1-2021-12-30-17-43-05-bbf49b5b-a7a8-4ed7-a7ef-27e366aa82c0</td><td>twitter_delivery_stream-1-2021-12-30-17-43-05-bbf49b5b-a7a8-4ed7-a7ef-27e366aa82c0</td><td>71076</td></tr><tr><td>dbfs:/mnt/kinesis-demo_2021_12_30_17/twitter_delivery_stream-1-2021-12-30-17-44-07-2bf0e38a-9da5-4437-b696-995b1abd0bea</td><td>twitter_delivery_stream-1-2021-12-30-17-44-07-2bf0e38a-9da5-4437-b696-995b1abd0bea</td><td>69835</td></tr><tr><td>dbfs:/mnt/kinesis-demo_2021_12_30_17/twitter_delivery_stream-1-2021-12-30-17-45-07-78f1c731-826b-456c-b6c5-51f4d06ca11b</td><td>twitter_delivery_stream-1-2021-12-30-17-45-07-78f1c731-826b-456c-b6c5-51f4d06ca11b</td><td>77615</td></tr></tbody></table></div>"
      ]
     },
     "metadata": {
      "application/vnd.databricks.v1+output": {
       "addedWidgets": {},
       "aggData": [],
       "aggError": "",
       "aggOverflow": false,
       "aggSchema": [],
       "aggSeriesLimitReached": false,
       "aggType": "",
       "arguments": {},
       "columnCustomDisplayInfos": {},
       "data": [
        [
         "dbfs:/mnt/kinesis-demo_2021_12_30_17/twitter_delivery_stream-1-2021-12-30-17-35-58-b98c4593-2164-445f-9c09-b80d647c80fe",
         "twitter_delivery_stream-1-2021-12-30-17-35-58-b98c4593-2164-445f-9c09-b80d647c80fe",
         68390
        ],
        [
         "dbfs:/mnt/kinesis-demo_2021_12_30_17/twitter_delivery_stream-1-2021-12-30-17-37-00-03050126-c5a3-457a-9141-44c723e9a16e",
         "twitter_delivery_stream-1-2021-12-30-17-37-00-03050126-c5a3-457a-9141-44c723e9a16e",
         75672
        ],
        [
         "dbfs:/mnt/kinesis-demo_2021_12_30_17/twitter_delivery_stream-1-2021-12-30-17-38-01-ee043884-55a1-4696-afe2-ae744d931748",
         "twitter_delivery_stream-1-2021-12-30-17-38-01-ee043884-55a1-4696-afe2-ae744d931748",
         73484
        ],
        [
         "dbfs:/mnt/kinesis-demo_2021_12_30_17/twitter_delivery_stream-1-2021-12-30-17-39-01-45daac32-de3f-4189-b312-8cd405214fe4",
         "twitter_delivery_stream-1-2021-12-30-17-39-01-45daac32-de3f-4189-b312-8cd405214fe4",
         93691
        ],
        [
         "dbfs:/mnt/kinesis-demo_2021_12_30_17/twitter_delivery_stream-1-2021-12-30-17-40-03-9c7445d1-3438-4c6c-96df-4629d801bbd1",
         "twitter_delivery_stream-1-2021-12-30-17-40-03-9c7445d1-3438-4c6c-96df-4629d801bbd1",
         93241
        ],
        [
         "dbfs:/mnt/kinesis-demo_2021_12_30_17/twitter_delivery_stream-1-2021-12-30-17-41-03-b8becce2-f393-42a9-bc9c-f8847fb4a7d2",
         "twitter_delivery_stream-1-2021-12-30-17-41-03-b8becce2-f393-42a9-bc9c-f8847fb4a7d2",
         71521
        ],
        [
         "dbfs:/mnt/kinesis-demo_2021_12_30_17/twitter_delivery_stream-1-2021-12-30-17-42-05-d4790ec9-be7b-443a-9109-3d3614310fd9",
         "twitter_delivery_stream-1-2021-12-30-17-42-05-d4790ec9-be7b-443a-9109-3d3614310fd9",
         68828
        ],
        [
         "dbfs:/mnt/kinesis-demo_2021_12_30_17/twitter_delivery_stream-1-2021-12-30-17-43-05-bbf49b5b-a7a8-4ed7-a7ef-27e366aa82c0",
         "twitter_delivery_stream-1-2021-12-30-17-43-05-bbf49b5b-a7a8-4ed7-a7ef-27e366aa82c0",
         71076
        ],
        [
         "dbfs:/mnt/kinesis-demo_2021_12_30_17/twitter_delivery_stream-1-2021-12-30-17-44-07-2bf0e38a-9da5-4437-b696-995b1abd0bea",
         "twitter_delivery_stream-1-2021-12-30-17-44-07-2bf0e38a-9da5-4437-b696-995b1abd0bea",
         69835
        ],
        [
         "dbfs:/mnt/kinesis-demo_2021_12_30_17/twitter_delivery_stream-1-2021-12-30-17-45-07-78f1c731-826b-456c-b6c5-51f4d06ca11b",
         "twitter_delivery_stream-1-2021-12-30-17-45-07-78f1c731-826b-456c-b6c5-51f4d06ca11b",
         77615
        ]
       ],
       "datasetInfos": [],
       "dbfsResultPath": null,
       "isJsonSchema": true,
       "metadata": {},
       "overflow": false,
       "plotOptions": {
        "customPlotOptions": {},
        "displayType": "table",
        "pivotAggregation": null,
        "pivotColumns": null,
        "xColumns": null,
        "yColumns": null
       },
       "removedWidgets": [],
       "schema": [
        {
         "metadata": "{}",
         "name": "path",
         "type": "\"string\""
        },
        {
         "metadata": "{}",
         "name": "name",
         "type": "\"string\""
        },
        {
         "metadata": "{}",
         "name": "size",
         "type": "\"long\""
        }
       ],
       "type": "table"
      }
     },
     "output_type": "display_data"
    }
   ],
   "source": [
    "# Get filepaths to files in all folders\n",
    "file_paths_full_all, files_full_all = get_dbfs_mounted_filepaths(dataset_names_all)\n",
    "print(\"Printing attributes for first 10 mounted files:\")\n",
    "display(files_full_all[:10])"
   ]
  },
  {
   "cell_type": "code",
   "execution_count": null,
   "metadata": {
    "application/vnd.databricks.v1+cell": {
     "inputWidgets": {},
     "nuid": "3fd81e4b-c533-4c5d-988d-f8f555adcf6d",
     "showTitle": false,
     "title": ""
    }
   },
   "outputs": [
    {
     "data": {
      "text/plain": [
       "Printing first five filepaths:\n",
       "dbfs:/mnt/kinesis-demo_2021_12_30_17/twitter_delivery_stream-1-2021-12-30-17-35-58-b98c4593-2164-445f-9c09-b80d647c80fe\n",
       "dbfs:/mnt/kinesis-demo_2021_12_30_17/twitter_delivery_stream-1-2021-12-30-17-37-00-03050126-c5a3-457a-9141-44c723e9a16e\n",
       "dbfs:/mnt/kinesis-demo_2021_12_30_17/twitter_delivery_stream-1-2021-12-30-17-38-01-ee043884-55a1-4696-afe2-ae744d931748\n",
       "dbfs:/mnt/kinesis-demo_2021_12_30_17/twitter_delivery_stream-1-2021-12-30-17-39-01-45daac32-de3f-4189-b312-8cd405214fe4\n",
       "dbfs:/mnt/kinesis-demo_2021_12_30_17/twitter_delivery_stream-1-2021-12-30-17-40-03-9c7445d1-3438-4c6c-96df-4629d801bbd1\n"
      ]
     },
     "metadata": {
      "application/vnd.databricks.v1+output": {
       "addedWidgets": {},
       "arguments": {},
       "data": "Printing first five filepaths:\ndbfs:/mnt/kinesis-demo_2021_12_30_17/twitter_delivery_stream-1-2021-12-30-17-35-58-b98c4593-2164-445f-9c09-b80d647c80fe\ndbfs:/mnt/kinesis-demo_2021_12_30_17/twitter_delivery_stream-1-2021-12-30-17-37-00-03050126-c5a3-457a-9141-44c723e9a16e\ndbfs:/mnt/kinesis-demo_2021_12_30_17/twitter_delivery_stream-1-2021-12-30-17-38-01-ee043884-55a1-4696-afe2-ae744d931748\ndbfs:/mnt/kinesis-demo_2021_12_30_17/twitter_delivery_stream-1-2021-12-30-17-39-01-45daac32-de3f-4189-b312-8cd405214fe4\ndbfs:/mnt/kinesis-demo_2021_12_30_17/twitter_delivery_stream-1-2021-12-30-17-40-03-9c7445d1-3438-4c6c-96df-4629d801bbd1\n",
       "datasetInfos": [],
       "metadata": {},
       "removedWidgets": [],
       "type": "ansi"
      }
     },
     "output_type": "display_data"
    }
   ],
   "source": [
    "print(f\"Printing first five filepaths:\")\n",
    "for file_path_full_all_first_five in file_paths_full_all[:5]:\n",
    "    print(file_path_full_all_first_five)"
   ]
  },
  {
   "cell_type": "markdown",
   "metadata": {
    "application/vnd.databricks.v1+cell": {
     "inputWidgets": {},
     "nuid": "c2b79978-bbe0-4ef2-9d4d-2912f1a65a0f",
     "showTitle": false,
     "title": ""
    }
   },
   "source": [
    "We'll now read all these files into a single PySpark `DataFrame` and apply the same basic filters as those from above (remove missing values and unwanted tweets based on their contents)"
   ]
  },
  {
   "cell_type": "code",
   "execution_count": null,
   "metadata": {
    "application/vnd.databricks.v1+cell": {
     "inputWidgets": {},
     "nuid": "866730c3-fb3a-4dce-875a-80d6985873e5",
     "showTitle": false,
     "title": ""
    }
   },
   "outputs": [],
   "source": [
    "df = (\n",
    "    spark.read\n",
    "    .format(\"csv\")\n",
    "    .option(\"inferSchema\", \"true\")\n",
    "    .option(\"header\", False)\n",
    "    .option(\"encoding\", \"utf-8\")\n",
    "    .option(\"delimiter\", \"\\t\")\n",
    "    .option(\"multiline\", \"false\")\n",
    "    # .option(\"quote\", \"\\\"\")\n",
    "    # .option(\"escape\", \"\\\"\")\n",
    "    # .option(\"escape\", \"\\n\")\n",
    "    .load(file_paths_full_all)\n",
    ")\n",
    "\n",
    "df = df.toDF(*pyspark_df_column_names)\n",
    "\n",
    "df = df.cache()"
   ]
  },
  {
   "cell_type": "markdown",
   "metadata": {
    "application/vnd.databricks.v1+cell": {
     "inputWidgets": {},
     "nuid": "a8c046ad-d83a-4982-b250-3eb03ea756ce",
     "showTitle": false,
     "title": ""
    }
   },
   "source": [
    "Show the number of tweets that were streamed using AWS Kinesis"
   ]
  },
  {
   "cell_type": "code",
   "execution_count": null,
   "metadata": {
    "application/vnd.databricks.v1+cell": {
     "inputWidgets": {},
     "nuid": "35a1ab0c-ece3-4031-8d61-095d4459e580",
     "showTitle": false,
     "title": ""
    }
   },
   "outputs": [
    {
     "data": {
      "text/plain": [
       "Number of rows after loading data = 1,162,432\n"
      ]
     },
     "metadata": {
      "application/vnd.databricks.v1+output": {
       "addedWidgets": {},
       "arguments": {},
       "data": "Number of rows after loading data = 1,162,432\n",
       "datasetInfos": [],
       "metadata": {},
       "removedWidgets": [],
       "type": "ansi"
      }
     },
     "output_type": "display_data"
    }
   ],
   "source": [
    "print(f\"Number of rows after loading data = {df.count():,}\")"
   ]
  },
  {
   "cell_type": "markdown",
   "metadata": {
    "application/vnd.databricks.v1+cell": {
     "inputWidgets": {},
     "nuid": "803908e2-c6f8-4a25-8675-0cbcdd2cd053",
     "showTitle": false,
     "title": ""
    }
   },
   "source": [
    "**Observations**\n",
    "1. As we can see, this is significantly larger than the the number of rows in the earlier PySpark `DataFrame` since this one covers the full tweets dataset (all hourly files of streamed Twitter data) stored in S3."
   ]
  },
  {
   "cell_type": "markdown",
   "metadata": {
    "application/vnd.databricks.v1+cell": {
     "inputWidgets": {},
     "nuid": "b989e5de-4d98-47de-8895-bc7f9cbd7629",
     "showTitle": false,
     "title": ""
    }
   },
   "source": [
    "We'll drop rows from this `DataFrame` with missing values in\n",
    "- all columns\n",
    "- the `text` column (text of the tweet)"
   ]
  },
  {
   "cell_type": "code",
   "execution_count": null,
   "metadata": {
    "application/vnd.databricks.v1+cell": {
     "inputWidgets": {},
     "nuid": "857d4b2f-2352-4f07-ac8b-59ed78292123",
     "showTitle": false,
     "title": ""
    }
   },
   "outputs": [
    {
     "data": {
      "text/plain": [
       "Number of rows after dropping missing values = 1,155,445\n"
      ]
     },
     "metadata": {
      "application/vnd.databricks.v1+output": {
       "addedWidgets": {},
       "arguments": {},
       "data": "Number of rows after dropping missing values = 1,155,445\n",
       "datasetInfos": [],
       "metadata": {},
       "removedWidgets": [],
       "type": "ansi"
      }
     },
     "output_type": "display_data"
    }
   ],
   "source": [
    "# filter 1\n",
    "df = df.dropna(how='all')\n",
    "\n",
    "df = df.dropna(subset=[\"text\"])\n",
    "\n",
    "print(f\"Number of rows after dropping missing values = {df.count():,}\")"
   ]
  },
  {
   "cell_type": "markdown",
   "metadata": {
    "application/vnd.databricks.v1+cell": {
     "inputWidgets": {},
     "nuid": "ddf7691b-b97b-4f0e-bcee-bc08a0c90396",
     "showTitle": false,
     "title": ""
    }
   },
   "source": [
    "We'll now apply the second filter to exclude tweets based on the words used"
   ]
  },
  {
   "cell_type": "code",
   "execution_count": null,
   "metadata": {
    "application/vnd.databricks.v1+cell": {
     "inputWidgets": {},
     "nuid": "1151d017-fed4-484a-be65-7f1001009259",
     "showTitle": false,
     "title": ""
    }
   },
   "outputs": [
    {
     "data": {
      "text/plain": [
       "Number of rows after removing unwanted partial tweets using pandas UDF = 989,822\n"
      ]
     },
     "metadata": {
      "application/vnd.databricks.v1+output": {
       "addedWidgets": {},
       "arguments": {},
       "data": "Number of rows after removing unwanted partial tweets using pandas UDF = 989,822\n",
       "datasetInfos": [],
       "metadata": {},
       "removedWidgets": [],
       "type": "ansi"
      }
     },
     "output_type": "display_data"
    }
   ],
   "source": [
    "# filter 2\n",
    "df2 = df.withColumn(\n",
    "    \"no_unwanted_strs\",\n",
    "    exclude_by_partial_str_wrapper(F.col(\"text\"), unwanted_partial_strings)\n",
    ").filter(F.col(\"no_unwanted_strs\") == 1)\n",
    "print(\n",
    "    \"Number of rows after removing unwanted partial tweets \"\n",
    "    f\"using pandas UDF = {df2.count():,}\"\n",
    ")"
   ]
  },
  {
   "cell_type": "markdown",
   "metadata": {
    "application/vnd.databricks.v1+cell": {
     "inputWidgets": {},
     "nuid": "3c422903-b827-4f45-aa30-dc42e8215d19",
     "showTitle": false,
     "title": ""
    }
   },
   "source": [
    "Finally, we'll sort the resulting `DataFrame` as we did earlier"
   ]
  },
  {
   "cell_type": "code",
   "execution_count": null,
   "metadata": {
    "application/vnd.databricks.v1+cell": {
     "inputWidgets": {},
     "nuid": "95a83db8-415b-410e-ab0c-77c580c47792",
     "showTitle": false,
     "title": ""
    }
   },
   "outputs": [
    {
     "data": {
      "text/html": [
       "<style scoped>\n",
       "  .table-result-container {\n",
       "    max-height: 300px;\n",
       "    overflow: auto;\n",
       "  }\n",
       "  table, th, td {\n",
       "    border: 1px solid black;\n",
       "    border-collapse: collapse;\n",
       "  }\n",
       "  th, td {\n",
       "    padding: 5px;\n",
       "  }\n",
       "  th {\n",
       "    text-align: left;\n",
       "  }\n",
       "</style><div class='table-result-container'><table class='table-result'><thead style='background-color: white'><tr><th>id</th><th>geo</th><th>coordinates</th><th>place</th><th>contributors</th><th>is_quote_status</th><th>quote_count</th><th>reply_count</th><th>retweet_count</th><th>favorite_count</th><th>favorited</th><th>retweeted</th><th>created_at</th><th>source</th><th>in_reply_to_user_id</th><th>in_reply_to_screen_name</th><th>source_text</th><th>place_id</th><th>place_url</th><th>place_place_type</th><th>place_name</th><th>place_full_name</th><th>place_country_code</th><th>place_country</th><th>place_bounding_box_type</th><th>place_bounding_box_coordinates</th><th>place_attributes</th><th>coords_type</th><th>coords_lon</th><th>coords_lat</th><th>geo_type</th><th>geo_lon</th><th>geo_lat</th><th>user_name</th><th>user_screen_name</th><th>user_followers</th><th>user_friends</th><th>user_listed</th><th>user_favourites</th><th>user_statuses</th><th>user_protected</th><th>user_verified</th><th>user_contributors_enabled</th><th>user_joined</th><th>user_location</th><th>retweeted_tweet</th><th>tweet_text_urls</th><th>tweet_text_hashtags</th><th>tweet_text_usernames</th><th>num_urls_in_tweet_text</th><th>num_users_in_tweet_text</th><th>num_hashtags_in_tweet_text</th><th>text</th><th>blank</th><th>no_unwanted_strs</th></tr></thead><tbody><tr><td>1476607990027407364</td><td>None</td><td>None</td><td>None</td><td>None</td><td>False</td><td>0</td><td>0</td><td>0</td><td>0</td><td>false</td><td>false</td><td>Thu Dec 30 17:35:53 +0000 2021</td><td><a href=\"http://twitter.com/download/iphone\" rel=\"nofollow\">Twitter for iPhone</a></td><td>None</td><td>None</td><td>Twitter for iPhone</td><td>null</td><td>null</td><td>null</td><td>null</td><td>null</td><td>null</td><td>null</td><td>null</td><td>[[]]</td><td>{}</td><td>null</td><td>null</td><td>null</td><td>null</td><td>null</td><td>null</td><td>Happy New Years 2022</td><td>GuessWho122021</td><td>216</td><td>255</td><td>0</td><td>1165</td><td>3214</td><td>False</td><td>false</td><td>false</td><td>Sat Nov 27 20:38:14 +0000 2021</td><td>World Wide</td><td>no</td><td>https://t.co/yH8cBVuMj3</td><td>null</td><td>null</td><td>1</td><td>0</td><td>0</td><td>Space colonists may turn to cannibalism, scientists warn:The first generations to occupy space outposts may be left with few nutrition choices, scholars believe</td><td>null</td><td>true</td></tr><tr><td>1476607992586018824</td><td>None</td><td>None</td><td>None</td><td>None</td><td>True</td><td>0</td><td>0</td><td>0</td><td>0</td><td>false</td><td>false</td><td>Thu Dec 30 17:35:54 +0000 2021</td><td><a href=\"http://twitter.com/download/iphone\" rel=\"nofollow\">Twitter for iPhone</a></td><td>None</td><td>None</td><td>Twitter for iPhone</td><td>null</td><td>null</td><td>null</td><td>null</td><td>null</td><td>null</td><td>null</td><td>null</td><td>[[]]</td><td>{}</td><td>null</td><td>null</td><td>null</td><td>null</td><td>null</td><td>null</td><td>TheToysRusKid</td><td>JC1of1</td><td>202</td><td>313</td><td>0</td><td>18454</td><td>53653</td><td>False</td><td>false</td><td>false</td><td>Tue Sep 04 17:18:46 +0000 2018</td><td>Southern California </td><td>no</td><td>null</td><td>null</td><td>null</td><td>0</td><td>0</td><td>0</td><td>1. Beat Street2. Harlem Knights 3. National Lampoons Vacation 4. Bachelor Party 5. Do The right Thing6. How High7. Weird Science 8. Clerks 9. Beverly Hills Cop10. Goodfellas</td><td>null</td><td>true</td></tr><tr><td>1476607997405184000</td><td>None</td><td>None</td><td>None</td><td>None</td><td>False</td><td>0</td><td>0</td><td>0</td><td>0</td><td>false</td><td>false</td><td>Thu Dec 30 17:35:55 +0000 2021</td><td><a href=\"http://publicize.wp.com/\" rel=\"nofollow\">WordPress.com</a></td><td>None</td><td>None</td><td>WordPress.com</td><td>null</td><td>null</td><td>null</td><td>null</td><td>null</td><td>null</td><td>null</td><td>null</td><td>[[]]</td><td>{}</td><td>null</td><td>null</td><td>null</td><td>null</td><td>null</td><td>null</td><td>BCABA Network</td><td>BcabaNetwork</td><td>2581</td><td>4710</td><td>42</td><td>3027</td><td>238152</td><td>False</td><td>false</td><td>false</td><td>Wed May 25 10:54:46 +0000 2016</td><td>West Midlands, England</td><td>no</td><td>https://t.co/kPAMK3TxSL</td><td>null</td><td>null</td><td>1</td><td>0</td><td>0</td><td>NASA Plans Coverage of Webb Space Telescope Deployments</td><td>null</td><td>true</td></tr><tr><td>1476607997925330945</td><td>None</td><td>None</td><td>None</td><td>None</td><td>False</td><td>0</td><td>0</td><td>0</td><td>0</td><td>false</td><td>false</td><td>Thu Dec 30 17:35:55 +0000 2021</td><td><a href=\"http://twitter.com/download/iphone\" rel=\"nofollow\">Twitter for iPhone</a></td><td>None</td><td>None</td><td>Twitter for iPhone</td><td>null</td><td>null</td><td>null</td><td>null</td><td>null</td><td>null</td><td>null</td><td>null</td><td>[[]]</td><td>{}</td><td>null</td><td>null</td><td>null</td><td>null</td><td>null</td><td>null</td><td>Jude Jackson 💙 Solidarity with #NHS workers</td><td>JudeJack</td><td>2138</td><td>4999</td><td>157</td><td>79973</td><td>109065</td><td>False</td><td>false</td><td>false</td><td>Sat Feb 21 14:48:52 +0000 2009</td><td>International</td><td>no</td><td>https://t.co/cRcHiFCHS0</td><td>null</td><td>null</td><td>1</td><td>0</td><td>0</td><td>Exciting times!Back in 1915, Einstein published his theory of General Relativity. 1917 the Bolsheviks led the worlds’ first proletarian revolution. Humanity is about to peer back to the beginning of time, and the world is poised once again for revolution.</td><td>null</td><td>true</td></tr><tr><td>1476608000114802695</td><td>None</td><td>None</td><td>None</td><td>None</td><td>False</td><td>0</td><td>0</td><td>0</td><td>0</td><td>false</td><td>false</td><td>Thu Dec 30 17:35:55 +0000 2021</td><td><a href=\"http://twitter.com/download/iphone\" rel=\"nofollow\">Twitter for iPhone</a></td><td>None</td><td>None</td><td>Twitter for iPhone</td><td>null</td><td>null</td><td>null</td><td>null</td><td>null</td><td>null</td><td>null</td><td>null</td><td>[[]]</td><td>{}</td><td>null</td><td>null</td><td>null</td><td>null</td><td>null</td><td>null</td><td>Alan Stern</td><td>AlanStern</td><td>43743</td><td>1719</td><td>1163</td><td>33719</td><td>40081</td><td>False</td><td>false</td><td>false</td><td>Sat Jul 26 17:50:37 +0000 2008</td><td>Niwot, CO</td><td>no</td><td>null</td><td>null</td><td>ng_rippel|rhwells79|AlanStern|NBCNews</td><td>0</td><td>4</td><td>0</td><td>    Obviously, since science is a mental mode of nature and Pluto doesn’t have a mind. But having it is the very essence of science and that requires functionally useful concepts like “planet”. Non-functional concepts hurt the progress of science and the public’s insights into it.</td><td>null</td><td>true</td></tr><tr><td>1476608001402277893</td><td>None</td><td>None</td><td>None</td><td>None</td><td>False</td><td>0</td><td>0</td><td>0</td><td>0</td><td>false</td><td>false</td><td>Thu Dec 30 17:35:56 +0000 2021</td><td><a href=\"http://twitter.com/download/iphone\" rel=\"nofollow\">Twitter for iPhone</a></td><td>None</td><td>None</td><td>Twitter for iPhone</td><td>null</td><td>null</td><td>null</td><td>null</td><td>null</td><td>null</td><td>null</td><td>null</td><td>[[]]</td><td>{}</td><td>null</td><td>null</td><td>null</td><td>null</td><td>null</td><td>null</td><td>Nhada Naim</td><td>kognomee_</td><td>115</td><td>403</td><td>0</td><td>14149</td><td>19509</td><td>False</td><td>false</td><td>false</td><td>Mon Sep 12 07:35:14 +0000 2016</td><td>Im there but not too far </td><td>no</td><td>null</td><td>null</td><td>null</td><td>0</td><td>0</td><td>0</td><td>Jupiter is in Penis and Vagina is stationed retrograde. Wear a condom ya’ll</td><td>null</td><td>true</td></tr><tr><td>1476608002782203915</td><td>None</td><td>None</td><td>None</td><td>None</td><td>False</td><td>0</td><td>0</td><td>0</td><td>0</td><td>false</td><td>false</td><td>Thu Dec 30 17:35:56 +0000 2021</td><td><a href=\"https://mobile.twitter.com\" rel=\"nofollow\">Twitter Web App</a></td><td>None</td><td>None</td><td>Twitter Web App</td><td>null</td><td>null</td><td>null</td><td>null</td><td>null</td><td>null</td><td>null</td><td>null</td><td>[[]]</td><td>{}</td><td>null</td><td>null</td><td>null</td><td>null</td><td>null</td><td>null</td><td>Themistoclea (Bonnie DeVarco)</td><td>Themistoclea</td><td>358</td><td>514</td><td>101</td><td>1004</td><td>7869</td><td>False</td><td>false</td><td>false</td><td>Tue Dec 23 19:34:02 +0000 2008</td><td>Ubiquitous</td><td>no</td><td>https://t.co/czsEhxCaVk|https://t.co/n65TKzRAHV</td><td>null</td><td>NASAWebb</td><td>2</td><td>1</td><td>0</td><td>How 'bout we squeeze in some good news before the year ends? Not only did  deploy its tower assembly, the team also said the telescope's launch was so precise that we should expect the science to continue well beyond 10 years! </td><td>null</td><td>true</td></tr><tr><td>1476608009669201922</td><td>None</td><td>None</td><td>None</td><td>None</td><td>True</td><td>0</td><td>0</td><td>0</td><td>0</td><td>false</td><td>false</td><td>Thu Dec 30 17:35:58 +0000 2021</td><td><a href=\"https://mobile.twitter.com\" rel=\"nofollow\">Twitter Web App</a></td><td>None</td><td>None</td><td>Twitter Web App</td><td>null</td><td>null</td><td>null</td><td>null</td><td>null</td><td>null</td><td>null</td><td>null</td><td>[[]]</td><td>{}</td><td>null</td><td>null</td><td>null</td><td>null</td><td>null</td><td>null</td><td>Radio Justice 📻🎙⚖</td><td>justiceputnam</td><td>2599</td><td>1395</td><td>84</td><td>93424</td><td>193934</td><td>False</td><td>false</td><td>false</td><td>Tue Jul 14 05:10:36 +0000 2009</td><td>Rogue River, Oregon #homebase</td><td>no</td><td>null</td><td>null</td><td>null</td><td>0</td><td>0</td><td>0</td><td>NASA: It wasn't a strike, it was just a work slowdown.</td><td>null</td><td>true</td></tr><tr><td>1476608010202066949</td><td>None</td><td>None</td><td>None</td><td>None</td><td>False</td><td>0</td><td>0</td><td>0</td><td>0</td><td>false</td><td>false</td><td>Thu Dec 30 17:35:58 +0000 2021</td><td><a href=\"http://twitter.com/download/iphone\" rel=\"nofollow\">Twitter for iPhone</a></td><td>None</td><td>None</td><td>Twitter for iPhone</td><td>null</td><td>null</td><td>null</td><td>null</td><td>null</td><td>null</td><td>null</td><td>null</td><td>[[]]</td><td>{}</td><td>null</td><td>null</td><td>null</td><td>null</td><td>null</td><td>null</td><td>Kwaku Barcelona</td><td>o_theophilus1</td><td>3845</td><td>1011</td><td>3</td><td>25207</td><td>23203</td><td>False</td><td>false</td><td>false</td><td>Sun Apr 03 20:59:45 +0000 2016</td><td>Kumerican/Ghana/WestAfrica/USA</td><td>no</td><td>null</td><td>null</td><td>FabrizioRomano</td><td>0</td><td>1</td><td>0</td><td> I was being interviewed by Elon Musk. He asked, \"where are you from\", and I said Portugal. He replied, \"so you are a fellow country man of a Pen merchant whose freekick ball broke my rover on Mars. Get out!\". Tears ran down my face. Shame on you Pendu for costing me my dream job</td><td>null</td><td>true</td></tr><tr><td>1476608015965040643</td><td>None</td><td>None</td><td>None</td><td>None</td><td>False</td><td>0</td><td>0</td><td>0</td><td>0</td><td>false</td><td>false</td><td>Thu Dec 30 17:35:59 +0000 2021</td><td><a href=\"http://buckshee.petimer.ru\" rel=\"nofollow\">Buckshee Forum</a></td><td>None</td><td>None</td><td>Buckshee Forum</td><td>null</td><td>null</td><td>null</td><td>null</td><td>null</td><td>null</td><td>null</td><td>null</td><td>[[]]</td><td>{}</td><td>null</td><td>null</td><td>null</td><td>null</td><td>null</td><td>null</td><td>The Buckshee</td><td>BucksheeForum</td><td>17</td><td>1</td><td>0</td><td>0</td><td>329009</td><td>False</td><td>false</td><td>false</td><td>Fri Nov 03 12:41:31 +0000 2017</td><td>None</td><td>no</td><td>https://t.co/V1zNCNlkQPJames</td><td>null</td><td>null</td><td>1</td><td>0</td><td>0</td><td> Webb telescope is captured soaring through space from Earth</td><td>null</td><td>true</td></tr></tbody></table></div>"
      ]
     },
     "metadata": {
      "application/vnd.databricks.v1+output": {
       "addedWidgets": {},
       "aggData": [],
       "aggError": "",
       "aggOverflow": false,
       "aggSchema": [],
       "aggSeriesLimitReached": false,
       "aggType": "",
       "arguments": {},
       "columnCustomDisplayInfos": {},
       "data": [
        [
         "1476607990027407364",
         "None",
         "None",
         "None",
         "None",
         "False",
         0,
         0,
         "0",
         0,
         false,
         false,
         "Thu Dec 30 17:35:53 +0000 2021",
         "<a href=\"http://twitter.com/download/iphone\" rel=\"nofollow\">Twitter for iPhone</a>",
         "None",
         "None",
         "Twitter for iPhone",
         null,
         null,
         null,
         null,
         null,
         null,
         null,
         null,
         "[[]]",
         "{}",
         null,
         null,
         null,
         null,
         null,
         null,
         "Happy New Years 2022",
         "GuessWho122021",
         "216",
         255,
         0,
         1165,
         3214,
         "False",
         false,
         false,
         "Sat Nov 27 20:38:14 +0000 2021",
         "World Wide",
         "no",
         "https://t.co/yH8cBVuMj3",
         null,
         null,
         "1",
         "0",
         0,
         "Space colonists may turn to cannibalism, scientists warn:The first generations to occupy space outposts may be left with few nutrition choices, scholars believe",
         null,
         true
        ],
        [
         "1476607992586018824",
         "None",
         "None",
         "None",
         "None",
         "True",
         0,
         0,
         "0",
         0,
         false,
         false,
         "Thu Dec 30 17:35:54 +0000 2021",
         "<a href=\"http://twitter.com/download/iphone\" rel=\"nofollow\">Twitter for iPhone</a>",
         "None",
         "None",
         "Twitter for iPhone",
         null,
         null,
         null,
         null,
         null,
         null,
         null,
         null,
         "[[]]",
         "{}",
         null,
         null,
         null,
         null,
         null,
         null,
         "TheToysRusKid",
         "JC1of1",
         "202",
         313,
         0,
         18454,
         53653,
         "False",
         false,
         false,
         "Tue Sep 04 17:18:46 +0000 2018",
         "Southern California ",
         "no",
         null,
         null,
         null,
         "0",
         "0",
         0,
         "1. Beat Street2. Harlem Knights 3. National Lampoons Vacation 4. Bachelor Party 5. Do The right Thing6. How High7. Weird Science 8. Clerks 9. Beverly Hills Cop10. Goodfellas",
         null,
         true
        ],
        [
         "1476607997405184000",
         "None",
         "None",
         "None",
         "None",
         "False",
         0,
         0,
         "0",
         0,
         false,
         false,
         "Thu Dec 30 17:35:55 +0000 2021",
         "<a href=\"http://publicize.wp.com/\" rel=\"nofollow\">WordPress.com</a>",
         "None",
         "None",
         "WordPress.com",
         null,
         null,
         null,
         null,
         null,
         null,
         null,
         null,
         "[[]]",
         "{}",
         null,
         null,
         null,
         null,
         null,
         null,
         "BCABA Network",
         "BcabaNetwork",
         "2581",
         4710,
         42,
         3027,
         238152,
         "False",
         false,
         false,
         "Wed May 25 10:54:46 +0000 2016",
         "West Midlands, England",
         "no",
         "https://t.co/kPAMK3TxSL",
         null,
         null,
         "1",
         "0",
         0,
         "NASA Plans Coverage of Webb Space Telescope Deployments",
         null,
         true
        ],
        [
         "1476607997925330945",
         "None",
         "None",
         "None",
         "None",
         "False",
         0,
         0,
         "0",
         0,
         false,
         false,
         "Thu Dec 30 17:35:55 +0000 2021",
         "<a href=\"http://twitter.com/download/iphone\" rel=\"nofollow\">Twitter for iPhone</a>",
         "None",
         "None",
         "Twitter for iPhone",
         null,
         null,
         null,
         null,
         null,
         null,
         null,
         null,
         "[[]]",
         "{}",
         null,
         null,
         null,
         null,
         null,
         null,
         "Jude Jackson 💙 Solidarity with #NHS workers",
         "JudeJack",
         "2138",
         4999,
         157,
         79973,
         109065,
         "False",
         false,
         false,
         "Sat Feb 21 14:48:52 +0000 2009",
         "International",
         "no",
         "https://t.co/cRcHiFCHS0",
         null,
         null,
         "1",
         "0",
         0,
         "Exciting times!Back in 1915, Einstein published his theory of General Relativity. 1917 the Bolsheviks led the worlds’ first proletarian revolution. Humanity is about to peer back to the beginning of time, and the world is poised once again for revolution.",
         null,
         true
        ],
        [
         "1476608000114802695",
         "None",
         "None",
         "None",
         "None",
         "False",
         0,
         0,
         "0",
         0,
         false,
         false,
         "Thu Dec 30 17:35:55 +0000 2021",
         "<a href=\"http://twitter.com/download/iphone\" rel=\"nofollow\">Twitter for iPhone</a>",
         "None",
         "None",
         "Twitter for iPhone",
         null,
         null,
         null,
         null,
         null,
         null,
         null,
         null,
         "[[]]",
         "{}",
         null,
         null,
         null,
         null,
         null,
         null,
         "Alan Stern",
         "AlanStern",
         "43743",
         1719,
         1163,
         33719,
         40081,
         "False",
         false,
         false,
         "Sat Jul 26 17:50:37 +0000 2008",
         "Niwot, CO",
         "no",
         null,
         null,
         "ng_rippel|rhwells79|AlanStern|NBCNews",
         "0",
         "4",
         0,
         "    Obviously, since science is a mental mode of nature and Pluto doesn’t have a mind. But having it is the very essence of science and that requires functionally useful concepts like “planet”. Non-functional concepts hurt the progress of science and the public’s insights into it.",
         null,
         true
        ],
        [
         "1476608001402277893",
         "None",
         "None",
         "None",
         "None",
         "False",
         0,
         0,
         "0",
         0,
         false,
         false,
         "Thu Dec 30 17:35:56 +0000 2021",
         "<a href=\"http://twitter.com/download/iphone\" rel=\"nofollow\">Twitter for iPhone</a>",
         "None",
         "None",
         "Twitter for iPhone",
         null,
         null,
         null,
         null,
         null,
         null,
         null,
         null,
         "[[]]",
         "{}",
         null,
         null,
         null,
         null,
         null,
         null,
         "Nhada Naim",
         "kognomee_",
         "115",
         403,
         0,
         14149,
         19509,
         "False",
         false,
         false,
         "Mon Sep 12 07:35:14 +0000 2016",
         "Im there but not too far ",
         "no",
         null,
         null,
         null,
         "0",
         "0",
         0,
         "Jupiter is in Penis and Vagina is stationed retrograde. Wear a condom ya’ll",
         null,
         true
        ],
        [
         "1476608002782203915",
         "None",
         "None",
         "None",
         "None",
         "False",
         0,
         0,
         "0",
         0,
         false,
         false,
         "Thu Dec 30 17:35:56 +0000 2021",
         "<a href=\"https://mobile.twitter.com\" rel=\"nofollow\">Twitter Web App</a>",
         "None",
         "None",
         "Twitter Web App",
         null,
         null,
         null,
         null,
         null,
         null,
         null,
         null,
         "[[]]",
         "{}",
         null,
         null,
         null,
         null,
         null,
         null,
         "Themistoclea (Bonnie DeVarco)",
         "Themistoclea",
         "358",
         514,
         101,
         1004,
         7869,
         "False",
         false,
         false,
         "Tue Dec 23 19:34:02 +0000 2008",
         "Ubiquitous",
         "no",
         "https://t.co/czsEhxCaVk|https://t.co/n65TKzRAHV",
         null,
         "NASAWebb",
         "2",
         "1",
         0,
         "How 'bout we squeeze in some good news before the year ends? Not only did  deploy its tower assembly, the team also said the telescope's launch was so precise that we should expect the science to continue well beyond 10 years! ",
         null,
         true
        ],
        [
         "1476608009669201922",
         "None",
         "None",
         "None",
         "None",
         "True",
         0,
         0,
         "0",
         0,
         false,
         false,
         "Thu Dec 30 17:35:58 +0000 2021",
         "<a href=\"https://mobile.twitter.com\" rel=\"nofollow\">Twitter Web App</a>",
         "None",
         "None",
         "Twitter Web App",
         null,
         null,
         null,
         null,
         null,
         null,
         null,
         null,
         "[[]]",
         "{}",
         null,
         null,
         null,
         null,
         null,
         null,
         "Radio Justice 📻🎙⚖",
         "justiceputnam",
         "2599",
         1395,
         84,
         93424,
         193934,
         "False",
         false,
         false,
         "Tue Jul 14 05:10:36 +0000 2009",
         "Rogue River, Oregon #homebase",
         "no",
         null,
         null,
         null,
         "0",
         "0",
         0,
         "NASA: It wasn't a strike, it was just a work slowdown.",
         null,
         true
        ],
        [
         "1476608010202066949",
         "None",
         "None",
         "None",
         "None",
         "False",
         0,
         0,
         "0",
         0,
         false,
         false,
         "Thu Dec 30 17:35:58 +0000 2021",
         "<a href=\"http://twitter.com/download/iphone\" rel=\"nofollow\">Twitter for iPhone</a>",
         "None",
         "None",
         "Twitter for iPhone",
         null,
         null,
         null,
         null,
         null,
         null,
         null,
         null,
         "[[]]",
         "{}",
         null,
         null,
         null,
         null,
         null,
         null,
         "Kwaku Barcelona",
         "o_theophilus1",
         "3845",
         1011,
         3,
         25207,
         23203,
         "False",
         false,
         false,
         "Sun Apr 03 20:59:45 +0000 2016",
         "Kumerican/Ghana/WestAfrica/USA",
         "no",
         null,
         null,
         "FabrizioRomano",
         "0",
         "1",
         0,
         " I was being interviewed by Elon Musk. He asked, \"where are you from\", and I said Portugal. He replied, \"so you are a fellow country man of a Pen merchant whose freekick ball broke my rover on Mars. Get out!\". Tears ran down my face. Shame on you Pendu for costing me my dream job",
         null,
         true
        ],
        [
         "1476608015965040643",
         "None",
         "None",
         "None",
         "None",
         "False",
         0,
         0,
         "0",
         0,
         false,
         false,
         "Thu Dec 30 17:35:59 +0000 2021",
         "<a href=\"http://buckshee.petimer.ru\" rel=\"nofollow\">Buckshee Forum</a>",
         "None",
         "None",
         "Buckshee Forum",
         null,
         null,
         null,
         null,
         null,
         null,
         null,
         null,
         "[[]]",
         "{}",
         null,
         null,
         null,
         null,
         null,
         null,
         "The Buckshee",
         "BucksheeForum",
         "17",
         1,
         0,
         0,
         329009,
         "False",
         false,
         false,
         "Fri Nov 03 12:41:31 +0000 2017",
         "None",
         "no",
         "https://t.co/V1zNCNlkQPJames",
         null,
         null,
         "1",
         "0",
         0,
         " Webb telescope is captured soaring through space from Earth",
         null,
         true
        ]
       ],
       "datasetInfos": [],
       "dbfsResultPath": null,
       "isJsonSchema": true,
       "metadata": {},
       "overflow": false,
       "plotOptions": {
        "customPlotOptions": {},
        "displayType": "table",
        "pivotAggregation": null,
        "pivotColumns": null,
        "xColumns": null,
        "yColumns": null
       },
       "removedWidgets": [],
       "schema": [
        {
         "metadata": "{}",
         "name": "id",
         "type": "\"string\""
        },
        {
         "metadata": "{}",
         "name": "geo",
         "type": "\"string\""
        },
        {
         "metadata": "{}",
         "name": "coordinates",
         "type": "\"string\""
        },
        {
         "metadata": "{}",
         "name": "place",
         "type": "\"string\""
        },
        {
         "metadata": "{}",
         "name": "contributors",
         "type": "\"string\""
        },
        {
         "metadata": "{}",
         "name": "is_quote_status",
         "type": "\"string\""
        },
        {
         "metadata": "{}",
         "name": "quote_count",
         "type": "\"integer\""
        },
        {
         "metadata": "{}",
         "name": "reply_count",
         "type": "\"integer\""
        },
        {
         "metadata": "{}",
         "name": "retweet_count",
         "type": "\"string\""
        },
        {
         "metadata": "{}",
         "name": "favorite_count",
         "type": "\"integer\""
        },
        {
         "metadata": "{}",
         "name": "favorited",
         "type": "\"boolean\""
        },
        {
         "metadata": "{}",
         "name": "retweeted",
         "type": "\"boolean\""
        },
        {
         "metadata": "{}",
         "name": "created_at",
         "type": "\"string\""
        },
        {
         "metadata": "{}",
         "name": "source",
         "type": "\"string\""
        },
        {
         "metadata": "{}",
         "name": "in_reply_to_user_id",
         "type": "\"string\""
        },
        {
         "metadata": "{}",
         "name": "in_reply_to_screen_name",
         "type": "\"string\""
        },
        {
         "metadata": "{}",
         "name": "source_text",
         "type": "\"string\""
        },
        {
         "metadata": "{}",
         "name": "place_id",
         "type": "\"string\""
        },
        {
         "metadata": "{}",
         "name": "place_url",
         "type": "\"string\""
        },
        {
         "metadata": "{}",
         "name": "place_place_type",
         "type": "\"string\""
        },
        {
         "metadata": "{}",
         "name": "place_name",
         "type": "\"string\""
        },
        {
         "metadata": "{}",
         "name": "place_full_name",
         "type": "\"string\""
        },
        {
         "metadata": "{}",
         "name": "place_country_code",
         "type": "\"string\""
        },
        {
         "metadata": "{}",
         "name": "place_country",
         "type": "\"string\""
        },
        {
         "metadata": "{}",
         "name": "place_bounding_box_type",
         "type": "\"string\""
        },
        {
         "metadata": "{}",
         "name": "place_bounding_box_coordinates",
         "type": "\"string\""
        },
        {
         "metadata": "{}",
         "name": "place_attributes",
         "type": "\"string\""
        },
        {
         "metadata": "{}",
         "name": "coords_type",
         "type": "\"string\""
        },
        {
         "metadata": "{}",
         "name": "coords_lon",
         "type": "\"string\""
        },
        {
         "metadata": "{}",
         "name": "coords_lat",
         "type": "\"string\""
        },
        {
         "metadata": "{}",
         "name": "geo_type",
         "type": "\"string\""
        },
        {
         "metadata": "{}",
         "name": "geo_lon",
         "type": "\"string\""
        },
        {
         "metadata": "{}",
         "name": "geo_lat",
         "type": "\"string\""
        },
        {
         "metadata": "{}",
         "name": "user_name",
         "type": "\"string\""
        },
        {
         "metadata": "{}",
         "name": "user_screen_name",
         "type": "\"string\""
        },
        {
         "metadata": "{}",
         "name": "user_followers",
         "type": "\"string\""
        },
        {
         "metadata": "{}",
         "name": "user_friends",
         "type": "\"integer\""
        },
        {
         "metadata": "{}",
         "name": "user_listed",
         "type": "\"integer\""
        },
        {
         "metadata": "{}",
         "name": "user_favourites",
         "type": "\"integer\""
        },
        {
         "metadata": "{}",
         "name": "user_statuses",
         "type": "\"integer\""
        },
        {
         "metadata": "{}",
         "name": "user_protected",
         "type": "\"string\""
        },
        {
         "metadata": "{}",
         "name": "user_verified",
         "type": "\"boolean\""
        },
        {
         "metadata": "{}",
         "name": "user_contributors_enabled",
         "type": "\"boolean\""
        },
        {
         "metadata": "{}",
         "name": "user_joined",
         "type": "\"string\""
        },
        {
         "metadata": "{}",
         "name": "user_location",
         "type": "\"string\""
        },
        {
         "metadata": "{}",
         "name": "retweeted_tweet",
         "type": "\"string\""
        },
        {
         "metadata": "{}",
         "name": "tweet_text_urls",
         "type": "\"string\""
        },
        {
         "metadata": "{}",
         "name": "tweet_text_hashtags",
         "type": "\"string\""
        },
        {
         "metadata": "{}",
         "name": "tweet_text_usernames",
         "type": "\"string\""
        },
        {
         "metadata": "{}",
         "name": "num_urls_in_tweet_text",
         "type": "\"string\""
        },
        {
         "metadata": "{}",
         "name": "num_users_in_tweet_text",
         "type": "\"string\""
        },
        {
         "metadata": "{}",
         "name": "num_hashtags_in_tweet_text",
         "type": "\"integer\""
        },
        {
         "metadata": "{}",
         "name": "text",
         "type": "\"string\""
        },
        {
         "metadata": "{}",
         "name": "blank",
         "type": "\"string\""
        },
        {
         "metadata": "{}",
         "name": "no_unwanted_strs",
         "type": "\"boolean\""
        }
       ],
       "type": "table"
      }
     },
     "output_type": "display_data"
    }
   ],
   "source": [
    "df2 = df2.orderBy(F.col(\"id\").asc())\n",
    "\n",
    "display(df2.limit(10))"
   ]
  },
  {
   "cell_type": "markdown",
   "metadata": {
    "application/vnd.databricks.v1+cell": {
     "inputWidgets": {},
     "nuid": "58b45705-e90d-4b1c-a698-e604e80f4135",
     "showTitle": false,
     "title": ""
    }
   },
   "source": [
    "## Summary\n",
    "With this processing completed, we would now be ready to proceed to perform the quantitative analysis on this data using [PySparkML](https://spark.apache.org/docs/2.3.1/api/python/pyspark.ml.html), as was done in `4_data_processing.ipynb` ([link](https://nbviewer.org/github/elsdes3/big-data-ml/blob/main/4_data_processing.ipynb))."
   ]
  }
 ],
 "metadata": {
  "application/vnd.databricks.v1+notebook": {
   "dashboards": [],
   "language": "python",
   "notebookMetadata": {
    "pythonIndentUnit": 4
   },
   "notebookName": "3_1_combine_raw_data_pyspark",
   "notebookOrigID": 3853729853892766,
   "widgets": {}
  },
  "kernelspec": {
   "display_name": "Python 3 (ipykernel)",
   "language": "python",
   "name": "python3"
  },
  "language_info": {
   "codemirror_mode": {
    "name": "ipython",
    "version": 3
   },
   "file_extension": ".py",
   "mimetype": "text/x-python",
   "name": "python",
   "nbconvert_exporter": "python",
   "pygments_lexer": "ipython3",
   "version": "3.9.7"
  }
 },
 "nbformat": 4,
 "nbformat_minor": 4
}
