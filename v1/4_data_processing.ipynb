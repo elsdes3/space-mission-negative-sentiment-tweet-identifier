{
 "cells": [
  {
   "cell_type": "markdown",
   "id": "ca01fb86",
   "metadata": {},
   "source": [
    "# Topic Modeling on Twitter Data with LDA using PySparkML"
   ]
  },
  {
   "cell_type": "code",
   "execution_count": 1,
   "id": "3e4b7a75",
   "metadata": {},
   "outputs": [],
   "source": [
    "# !pip3 install nb_black==1.0.7 nltk==3.6.6 altair==4.1.0"
   ]
  },
  {
   "cell_type": "code",
   "execution_count": 2,
   "id": "e6b3e1ef",
   "metadata": {},
   "outputs": [],
   "source": [
    "%load_ext lab_black\n",
    "%load_ext autoreload\n",
    "%autoreload 2"
   ]
  },
  {
   "cell_type": "code",
   "execution_count": 3,
   "id": "badbc2d0",
   "metadata": {},
   "outputs": [],
   "source": [
    "import os\n",
    "import time\n",
    "from datetime import datetime\n",
    "from functools import reduce\n",
    "from typing import List\n",
    "\n",
    "import boto3\n",
    "import nltk\n",
    "import sagemaker_pyspark\n",
    "from pandas import Series as pd_Series\n",
    "from pyspark import SparkConf, keyword_only\n",
    "from pyspark.ml import Pipeline, Transformer\n",
    "from pyspark.ml.clustering import LDA\n",
    "from pyspark.ml.feature import (\n",
    "    CountVectorizer,\n",
    "    CountVectorizerModel,\n",
    "    IDF,\n",
    "    RegexTokenizer,\n",
    "    StopWordsRemover,\n",
    "    Tokenizer,\n",
    "    VectorAssembler,\n",
    ")\n",
    "from pyspark.sql import Column, SparkSession, functions as F, types as T\n",
    "from pyspark.sql.dataframe import DataFrame as pdf\n",
    "from pyspark.sql.window import Window"
   ]
  },
  {
   "cell_type": "code",
   "execution_count": 4,
   "id": "0ae95e0d",
   "metadata": {},
   "outputs": [],
   "source": [
    "# used for display purposes only\n",
    "from pandas import DataFrame as pd_DataFrame, option_context as pd_option_context\n",
    "\n",
    "# only used to verify that data containing ML model predictions, which was exported to S3, can\n",
    "# be re-loaded (into a Dask or Pandas DataFrame)\n",
    "import dask.dataframe as dd\n",
    "from pandas import read_parquet as pd_read_parquet"
   ]
  },
  {
   "cell_type": "code",
   "execution_count": 5,
   "id": "301ac127",
   "metadata": {},
   "outputs": [],
   "source": [
    "%aimport src.model_interpretation\n",
    "from src.model_interpretation import interpret_model as mih, import_export_models as iem\n",
    "\n",
    "%aimport src.nlp\n",
    "from src.nlp import clean_text as ch\n",
    "\n",
    "%aimport src.s3\n",
    "from src.s3 import bucket_contents as s3h\n",
    "\n",
    "%aimport src.visualization\n",
    "from src.visualization import visualize as vh"
   ]
  },
  {
   "cell_type": "markdown",
   "id": "54d9f92a",
   "metadata": {},
   "source": [
    "## About"
   ]
  },
  {
   "cell_type": "markdown",
   "id": "8d328b0f",
   "metadata": {},
   "source": [
    "In this notebook, PySpark ML will be used to perform topic modeling on the streamed tweets data stored in the CSV files (prepared using `3_combine_raw_data.ipynb`) in an S3 bucket.\n",
    "\n",
    "**Notes**\n",
    "1. This is an initial attempt at unsupervised learning with this data. The objective is to build up a minimum reliable end-to-end workflow here consisting of **both**\n",
    "   - complete data processing\n",
    "     - with an emphasis on processing text data\n",
    "   - unsupervised ML\n",
    "     - with manual hyper-parameter adjustments\n",
    "\n",
    "   each of which can be iteratively improved in the future.\n",
    "2. As the requirement for this project is to use big-data tools only, we will restrict ourselves to using\n",
    "   - PySpark for manipulating the data in a PySpark `DataFrame`\n",
    "     - even though the dataset used here does fit in memory and could be analysed using in-memory tools\n",
    "   - PySpark ML for implementing topic modeling (unsupervised machine learning)\n",
    "3. An AWS SageMaker notebook hosted on a T3 XLarge instance ([specifications](https://aws.amazon.com/ec2/instance-types/)) was used for running this notebook.\n",
    "4. To ensure repeatability in\n",
    "   - applying NLP on the tweet text\n",
    "     - the previous (most recently) trained vectorizer model will be loaded from a sub-folder in the same S3 bucket containing the CSV files\n",
    "       - here, this was done after reasonable choices for the `minDF` and `maxDF` hyper-parameters of the vectorizer model were found (from tuning these two hyper-parameters manually) and only the topic modeling algorithm (LDA) was left to be optimized\n",
    "     - a newly defined vectorizer model will be trained and saved (with a timestamp in the suffix of its filename) to a sub-folder in the same S3 bucket\n",
    "   - applying LDA [randomness in LDA is due to the probabilistic aspect of this algorithm ([1](https://stackoverflow.com/a/60661226/4057186))]\n",
    "     - the `seed` hyper-parameter in the PySparkML `LDA` object will be set to a fixed value\n",
    "       - this is used to save the state of a random function, so it yields the same random numbers on multiple calls\n",
    "     - the LDA hyper-parameter for the maximum number of iterations (`maxIter`, [link](https://spark.apache.org/docs/latest/api/python/reference/api/pyspark.ml.clustering.LDA.html#pyspark.ml.clustering.LDA.maxIter)) will need to be increased sufficiently (from its default value of 20) such that the learned topics do converge\n",
    "       - a best effort was made to optimize this choice manually\n",
    "\n",
    "**Requirements**\n",
    "1. This notebook must be run on an AWS SageMaker instance.\n",
    "2. Required Python libraries can be installed by un-commenting the first cell of this notebook.\n",
    "3. Two environment variables\n",
    "   - `AWS_S3_BUCKET_NAME`\n",
    "      - the name of the S3 bucket containing the hourly CSVs of streamed Twitter data\n",
    "   - `AWS_REGION`\n",
    "\n",
    "   must be accessible to this SageMaker instance."
   ]
  },
  {
   "cell_type": "markdown",
   "id": "91a7c95d",
   "metadata": {},
   "source": [
    "The Python package requirements to run this notebook are different to those listed in the `requirements.txt` file (used by notebook `3_combine_raw_data.ipynb`) for this project"
   ]
  },
  {
   "cell_type": "code",
   "execution_count": 6,
   "id": "e5ea9557",
   "metadata": {},
   "outputs": [
    {
     "name": "stdout",
     "output_type": "stream",
     "text": [
      "altair==4.1.0\n",
      "boto3==1.20.25\n",
      "dask==2021.3.0\n",
      "jupyter-server==1.13.0\n",
      "nb-black==1.0.7\n",
      "nltk==3.6.6\n",
      "pandas==1.1.5\n",
      "plotly==5.4.0\n",
      "pyspark==2.4.0\n",
      "s3fs==2021.4.0\n",
      "sagemaker==2.72.1\n",
      "sagemaker-pyspark==1.4.2\n",
      "CPU times: user 17.9 ms, sys: 8.3 ms, total: 26.2 ms\n",
      "Wall time: 974 ms\n"
     ]
    }
   ],
   "source": [
    "%%time\n",
    "!pip3 freeze | grep -E 'boto3|s3fs|black==|jupyter-server|sagemaker|sagemaker_pyspark|pandas|pyspark|dask|nltk|altair|plotly'"
   ]
  },
  {
   "cell_type": "markdown",
   "id": "f2c6c78b",
   "metadata": {},
   "source": [
    "## User Inputs"
   ]
  },
  {
   "cell_type": "code",
   "execution_count": 7,
   "id": "f1605dda",
   "metadata": {
    "tags": [
     "parameters"
    ]
   },
   "outputs": [],
   "source": [
    "# S3\n",
    "path_to_folder = \"/datasets/twitter/kinesis-demo/\"\n",
    "\n",
    "# Data Loading (from hourly CSV files)\n",
    "num_files_to_use = 25\n",
    "# number of rows (streamed tweets) to load into PySpark DataFrame\n",
    "nrows = 800_000\n",
    "\n",
    "# Data processing\n",
    "all_cols_to_process = [\n",
    "    \"document\",  # 'document' is optional\n",
    "    \"created_at\",\n",
    "    \"user_joined\",\n",
    "    \"in_reply_to_screen_name\",\n",
    "    \"source_text\",\n",
    "    \"place_country\",\n",
    "    \"user_followers\",\n",
    "    \"user_friends\",\n",
    "    \"user_listed\",\n",
    "    \"user_favourites\",\n",
    "    \"user_statuses\",\n",
    "    \"user_protected\",\n",
    "    \"user_verified\",\n",
    "    \"user_location\",\n",
    "    \"reviewText\",\n",
    "]\n",
    "\n",
    "# Vectorizer\n",
    "count_vectorizer_filename = \"count_vec_model\"\n",
    "save_count_vectorizer = False\n",
    "s3_models_subfolder = \"models\"  # note: change this from 'predictions' to 'models'\n",
    "\n",
    "# LDA\n",
    "# # this should be tuned iteratively (discussed later)\n",
    "num_topics = 4\n",
    "\n",
    "# Model Evaluation (for reading tweets predicted to belong to the same topic)\n",
    "num_top_terms_per_topic = 15\n",
    "num_top_docs_to_read = 8\n",
    "\n",
    "# Output file (containing data with predicted topic)\n",
    "output_file_name = \"processed_with_predictions\""
   ]
  },
  {
   "cell_type": "code",
   "execution_count": 8,
   "id": "e688aabb",
   "metadata": {},
   "outputs": [],
   "source": [
    "s3_bucket_name = os.getenv(\"AWS_S3_BUCKET_NAME\")\n",
    "aws_region = os.getenv(\"AWS_REGION\")"
   ]
  },
  {
   "cell_type": "code",
   "execution_count": 9,
   "id": "09cf7fd2",
   "metadata": {},
   "outputs": [],
   "source": [
    "topic_cols = [f\"topic_{i}\" for i in range(num_topics)]\n",
    "cols_to_show_when_reading = (\n",
    "    [\"document\", \"reviewText\"] + topic_cols + [\"dominant_prob\", \"dominant_topic\"]\n",
    ")"
   ]
  },
  {
   "cell_type": "code",
   "execution_count": 10,
   "id": "8b4fbb02",
   "metadata": {},
   "outputs": [],
   "source": [
    "def show_pyspark_df(df: pdf, nrows: int = 5) -> pd_DataFrame:\n",
    "    \"\"\"Display the first n rows of a PySpark DataFrame as a Pandas DataFrame.\"\"\"\n",
    "    return df.limit(nrows).toPandas()"
   ]
  },
  {
   "cell_type": "markdown",
   "id": "68b3030a",
   "metadata": {},
   "source": [
    "Download NLTK stopwords, if not previously done"
   ]
  },
  {
   "cell_type": "code",
   "execution_count": 11,
   "id": "8049ff9a",
   "metadata": {},
   "outputs": [
    {
     "name": "stdout",
     "output_type": "stream",
     "text": [
      "CPU times: user 1.75 ms, sys: 0 ns, total: 1.75 ms\n",
      "Wall time: 1.49 ms\n"
     ]
    }
   ],
   "source": [
    "%%time\n",
    "if not os.path.isdir(\n",
    "    os.path.join(os.path.expanduser(\"~\"), \"nltk_data\", \"corpora\", \"stopwords\")\n",
    "):\n",
    "    nltk.download(\"stopwords\")\n",
    "\n",
    "from nltk.corpus import stopwords\n",
    "\n",
    "all_stopwords = set(stopwords.words(\"english\"))"
   ]
  },
  {
   "cell_type": "markdown",
   "id": "3867b717",
   "metadata": {},
   "source": [
    "Append custom stopwords to the list of stopwords provied by the NLTK library"
   ]
  },
  {
   "cell_type": "code",
   "execution_count": 12,
   "id": "fa4f1dcd",
   "metadata": {},
   "outputs": [],
   "source": [
    "manual_stop_words = [\n",
    "    # specific to crypto mining\n",
    "    \"crypto\",\n",
    "    \"token\",\n",
    "    \"koistarter\",\n",
    "    \"daostarter\",\n",
    "    \"decentralized\",\n",
    "    \"services\",\n",
    "    \"pancakeswap\",\n",
    "    \"eraxnft\",\n",
    "    \"browsing\",\n",
    "    \"kommunitas\",\n",
    "    \"hosting\",\n",
    "    \"internet\",\n",
    "    \"exipofficial\",\n",
    "    \"servers\",\n",
    "    \"wallet\",\n",
    "    \"liquidity\",\n",
    "    \"rewards\",\n",
    "    \"floki\",\n",
    "    \"10000000000000linkstelegram\",\n",
    "    \"dogecoin\",\n",
    "    \"czbinance\",\n",
    "    \"watch\",\n",
    "    \"binance\",\n",
    "    \"dogelonmars\",\n",
    "    \"cryptocurrency\",\n",
    "    \"hbomax\",\n",
    "    \"money\",\n",
    "    \"danheld\",\n",
    "    \"dogelon\",\n",
    "    \"bitcoin\",\n",
    "    \"nftart\",\n",
    "    \"bvbtc\",\n",
    "    # inappropriate\n",
    "    \"fuckkk\",\n",
    "    \"fucking\",\n",
    "    # general words that won't be useful to analysis here (subjective choices)\n",
    "    \"provides\",\n",
    "    \"crazy\",\n",
    "    \"marketing\",\n",
    "    \"locked\",\n",
    "    \"happy\",\n",
    "    \"first\",\n",
    "    \"would\",\n",
    "    \"always\",\n",
    "    \"still\",\n",
    "    \"could\",\n",
    "    \"right\",\n",
    "    \"thank\",\n",
    "    \"project\",\n",
    "    \"great\",\n",
    "    \"really\",\n",
    "    \"think\",\n",
    "    \"check\",\n",
    "    \"supply\",\n",
    "    \"going\",\n",
    "    \"completed\",\n",
    "    \"still\",\n",
    "    \"people\",\n",
    "    \"years\",\n",
    "    \"matter\",\n",
    "    \"never\",\n",
    "    \"always\",\n",
    "    \"things\",\n",
    "    \"amazing\",\n",
    "    \"around\",\n",
    "    \"better\",\n",
    "    \"another\",\n",
    "    \"please\",\n",
    "    \"looking\",\n",
    "    \"today\",\n",
    "    \"since\",\n",
    "    \"thing\",\n",
    "    \"every\",\n",
    "    \"something\",\n",
    "    \"future\",\n",
    "    \"thanks\",\n",
    "    \"youre\",\n",
    "    \"don't\",\n",
    "    \"don't\",\n",
    "    \"someone\",\n",
    "    \"ready\",\n",
    "    \"taken\",\n",
    "    \"using\",\n",
    "    \"enough\",\n",
    "    \"maybe\",\n",
    "    \"believe\",\n",
    "    \"making\",\n",
    "    \"stuff\",\n",
    "    \"might\",\n",
    "    \"point\",\n",
    "    \"makes\",\n",
    "    \"family\",\n",
    "    \"everyone\",\n",
    "    \"thats\",\n",
    "    \"actually\",\n",
    "    \"everything\",\n",
    "    \"little\",\n",
    "    \"change\",\n",
    "    \"without\",\n",
    "    \"gonna\",\n",
    "    \"already\",\n",
    "    \"getting\",\n",
    "    \"theres\",\n",
    "    \"looks\",\n",
    "    \"can't\",\n",
    "    \"didn't\",\n",
    "    \"called\",\n",
    "    \"found\",\n",
    "    \"nothing\",\n",
    "    \"though\",\n",
    "    \"literally\",\n",
    "    \"bring\",\n",
    "    # not words\n",
    "    \"aaaaaaaaaa\",\n",
    "    \"aaaaaand\",\n",
    "    \"aaaaand\",\n",
    "    \"aaaahhhh\",\n",
    "    \"aaaand\",\n",
    "    \"aaaaaa\",\n",
    "    \"aaahh\",\n",
    "    \"aaare\",\n",
    "]\n",
    "# Manually add to stop words\n",
    "for manual_stop_word in manual_stop_words:\n",
    "    all_stopwords.add(manual_stop_word)\n",
    "all_stopwords = list(all_stopwords)"
   ]
  },
  {
   "cell_type": "markdown",
   "id": "4a0bd32c",
   "metadata": {},
   "source": [
    "**Notes**\n",
    "1. This custom list was iteratively built up by training the topic model algorithm, inspecting the top words in each learned topic and removing any occurrences of commonly occurring words that were (subjectively) determined to not add value to the topic. Such words should not contribute the highest weight to a topic and so should be removed from the text vocabulary that is used here.\n",
    "2. Sine we're trying to learn topics related to tweets about *space* news, tweets about crypto currency (which are likely being picked up due to their connection to the company SpaceX) are not useful and should be removed from the vocabulary. An alternative approach would be to keep those words in and choose a number of topics that (if possible) confines tweets about crypto-current to a single topic. This alternate approach was not used here."
   ]
  },
  {
   "cell_type": "markdown",
   "id": "6a95d1ca",
   "metadata": {},
   "source": [
    "## PySpark Setup (on AWS SageMaker)"
   ]
  },
  {
   "cell_type": "code",
   "execution_count": 13,
   "id": "dbb1d362",
   "metadata": {},
   "outputs": [
    {
     "name": "stdout",
     "output_type": "stream",
     "text": [
      "CPU times: user 886 µs, sys: 148 µs, total: 1.03 ms\n",
      "Wall time: 837 µs\n"
     ]
    }
   ],
   "source": [
    "%%time\n",
    "conf = (SparkConf()\n",
    "        .set(\"spark.driver.extraClassPath\", \":\".join(sagemaker_pyspark.classpath_jars())))"
   ]
  },
  {
   "cell_type": "markdown",
   "id": "b47d9c5e",
   "metadata": {},
   "source": [
    "Start a Spark session"
   ]
  },
  {
   "cell_type": "code",
   "execution_count": 14,
   "id": "8465faa4",
   "metadata": {},
   "outputs": [
    {
     "name": "stdout",
     "output_type": "stream",
     "text": [
      "CPU times: user 28.4 ms, sys: 4.75 ms, total: 33.2 ms\n",
      "Wall time: 3.41 s\n"
     ]
    }
   ],
   "source": [
    "%%time\n",
    "spark = (\n",
    "    SparkSession\n",
    "    .builder\n",
    "    .config(conf=conf)\n",
    "    .appName(\"schema_test\")\n",
    "    .getOrCreate()\n",
    ")"
   ]
  },
  {
   "cell_type": "markdown",
   "id": "0e4ef736",
   "metadata": {},
   "source": [
    "## Load Data"
   ]
  },
  {
   "cell_type": "markdown",
   "id": "9508499c",
   "metadata": {},
   "source": [
    "### Get List of S3 CSV Data Files"
   ]
  },
  {
   "cell_type": "markdown",
   "id": "b106a598",
   "metadata": {},
   "source": [
    "Get a list of all the CSV files containing the tweets data (files with a prefix `tweets_*.csv`), and not the metadata (prefix `tweets_metadata_*.csv`), from `csvs/` folder in the S3 bucket path at `<bucket-name>/datasets/twitter/kinesis-demo/`"
   ]
  },
  {
   "cell_type": "code",
   "execution_count": 15,
   "id": "d012f8e1",
   "metadata": {},
   "outputs": [
    {
     "name": "stdout",
     "output_type": "stream",
     "text": [
      "CPU times: user 112 ms, sys: 32.5 ms, total: 144 ms\n",
      "Wall time: 217 ms\n"
     ]
    },
    {
     "data": {
      "text/plain": [
       "['datasets/twitter/kinesis-demo/csvs/tweets_15_hc2021123017_s20220106193315.csv',\n",
       " 'datasets/twitter/kinesis-demo/csvs/tweets_40_hc2021123118_s20220106193321.csv',\n",
       " 'datasets/twitter/kinesis-demo/csvs/tweets_57_hc2022010416_s20220106195607.csv',\n",
       " 'datasets/twitter/kinesis-demo/csvs/tweets_58_hc2021123119_s20220106193331.csv',\n",
       " 'datasets/twitter/kinesis-demo/csvs/tweets_58_hc2021123122_s20220106193423.csv',\n",
       " 'datasets/twitter/kinesis-demo/csvs/tweets_58_hc2022010100_s20220106193454.csv',\n",
       " 'datasets/twitter/kinesis-demo/csvs/tweets_58_hc2022010104_s20220106193556.csv',\n",
       " 'datasets/twitter/kinesis-demo/csvs/tweets_58_hc2022010107_s20220106193641.csv',\n",
       " 'datasets/twitter/kinesis-demo/csvs/tweets_58_hc2022010109_s20220106193710.csv',\n",
       " 'datasets/twitter/kinesis-demo/csvs/tweets_58_hc2022010112_s20220106193752.csv',\n",
       " 'datasets/twitter/kinesis-demo/csvs/tweets_58_hc2022010116_s20220106193852.csv',\n",
       " 'datasets/twitter/kinesis-demo/csvs/tweets_58_hc2022010120_s20220106193954.csv',\n",
       " 'datasets/twitter/kinesis-demo/csvs/tweets_58_hc2022010123_s20220106194036.csv',\n",
       " 'datasets/twitter/kinesis-demo/csvs/tweets_58_hc2022010200_s20220106194051.csv',\n",
       " 'datasets/twitter/kinesis-demo/csvs/tweets_58_hc2022010202_s20220106194120.csv',\n",
       " 'datasets/twitter/kinesis-demo/csvs/tweets_58_hc2022010204_s20220106194147.csv',\n",
       " 'datasets/twitter/kinesis-demo/csvs/tweets_58_hc2022010206_s20220106194215.csv',\n",
       " 'datasets/twitter/kinesis-demo/csvs/tweets_58_hc2022010207_s20220106194229.csv',\n",
       " 'datasets/twitter/kinesis-demo/csvs/tweets_58_hc2022010209_s20220106194257.csv',\n",
       " 'datasets/twitter/kinesis-demo/csvs/tweets_58_hc2022010211_s20220106194325.csv',\n",
       " 'datasets/twitter/kinesis-demo/csvs/tweets_58_hc2022010213_s20220106194353.csv',\n",
       " 'datasets/twitter/kinesis-demo/csvs/tweets_58_hc2022010218_s20220106194507.csv',\n",
       " 'datasets/twitter/kinesis-demo/csvs/tweets_58_hc2022010221_s20220106194551.csv',\n",
       " 'datasets/twitter/kinesis-demo/csvs/tweets_58_hc2022010223_s20220106194620.csv',\n",
       " 'datasets/twitter/kinesis-demo/csvs/tweets_58_hc2022010301_s20220106194648.csv',\n",
       " 'datasets/twitter/kinesis-demo/csvs/tweets_58_hc2022010303_s20220106194716.csv',\n",
       " 'datasets/twitter/kinesis-demo/csvs/tweets_58_hc2022010305_s20220106194745.csv',\n",
       " 'datasets/twitter/kinesis-demo/csvs/tweets_58_hc2022010307_s20220106194813.csv',\n",
       " 'datasets/twitter/kinesis-demo/csvs/tweets_58_hc2022010308_s20220106194827.csv',\n",
       " 'datasets/twitter/kinesis-demo/csvs/tweets_58_hc2022010310_s20220106194855.csv',\n",
       " 'datasets/twitter/kinesis-demo/csvs/tweets_58_hc2022010311_s20220106194908.csv',\n",
       " 'datasets/twitter/kinesis-demo/csvs/tweets_58_hc2022010314_s20220106194952.csv',\n",
       " 'datasets/twitter/kinesis-demo/csvs/tweets_58_hc2022010318_s20220106195053.csv',\n",
       " 'datasets/twitter/kinesis-demo/csvs/tweets_58_hc2022010321_s20220106195137.csv',\n",
       " 'datasets/twitter/kinesis-demo/csvs/tweets_58_hc2022010323_s20220106195207.csv',\n",
       " 'datasets/twitter/kinesis-demo/csvs/tweets_58_hc2022010401_s20220106195236.csv',\n",
       " 'datasets/twitter/kinesis-demo/csvs/tweets_58_hc2022010404_s20220106195320.csv',\n",
       " 'datasets/twitter/kinesis-demo/csvs/tweets_58_hc2022010406_s20220106195347.csv',\n",
       " 'datasets/twitter/kinesis-demo/csvs/tweets_58_hc2022010408_s20220106195414.csv',\n",
       " 'datasets/twitter/kinesis-demo/csvs/tweets_58_hc2022010409_s20220106195427.csv',\n",
       " 'datasets/twitter/kinesis-demo/csvs/tweets_58_hc2022010411_s20220106195454.csv',\n",
       " 'datasets/twitter/kinesis-demo/csvs/tweets_58_hc2022010413_s20220106195522.csv',\n",
       " 'datasets/twitter/kinesis-demo/csvs/tweets_58_hc2022010417_s20220106195623.csv',\n",
       " 'datasets/twitter/kinesis-demo/csvs/tweets_58_hc2022010421_s20220106195724.csv',\n",
       " 'datasets/twitter/kinesis-demo/csvs/tweets_58_hc2022010500_s20220106195806.csv',\n",
       " 'datasets/twitter/kinesis-demo/csvs/tweets_58_hc2022010501_s20220106195820.csv',\n",
       " 'datasets/twitter/kinesis-demo/csvs/tweets_58_hc2022010502_s20220106195834.csv',\n",
       " 'datasets/twitter/kinesis-demo/csvs/tweets_58_hc2022010504_s20220106195904.csv',\n",
       " 'datasets/twitter/kinesis-demo/csvs/tweets_58_hc2022010507_s20220106195948.csv',\n",
       " 'datasets/twitter/kinesis-demo/csvs/tweets_58_hc2022010509_s20220106200016.csv',\n",
       " 'datasets/twitter/kinesis-demo/csvs/tweets_58_hc2022010510_s20220106200030.csv',\n",
       " 'datasets/twitter/kinesis-demo/csvs/tweets_58_hc2022010512_s20220106200058.csv',\n",
       " 'datasets/twitter/kinesis-demo/csvs/tweets_58_hc2022010517_s20220106200218.csv',\n",
       " 'datasets/twitter/kinesis-demo/csvs/tweets_58_hc2022010522_s20220106200335.csv',\n",
       " 'datasets/twitter/kinesis-demo/csvs/tweets_58_hc2022010601_s20220106200420.csv',\n",
       " 'datasets/twitter/kinesis-demo/csvs/tweets_58_hc2022010604_s20220106200503.csv',\n",
       " 'datasets/twitter/kinesis-demo/csvs/tweets_58_hc2022010606_s20220106200530.csv',\n",
       " 'datasets/twitter/kinesis-demo/csvs/tweets_58_hc2022010608_s20220106200557.csv',\n",
       " 'datasets/twitter/kinesis-demo/csvs/tweets_58_hc2022010610_s20220106200626.csv',\n",
       " 'datasets/twitter/kinesis-demo/csvs/tweets_58_hc2022010611_s20220106200639.csv',\n",
       " 'datasets/twitter/kinesis-demo/csvs/tweets_58_hc2022010614_s20220106200722.csv',\n",
       " 'datasets/twitter/kinesis-demo/csvs/tweets_58_hc2022010619_s20220106200848.csv',\n",
       " 'datasets/twitter/kinesis-demo/csvs/tweets_58_hc2022010620_s20220106200903.csv',\n",
       " 'datasets/twitter/kinesis-demo/csvs/tweets_58_hc2022010621_s20220106200917.csv',\n",
       " 'datasets/twitter/kinesis-demo/csvs/tweets_59_hc2021123120_s20220106193345.csv',\n",
       " 'datasets/twitter/kinesis-demo/csvs/tweets_59_hc2021123121_s20220106193409.csv',\n",
       " 'datasets/twitter/kinesis-demo/csvs/tweets_59_hc2021123123_s20220106193438.csv',\n",
       " 'datasets/twitter/kinesis-demo/csvs/tweets_59_hc2022010101_s20220106193510.csv',\n",
       " 'datasets/twitter/kinesis-demo/csvs/tweets_59_hc2022010102_s20220106193525.csv',\n",
       " 'datasets/twitter/kinesis-demo/csvs/tweets_59_hc2022010103_s20220106193541.csv',\n",
       " 'datasets/twitter/kinesis-demo/csvs/tweets_59_hc2022010105_s20220106193611.csv',\n",
       " 'datasets/twitter/kinesis-demo/csvs/tweets_59_hc2022010106_s20220106193626.csv',\n",
       " 'datasets/twitter/kinesis-demo/csvs/tweets_59_hc2022010108_s20220106193655.csv',\n",
       " 'datasets/twitter/kinesis-demo/csvs/tweets_59_hc2022010110_s20220106193723.csv',\n",
       " 'datasets/twitter/kinesis-demo/csvs/tweets_59_hc2022010111_s20220106193738.csv',\n",
       " 'datasets/twitter/kinesis-demo/csvs/tweets_59_hc2022010113_s20220106193806.csv',\n",
       " 'datasets/twitter/kinesis-demo/csvs/tweets_59_hc2022010114_s20220106193821.csv',\n",
       " 'datasets/twitter/kinesis-demo/csvs/tweets_59_hc2022010115_s20220106193836.csv',\n",
       " 'datasets/twitter/kinesis-demo/csvs/tweets_59_hc2022010117_s20220106193907.csv',\n",
       " 'datasets/twitter/kinesis-demo/csvs/tweets_59_hc2022010118_s20220106193923.csv',\n",
       " 'datasets/twitter/kinesis-demo/csvs/tweets_59_hc2022010119_s20220106193938.csv',\n",
       " 'datasets/twitter/kinesis-demo/csvs/tweets_59_hc2022010121_s20220106194008.csv',\n",
       " 'datasets/twitter/kinesis-demo/csvs/tweets_59_hc2022010122_s20220106194022.csv',\n",
       " 'datasets/twitter/kinesis-demo/csvs/tweets_59_hc2022010201_s20220106194106.csv',\n",
       " 'datasets/twitter/kinesis-demo/csvs/tweets_59_hc2022010203_s20220106194133.csv',\n",
       " 'datasets/twitter/kinesis-demo/csvs/tweets_59_hc2022010205_s20220106194201.csv',\n",
       " 'datasets/twitter/kinesis-demo/csvs/tweets_59_hc2022010208_s20220106194243.csv',\n",
       " 'datasets/twitter/kinesis-demo/csvs/tweets_59_hc2022010210_s20220106194310.csv',\n",
       " 'datasets/twitter/kinesis-demo/csvs/tweets_59_hc2022010212_s20220106194339.csv',\n",
       " 'datasets/twitter/kinesis-demo/csvs/tweets_59_hc2022010214_s20220106194407.csv',\n",
       " 'datasets/twitter/kinesis-demo/csvs/tweets_59_hc2022010215_s20220106194422.csv',\n",
       " 'datasets/twitter/kinesis-demo/csvs/tweets_59_hc2022010216_s20220106194437.csv',\n",
       " 'datasets/twitter/kinesis-demo/csvs/tweets_59_hc2022010217_s20220106194452.csv',\n",
       " 'datasets/twitter/kinesis-demo/csvs/tweets_59_hc2022010219_s20220106194522.csv',\n",
       " 'datasets/twitter/kinesis-demo/csvs/tweets_59_hc2022010220_s20220106194537.csv',\n",
       " 'datasets/twitter/kinesis-demo/csvs/tweets_59_hc2022010222_s20220106194605.csv',\n",
       " 'datasets/twitter/kinesis-demo/csvs/tweets_59_hc2022010300_s20220106194634.csv',\n",
       " 'datasets/twitter/kinesis-demo/csvs/tweets_59_hc2022010302_s20220106194702.csv',\n",
       " 'datasets/twitter/kinesis-demo/csvs/tweets_59_hc2022010304_s20220106194730.csv',\n",
       " 'datasets/twitter/kinesis-demo/csvs/tweets_59_hc2022010306_s20220106194759.csv',\n",
       " 'datasets/twitter/kinesis-demo/csvs/tweets_59_hc2022010309_s20220106194840.csv',\n",
       " 'datasets/twitter/kinesis-demo/csvs/tweets_59_hc2022010312_s20220106194922.csv',\n",
       " 'datasets/twitter/kinesis-demo/csvs/tweets_59_hc2022010313_s20220106194937.csv',\n",
       " 'datasets/twitter/kinesis-demo/csvs/tweets_59_hc2022010315_s20220106195006.csv',\n",
       " 'datasets/twitter/kinesis-demo/csvs/tweets_59_hc2022010316_s20220106195022.csv',\n",
       " 'datasets/twitter/kinesis-demo/csvs/tweets_59_hc2022010317_s20220106195037.csv',\n",
       " 'datasets/twitter/kinesis-demo/csvs/tweets_59_hc2022010319_s20220106195107.csv',\n",
       " 'datasets/twitter/kinesis-demo/csvs/tweets_59_hc2022010320_s20220106195123.csv',\n",
       " 'datasets/twitter/kinesis-demo/csvs/tweets_59_hc2022010322_s20220106195152.csv',\n",
       " 'datasets/twitter/kinesis-demo/csvs/tweets_59_hc2022010400_s20220106195221.csv',\n",
       " 'datasets/twitter/kinesis-demo/csvs/tweets_59_hc2022010402_s20220106195250.csv',\n",
       " 'datasets/twitter/kinesis-demo/csvs/tweets_59_hc2022010403_s20220106195305.csv',\n",
       " 'datasets/twitter/kinesis-demo/csvs/tweets_59_hc2022010405_s20220106195333.csv',\n",
       " 'datasets/twitter/kinesis-demo/csvs/tweets_59_hc2022010407_s20220106195400.csv',\n",
       " 'datasets/twitter/kinesis-demo/csvs/tweets_59_hc2022010410_s20220106195441.csv',\n",
       " 'datasets/twitter/kinesis-demo/csvs/tweets_59_hc2022010412_s20220106195508.csv',\n",
       " 'datasets/twitter/kinesis-demo/csvs/tweets_59_hc2022010414_s20220106195536.csv',\n",
       " 'datasets/twitter/kinesis-demo/csvs/tweets_59_hc2022010415_s20220106195552.csv',\n",
       " 'datasets/twitter/kinesis-demo/csvs/tweets_59_hc2022010418_s20220106195640.csv',\n",
       " 'datasets/twitter/kinesis-demo/csvs/tweets_59_hc2022010419_s20220106195655.csv',\n",
       " 'datasets/twitter/kinesis-demo/csvs/tweets_59_hc2022010420_s20220106195709.csv',\n",
       " 'datasets/twitter/kinesis-demo/csvs/tweets_59_hc2022010422_s20220106195738.csv',\n",
       " 'datasets/twitter/kinesis-demo/csvs/tweets_59_hc2022010423_s20220106195752.csv',\n",
       " 'datasets/twitter/kinesis-demo/csvs/tweets_59_hc2022010503_s20220106195849.csv',\n",
       " 'datasets/twitter/kinesis-demo/csvs/tweets_59_hc2022010505_s20220106195918.csv',\n",
       " 'datasets/twitter/kinesis-demo/csvs/tweets_59_hc2022010506_s20220106195933.csv',\n",
       " 'datasets/twitter/kinesis-demo/csvs/tweets_59_hc2022010508_s20220106200001.csv',\n",
       " 'datasets/twitter/kinesis-demo/csvs/tweets_59_hc2022010511_s20220106200044.csv',\n",
       " 'datasets/twitter/kinesis-demo/csvs/tweets_59_hc2022010513_s20220106200112.csv',\n",
       " 'datasets/twitter/kinesis-demo/csvs/tweets_59_hc2022010514_s20220106200127.csv',\n",
       " 'datasets/twitter/kinesis-demo/csvs/tweets_59_hc2022010515_s20220106200143.csv',\n",
       " 'datasets/twitter/kinesis-demo/csvs/tweets_59_hc2022010516_s20220106200159.csv',\n",
       " 'datasets/twitter/kinesis-demo/csvs/tweets_59_hc2022010518_s20220106200234.csv',\n",
       " 'datasets/twitter/kinesis-demo/csvs/tweets_59_hc2022010519_s20220106200250.csv',\n",
       " 'datasets/twitter/kinesis-demo/csvs/tweets_59_hc2022010520_s20220106200305.csv',\n",
       " 'datasets/twitter/kinesis-demo/csvs/tweets_59_hc2022010521_s20220106200320.csv',\n",
       " 'datasets/twitter/kinesis-demo/csvs/tweets_59_hc2022010523_s20220106200351.csv',\n",
       " 'datasets/twitter/kinesis-demo/csvs/tweets_59_hc2022010600_s20220106200406.csv',\n",
       " 'datasets/twitter/kinesis-demo/csvs/tweets_59_hc2022010602_s20220106200434.csv',\n",
       " 'datasets/twitter/kinesis-demo/csvs/tweets_59_hc2022010603_s20220106200449.csv',\n",
       " 'datasets/twitter/kinesis-demo/csvs/tweets_59_hc2022010605_s20220106200516.csv',\n",
       " 'datasets/twitter/kinesis-demo/csvs/tweets_59_hc2022010607_s20220106200543.csv',\n",
       " 'datasets/twitter/kinesis-demo/csvs/tweets_59_hc2022010609_s20220106200612.csv',\n",
       " 'datasets/twitter/kinesis-demo/csvs/tweets_59_hc2022010612_s20220106200653.csv',\n",
       " 'datasets/twitter/kinesis-demo/csvs/tweets_59_hc2022010613_s20220106200708.csv',\n",
       " 'datasets/twitter/kinesis-demo/csvs/tweets_59_hc2022010615_s20220106200736.csv',\n",
       " 'datasets/twitter/kinesis-demo/csvs/tweets_59_hc2022010616_s20220106200751.csv',\n",
       " 'datasets/twitter/kinesis-demo/csvs/tweets_59_hc2022010617_s20220106200806.csv',\n",
       " 'datasets/twitter/kinesis-demo/csvs/tweets_59_hc2022010618_s20220106200833.csv',\n",
       " 'datasets/twitter/kinesis-demo/csvs/tweets_59_hc2022010622_s20220106200934.csv',\n",
       " 'datasets/twitter/kinesis-demo/csvs/tweets_59_hc2022010623_s20220106200950.csv',\n",
       " 'datasets/twitter/kinesis-demo/csvs/tweets_59_hc2022010700_s20220106201004.csv',\n",
       " 'datasets/twitter/kinesis-demo/csvs/tweets_9_hc2022010701_s20220106201018.csv']"
      ]
     },
     "execution_count": 15,
     "metadata": {},
     "output_type": "execute_result"
    }
   ],
   "source": [
    "%%time\n",
    "existing_csv_files_list = s3h.get_existing_csv_files_list(\n",
    "    s3_bucket_name, path_to_folder[1:] + \"csvs/tweets_\"\n",
    ")\n",
    "files_csvs_list = [f for f in existing_csv_files_list if \"metadata\" not in f]\n",
    "files_csvs_list"
   ]
  },
  {
   "cell_type": "markdown",
   "id": "a8a098eb",
   "metadata": {},
   "source": [
    "### Load all CSV Files into Single PySpark `DataFrame`"
   ]
  },
  {
   "cell_type": "markdown",
   "id": "c5643313",
   "metadata": {},
   "source": [
    "Read all CSV files from the `csvs/` in the S3 bucket path at `<bucket-name>/datasets/twitter/kinesis-demo/` into a PySpark `DataFrame`"
   ]
  },
  {
   "cell_type": "code",
   "execution_count": 16,
   "id": "2afbc1b4",
   "metadata": {},
   "outputs": [],
   "source": [
    "schema = T.StructType(\n",
    "    [\n",
    "        T.StructField(\"id\", T.StringType()),\n",
    "        T.StructField(\"contributors\", T.StringType()),\n",
    "        T.StructField(\"created_at\", T.StringType()),\n",
    "        T.StructField(\"source\", T.StringType()),\n",
    "        T.StructField(\"in_reply_to_screen_name\", T.StringType()),\n",
    "        T.StructField(\"source_text\", T.StringType()),\n",
    "        T.StructField(\"place_id\", T.StringType()),\n",
    "        T.StructField(\"place_url\", T.StringType()),\n",
    "        T.StructField(\"place_place_type\", T.StringType()),\n",
    "        T.StructField(\"place_country_code\", T.StringType()),\n",
    "        T.StructField(\"place_country\", T.StringType()),\n",
    "        T.StructField(\"user_name\", T.StringType()),\n",
    "        T.StructField(\"user_screen_name\", T.StringType()),\n",
    "        T.StructField(\"user_followers\", T.IntegerType()),\n",
    "        T.StructField(\"user_friends\", T.IntegerType()),\n",
    "        T.StructField(\"user_listed\", T.IntegerType()),\n",
    "        T.StructField(\"user_favourites\", T.IntegerType()),\n",
    "        T.StructField(\"user_statuses\", T.IntegerType()),\n",
    "        T.StructField(\"user_protected\", T.BooleanType()),\n",
    "        T.StructField(\"user_verified\", T.BooleanType()),\n",
    "        T.StructField(\"user_joined\", T.StringType()),\n",
    "        T.StructField(\"user_location\", T.StringType()),\n",
    "        T.StructField(\"retweeted_tweet\", T.StringType()),\n",
    "        T.StructField(\"text\", T.StringType()),\n",
    "        T.StructField(\"file_name\", T.StringType()),\n",
    "    ]\n",
    ")"
   ]
  },
  {
   "cell_type": "code",
   "execution_count": 17,
   "id": "189d8cdb",
   "metadata": {},
   "outputs": [
    {
     "name": "stdout",
     "output_type": "stream",
     "text": [
      "CPU times: user 16.8 ms, sys: 2.09 ms, total: 18.9 ms\n",
      "Wall time: 6.63 s\n"
     ]
    }
   ],
   "source": [
    "%%time\n",
    "df = spark.read.csv(\n",
    "    [f's3a://{s3_bucket_name}' + f\"/{f}\" for f in files_csvs_list],\n",
    "    header=True,\n",
    "    schema=schema,\n",
    "    # inferSchema=True\n",
    ").withColumnRenamed(\"text\", \"reviewText\")\n",
    "df = df.limit(nrows)"
   ]
  },
  {
   "cell_type": "markdown",
   "id": "eeca22ca",
   "metadata": {},
   "source": [
    "(Optional) Add a row number (row counter) column to the data"
   ]
  },
  {
   "cell_type": "code",
   "execution_count": 18,
   "id": "50656c19",
   "metadata": {},
   "outputs": [
    {
     "data": {
      "text/html": [
       "<div>\n",
       "<style scoped>\n",
       "    .dataframe tbody tr th:only-of-type {\n",
       "        vertical-align: middle;\n",
       "    }\n",
       "\n",
       "    .dataframe tbody tr th {\n",
       "        vertical-align: top;\n",
       "    }\n",
       "\n",
       "    .dataframe thead th {\n",
       "        text-align: right;\n",
       "    }\n",
       "</style>\n",
       "<table border=\"1\" class=\"dataframe\">\n",
       "  <thead>\n",
       "    <tr style=\"text-align: right;\">\n",
       "      <th></th>\n",
       "      <th>id</th>\n",
       "      <th>contributors</th>\n",
       "      <th>created_at</th>\n",
       "      <th>source</th>\n",
       "      <th>in_reply_to_screen_name</th>\n",
       "      <th>source_text</th>\n",
       "      <th>place_id</th>\n",
       "      <th>place_url</th>\n",
       "      <th>place_place_type</th>\n",
       "      <th>place_country_code</th>\n",
       "      <th>place_country</th>\n",
       "      <th>user_name</th>\n",
       "      <th>user_screen_name</th>\n",
       "      <th>user_followers</th>\n",
       "      <th>user_friends</th>\n",
       "      <th>user_listed</th>\n",
       "      <th>user_favourites</th>\n",
       "      <th>user_statuses</th>\n",
       "      <th>user_protected</th>\n",
       "      <th>user_verified</th>\n",
       "      <th>user_joined</th>\n",
       "      <th>user_location</th>\n",
       "      <th>retweeted_tweet</th>\n",
       "      <th>reviewText</th>\n",
       "      <th>file_name</th>\n",
       "      <th>document</th>\n",
       "    </tr>\n",
       "  </thead>\n",
       "  <tbody>\n",
       "    <tr>\n",
       "      <th>0</th>\n",
       "      <td>1478758349764059139</td>\n",
       "      <td>None</td>\n",
       "      <td>2022-01-05 16:00:39+00:00</td>\n",
       "      <td>\"&lt;a href=\"\"https://mobile.twitter.com\"\" rel=\"\"...</td>\n",
       "      <td>cheemsisjesus</td>\n",
       "      <td>Twitter Web App</td>\n",
       "      <td>None</td>\n",
       "      <td>None</td>\n",
       "      <td>None</td>\n",
       "      <td>None</td>\n",
       "      <td>None</td>\n",
       "      <td>Robert Evans</td>\n",
       "      <td>LordJesusMinion</td>\n",
       "      <td>108</td>\n",
       "      <td>775</td>\n",
       "      <td>0</td>\n",
       "      <td>536</td>\n",
       "      <td>700</td>\n",
       "      <td>False</td>\n",
       "      <td>False</td>\n",
       "      <td>2021-12-22 13:26:45+00:00</td>\n",
       "      <td>None</td>\n",
       "      <td>no</td>\n",
       "      <td>Yes, indeed there is:  aka  aka  aka      ...</td>\n",
       "      <td>twitter_delivery_stream-1-2022-01-05-16-00-44-...</td>\n",
       "      <td>1</td>\n",
       "    </tr>\n",
       "    <tr>\n",
       "      <th>1</th>\n",
       "      <td>1477802540272021505</td>\n",
       "      <td>None</td>\n",
       "      <td>2022-01-03 00:42:36+00:00</td>\n",
       "      <td>\"&lt;a href=\"\"https://mobile.twitter.com\"\" rel=\"\"...</td>\n",
       "      <td>SnakeFragile</td>\n",
       "      <td>Twitter Web App</td>\n",
       "      <td>None</td>\n",
       "      <td>None</td>\n",
       "      <td>None</td>\n",
       "      <td>None</td>\n",
       "      <td>None</td>\n",
       "      <td>James Hawke</td>\n",
       "      <td>James_Hawke1</td>\n",
       "      <td>296</td>\n",
       "      <td>593</td>\n",
       "      <td>2</td>\n",
       "      <td>2476</td>\n",
       "      <td>5923</td>\n",
       "      <td>False</td>\n",
       "      <td>False</td>\n",
       "      <td>2021-10-27 22:00:18+00:00</td>\n",
       "      <td>Ausganistan</td>\n",
       "      <td>no</td>\n",
       "      <td>\"        Prove how \"\"Gravity!\"\" makes spheres ...</td>\n",
       "      <td>twitter_delivery_stream-1-2022-01-03-00-42-19-...</td>\n",
       "      <td>2</td>\n",
       "    </tr>\n",
       "    <tr>\n",
       "      <th>2</th>\n",
       "      <td>1478758350229848065</td>\n",
       "      <td>None</td>\n",
       "      <td>2022-01-05 16:00:39+00:00</td>\n",
       "      <td>\"&lt;a href=\"\"http://twitter.com/download/iphone\"...</td>\n",
       "      <td>SpaceX</td>\n",
       "      <td>Twitter for iPhone</td>\n",
       "      <td>None</td>\n",
       "      <td>None</td>\n",
       "      <td>None</td>\n",
       "      <td>None</td>\n",
       "      <td>None</td>\n",
       "      <td>NFT_d4ni3L</td>\n",
       "      <td>nft_d4ni3l</td>\n",
       "      <td>158</td>\n",
       "      <td>230</td>\n",
       "      <td>1</td>\n",
       "      <td>4092</td>\n",
       "      <td>2271</td>\n",
       "      <td>False</td>\n",
       "      <td>False</td>\n",
       "      <td>2018-01-21 00:36:55+00:00</td>\n",
       "      <td>Deutschland</td>\n",
       "      <td>no</td>\n",
       "      <td>Mr.  , can you resuscitate the   project. ...</td>\n",
       "      <td>twitter_delivery_stream-1-2022-01-05-16-00-44-...</td>\n",
       "      <td>3</td>\n",
       "    </tr>\n",
       "    <tr>\n",
       "      <th>3</th>\n",
       "      <td>1477802565198880772</td>\n",
       "      <td>None</td>\n",
       "      <td>2022-01-03 00:42:42+00:00</td>\n",
       "      <td>\"&lt;a href=\"\"https://mobile.twitter.com\"\" rel=\"\"...</td>\n",
       "      <td>None</td>\n",
       "      <td>Twitter Web App</td>\n",
       "      <td>None</td>\n",
       "      <td>None</td>\n",
       "      <td>None</td>\n",
       "      <td>None</td>\n",
       "      <td>None</td>\n",
       "      <td>Marine Technology</td>\n",
       "      <td>MarineTechnolo1</td>\n",
       "      <td>864</td>\n",
       "      <td>3829</td>\n",
       "      <td>32</td>\n",
       "      <td>5939</td>\n",
       "      <td>11315</td>\n",
       "      <td>False</td>\n",
       "      <td>False</td>\n",
       "      <td>2012-09-04 19:51:58+00:00</td>\n",
       "      <td>Florida</td>\n",
       "      <td>no</td>\n",
       "      <td>Russia’s space agency has sent an actor and a ...</td>\n",
       "      <td>twitter_delivery_stream-1-2022-01-03-00-42-19-...</td>\n",
       "      <td>4</td>\n",
       "    </tr>\n",
       "    <tr>\n",
       "      <th>4</th>\n",
       "      <td>1478758353262235651</td>\n",
       "      <td>None</td>\n",
       "      <td>2022-01-05 16:00:40+00:00</td>\n",
       "      <td>\"&lt;a href=\"\"https://ifttt.com\"\" rel=\"\"nofollow\"...</td>\n",
       "      <td>None</td>\n",
       "      <td>IFTTT</td>\n",
       "      <td>None</td>\n",
       "      <td>None</td>\n",
       "      <td>None</td>\n",
       "      <td>None</td>\n",
       "      <td>None</td>\n",
       "      <td>John Burke</td>\n",
       "      <td>ImRetiredAtLast</td>\n",
       "      <td>1207</td>\n",
       "      <td>1733</td>\n",
       "      <td>177</td>\n",
       "      <td>566</td>\n",
       "      <td>85772</td>\n",
       "      <td>False</td>\n",
       "      <td>False</td>\n",
       "      <td>2011-07-17 21:24:14+00:00</td>\n",
       "      <td>Great White North</td>\n",
       "      <td>no</td>\n",
       "      <td>NASA’s X-59 Kicks Off 2022 in Texas for Ground...</td>\n",
       "      <td>twitter_delivery_stream-1-2022-01-05-16-00-44-...</td>\n",
       "      <td>5</td>\n",
       "    </tr>\n",
       "  </tbody>\n",
       "</table>\n",
       "</div>"
      ],
      "text/plain": [
       "                    id contributors                 created_at  \\\n",
       "0  1478758349764059139         None  2022-01-05 16:00:39+00:00   \n",
       "1  1477802540272021505         None  2022-01-03 00:42:36+00:00   \n",
       "2  1478758350229848065         None  2022-01-05 16:00:39+00:00   \n",
       "3  1477802565198880772         None  2022-01-03 00:42:42+00:00   \n",
       "4  1478758353262235651         None  2022-01-05 16:00:40+00:00   \n",
       "\n",
       "                                              source in_reply_to_screen_name  \\\n",
       "0  \"<a href=\"\"https://mobile.twitter.com\"\" rel=\"\"...           cheemsisjesus   \n",
       "1  \"<a href=\"\"https://mobile.twitter.com\"\" rel=\"\"...            SnakeFragile   \n",
       "2  \"<a href=\"\"http://twitter.com/download/iphone\"...                  SpaceX   \n",
       "3  \"<a href=\"\"https://mobile.twitter.com\"\" rel=\"\"...                    None   \n",
       "4  \"<a href=\"\"https://ifttt.com\"\" rel=\"\"nofollow\"...                    None   \n",
       "\n",
       "          source_text place_id place_url place_place_type place_country_code  \\\n",
       "0     Twitter Web App     None      None             None               None   \n",
       "1     Twitter Web App     None      None             None               None   \n",
       "2  Twitter for iPhone     None      None             None               None   \n",
       "3     Twitter Web App     None      None             None               None   \n",
       "4               IFTTT     None      None             None               None   \n",
       "\n",
       "  place_country          user_name user_screen_name  user_followers  \\\n",
       "0          None       Robert Evans  LordJesusMinion             108   \n",
       "1          None        James Hawke     James_Hawke1             296   \n",
       "2          None         NFT_d4ni3L       nft_d4ni3l             158   \n",
       "3          None  Marine Technology  MarineTechnolo1             864   \n",
       "4          None         John Burke  ImRetiredAtLast            1207   \n",
       "\n",
       "   user_friends  user_listed  user_favourites  user_statuses  user_protected  \\\n",
       "0           775            0              536            700           False   \n",
       "1           593            2             2476           5923           False   \n",
       "2           230            1             4092           2271           False   \n",
       "3          3829           32             5939          11315           False   \n",
       "4          1733          177              566          85772           False   \n",
       "\n",
       "   user_verified                user_joined       user_location  \\\n",
       "0          False  2021-12-22 13:26:45+00:00                None   \n",
       "1          False  2021-10-27 22:00:18+00:00         Ausganistan   \n",
       "2          False  2018-01-21 00:36:55+00:00         Deutschland   \n",
       "3          False  2012-09-04 19:51:58+00:00             Florida   \n",
       "4          False  2011-07-17 21:24:14+00:00   Great White North   \n",
       "\n",
       "  retweeted_tweet                                         reviewText  \\\n",
       "0              no      Yes, indeed there is:  aka  aka  aka      ...   \n",
       "1              no  \"        Prove how \"\"Gravity!\"\" makes spheres ...   \n",
       "2              no      Mr.  , can you resuscitate the   project. ...   \n",
       "3              no  Russia’s space agency has sent an actor and a ...   \n",
       "4              no  NASA’s X-59 Kicks Off 2022 in Texas for Ground...   \n",
       "\n",
       "                                           file_name  document  \n",
       "0  twitter_delivery_stream-1-2022-01-05-16-00-44-...         1  \n",
       "1  twitter_delivery_stream-1-2022-01-03-00-42-19-...         2  \n",
       "2  twitter_delivery_stream-1-2022-01-05-16-00-44-...         3  \n",
       "3  twitter_delivery_stream-1-2022-01-03-00-42-19-...         4  \n",
       "4  twitter_delivery_stream-1-2022-01-05-16-00-44-...         5  "
      ]
     },
     "metadata": {},
     "output_type": "display_data"
    },
    {
     "name": "stdout",
     "output_type": "stream",
     "text": [
      "CPU times: user 36.7 ms, sys: 6.91 ms, total: 43.6 ms\n",
      "Wall time: 13.9 s\n"
     ]
    }
   ],
   "source": [
    "%%time\n",
    "w = Window().orderBy(F.lit('A'))\n",
    "df = df.withColumn(\"document\", F.row_number().over(w))\n",
    "with pd_option_context(\"display.max_columns\", 50):\n",
    "    display(show_pyspark_df(df))"
   ]
  },
  {
   "cell_type": "markdown",
   "id": "0e6e6f38",
   "metadata": {},
   "source": [
    "Get the number of rows (retrieved tweets) in the data, number of pyspark `DataFrame` partitions and the number of workers on the host (single-node) cluster"
   ]
  },
  {
   "cell_type": "code",
   "execution_count": 19,
   "id": "06908bb5",
   "metadata": {},
   "outputs": [
    {
     "name": "stdout",
     "output_type": "stream",
     "text": [
      "Raw data contains 623,089 rows and 26 columns in 1 partitions, on a host with 4 CPUs\n",
      "CPU times: user 1.32 ms, sys: 1.67 ms, total: 2.99 ms\n",
      "Wall time: 4.14 s\n"
     ]
    }
   ],
   "source": [
    "%%time\n",
    "print(\n",
    "    f\"Raw data contains {df.count():,} rows and {len(df.columns):,} columns \"\n",
    "    f\"in {df.rdd.getNumPartitions()} partitions, on a host with \"\n",
    "    f\"{len(os.sched_getaffinity(0))} CPUs\"\n",
    ")"
   ]
  },
  {
   "cell_type": "markdown",
   "id": "11395f13",
   "metadata": {},
   "source": [
    "Show the first 4 rows from the PySpark `DataFrame`"
   ]
  },
  {
   "cell_type": "code",
   "execution_count": 20,
   "id": "d1f2d01d",
   "metadata": {},
   "outputs": [
    {
     "data": {
      "text/html": [
       "<div>\n",
       "<style scoped>\n",
       "    .dataframe tbody tr th:only-of-type {\n",
       "        vertical-align: middle;\n",
       "    }\n",
       "\n",
       "    .dataframe tbody tr th {\n",
       "        vertical-align: top;\n",
       "    }\n",
       "\n",
       "    .dataframe thead th {\n",
       "        text-align: right;\n",
       "    }\n",
       "</style>\n",
       "<table border=\"1\" class=\"dataframe\">\n",
       "  <thead>\n",
       "    <tr style=\"text-align: right;\">\n",
       "      <th></th>\n",
       "      <th>id</th>\n",
       "      <th>contributors</th>\n",
       "      <th>created_at</th>\n",
       "      <th>source</th>\n",
       "      <th>in_reply_to_screen_name</th>\n",
       "      <th>source_text</th>\n",
       "      <th>place_id</th>\n",
       "      <th>place_url</th>\n",
       "      <th>place_place_type</th>\n",
       "      <th>place_country_code</th>\n",
       "      <th>place_country</th>\n",
       "      <th>user_name</th>\n",
       "      <th>user_screen_name</th>\n",
       "      <th>user_followers</th>\n",
       "      <th>user_friends</th>\n",
       "      <th>user_listed</th>\n",
       "      <th>user_favourites</th>\n",
       "      <th>user_statuses</th>\n",
       "      <th>user_protected</th>\n",
       "      <th>user_verified</th>\n",
       "      <th>user_joined</th>\n",
       "      <th>user_location</th>\n",
       "      <th>retweeted_tweet</th>\n",
       "      <th>reviewText</th>\n",
       "      <th>file_name</th>\n",
       "      <th>document</th>\n",
       "    </tr>\n",
       "  </thead>\n",
       "  <tbody>\n",
       "    <tr>\n",
       "      <th>0</th>\n",
       "      <td>1478758349764059139</td>\n",
       "      <td>None</td>\n",
       "      <td>2022-01-05 16:00:39+00:00</td>\n",
       "      <td>\"&lt;a href=\"\"https://mobile.twitter.com\"\" rel=\"\"...</td>\n",
       "      <td>cheemsisjesus</td>\n",
       "      <td>Twitter Web App</td>\n",
       "      <td>None</td>\n",
       "      <td>None</td>\n",
       "      <td>None</td>\n",
       "      <td>None</td>\n",
       "      <td>None</td>\n",
       "      <td>Robert Evans</td>\n",
       "      <td>LordJesusMinion</td>\n",
       "      <td>108</td>\n",
       "      <td>775</td>\n",
       "      <td>0</td>\n",
       "      <td>536</td>\n",
       "      <td>700</td>\n",
       "      <td>False</td>\n",
       "      <td>False</td>\n",
       "      <td>2021-12-22 13:26:45+00:00</td>\n",
       "      <td>None</td>\n",
       "      <td>no</td>\n",
       "      <td>Yes, indeed there is:  aka  aka  aka      ...</td>\n",
       "      <td>twitter_delivery_stream-1-2022-01-05-16-00-44-...</td>\n",
       "      <td>1</td>\n",
       "    </tr>\n",
       "    <tr>\n",
       "      <th>1</th>\n",
       "      <td>1477802540272021505</td>\n",
       "      <td>None</td>\n",
       "      <td>2022-01-03 00:42:36+00:00</td>\n",
       "      <td>\"&lt;a href=\"\"https://mobile.twitter.com\"\" rel=\"\"...</td>\n",
       "      <td>SnakeFragile</td>\n",
       "      <td>Twitter Web App</td>\n",
       "      <td>None</td>\n",
       "      <td>None</td>\n",
       "      <td>None</td>\n",
       "      <td>None</td>\n",
       "      <td>None</td>\n",
       "      <td>James Hawke</td>\n",
       "      <td>James_Hawke1</td>\n",
       "      <td>296</td>\n",
       "      <td>593</td>\n",
       "      <td>2</td>\n",
       "      <td>2476</td>\n",
       "      <td>5923</td>\n",
       "      <td>False</td>\n",
       "      <td>False</td>\n",
       "      <td>2021-10-27 22:00:18+00:00</td>\n",
       "      <td>Ausganistan</td>\n",
       "      <td>no</td>\n",
       "      <td>\"        Prove how \"\"Gravity!\"\" makes spheres ...</td>\n",
       "      <td>twitter_delivery_stream-1-2022-01-03-00-42-19-...</td>\n",
       "      <td>2</td>\n",
       "    </tr>\n",
       "    <tr>\n",
       "      <th>2</th>\n",
       "      <td>1478758350229848065</td>\n",
       "      <td>None</td>\n",
       "      <td>2022-01-05 16:00:39+00:00</td>\n",
       "      <td>\"&lt;a href=\"\"http://twitter.com/download/iphone\"...</td>\n",
       "      <td>SpaceX</td>\n",
       "      <td>Twitter for iPhone</td>\n",
       "      <td>None</td>\n",
       "      <td>None</td>\n",
       "      <td>None</td>\n",
       "      <td>None</td>\n",
       "      <td>None</td>\n",
       "      <td>NFT_d4ni3L</td>\n",
       "      <td>nft_d4ni3l</td>\n",
       "      <td>158</td>\n",
       "      <td>230</td>\n",
       "      <td>1</td>\n",
       "      <td>4092</td>\n",
       "      <td>2271</td>\n",
       "      <td>False</td>\n",
       "      <td>False</td>\n",
       "      <td>2018-01-21 00:36:55+00:00</td>\n",
       "      <td>Deutschland</td>\n",
       "      <td>no</td>\n",
       "      <td>Mr.  , can you resuscitate the   project. ...</td>\n",
       "      <td>twitter_delivery_stream-1-2022-01-05-16-00-44-...</td>\n",
       "      <td>3</td>\n",
       "    </tr>\n",
       "    <tr>\n",
       "      <th>3</th>\n",
       "      <td>1477802565198880772</td>\n",
       "      <td>None</td>\n",
       "      <td>2022-01-03 00:42:42+00:00</td>\n",
       "      <td>\"&lt;a href=\"\"https://mobile.twitter.com\"\" rel=\"\"...</td>\n",
       "      <td>None</td>\n",
       "      <td>Twitter Web App</td>\n",
       "      <td>None</td>\n",
       "      <td>None</td>\n",
       "      <td>None</td>\n",
       "      <td>None</td>\n",
       "      <td>None</td>\n",
       "      <td>Marine Technology</td>\n",
       "      <td>MarineTechnolo1</td>\n",
       "      <td>864</td>\n",
       "      <td>3829</td>\n",
       "      <td>32</td>\n",
       "      <td>5939</td>\n",
       "      <td>11315</td>\n",
       "      <td>False</td>\n",
       "      <td>False</td>\n",
       "      <td>2012-09-04 19:51:58+00:00</td>\n",
       "      <td>Florida</td>\n",
       "      <td>no</td>\n",
       "      <td>Russia’s space agency has sent an actor and a ...</td>\n",
       "      <td>twitter_delivery_stream-1-2022-01-03-00-42-19-...</td>\n",
       "      <td>4</td>\n",
       "    </tr>\n",
       "  </tbody>\n",
       "</table>\n",
       "</div>"
      ],
      "text/plain": [
       "                    id contributors                 created_at  \\\n",
       "0  1478758349764059139         None  2022-01-05 16:00:39+00:00   \n",
       "1  1477802540272021505         None  2022-01-03 00:42:36+00:00   \n",
       "2  1478758350229848065         None  2022-01-05 16:00:39+00:00   \n",
       "3  1477802565198880772         None  2022-01-03 00:42:42+00:00   \n",
       "\n",
       "                                              source in_reply_to_screen_name  \\\n",
       "0  \"<a href=\"\"https://mobile.twitter.com\"\" rel=\"\"...           cheemsisjesus   \n",
       "1  \"<a href=\"\"https://mobile.twitter.com\"\" rel=\"\"...            SnakeFragile   \n",
       "2  \"<a href=\"\"http://twitter.com/download/iphone\"...                  SpaceX   \n",
       "3  \"<a href=\"\"https://mobile.twitter.com\"\" rel=\"\"...                    None   \n",
       "\n",
       "          source_text place_id place_url place_place_type place_country_code  \\\n",
       "0     Twitter Web App     None      None             None               None   \n",
       "1     Twitter Web App     None      None             None               None   \n",
       "2  Twitter for iPhone     None      None             None               None   \n",
       "3     Twitter Web App     None      None             None               None   \n",
       "\n",
       "  place_country          user_name user_screen_name  user_followers  \\\n",
       "0          None       Robert Evans  LordJesusMinion             108   \n",
       "1          None        James Hawke     James_Hawke1             296   \n",
       "2          None         NFT_d4ni3L       nft_d4ni3l             158   \n",
       "3          None  Marine Technology  MarineTechnolo1             864   \n",
       "\n",
       "   user_friends  user_listed  user_favourites  user_statuses  user_protected  \\\n",
       "0           775            0              536            700           False   \n",
       "1           593            2             2476           5923           False   \n",
       "2           230            1             4092           2271           False   \n",
       "3          3829           32             5939          11315           False   \n",
       "\n",
       "   user_verified                user_joined user_location retweeted_tweet  \\\n",
       "0          False  2021-12-22 13:26:45+00:00          None              no   \n",
       "1          False  2021-10-27 22:00:18+00:00   Ausganistan              no   \n",
       "2          False  2018-01-21 00:36:55+00:00   Deutschland              no   \n",
       "3          False  2012-09-04 19:51:58+00:00       Florida              no   \n",
       "\n",
       "                                          reviewText  \\\n",
       "0      Yes, indeed there is:  aka  aka  aka      ...   \n",
       "1  \"        Prove how \"\"Gravity!\"\" makes spheres ...   \n",
       "2      Mr.  , can you resuscitate the   project. ...   \n",
       "3  Russia’s space agency has sent an actor and a ...   \n",
       "\n",
       "                                           file_name  document  \n",
       "0  twitter_delivery_stream-1-2022-01-05-16-00-44-...         1  \n",
       "1  twitter_delivery_stream-1-2022-01-03-00-42-19-...         2  \n",
       "2  twitter_delivery_stream-1-2022-01-05-16-00-44-...         3  \n",
       "3  twitter_delivery_stream-1-2022-01-03-00-42-19-...         4  "
      ]
     },
     "metadata": {},
     "output_type": "display_data"
    },
    {
     "name": "stdout",
     "output_type": "stream",
     "text": [
      "CPU times: user 27.6 ms, sys: 114 µs, total: 27.8 ms\n",
      "Wall time: 9.37 s\n"
     ]
    }
   ],
   "source": [
    "%%time\n",
    "with pd_option_context(\"display.max_columns\", 100):\n",
    "    display(show_pyspark_df(df, 4))"
   ]
  },
  {
   "cell_type": "markdown",
   "id": "06f216b2",
   "metadata": {},
   "source": [
    "Get a `DataFrame` version of the Spark Schema (`df.printSchema()`) for the PySpark `DataFrame`"
   ]
  },
  {
   "cell_type": "code",
   "execution_count": 21,
   "id": "30a01534",
   "metadata": {},
   "outputs": [
    {
     "data": {
      "text/html": [
       "<div>\n",
       "<style scoped>\n",
       "    .dataframe tbody tr th:only-of-type {\n",
       "        vertical-align: middle;\n",
       "    }\n",
       "\n",
       "    .dataframe tbody tr th {\n",
       "        vertical-align: top;\n",
       "    }\n",
       "\n",
       "    .dataframe thead th {\n",
       "        text-align: right;\n",
       "    }\n",
       "</style>\n",
       "<table border=\"1\" class=\"dataframe\">\n",
       "  <thead>\n",
       "    <tr style=\"text-align: right;\">\n",
       "      <th></th>\n",
       "      <th>dtype</th>\n",
       "      <th>nullable</th>\n",
       "    </tr>\n",
       "    <tr>\n",
       "      <th>name</th>\n",
       "      <th></th>\n",
       "      <th></th>\n",
       "    </tr>\n",
       "  </thead>\n",
       "  <tbody>\n",
       "    <tr>\n",
       "      <th>id</th>\n",
       "      <td>StringType</td>\n",
       "      <td>True</td>\n",
       "    </tr>\n",
       "    <tr>\n",
       "      <th>contributors</th>\n",
       "      <td>StringType</td>\n",
       "      <td>True</td>\n",
       "    </tr>\n",
       "    <tr>\n",
       "      <th>created_at</th>\n",
       "      <td>StringType</td>\n",
       "      <td>True</td>\n",
       "    </tr>\n",
       "    <tr>\n",
       "      <th>source</th>\n",
       "      <td>StringType</td>\n",
       "      <td>True</td>\n",
       "    </tr>\n",
       "    <tr>\n",
       "      <th>in_reply_to_screen_name</th>\n",
       "      <td>StringType</td>\n",
       "      <td>True</td>\n",
       "    </tr>\n",
       "    <tr>\n",
       "      <th>source_text</th>\n",
       "      <td>StringType</td>\n",
       "      <td>True</td>\n",
       "    </tr>\n",
       "    <tr>\n",
       "      <th>place_id</th>\n",
       "      <td>StringType</td>\n",
       "      <td>True</td>\n",
       "    </tr>\n",
       "    <tr>\n",
       "      <th>place_url</th>\n",
       "      <td>StringType</td>\n",
       "      <td>True</td>\n",
       "    </tr>\n",
       "    <tr>\n",
       "      <th>place_place_type</th>\n",
       "      <td>StringType</td>\n",
       "      <td>True</td>\n",
       "    </tr>\n",
       "    <tr>\n",
       "      <th>place_country_code</th>\n",
       "      <td>StringType</td>\n",
       "      <td>True</td>\n",
       "    </tr>\n",
       "    <tr>\n",
       "      <th>place_country</th>\n",
       "      <td>StringType</td>\n",
       "      <td>True</td>\n",
       "    </tr>\n",
       "    <tr>\n",
       "      <th>user_name</th>\n",
       "      <td>StringType</td>\n",
       "      <td>True</td>\n",
       "    </tr>\n",
       "    <tr>\n",
       "      <th>user_screen_name</th>\n",
       "      <td>StringType</td>\n",
       "      <td>True</td>\n",
       "    </tr>\n",
       "    <tr>\n",
       "      <th>user_followers</th>\n",
       "      <td>IntegerType</td>\n",
       "      <td>True</td>\n",
       "    </tr>\n",
       "    <tr>\n",
       "      <th>user_friends</th>\n",
       "      <td>IntegerType</td>\n",
       "      <td>True</td>\n",
       "    </tr>\n",
       "    <tr>\n",
       "      <th>user_listed</th>\n",
       "      <td>IntegerType</td>\n",
       "      <td>True</td>\n",
       "    </tr>\n",
       "    <tr>\n",
       "      <th>user_favourites</th>\n",
       "      <td>IntegerType</td>\n",
       "      <td>True</td>\n",
       "    </tr>\n",
       "    <tr>\n",
       "      <th>user_statuses</th>\n",
       "      <td>IntegerType</td>\n",
       "      <td>True</td>\n",
       "    </tr>\n",
       "    <tr>\n",
       "      <th>user_protected</th>\n",
       "      <td>BooleanType</td>\n",
       "      <td>True</td>\n",
       "    </tr>\n",
       "    <tr>\n",
       "      <th>user_verified</th>\n",
       "      <td>BooleanType</td>\n",
       "      <td>True</td>\n",
       "    </tr>\n",
       "    <tr>\n",
       "      <th>user_joined</th>\n",
       "      <td>StringType</td>\n",
       "      <td>True</td>\n",
       "    </tr>\n",
       "    <tr>\n",
       "      <th>user_location</th>\n",
       "      <td>StringType</td>\n",
       "      <td>True</td>\n",
       "    </tr>\n",
       "    <tr>\n",
       "      <th>retweeted_tweet</th>\n",
       "      <td>StringType</td>\n",
       "      <td>True</td>\n",
       "    </tr>\n",
       "    <tr>\n",
       "      <th>reviewText</th>\n",
       "      <td>StringType</td>\n",
       "      <td>True</td>\n",
       "    </tr>\n",
       "    <tr>\n",
       "      <th>file_name</th>\n",
       "      <td>StringType</td>\n",
       "      <td>True</td>\n",
       "    </tr>\n",
       "    <tr>\n",
       "      <th>document</th>\n",
       "      <td>IntegerType</td>\n",
       "      <td>True</td>\n",
       "    </tr>\n",
       "  </tbody>\n",
       "</table>\n",
       "</div>"
      ],
      "text/plain": [
       "                               dtype  nullable\n",
       "name                                          \n",
       "id                        StringType      True\n",
       "contributors              StringType      True\n",
       "created_at                StringType      True\n",
       "source                    StringType      True\n",
       "in_reply_to_screen_name   StringType      True\n",
       "source_text               StringType      True\n",
       "place_id                  StringType      True\n",
       "place_url                 StringType      True\n",
       "place_place_type          StringType      True\n",
       "place_country_code        StringType      True\n",
       "place_country             StringType      True\n",
       "user_name                 StringType      True\n",
       "user_screen_name          StringType      True\n",
       "user_followers           IntegerType      True\n",
       "user_friends             IntegerType      True\n",
       "user_listed              IntegerType      True\n",
       "user_favourites          IntegerType      True\n",
       "user_statuses            IntegerType      True\n",
       "user_protected           BooleanType      True\n",
       "user_verified            BooleanType      True\n",
       "user_joined               StringType      True\n",
       "user_location             StringType      True\n",
       "retweeted_tweet           StringType      True\n",
       "reviewText                StringType      True\n",
       "file_name                 StringType      True\n",
       "document                 IntegerType      True"
      ]
     },
     "execution_count": 21,
     "metadata": {},
     "output_type": "execute_result"
    }
   ],
   "source": [
    "df_dtypes_pyspark = pd_DataFrame.from_records(\n",
    "    [\n",
    "        {\"name\": field.name, \"dtype\": field.dataType, \"nullable\": field.nullable}\n",
    "        for field in df.schema.fields\n",
    "    ]\n",
    ").set_index(\"name\")\n",
    "df_dtypes_pyspark"
   ]
  },
  {
   "cell_type": "markdown",
   "id": "85e2c3b5",
   "metadata": {},
   "source": [
    "Cache the data"
   ]
  },
  {
   "cell_type": "code",
   "execution_count": 22,
   "id": "28357308",
   "metadata": {},
   "outputs": [
    {
     "data": {
      "text/plain": [
       "DataFrame[id: string, contributors: string, created_at: string, source: string, in_reply_to_screen_name: string, source_text: string, place_id: string, place_url: string, place_place_type: string, place_country_code: string, place_country: string, user_name: string, user_screen_name: string, user_followers: int, user_friends: int, user_listed: int, user_favourites: int, user_statuses: int, user_protected: boolean, user_verified: boolean, user_joined: string, user_location: string, retweeted_tweet: string, reviewText: string, file_name: string, document: int]"
      ]
     },
     "execution_count": 22,
     "metadata": {},
     "output_type": "execute_result"
    }
   ],
   "source": [
    "df.cache()"
   ]
  },
  {
   "cell_type": "markdown",
   "id": "0773f638",
   "metadata": {},
   "source": [
    "## Data Processing"
   ]
  },
  {
   "cell_type": "markdown",
   "id": "d085b8f2",
   "metadata": {},
   "source": [
    "For processing the data, text and non-text columns will be treated separately."
   ]
  },
  {
   "cell_type": "markdown",
   "id": "37768878",
   "metadata": {},
   "source": [
    "### Processing Non-Text Columns"
   ]
  },
  {
   "cell_type": "markdown",
   "id": "baa6c59a",
   "metadata": {},
   "source": [
    "We'll define a PySparkML pipeline ([v2.4.0](https://spark.apache.org/docs/2.4.0/ml-pipeline.html#pipeline), [latest version](https://spark.apache.org/docs/latest/ml-pipeline.html), [API for latest version](https://spark.apache.org/docs/latest/api/python/reference/api/pyspark.ml.Pipeline.html)) to process all useful non-text columns from the data.\n",
    "\n",
    "This pipeline will accept a list of all useful columns and return a DataFrame with the same input columns and the processed versions, a suffix will be added to the column name to\n",
    "- indicate that it is has been processed\n",
    "- keep it separate from the raw data\n",
    "\n",
    "As an example, the column `created_at` will be converted from a string into a datetime datatype, and the converted version of this column will be returned as `created_at_dt`."
   ]
  },
  {
   "cell_type": "markdown",
   "id": "b33aa069",
   "metadata": {},
   "source": [
    "The following processing steps will be applied\n",
    "- drop rows with duplicated tweets (retweets) since the text of the tweet (which will be used in NLP) is repeated\n",
    "  - for analysing text data with topic modeling, we don't need multiple observations (rows) with the same text (re-tweets)\n",
    "    - such rows are only useful when exploring the data after the text-based analysis has been completed\n",
    "      - if a topic is learned for a specific tweet, then that same topic applies to all re-tweets\n",
    "    - so, for NLP analysis, the duplicated rows (re-tweets) in the text column can be dropped\n",
    "  - based on how data was collected using `twitter_s3.py`, an example of a retweet is\n",
    "    - (row 10) `retweeted_tweet = 'no'` and text column = `'text here'`\n",
    "    - (row 91) `retweeted_tweet = 'yes'` and text column = `'text here'`\n",
    "    - (row 201) `retweeted_tweet = 'yes'` and text column = `'text here'`\n",
    "\n",
    "    where we only need the first tweet (row 10) and so we can drop all rows corresponding to retweets\n",
    "- convert the following columns from the `string` datatype to `datetime`s\n",
    "  - `created_at` (date and time when the tweet was posted)\n",
    "  - `user_joined` (date and time when user joined Twitter)"
   ]
  },
  {
   "cell_type": "markdown",
   "id": "f18b0afc",
   "metadata": {},
   "source": [
    "Apply the non-text processing pipeline to process all the useful non-text columns from the data"
   ]
  },
  {
   "cell_type": "code",
   "execution_count": 23,
   "id": "2c1a8328",
   "metadata": {},
   "outputs": [
    {
     "name": "stdout",
     "output_type": "stream",
     "text": [
      "Number of rows in processed data = 614,924\n"
     ]
    },
    {
     "data": {
      "text/html": [
       "<div>\n",
       "<style scoped>\n",
       "    .dataframe tbody tr th:only-of-type {\n",
       "        vertical-align: middle;\n",
       "    }\n",
       "\n",
       "    .dataframe tbody tr th {\n",
       "        vertical-align: top;\n",
       "    }\n",
       "\n",
       "    .dataframe thead th {\n",
       "        text-align: right;\n",
       "    }\n",
       "</style>\n",
       "<table border=\"1\" class=\"dataframe\">\n",
       "  <thead>\n",
       "    <tr style=\"text-align: right;\">\n",
       "      <th></th>\n",
       "      <th>document</th>\n",
       "      <th>created_at</th>\n",
       "      <th>user_joined</th>\n",
       "      <th>in_reply_to_screen_name</th>\n",
       "      <th>source_text</th>\n",
       "      <th>place_country</th>\n",
       "      <th>user_followers</th>\n",
       "      <th>user_friends</th>\n",
       "      <th>user_listed</th>\n",
       "      <th>user_favourites</th>\n",
       "      <th>user_statuses</th>\n",
       "      <th>user_protected</th>\n",
       "      <th>user_verified</th>\n",
       "      <th>user_location</th>\n",
       "      <th>reviewText</th>\n",
       "      <th>created_at_dt</th>\n",
       "      <th>user_joined_dt</th>\n",
       "    </tr>\n",
       "  </thead>\n",
       "  <tbody>\n",
       "    <tr>\n",
       "      <th>0</th>\n",
       "      <td>1</td>\n",
       "      <td>2022-01-05 16:00:39+00:00</td>\n",
       "      <td>2021-12-22 13:26:45+00:00</td>\n",
       "      <td>cheemsisjesus</td>\n",
       "      <td>Twitter Web App</td>\n",
       "      <td>None</td>\n",
       "      <td>108</td>\n",
       "      <td>775</td>\n",
       "      <td>0</td>\n",
       "      <td>536</td>\n",
       "      <td>700</td>\n",
       "      <td>False</td>\n",
       "      <td>False</td>\n",
       "      <td>None</td>\n",
       "      <td>Yes, indeed there is:  aka  aka  aka      because you don't want to be like  (  &amp;amp;</td>\n",
       "      <td>2022-01-05 16:00:39</td>\n",
       "      <td>2021-12-22 13:26:45</td>\n",
       "    </tr>\n",
       "    <tr>\n",
       "      <th>1</th>\n",
       "      <td>2</td>\n",
       "      <td>2022-01-03 00:42:36+00:00</td>\n",
       "      <td>2021-10-27 22:00:18+00:00</td>\n",
       "      <td>SnakeFragile</td>\n",
       "      <td>Twitter Web App</td>\n",
       "      <td>None</td>\n",
       "      <td>296</td>\n",
       "      <td>593</td>\n",
       "      <td>2</td>\n",
       "      <td>2476</td>\n",
       "      <td>5923</td>\n",
       "      <td>False</td>\n",
       "      <td>False</td>\n",
       "      <td>Ausganistan</td>\n",
       "      <td>\"        Prove how \"\"Gravity!\"\" makes spheres in outer space.  Then prove how Earth is one of them. Use science.\"</td>\n",
       "      <td>2022-01-03 00:42:36</td>\n",
       "      <td>2021-10-27 22:00:18</td>\n",
       "    </tr>\n",
       "    <tr>\n",
       "      <th>2</th>\n",
       "      <td>3</td>\n",
       "      <td>2022-01-05 16:00:39+00:00</td>\n",
       "      <td>2018-01-21 00:36:55+00:00</td>\n",
       "      <td>SpaceX</td>\n",
       "      <td>Twitter for iPhone</td>\n",
       "      <td>None</td>\n",
       "      <td>158</td>\n",
       "      <td>230</td>\n",
       "      <td>1</td>\n",
       "      <td>4092</td>\n",
       "      <td>2271</td>\n",
       "      <td>False</td>\n",
       "      <td>False</td>\n",
       "      <td>Deutschland</td>\n",
       "      <td>Mr.  , can you resuscitate the   project. The  200k was full of bots and paperhands. Floor on  is down to 0.009ETH now. If you step in I would give you in return my Astronaut ape as pilot for your next  flight. DEAL?</td>\n",
       "      <td>2022-01-05 16:00:39</td>\n",
       "      <td>2018-01-21 00:36:55</td>\n",
       "    </tr>\n",
       "    <tr>\n",
       "      <th>3</th>\n",
       "      <td>4</td>\n",
       "      <td>2022-01-03 00:42:42+00:00</td>\n",
       "      <td>2012-09-04 19:51:58+00:00</td>\n",
       "      <td>None</td>\n",
       "      <td>Twitter Web App</td>\n",
       "      <td>None</td>\n",
       "      <td>864</td>\n",
       "      <td>3829</td>\n",
       "      <td>32</td>\n",
       "      <td>5939</td>\n",
       "      <td>11315</td>\n",
       "      <td>False</td>\n",
       "      <td>False</td>\n",
       "      <td>Florida</td>\n",
       "      <td>Russia’s space agency has sent an actor and a director to the International Space Station to film scenes for “Vyzov” (“The Challenge”)</td>\n",
       "      <td>2022-01-03 00:42:42</td>\n",
       "      <td>2012-09-04 19:51:58</td>\n",
       "    </tr>\n",
       "    <tr>\n",
       "      <th>4</th>\n",
       "      <td>5</td>\n",
       "      <td>2022-01-05 16:00:40+00:00</td>\n",
       "      <td>2011-07-17 21:24:14+00:00</td>\n",
       "      <td>None</td>\n",
       "      <td>IFTTT</td>\n",
       "      <td>None</td>\n",
       "      <td>1207</td>\n",
       "      <td>1733</td>\n",
       "      <td>177</td>\n",
       "      <td>566</td>\n",
       "      <td>85772</td>\n",
       "      <td>False</td>\n",
       "      <td>False</td>\n",
       "      <td>Great White North</td>\n",
       "      <td>NASA’s X-59 Kicks Off 2022 in Texas for Ground Testing via NASA</td>\n",
       "      <td>2022-01-05 16:00:40</td>\n",
       "      <td>2011-07-17 21:24:14</td>\n",
       "    </tr>\n",
       "    <tr>\n",
       "      <th>5</th>\n",
       "      <td>6</td>\n",
       "      <td>2022-01-03 00:42:42+00:00</td>\n",
       "      <td>2018-03-13 13:57:44+00:00</td>\n",
       "      <td>None</td>\n",
       "      <td>Twitter for Android</td>\n",
       "      <td>None</td>\n",
       "      <td>37</td>\n",
       "      <td>690</td>\n",
       "      <td>0</td>\n",
       "      <td>8475</td>\n",
       "      <td>189</td>\n",
       "      <td>False</td>\n",
       "      <td>False</td>\n",
       "      <td>None</td>\n",
       "      <td>Receiving  first images of the early universe, sending the uncrewed  mission around the Moon, and flying our new quiet, supersonic plane are just a few things we have planned for 2022:   Get excited – the future is now.</td>\n",
       "      <td>2022-01-03 00:42:42</td>\n",
       "      <td>2018-03-13 13:57:44</td>\n",
       "    </tr>\n",
       "    <tr>\n",
       "      <th>6</th>\n",
       "      <td>7</td>\n",
       "      <td>2022-01-05 16:00:41+00:00</td>\n",
       "      <td>2018-07-05 12:50:08+00:00</td>\n",
       "      <td>None</td>\n",
       "      <td>Twitter for iPhone</td>\n",
       "      <td>None</td>\n",
       "      <td>237</td>\n",
       "      <td>2772</td>\n",
       "      <td>0</td>\n",
       "      <td>2233</td>\n",
       "      <td>13060</td>\n",
       "      <td>False</td>\n",
       "      <td>False</td>\n",
       "      <td>she/her</td>\n",
       "      <td>|| 100 USD || 1,4 JUTA IDR |||| one winner || Garangan 01 ||Retweet, follow me and and like tweet belowWinner will be picked in 24 hours.</td>\n",
       "      <td>2022-01-05 16:00:41</td>\n",
       "      <td>2018-07-05 12:50:08</td>\n",
       "    </tr>\n",
       "  </tbody>\n",
       "</table>\n",
       "</div>"
      ],
      "text/plain": [
       "   document                 created_at                user_joined  \\\n",
       "0         1  2022-01-05 16:00:39+00:00  2021-12-22 13:26:45+00:00   \n",
       "1         2  2022-01-03 00:42:36+00:00  2021-10-27 22:00:18+00:00   \n",
       "2         3  2022-01-05 16:00:39+00:00  2018-01-21 00:36:55+00:00   \n",
       "3         4  2022-01-03 00:42:42+00:00  2012-09-04 19:51:58+00:00   \n",
       "4         5  2022-01-05 16:00:40+00:00  2011-07-17 21:24:14+00:00   \n",
       "5         6  2022-01-03 00:42:42+00:00  2018-03-13 13:57:44+00:00   \n",
       "6         7  2022-01-05 16:00:41+00:00  2018-07-05 12:50:08+00:00   \n",
       "\n",
       "  in_reply_to_screen_name          source_text place_country  user_followers  \\\n",
       "0           cheemsisjesus      Twitter Web App          None             108   \n",
       "1            SnakeFragile      Twitter Web App          None             296   \n",
       "2                  SpaceX   Twitter for iPhone          None             158   \n",
       "3                    None      Twitter Web App          None             864   \n",
       "4                    None                IFTTT          None            1207   \n",
       "5                    None  Twitter for Android          None              37   \n",
       "6                    None   Twitter for iPhone          None             237   \n",
       "\n",
       "   user_friends  user_listed  user_favourites  user_statuses  user_protected  \\\n",
       "0           775            0              536            700           False   \n",
       "1           593            2             2476           5923           False   \n",
       "2           230            1             4092           2271           False   \n",
       "3          3829           32             5939          11315           False   \n",
       "4          1733          177              566          85772           False   \n",
       "5           690            0             8475            189           False   \n",
       "6          2772            0             2233          13060           False   \n",
       "\n",
       "   user_verified       user_location  \\\n",
       "0          False                None   \n",
       "1          False         Ausganistan   \n",
       "2          False         Deutschland   \n",
       "3          False             Florida   \n",
       "4          False   Great White North   \n",
       "5          False                None   \n",
       "6          False             she/her   \n",
       "\n",
       "                                                                                                                                                                                                                     reviewText  \\\n",
       "0                                                                                                                                         Yes, indeed there is:  aka  aka  aka      because you don't want to be like  (  &amp;   \n",
       "1                                                                                                             \"        Prove how \"\"Gravity!\"\" makes spheres in outer space.  Then prove how Earth is one of them. Use science.\"   \n",
       "2      Mr.  , can you resuscitate the   project. The  200k was full of bots and paperhands. Floor on  is down to 0.009ETH now. If you step in I would give you in return my Astronaut ape as pilot for your next  flight. DEAL?   \n",
       "3                                                                                        Russia’s space agency has sent an actor and a director to the International Space Station to film scenes for “Vyzov” (“The Challenge”)   \n",
       "4                                                                                                                                                               NASA’s X-59 Kicks Off 2022 in Texas for Ground Testing via NASA   \n",
       "5   Receiving  first images of the early universe, sending the uncrewed  mission around the Moon, and flying our new quiet, supersonic plane are just a few things we have planned for 2022:   Get excited – the future is now.   \n",
       "6                                                                                     || 100 USD || 1,4 JUTA IDR |||| one winner || Garangan 01 ||Retweet, follow me and and like tweet belowWinner will be picked in 24 hours.   \n",
       "\n",
       "        created_at_dt      user_joined_dt  \n",
       "0 2022-01-05 16:00:39 2021-12-22 13:26:45  \n",
       "1 2022-01-03 00:42:36 2021-10-27 22:00:18  \n",
       "2 2022-01-05 16:00:39 2018-01-21 00:36:55  \n",
       "3 2022-01-03 00:42:42 2012-09-04 19:51:58  \n",
       "4 2022-01-05 16:00:40 2011-07-17 21:24:14  \n",
       "5 2022-01-03 00:42:42 2018-03-13 13:57:44  \n",
       "6 2022-01-05 16:00:41 2018-07-05 12:50:08  "
      ]
     },
     "metadata": {},
     "output_type": "display_data"
    },
    {
     "name": "stdout",
     "output_type": "stream",
     "text": [
      "CPU times: user 35.3 ms, sys: 3.22 ms, total: 38.5 ms\n",
      "Wall time: 22.5 s\n"
     ]
    }
   ],
   "source": [
    "%%time\n",
    "# Remove retweets\n",
    "df = df.filter(df.retweeted_tweet != 'yes')\n",
    "\n",
    "# Select the columns to be processed, including the text column\n",
    "df_processed = df.select(all_cols_to_process)\n",
    "\n",
    "# Drop rows with a missing value in the text column\n",
    "df_processed = df_processed.na.drop(subset=[\"reviewText\"])\n",
    "\n",
    "# Apply datetime formatting for the two datetime columns\n",
    "for c in [\"created_at\", \"user_joined\"]:\n",
    "    df_processed = df_processed.withColumn(\n",
    "        f\"{c}_dt\",\n",
    "        F.to_timestamp(F.col(c), \"yyyy-MM-dd HH:mm:ss\"),\n",
    "    )\n",
    "\n",
    "print(f\"Number of rows in processed data = {df_processed.count():,}\")\n",
    "with pd_option_context(\"display.max_colwidth\", 1_000):\n",
    "    display(show_pyspark_df(df_processed, 7))"
   ]
  },
  {
   "cell_type": "markdown",
   "id": "9e81a10c",
   "metadata": {},
   "source": [
    "The non-text data processing is now ready and we can proceed to preparing the text data column for quantitative analysis."
   ]
  },
  {
   "cell_type": "markdown",
   "id": "0b3bd323",
   "metadata": {},
   "source": [
    "### Processing Text Data"
   ]
  },
  {
   "cell_type": "markdown",
   "id": "8d89a013",
   "metadata": {},
   "source": [
    "We'll now process the text data column. All the processed data columns from the previous section, including the text column, will be retained. However, here, we will only be processing the text column from this data."
   ]
  },
  {
   "cell_type": "markdown",
   "id": "df3a833c",
   "metadata": {},
   "source": [
    "#### Cleaning Text Data"
   ]
  },
  {
   "cell_type": "markdown",
   "id": "c6c1b3f7",
   "metadata": {},
   "source": [
    "Since we are looking to build up a useful text vocabulary on which to perform NLP tasks, we'll first perform the following text cleaning steps\n",
    "- replace multiple whitespaces with a single whitespace from the text of the tweet\n",
    "- remove leading and trailing whitespace from the text of the tweet\n",
    "- drop rows where the tweet is missing or contains an empty string (if any)\n",
    "- change text to lowercase\n",
    "- remove numbers\n",
    "- remove punctuation\n",
    "\n",
    "The steps will help with [tokenization](https://neptune.ai/blog/tokenization-in-nlp) during the NLP data preparation step (done in the next sub-section)."
   ]
  },
  {
   "cell_type": "code",
   "execution_count": 24,
   "id": "c0cc4f6c",
   "metadata": {},
   "outputs": [
    {
     "name": "stdout",
     "output_type": "stream",
     "text": [
      "Number of rows in processed data = 614,924\n",
      "CPU times: user 33.3 ms, sys: 14.5 ms, total: 47.8 ms\n",
      "Wall time: 780 ms\n"
     ]
    },
    {
     "data": {
      "text/html": [
       "<div>\n",
       "<style scoped>\n",
       "    .dataframe tbody tr th:only-of-type {\n",
       "        vertical-align: middle;\n",
       "    }\n",
       "\n",
       "    .dataframe tbody tr th {\n",
       "        vertical-align: top;\n",
       "    }\n",
       "\n",
       "    .dataframe thead th {\n",
       "        text-align: right;\n",
       "    }\n",
       "</style>\n",
       "<table border=\"1\" class=\"dataframe\">\n",
       "  <thead>\n",
       "    <tr style=\"text-align: right;\">\n",
       "      <th></th>\n",
       "      <th>document</th>\n",
       "      <th>created_at</th>\n",
       "      <th>user_joined</th>\n",
       "      <th>in_reply_to_screen_name</th>\n",
       "      <th>source_text</th>\n",
       "      <th>place_country</th>\n",
       "      <th>user_followers</th>\n",
       "      <th>user_friends</th>\n",
       "      <th>user_listed</th>\n",
       "      <th>user_favourites</th>\n",
       "      <th>user_statuses</th>\n",
       "      <th>user_protected</th>\n",
       "      <th>user_verified</th>\n",
       "      <th>user_location</th>\n",
       "      <th>reviewText</th>\n",
       "      <th>reviewText_processed</th>\n",
       "      <th>reviewText_trimmed</th>\n",
       "      <th>words</th>\n",
       "    </tr>\n",
       "  </thead>\n",
       "  <tbody>\n",
       "    <tr>\n",
       "      <th>0</th>\n",
       "      <td>1</td>\n",
       "      <td>2022-01-05 16:00:39+00:00</td>\n",
       "      <td>2021-12-22 13:26:45+00:00</td>\n",
       "      <td>cheemsisjesus</td>\n",
       "      <td>Twitter Web App</td>\n",
       "      <td>None</td>\n",
       "      <td>108</td>\n",
       "      <td>775</td>\n",
       "      <td>0</td>\n",
       "      <td>536</td>\n",
       "      <td>700</td>\n",
       "      <td>False</td>\n",
       "      <td>False</td>\n",
       "      <td>None</td>\n",
       "      <td>Yes, indeed there is:  aka  aka  aka      ...</td>\n",
       "      <td>yes  indeed there is  aka aka aka because you ...</td>\n",
       "      <td>Yes, indeed there is:  aka  aka  aka      beca...</td>\n",
       "      <td>[Yes,, indeed, there, is:, aka, aka, aka, beca...</td>\n",
       "    </tr>\n",
       "    <tr>\n",
       "      <th>1</th>\n",
       "      <td>2</td>\n",
       "      <td>2022-01-03 00:42:36+00:00</td>\n",
       "      <td>2021-10-27 22:00:18+00:00</td>\n",
       "      <td>SnakeFragile</td>\n",
       "      <td>Twitter Web App</td>\n",
       "      <td>None</td>\n",
       "      <td>296</td>\n",
       "      <td>593</td>\n",
       "      <td>2</td>\n",
       "      <td>2476</td>\n",
       "      <td>5923</td>\n",
       "      <td>False</td>\n",
       "      <td>False</td>\n",
       "      <td>Ausganistan</td>\n",
       "      <td>\"        Prove how \"\"Gravity!\"\" makes spheres ...</td>\n",
       "      <td>prove how   gravity    makes spheres in oute...</td>\n",
       "      <td>\"        Prove how \"\"Gravity!\"\" makes spheres ...</td>\n",
       "      <td>[\", Prove, how, \"\"Gravity!\"\", makes, spheres, ...</td>\n",
       "    </tr>\n",
       "    <tr>\n",
       "      <th>2</th>\n",
       "      <td>3</td>\n",
       "      <td>2022-01-05 16:00:39+00:00</td>\n",
       "      <td>2018-01-21 00:36:55+00:00</td>\n",
       "      <td>SpaceX</td>\n",
       "      <td>Twitter for iPhone</td>\n",
       "      <td>None</td>\n",
       "      <td>158</td>\n",
       "      <td>230</td>\n",
       "      <td>1</td>\n",
       "      <td>4092</td>\n",
       "      <td>2271</td>\n",
       "      <td>False</td>\n",
       "      <td>False</td>\n",
       "      <td>Deutschland</td>\n",
       "      <td>Mr.  , can you resuscitate the   project. ...</td>\n",
       "      <td>mr    can you resuscitate the project  the    ...</td>\n",
       "      <td>Mr.  , can you resuscitate the   project. The ...</td>\n",
       "      <td>[Mr., ,, can, you, resuscitate, the, project.,...</td>\n",
       "    </tr>\n",
       "    <tr>\n",
       "      <th>3</th>\n",
       "      <td>4</td>\n",
       "      <td>2022-01-03 00:42:42+00:00</td>\n",
       "      <td>2012-09-04 19:51:58+00:00</td>\n",
       "      <td>None</td>\n",
       "      <td>Twitter Web App</td>\n",
       "      <td>None</td>\n",
       "      <td>864</td>\n",
       "      <td>3829</td>\n",
       "      <td>32</td>\n",
       "      <td>5939</td>\n",
       "      <td>11315</td>\n",
       "      <td>False</td>\n",
       "      <td>False</td>\n",
       "      <td>Florida</td>\n",
       "      <td>Russia’s space agency has sent an actor and a ...</td>\n",
       "      <td>russia s space agency has sent an actor and a ...</td>\n",
       "      <td>Russia’s space agency has sent an actor and a ...</td>\n",
       "      <td>[Russia’s, space, agency, has, sent, an, actor...</td>\n",
       "    </tr>\n",
       "    <tr>\n",
       "      <th>4</th>\n",
       "      <td>5</td>\n",
       "      <td>2022-01-05 16:00:40+00:00</td>\n",
       "      <td>2011-07-17 21:24:14+00:00</td>\n",
       "      <td>None</td>\n",
       "      <td>IFTTT</td>\n",
       "      <td>None</td>\n",
       "      <td>1207</td>\n",
       "      <td>1733</td>\n",
       "      <td>177</td>\n",
       "      <td>566</td>\n",
       "      <td>85772</td>\n",
       "      <td>False</td>\n",
       "      <td>False</td>\n",
       "      <td>Great White North</td>\n",
       "      <td>NASA’s X-59 Kicks Off 2022 in Texas for Ground...</td>\n",
       "      <td>nasa s x    kicks off      in texas for ground...</td>\n",
       "      <td>NASA’s X-59 Kicks Off 2022 in Texas for Ground...</td>\n",
       "      <td>[NASA’s, X-59, Kicks, Off, 2022, in, Texas, fo...</td>\n",
       "    </tr>\n",
       "    <tr>\n",
       "      <th>5</th>\n",
       "      <td>6</td>\n",
       "      <td>2022-01-03 00:42:42+00:00</td>\n",
       "      <td>2018-03-13 13:57:44+00:00</td>\n",
       "      <td>None</td>\n",
       "      <td>Twitter for Android</td>\n",
       "      <td>None</td>\n",
       "      <td>37</td>\n",
       "      <td>690</td>\n",
       "      <td>0</td>\n",
       "      <td>8475</td>\n",
       "      <td>189</td>\n",
       "      <td>False</td>\n",
       "      <td>False</td>\n",
       "      <td>None</td>\n",
       "      <td>Receiving  first images of the early universe,...</td>\n",
       "      <td>receiving first images of the early universe  ...</td>\n",
       "      <td>Receiving  first images of the early universe,...</td>\n",
       "      <td>[Receiving, first, images, of, the, early, uni...</td>\n",
       "    </tr>\n",
       "    <tr>\n",
       "      <th>6</th>\n",
       "      <td>7</td>\n",
       "      <td>2022-01-05 16:00:41+00:00</td>\n",
       "      <td>2018-07-05 12:50:08+00:00</td>\n",
       "      <td>None</td>\n",
       "      <td>Twitter for iPhone</td>\n",
       "      <td>None</td>\n",
       "      <td>237</td>\n",
       "      <td>2772</td>\n",
       "      <td>0</td>\n",
       "      <td>2233</td>\n",
       "      <td>13060</td>\n",
       "      <td>False</td>\n",
       "      <td>False</td>\n",
       "      <td>she/her</td>\n",
       "      <td>|| 100 USD || 1,4 JUTA IDR |||| one winner || ...</td>\n",
       "      <td>usd        juta idr      one winner    ...</td>\n",
       "      <td>|| 100 USD || 1,4 JUTA IDR |||| one winner || ...</td>\n",
       "      <td>[||, 100, USD, ||, 1,4, JUTA, IDR, ||||, one, ...</td>\n",
       "    </tr>\n",
       "  </tbody>\n",
       "</table>\n",
       "</div>"
      ],
      "text/plain": [
       "   document                 created_at                user_joined  \\\n",
       "0         1  2022-01-05 16:00:39+00:00  2021-12-22 13:26:45+00:00   \n",
       "1         2  2022-01-03 00:42:36+00:00  2021-10-27 22:00:18+00:00   \n",
       "2         3  2022-01-05 16:00:39+00:00  2018-01-21 00:36:55+00:00   \n",
       "3         4  2022-01-03 00:42:42+00:00  2012-09-04 19:51:58+00:00   \n",
       "4         5  2022-01-05 16:00:40+00:00  2011-07-17 21:24:14+00:00   \n",
       "5         6  2022-01-03 00:42:42+00:00  2018-03-13 13:57:44+00:00   \n",
       "6         7  2022-01-05 16:00:41+00:00  2018-07-05 12:50:08+00:00   \n",
       "\n",
       "  in_reply_to_screen_name          source_text place_country  user_followers  \\\n",
       "0           cheemsisjesus      Twitter Web App          None             108   \n",
       "1            SnakeFragile      Twitter Web App          None             296   \n",
       "2                  SpaceX   Twitter for iPhone          None             158   \n",
       "3                    None      Twitter Web App          None             864   \n",
       "4                    None                IFTTT          None            1207   \n",
       "5                    None  Twitter for Android          None              37   \n",
       "6                    None   Twitter for iPhone          None             237   \n",
       "\n",
       "   user_friends  user_listed  user_favourites  user_statuses  user_protected  \\\n",
       "0           775            0              536            700           False   \n",
       "1           593            2             2476           5923           False   \n",
       "2           230            1             4092           2271           False   \n",
       "3          3829           32             5939          11315           False   \n",
       "4          1733          177              566          85772           False   \n",
       "5           690            0             8475            189           False   \n",
       "6          2772            0             2233          13060           False   \n",
       "\n",
       "   user_verified       user_location  \\\n",
       "0          False                None   \n",
       "1          False         Ausganistan   \n",
       "2          False         Deutschland   \n",
       "3          False             Florida   \n",
       "4          False   Great White North   \n",
       "5          False                None   \n",
       "6          False             she/her   \n",
       "\n",
       "                                          reviewText  \\\n",
       "0      Yes, indeed there is:  aka  aka  aka      ...   \n",
       "1  \"        Prove how \"\"Gravity!\"\" makes spheres ...   \n",
       "2      Mr.  , can you resuscitate the   project. ...   \n",
       "3  Russia’s space agency has sent an actor and a ...   \n",
       "4  NASA’s X-59 Kicks Off 2022 in Texas for Ground...   \n",
       "5  Receiving  first images of the early universe,...   \n",
       "6  || 100 USD || 1,4 JUTA IDR |||| one winner || ...   \n",
       "\n",
       "                                reviewText_processed  \\\n",
       "0  yes  indeed there is  aka aka aka because you ...   \n",
       "1    prove how   gravity    makes spheres in oute...   \n",
       "2  mr    can you resuscitate the project  the    ...   \n",
       "3  russia s space agency has sent an actor and a ...   \n",
       "4  nasa s x    kicks off      in texas for ground...   \n",
       "5  receiving first images of the early universe  ...   \n",
       "6         usd        juta idr      one winner    ...   \n",
       "\n",
       "                                  reviewText_trimmed  \\\n",
       "0  Yes, indeed there is:  aka  aka  aka      beca...   \n",
       "1  \"        Prove how \"\"Gravity!\"\" makes spheres ...   \n",
       "2  Mr.  , can you resuscitate the   project. The ...   \n",
       "3  Russia’s space agency has sent an actor and a ...   \n",
       "4  NASA’s X-59 Kicks Off 2022 in Texas for Ground...   \n",
       "5  Receiving  first images of the early universe,...   \n",
       "6  || 100 USD || 1,4 JUTA IDR |||| one winner || ...   \n",
       "\n",
       "                                               words  \n",
       "0  [Yes,, indeed, there, is:, aka, aka, aka, beca...  \n",
       "1  [\", Prove, how, \"\"Gravity!\"\", makes, spheres, ...  \n",
       "2  [Mr., ,, can, you, resuscitate, the, project.,...  \n",
       "3  [Russia’s, space, agency, has, sent, an, actor...  \n",
       "4  [NASA’s, X-59, Kicks, Off, 2022, in, Texas, fo...  \n",
       "5  [Receiving, first, images, of, the, early, uni...  \n",
       "6  [||, 100, USD, ||, 1,4, JUTA, IDR, ||||, one, ...  "
      ]
     },
     "execution_count": 24,
     "metadata": {},
     "output_type": "execute_result"
    }
   ],
   "source": [
    "%%time\n",
    "# Replace multiple whitespaces with a single whitespace\n",
    "df_processed = df_processed.select(\n",
    "    all_cols_to_process\n",
    "    + [\"created_at_dt\", \"user_joined_dt\"]\n",
    "    + [\n",
    "        ch.replace_multiple_spaces(F.col(\"reviewText\")).alias(\n",
    "            \"reviewText_processed\"\n",
    "        )\n",
    "    ]\n",
    ")\n",
    "\n",
    "# Remove leading and trailing spaces\n",
    "df_processed = df_processed.select(\n",
    "    all_cols_to_process\n",
    "    + [\n",
    "        ch.remove_lead_trail_spaces(F.col(\"reviewText_processed\")).alias(\n",
    "            \"reviewText_processed\"\n",
    "        )\n",
    "    ]\n",
    ")\n",
    "\n",
    "# Change text to lowercase\n",
    "df_processed = df_processed.select(\n",
    "    all_cols_to_process\n",
    "    + [F.lower(F.col(\"reviewText_processed\")).alias(\"reviewText_processed\")]\n",
    ")\n",
    "\n",
    "# Remove special characters\n",
    "df_processed = df_processed.withColumn(\n",
    "    'reviewText_processed', F.regexp_replace('reviewText_processed', r\"[^a-zA-z]\", \" \")\n",
    ")\n",
    "\n",
    "# Remove numbers\n",
    "df_processed = df_processed.select(\n",
    "    all_cols_to_process\n",
    "    + [\n",
    "        F.regexp_replace(F.col(\"reviewText_processed\"), \"\\d+\", \"\").alias(\n",
    "            \"reviewText_processed\"\n",
    "        )\n",
    "    ]\n",
    ")\n",
    "\n",
    "# Remove punctuation\n",
    "df_processed = df_processed.select(\n",
    "    all_cols_to_process\n",
    "    + [ch.remove_punctuation(F.col(\"reviewText_processed\")).alias(\"reviewText_processed\")]\n",
    ")\n",
    "\n",
    "# Drop rows where the tweet text is a blank string\n",
    "df_processed_no_blanks = df_processed.filter(df_processed[\"reviewText\"] != '')\n",
    "\n",
    "# Get words from the raw text (used as crude filter for tweets based on their length,\n",
    "# to remove short tweets)\n",
    "df_processed_no_blanks = df_processed_no_blanks.withColumn(\n",
    "    \"reviewText_trimmed\", F.trim(F.col(\"reviewText\"))\n",
    ").withColumn(\"words\", F.split(\"reviewText_trimmed\", \"\\s+\"))\n",
    "\n",
    "print(f\"Number of rows in processed data = {df_processed_no_blanks.count():,}\")\n",
    "show_pyspark_df(df_processed_no_blanks, 7)"
   ]
  },
  {
   "cell_type": "markdown",
   "id": "aeca00b6",
   "metadata": {},
   "source": [
    "**Notes**\n",
    "1. In the Twitter streaming script `twitter_s3.py`, hashtags and usernames were removed from the text of the tweet and stored in a separate variable in the raw data. For this version of the analysis, we will not use hashtags and usernames but these can be combined with the tweet text in future iterations of this analysis.\n",
    "2. The last processing step above was to get a crude count of the number of words in each tweet. This was done in order to filter out short tweets, in order to help the effectiveness of the LDA algorithm (more is discussed next)."
   ]
  },
  {
   "cell_type": "markdown",
   "id": "fc948ba2",
   "metadata": {},
   "source": [
    "As mentioned earlier, LDA can be sub-optimal for topic modeling with short texts. We will now apply the following filter to the data to remove short tweets\n",
    "- for the purposes of this analysis, we will only keep raw tweets that have a minimum of 25 words\n",
    "  - as more tweets are streamed and the size of the processed data (shown immediately above) increases, we can increase this minimum number of words to a larger number than 25\n",
    "  - more is discussed about this length and about LDA for short texts at the end of this notebook\n",
    "  - earlier, we split the raw tweets into words; we will use this `words` column to filter out short tweets"
   ]
  },
  {
   "cell_type": "code",
   "execution_count": 25,
   "id": "7ed79524",
   "metadata": {},
   "outputs": [
    {
     "name": "stdout",
     "output_type": "stream",
     "text": [
      "Number of rows in processed data, after filtering out tweets based on length of text = 238,049\n"
     ]
    },
    {
     "data": {
      "text/html": [
       "<div>\n",
       "<style scoped>\n",
       "    .dataframe tbody tr th:only-of-type {\n",
       "        vertical-align: middle;\n",
       "    }\n",
       "\n",
       "    .dataframe tbody tr th {\n",
       "        vertical-align: top;\n",
       "    }\n",
       "\n",
       "    .dataframe thead th {\n",
       "        text-align: right;\n",
       "    }\n",
       "</style>\n",
       "<table border=\"1\" class=\"dataframe\">\n",
       "  <thead>\n",
       "    <tr style=\"text-align: right;\">\n",
       "      <th></th>\n",
       "      <th>document</th>\n",
       "      <th>created_at</th>\n",
       "      <th>user_joined</th>\n",
       "      <th>in_reply_to_screen_name</th>\n",
       "      <th>source_text</th>\n",
       "      <th>place_country</th>\n",
       "      <th>user_followers</th>\n",
       "      <th>user_friends</th>\n",
       "      <th>user_listed</th>\n",
       "      <th>user_favourites</th>\n",
       "      <th>user_statuses</th>\n",
       "      <th>user_protected</th>\n",
       "      <th>user_verified</th>\n",
       "      <th>user_location</th>\n",
       "      <th>reviewText</th>\n",
       "      <th>reviewText_processed</th>\n",
       "      <th>reviewText_trimmed</th>\n",
       "      <th>words</th>\n",
       "    </tr>\n",
       "  </thead>\n",
       "  <tbody>\n",
       "    <tr>\n",
       "      <th>0</th>\n",
       "      <td>3</td>\n",
       "      <td>2022-01-05 16:00:39+00:00</td>\n",
       "      <td>2018-01-21 00:36:55+00:00</td>\n",
       "      <td>SpaceX</td>\n",
       "      <td>Twitter for iPhone</td>\n",
       "      <td>None</td>\n",
       "      <td>158</td>\n",
       "      <td>230</td>\n",
       "      <td>1</td>\n",
       "      <td>4092</td>\n",
       "      <td>2271</td>\n",
       "      <td>False</td>\n",
       "      <td>False</td>\n",
       "      <td>Deutschland</td>\n",
       "      <td>Mr.  , can you resuscitate the   project. ...</td>\n",
       "      <td>mr    can you resuscitate the project  the    ...</td>\n",
       "      <td>Mr.  , can you resuscitate the   project. The ...</td>\n",
       "      <td>[Mr., ,, can, you, resuscitate, the, project.,...</td>\n",
       "    </tr>\n",
       "    <tr>\n",
       "      <th>1</th>\n",
       "      <td>6</td>\n",
       "      <td>2022-01-03 00:42:42+00:00</td>\n",
       "      <td>2018-03-13 13:57:44+00:00</td>\n",
       "      <td>None</td>\n",
       "      <td>Twitter for Android</td>\n",
       "      <td>None</td>\n",
       "      <td>37</td>\n",
       "      <td>690</td>\n",
       "      <td>0</td>\n",
       "      <td>8475</td>\n",
       "      <td>189</td>\n",
       "      <td>False</td>\n",
       "      <td>False</td>\n",
       "      <td>None</td>\n",
       "      <td>Receiving  first images of the early universe,...</td>\n",
       "      <td>receiving first images of the early universe  ...</td>\n",
       "      <td>Receiving  first images of the early universe,...</td>\n",
       "      <td>[Receiving, first, images, of, the, early, uni...</td>\n",
       "    </tr>\n",
       "    <tr>\n",
       "      <th>2</th>\n",
       "      <td>7</td>\n",
       "      <td>2022-01-05 16:00:41+00:00</td>\n",
       "      <td>2018-07-05 12:50:08+00:00</td>\n",
       "      <td>None</td>\n",
       "      <td>Twitter for iPhone</td>\n",
       "      <td>None</td>\n",
       "      <td>237</td>\n",
       "      <td>2772</td>\n",
       "      <td>0</td>\n",
       "      <td>2233</td>\n",
       "      <td>13060</td>\n",
       "      <td>False</td>\n",
       "      <td>False</td>\n",
       "      <td>she/her</td>\n",
       "      <td>|| 100 USD || 1,4 JUTA IDR |||| one winner || ...</td>\n",
       "      <td>usd        juta idr      one winner    ...</td>\n",
       "      <td>|| 100 USD || 1,4 JUTA IDR |||| one winner || ...</td>\n",
       "      <td>[||, 100, USD, ||, 1,4, JUTA, IDR, ||||, one, ...</td>\n",
       "    </tr>\n",
       "    <tr>\n",
       "      <th>3</th>\n",
       "      <td>9</td>\n",
       "      <td>2022-01-05 16:00:41+00:00</td>\n",
       "      <td>2015-03-26 16:51:15+00:00</td>\n",
       "      <td>None</td>\n",
       "      <td>Twitter for iPhone</td>\n",
       "      <td>None</td>\n",
       "      <td>478</td>\n",
       "      <td>848</td>\n",
       "      <td>18</td>\n",
       "      <td>43290</td>\n",
       "      <td>161952</td>\n",
       "      <td>False</td>\n",
       "      <td>False</td>\n",
       "      <td>None</td>\n",
       "      <td>\"Sailor Stars. Never seen it? Because it was t...</td>\n",
       "      <td>sailor stars  never seen it  because it was t...</td>\n",
       "      <td>\"Sailor Stars. Never seen it? Because it was t...</td>\n",
       "      <td>[\"Sailor, Stars., Never, seen, it?, Because, i...</td>\n",
       "    </tr>\n",
       "    <tr>\n",
       "      <th>4</th>\n",
       "      <td>11</td>\n",
       "      <td>2022-01-05 16:00:41+00:00</td>\n",
       "      <td>2021-09-19 08:39:09+00:00</td>\n",
       "      <td>None</td>\n",
       "      <td>Twitter Web App</td>\n",
       "      <td>None</td>\n",
       "      <td>84</td>\n",
       "      <td>1055</td>\n",
       "      <td>0</td>\n",
       "      <td>311</td>\n",
       "      <td>10722</td>\n",
       "      <td>False</td>\n",
       "      <td>False</td>\n",
       "      <td>None</td>\n",
       "      <td>|| 100 USD || 1,4 JUTA IDR |||| one winner || ...</td>\n",
       "      <td>usd        juta idr      one winner    ...</td>\n",
       "      <td>|| 100 USD || 1,4 JUTA IDR |||| one winner || ...</td>\n",
       "      <td>[||, 100, USD, ||, 1,4, JUTA, IDR, ||||, one, ...</td>\n",
       "    </tr>\n",
       "  </tbody>\n",
       "</table>\n",
       "</div>"
      ],
      "text/plain": [
       "   document                 created_at                user_joined  \\\n",
       "0         3  2022-01-05 16:00:39+00:00  2018-01-21 00:36:55+00:00   \n",
       "1         6  2022-01-03 00:42:42+00:00  2018-03-13 13:57:44+00:00   \n",
       "2         7  2022-01-05 16:00:41+00:00  2018-07-05 12:50:08+00:00   \n",
       "3         9  2022-01-05 16:00:41+00:00  2015-03-26 16:51:15+00:00   \n",
       "4        11  2022-01-05 16:00:41+00:00  2021-09-19 08:39:09+00:00   \n",
       "\n",
       "  in_reply_to_screen_name          source_text place_country  user_followers  \\\n",
       "0                  SpaceX   Twitter for iPhone          None             158   \n",
       "1                    None  Twitter for Android          None              37   \n",
       "2                    None   Twitter for iPhone          None             237   \n",
       "3                    None   Twitter for iPhone          None             478   \n",
       "4                    None      Twitter Web App          None              84   \n",
       "\n",
       "   user_friends  user_listed  user_favourites  user_statuses  user_protected  \\\n",
       "0           230            1             4092           2271           False   \n",
       "1           690            0             8475            189           False   \n",
       "2          2772            0             2233          13060           False   \n",
       "3           848           18            43290         161952           False   \n",
       "4          1055            0              311          10722           False   \n",
       "\n",
       "   user_verified user_location  \\\n",
       "0          False   Deutschland   \n",
       "1          False          None   \n",
       "2          False       she/her   \n",
       "3          False          None   \n",
       "4          False          None   \n",
       "\n",
       "                                          reviewText  \\\n",
       "0      Mr.  , can you resuscitate the   project. ...   \n",
       "1  Receiving  first images of the early universe,...   \n",
       "2  || 100 USD || 1,4 JUTA IDR |||| one winner || ...   \n",
       "3  \"Sailor Stars. Never seen it? Because it was t...   \n",
       "4  || 100 USD || 1,4 JUTA IDR |||| one winner || ...   \n",
       "\n",
       "                                reviewText_processed  \\\n",
       "0  mr    can you resuscitate the project  the    ...   \n",
       "1  receiving first images of the early universe  ...   \n",
       "2         usd        juta idr      one winner    ...   \n",
       "3   sailor stars  never seen it  because it was t...   \n",
       "4         usd        juta idr      one winner    ...   \n",
       "\n",
       "                                  reviewText_trimmed  \\\n",
       "0  Mr.  , can you resuscitate the   project. The ...   \n",
       "1  Receiving  first images of the early universe,...   \n",
       "2  || 100 USD || 1,4 JUTA IDR |||| one winner || ...   \n",
       "3  \"Sailor Stars. Never seen it? Because it was t...   \n",
       "4  || 100 USD || 1,4 JUTA IDR |||| one winner || ...   \n",
       "\n",
       "                                               words  \n",
       "0  [Mr., ,, can, you, resuscitate, the, project.,...  \n",
       "1  [Receiving, first, images, of, the, early, uni...  \n",
       "2  [||, 100, USD, ||, 1,4, JUTA, IDR, ||||, one, ...  \n",
       "3  [\"Sailor, Stars., Never, seen, it?, Because, i...  \n",
       "4  [||, 100, USD, ||, 1,4, JUTA, IDR, ||||, one, ...  "
      ]
     },
     "execution_count": 25,
     "metadata": {},
     "output_type": "execute_result"
    }
   ],
   "source": [
    "df_processed_no_blanks = df_processed_no_blanks.filter(F.size(\"words\") > 25)\n",
    "print(\n",
    "    \"Number of rows in processed data, after filtering out tweets based on \"\n",
    "    f\"length of text = {df_processed_no_blanks.count():,}\"\n",
    ")\n",
    "show_pyspark_df(df_processed_no_blanks, 5)"
   ]
  },
  {
   "cell_type": "markdown",
   "id": "aa47361c",
   "metadata": {},
   "source": [
    "**Notes**\n",
    "1. This significant reduces the size of the dataset passed to LDA, but it removes tweets that will be challenging to use with LDA.\n",
    "2. It is better to apply this filter here, before data is passed to the NLP pipeline, since those are expensive computing tasks that won't benefit from having these shorter texts."
   ]
  },
  {
   "cell_type": "markdown",
   "id": "e2c78b72",
   "metadata": {},
   "source": [
    "#### NLP on Cleaned Text Data"
   ]
  },
  {
   "cell_type": "markdown",
   "id": "0859bb65",
   "metadata": {},
   "source": [
    "Now, we'll apply an NLP pipeline to extract features from the cleaned text data. This pipeline will consist of the following three steps\n",
    "- tokenization\n",
    "  - here we will restrict the minimum token length that we will accept using the `minTokenLength` key word\n",
    "    - this is a hyperparameter of the NLP pipeline that can be tuned during future versions of this analysis\n",
    "- removal of stop words\n",
    "  - these are frequently occurring words that won't offer any useful information\n",
    "- vectorization\n",
    "  - this is the process of associating words or phrases from a text vocabulary to a real-valued vector\n",
    "  - there are several approaches to vectorization, but we will restrict ourselves to TFIDF vectorization ([1](https://openclassrooms.com/en/courses/6532301-introduction-to-natural-language-processing/7067116-apply-the-tf-idf-vectorization-approach), [2](https://monkeylearn.com/blog/what-is-tf-idf/))\n",
    "    - in PySpark this can be done using a combination of a `CountVectorizer` ([link](https://spark.apache.org/docs/latest/api/python/reference/api/pyspark.ml.feature.CountVectorizer.html)) and `IDF` ([link](https://spark.apache.org/docs/latest/api/python/reference/api/pyspark.ml.feature.IDF.html)) classes from the `pyspark.ml` module\n",
    "      - `CountVectorizer` has three particularly useful hyperparameters `minDF`, `maxDF` and `vocabSize` that could be extensively tuned in future versions of this analysis\n",
    "    - disadvantage of the TFIDF technique\n",
    "      - If a text corpus consists of 10 documents, then the vector created has a length of 10; if there are 10,000 documents, then the vector is of length 10,000. This means that the size and words in the vocabulary depend completely on the text corpus. The same words in two different vocabularies will produce different vector representations depending on the corpus being analysed. An alternative to this form of vectorization includes using word embeddings such as `Word2Vec` ([1](https://stackoverflow.com/questions/62749877/word2vec-in-short-text-clustering#comment110985077_62749877)), which was not used in this iteration of the analysis."
   ]
  },
  {
   "cell_type": "code",
   "execution_count": 26,
   "id": "b5c7aafe",
   "metadata": {},
   "outputs": [
    {
     "name": "stdout",
     "output_type": "stream",
     "text": [
      "Loaded CountVectorizer from folder datasets/twitter/kinesis-demo/models/count_vec_model_20220107_043603 in S3 bucket\n"
     ]
    }
   ],
   "source": [
    "# Tokenization\n",
    "tokenizer = RegexTokenizer(\n",
    "    minTokenLength=5,\n",
    "    inputCol=\"reviewText_processed\",\n",
    "    outputCol=\"tokens\",\n",
    "    toLowercase=True,\n",
    "    pattern=\"\\\\s+\",  # default (meaning: https://stackoverflow.com/a/13750765/4057186)\n",
    "    # pattern=\"\\\\W\",  # other options to try to keep words: '[\\\\W_]+' or \"\\\\W\"\n",
    ")\n",
    "\n",
    "# Removal of Stop Words\n",
    "remover = StopWordsRemover(\n",
    "    inputCol=\"tokens\", outputCol=\"tokens_no_stopwords\", stopWords=all_stopwords\n",
    ")\n",
    "\n",
    "# TFIDF Vectorization\n",
    "count_vec_params = dict(\n",
    "    inputCol=\"tokens_no_stopwords\",\n",
    "    outputCol=\"rawFeatures\",\n",
    "    # vocabSize: default = 262144\n",
    "    vocabSize=262144,\n",
    "    # minDF: if float, ignores terms with document freq less than minDF (default = 1.0)\n",
    "    minDF=5,\n",
    "    # maxDF: if float, ignores tokens with document freq > maxDF (default = 9223372036854775807)\n",
    "    maxDF=0.75,\n",
    ")\n",
    "if save_count_vectorizer:\n",
    "    # Create new count vectorizer model\n",
    "    count_vectorizer = CountVectorizer(**count_vec_params)\n",
    "    print(f\"Defined new CountVectorizer object\")\n",
    "else:\n",
    "    # Get all paths (excluding prefix with protocol and bucket name) to previously saved\n",
    "    # count vectorizer models (sorted in ascending order by timestamp suffix in their filenames)\n",
    "    vectorizer_fpaths = iem.get_all_saved_vectorizer_models_from_s3(\n",
    "        s3_bucket_name,\n",
    "        aws_region,\n",
    "        f\"{path_to_folder[1:]}{s3_models_subfolder}/\",\n",
    "        \"count_vec\",\n",
    "    )\n",
    "    # Get full filepath to latest count vectorizer model\n",
    "    count_vectorizer_filepath = f\"s3a://{s3_bucket_name}/{vectorizer_fpaths[-1][:-1]}\"\n",
    "    # Load latest count vectorizer model from folder in S3 bucket\n",
    "    count_vectorizer = CountVectorizerModel.load(count_vectorizer_filepath)\n",
    "    print(\n",
    "        f\"Loaded CountVectorizer from folder {vectorizer_fpaths[-1][:-1]} in S3 bucket\"\n",
    "    )\n",
    "idf = IDF(minDocFreq=0, inputCol=\"rawFeatures\", outputCol=\"features\")\n",
    "tfidf_vectorizer = Pipeline(stages=[count_vectorizer, idf])\n",
    "\n",
    "assembler = VectorAssembler(inputCols=[\"1gram_idf\"], outputCol=\"features\")\n",
    "\n",
    "# Combined text processing pipeline\n",
    "pipe = Pipeline(stages=[tokenizer, remover, tfidf_vectorizer])"
   ]
  },
  {
   "cell_type": "markdown",
   "id": "6fe93faa",
   "metadata": {},
   "source": [
    "Apply the text processing pipeline to process the text column from the data"
   ]
  },
  {
   "cell_type": "code",
   "execution_count": 27,
   "id": "96d86edf",
   "metadata": {},
   "outputs": [
    {
     "name": "stdout",
     "output_type": "stream",
     "text": [
      "Number of rows in processed data = 238,049\n",
      "CPU times: user 120 ms, sys: 3.43 ms, total: 123 ms\n",
      "Wall time: 21.8 s\n"
     ]
    },
    {
     "data": {
      "text/html": [
       "<div>\n",
       "<style scoped>\n",
       "    .dataframe tbody tr th:only-of-type {\n",
       "        vertical-align: middle;\n",
       "    }\n",
       "\n",
       "    .dataframe tbody tr th {\n",
       "        vertical-align: top;\n",
       "    }\n",
       "\n",
       "    .dataframe thead th {\n",
       "        text-align: right;\n",
       "    }\n",
       "</style>\n",
       "<table border=\"1\" class=\"dataframe\">\n",
       "  <thead>\n",
       "    <tr style=\"text-align: right;\">\n",
       "      <th></th>\n",
       "      <th>document</th>\n",
       "      <th>created_at</th>\n",
       "      <th>user_joined</th>\n",
       "      <th>in_reply_to_screen_name</th>\n",
       "      <th>source_text</th>\n",
       "      <th>place_country</th>\n",
       "      <th>user_followers</th>\n",
       "      <th>user_friends</th>\n",
       "      <th>user_listed</th>\n",
       "      <th>user_favourites</th>\n",
       "      <th>...</th>\n",
       "      <th>user_verified</th>\n",
       "      <th>user_location</th>\n",
       "      <th>reviewText</th>\n",
       "      <th>reviewText_processed</th>\n",
       "      <th>reviewText_trimmed</th>\n",
       "      <th>words</th>\n",
       "      <th>tokens</th>\n",
       "      <th>tokens_no_stopwords</th>\n",
       "      <th>rawFeatures</th>\n",
       "      <th>features</th>\n",
       "    </tr>\n",
       "  </thead>\n",
       "  <tbody>\n",
       "    <tr>\n",
       "      <th>0</th>\n",
       "      <td>3</td>\n",
       "      <td>2022-01-05 16:00:39+00:00</td>\n",
       "      <td>2018-01-21 00:36:55+00:00</td>\n",
       "      <td>SpaceX</td>\n",
       "      <td>Twitter for iPhone</td>\n",
       "      <td>None</td>\n",
       "      <td>158</td>\n",
       "      <td>230</td>\n",
       "      <td>1</td>\n",
       "      <td>4092</td>\n",
       "      <td>...</td>\n",
       "      <td>False</td>\n",
       "      <td>Deutschland</td>\n",
       "      <td>Mr.  , can you resuscitate the   project. ...</td>\n",
       "      <td>mr    can you resuscitate the project  the    ...</td>\n",
       "      <td>Mr.  , can you resuscitate the   project. The ...</td>\n",
       "      <td>[Mr., ,, can, you, resuscitate, the, project.,...</td>\n",
       "      <td>[resuscitate, project, paperhands, floor, woul...</td>\n",
       "      <td>[resuscitate, paperhands, floor, return, astro...</td>\n",
       "      <td>(0.0, 0.0, 0.0, 0.0, 1.0, 0.0, 0.0, 0.0, 0.0, ...</td>\n",
       "      <td>(0.0, 0.0, 0.0, 0.0, 2.678619878125207, 0.0, 0...</td>\n",
       "    </tr>\n",
       "    <tr>\n",
       "      <th>1</th>\n",
       "      <td>6</td>\n",
       "      <td>2022-01-03 00:42:42+00:00</td>\n",
       "      <td>2018-03-13 13:57:44+00:00</td>\n",
       "      <td>None</td>\n",
       "      <td>Twitter for Android</td>\n",
       "      <td>None</td>\n",
       "      <td>37</td>\n",
       "      <td>690</td>\n",
       "      <td>0</td>\n",
       "      <td>8475</td>\n",
       "      <td>...</td>\n",
       "      <td>False</td>\n",
       "      <td>None</td>\n",
       "      <td>Receiving  first images of the early universe,...</td>\n",
       "      <td>receiving first images of the early universe  ...</td>\n",
       "      <td>Receiving  first images of the early universe,...</td>\n",
       "      <td>[Receiving, first, images, of, the, early, uni...</td>\n",
       "      <td>[receiving, first, images, early, universe, se...</td>\n",
       "      <td>[receiving, images, early, universe, sending, ...</td>\n",
       "      <td>(0.0, 0.0, 0.0, 0.0, 0.0, 0.0, 0.0, 1.0, 0.0, ...</td>\n",
       "      <td>(0.0, 0.0, 0.0, 0.0, 0.0, 0.0, 0.0, 2.85129646...</td>\n",
       "    </tr>\n",
       "    <tr>\n",
       "      <th>2</th>\n",
       "      <td>7</td>\n",
       "      <td>2022-01-05 16:00:41+00:00</td>\n",
       "      <td>2018-07-05 12:50:08+00:00</td>\n",
       "      <td>None</td>\n",
       "      <td>Twitter for iPhone</td>\n",
       "      <td>None</td>\n",
       "      <td>237</td>\n",
       "      <td>2772</td>\n",
       "      <td>0</td>\n",
       "      <td>2233</td>\n",
       "      <td>...</td>\n",
       "      <td>False</td>\n",
       "      <td>she/her</td>\n",
       "      <td>|| 100 USD || 1,4 JUTA IDR |||| one winner || ...</td>\n",
       "      <td>usd        juta idr      one winner    ...</td>\n",
       "      <td>|| 100 USD || 1,4 JUTA IDR |||| one winner || ...</td>\n",
       "      <td>[||, 100, USD, ||, 1,4, JUTA, IDR, ||||, one, ...</td>\n",
       "      <td>[winner, garangan, retweet, follow, tweet, bel...</td>\n",
       "      <td>[winner, garangan, retweet, follow, tweet, bel...</td>\n",
       "      <td>(0.0, 0.0, 0.0, 0.0, 0.0, 0.0, 0.0, 0.0, 0.0, ...</td>\n",
       "      <td>(0.0, 0.0, 0.0, 0.0, 0.0, 0.0, 0.0, 0.0, 0.0, ...</td>\n",
       "    </tr>\n",
       "    <tr>\n",
       "      <th>3</th>\n",
       "      <td>9</td>\n",
       "      <td>2022-01-05 16:00:41+00:00</td>\n",
       "      <td>2015-03-26 16:51:15+00:00</td>\n",
       "      <td>None</td>\n",
       "      <td>Twitter for iPhone</td>\n",
       "      <td>None</td>\n",
       "      <td>478</td>\n",
       "      <td>848</td>\n",
       "      <td>18</td>\n",
       "      <td>43290</td>\n",
       "      <td>...</td>\n",
       "      <td>False</td>\n",
       "      <td>None</td>\n",
       "      <td>\"Sailor Stars. Never seen it? Because it was t...</td>\n",
       "      <td>sailor stars  never seen it  because it was t...</td>\n",
       "      <td>\"Sailor Stars. Never seen it? Because it was t...</td>\n",
       "      <td>[\"Sailor, Stars., Never, seen, it?, Because, i...</td>\n",
       "      <td>[sailor, stars, never, because, trans, audienc...</td>\n",
       "      <td>[sailor, stars, trans, audiences, given, uranu...</td>\n",
       "      <td>(0.0, 0.0, 0.0, 0.0, 0.0, 0.0, 0.0, 0.0, 0.0, ...</td>\n",
       "      <td>(0.0, 0.0, 0.0, 0.0, 0.0, 0.0, 0.0, 0.0, 0.0, ...</td>\n",
       "    </tr>\n",
       "    <tr>\n",
       "      <th>4</th>\n",
       "      <td>11</td>\n",
       "      <td>2022-01-05 16:00:41+00:00</td>\n",
       "      <td>2021-09-19 08:39:09+00:00</td>\n",
       "      <td>None</td>\n",
       "      <td>Twitter Web App</td>\n",
       "      <td>None</td>\n",
       "      <td>84</td>\n",
       "      <td>1055</td>\n",
       "      <td>0</td>\n",
       "      <td>311</td>\n",
       "      <td>...</td>\n",
       "      <td>False</td>\n",
       "      <td>None</td>\n",
       "      <td>|| 100 USD || 1,4 JUTA IDR |||| one winner || ...</td>\n",
       "      <td>usd        juta idr      one winner    ...</td>\n",
       "      <td>|| 100 USD || 1,4 JUTA IDR |||| one winner || ...</td>\n",
       "      <td>[||, 100, USD, ||, 1,4, JUTA, IDR, ||||, one, ...</td>\n",
       "      <td>[winner, garangan, retweet, follow, tweet, bel...</td>\n",
       "      <td>[winner, garangan, retweet, follow, tweet, bel...</td>\n",
       "      <td>(0.0, 0.0, 0.0, 0.0, 0.0, 0.0, 0.0, 0.0, 0.0, ...</td>\n",
       "      <td>(0.0, 0.0, 0.0, 0.0, 0.0, 0.0, 0.0, 0.0, 0.0, ...</td>\n",
       "    </tr>\n",
       "  </tbody>\n",
       "</table>\n",
       "<p>5 rows × 22 columns</p>\n",
       "</div>"
      ],
      "text/plain": [
       "   document                 created_at                user_joined  \\\n",
       "0         3  2022-01-05 16:00:39+00:00  2018-01-21 00:36:55+00:00   \n",
       "1         6  2022-01-03 00:42:42+00:00  2018-03-13 13:57:44+00:00   \n",
       "2         7  2022-01-05 16:00:41+00:00  2018-07-05 12:50:08+00:00   \n",
       "3         9  2022-01-05 16:00:41+00:00  2015-03-26 16:51:15+00:00   \n",
       "4        11  2022-01-05 16:00:41+00:00  2021-09-19 08:39:09+00:00   \n",
       "\n",
       "  in_reply_to_screen_name          source_text place_country  user_followers  \\\n",
       "0                  SpaceX   Twitter for iPhone          None             158   \n",
       "1                    None  Twitter for Android          None              37   \n",
       "2                    None   Twitter for iPhone          None             237   \n",
       "3                    None   Twitter for iPhone          None             478   \n",
       "4                    None      Twitter Web App          None              84   \n",
       "\n",
       "   user_friends  user_listed  user_favourites  ...  user_verified  \\\n",
       "0           230            1             4092  ...          False   \n",
       "1           690            0             8475  ...          False   \n",
       "2          2772            0             2233  ...          False   \n",
       "3           848           18            43290  ...          False   \n",
       "4          1055            0              311  ...          False   \n",
       "\n",
       "   user_location                                         reviewText  \\\n",
       "0    Deutschland      Mr.  , can you resuscitate the   project. ...   \n",
       "1           None  Receiving  first images of the early universe,...   \n",
       "2        she/her  || 100 USD || 1,4 JUTA IDR |||| one winner || ...   \n",
       "3           None  \"Sailor Stars. Never seen it? Because it was t...   \n",
       "4           None  || 100 USD || 1,4 JUTA IDR |||| one winner || ...   \n",
       "\n",
       "                                reviewText_processed  \\\n",
       "0  mr    can you resuscitate the project  the    ...   \n",
       "1  receiving first images of the early universe  ...   \n",
       "2         usd        juta idr      one winner    ...   \n",
       "3   sailor stars  never seen it  because it was t...   \n",
       "4         usd        juta idr      one winner    ...   \n",
       "\n",
       "                                  reviewText_trimmed  \\\n",
       "0  Mr.  , can you resuscitate the   project. The ...   \n",
       "1  Receiving  first images of the early universe,...   \n",
       "2  || 100 USD || 1,4 JUTA IDR |||| one winner || ...   \n",
       "3  \"Sailor Stars. Never seen it? Because it was t...   \n",
       "4  || 100 USD || 1,4 JUTA IDR |||| one winner || ...   \n",
       "\n",
       "                                               words  \\\n",
       "0  [Mr., ,, can, you, resuscitate, the, project.,...   \n",
       "1  [Receiving, first, images, of, the, early, uni...   \n",
       "2  [||, 100, USD, ||, 1,4, JUTA, IDR, ||||, one, ...   \n",
       "3  [\"Sailor, Stars., Never, seen, it?, Because, i...   \n",
       "4  [||, 100, USD, ||, 1,4, JUTA, IDR, ||||, one, ...   \n",
       "\n",
       "                                              tokens  \\\n",
       "0  [resuscitate, project, paperhands, floor, woul...   \n",
       "1  [receiving, first, images, early, universe, se...   \n",
       "2  [winner, garangan, retweet, follow, tweet, bel...   \n",
       "3  [sailor, stars, never, because, trans, audienc...   \n",
       "4  [winner, garangan, retweet, follow, tweet, bel...   \n",
       "\n",
       "                                 tokens_no_stopwords  \\\n",
       "0  [resuscitate, paperhands, floor, return, astro...   \n",
       "1  [receiving, images, early, universe, sending, ...   \n",
       "2  [winner, garangan, retweet, follow, tweet, bel...   \n",
       "3  [sailor, stars, trans, audiences, given, uranu...   \n",
       "4  [winner, garangan, retweet, follow, tweet, bel...   \n",
       "\n",
       "                                         rawFeatures  \\\n",
       "0  (0.0, 0.0, 0.0, 0.0, 1.0, 0.0, 0.0, 0.0, 0.0, ...   \n",
       "1  (0.0, 0.0, 0.0, 0.0, 0.0, 0.0, 0.0, 1.0, 0.0, ...   \n",
       "2  (0.0, 0.0, 0.0, 0.0, 0.0, 0.0, 0.0, 0.0, 0.0, ...   \n",
       "3  (0.0, 0.0, 0.0, 0.0, 0.0, 0.0, 0.0, 0.0, 0.0, ...   \n",
       "4  (0.0, 0.0, 0.0, 0.0, 0.0, 0.0, 0.0, 0.0, 0.0, ...   \n",
       "\n",
       "                                            features  \n",
       "0  (0.0, 0.0, 0.0, 0.0, 2.678619878125207, 0.0, 0...  \n",
       "1  (0.0, 0.0, 0.0, 0.0, 0.0, 0.0, 0.0, 2.85129646...  \n",
       "2  (0.0, 0.0, 0.0, 0.0, 0.0, 0.0, 0.0, 0.0, 0.0, ...  \n",
       "3  (0.0, 0.0, 0.0, 0.0, 0.0, 0.0, 0.0, 0.0, 0.0, ...  \n",
       "4  (0.0, 0.0, 0.0, 0.0, 0.0, 0.0, 0.0, 0.0, 0.0, ...  \n",
       "\n",
       "[5 rows x 22 columns]"
      ]
     },
     "execution_count": 27,
     "metadata": {},
     "output_type": "execute_result"
    }
   ],
   "source": [
    "%%time\n",
    "pipe_trained = pipe.fit(df_processed_no_blanks)\n",
    "df_text_processed_no_blanks = pipe_trained.transform(df_processed_no_blanks)\n",
    "print(f\"Number of rows in processed data = {df_text_processed_no_blanks.count():,}\")\n",
    "show_pyspark_df(df_text_processed_no_blanks, 5)"
   ]
  },
  {
   "cell_type": "markdown",
   "id": "e6897f6b",
   "metadata": {},
   "source": [
    "Save the trained `CountVectorizer` to a folder in S3 bucket (if specified in **User Inputs** section)"
   ]
  },
  {
   "cell_type": "code",
   "execution_count": 28,
   "id": "abcfb115",
   "metadata": {},
   "outputs": [
    {
     "name": "stdout",
     "output_type": "stream",
     "text": [
      "CPU times: user 2 µs, sys: 1e+03 ns, total: 3 µs\n",
      "Wall time: 5.48 µs\n"
     ]
    }
   ],
   "source": [
    "%%time\n",
    "if save_count_vectorizer:\n",
    "    # Assemble S3 filepath with timestamp in filename\n",
    "    timestr = time.strftime(\"%Y%m%d_%H%M%S\")\n",
    "    count_vectorizer_filepath = (\n",
    "        f\"s3a://{s3_bucket_name}{path_to_folder}{s3_models_subfolder}/{count_vectorizer_filename}_{timestr}\"\n",
    "    )\n",
    "    # Save the trained CountVectorizer in the relevant stage from the PySpark NLP pipeline\n",
    "    pipe_trained.stages[-1].stages[0].save(count_vectorizer_filepath)\n",
    "    print(f\"Saved newly trained CountVectorizer to path {count_vectorizer_filepath} in S3 bucket\")"
   ]
  },
  {
   "cell_type": "markdown",
   "id": "aced85e2",
   "metadata": {},
   "source": [
    "We'll now drop duplicates based on the processed text (before stopwords were removed)"
   ]
  },
  {
   "cell_type": "code",
   "execution_count": 29,
   "id": "5c5da9ae",
   "metadata": {},
   "outputs": [
    {
     "name": "stdout",
     "output_type": "stream",
     "text": [
      "CPU times: user 1.22 ms, sys: 202 µs, total: 1.42 ms\n",
      "Wall time: 6.9 ms\n"
     ]
    }
   ],
   "source": [
    "%%time\n",
    "df_text_processed = df_text_processed_no_blanks.dropDuplicates(\n",
    "    subset=[\"reviewText_processed\"]\n",
    ")"
   ]
  },
  {
   "cell_type": "markdown",
   "id": "d50481c3",
   "metadata": {},
   "source": [
    "**Notes**\n",
    "1. All the texts are now in lowercase and have been processed so it is now possible to identify duplicates among tweets that could have previously differed from eachother only in whitespace or the case of the text that makes up the tweet (making it difficult or impossible to identify duplicated tweets), and then drop such duplicates."
   ]
  },
  {
   "cell_type": "markdown",
   "id": "883a018c",
   "metadata": {},
   "source": [
    "Check if cached"
   ]
  },
  {
   "cell_type": "code",
   "execution_count": 30,
   "id": "b345cbc5",
   "metadata": {},
   "outputs": [
    {
     "data": {
      "text/plain": [
       "False"
      ]
     },
     "execution_count": 30,
     "metadata": {},
     "output_type": "execute_result"
    }
   ],
   "source": [
    "df_text_processed.storageLevel.useMemory"
   ]
  },
  {
   "cell_type": "markdown",
   "id": "527e7cba",
   "metadata": {},
   "source": [
    "Cache the processed data, which will be queried and then used for LDA modeling"
   ]
  },
  {
   "cell_type": "code",
   "execution_count": 31,
   "id": "f40f1cda",
   "metadata": {},
   "outputs": [],
   "source": [
    "df_text_processed_cached = df_text_processed.cache()"
   ]
  },
  {
   "cell_type": "markdown",
   "id": "991c645b",
   "metadata": {},
   "source": [
    "#### Dropping Irrelevant Tweets"
   ]
  },
  {
   "cell_type": "markdown",
   "id": "735d8f47",
   "metadata": {},
   "source": [
    "Although duplicated and re-tweets have been dropped, some tweets might be leftover that differ from others by a few characters or words. We'll refer to these as *leftover duplicates*. We'll now get a random sample of the processed data to visually inspect and identify any such leftover duplicated or inappropriate / irrelevant tweets that can be manually dropped for the analysis to be performed here."
   ]
  },
  {
   "cell_type": "markdown",
   "id": "8119f60f",
   "metadata": {},
   "source": [
    "Get the number of rows in the processed data as a Python variable"
   ]
  },
  {
   "cell_type": "code",
   "execution_count": 32,
   "id": "6c0e8b74",
   "metadata": {},
   "outputs": [
    {
     "name": "stdout",
     "output_type": "stream",
     "text": [
      "CPU times: user 0 ns, sys: 10.9 ms, total: 10.9 ms\n",
      "Wall time: 1min 1s\n"
     ]
    }
   ],
   "source": [
    "%%time\n",
    "n_rows_proc = df_text_processed_cached.count()"
   ]
  },
  {
   "cell_type": "code",
   "execution_count": 33,
   "id": "1ceb6871",
   "metadata": {},
   "outputs": [
    {
     "name": "stdout",
     "output_type": "stream",
     "text": [
      "Number of rows in processed data, after filtering tweets by length and removing duplicates = 55,345\n",
      "CPU times: user 15.1 ms, sys: 0 ns, total: 15.1 ms\n",
      "Wall time: 132 ms\n"
     ]
    },
    {
     "data": {
      "text/html": [
       "<div>\n",
       "<style scoped>\n",
       "    .dataframe tbody tr th:only-of-type {\n",
       "        vertical-align: middle;\n",
       "    }\n",
       "\n",
       "    .dataframe tbody tr th {\n",
       "        vertical-align: top;\n",
       "    }\n",
       "\n",
       "    .dataframe thead th {\n",
       "        text-align: right;\n",
       "    }\n",
       "</style>\n",
       "<table border=\"1\" class=\"dataframe\">\n",
       "  <thead>\n",
       "    <tr style=\"text-align: right;\">\n",
       "      <th></th>\n",
       "      <th>document</th>\n",
       "      <th>created_at</th>\n",
       "      <th>user_joined</th>\n",
       "      <th>in_reply_to_screen_name</th>\n",
       "      <th>source_text</th>\n",
       "      <th>place_country</th>\n",
       "      <th>user_followers</th>\n",
       "      <th>user_friends</th>\n",
       "      <th>user_listed</th>\n",
       "      <th>user_favourites</th>\n",
       "      <th>...</th>\n",
       "      <th>user_verified</th>\n",
       "      <th>user_location</th>\n",
       "      <th>reviewText</th>\n",
       "      <th>reviewText_processed</th>\n",
       "      <th>reviewText_trimmed</th>\n",
       "      <th>words</th>\n",
       "      <th>tokens</th>\n",
       "      <th>tokens_no_stopwords</th>\n",
       "      <th>rawFeatures</th>\n",
       "      <th>features</th>\n",
       "    </tr>\n",
       "  </thead>\n",
       "  <tbody>\n",
       "    <tr>\n",
       "      <th>0</th>\n",
       "      <td>383156</td>\n",
       "      <td>2022-01-04 19:25:06+00:00</td>\n",
       "      <td>2020-06-28 19:10:58+00:00</td>\n",
       "      <td>None</td>\n",
       "      <td>Twitter for Android</td>\n",
       "      <td>None</td>\n",
       "      <td>1098</td>\n",
       "      <td>835</td>\n",
       "      <td>15</td>\n",
       "      <td>11798</td>\n",
       "      <td>...</td>\n",
       "      <td>False</td>\n",
       "      <td>⋆ 𝕿𝖍𝖊 𝖀𝖓𝖐𝖓𝖔𝖜𝖓 ⋆</td>\n",
       "      <td>✷ 　 　　 　 · 　 ˚ * . 　 　　 *　　 * ⋆ 　 . · 　　 ⋆ 　　　...</td>\n",
       "      <td>...</td>\n",
       "      <td>✷ 　 　　 　 · 　 ˚ * . 　 　　 *　　 * ⋆ 　 . · 　　 ⋆ 　　　...</td>\n",
       "      <td>[✷, 　, 　　, 　, ·, 　, ˚, *, ., 　, 　　, *　　, *, ⋆,...</td>\n",
       "      <td>[professor, astronomy, ravenclaw, house, scien...</td>\n",
       "      <td>[professor, astronomy, ravenclaw, house, scien...</td>\n",
       "      <td>(0.0, 0.0, 0.0, 0.0, 0.0, 0.0, 0.0, 0.0, 0.0, ...</td>\n",
       "      <td>(0.0, 0.0, 0.0, 0.0, 0.0, 0.0, 0.0, 0.0, 0.0, ...</td>\n",
       "    </tr>\n",
       "    <tr>\n",
       "      <th>1</th>\n",
       "      <td>293093</td>\n",
       "      <td>2022-01-05 13:28:13+00:00</td>\n",
       "      <td>2020-11-29 18:55:20+00:00</td>\n",
       "      <td>None</td>\n",
       "      <td>Twitter for iPhone</td>\n",
       "      <td>None</td>\n",
       "      <td>451</td>\n",
       "      <td>729</td>\n",
       "      <td>1</td>\n",
       "      <td>1048</td>\n",
       "      <td>...</td>\n",
       "      <td>False</td>\n",
       "      <td>Hufflepuff</td>\n",
       "      <td>\"\"\"𝕋𝕖𝕝𝕝 𝕒𝕝𝕝 𝕠𝕗 𝕪𝕠𝕦𝕣 𝕗𝕣𝕚𝕖𝕟𝕕𝕤 𝕥𝕙𝕒𝕥 𝕀'𝕞 𝕔𝕣𝕒𝕫𝕪 𝕒𝕟𝕕...</td>\n",
       "      <td>...</td>\n",
       "      <td>\"\"\"𝕋𝕖𝕝𝕝 𝕒𝕝𝕝 𝕠𝕗 𝕪𝕠𝕦𝕣 𝕗𝕣𝕚𝕖𝕟𝕕𝕤 𝕥𝕙𝕒𝕥 𝕀'𝕞 𝕔𝕣𝕒𝕫𝕪 𝕒𝕟𝕕...</td>\n",
       "      <td>[\"\"\"𝕋𝕖𝕝𝕝, 𝕒𝕝𝕝, 𝕠𝕗, 𝕪𝕠𝕦𝕣, 𝕗𝕣𝕚𝕖𝕟𝕕𝕤, 𝕥𝕙𝕒𝕥, 𝕀'𝕞, 𝕔...</td>\n",
       "      <td>[death, eater, perpetually, stoned, partier, l...</td>\n",
       "      <td>[death, eater, perpetually, stoned, partier, l...</td>\n",
       "      <td>(0.0, 0.0, 0.0, 0.0, 0.0, 0.0, 0.0, 0.0, 0.0, ...</td>\n",
       "      <td>(0.0, 0.0, 0.0, 0.0, 0.0, 0.0, 0.0, 0.0, 0.0, ...</td>\n",
       "    </tr>\n",
       "    <tr>\n",
       "      <th>2</th>\n",
       "      <td>461143</td>\n",
       "      <td>2022-01-06 13:19:58+00:00</td>\n",
       "      <td>2017-07-27 10:13:33+00:00</td>\n",
       "      <td>None</td>\n",
       "      <td>Twitter Web App</td>\n",
       "      <td>None</td>\n",
       "      <td>446</td>\n",
       "      <td>1564</td>\n",
       "      <td>1</td>\n",
       "      <td>144</td>\n",
       "      <td>...</td>\n",
       "      <td>False</td>\n",
       "      <td>Ronkonkoma,NY</td>\n",
       "      <td>“𝐍𝐨𝐯𝐞𝐥 𝐃𝐞𝐯𝐢𝐜𝐞𝐬, 𝐓𝐨𝐨𝐥𝐬, 𝐚𝐧𝐝 𝐓𝐞𝐜𝐡𝐧𝐢𝐪𝐮𝐞𝐬 𝐢𝐧 𝐏𝐫𝐨𝐬𝐭...</td>\n",
       "      <td>...</td>\n",
       "      <td>“𝐍𝐨𝐯𝐞𝐥 𝐃𝐞𝐯𝐢𝐜𝐞𝐬, 𝐓𝐨𝐨𝐥𝐬, 𝐚𝐧𝐝 𝐓𝐞𝐜𝐡𝐧𝐢𝐪𝐮𝐞𝐬 𝐢𝐧 𝐏𝐫𝐨𝐬𝐭...</td>\n",
       "      <td>[“𝐍𝐨𝐯𝐞𝐥, 𝐃𝐞𝐯𝐢𝐜𝐞𝐬,, 𝐓𝐨𝐨𝐥𝐬,, 𝐚𝐧𝐝, 𝐓𝐞𝐜𝐡𝐧𝐢𝐪𝐮𝐞𝐬, 𝐢𝐧...</td>\n",
       "      <td>[messm, rigicon, satellite, symposium, learn, ...</td>\n",
       "      <td>[messm, rigicon, satellite, symposium, learn, ...</td>\n",
       "      <td>(0.0, 0.0, 0.0, 1.0, 0.0, 0.0, 0.0, 0.0, 0.0, ...</td>\n",
       "      <td>(0.0, 0.0, 0.0, 2.5495880082634943, 0.0, 0.0, ...</td>\n",
       "    </tr>\n",
       "    <tr>\n",
       "      <th>3</th>\n",
       "      <td>551642</td>\n",
       "      <td>2022-01-03 13:52:37+00:00</td>\n",
       "      <td>2021-11-24 13:01:43+00:00</td>\n",
       "      <td>None</td>\n",
       "      <td>Twitter for iPhone</td>\n",
       "      <td>None</td>\n",
       "      <td>19</td>\n",
       "      <td>40</td>\n",
       "      <td>0</td>\n",
       "      <td>491</td>\n",
       "      <td>...</td>\n",
       "      <td>False</td>\n",
       "      <td>None</td>\n",
       "      <td>जगत्, अर्थात् जिसमें गति हो।भूगोल, अर्थात् भूम...</td>\n",
       "      <td>...</td>\n",
       "      <td>जगत्, अर्थात् जिसमें गति हो।भूगोल, अर्थात् भूम...</td>\n",
       "      <td>[जगत्,, अर्थात्, जिसमें, गति, हो।भूगोल,, अर्था...</td>\n",
       "      <td>[sense, topography, astronomy, ancestors, hang...</td>\n",
       "      <td>[sense, topography, astronomy, ancestors, hang...</td>\n",
       "      <td>(0.0, 0.0, 0.0, 0.0, 0.0, 0.0, 0.0, 0.0, 0.0, ...</td>\n",
       "      <td>(0.0, 0.0, 0.0, 0.0, 0.0, 0.0, 0.0, 0.0, 0.0, ...</td>\n",
       "    </tr>\n",
       "    <tr>\n",
       "      <th>4</th>\n",
       "      <td>556046</td>\n",
       "      <td>2022-01-03 14:05:21+00:00</td>\n",
       "      <td>2009-10-22 09:32:35+00:00</td>\n",
       "      <td>None</td>\n",
       "      <td>Twitter for Android</td>\n",
       "      <td>None</td>\n",
       "      <td>3027</td>\n",
       "      <td>1392</td>\n",
       "      <td>244</td>\n",
       "      <td>145549</td>\n",
       "      <td>...</td>\n",
       "      <td>False</td>\n",
       "      <td>कानपुर, भारत</td>\n",
       "      <td>गूढ़ सूक्ष्म गणना से कुम्भ की तिथियां निश्चित ...</td>\n",
       "      <td>...</td>\n",
       "      <td>गूढ़ सूक्ष्म गणना से कुम्भ की तिथियां निश्चित ...</td>\n",
       "      <td>[गूढ़, सूक्ष्म, गणना, से, कुम्भ, की, तिथियां, ...</td>\n",
       "      <td>[since, centuries, calculation, being, based, ...</td>\n",
       "      <td>[centuries, calculation, based, planetary, pos...</td>\n",
       "      <td>(0.0, 0.0, 0.0, 0.0, 0.0, 0.0, 1.0, 0.0, 0.0, ...</td>\n",
       "      <td>(0.0, 0.0, 0.0, 0.0, 0.0, 0.0, 2.8278674404545...</td>\n",
       "    </tr>\n",
       "  </tbody>\n",
       "</table>\n",
       "<p>5 rows × 22 columns</p>\n",
       "</div>"
      ],
      "text/plain": [
       "   document                 created_at                user_joined  \\\n",
       "0    383156  2022-01-04 19:25:06+00:00  2020-06-28 19:10:58+00:00   \n",
       "1    293093  2022-01-05 13:28:13+00:00  2020-11-29 18:55:20+00:00   \n",
       "2    461143  2022-01-06 13:19:58+00:00  2017-07-27 10:13:33+00:00   \n",
       "3    551642  2022-01-03 13:52:37+00:00  2021-11-24 13:01:43+00:00   \n",
       "4    556046  2022-01-03 14:05:21+00:00  2009-10-22 09:32:35+00:00   \n",
       "\n",
       "  in_reply_to_screen_name          source_text place_country  user_followers  \\\n",
       "0                    None  Twitter for Android          None            1098   \n",
       "1                    None   Twitter for iPhone          None             451   \n",
       "2                    None      Twitter Web App          None             446   \n",
       "3                    None   Twitter for iPhone          None              19   \n",
       "4                    None  Twitter for Android          None            3027   \n",
       "\n",
       "   user_friends  user_listed  user_favourites  ...  user_verified  \\\n",
       "0           835           15            11798  ...          False   \n",
       "1           729            1             1048  ...          False   \n",
       "2          1564            1              144  ...          False   \n",
       "3            40            0              491  ...          False   \n",
       "4          1392          244           145549  ...          False   \n",
       "\n",
       "     user_location                                         reviewText  \\\n",
       "0  ⋆ 𝕿𝖍𝖊 𝖀𝖓𝖐𝖓𝖔𝖜𝖓 ⋆  ✷ 　 　　 　 · 　 ˚ * . 　 　　 *　　 * ⋆ 　 . · 　　 ⋆ 　　　...   \n",
       "1       Hufflepuff  \"\"\"𝕋𝕖𝕝𝕝 𝕒𝕝𝕝 𝕠𝕗 𝕪𝕠𝕦𝕣 𝕗𝕣𝕚𝕖𝕟𝕕𝕤 𝕥𝕙𝕒𝕥 𝕀'𝕞 𝕔𝕣𝕒𝕫𝕪 𝕒𝕟𝕕...   \n",
       "2    Ronkonkoma,NY  “𝐍𝐨𝐯𝐞𝐥 𝐃𝐞𝐯𝐢𝐜𝐞𝐬, 𝐓𝐨𝐨𝐥𝐬, 𝐚𝐧𝐝 𝐓𝐞𝐜𝐡𝐧𝐢𝐪𝐮𝐞𝐬 𝐢𝐧 𝐏𝐫𝐨𝐬𝐭...   \n",
       "3             None  जगत्, अर्थात् जिसमें गति हो।भूगोल, अर्थात् भूम...   \n",
       "4     कानपुर, भारत  गूढ़ सूक्ष्म गणना से कुम्भ की तिथियां निश्चित ...   \n",
       "\n",
       "                                reviewText_processed  \\\n",
       "0                                                ...   \n",
       "1                                                ...   \n",
       "2                                                ...   \n",
       "3                                                ...   \n",
       "4                                                ...   \n",
       "\n",
       "                                  reviewText_trimmed  \\\n",
       "0  ✷ 　 　　 　 · 　 ˚ * . 　 　　 *　　 * ⋆ 　 . · 　　 ⋆ 　　　...   \n",
       "1  \"\"\"𝕋𝕖𝕝𝕝 𝕒𝕝𝕝 𝕠𝕗 𝕪𝕠𝕦𝕣 𝕗𝕣𝕚𝕖𝕟𝕕𝕤 𝕥𝕙𝕒𝕥 𝕀'𝕞 𝕔𝕣𝕒𝕫𝕪 𝕒𝕟𝕕...   \n",
       "2  “𝐍𝐨𝐯𝐞𝐥 𝐃𝐞𝐯𝐢𝐜𝐞𝐬, 𝐓𝐨𝐨𝐥𝐬, 𝐚𝐧𝐝 𝐓𝐞𝐜𝐡𝐧𝐢𝐪𝐮𝐞𝐬 𝐢𝐧 𝐏𝐫𝐨𝐬𝐭...   \n",
       "3  जगत्, अर्थात् जिसमें गति हो।भूगोल, अर्थात् भूम...   \n",
       "4  गूढ़ सूक्ष्म गणना से कुम्भ की तिथियां निश्चित ...   \n",
       "\n",
       "                                               words  \\\n",
       "0  [✷, 　, 　　, 　, ·, 　, ˚, *, ., 　, 　　, *　　, *, ⋆,...   \n",
       "1  [\"\"\"𝕋𝕖𝕝𝕝, 𝕒𝕝𝕝, 𝕠𝕗, 𝕪𝕠𝕦𝕣, 𝕗𝕣𝕚𝕖𝕟𝕕𝕤, 𝕥𝕙𝕒𝕥, 𝕀'𝕞, 𝕔...   \n",
       "2  [“𝐍𝐨𝐯𝐞𝐥, 𝐃𝐞𝐯𝐢𝐜𝐞𝐬,, 𝐓𝐨𝐨𝐥𝐬,, 𝐚𝐧𝐝, 𝐓𝐞𝐜𝐡𝐧𝐢𝐪𝐮𝐞𝐬, 𝐢𝐧...   \n",
       "3  [जगत्,, अर्थात्, जिसमें, गति, हो।भूगोल,, अर्था...   \n",
       "4  [गूढ़, सूक्ष्म, गणना, से, कुम्भ, की, तिथियां, ...   \n",
       "\n",
       "                                              tokens  \\\n",
       "0  [professor, astronomy, ravenclaw, house, scien...   \n",
       "1  [death, eater, perpetually, stoned, partier, l...   \n",
       "2  [messm, rigicon, satellite, symposium, learn, ...   \n",
       "3  [sense, topography, astronomy, ancestors, hang...   \n",
       "4  [since, centuries, calculation, being, based, ...   \n",
       "\n",
       "                                 tokens_no_stopwords  \\\n",
       "0  [professor, astronomy, ravenclaw, house, scien...   \n",
       "1  [death, eater, perpetually, stoned, partier, l...   \n",
       "2  [messm, rigicon, satellite, symposium, learn, ...   \n",
       "3  [sense, topography, astronomy, ancestors, hang...   \n",
       "4  [centuries, calculation, based, planetary, pos...   \n",
       "\n",
       "                                         rawFeatures  \\\n",
       "0  (0.0, 0.0, 0.0, 0.0, 0.0, 0.0, 0.0, 0.0, 0.0, ...   \n",
       "1  (0.0, 0.0, 0.0, 0.0, 0.0, 0.0, 0.0, 0.0, 0.0, ...   \n",
       "2  (0.0, 0.0, 0.0, 1.0, 0.0, 0.0, 0.0, 0.0, 0.0, ...   \n",
       "3  (0.0, 0.0, 0.0, 0.0, 0.0, 0.0, 0.0, 0.0, 0.0, ...   \n",
       "4  (0.0, 0.0, 0.0, 0.0, 0.0, 0.0, 1.0, 0.0, 0.0, ...   \n",
       "\n",
       "                                            features  \n",
       "0  (0.0, 0.0, 0.0, 0.0, 0.0, 0.0, 0.0, 0.0, 0.0, ...  \n",
       "1  (0.0, 0.0, 0.0, 0.0, 0.0, 0.0, 0.0, 0.0, 0.0, ...  \n",
       "2  (0.0, 0.0, 0.0, 2.5495880082634943, 0.0, 0.0, ...  \n",
       "3  (0.0, 0.0, 0.0, 0.0, 0.0, 0.0, 0.0, 0.0, 0.0, ...  \n",
       "4  (0.0, 0.0, 0.0, 0.0, 0.0, 0.0, 2.8278674404545...  \n",
       "\n",
       "[5 rows x 22 columns]"
      ]
     },
     "execution_count": 33,
     "metadata": {},
     "output_type": "execute_result"
    }
   ],
   "source": [
    "%%time\n",
    "print(\n",
    "    \"Number of rows in processed data, after filtering tweets by length and\"\n",
    "    f\" removing duplicates = {n_rows_proc:,}\"\n",
    ")\n",
    "show_pyspark_df(df_text_processed_cached, 5)"
   ]
  },
  {
   "cell_type": "markdown",
   "id": "9f36f8ef",
   "metadata": {},
   "source": [
    "Get a random sample of the processed data"
   ]
  },
  {
   "cell_type": "code",
   "execution_count": 34,
   "id": "af15858d",
   "metadata": {},
   "outputs": [
    {
     "data": {
      "text/html": [
       "<div>\n",
       "<style scoped>\n",
       "    .dataframe tbody tr th:only-of-type {\n",
       "        vertical-align: middle;\n",
       "    }\n",
       "\n",
       "    .dataframe tbody tr th {\n",
       "        vertical-align: top;\n",
       "    }\n",
       "\n",
       "    .dataframe thead th {\n",
       "        text-align: right;\n",
       "    }\n",
       "</style>\n",
       "<table border=\"1\" class=\"dataframe\">\n",
       "  <thead>\n",
       "    <tr style=\"text-align: right;\">\n",
       "      <th></th>\n",
       "      <th>document</th>\n",
       "      <th>reviewText</th>\n",
       "    </tr>\n",
       "  </thead>\n",
       "  <tbody>\n",
       "    <tr>\n",
       "      <th>0</th>\n",
       "      <td>467237</td>\n",
       "      <td>\" mes. Among Us takes place in a space-themed setting where players look like colorful armless cartoon astronauts; however, since the release of \"\"The Skeld\"\" spaceship</td>\n",
       "    </tr>\n",
       "    <tr>\n",
       "      <th>1</th>\n",
       "      <td>518669</td>\n",
       "      <td>\"  No \"\"funding secured\"\"No Hertz deal (the pump which Musk and directors sold shares into) No RobotaxisNo SemiNo CybertruckNo flying RoadsterNo ventilatorsNo Boring bricksNo RNA Bioreactor or vaccines If Musk isn't an all time hall of fame fraudster then who is?\"</td>\n",
       "    </tr>\n",
       "    <tr>\n",
       "      <th>2</th>\n",
       "      <td>598575</td>\n",
       "      <td>\" One of the best YouTube comments I ever saw was on a track from that score. \"\"This reminds me of 'Nam...on fucking Neptune!\"\" This was somehow completely apt and written years before Lynn Novick went on to use the music in her Vietnam doc with Ken Burns.\"</td>\n",
       "    </tr>\n",
       "    <tr>\n",
       "      <th>3</th>\n",
       "      <td>286559</td>\n",
       "      <td>\" what do physicists mean when they talk about something being \"\"dark?\"\"How are dark matter and dark energy different \"\"things\"\"? Can we infer to their existence through different kinds of phenomena? Do they bump in the night with stuff we can see in different ways.\"</td>\n",
       "    </tr>\n",
       "    <tr>\n",
       "      <th>4</th>\n",
       "      <td>506802</td>\n",
       "      <td>\"Aa a rule of thumb, if an article's headline is a question, the answer is \"\"no\"\". Have scientists finally found a cure fo-- no.Did NASA just find life on-- no.If the news being referenced was proven or true</td>\n",
       "    </tr>\n",
       "    <tr>\n",
       "      <th>5</th>\n",
       "      <td>88062</td>\n",
       "      <td>‘Now’ is gift. So it calls ‘present’ Happy New Year 2022 New chapter of life is comingAnd I love u to the Pluto &amp;amp; back Khalessi 01.01.2022</td>\n",
       "    </tr>\n",
       "    <tr>\n",
       "      <th>6</th>\n",
       "      <td>97460</td>\n",
       "      <td>\"So I think the weird looking thing must be dust. pretty sure these images are scans of old plates. but this would make a cool sci-fi prompt\"\"They saw it flying between the stars...\"\"\"</td>\n",
       "    </tr>\n",
       "    <tr>\n",
       "      <th>7</th>\n",
       "      <td>162157</td>\n",
       "      <td>Étienne Léopold Trouvelot (1827–1895) was a French artist and astronomer who was working in the United States. He made more than 7000 astronomical drawings. 15 of the best of the drawings were produced as chromolithographs, and the set was published in 1881.</td>\n",
       "    </tr>\n",
       "    <tr>\n",
       "      <th>8</th>\n",
       "      <td>398514</td>\n",
       "      <td>As far as egging for a fight - someone else did. I didn't question his career; I even congratulated him on his success. What I didn't do was to elude that I was an astronaut because I visited Kennedy Space Center. PW isn't a sport - that's just a fact. Hits are pulled is another</td>\n",
       "    </tr>\n",
       "    <tr>\n",
       "      <th>9</th>\n",
       "      <td>445849</td>\n",
       "      <td>as long as it plays littlebigplanet and shadow of the colossus at 60fps its fucking nasa to mei havent personally tried unleashed on rpcs3 because im lazy and cant be bothered to rip my copy but ill take your word for it</td>\n",
       "    </tr>\n",
       "    <tr>\n",
       "      <th>10</th>\n",
       "      <td>531797</td>\n",
       "      <td>Brrr, we are in the deep freeze right now with temperatures ranging from -25°C to -35°C for at least a couple more days.Cold is relative though:Dry Ice is -78°C and liquid nitrogen is -196°C.Mars is on average -80°C, Space is -270°C.</td>\n",
       "    </tr>\n",
       "    <tr>\n",
       "      <th>11</th>\n",
       "      <td>473521</td>\n",
       "      <td>But they don't have a vehicle for that? SpaceX started their design ~5 years ago and could probably fly their ships for thus purpose by 2023</td>\n",
       "    </tr>\n",
       "    <tr>\n",
       "      <th>12</th>\n",
       "      <td>109303</td>\n",
       "      <td>California Dreaming - The  is an incredibly deceiving number. The California Nebula is only 1000 light-years away, yet it translates to over 5 quadrillion miles - that’s 1000 trillion miles. The wonders of  will never fail to amaze me</td>\n",
       "    </tr>\n",
       "    <tr>\n",
       "      <th>13</th>\n",
       "      <td>291359</td>\n",
       "      <td>Calling all  and  folks  My department is looking to hire a science writer. We work in the translational and clinical space with some of the best scientists in the world. In the past 2 years, our office has brought in &amp;gt;$20M in funding + we are super cool</td>\n",
       "    </tr>\n",
       "    <tr>\n",
       "      <th>14</th>\n",
       "      <td>614704</td>\n",
       "      <td>CDC, I humbly request that you review the failings of NASA's Challenger mission and actively take steps to avoid the same cognitive issues that plagued it that result in those astronauts' deaths.  Groupthink is a bitch and you have it bad.</td>\n",
       "    </tr>\n",
       "    <tr>\n",
       "      <th>15</th>\n",
       "      <td>37939</td>\n",
       "      <td>Climate modelling is not the same as trying to judge the fickle weather. If you don't understand this then you don't understand what you want to challenge.</td>\n",
       "    </tr>\n",
       "    <tr>\n",
       "      <th>16</th>\n",
       "      <td>181658</td>\n",
       "      <td>Day 3 of the new year and as we quietly wait for the Space Alien Scientists to admit the Covid-19 virus is the result of one of them peeing in the pool while vacationing on Earth, they continue to monitor us to see what ultimately happens.Because you know,…Science!</td>\n",
       "    </tr>\n",
       "    <tr>\n",
       "      <th>17</th>\n",
       "      <td>62645</td>\n",
       "      <td>Did you think about astronauts with the name Alexa during your three years development process? Are they excluded from future NASA space missions, because calling them would confuse the voice control on board?</td>\n",
       "    </tr>\n",
       "    <tr>\n",
       "      <th>18</th>\n",
       "      <td>310928</td>\n",
       "      <td>Discipline, consistency and patience are important for you this new moon. If you have been seeing 1212 or 1222, or see either numbers shortly after reading this, take it as confirmation this message is meant for you. Applies to Moon, Rising, Venus and Saturn Placements.</td>\n",
       "    </tr>\n",
       "    <tr>\n",
       "      <th>19</th>\n",
       "      <td>143982</td>\n",
       "      <td>Do your Research, Do you have any idea what is behind the Big Push For Vaxxs.  I made a statement on another platform and the next day  NASA issued an official statement confirming my statement. Now get yourself informed correctly, u obviously have no idea what we're dealing with</td>\n",
       "    </tr>\n",
       "    <tr>\n",
       "      <th>20</th>\n",
       "      <td>359189</td>\n",
       "      <td>Dr Vernikos and her team at NASA laid the foundational research to inform us how harmful lack of gravitational stimulation is even in healthy astronauts! Her work underpins our goals to keep patients moving!!!</td>\n",
       "    </tr>\n",
       "    <tr>\n",
       "      <th>21</th>\n",
       "      <td>119451</td>\n",
       "      <td>Each individual Fox-owned local station is a different licenseThey would not have a good case to go after the affiliatesThere is NO FCC license for the Fox(or any other) cable/satellite only networks.</td>\n",
       "    </tr>\n",
       "    <tr>\n",
       "      <th>22</th>\n",
       "      <td>348533</td>\n",
       "      <td>Genuinely the best take I've heard of what exactly Elon's position is. Being so interested and following the spaceflight industry so closely, it's obvious that SpaceX's engineers are truly the smartest people to ever walk this earth and not their CEO.</td>\n",
       "    </tr>\n",
       "    <tr>\n",
       "      <th>23</th>\n",
       "      <td>494879</td>\n",
       "      <td>Good Morning  I have an design to generate unlimited power. that is capable of taking off any means of transport created by humanity to the Moon and Mars.</td>\n",
       "    </tr>\n",
       "    <tr>\n",
       "      <th>24</th>\n",
       "      <td>499339</td>\n",
       "      <td>Hehehe did seven hard years on about that budget only 30000 less but got a life time to talk about that nobody wants to hear but I have a good believeing it and happier then the dog shit on my shoes that I made it out alive lil dementia but that goes with PTSD and cte so walk</td>\n",
       "    </tr>\n",
       "    <tr>\n",
       "      <th>25</th>\n",
       "      <td>265288</td>\n",
       "      <td>Here's where the science fiction part comes in. If you were a Martian looking through a telescope at Earth, it would not be obvious to you that these new weaving machines should benefit factory owners, rather than workers. There's nothing inevitable about that arrangement. 7/</td>\n",
       "    </tr>\n",
       "    <tr>\n",
       "      <th>26</th>\n",
       "      <td>312004</td>\n",
       "      <td>I always use The Beatles as a marker of time. Born in 1890 makes you 70 when the Beatles hit the scene. You’re already 49 when WW2 breaks out. Born pre-flight and lived to see the space station. I can think of something that didn’t change though…</td>\n",
       "    </tr>\n",
       "    <tr>\n",
       "      <th>27</th>\n",
       "      <td>253221</td>\n",
       "      <td>i shoukd do an intro slayim saturn, im a trans girl, im 14, i use she/her pronouns, im omni. im quite similar to my source and ill make a drawing of myself and upload it later because i think i can  and im gonna</td>\n",
       "    </tr>\n",
       "    <tr>\n",
       "      <th>28</th>\n",
       "      <td>595411</td>\n",
       "      <td>if i ever make a game i want it to be like...p3/smt/n64 aesthetic/saturn shooter or rpgit's a lot but my dream game is something i think a lot about</td>\n",
       "    </tr>\n",
       "    <tr>\n",
       "      <th>29</th>\n",
       "      <td>302318</td>\n",
       "      <td>If you'd ever want to do deep background to play an underestimated female rocket scientist from the official, honest-to-goodness  in an upcoming project, I know a gal. Seriously.</td>\n",
       "    </tr>\n",
       "    <tr>\n",
       "      <th>30</th>\n",
       "      <td>47808</td>\n",
       "      <td>Illustration of a neutron star merger by Martina PepicielloWhen two neutron stars orbit each other closely, they spiral inward because they lose energy by emitting gravitational waves. [ read thread to learn more]</td>\n",
       "    </tr>\n",
       "    <tr>\n",
       "      <th>31</th>\n",
       "      <td>467721</td>\n",
       "      <td>Images of the Red Planet beamed back by the Mars Reconnaissance Orbiter. These images show the diverse landscapes of Mars, including rock faults, polar dune fields, impact craters, valleys, and ice sheets.( NASA)</td>\n",
       "    </tr>\n",
       "    <tr>\n",
       "      <th>32</th>\n",
       "      <td>93648</td>\n",
       "      <td>Imagine we build a NASA exploration ship every 5 years, rev-1 very COTS, for Cislunar/NEA/Lagrange use, goal is to be a pathfinder, set up fuel depots etc.</td>\n",
       "    </tr>\n",
       "    <tr>\n",
       "      <th>33</th>\n",
       "      <td>492145</td>\n",
       "      <td>in Hubble history…Servicing Mission 3A launched in 1999 to “wake up” Hubble after the telescope switched into safe mode following the failures of four of its six gyroscopes.Learn how the crew rescued Hubble:</td>\n",
       "    </tr>\n",
       "    <tr>\n",
       "      <th>34</th>\n",
       "      <td>16398</td>\n",
       "      <td>In the middle of son of Neptune by rick riordan , the ask and the answer by Patrick ness, sparkling cyanide by Agatha Christie and the well of ascension by Brandon Sanderson</td>\n",
       "    </tr>\n",
       "    <tr>\n",
       "      <th>35</th>\n",
       "      <td>456879</td>\n",
       "      <td>Iranian Satellites to guide Cruise, Ballistic Missiles &amp;amp; Drones, to monitor Enemy Jets before Takeoff, support  Navy Forces and help in detection of Naval Threat. Ballistic Missiles &amp;amp; Drones in last Drill were very accurate, now there are Satellite guided Ballistic Missiles.</td>\n",
       "    </tr>\n",
       "    <tr>\n",
       "      <th>36</th>\n",
       "      <td>173200</td>\n",
       "      <td>It is time to switch to  !wiki international space station!yt cat videos!stackoverflow dates in javascript!i shocked pikachu meme!g if all else fails, google it(there are 13,000+ !bang commands in DDG</td>\n",
       "    </tr>\n",
       "    <tr>\n",
       "      <th>37</th>\n",
       "      <td>314964</td>\n",
       "      <td>It's been a while but I think I flew into Calgary and then there was a shuttle that went to Banff. It was maybe $100-$150 for the shuttle round trip?</td>\n",
       "    </tr>\n",
       "    <tr>\n",
       "      <th>38</th>\n",
       "      <td>523839</td>\n",
       "      <td>James Corbett, Whitney Webb, Ryan Cristian are just 3 of the many journalists who have fought this cause and who have been censored since the beginning of this ‘pandemic’. Joe Rogan is well behind the news but still glad he’s doing what he’s doing.</td>\n",
       "    </tr>\n",
       "    <tr>\n",
       "      <th>39</th>\n",
       "      <td>166464</td>\n",
       "      <td>Jupiter in Pisces will hopefully help with all of that! That’s exactly the kind of thing Chani Nicholas has been talking about on her little week ahead podcasts and in the year ahead recordings on her app, and after the past couple of years, I’m all for it</td>\n",
       "    </tr>\n",
       "    <tr>\n",
       "      <th>40</th>\n",
       "      <td>526802</td>\n",
       "      <td>Married friends: “Why are you still single?”Me: “I haven’t found someone whose company I prefer to my own yet. When you find a woman who wants to discuss astrophysics, liberty politics, comic books, video games, &amp;amp; writing, ping me. Big boobs optional but preferred.”You asked.</td>\n",
       "    </tr>\n",
       "    <tr>\n",
       "      <th>41</th>\n",
       "      <td>591136</td>\n",
       "      <td>moon:⭒in gemini, nether dignified nor debilitated, but configured by degree to their inceptional moon⭒angular, quite prominent⭒opposing mcs, absolute dealbreaker️⭒trine saturn (&amp;amp;mercury), better to not be configured to malefics⭒square chart ruler</td>\n",
       "    </tr>\n",
       "    <tr>\n",
       "      <th>42</th>\n",
       "      <td>208865</td>\n",
       "      <td>More than ever before, smart and creative partnerships will be what keep the arts stable as the pandemic persists. This is fantastic  and  I can't wait to check out the new space!</td>\n",
       "    </tr>\n",
       "    <tr>\n",
       "      <th>43</th>\n",
       "      <td>450219</td>\n",
       "      <td>My discernmentEMF is an infinite reach of laminar plasma cavitation structure in the theorized dark matter.Magnetic field ripples collapse in on themselves with distance, but accumulate as a plasma field cavitation fractal on a large scale as EMF tethers</td>\n",
       "    </tr>\n",
       "    <tr>\n",
       "      <th>44</th>\n",
       "      <td>154952</td>\n",
       "      <td>My medium article is up &amp;amp; floating around for you to read. It might give useful perspectives to anyone trying to have a taste of web3 and transition into this space.Awaiting criticisms and suggestions.Happy reading Wine glass</td>\n",
       "    </tr>\n",
       "    <tr>\n",
       "      <th>45</th>\n",
       "      <td>407148</td>\n",
       "      <td>NASA successfully deploys complex sunshield on James Webb Space Telescope - The VergeSuper work ⁦⁦ !! The journey has just begun but this is a big step in a years long voyage. Stay frosty and keep up the fabulous work.</td>\n",
       "    </tr>\n",
       "    <tr>\n",
       "      <th>46</th>\n",
       "      <td>234708</td>\n",
       "      <td>Part of the reason the media have been so compliant over the last 2 years is that it hides the fact that 99% of them are scientifically illiterate &amp;amp;couldn’t tell the difference between alchemy &amp;amp;chemistry,or astronomy and astrology.Much easier to be a talking useful village idiot</td>\n",
       "    </tr>\n",
       "    <tr>\n",
       "      <th>47</th>\n",
       "      <td>254456</td>\n",
       "      <td>picked Ariel, the Angel ruler of Earth and air elements, the planet Pluto and the amethyst-purple ray crystalthis card is of psychic awakening or enhancing mystery, and healing</td>\n",
       "    </tr>\n",
       "    <tr>\n",
       "      <th>48</th>\n",
       "      <td>200040</td>\n",
       "      <td>Preparations are in full swing ahead of Prime Minister  visit to the border town of Ferozepur in  on January 5 for laying the foundation stone for the  satellite centre, an official statement said.</td>\n",
       "    </tr>\n",
       "    <tr>\n",
       "      <th>49</th>\n",
       "      <td>116003</td>\n",
       "      <td>Sag sun, Aries moon, Aqua rising, 1H Pisces Saturn, Cap Venus conjunct Mars, Cap Neptune conjunct Uranus. My personal acct, eclectic interests. (astrology, art, pop culture, anything that makes me laugh, existential stuff, self care)</td>\n",
       "    </tr>\n",
       "    <tr>\n",
       "      <th>50</th>\n",
       "      <td>420779</td>\n",
       "      <td>saturn, moon &amp;amp; mercury are all conjunct in aquarius today... listen to the way you speak to yourself &amp;amp; the way you think about yourself...work on healing those self doubt patterns &amp;amp; accepting your eccentricities so you can take action toward your goals as authentically a possible</td>\n",
       "    </tr>\n",
       "    <tr>\n",
       "      <th>51</th>\n",
       "      <td>388190</td>\n",
       "      <td>Send Your Name to Mars  Today all the Soviet pigeon they make a pact of alliance with the Martian pigeons. In honor of this great day all of us pigeons beautiful or not are invited to send our name to the red planet</td>\n",
       "    </tr>\n",
       "    <tr>\n",
       "      <th>52</th>\n",
       "      <td>273268</td>\n",
       "      <td>That lucky break you've been working towards arrives and you could see doors swing wide open with the Aquarius Moon conjunct expansion-bringing Jupiter. Manifest your dreams and desires. You are blessed!</td>\n",
       "    </tr>\n",
       "    <tr>\n",
       "      <th>53</th>\n",
       "      <td>350137</td>\n",
       "      <td>That's fine to have that opinion. You can still dislike someone and admit that they have a good company though. Tesla and SpaceX both are revolutionizing industries with things that have never been done before, but that need to be done.</td>\n",
       "    </tr>\n",
       "    <tr>\n",
       "      <th>54</th>\n",
       "      <td>109062</td>\n",
       "      <td>Theoretical Sciences Departmental Webinar on 06-01-2022 by Dr. Suddhasattwa Brahma, Higgs Fellow, School of Physics &amp;amp; Astronomy, University of Edinburgh - From abstract matrix models to observations in the sky.Webinar link:</td>\n",
       "    </tr>\n",
       "    <tr>\n",
       "      <th>55</th>\n",
       "      <td>162933</td>\n",
       "      <td>There are about 7 airlines in each terminal, plus the people that work for the actual terminal, viscount Northem, CDF, T3 satellite, Vista Cargo, North and south fire house, ect. And   only has ONE pass office for the abundance of workers that work in this complex?</td>\n",
       "    </tr>\n",
       "    <tr>\n",
       "      <th>56</th>\n",
       "      <td>136181</td>\n",
       "      <td>TIL that in 2002 NASA interns stole Moon Rocks worth $30 million, then drove to a motel and had sex on them, before trying to sell them to an amateur mineralogist from belgium -  (POST_EXCERPT}</td>\n",
       "    </tr>\n",
       "    <tr>\n",
       "      <th>57</th>\n",
       "      <td>27401</td>\n",
       "      <td>Violet contemplating the  Steampunk Bull while I finish the 1st layer of the next painting composed of various steampunk AI infused images including a 5 year  share price chart,  rocket launch, Twitter logo and a little 420 'flavour'. Can you spot them all?</td>\n",
       "    </tr>\n",
       "  </tbody>\n",
       "</table>\n",
       "</div>"
      ],
      "text/plain": [
       "    document  \\\n",
       "0     467237   \n",
       "1     518669   \n",
       "2     598575   \n",
       "3     286559   \n",
       "4     506802   \n",
       "5      88062   \n",
       "6      97460   \n",
       "7     162157   \n",
       "8     398514   \n",
       "9     445849   \n",
       "10    531797   \n",
       "11    473521   \n",
       "12    109303   \n",
       "13    291359   \n",
       "14    614704   \n",
       "15     37939   \n",
       "16    181658   \n",
       "17     62645   \n",
       "18    310928   \n",
       "19    143982   \n",
       "20    359189   \n",
       "21    119451   \n",
       "22    348533   \n",
       "23    494879   \n",
       "24    499339   \n",
       "25    265288   \n",
       "26    312004   \n",
       "27    253221   \n",
       "28    595411   \n",
       "29    302318   \n",
       "30     47808   \n",
       "31    467721   \n",
       "32     93648   \n",
       "33    492145   \n",
       "34     16398   \n",
       "35    456879   \n",
       "36    173200   \n",
       "37    314964   \n",
       "38    523839   \n",
       "39    166464   \n",
       "40    526802   \n",
       "41    591136   \n",
       "42    208865   \n",
       "43    450219   \n",
       "44    154952   \n",
       "45    407148   \n",
       "46    234708   \n",
       "47    254456   \n",
       "48    200040   \n",
       "49    116003   \n",
       "50    420779   \n",
       "51    388190   \n",
       "52    273268   \n",
       "53    350137   \n",
       "54    109062   \n",
       "55    162933   \n",
       "56    136181   \n",
       "57     27401   \n",
       "\n",
       "                                                                                                                                                                                                                                                                                                                               reviewText  \n",
       "0                                                                                                                                                                \" mes. Among Us takes place in a space-themed setting where players look like colorful armless cartoon astronauts; however, since the release of \"\"The Skeld\"\" spaceship  \n",
       "1                                                                \"  No \"\"funding secured\"\"No Hertz deal (the pump which Musk and directors sold shares into) No RobotaxisNo SemiNo CybertruckNo flying RoadsterNo ventilatorsNo Boring bricksNo RNA Bioreactor or vaccines If Musk isn't an all time hall of fame fraudster then who is?\"  \n",
       "2                                                                       \" One of the best YouTube comments I ever saw was on a track from that score. \"\"This reminds me of 'Nam...on fucking Neptune!\"\" This was somehow completely apt and written years before Lynn Novick went on to use the music in her Vietnam doc with Ken Burns.\"  \n",
       "3                                                             \" what do physicists mean when they talk about something being \"\"dark?\"\"How are dark matter and dark energy different \"\"things\"\"? Can we infer to their existence through different kinds of phenomena? Do they bump in the night with stuff we can see in different ways.\"  \n",
       "4                                                                                                                         \"Aa a rule of thumb, if an article's headline is a question, the answer is \"\"no\"\". Have scientists finally found a cure fo-- no.Did NASA just find life on-- no.If the news being referenced was proven or true  \n",
       "5                                                                                                                                                                                          ‘Now’ is gift. So it calls ‘present’ Happy New Year 2022 New chapter of life is comingAnd I love u to the Pluto &amp; back Khalessi 01.01.2022  \n",
       "6                                                                                                                                                \"So I think the weird looking thing must be dust. pretty sure these images are scans of old plates. but this would make a cool sci-fi prompt\"\"They saw it flying between the stars...\"\"\"  \n",
       "7                                                                      Étienne Léopold Trouvelot (1827–1895) was a French artist and astronomer who was working in the United States. He made more than 7000 astronomical drawings. 15 of the best of the drawings were produced as chromolithographs, and the set was published in 1881.  \n",
       "8                                                 As far as egging for a fight - someone else did. I didn't question his career; I even congratulated him on his success. What I didn't do was to elude that I was an astronaut because I visited Kennedy Space Center. PW isn't a sport - that's just a fact. Hits are pulled is another  \n",
       "9                                                                                                            as long as it plays littlebigplanet and shadow of the colossus at 60fps its fucking nasa to mei havent personally tried unleashed on rpcs3 because im lazy and cant be bothered to rip my copy but ill take your word for it  \n",
       "10                                                                                              Brrr, we are in the deep freeze right now with temperatures ranging from -25°C to -35°C for at least a couple more days.Cold is relative though:Dry Ice is -78°C and liquid nitrogen is -196°C.Mars is on average -80°C, Space is -270°C.  \n",
       "11                                                                                                                                                                                           But they don't have a vehicle for that? SpaceX started their design ~5 years ago and could probably fly their ships for thus purpose by 2023  \n",
       "12                                                                                             California Dreaming - The  is an incredibly deceiving number. The California Nebula is only 1000 light-years away, yet it translates to over 5 quadrillion miles - that’s 1000 trillion miles. The wonders of  will never fail to amaze me  \n",
       "13                                                                      Calling all  and  folks  My department is looking to hire a science writer. We work in the translational and clinical space with some of the best scientists in the world. In the past 2 years, our office has brought in &gt;$20M in funding + we are super cool  \n",
       "14                                                                                        CDC, I humbly request that you review the failings of NASA's Challenger mission and actively take steps to avoid the same cognitive issues that plagued it that result in those astronauts' deaths.  Groupthink is a bitch and you have it bad.  \n",
       "15                                                                                                                                                                            Climate modelling is not the same as trying to judge the fickle weather. If you don't understand this then you don't understand what you want to challenge.  \n",
       "16                                                              Day 3 of the new year and as we quietly wait for the Space Alien Scientists to admit the Covid-19 virus is the result of one of them peeing in the pool while vacationing on Earth, they continue to monitor us to see what ultimately happens.Because you know,…Science!  \n",
       "17                                                                                                                      Did you think about astronauts with the name Alexa during your three years development process? Are they excluded from future NASA space missions, because calling them would confuse the voice control on board?  \n",
       "18                                                         Discipline, consistency and patience are important for you this new moon. If you have been seeing 1212 or 1222, or see either numbers shortly after reading this, take it as confirmation this message is meant for you. Applies to Moon, Rising, Venus and Saturn Placements.  \n",
       "19                                               Do your Research, Do you have any idea what is behind the Big Push For Vaxxs.  I made a statement on another platform and the next day  NASA issued an official statement confirming my statement. Now get yourself informed correctly, u obviously have no idea what we're dealing with  \n",
       "20                                                                                                                      Dr Vernikos and her team at NASA laid the foundational research to inform us how harmful lack of gravitational stimulation is even in healthy astronauts! Her work underpins our goals to keep patients moving!!!  \n",
       "21                                                                                                                               Each individual Fox-owned local station is a different licenseThey would not have a good case to go after the affiliatesThere is NO FCC license for the Fox(or any other) cable/satellite only networks.  \n",
       "22                                                                            Genuinely the best take I've heard of what exactly Elon's position is. Being so interested and following the spaceflight industry so closely, it's obvious that SpaceX's engineers are truly the smartest people to ever walk this earth and not their CEO.  \n",
       "23                                                                                                                                                                             Good Morning  I have an design to generate unlimited power. that is capable of taking off any means of transport created by humanity to the Moon and Mars.  \n",
       "24                                                   Hehehe did seven hard years on about that budget only 30000 less but got a life time to talk about that nobody wants to hear but I have a good believeing it and happier then the dog shit on my shoes that I made it out alive lil dementia but that goes with PTSD and cte so walk  \n",
       "25                                                   Here's where the science fiction part comes in. If you were a Martian looking through a telescope at Earth, it would not be obvious to you that these new weaving machines should benefit factory owners, rather than workers. There's nothing inevitable about that arrangement. 7/  \n",
       "26                                                                                 I always use The Beatles as a marker of time. Born in 1890 makes you 70 when the Beatles hit the scene. You’re already 49 when WW2 breaks out. Born pre-flight and lived to see the space station. I can think of something that didn’t change though…  \n",
       "27                                                                                                                    i shoukd do an intro slayim saturn, im a trans girl, im 14, i use she/her pronouns, im omni. im quite similar to my source and ill make a drawing of myself and upload it later because i think i can  and im gonna  \n",
       "28                                                                                                                                                                                   if i ever make a game i want it to be like...p3/smt/n64 aesthetic/saturn shooter or rpgit's a lot but my dream game is something i think a lot about  \n",
       "29                                                                                                                                                     If you'd ever want to do deep background to play an underestimated female rocket scientist from the official, honest-to-goodness  in an upcoming project, I know a gal. Seriously.  \n",
       "30                                                                                                                  Illustration of a neutron star merger by Martina PepicielloWhen two neutron stars orbit each other closely, they spiral inward because they lose energy by emitting gravitational waves. [ read thread to learn more]  \n",
       "31                                                                                                                   Images of the Red Planet beamed back by the Mars Reconnaissance Orbiter. These images show the diverse landscapes of Mars, including rock faults, polar dune fields, impact craters, valleys, and ice sheets.( NASA)  \n",
       "32                                                                                                                                                                            Imagine we build a NASA exploration ship every 5 years, rev-1 very COTS, for Cislunar/NEA/Lagrange use, goal is to be a pathfinder, set up fuel depots etc.  \n",
       "33                                                                                                                        in Hubble history…Servicing Mission 3A launched in 1999 to “wake up” Hubble after the telescope switched into safe mode following the failures of four of its six gyroscopes.Learn how the crew rescued Hubble:  \n",
       "34                                                                                                                                                          In the middle of son of Neptune by rick riordan , the ask and the answer by Patrick ness, sparkling cyanide by Agatha Christie and the well of ascension by Brandon Sanderson  \n",
       "35                                            Iranian Satellites to guide Cruise, Ballistic Missiles &amp; Drones, to monitor Enemy Jets before Takeoff, support  Navy Forces and help in detection of Naval Threat. Ballistic Missiles &amp; Drones in last Drill were very accurate, now there are Satellite guided Ballistic Missiles.  \n",
       "36                                                                                                                               It is time to switch to  !wiki international space station!yt cat videos!stackoverflow dates in javascript!i shocked pikachu meme!g if all else fails, google it(there are 13,000+ !bang commands in DDG  \n",
       "37                                                                                                                                                                                  It's been a while but I think I flew into Calgary and then there was a shuttle that went to Banff. It was maybe $100-$150 for the shuttle round trip?  \n",
       "38                                                                               James Corbett, Whitney Webb, Ryan Cristian are just 3 of the many journalists who have fought this cause and who have been censored since the beginning of this ‘pandemic’. Joe Rogan is well behind the news but still glad he’s doing what he’s doing.  \n",
       "39                                                                       Jupiter in Pisces will hopefully help with all of that! That’s exactly the kind of thing Chani Nicholas has been talking about on her little week ahead podcasts and in the year ahead recordings on her app, and after the past couple of years, I’m all for it  \n",
       "40                                               Married friends: “Why are you still single?”Me: “I haven’t found someone whose company I prefer to my own yet. When you find a woman who wants to discuss astrophysics, liberty politics, comic books, video games, &amp; writing, ping me. Big boobs optional but preferred.”You asked.  \n",
       "41                                                                             moon:⭒in gemini, nether dignified nor debilitated, but configured by degree to their inceptional moon⭒angular, quite prominent⭒opposing mcs, absolute dealbreaker️⭒trine saturn (&amp;mercury), better to not be configured to malefics⭒square chart ruler  \n",
       "42                                                                                                                                                    More than ever before, smart and creative partnerships will be what keep the arts stable as the pandemic persists. This is fantastic  and  I can't wait to check out the new space!  \n",
       "43                                                                         My discernmentEMF is an infinite reach of laminar plasma cavitation structure in the theorized dark matter.Magnetic field ripples collapse in on themselves with distance, but accumulate as a plasma field cavitation fractal on a large scale as EMF tethers  \n",
       "44                                                                                                  My medium article is up &amp; floating around for you to read. It might give useful perspectives to anyone trying to have a taste of web3 and transition into this space.Awaiting criticisms and suggestions.Happy reading Wine glass  \n",
       "45                                                                                                             NASA successfully deploys complex sunshield on James Webb Space Telescope - The VergeSuper work ⁦⁦ !! The journey has just begun but this is a big step in a years long voyage. Stay frosty and keep up the fabulous work.  \n",
       "46                                        Part of the reason the media have been so compliant over the last 2 years is that it hides the fact that 99% of them are scientifically illiterate &amp;couldn’t tell the difference between alchemy &amp;chemistry,or astronomy and astrology.Much easier to be a talking useful village idiot  \n",
       "47                                                                                                                                                       picked Ariel, the Angel ruler of Earth and air elements, the planet Pluto and the amethyst-purple ray crystalthis card is of psychic awakening or enhancing mystery, and healing  \n",
       "48                                                                                                                                  Preparations are in full swing ahead of Prime Minister  visit to the border town of Ferozepur in  on January 5 for laying the foundation stone for the  satellite centre, an official statement said.  \n",
       "49                                                                                              Sag sun, Aries moon, Aqua rising, 1H Pisces Saturn, Cap Venus conjunct Mars, Cap Neptune conjunct Uranus. My personal acct, eclectic interests. (astrology, art, pop culture, anything that makes me laugh, existential stuff, self care)  \n",
       "50                                   saturn, moon &amp; mercury are all conjunct in aquarius today... listen to the way you speak to yourself &amp; the way you think about yourself...work on healing those self doubt patterns &amp; accepting your eccentricities so you can take action toward your goals as authentically a possible  \n",
       "51                                                                                                                Send Your Name to Mars  Today all the Soviet pigeon they make a pact of alliance with the Martian pigeons. In honor of this great day all of us pigeons beautiful or not are invited to send our name to the red planet  \n",
       "52                                                                                                                            That lucky break you've been working towards arrives and you could see doors swing wide open with the Aquarius Moon conjunct expansion-bringing Jupiter. Manifest your dreams and desires. You are blessed!  \n",
       "53                                                                                           That's fine to have that opinion. You can still dislike someone and admit that they have a good company though. Tesla and SpaceX both are revolutionizing industries with things that have never been done before, but that need to be done.  \n",
       "54                                                                                                    Theoretical Sciences Departmental Webinar on 06-01-2022 by Dr. Suddhasattwa Brahma, Higgs Fellow, School of Physics &amp; Astronomy, University of Edinburgh - From abstract matrix models to observations in the sky.Webinar link:  \n",
       "55                                                              There are about 7 airlines in each terminal, plus the people that work for the actual terminal, viscount Northem, CDF, T3 satellite, Vista Cargo, North and south fire house, ect. And   only has ONE pass office for the abundance of workers that work in this complex?  \n",
       "56                                                                                                                                      TIL that in 2002 NASA interns stole Moon Rocks worth $30 million, then drove to a motel and had sex on them, before trying to sell them to an amateur mineralogist from belgium -  (POST_EXCERPT}  \n",
       "57                                                                      Violet contemplating the  Steampunk Bull while I finish the 1st layer of the next painting composed of various steampunk AI infused images including a 5 year  share price chart,  rocket launch, Twitter logo and a little 420 'flavour'. Can you spot them all?  "
      ]
     },
     "metadata": {},
     "output_type": "display_data"
    },
    {
     "name": "stdout",
     "output_type": "stream",
     "text": [
      "CPU times: user 27.4 ms, sys: 3.23 ms, total: 30.7 ms\n",
      "Wall time: 300 ms\n"
     ]
    }
   ],
   "source": [
    "%%time\n",
    "df_sample = df_text_processed_cached.sample(withReplacement=False, fraction=50 / n_rows_proc).toPandas()\n",
    "with pd_option_context(\"display.max_rows\", 200):\n",
    "    with pd_option_context(\"display.max_colwidth\", 1_000):\n",
    "        display(df_sample[[\"document\", \"reviewText\"]])"
   ]
  },
  {
   "cell_type": "markdown",
   "id": "b980ea28",
   "metadata": {},
   "source": [
    "## Topic Model Training"
   ]
  },
  {
   "cell_type": "markdown",
   "id": "a4e06c90",
   "metadata": {},
   "source": [
    "We'll now perform the quantitative analysis, which will be limited to unsupervised ML using the Latent Dirichlet Allocation (LDA) algorithm. It is implemented in PySpark ML and that implementation will be used here. Limitations of this choice are discussed in the **Conclusions and Future Work** section."
   ]
  },
  {
   "cell_type": "markdown",
   "id": "8d0bbb1a",
   "metadata": {},
   "source": [
    "### LDA"
   ]
  },
  {
   "cell_type": "markdown",
   "id": "6956dc75",
   "metadata": {},
   "source": [
    "We'll define a dictionary of LDA hyper-parameters to be used to train the LDA model"
   ]
  },
  {
   "cell_type": "code",
   "execution_count": 35,
   "id": "8ab642d8",
   "metadata": {},
   "outputs": [],
   "source": [
    "lda_params_dict = dict(\n",
    "    featuresCol=\"features\",  # features or tokens_no_stopwords\n",
    "    optimizer=\"em\",  # 'online' or 'em'\n",
    "    maxIter=85,\n",
    "    k=num_topics,\n",
    "    seed=88,\n",
    ")\n",
    "lda = LDA(**lda_params_dict)"
   ]
  },
  {
   "cell_type": "markdown",
   "id": "c9a16e33",
   "metadata": {},
   "source": [
    "**Notes**\n",
    "1. Hyper-parameter tuning of the `maxIter` and `k` (number of topics) hyper-parameters was done by manually changing its values in this hyper-parameter dictionary and inspecting a chart of the top words (by weight) per topic (will be discussed shortly) and adjusting hyper-parameter values until coherent terms appeared in a given topic. With better data processing to remove leftover duplicated tweets (identified in the last sub-section of **Data Processing** above), these choices would be further tuned by reading the top documents per topic. All hyper-parameters in the NLP step were kept fixed while this manual tuning of the `maxIter` hyper-parameter was performed.\n",
    "2. The same approach was used for brief hyper-parameter tuning of the `minDF` and `maxDF` hyper-parameters of the TFIDF Vectorization step from the NLP sub-section earlier. During this brief tuning process, the `maxIter` value in the LDA algorithm was kept fixed."
   ]
  },
  {
   "cell_type": "markdown",
   "id": "6500fcc4",
   "metadata": {},
   "source": [
    "Train the LDA model"
   ]
  },
  {
   "cell_type": "code",
   "execution_count": 36,
   "id": "2e17a3c6",
   "metadata": {},
   "outputs": [
    {
     "name": "stdout",
     "output_type": "stream",
     "text": [
      "Starting time = 2022-01-08 04:42:51...Done at 2022-01-08 04:44:53.\n",
      "CPU times: user 18.4 ms, sys: 12.8 ms, total: 31.2 ms\n",
      "Wall time: 2min 1s\n"
     ]
    }
   ],
   "source": [
    "%%time\n",
    "print(f\"Starting time = {datetime.now().strftime('%Y-%m-%d %H:%M:%S')}...\", end=\"\")\n",
    "model = lda.fit(df_text_processed_cached)\n",
    "print(f\"Done at {datetime.now().strftime('%Y-%m-%d %H:%M:%S')}.\")"
   ]
  },
  {
   "cell_type": "markdown",
   "id": "cb8d0b64",
   "metadata": {},
   "source": [
    "## ML Model Interpretation"
   ]
  },
  {
   "cell_type": "markdown",
   "id": "8f859a02",
   "metadata": {},
   "source": [
    "### Terms per Topic"
   ]
  },
  {
   "cell_type": "markdown",
   "id": "70f611cd",
   "metadata": {},
   "source": [
    "Get the size of the vocabulary"
   ]
  },
  {
   "cell_type": "code",
   "execution_count": 37,
   "id": "f0ce7d7c",
   "metadata": {},
   "outputs": [
    {
     "data": {
      "text/plain": [
       "19886"
      ]
     },
     "execution_count": 37,
     "metadata": {},
     "output_type": "execute_result"
    }
   ],
   "source": [
    "model.vocabSize()"
   ]
  },
  {
   "cell_type": "markdown",
   "id": "8691b12b",
   "metadata": {},
   "source": [
    "Get vocabulary"
   ]
  },
  {
   "cell_type": "code",
   "execution_count": 38,
   "id": "56a4d3bc",
   "metadata": {},
   "outputs": [
    {
     "name": "stdout",
     "output_type": "stream",
     "text": [
      "CPU times: user 37 ms, sys: 351 µs, total: 37.3 ms\n",
      "Wall time: 134 ms\n"
     ]
    },
    {
     "data": {
      "text/plain": [
       "['space',\n",
       " 'sunshield',\n",
       " 'telescope',\n",
       " 'satellite',\n",
       " 'astronaut',\n",
       " 'light',\n",
       " 'jupiter']"
      ]
     },
     "execution_count": 38,
     "metadata": {},
     "output_type": "execute_result"
    }
   ],
   "source": [
    "%%time\n",
    "vocabList = pipe_trained.stages[-1].stages[0].vocabulary\n",
    "vocabList[:7]"
   ]
  },
  {
   "cell_type": "markdown",
   "id": "93a39cda",
   "metadata": {},
   "source": [
    "Get topic-terms matrix with the top `n` term (token) weights for each topic ([1](https://spark.apache.org/docs/1.6.1/api/java/org/apache/spark/mllib/clustering/LDAModel.html#describeTopics()), [2](https://spark.apache.org/docs/latest/ml-clustering.html#latent-dirichlet-allocation-lda), [3](https://spark.apache.org/docs/latest/api/python/reference/api/pyspark.mllib.clustering.LDAModel.html#pyspark.mllib.clustering.LDAModel.describeTopics))"
   ]
  },
  {
   "cell_type": "code",
   "execution_count": 39,
   "id": "3b9be5fb",
   "metadata": {},
   "outputs": [
    {
     "name": "stdout",
     "output_type": "stream",
     "text": [
      "CPU times: user 3.02 ms, sys: 3.64 ms, total: 6.66 ms\n",
      "Wall time: 355 ms\n"
     ]
    },
    {
     "data": {
      "text/html": [
       "<div>\n",
       "<style scoped>\n",
       "    .dataframe tbody tr th:only-of-type {\n",
       "        vertical-align: middle;\n",
       "    }\n",
       "\n",
       "    .dataframe tbody tr th {\n",
       "        vertical-align: top;\n",
       "    }\n",
       "\n",
       "    .dataframe thead th {\n",
       "        text-align: right;\n",
       "    }\n",
       "</style>\n",
       "<table border=\"1\" class=\"dataframe\">\n",
       "  <thead>\n",
       "    <tr style=\"text-align: right;\">\n",
       "      <th></th>\n",
       "      <th>topic</th>\n",
       "      <th>termIndices</th>\n",
       "      <th>termWeights</th>\n",
       "    </tr>\n",
       "  </thead>\n",
       "  <tbody>\n",
       "    <tr>\n",
       "      <th>0</th>\n",
       "      <td>0</td>\n",
       "      <td>[3, 0, 45, 34, 93, 86, 46, 65, 47, 344, 184, 1...</td>\n",
       "      <td>[0.013682206260554103, 0.00758438919452881, 0....</td>\n",
       "    </tr>\n",
       "    <tr>\n",
       "      <th>1</th>\n",
       "      <td>1</td>\n",
       "      <td>[11, 6, 26, 90, 211, 118, 78, 80, 72, 145, 135...</td>\n",
       "      <td>[0.01424319039310705, 0.013442137992460398, 0....</td>\n",
       "    </tr>\n",
       "    <tr>\n",
       "      <th>2</th>\n",
       "      <td>2</td>\n",
       "      <td>[13, 16, 0, 17, 106, 81, 5, 58, 152, 27, 7, 96...</td>\n",
       "      <td>[0.0111715320525973, 0.007945154505033759, 0.0...</td>\n",
       "    </tr>\n",
       "    <tr>\n",
       "      <th>3</th>\n",
       "      <td>3</td>\n",
       "      <td>[74, 2, 56, 0, 65, 248, 475, 371, 148, 468, 53...</td>\n",
       "      <td>[0.00983243703138462, 0.009486459324928826, 0....</td>\n",
       "    </tr>\n",
       "  </tbody>\n",
       "</table>\n",
       "</div>"
      ],
      "text/plain": [
       "   topic                                        termIndices  \\\n",
       "0      0  [3, 0, 45, 34, 93, 86, 46, 65, 47, 344, 184, 1...   \n",
       "1      1  [11, 6, 26, 90, 211, 118, 78, 80, 72, 145, 135...   \n",
       "2      2  [13, 16, 0, 17, 106, 81, 5, 58, 152, 27, 7, 96...   \n",
       "3      3  [74, 2, 56, 0, 65, 248, 475, 371, 148, 468, 53...   \n",
       "\n",
       "                                         termWeights  \n",
       "0  [0.013682206260554103, 0.00758438919452881, 0....  \n",
       "1  [0.01424319039310705, 0.013442137992460398, 0....  \n",
       "2  [0.0111715320525973, 0.007945154505033759, 0.0...  \n",
       "3  [0.00983243703138462, 0.009486459324928826, 0....  "
      ]
     },
     "execution_count": 39,
     "metadata": {},
     "output_type": "execute_result"
    }
   ],
   "source": [
    "%%time\n",
    "df_topic_terms = model.describeTopics(maxTermsPerTopic=num_top_terms_per_topic)\n",
    "show_pyspark_df(df_topic_terms)"
   ]
  },
  {
   "cell_type": "markdown",
   "id": "b166ada6",
   "metadata": {},
   "source": [
    "In order to interpret the LDA model's topics, the term names are of use to us and not the indices. Term names come from the vocabulary of the `CountVectorizer` ([1](https://spark.apache.org/docs/latest/api/python/reference/api/pyspark.ml.feature.CountVectorizer.html#pyspark.ml.feature.CountVectorizer.binary)) pre-processing step, which then allows us to convert the `termIndices` column to `termNames` that can be interpreted."
   ]
  },
  {
   "cell_type": "markdown",
   "id": "500a7318",
   "metadata": {},
   "source": [
    "We will now get the term names for each topic using the vocabulary we retrieved above"
   ]
  },
  {
   "cell_type": "code",
   "execution_count": 40,
   "id": "5ae3bc80",
   "metadata": {},
   "outputs": [
    {
     "name": "stdout",
     "output_type": "stream",
     "text": [
      "CPU times: user 22.2 ms, sys: 0 ns, total: 22.2 ms\n",
      "Wall time: 39 ms\n"
     ]
    }
   ],
   "source": [
    "%%time\n",
    "dff = df_topic_terms.toPandas().apply(\n",
    "    lambda s: s.apply(pd_Series).stack().reset_index(drop=True, level=1)\n",
    ").reset_index(drop=True)\n",
    "# Map term indices to vocabulary terms, in order to get the term (token)\n",
    "# corresponding to each term index\n",
    "dff[\"termNames\"] = dff[\"termIndices\"].map(vocabList.__getitem__)\n",
    "dff['topic'] = dff['topic'].map('topic_{}'.format)"
   ]
  },
  {
   "cell_type": "markdown",
   "id": "55f88bfc",
   "metadata": {},
   "source": [
    "Plot the top `n` terms for each topic"
   ]
  },
  {
   "cell_type": "code",
   "execution_count": 41,
   "id": "cb36d6ef",
   "metadata": {},
   "outputs": [
    {
     "name": "stdout",
     "output_type": "stream",
     "text": [
      "CPU times: user 13.8 ms, sys: 0 ns, total: 13.8 ms\n",
      "Wall time: 14.9 ms\n"
     ]
    },
    {
     "data": {
      "text/html": [
       "\n",
       "<div id=\"altair-viz-517bcc7f3a314f018c66cb16136e0bb2\"></div>\n",
       "<script type=\"text/javascript\">\n",
       "  (function(spec, embedOpt){\n",
       "    let outputDiv = document.currentScript.previousElementSibling;\n",
       "    if (outputDiv.id !== \"altair-viz-517bcc7f3a314f018c66cb16136e0bb2\") {\n",
       "      outputDiv = document.getElementById(\"altair-viz-517bcc7f3a314f018c66cb16136e0bb2\");\n",
       "    }\n",
       "    const paths = {\n",
       "      \"vega\": \"https://cdn.jsdelivr.net/npm//vega@5?noext\",\n",
       "      \"vega-lib\": \"https://cdn.jsdelivr.net/npm//vega-lib?noext\",\n",
       "      \"vega-lite\": \"https://cdn.jsdelivr.net/npm//vega-lite@4.8.1?noext\",\n",
       "      \"vega-embed\": \"https://cdn.jsdelivr.net/npm//vega-embed@6?noext\",\n",
       "    };\n",
       "\n",
       "    function loadScript(lib) {\n",
       "      return new Promise(function(resolve, reject) {\n",
       "        var s = document.createElement('script');\n",
       "        s.src = paths[lib];\n",
       "        s.async = true;\n",
       "        s.onload = () => resolve(paths[lib]);\n",
       "        s.onerror = () => reject(`Error loading script: ${paths[lib]}`);\n",
       "        document.getElementsByTagName(\"head\")[0].appendChild(s);\n",
       "      });\n",
       "    }\n",
       "\n",
       "    function showError(err) {\n",
       "      outputDiv.innerHTML = `<div class=\"error\" style=\"color:red;\">${err}</div>`;\n",
       "      throw err;\n",
       "    }\n",
       "\n",
       "    function displayChart(vegaEmbed) {\n",
       "      vegaEmbed(outputDiv, spec, embedOpt)\n",
       "        .catch(err => showError(`Javascript Error: ${err.message}<br>This usually means there's a typo in your chart specification. See the javascript console for the full traceback.`));\n",
       "    }\n",
       "\n",
       "    if(typeof define === \"function\" && define.amd) {\n",
       "      requirejs.config({paths});\n",
       "      require([\"vega-embed\"], displayChart, err => showError(`Error loading script: ${err.message}`));\n",
       "    } else if (typeof vegaEmbed === \"function\") {\n",
       "      displayChart(vegaEmbed);\n",
       "    } else {\n",
       "      loadScript(\"vega\")\n",
       "        .then(() => loadScript(\"vega-lite\"))\n",
       "        .then(() => loadScript(\"vega-embed\"))\n",
       "        .catch(showError)\n",
       "        .then(() => displayChart(vegaEmbed));\n",
       "    }\n",
       "  })({\"config\": {\"view\": {\"continuousWidth\": 400, \"continuousHeight\": 300}, \"axis\": {\"labelFontSize\": 14, \"titleFontSize\": 14}, \"concat\": {\"spacing\": 10}}, \"hconcat\": [{\"vconcat\": [{\"mark\": \"bar\", \"encoding\": {\"color\": {\"type\": \"nominal\", \"field\": \"topic\", \"legend\": null, \"scale\": {\"scheme\": \"tableau20\"}}, \"tooltip\": [{\"type\": \"nominal\", \"field\": \"termNames\"}, {\"type\": \"quantitative\", \"field\": \"termWeights\", \"format\": \".6f\"}], \"x\": {\"type\": \"quantitative\", \"field\": \"termWeights\", \"title\": \"\"}, \"y\": {\"type\": \"nominal\", \"field\": \"termNames\", \"sort\": \"-x\", \"title\": \"\"}}, \"height\": 200, \"title\": \"topic_0\", \"width\": 150}], \"data\": {\"name\": \"data-3867ab70aa9c9325e2acf01700412e6c\"}}, {\"vconcat\": [{\"mark\": \"bar\", \"encoding\": {\"color\": {\"type\": \"nominal\", \"field\": \"topic\", \"legend\": null, \"scale\": {\"scheme\": \"tableau20\"}}, \"tooltip\": [{\"type\": \"nominal\", \"field\": \"termNames\"}, {\"type\": \"quantitative\", \"field\": \"termWeights\", \"format\": \".6f\"}], \"x\": {\"type\": \"quantitative\", \"field\": \"termWeights\", \"title\": \"\"}, \"y\": {\"type\": \"nominal\", \"field\": \"termNames\", \"sort\": \"-x\", \"title\": \"\"}}, \"height\": 200, \"title\": \"topic_1\", \"width\": 150}], \"data\": {\"name\": \"data-2961919d02e4f8a0e03ba98f394787d6\"}}, {\"vconcat\": [{\"mark\": \"bar\", \"encoding\": {\"color\": {\"type\": \"nominal\", \"field\": \"topic\", \"legend\": null, \"scale\": {\"scheme\": \"tableau20\"}}, \"tooltip\": [{\"type\": \"nominal\", \"field\": \"termNames\"}, {\"type\": \"quantitative\", \"field\": \"termWeights\", \"format\": \".6f\"}], \"x\": {\"type\": \"quantitative\", \"field\": \"termWeights\", \"title\": \"\"}, \"y\": {\"type\": \"nominal\", \"field\": \"termNames\", \"sort\": \"-x\", \"title\": \"\"}}, \"height\": 200, \"title\": \"topic_2\", \"width\": 150}], \"data\": {\"name\": \"data-929e7543089c541c6f474853884189c1\"}}, {\"vconcat\": [{\"mark\": \"bar\", \"encoding\": {\"color\": {\"type\": \"nominal\", \"field\": \"topic\", \"legend\": null, \"scale\": {\"scheme\": \"tableau20\"}}, \"tooltip\": [{\"type\": \"nominal\", \"field\": \"termNames\"}, {\"type\": \"quantitative\", \"field\": \"termWeights\", \"format\": \".6f\"}], \"x\": {\"type\": \"quantitative\", \"field\": \"termWeights\", \"title\": \"\"}, \"y\": {\"type\": \"nominal\", \"field\": \"termNames\", \"sort\": \"-x\", \"title\": \"\"}}, \"height\": 200, \"title\": \"topic_3\", \"width\": 150}], \"data\": {\"name\": \"data-1649db7b137fc15cdc637b8f75fd4849\"}}], \"$schema\": \"https://vega.github.io/schema/vega-lite/v4.8.1.json\", \"datasets\": {\"data-3867ab70aa9c9325e2acf01700412e6c\": [{\"topic\": \"topic_0\", \"termIndices\": 3, \"termWeights\": 0.013682206260554103, \"termNames\": \"satellite\"}, {\"topic\": \"topic_0\", \"termIndices\": 0, \"termWeights\": 0.00758438919452881, \"termNames\": \"space\"}, {\"topic\": \"topic_0\", \"termIndices\": 45, \"termWeights\": 0.0074032530595820305, \"termNames\": \"station\"}, {\"topic\": \"topic_0\", \"termIndices\": 34, \"termWeights\": 0.006394734638702463, \"termNames\": \"launch\"}, {\"topic\": \"topic_0\", \"termIndices\": 93, \"termWeights\": 0.004359507476051629, \"termNames\": \"china\"}, {\"topic\": \"topic_0\", \"termIndices\": 86, \"termWeights\": 0.003927476111728838, \"termNames\": \"rocket\"}, {\"topic\": \"topic_0\", \"termIndices\": 46, \"termWeights\": 0.0039032325352638332, \"termNames\": \"world\"}, {\"topic\": \"topic_0\", \"termIndices\": 65, \"termWeights\": 0.0032922410282071983, \"termNames\": \"shuttle\"}, {\"topic\": \"topic_0\", \"termIndices\": 47, \"termWeights\": 0.003229385013047379, \"termNames\": \"image\"}, {\"topic\": \"topic_0\", \"termIndices\": 344, \"termWeights\": 0.003129355744081052, \"termNames\": \"satellites\"}, {\"topic\": \"topic_0\", \"termIndices\": 184, \"termWeights\": 0.0029772961646371172, \"termNames\": \"video\"}, {\"topic\": \"topic_0\", \"termIndices\": 144, \"termWeights\": 0.0029056550587329946, \"termNames\": \"launched\"}, {\"topic\": \"topic_0\", \"termIndices\": 55, \"termWeights\": 0.0028698943176630313, \"termNames\": \"images\"}, {\"topic\": \"topic_0\", \"termIndices\": 242, \"termWeights\": 0.002740106247575204, \"termNames\": \"center\"}, {\"topic\": \"topic_0\", \"termIndices\": 73, \"termWeights\": 0.002675043407671273, \"termNames\": \"international\"}], \"data-2961919d02e4f8a0e03ba98f394787d6\": [{\"topic\": \"topic_1\", \"termIndices\": 11, \"termWeights\": 0.01424319039310705, \"termNames\": \"saturn\"}, {\"topic\": \"topic_1\", \"termIndices\": 6, \"termWeights\": 0.013442137992460398, \"termNames\": \"jupiter\"}, {\"topic\": \"topic_1\", \"termIndices\": 26, \"termWeights\": 0.012070573205520702, \"termNames\": \"pluto\"}, {\"topic\": \"topic_1\", \"termIndices\": 90, \"termWeights\": 0.007183381114804946, \"termNames\": \"neptune\"}, {\"topic\": \"topic_1\", \"termIndices\": 211, \"termWeights\": 0.00597964299601502, \"termNames\": \"house\"}, {\"topic\": \"topic_1\", \"termIndices\": 118, \"termWeights\": 0.005669805591474492, \"termNames\": \"uranus\"}, {\"topic\": \"topic_1\", \"termIndices\": 78, \"termWeights\": 0.005543101725224882, \"termNames\": \"venus\"}, {\"topic\": \"topic_1\", \"termIndices\": 80, \"termWeights\": 0.005371978686290473, \"termNames\": \"astronomy\"}, {\"topic\": \"topic_1\", \"termIndices\": 72, \"termWeights\": 0.004774714298187871, \"termNames\": \"pisces\"}, {\"topic\": \"topic_1\", \"termIndices\": 145, \"termWeights\": 0.004342262176696443, \"termNames\": \"mercury\"}, {\"topic\": \"topic_1\", \"termIndices\": 135, \"termWeights\": 0.004111566712020398, \"termNames\": \"night\"}, {\"topic\": \"topic_1\", \"termIndices\": 327, \"termWeights\": 0.0037887731064326254, \"termNames\": \"return\"}, {\"topic\": \"topic_1\", \"termIndices\": 116, \"termWeights\": 0.003553209700359916, \"termNames\": \"capricorn\"}, {\"topic\": \"topic_1\", \"termIndices\": 332, \"termWeights\": 0.0035281140313272656, \"termNames\": \"thought\"}, {\"topic\": \"topic_1\", \"termIndices\": 364, \"termWeights\": 0.0030337412671296634, \"termNames\": \"others\"}], \"data-929e7543089c541c6f474853884189c1\": [{\"topic\": \"topic_2\", \"termIndices\": 13, \"termWeights\": 0.0111715320525973, \"termNames\": \"earth\"}, {\"topic\": \"topic_2\", \"termIndices\": 16, \"termWeights\": 0.007945154505033759, \"termNames\": \"science\"}, {\"topic\": \"topic_2\", \"termIndices\": 0, \"termWeights\": 0.007427560571967639, \"termNames\": \"space\"}, {\"topic\": \"topic_2\", \"termIndices\": 17, \"termWeights\": 0.00668666564712853, \"termNames\": \"planet\"}, {\"topic\": \"topic_2\", \"termIndices\": 106, \"termWeights\": 0.005335442726769952, \"termNames\": \"system\"}, {\"topic\": \"topic_2\", \"termIndices\": 81, \"termWeights\": 0.0042796771909742225, \"termNames\": \"solar\"}, {\"topic\": \"topic_2\", \"termIndices\": 5, \"termWeights\": 0.004221318392915409, \"termNames\": \"light\"}, {\"topic\": \"topic_2\", \"termIndices\": 58, \"termWeights\": 0.004141417897922666, \"termNames\": \"orbit\"}, {\"topic\": \"topic_2\", \"termIndices\": 152, \"termWeights\": 0.003684716974853843, \"termNames\": \"human\"}, {\"topic\": \"topic_2\", \"termIndices\": 27, \"termWeights\": 0.003612605253090478, \"termNames\": \"hubble\"}, {\"topic\": \"topic_2\", \"termIndices\": 7, \"termWeights\": 0.003246616156986116, \"termNames\": \"universe\"}, {\"topic\": \"topic_2\", \"termIndices\": 96, \"termWeights\": 0.003128964160338967, \"termNames\": \"small\"}, {\"topic\": \"topic_2\", \"termIndices\": 504, \"termWeights\": 0.003016801026919204, \"termNames\": \"build\"}, {\"topic\": \"topic_2\", \"termIndices\": 94, \"termWeights\": 0.0029996369430387547, \"termNames\": \"exploration\"}, {\"topic\": \"topic_2\", \"termIndices\": 89, \"termWeights\": 0.0029529441758287165, \"termNames\": \"research\"}], \"data-1649db7b137fc15cdc637b8f75fd4849\": [{\"topic\": \"topic_3\", \"termIndices\": 74, \"termWeights\": 0.00983243703138462, \"termNames\": \"spacex\"}, {\"topic\": \"topic_3\", \"termIndices\": 2, \"termWeights\": 0.009486459324928826, \"termNames\": \"telescope\"}, {\"topic\": \"topic_3\", \"termIndices\": 56, \"termWeights\": 0.005667770675248401, \"termNames\": \"james\"}, {\"topic\": \"topic_3\", \"termIndices\": 0, \"termWeights\": 0.005533269044306088, \"termNames\": \"space\"}, {\"topic\": \"topic_3\", \"termIndices\": 65, \"termWeights\": 0.005398199982076499, \"termNames\": \"shuttle\"}, {\"topic\": \"topic_3\", \"termIndices\": 248, \"termWeights\": 0.004247360198563488, \"termNames\": \"tesla\"}, {\"topic\": \"topic_3\", \"termIndices\": 475, \"termWeights\": 0.0037728752999276103, \"termNames\": \"trying\"}, {\"topic\": \"topic_3\", \"termIndices\": 371, \"termWeights\": 0.0033761677211647805, \"termNames\": \"company\"}, {\"topic\": \"topic_3\", \"termIndices\": 148, \"termWeights\": 0.003049972780849363, \"termNames\": \"working\"}, {\"topic\": \"topic_3\", \"termIndices\": 468, \"termWeights\": 0.0029212849369443317, \"termNames\": \"government\"}, {\"topic\": \"topic_3\", \"termIndices\": 537, \"termWeights\": 0.00282368332405816, \"termNames\": \"covid\"}, {\"topic\": \"topic_3\", \"termIndices\": 574, \"termWeights\": 0.002693055491068919, \"termNames\": \"question\"}, {\"topic\": \"topic_3\", \"termIndices\": 357, \"termWeights\": 0.002586696690518494, \"termNames\": \"taking\"}, {\"topic\": \"topic_3\", \"termIndices\": 340, \"termWeights\": 0.0025452294494371233, \"termNames\": \"twitter\"}, {\"topic\": \"topic_3\", \"termIndices\": 469, \"termWeights\": 0.0025270570952132775, \"termNames\": \"needs\"}]}}, {\"padding\": {\"left\": 0, \"right\": 0, \"bottom\": 0, \"top\": 0}, \"mode\": \"vega-lite\"});\n",
       "</script>"
      ],
      "text/plain": [
       "alt.HConcatChart(...)"
      ]
     },
     "execution_count": 41,
     "metadata": {},
     "output_type": "execute_result"
    }
   ],
   "source": [
    "%%time\n",
    "vh.altair_plot_grid_by_column(\n",
    "    dff,\n",
    "    xvar=\"termWeights\",\n",
    "    yvar=\"termNames\",\n",
    "    col2grid=\"topic\",\n",
    "    space_between_plots=10,\n",
    "    row_size=1,\n",
    "    fig_size=(150, 200),\n",
    ")"
   ]
  },
  {
   "cell_type": "markdown",
   "id": "9e4ae699",
   "metadata": {},
   "source": [
    "**Notes**\n",
    "1. This was the chart used to manually tune hyper-parameters, as mentioned earlier."
   ]
  },
  {
   "cell_type": "markdown",
   "id": "97c7a83d",
   "metadata": {},
   "source": [
    "We'll now export this small `DataFrame` with the weights of the tterms for each topic to a CSV file in the `predictions/` sub-folder in the same S3 bucket containing the sub-folder with the hourly CSV files that were loaded earlier"
   ]
  },
  {
   "cell_type": "code",
   "execution_count": 42,
   "id": "8b43b007",
   "metadata": {},
   "outputs": [
    {
     "name": "stdout",
     "output_type": "stream",
     "text": [
      "Starting time = 2022-01-08 04:47:03...done at 2022-01-08 04:47:04.\n",
      "CPU times: user 317 ms, sys: 36.7 ms, total: 354 ms\n",
      "Wall time: 489 ms\n"
     ]
    }
   ],
   "source": [
    "%%time\n",
    "print(f\"Starting time = {datetime.now().strftime('%Y-%m-%d %H:%M:%S')}...\", end=\"\")\n",
    "timestr = time.strftime(\"%Y%m%d_%H%M%S\")\n",
    "full_file_path = (\n",
    "    f\"s3://{s3_bucket_name}{path_to_folder}\"\n",
    "    f\"{s3_models_subfolder}/term_weights_{timestr}.csv\"\n",
    ")\n",
    "dff.to_csv(full_file_path)\n",
    "print(f\"done at {datetime.now().strftime('%Y-%m-%d %H:%M:%S')}.\")"
   ]
  },
  {
   "cell_type": "markdown",
   "id": "af67b86c",
   "metadata": {},
   "source": [
    "### Topics per Document"
   ]
  },
  {
   "cell_type": "markdown",
   "id": "52010ad4",
   "metadata": {},
   "source": [
    "Get the topics per document.i.e. make predictions with the trained LDA model"
   ]
  },
  {
   "cell_type": "code",
   "execution_count": 43,
   "id": "308b8bbc",
   "metadata": {},
   "outputs": [
    {
     "data": {
      "text/html": [
       "<div>\n",
       "<style scoped>\n",
       "    .dataframe tbody tr th:only-of-type {\n",
       "        vertical-align: middle;\n",
       "    }\n",
       "\n",
       "    .dataframe tbody tr th {\n",
       "        vertical-align: top;\n",
       "    }\n",
       "\n",
       "    .dataframe thead th {\n",
       "        text-align: right;\n",
       "    }\n",
       "</style>\n",
       "<table border=\"1\" class=\"dataframe\">\n",
       "  <thead>\n",
       "    <tr style=\"text-align: right;\">\n",
       "      <th></th>\n",
       "      <th>document</th>\n",
       "      <th>created_at</th>\n",
       "      <th>user_joined</th>\n",
       "      <th>reviewText</th>\n",
       "      <th>topicDistribution</th>\n",
       "    </tr>\n",
       "  </thead>\n",
       "  <tbody>\n",
       "    <tr>\n",
       "      <th>0</th>\n",
       "      <td>383156</td>\n",
       "      <td>2022-01-04 19:25:06+00:00</td>\n",
       "      <td>2020-06-28 19:10:58+00:00</td>\n",
       "      <td>✷ 　 　　 　 · 　 ˚ * . 　 　　 *　　 * ⋆ 　 . · 　　 ⋆ 　　　 ˚ ˚ 　　 ✦ 　 ⋆ · 　 * 　　　　 ⋆ ✧　 　 · 　 ✧　✵ 　 · ✵❝𝑻𝒉𝒆 𝑺𝒐𝒏𝒈 𝒐𝒇 𝑼𝒏𝒊𝒗𝒆𝒓𝒔𝒆!❞━ Professor of Astronomy and Ravenclaw House. (more like mad scientist than wizard.) Natural genius</td>\n",
       "      <td>[0.21256773638571638, 0.367695712277792, 0.2201986195033501, 0.19953793183314167]</td>\n",
       "    </tr>\n",
       "    <tr>\n",
       "      <th>1</th>\n",
       "      <td>293093</td>\n",
       "      <td>2022-01-05 13:28:13+00:00</td>\n",
       "      <td>2020-11-29 18:55:20+00:00</td>\n",
       "      <td>\"\"\"𝕋𝕖𝕝𝕝 𝕒𝕝𝕝 𝕠𝕗 𝕪𝕠𝕦𝕣 𝕗𝕣𝕚𝕖𝕟𝕕𝕤 𝕥𝕙𝕒𝕥 𝕀'𝕞 𝕔𝕣𝕒𝕫𝕪 𝕒𝕟𝕕 𝕕𝕣𝕚𝕧𝕖 𝕪𝕠𝕦 𝕞𝕒𝕕...\"\"✦ Death Eater✦ Perpetually stoned✦ Seer✦ Partier✦ HP-RP✦ Looking for SLs✦ Lover of Astronomy✦ Original bad boy✦ TroublemakerRT?\"</td>\n",
       "      <td>[0.14090917611274198, 0.5254560792791103, 0.1439390001846732, 0.18969574442347445]</td>\n",
       "    </tr>\n",
       "    <tr>\n",
       "      <th>2</th>\n",
       "      <td>461143</td>\n",
       "      <td>2022-01-06 13:19:58+00:00</td>\n",
       "      <td>2017-07-27 10:13:33+00:00</td>\n",
       "      <td>“𝐍𝐨𝐯𝐞𝐥 𝐃𝐞𝐯𝐢𝐜𝐞𝐬, 𝐓𝐨𝐨𝐥𝐬, 𝐚𝐧𝐝 𝐓𝐞𝐜𝐡𝐧𝐢𝐪𝐮𝐞𝐬 𝐢𝐧 𝐏𝐫𝐨𝐬𝐭𝐡𝐞𝐭𝐢𝐜 𝐔𝐫𝐨𝐥𝐨𝐠𝐲” Join us at MESSM Rigicon Satellite Symposium to learn more about what’s new in prosthetic urology. Rigicon thanks    and Dr. Qaza</td>\n",
       "      <td>[0.2757496650460188, 0.2653449368279036, 0.30924620940946346, 0.14965918871661418]</td>\n",
       "    </tr>\n",
       "  </tbody>\n",
       "</table>\n",
       "</div>"
      ],
      "text/plain": [
       "   document                 created_at                user_joined  \\\n",
       "0    383156  2022-01-04 19:25:06+00:00  2020-06-28 19:10:58+00:00   \n",
       "1    293093  2022-01-05 13:28:13+00:00  2020-11-29 18:55:20+00:00   \n",
       "2    461143  2022-01-06 13:19:58+00:00  2017-07-27 10:13:33+00:00   \n",
       "\n",
       "                                                                                                                                                                                                              reviewText  \\\n",
       "0  ✷ 　 　　 　 · 　 ˚ * . 　 　　 *　　 * ⋆ 　 . · 　　 ⋆ 　　　 ˚ ˚ 　　 ✦ 　 ⋆ · 　 * 　　　　 ⋆ ✧　 　 · 　 ✧　✵ 　 · ✵❝𝑻𝒉𝒆 𝑺𝒐𝒏𝒈 𝒐𝒇 𝑼𝒏𝒊𝒗𝒆𝒓𝒔𝒆!❞━ Professor of Astronomy and Ravenclaw House. (more like mad scientist than wizard.) Natural genius   \n",
       "1                      \"\"\"𝕋𝕖𝕝𝕝 𝕒𝕝𝕝 𝕠𝕗 𝕪𝕠𝕦𝕣 𝕗𝕣𝕚𝕖𝕟𝕕𝕤 𝕥𝕙𝕒𝕥 𝕀'𝕞 𝕔𝕣𝕒𝕫𝕪 𝕒𝕟𝕕 𝕕𝕣𝕚𝕧𝕖 𝕪𝕠𝕦 𝕞𝕒𝕕...\"\"✦ Death Eater✦ Perpetually stoned✦ Seer✦ Partier✦ HP-RP✦ Looking for SLs✦ Lover of Astronomy✦ Original bad boy✦ TroublemakerRT?\"   \n",
       "2                         “𝐍𝐨𝐯𝐞𝐥 𝐃𝐞𝐯𝐢𝐜𝐞𝐬, 𝐓𝐨𝐨𝐥𝐬, 𝐚𝐧𝐝 𝐓𝐞𝐜𝐡𝐧𝐢𝐪𝐮𝐞𝐬 𝐢𝐧 𝐏𝐫𝐨𝐬𝐭𝐡𝐞𝐭𝐢𝐜 𝐔𝐫𝐨𝐥𝐨𝐠𝐲” Join us at MESSM Rigicon Satellite Symposium to learn more about what’s new in prosthetic urology. Rigicon thanks    and Dr. Qaza   \n",
       "\n",
       "                                                                    topicDistribution  \n",
       "0   [0.21256773638571638, 0.367695712277792, 0.2201986195033501, 0.19953793183314167]  \n",
       "1  [0.14090917611274198, 0.5254560792791103, 0.1439390001846732, 0.18969574442347445]  \n",
       "2  [0.2757496650460188, 0.2653449368279036, 0.30924620940946346, 0.14965918871661418]  "
      ]
     },
     "metadata": {},
     "output_type": "display_data"
    },
    {
     "name": "stdout",
     "output_type": "stream",
     "text": [
      "CPU times: user 18.2 ms, sys: 10.8 ms, total: 29 ms\n",
      "Wall time: 1.6 s\n"
     ]
    }
   ],
   "source": [
    "%%time\n",
    "df_topics_matrix = model.transform(df_text_processed_cached)\n",
    "with pd_option_context('display.max_colwidth', 1_000):\n",
    "    display(\n",
    "        show_pyspark_df(\n",
    "            df_topics_matrix.select(\n",
    "                [\"document\", \"created_at\", \"user_joined\", \"reviewText\", \"topicDistribution\"]\n",
    "            ),\n",
    "            3,\n",
    "        )\n",
    "    )"
   ]
  },
  {
   "cell_type": "markdown",
   "id": "ca6593fd",
   "metadata": {},
   "source": [
    "**Notes**\n",
    "1. The LDA model's predictions for topics is a vector of probabilities (that add up to 1.0) for each topic, per row (document) in the data. This vector is shown in the `topicDistribution` column above and is referred to as the distribution of topics across for each document ([1](https://spark.apache.org/docs/latest/api/python/reference/api/pyspark.ml.clustering.LDA.html#pyspark.ml.clustering.LDA.topicDistributionCol), [2](https://stackoverflow.com/questions/33072449/extract-document-topic-matrix-from-pyspark-lda-model), [3](https://stackoverflow.com/questions/49740675/how-to-get-the-topic-probability-for-each-document-for-topic-modeling-using-lda), [4](https://www.mathworks.com/help/textanalytics/ref/ldamodel.html#d123e21088)). LDA's predictions don't give a single discrete topic but, instead, return this vector and the user must decide how to interpret the values in each vector."
   ]
  },
  {
   "cell_type": "markdown",
   "id": "99656952",
   "metadata": {},
   "source": [
    "Check if cached"
   ]
  },
  {
   "cell_type": "code",
   "execution_count": 44,
   "id": "703b2cd9",
   "metadata": {},
   "outputs": [
    {
     "data": {
      "text/plain": [
       "False"
      ]
     },
     "execution_count": 44,
     "metadata": {},
     "output_type": "execute_result"
    }
   ],
   "source": [
    "df_topics_matrix.storageLevel.useMemory"
   ]
  },
  {
   "cell_type": "markdown",
   "id": "dfd0f156",
   "metadata": {},
   "source": [
    "Cache the LDA model's predictions since it will be used to explode the vectors of topic distribution into separate columns and then query those columns"
   ]
  },
  {
   "cell_type": "code",
   "execution_count": 45,
   "id": "a5ad0b57",
   "metadata": {},
   "outputs": [
    {
     "name": "stdout",
     "output_type": "stream",
     "text": [
      "CPU times: user 1.01 ms, sys: 0 ns, total: 1.01 ms\n",
      "Wall time: 15 ms\n"
     ]
    }
   ],
   "source": [
    "%%time\n",
    "df_topics_matrix_cached = df_topics_matrix.cache()"
   ]
  },
  {
   "cell_type": "code",
   "execution_count": 46,
   "id": "267dfc4f",
   "metadata": {},
   "outputs": [],
   "source": [
    "# %%time\n",
    "# IGNORE\n",
    "# df_topics_matrix_pandas = df_topics_matrix_cached.toPandas()"
   ]
  },
  {
   "cell_type": "markdown",
   "id": "b771d04a",
   "metadata": {},
   "source": [
    "We'll now extract the vector of topic probabilities into separate columns"
   ]
  },
  {
   "cell_type": "code",
   "execution_count": 47,
   "id": "7fd27092",
   "metadata": {},
   "outputs": [
    {
     "name": "stdout",
     "output_type": "stream",
     "text": [
      "CPU times: user 24.9 ms, sys: 7.47 ms, total: 32.3 ms\n",
      "Wall time: 5.32 s\n"
     ]
    },
    {
     "data": {
      "text/html": [
       "<div>\n",
       "<style scoped>\n",
       "    .dataframe tbody tr th:only-of-type {\n",
       "        vertical-align: middle;\n",
       "    }\n",
       "\n",
       "    .dataframe tbody tr th {\n",
       "        vertical-align: top;\n",
       "    }\n",
       "\n",
       "    .dataframe thead th {\n",
       "        text-align: right;\n",
       "    }\n",
       "</style>\n",
       "<table border=\"1\" class=\"dataframe\">\n",
       "  <thead>\n",
       "    <tr style=\"text-align: right;\">\n",
       "      <th></th>\n",
       "      <th>document</th>\n",
       "      <th>created_at</th>\n",
       "      <th>user_joined</th>\n",
       "      <th>in_reply_to_screen_name</th>\n",
       "      <th>source_text</th>\n",
       "      <th>place_country</th>\n",
       "      <th>user_followers</th>\n",
       "      <th>user_friends</th>\n",
       "      <th>user_listed</th>\n",
       "      <th>user_favourites</th>\n",
       "      <th>...</th>\n",
       "      <th>words</th>\n",
       "      <th>tokens</th>\n",
       "      <th>tokens_no_stopwords</th>\n",
       "      <th>rawFeatures</th>\n",
       "      <th>features</th>\n",
       "      <th>topicDistribution</th>\n",
       "      <th>topic_0</th>\n",
       "      <th>topic_1</th>\n",
       "      <th>topic_2</th>\n",
       "      <th>topic_3</th>\n",
       "    </tr>\n",
       "  </thead>\n",
       "  <tbody>\n",
       "    <tr>\n",
       "      <th>0</th>\n",
       "      <td>383156</td>\n",
       "      <td>2022-01-04 19:25:06+00:00</td>\n",
       "      <td>2020-06-28 19:10:58+00:00</td>\n",
       "      <td>None</td>\n",
       "      <td>Twitter for Android</td>\n",
       "      <td>None</td>\n",
       "      <td>1098</td>\n",
       "      <td>835</td>\n",
       "      <td>15</td>\n",
       "      <td>11798</td>\n",
       "      <td>...</td>\n",
       "      <td>[✷, 　, 　　, 　, ·, 　, ˚, *, ., 　, 　　, *　　, *, ⋆,...</td>\n",
       "      <td>[professor, astronomy, ravenclaw, house, scien...</td>\n",
       "      <td>[professor, astronomy, ravenclaw, house, scien...</td>\n",
       "      <td>(0.0, 0.0, 0.0, 0.0, 0.0, 0.0, 0.0, 0.0, 0.0, ...</td>\n",
       "      <td>(0.0, 0.0, 0.0, 0.0, 0.0, 0.0, 0.0, 0.0, 0.0, ...</td>\n",
       "      <td>[0.21256773638571638, 0.367695712277792, 0.220...</td>\n",
       "      <td>0.212568</td>\n",
       "      <td>0.367696</td>\n",
       "      <td>0.220199</td>\n",
       "      <td>0.199538</td>\n",
       "    </tr>\n",
       "    <tr>\n",
       "      <th>1</th>\n",
       "      <td>293093</td>\n",
       "      <td>2022-01-05 13:28:13+00:00</td>\n",
       "      <td>2020-11-29 18:55:20+00:00</td>\n",
       "      <td>None</td>\n",
       "      <td>Twitter for iPhone</td>\n",
       "      <td>None</td>\n",
       "      <td>451</td>\n",
       "      <td>729</td>\n",
       "      <td>1</td>\n",
       "      <td>1048</td>\n",
       "      <td>...</td>\n",
       "      <td>[\"\"\"𝕋𝕖𝕝𝕝, 𝕒𝕝𝕝, 𝕠𝕗, 𝕪𝕠𝕦𝕣, 𝕗𝕣𝕚𝕖𝕟𝕕𝕤, 𝕥𝕙𝕒𝕥, 𝕀'𝕞, 𝕔...</td>\n",
       "      <td>[death, eater, perpetually, stoned, partier, l...</td>\n",
       "      <td>[death, eater, perpetually, stoned, partier, l...</td>\n",
       "      <td>(0.0, 0.0, 0.0, 0.0, 0.0, 0.0, 0.0, 0.0, 0.0, ...</td>\n",
       "      <td>(0.0, 0.0, 0.0, 0.0, 0.0, 0.0, 0.0, 0.0, 0.0, ...</td>\n",
       "      <td>[0.14090917611274198, 0.5254560792791103, 0.14...</td>\n",
       "      <td>0.140909</td>\n",
       "      <td>0.525456</td>\n",
       "      <td>0.143939</td>\n",
       "      <td>0.189696</td>\n",
       "    </tr>\n",
       "    <tr>\n",
       "      <th>2</th>\n",
       "      <td>461143</td>\n",
       "      <td>2022-01-06 13:19:58+00:00</td>\n",
       "      <td>2017-07-27 10:13:33+00:00</td>\n",
       "      <td>None</td>\n",
       "      <td>Twitter Web App</td>\n",
       "      <td>None</td>\n",
       "      <td>446</td>\n",
       "      <td>1564</td>\n",
       "      <td>1</td>\n",
       "      <td>144</td>\n",
       "      <td>...</td>\n",
       "      <td>[“𝐍𝐨𝐯𝐞𝐥, 𝐃𝐞𝐯𝐢𝐜𝐞𝐬,, 𝐓𝐨𝐨𝐥𝐬,, 𝐚𝐧𝐝, 𝐓𝐞𝐜𝐡𝐧𝐢𝐪𝐮𝐞𝐬, 𝐢𝐧...</td>\n",
       "      <td>[messm, rigicon, satellite, symposium, learn, ...</td>\n",
       "      <td>[messm, rigicon, satellite, symposium, learn, ...</td>\n",
       "      <td>(0.0, 0.0, 0.0, 1.0, 0.0, 0.0, 0.0, 0.0, 0.0, ...</td>\n",
       "      <td>(0.0, 0.0, 0.0, 2.5495880082634943, 0.0, 0.0, ...</td>\n",
       "      <td>[0.2757496650460188, 0.2653449368279036, 0.309...</td>\n",
       "      <td>0.275750</td>\n",
       "      <td>0.265345</td>\n",
       "      <td>0.309246</td>\n",
       "      <td>0.149659</td>\n",
       "    </tr>\n",
       "    <tr>\n",
       "      <th>3</th>\n",
       "      <td>551642</td>\n",
       "      <td>2022-01-03 13:52:37+00:00</td>\n",
       "      <td>2021-11-24 13:01:43+00:00</td>\n",
       "      <td>None</td>\n",
       "      <td>Twitter for iPhone</td>\n",
       "      <td>None</td>\n",
       "      <td>19</td>\n",
       "      <td>40</td>\n",
       "      <td>0</td>\n",
       "      <td>491</td>\n",
       "      <td>...</td>\n",
       "      <td>[जगत्,, अर्थात्, जिसमें, गति, हो।भूगोल,, अर्था...</td>\n",
       "      <td>[sense, topography, astronomy, ancestors, hang...</td>\n",
       "      <td>[sense, topography, astronomy, ancestors, hang...</td>\n",
       "      <td>(0.0, 0.0, 0.0, 0.0, 0.0, 0.0, 0.0, 0.0, 0.0, ...</td>\n",
       "      <td>(0.0, 0.0, 0.0, 0.0, 0.0, 0.0, 0.0, 0.0, 0.0, ...</td>\n",
       "      <td>[0.255060947127917, 0.32231473531087174, 0.160...</td>\n",
       "      <td>0.255061</td>\n",
       "      <td>0.322315</td>\n",
       "      <td>0.160175</td>\n",
       "      <td>0.262449</td>\n",
       "    </tr>\n",
       "    <tr>\n",
       "      <th>4</th>\n",
       "      <td>556046</td>\n",
       "      <td>2022-01-03 14:05:21+00:00</td>\n",
       "      <td>2009-10-22 09:32:35+00:00</td>\n",
       "      <td>None</td>\n",
       "      <td>Twitter for Android</td>\n",
       "      <td>None</td>\n",
       "      <td>3027</td>\n",
       "      <td>1392</td>\n",
       "      <td>244</td>\n",
       "      <td>145549</td>\n",
       "      <td>...</td>\n",
       "      <td>[गूढ़, सूक्ष्म, गणना, से, कुम्भ, की, तिथियां, ...</td>\n",
       "      <td>[since, centuries, calculation, being, based, ...</td>\n",
       "      <td>[centuries, calculation, based, planetary, pos...</td>\n",
       "      <td>(0.0, 0.0, 0.0, 0.0, 0.0, 0.0, 1.0, 0.0, 0.0, ...</td>\n",
       "      <td>(0.0, 0.0, 0.0, 0.0, 0.0, 0.0, 2.8278674404545...</td>\n",
       "      <td>[0.29016519056568796, 0.20651660530541557, 0.2...</td>\n",
       "      <td>0.290165</td>\n",
       "      <td>0.206517</td>\n",
       "      <td>0.274742</td>\n",
       "      <td>0.228576</td>\n",
       "    </tr>\n",
       "  </tbody>\n",
       "</table>\n",
       "<p>5 rows × 27 columns</p>\n",
       "</div>"
      ],
      "text/plain": [
       "   document                 created_at                user_joined  \\\n",
       "0    383156  2022-01-04 19:25:06+00:00  2020-06-28 19:10:58+00:00   \n",
       "1    293093  2022-01-05 13:28:13+00:00  2020-11-29 18:55:20+00:00   \n",
       "2    461143  2022-01-06 13:19:58+00:00  2017-07-27 10:13:33+00:00   \n",
       "3    551642  2022-01-03 13:52:37+00:00  2021-11-24 13:01:43+00:00   \n",
       "4    556046  2022-01-03 14:05:21+00:00  2009-10-22 09:32:35+00:00   \n",
       "\n",
       "  in_reply_to_screen_name          source_text place_country  user_followers  \\\n",
       "0                    None  Twitter for Android          None            1098   \n",
       "1                    None   Twitter for iPhone          None             451   \n",
       "2                    None      Twitter Web App          None             446   \n",
       "3                    None   Twitter for iPhone          None              19   \n",
       "4                    None  Twitter for Android          None            3027   \n",
       "\n",
       "   user_friends  user_listed  user_favourites  ...  \\\n",
       "0           835           15            11798  ...   \n",
       "1           729            1             1048  ...   \n",
       "2          1564            1              144  ...   \n",
       "3            40            0              491  ...   \n",
       "4          1392          244           145549  ...   \n",
       "\n",
       "                                               words  \\\n",
       "0  [✷, 　, 　　, 　, ·, 　, ˚, *, ., 　, 　　, *　　, *, ⋆,...   \n",
       "1  [\"\"\"𝕋𝕖𝕝𝕝, 𝕒𝕝𝕝, 𝕠𝕗, 𝕪𝕠𝕦𝕣, 𝕗𝕣𝕚𝕖𝕟𝕕𝕤, 𝕥𝕙𝕒𝕥, 𝕀'𝕞, 𝕔...   \n",
       "2  [“𝐍𝐨𝐯𝐞𝐥, 𝐃𝐞𝐯𝐢𝐜𝐞𝐬,, 𝐓𝐨𝐨𝐥𝐬,, 𝐚𝐧𝐝, 𝐓𝐞𝐜𝐡𝐧𝐢𝐪𝐮𝐞𝐬, 𝐢𝐧...   \n",
       "3  [जगत्,, अर्थात्, जिसमें, गति, हो।भूगोल,, अर्था...   \n",
       "4  [गूढ़, सूक्ष्म, गणना, से, कुम्भ, की, तिथियां, ...   \n",
       "\n",
       "                                              tokens  \\\n",
       "0  [professor, astronomy, ravenclaw, house, scien...   \n",
       "1  [death, eater, perpetually, stoned, partier, l...   \n",
       "2  [messm, rigicon, satellite, symposium, learn, ...   \n",
       "3  [sense, topography, astronomy, ancestors, hang...   \n",
       "4  [since, centuries, calculation, being, based, ...   \n",
       "\n",
       "                                 tokens_no_stopwords  \\\n",
       "0  [professor, astronomy, ravenclaw, house, scien...   \n",
       "1  [death, eater, perpetually, stoned, partier, l...   \n",
       "2  [messm, rigicon, satellite, symposium, learn, ...   \n",
       "3  [sense, topography, astronomy, ancestors, hang...   \n",
       "4  [centuries, calculation, based, planetary, pos...   \n",
       "\n",
       "                                         rawFeatures  \\\n",
       "0  (0.0, 0.0, 0.0, 0.0, 0.0, 0.0, 0.0, 0.0, 0.0, ...   \n",
       "1  (0.0, 0.0, 0.0, 0.0, 0.0, 0.0, 0.0, 0.0, 0.0, ...   \n",
       "2  (0.0, 0.0, 0.0, 1.0, 0.0, 0.0, 0.0, 0.0, 0.0, ...   \n",
       "3  (0.0, 0.0, 0.0, 0.0, 0.0, 0.0, 0.0, 0.0, 0.0, ...   \n",
       "4  (0.0, 0.0, 0.0, 0.0, 0.0, 0.0, 1.0, 0.0, 0.0, ...   \n",
       "\n",
       "                                            features  \\\n",
       "0  (0.0, 0.0, 0.0, 0.0, 0.0, 0.0, 0.0, 0.0, 0.0, ...   \n",
       "1  (0.0, 0.0, 0.0, 0.0, 0.0, 0.0, 0.0, 0.0, 0.0, ...   \n",
       "2  (0.0, 0.0, 0.0, 2.5495880082634943, 0.0, 0.0, ...   \n",
       "3  (0.0, 0.0, 0.0, 0.0, 0.0, 0.0, 0.0, 0.0, 0.0, ...   \n",
       "4  (0.0, 0.0, 0.0, 0.0, 0.0, 0.0, 2.8278674404545...   \n",
       "\n",
       "                                   topicDistribution   topic_0   topic_1  \\\n",
       "0  [0.21256773638571638, 0.367695712277792, 0.220...  0.212568  0.367696   \n",
       "1  [0.14090917611274198, 0.5254560792791103, 0.14...  0.140909  0.525456   \n",
       "2  [0.2757496650460188, 0.2653449368279036, 0.309...  0.275750  0.265345   \n",
       "3  [0.255060947127917, 0.32231473531087174, 0.160...  0.255061  0.322315   \n",
       "4  [0.29016519056568796, 0.20651660530541557, 0.2...  0.290165  0.206517   \n",
       "\n",
       "    topic_2   topic_3  \n",
       "0  0.220199  0.199538  \n",
       "1  0.143939  0.189696  \n",
       "2  0.309246  0.149659  \n",
       "3  0.160175  0.262449  \n",
       "4  0.274742  0.228576  \n",
       "\n",
       "[5 rows x 27 columns]"
      ]
     },
     "execution_count": 47,
     "metadata": {},
     "output_type": "execute_result"
    }
   ],
   "source": [
    "%%time\n",
    "ith = F.udf(mih.ith_, T.DoubleType())\n",
    "df_processed_topics_matrix = df_topics_matrix_cached.select(\n",
    "    df_topics_matrix_cached.columns\n",
    "    + [\n",
    "        ith(\"topicDistribution\", F.lit(i)).alias(\"topic_\" + str(i))\n",
    "        for i in range(num_topics)\n",
    "    ]\n",
    ")\n",
    "show_pyspark_df(df_processed_topics_matrix)"
   ]
  },
  {
   "cell_type": "markdown",
   "id": "abc9a98d",
   "metadata": {},
   "source": [
    "Finally, we'll extract a new column (`dominant_topic`) with the topic with the highest probability predicted by the LDA model (`dominant_prob`)"
   ]
  },
  {
   "cell_type": "code",
   "execution_count": 48,
   "id": "5e56ce4f",
   "metadata": {},
   "outputs": [
    {
     "name": "stdout",
     "output_type": "stream",
     "text": [
      "CPU times: user 21.6 ms, sys: 157 µs, total: 21.8 ms\n",
      "Wall time: 911 ms\n"
     ]
    },
    {
     "data": {
      "text/html": [
       "<div>\n",
       "<style scoped>\n",
       "    .dataframe tbody tr th:only-of-type {\n",
       "        vertical-align: middle;\n",
       "    }\n",
       "\n",
       "    .dataframe tbody tr th {\n",
       "        vertical-align: top;\n",
       "    }\n",
       "\n",
       "    .dataframe thead th {\n",
       "        text-align: right;\n",
       "    }\n",
       "</style>\n",
       "<table border=\"1\" class=\"dataframe\">\n",
       "  <thead>\n",
       "    <tr style=\"text-align: right;\">\n",
       "      <th></th>\n",
       "      <th>document</th>\n",
       "      <th>created_at</th>\n",
       "      <th>user_joined</th>\n",
       "      <th>in_reply_to_screen_name</th>\n",
       "      <th>source_text</th>\n",
       "      <th>place_country</th>\n",
       "      <th>user_followers</th>\n",
       "      <th>user_friends</th>\n",
       "      <th>user_listed</th>\n",
       "      <th>user_favourites</th>\n",
       "      <th>...</th>\n",
       "      <th>tokens_no_stopwords</th>\n",
       "      <th>rawFeatures</th>\n",
       "      <th>features</th>\n",
       "      <th>topicDistribution</th>\n",
       "      <th>topic_0</th>\n",
       "      <th>topic_1</th>\n",
       "      <th>topic_2</th>\n",
       "      <th>topic_3</th>\n",
       "      <th>dominant_prob</th>\n",
       "      <th>dominant_topic</th>\n",
       "    </tr>\n",
       "  </thead>\n",
       "  <tbody>\n",
       "    <tr>\n",
       "      <th>0</th>\n",
       "      <td>383156</td>\n",
       "      <td>2022-01-04 19:25:06+00:00</td>\n",
       "      <td>2020-06-28 19:10:58+00:00</td>\n",
       "      <td>None</td>\n",
       "      <td>Twitter for Android</td>\n",
       "      <td>None</td>\n",
       "      <td>1098</td>\n",
       "      <td>835</td>\n",
       "      <td>15</td>\n",
       "      <td>11798</td>\n",
       "      <td>...</td>\n",
       "      <td>[professor, astronomy, ravenclaw, house, scien...</td>\n",
       "      <td>(0.0, 0.0, 0.0, 0.0, 0.0, 0.0, 0.0, 0.0, 0.0, ...</td>\n",
       "      <td>(0.0, 0.0, 0.0, 0.0, 0.0, 0.0, 0.0, 0.0, 0.0, ...</td>\n",
       "      <td>[0.21256773638571638, 0.367695712277792, 0.220...</td>\n",
       "      <td>0.212568</td>\n",
       "      <td>0.367696</td>\n",
       "      <td>0.220199</td>\n",
       "      <td>0.199538</td>\n",
       "      <td>0.367696</td>\n",
       "      <td>topic_1</td>\n",
       "    </tr>\n",
       "    <tr>\n",
       "      <th>1</th>\n",
       "      <td>293093</td>\n",
       "      <td>2022-01-05 13:28:13+00:00</td>\n",
       "      <td>2020-11-29 18:55:20+00:00</td>\n",
       "      <td>None</td>\n",
       "      <td>Twitter for iPhone</td>\n",
       "      <td>None</td>\n",
       "      <td>451</td>\n",
       "      <td>729</td>\n",
       "      <td>1</td>\n",
       "      <td>1048</td>\n",
       "      <td>...</td>\n",
       "      <td>[death, eater, perpetually, stoned, partier, l...</td>\n",
       "      <td>(0.0, 0.0, 0.0, 0.0, 0.0, 0.0, 0.0, 0.0, 0.0, ...</td>\n",
       "      <td>(0.0, 0.0, 0.0, 0.0, 0.0, 0.0, 0.0, 0.0, 0.0, ...</td>\n",
       "      <td>[0.14090917611274198, 0.5254560792791103, 0.14...</td>\n",
       "      <td>0.140909</td>\n",
       "      <td>0.525456</td>\n",
       "      <td>0.143939</td>\n",
       "      <td>0.189696</td>\n",
       "      <td>0.525456</td>\n",
       "      <td>topic_1</td>\n",
       "    </tr>\n",
       "    <tr>\n",
       "      <th>2</th>\n",
       "      <td>461143</td>\n",
       "      <td>2022-01-06 13:19:58+00:00</td>\n",
       "      <td>2017-07-27 10:13:33+00:00</td>\n",
       "      <td>None</td>\n",
       "      <td>Twitter Web App</td>\n",
       "      <td>None</td>\n",
       "      <td>446</td>\n",
       "      <td>1564</td>\n",
       "      <td>1</td>\n",
       "      <td>144</td>\n",
       "      <td>...</td>\n",
       "      <td>[messm, rigicon, satellite, symposium, learn, ...</td>\n",
       "      <td>(0.0, 0.0, 0.0, 1.0, 0.0, 0.0, 0.0, 0.0, 0.0, ...</td>\n",
       "      <td>(0.0, 0.0, 0.0, 2.5495880082634943, 0.0, 0.0, ...</td>\n",
       "      <td>[0.2757496650460188, 0.2653449368279036, 0.309...</td>\n",
       "      <td>0.275750</td>\n",
       "      <td>0.265345</td>\n",
       "      <td>0.309246</td>\n",
       "      <td>0.149659</td>\n",
       "      <td>0.309246</td>\n",
       "      <td>topic_2</td>\n",
       "    </tr>\n",
       "    <tr>\n",
       "      <th>3</th>\n",
       "      <td>551642</td>\n",
       "      <td>2022-01-03 13:52:37+00:00</td>\n",
       "      <td>2021-11-24 13:01:43+00:00</td>\n",
       "      <td>None</td>\n",
       "      <td>Twitter for iPhone</td>\n",
       "      <td>None</td>\n",
       "      <td>19</td>\n",
       "      <td>40</td>\n",
       "      <td>0</td>\n",
       "      <td>491</td>\n",
       "      <td>...</td>\n",
       "      <td>[sense, topography, astronomy, ancestors, hang...</td>\n",
       "      <td>(0.0, 0.0, 0.0, 0.0, 0.0, 0.0, 0.0, 0.0, 0.0, ...</td>\n",
       "      <td>(0.0, 0.0, 0.0, 0.0, 0.0, 0.0, 0.0, 0.0, 0.0, ...</td>\n",
       "      <td>[0.255060947127917, 0.32231473531087174, 0.160...</td>\n",
       "      <td>0.255061</td>\n",
       "      <td>0.322315</td>\n",
       "      <td>0.160175</td>\n",
       "      <td>0.262449</td>\n",
       "      <td>0.322315</td>\n",
       "      <td>topic_1</td>\n",
       "    </tr>\n",
       "    <tr>\n",
       "      <th>4</th>\n",
       "      <td>556046</td>\n",
       "      <td>2022-01-03 14:05:21+00:00</td>\n",
       "      <td>2009-10-22 09:32:35+00:00</td>\n",
       "      <td>None</td>\n",
       "      <td>Twitter for Android</td>\n",
       "      <td>None</td>\n",
       "      <td>3027</td>\n",
       "      <td>1392</td>\n",
       "      <td>244</td>\n",
       "      <td>145549</td>\n",
       "      <td>...</td>\n",
       "      <td>[centuries, calculation, based, planetary, pos...</td>\n",
       "      <td>(0.0, 0.0, 0.0, 0.0, 0.0, 0.0, 1.0, 0.0, 0.0, ...</td>\n",
       "      <td>(0.0, 0.0, 0.0, 0.0, 0.0, 0.0, 2.8278674404545...</td>\n",
       "      <td>[0.29016519056568796, 0.20651660530541557, 0.2...</td>\n",
       "      <td>0.290165</td>\n",
       "      <td>0.206517</td>\n",
       "      <td>0.274742</td>\n",
       "      <td>0.228576</td>\n",
       "      <td>0.290165</td>\n",
       "      <td>topic_0</td>\n",
       "    </tr>\n",
       "  </tbody>\n",
       "</table>\n",
       "<p>5 rows × 29 columns</p>\n",
       "</div>"
      ],
      "text/plain": [
       "   document                 created_at                user_joined  \\\n",
       "0    383156  2022-01-04 19:25:06+00:00  2020-06-28 19:10:58+00:00   \n",
       "1    293093  2022-01-05 13:28:13+00:00  2020-11-29 18:55:20+00:00   \n",
       "2    461143  2022-01-06 13:19:58+00:00  2017-07-27 10:13:33+00:00   \n",
       "3    551642  2022-01-03 13:52:37+00:00  2021-11-24 13:01:43+00:00   \n",
       "4    556046  2022-01-03 14:05:21+00:00  2009-10-22 09:32:35+00:00   \n",
       "\n",
       "  in_reply_to_screen_name          source_text place_country  user_followers  \\\n",
       "0                    None  Twitter for Android          None            1098   \n",
       "1                    None   Twitter for iPhone          None             451   \n",
       "2                    None      Twitter Web App          None             446   \n",
       "3                    None   Twitter for iPhone          None              19   \n",
       "4                    None  Twitter for Android          None            3027   \n",
       "\n",
       "   user_friends  user_listed  user_favourites  ...  \\\n",
       "0           835           15            11798  ...   \n",
       "1           729            1             1048  ...   \n",
       "2          1564            1              144  ...   \n",
       "3            40            0              491  ...   \n",
       "4          1392          244           145549  ...   \n",
       "\n",
       "                                 tokens_no_stopwords  \\\n",
       "0  [professor, astronomy, ravenclaw, house, scien...   \n",
       "1  [death, eater, perpetually, stoned, partier, l...   \n",
       "2  [messm, rigicon, satellite, symposium, learn, ...   \n",
       "3  [sense, topography, astronomy, ancestors, hang...   \n",
       "4  [centuries, calculation, based, planetary, pos...   \n",
       "\n",
       "                                         rawFeatures  \\\n",
       "0  (0.0, 0.0, 0.0, 0.0, 0.0, 0.0, 0.0, 0.0, 0.0, ...   \n",
       "1  (0.0, 0.0, 0.0, 0.0, 0.0, 0.0, 0.0, 0.0, 0.0, ...   \n",
       "2  (0.0, 0.0, 0.0, 1.0, 0.0, 0.0, 0.0, 0.0, 0.0, ...   \n",
       "3  (0.0, 0.0, 0.0, 0.0, 0.0, 0.0, 0.0, 0.0, 0.0, ...   \n",
       "4  (0.0, 0.0, 0.0, 0.0, 0.0, 0.0, 1.0, 0.0, 0.0, ...   \n",
       "\n",
       "                                            features  \\\n",
       "0  (0.0, 0.0, 0.0, 0.0, 0.0, 0.0, 0.0, 0.0, 0.0, ...   \n",
       "1  (0.0, 0.0, 0.0, 0.0, 0.0, 0.0, 0.0, 0.0, 0.0, ...   \n",
       "2  (0.0, 0.0, 0.0, 2.5495880082634943, 0.0, 0.0, ...   \n",
       "3  (0.0, 0.0, 0.0, 0.0, 0.0, 0.0, 0.0, 0.0, 0.0, ...   \n",
       "4  (0.0, 0.0, 0.0, 0.0, 0.0, 0.0, 2.8278674404545...   \n",
       "\n",
       "                                   topicDistribution   topic_0   topic_1  \\\n",
       "0  [0.21256773638571638, 0.367695712277792, 0.220...  0.212568  0.367696   \n",
       "1  [0.14090917611274198, 0.5254560792791103, 0.14...  0.140909  0.525456   \n",
       "2  [0.2757496650460188, 0.2653449368279036, 0.309...  0.275750  0.265345   \n",
       "3  [0.255060947127917, 0.32231473531087174, 0.160...  0.255061  0.322315   \n",
       "4  [0.29016519056568796, 0.20651660530541557, 0.2...  0.290165  0.206517   \n",
       "\n",
       "    topic_2   topic_3 dominant_prob dominant_topic  \n",
       "0  0.220199  0.199538      0.367696        topic_1  \n",
       "1  0.143939  0.189696      0.525456        topic_1  \n",
       "2  0.309246  0.149659      0.309246        topic_2  \n",
       "3  0.160175  0.262449      0.322315        topic_1  \n",
       "4  0.274742  0.228576      0.290165        topic_0  \n",
       "\n",
       "[5 rows x 29 columns]"
      ]
     },
     "execution_count": 48,
     "metadata": {},
     "output_type": "execute_result"
    }
   ],
   "source": [
    "%%time\n",
    "df_processed_topics_matrix = mih.get_max_val_name(\n",
    "    df_processed_topics_matrix, topic_cols, [\"dominant_prob\", \"dominant_topic\"]\n",
    ")\n",
    "show_pyspark_df(df_processed_topics_matrix)"
   ]
  },
  {
   "cell_type": "markdown",
   "id": "4a106d73",
   "metadata": {},
   "source": [
    "Check if cached"
   ]
  },
  {
   "cell_type": "code",
   "execution_count": 49,
   "id": "c8193045",
   "metadata": {},
   "outputs": [
    {
     "data": {
      "text/plain": [
       "False"
      ]
     },
     "execution_count": 49,
     "metadata": {},
     "output_type": "execute_result"
    }
   ],
   "source": [
    "df_processed_topics_matrix.storageLevel.useMemory"
   ]
  },
  {
   "cell_type": "markdown",
   "id": "cfa217e1",
   "metadata": {},
   "source": [
    "Cache the data with these two new columns added, since it will be used in multiple queries (next) to print out the raw tweets (texts) for reading"
   ]
  },
  {
   "cell_type": "code",
   "execution_count": 50,
   "id": "b9070d20",
   "metadata": {},
   "outputs": [
    {
     "name": "stdout",
     "output_type": "stream",
     "text": [
      "CPU times: user 1.09 ms, sys: 0 ns, total: 1.09 ms\n",
      "Wall time: 47.6 ms\n"
     ]
    }
   ],
   "source": [
    "%%time\n",
    "df_processed_topics_matrix_cached = df_processed_topics_matrix.cache()"
   ]
  },
  {
   "cell_type": "markdown",
   "id": "26f871d8",
   "metadata": {},
   "source": [
    "A random sample of the documents (tweets) predicted with the highest probability to belong to each topic are printed out below for reading"
   ]
  },
  {
   "cell_type": "code",
   "execution_count": 51,
   "id": "26808d7d",
   "metadata": {},
   "outputs": [
    {
     "name": "stdout",
     "output_type": "stream",
     "text": [
      "========================= topic = topic_0 =========================\n",
      "satellite = 0.0137, space = 0.0076, station = 0.0074, launch = 0.0064, china = 0.0044, rocket = 0.0039, world = 0.0039, shuttle = 0.0033, image = 0.0032, satellites = 0.0031, video = 0.0030, launched = 0.0029, images = 0.0029, center = 0.0027, international = 0.0027\n",
      "\n",
      "document = 238642: topic_0 = 0.817, topic_1 = 0.066, topic_3 = 0.066, topic_2 = 0.052\n",
      "In Memoriam2021   Doug Gorsuch Joey Rodriguez Mike Walker Jennifer Hinds Linda Lampe Ricky Texada Dave Campbell James Shillam Eric Lokey  Jack Schwantz Charles Schwantz Adam Webb Nicco Cole Isaiah Lopez Elijah Lopez\n",
      "\n",
      "\n",
      "document = 267372: topic_0 = 0.767, topic_3 = 0.079, topic_2 = 0.077, topic_1 = 0.077\n",
      "NASA picture of the day The Full Moon of 2021: Every Full Moon of 2021 shines in this year-spanning astrophoto project, a composite portrait of the familiar lunar nearside at each brightest lunar phase. Arranged by moonth, the year progresses in stripes beginning at the top.…\n",
      "\n",
      "\n",
      "document = 270010: topic_0 = 0.760, topic_1 = 0.080, topic_2 = 0.080, topic_3 = 0.080\n",
      "The Full Moon of 2021 January 01, 2022 via NASA Every Full Moon of 2021 shines in this year-spanning astrophoto project, a composite portrait of the familiar lunar nearside at each brightest lunar phase. Arranged by moonth, the year progresses in stripes…\n",
      "\n",
      "\n",
      "document = 506239: topic_0 = 0.759, topic_3 = 0.082, topic_2 = 0.080, topic_1 = 0.079\n",
      "The Full Moon of 2021 via NASA  Every Full Moon of 2021 shines in this year-spanning astrophoto project, a composite portrait of the familiar lunar nearside at each brightest lunar phase. Arranged by moonth, the year progresses in stripes beginning at the…\n",
      "\n",
      "\n",
      "document = 122255: topic_0 = 0.756, topic_1 = 0.088, topic_2 = 0.081, topic_3 = 0.075\n",
      "Builds Bridge Across Ladakh's Pangong Lake That Was Key Flashpoint Satellite imagery accessed by geo-intelligence expert Damien Symon indicates that# China may be constructing a bridge across Pangong lake in eastern\n",
      "\n",
      "\n",
      "document = 128997: topic_0 = 0.745, topic_3 = 0.114, topic_2 = 0.071, topic_1 = 0.070\n",
      "Taking on a role once reserved for spies, amateur sleuths and analysts with private and nongovernmental organizations are tracking Russia’s military buildup day by day, mining commercial satellite images, social media posts &amp; flight-tracking data\n",
      "\n",
      "\n",
      "document = 98869: topic_0 = 0.743, topic_2 = 0.108, topic_1 = 0.076, topic_3 = 0.073\n",
      "Congratulations to defender, Pius Baffour Awuah on winning the player of the month for DecemberIt’s been a close call this one but one that he deservesOur CEO Anwar Sadat presented to him 50inch television from our Sponsers Kennedy Digital Satellite\n",
      "\n",
      "\n",
      "document = 57794: topic_0 = 0.738, topic_3 = 0.104, topic_2 = 0.081, topic_1 = 0.077\n",
      "Prez  signed  forced labor prevention act into law on Dec 23; China criticized  SpaceX “unsafe” satellite conduct on Dec 28; opens Showroom in Urumqi, center of China’s Uyghur genocide, on Dec 31;Did you see what China did there?\n",
      "\n",
      "\n",
      "document = 480175: topic_0 = 0.737, topic_1 = 0.153, topic_2 = 0.060, topic_3 = 0.050\n",
      "How my 2021 was. Laycon, Roddy Ricch, Kizz Daniel, Olamide, Simi, Wizkid, Fireboy, MI Abaga, Davido, Burna Boy, Joeboy, Bella Shmurda, Vee( Veeiye ), Ruger, Dababy, Waje, DJ Neptune, Wande Coal,Nipsey Hussle,Naira Marley, n others.. Thanks 4 blessing my ears with good music\n",
      "\n",
      "\n",
      "document = 472507: topic_0 = 0.734, topic_3 = 0.104, topic_2 = 0.081, topic_1 = 0.081\n",
      "SpaceX • CALENDAR• TUES, Jan 4 - THURS, Jan 6-10am-6pm CSTRoad and Beach Closures TESTINGBoca Chica, TX• NET THURS, Jan 6- F9 - Starlink Grp 4-5 LAUNCHLC-39A, KSC, FL• THURS, Jan 13-10:00am ESTF9 - Transporter 3 LAUNCHSLC-40, Cape Canaveral SFS, FL\n",
      "\n",
      "\n",
      "document = 92668: topic_0 = 0.729, topic_2 = 0.100, topic_1 = 0.088, topic_3 = 0.083\n",
      "Chinese astronauts aboard the Tiangong  station will host a live video call on Jan 1 and interact with young students at ground venues in Beijing and the  and  special administrative regions, according to the China Manned Space Agency.\n",
      "\n",
      "\n",
      "document = 268457: topic_0 = 0.726, topic_2 = 0.092, topic_3 = 0.092, topic_1 = 0.091\n",
      "Full Moon of 2021 Full Moon of 2021 shines in this year-spanning astrophoto project, a composite portrait of the familiar lunar nearside at each brightest lunar phase. Arranged by moonth, the year pr…\n",
      "\n",
      "\n",
      "========================= topic = topic_1 =========================\n",
      "saturn = 0.0142, jupiter = 0.0134, pluto = 0.0121, neptune = 0.0072, house = 0.0060, uranus = 0.0057, venus = 0.0055, astronomy = 0.0054, pisces = 0.0048, mercury = 0.0043, night = 0.0041, return = 0.0038, capricorn = 0.0036, thought = 0.0035, others = 0.0030\n",
      "\n",
      "document = 325634: topic_1 = 0.802, topic_2 = 0.077, topic_3 = 0.061, topic_0 = 0.060\n",
      "my astrological headcanon for anakin is scorpio moon in the 12th house, ruled by pluto/mars. pluto=obsession, control, “rebirth”. mars=aggression. scorpio moon+12h=delusion, obsession, power, hidden enemies, manipulation. scorpio moons feels intensely, passionately, obsessively\n",
      "\n",
      "\n",
      "document = 341832: topic_1 = 0.761, topic_2 = 0.085, topic_0 = 0.078, topic_3 = 0.076\n",
      "Saturn is still square Uranus, but the lighter and harmonious trine aspects to Uranus does soften Saturn square Uranus’ annoyance some. In 2022, Saturn square Uranus isn’t going to be such a defining aspect, although it will exact in 2022 a few times again.\n",
      "\n",
      "\n",
      "document = 170876: topic_1 = 0.753, topic_3 = 0.084, topic_2 = 0.082, topic_0 = 0.081\n",
      "So i am a virgo sun , scorpio moon , ascendant and pluto in Sagittarius , mercury in virgo , Mars in virgo too , cancer venus, Jupiter in virgo , Saturn in cancer , Uranus Pisces, Neptune Aquarius, Black Moon Lilith in Cancer , etc etc\n",
      "\n",
      "\n",
      "document = 409630: topic_1 = 0.751, topic_0 = 0.086, topic_2 = 0.082, topic_3 = 0.082\n",
      "Astrology aspects 5th January 2022Moon 23 degrees 34 minutes Aquarius semi-square Chiron 8 degrees 34 minutes Aries 1.24 pm GMT.Retrograde Venus 20 degrees 45 minutes Capricorn sextile Neptune 20 degrees 45 minutes Pisces 4.04 pm GMT.\n",
      "\n",
      "\n",
      "document = 475739: topic_1 = 0.749, topic_3 = 0.102, topic_2 = 0.076, topic_0 = 0.073\n",
      "Scorpio Rising means socially ruled by Mars and Pluto which gives you a rebellious nature. You rather be honest than nice. You prefer deep connections, you’re karma comes back fast, you may bring out other peoples insecurities. But fun Intuitive &amp; persistent\n",
      "\n",
      "\n",
      "document = 462412: topic_1 = 0.748, topic_2 = 0.103, topic_3 = 0.078, topic_0 = 0.070\n",
      "9LVIRMB0 NVD  IMPACT: EXPLOIT:    : The input fields in the JSP version of the Apache Pluto Applicant MVCBean CDI portlet are vulnerable to Cross-Site Scripting (XSS) attacks. Users should migrate to version 3.1.1 of the applicant-mvcbea\n",
      "\n",
      "\n",
      "document = 535458: topic_1 = 0.746, topic_2 = 0.089, topic_0 = 0.083, topic_3 = 0.081\n",
      "Empowerment through discernment and discipline of her character). And has manifested in her self-love within her love life, creations, and personal pursuits - traits of the 5th house. Her Grandfather was the embodiment of her Saturn placement. He was her Saturn.\n",
      "\n",
      "\n",
      "document = 463418: topic_1 = 0.744, topic_3 = 0.089, topic_0 = 0.084, topic_2 = 0.084\n",
      "favorite natal aspects I have: Jupiter trine chiron Sun trine Chiron Chiron conjunct point of fortuneLilith Moon conjunct marsJupiter in 8H Venus rising Mercury in 12H 8 degrees (Scorpio) 12h sun 22 degree Neptune 29 degrees\n",
      "\n",
      "\n",
      "document = 409602: topic_1 = 0.740, topic_0 = 0.090, topic_2 = 0.085, topic_3 = 0.085\n",
      "Astrology aspects 5th January 2022Moon 20 degrees 45 minutes Aquarius semi-sextile Neptune 20 degrees 45 minutes Pisces 8.42 am GMT.Moon 20 degrees 56 minutes Aquarius semi-sextile retrograde Venus 20 degrees 56 minutes Capricorn 9.00 am GMT.\n",
      "\n",
      "\n",
      "========================= topic = topic_2 =========================\n",
      "earth = 0.0112, science = 0.0079, space = 0.0074, planet = 0.0067, system = 0.0053, solar = 0.0043, light = 0.0042, orbit = 0.0041, human = 0.0037, hubble = 0.0036, universe = 0.0032, small = 0.0031, build = 0.0030, exploration = 0.0030, research = 0.0030\n",
      "\n",
      "document = 596363: topic_2 = 0.759, topic_3 = 0.087, topic_0 = 0.084, topic_1 = 0.069\n",
      "Who thinks about kaolinite? (Clay mineralogy XRD is excruciating.) Fun NASA Observatory article about kaolinite in Cornwall-porcelain for Wedgewood, Spode, etc. There thanks to granite (feldspar &amp; mica rich) intruded as Pangea was being assembled 280 mya\n",
      "\n",
      "\n",
      "document = 53204: topic_2 = 0.719, topic_0 = 0.110, topic_1 = 0.088, topic_3 = 0.083\n",
      "Raksha Mantri  inaugurates Kalpana Chawla Centre for Research in Space Science &amp; Technology at Chandigarh UniversityMinister terms it as an important step towards strengthening the space sector  Read here:\n",
      "\n",
      "\n",
      "document = 126319: topic_2 = 0.716, topic_1 = 0.114, topic_3 = 0.086, topic_0 = 0.083\n",
      "In relation to electrification/heat pump, the decision to do air sealing, attic insulation, crawl space sealing, and/or deep energy retrofit _before_ the heating/cooling upgrades could be interesting.\n",
      "\n",
      "\n",
      "document = 113013: topic_2 = 0.710, topic_3 = 0.103, topic_1 = 0.095, topic_0 = 0.092\n",
      "Idk why we have to memorize formulas for exams. I don’t think people who do calculations for NASA memorize formulas. Can you imagine how many things would’ve blown up by now if they relied on memorizing formulas to do their calculations?\n",
      "\n",
      "\n",
      "========================= topic = topic_3 =========================\n",
      "spacex = 0.0098, telescope = 0.0095, james = 0.0057, space = 0.0055, shuttle = 0.0054, tesla = 0.0042, trying = 0.0038, company = 0.0034, working = 0.0030, government = 0.0029, covid = 0.0028, question = 0.0027, taking = 0.0026, twitter = 0.0025, needs = 0.0025\n",
      "\n",
      "document = 39165: topic_3 = 0.767, topic_1 = 0.084, topic_2 = 0.075, topic_0 = 0.075\n",
      "CASH GAME ACTION24/7DEALERS ARE READYBAD BEAT JACKPOT 6pm - 6amPRIZEPOOL - £130,000QUALIFYING HAND - QUAD QUEENS OR BETTERTOURNAMENT888 - OPENER SATELLITESTART - 7:05pmBUY IN - £44 + £6CHIPS - 10,000CLOCK - 5 x 24 MINS/ 20 MINSLATE REG. - END OF LEVEL 5\n",
      "\n",
      "\n",
      "document = 447003: topic_3 = 0.720, topic_2 = 0.123, topic_0 = 0.089, topic_1 = 0.068\n",
      "Best  from 2021: 1) Secrets of Professional Tournament Poker2) Endgame Poker Strategy3)  4) Poker Satellite Success!  Essential Poker Concepts6) 4 Bullets7) The Big Blind8) Final Table9) Make BETTER Deals10) El Ejercicio de Perder\n",
      "\n",
      "\n",
      "document = 384348: topic_3 = 0.719, topic_2 = 0.103, topic_0 = 0.090, topic_1 = 0.087\n",
      "Rao betrayed Moi when they were in a coalition, he then betrayed Pentagon then later betrayed NASA and finally betrayed his supporters who were maimed and killed by the regime that he is now in bed with, halafu uniambie nishikane na huyu mtu, ziiiiiiiiiii i cant support him...\n",
      "\n",
      "\n",
      "document = 36903: topic_3 = 0.708, topic_2 = 0.107, topic_0 = 0.093, topic_1 = 0.092\n",
      "James Webb Space Telescope completes tricky sunshield deployment. The telescope has successfully deployed all five layers of its tennis-court-sized sunshield, a prerequisite for the telescope's science operations and the most nerve-wracking part of its...\n",
      "\n",
      "\n",
      "document = 270727: topic_3 = 0.706, topic_0 = 0.158, topic_2 = 0.069, topic_1 = 0.066\n",
      "1) Al-Marwazi (c. 766-869) was a Muslim astronomer, geographer, and mathematician from Merv, Khorasan who for the first time described the trigonometric ratios: sine, cosine, tangent, and cotangent. He flourished in Baghdad and worked under the caliphs Ma'mun and al-Mu'tasim. 1/2\n",
      "\n",
      "\n",
      "document = 517086: topic_3 = 0.705, topic_0 = 0.127, topic_2 = 0.096, topic_1 = 0.072\n",
      "NEW - Two-thirds of the 25 staff based in Belgium's Polar Station infected with Covid despite being fully vaccinated, passing multiple PCR tests, strict health precautions, quarantining, and living miles from civilization (Telegraph)International space station next\n",
      "\n",
      "\n",
      "document = 256561: topic_3 = 0.699, topic_2 = 0.131, topic_1 = 0.092, topic_0 = 0.077\n",
      "The Pillar of the Boatmen, from Lutetia -Paris, an offering to Tiberius &amp;  Jupiter, by the boatmen of the Seine, 1st C AD. It presents Roman &amp; Gallo-Celtic deities with inscriptions: Jove, Vulcan, Fortuna, Castor -Rome-, &amp; Tarvos Trigaranus, Esus, Cernunnos &amp; Smetrios  -Gaul-.\n",
      "\n",
      "\n",
      "document = 169955: topic_3 = 0.695, topic_2 = 0.110, topic_1 = 0.098, topic_0 = 0.097\n",
      "Sers and Madems,  has reached escape velocity and is now in deep space. Introducing xDollar V2  The next generation of Multi-Chain, Non-Custodial, stablecoins. Check out this awesome vid by  and\n",
      "\n",
      "\n",
      "document = 19532: topic_3 = 0.691, topic_1 = 0.132, topic_2 = 0.089, topic_0 = 0.088\n",
      "Musk is a fraud and it’s time people realizes this. Tesla is vastly over-valued and he warned SpaceX employees it may go bankrupt if they didn’t work thru Thanksgiving. He was fired from PayPal and had little to do with its success.\n",
      "\n",
      "\n",
      "document = 214147: topic_3 = 0.691, topic_2 = 0.127, topic_1 = 0.093, topic_0 = 0.090\n",
      "LOOK HERE!ONE OF MY VERY FAVORITE PART OF THE LAC DES CYGNES BY THE BOLCHOÏ:THE FAST ULTRA LIGHTWEIGHT SIDESTRAFING SIDETRAVELING WALKS:Le lac des Cygnes par le ballet du Bolchoï JP Morgan Chase\n",
      "\n",
      "\n",
      "document = 56002: topic_3 = 0.684, topic_0 = 0.127, topic_2 = 0.100, topic_1 = 0.089\n",
      "new space telescope 'hunky-dory' after problems fixed:  new space telescope is on the verge of completing the riskiest part of its mission—unfolding &amp; tightening a huge sunshade—after ground controllers fixed a pair of problems\n",
      "CPU times: user 115 ms, sys: 4.21 ms, total: 119 ms\n",
      "Wall time: 6.93 s\n"
     ]
    }
   ],
   "source": [
    "%%time\n",
    "visual_sep = '=' * 25\n",
    "for q, topic_col in enumerate([f\"topic_{n}\" for n in range(num_topics)]):\n",
    "    # Get top 50 documents based on predicted probability, within a single topic\n",
    "    df_single_topic = df_processed_topics_matrix_cached.select(\n",
    "        cols_to_show_when_reading\n",
    "    ).filter(\n",
    "        f\"dominant_topic == '{topic_col}'\"\n",
    "    ).orderBy(topic_col, ascending=[False]).limit(50)\n",
    "    # Get a random sample of the top 50 documents (tweets)\n",
    "    n_rows_proc = df_single_topic.count()\n",
    "    df_single_topic = df_single_topic.sample(\n",
    "        withReplacement=False,\n",
    "        fraction=num_top_docs_to_read / n_rows_proc,\n",
    "    )\n",
    "    # Convert sample to pandas (this will be a small DataFrame of < 10 rows)\n",
    "    df_single_topic_pandas = df_single_topic.toPandas()\n",
    "\n",
    "    # Create string of top n terms and term weights\n",
    "    term_weights_names_str = \", \".join(\n",
    "        [\n",
    "            f\"{row['termNames']} = {row['termWeights']:.4f}\"\n",
    "            for _, row in (\n",
    "                dff.query(f\"topic == '{topic_col}'\").iloc[:, -2:].iterrows()\n",
    "            )\n",
    "        ]\n",
    "    )\n",
    "    if q > 0:\n",
    "        print(\"\\n\")\n",
    "    print(f\"{visual_sep} topic = {topic_col} {visual_sep}\\n{term_weights_names_str}\\n\")\n",
    "    # Print random sample of the text of the tweet from the n documents with the highest\n",
    "    # predicted probability of belonging to a given topic\n",
    "    # - this involves iterating over the rows of the small pandas DataFrame created above\n",
    "    for idx, row in df_single_topic_pandas.iterrows():\n",
    "        topic_probs_str = \", \".join(\n",
    "            [\n",
    "                f\"{topic_name_str} = {topic_prob_value:.3f}\"\n",
    "                for topic_name_str, topic_prob_value in row[topic_cols]\n",
    "                .sort_values(ascending=False)\n",
    "                .iteritems()\n",
    "            ]\n",
    "        )\n",
    "        print(f\"document = {row['document']}: {topic_probs_str}\\n{row['reviewText'].strip()}\")\n",
    "        if idx < len(df_single_topic_pandas) - 1:\n",
    "            print(\"\\n\")"
   ]
  },
  {
   "cell_type": "markdown",
   "id": "2f846877",
   "metadata": {},
   "source": [
    "**Notes**\n",
    "1. These should allow for fine-tuning the choices of topic names determined by inspecting the top terms in each topic."
   ]
  },
  {
   "cell_type": "markdown",
   "id": "204ea949",
   "metadata": {},
   "source": [
    "**Observations**\n",
    "1. When 10-12 topics were chosen, a number of different topics contained tweets about the same subject. This is an indicator that the number of topics must be reduced. When 5-7 topics were picked, the overlap reduced sufficiently that it seemed like there was some distinction between the topics. **From the runs of this notebook with varying `num_topics` (number of topics passed to the LDA algorithm), the optimal choice for the number of topics in the streamed twitter data was determined to be 4, based on the best combination of (a) reading the content of the tweets with the highest predicted probability of belonging to a topic and (b) interpreting the top terms (by weight) per topic.**\n",
    "2. It is possible that there are two choices for the optimal number of topics\n",
    "   - choosing a smaller number that reveals the high-level topics (this appears to be the case here)\n",
    "   - choosing a larger number that reveals the low-level topics, possibly sub-topics within each of the high-level topics\n",
    "     - from the preliminary tuning of `num_topics` done here, using this approach, it was not possible to extract meaningful topics that were also able to capture the same subject (in the text of the tweets) as the subject suggested by the top terms (by weight) in each topic\n",
    "3. It is clear that further pre-processing is required to filter out the *leftover duplicated tweets*. Without doing this, it can be difficult to use the output printed above to fine-tune / verify the name of the topic found using the top words in each topic, since multiple (duplicated) versions of the same tweet appear in the random sample of the top `n` tweets (documents) within each topic. We want these printed tweets to be unique since such text will help to verify the name assigned to the topics. Futher filtering to remove these duplicates (by extending the list `unwanted_partial_strings_list` used to filter tweets in `3_combined_data.ipynb`) does appear necessary before reading tweets will be useful for naming topics and picking an appropriate number of topics."
   ]
  },
  {
   "cell_type": "markdown",
   "id": "8a9bb9d0",
   "metadata": {},
   "source": [
    "### Naming the Topics"
   ]
  },
  {
   "cell_type": "markdown",
   "id": "78fa3a23",
   "metadata": {},
   "source": [
    "Based on the top terms per topic and reading the tweets predicted (with a high probability) to belong to a given topic, the following are the names assigned to the topics\n",
    "- topic 3\n",
    "  - All about Satellites and Telescopes for Space Exploration\n",
    "    - Space Mission updates\n",
    "    - space research competition\n",
    "    - space explorer comic book\n",
    "- topic 2\n",
    "  - Activities related to Space Research\n",
    "    - People and companies associated with advancing research in the space sector\n",
    "    - shuttle launch tests\n",
    "    - opening of space research facility\n",
    "- topic 1\n",
    "  - [Astrology](https://undsci.berkeley.edu/article/astrology_checklist) predictions\n",
    "    > Astrology uses a set of rules about the relative positions and movements of heavenly bodies to generate predictions and explanations for events on Earth and human personality traits.\n",
    "- topic 0\n",
    "  - Astronomy\n",
    "    - satellite images of the Earth and Moon\n",
    "    - people involved in astronomy research\n",
    "    - satellite centers associated with facilities also appear here"
   ]
  },
  {
   "cell_type": "markdown",
   "id": "9f499cf3",
   "metadata": {},
   "source": [
    "Use a Python dictionary to replace placeholder values in the `dominant_topic` column of the cached `DataFrame` above with the names assigned above"
   ]
  },
  {
   "cell_type": "code",
   "execution_count": 52,
   "id": "2b4644bf",
   "metadata": {},
   "outputs": [],
   "source": [
    "mapping = {\n",
    "    \"topic_3\": \"Satellites and Telescopes\",\n",
    "    \"topic_2\": \"Activities related to Space Research\",\n",
    "    \"topic_1\": \"Astrology\",\n",
    "    \"topic_0\": \"Astronomy\",\n",
    "}"
   ]
  },
  {
   "cell_type": "markdown",
   "id": "da3dca8e",
   "metadata": {},
   "source": [
    "Show the number of missing values in the mapped `dominant_topic` that would result when applying this mapping (there should be no missing values)"
   ]
  },
  {
   "cell_type": "code",
   "execution_count": 54,
   "id": "e246857a",
   "metadata": {},
   "outputs": [
    {
     "data": {
      "text/plain": [
       "0"
      ]
     },
     "execution_count": 54,
     "metadata": {},
     "output_type": "execute_result"
    }
   ],
   "source": [
    "df_processed_topics_matrix_cached.withColumn(\n",
    "    \"dominant_topic_named\", F.col(\"dominant_topic\")\n",
    ").replace(to_replace=mapping, subset=[\"dominant_topic_named\"]).where(\n",
    "    F.col(\"reviewText\").isNull()\n",
    ").count()"
   ]
  },
  {
   "cell_type": "markdown",
   "id": "12293645",
   "metadata": {},
   "source": [
    "**Observations**\n",
    "1. There are no missing values after applying the mapping."
   ]
  },
  {
   "cell_type": "markdown",
   "id": "cef9d9fe",
   "metadata": {},
   "source": [
    "Apply the mapping"
   ]
  },
  {
   "cell_type": "code",
   "execution_count": 55,
   "id": "524622c2",
   "metadata": {},
   "outputs": [
    {
     "name": "stdout",
     "output_type": "stream",
     "text": [
      "CPU times: user 2.69 ms, sys: 0 ns, total: 2.69 ms\n",
      "Wall time: 25 ms\n"
     ]
    }
   ],
   "source": [
    "%%time\n",
    "df_processed_topics_matrix_cached = df_processed_topics_matrix_cached.withColumn(\n",
    "    \"dominant_topic_named\",\n",
    "    F.col(\"dominant_topic\")\n",
    ").replace(\n",
    "    to_replace=mapping,\n",
    "    subset=['dominant_topic_named']\n",
    ")"
   ]
  },
  {
   "cell_type": "markdown",
   "id": "d21e12e8",
   "metadata": {},
   "source": [
    "We'll also re-generate the above plot with the new topic names"
   ]
  },
  {
   "cell_type": "code",
   "execution_count": 56,
   "id": "ef0d0279",
   "metadata": {},
   "outputs": [
    {
     "name": "stdout",
     "output_type": "stream",
     "text": [
      "CPU times: user 9.94 ms, sys: 4.35 ms, total: 14.3 ms\n",
      "Wall time: 14.3 ms\n"
     ]
    },
    {
     "data": {
      "text/html": [
       "\n",
       "<div id=\"altair-viz-cd5d46771c3d4a3c9ebf1ced3bdae262\"></div>\n",
       "<script type=\"text/javascript\">\n",
       "  (function(spec, embedOpt){\n",
       "    let outputDiv = document.currentScript.previousElementSibling;\n",
       "    if (outputDiv.id !== \"altair-viz-cd5d46771c3d4a3c9ebf1ced3bdae262\") {\n",
       "      outputDiv = document.getElementById(\"altair-viz-cd5d46771c3d4a3c9ebf1ced3bdae262\");\n",
       "    }\n",
       "    const paths = {\n",
       "      \"vega\": \"https://cdn.jsdelivr.net/npm//vega@5?noext\",\n",
       "      \"vega-lib\": \"https://cdn.jsdelivr.net/npm//vega-lib?noext\",\n",
       "      \"vega-lite\": \"https://cdn.jsdelivr.net/npm//vega-lite@4.8.1?noext\",\n",
       "      \"vega-embed\": \"https://cdn.jsdelivr.net/npm//vega-embed@6?noext\",\n",
       "    };\n",
       "\n",
       "    function loadScript(lib) {\n",
       "      return new Promise(function(resolve, reject) {\n",
       "        var s = document.createElement('script');\n",
       "        s.src = paths[lib];\n",
       "        s.async = true;\n",
       "        s.onload = () => resolve(paths[lib]);\n",
       "        s.onerror = () => reject(`Error loading script: ${paths[lib]}`);\n",
       "        document.getElementsByTagName(\"head\")[0].appendChild(s);\n",
       "      });\n",
       "    }\n",
       "\n",
       "    function showError(err) {\n",
       "      outputDiv.innerHTML = `<div class=\"error\" style=\"color:red;\">${err}</div>`;\n",
       "      throw err;\n",
       "    }\n",
       "\n",
       "    function displayChart(vegaEmbed) {\n",
       "      vegaEmbed(outputDiv, spec, embedOpt)\n",
       "        .catch(err => showError(`Javascript Error: ${err.message}<br>This usually means there's a typo in your chart specification. See the javascript console for the full traceback.`));\n",
       "    }\n",
       "\n",
       "    if(typeof define === \"function\" && define.amd) {\n",
       "      requirejs.config({paths});\n",
       "      require([\"vega-embed\"], displayChart, err => showError(`Error loading script: ${err.message}`));\n",
       "    } else if (typeof vegaEmbed === \"function\") {\n",
       "      displayChart(vegaEmbed);\n",
       "    } else {\n",
       "      loadScript(\"vega\")\n",
       "        .then(() => loadScript(\"vega-lite\"))\n",
       "        .then(() => loadScript(\"vega-embed\"))\n",
       "        .catch(showError)\n",
       "        .then(() => displayChart(vegaEmbed));\n",
       "    }\n",
       "  })({\"config\": {\"view\": {\"continuousWidth\": 400, \"continuousHeight\": 300}, \"axis\": {\"labelFontSize\": 14, \"titleFontSize\": 14}, \"concat\": {\"spacing\": 10}}, \"hconcat\": [{\"vconcat\": [{\"mark\": \"bar\", \"encoding\": {\"color\": {\"type\": \"nominal\", \"field\": \"topic\", \"legend\": null, \"scale\": {\"scheme\": \"tableau20\"}}, \"tooltip\": [{\"type\": \"nominal\", \"field\": \"termNames\"}, {\"type\": \"quantitative\", \"field\": \"termWeights\", \"format\": \".6f\"}], \"x\": {\"type\": \"quantitative\", \"field\": \"termWeights\", \"title\": \"\"}, \"y\": {\"type\": \"nominal\", \"field\": \"termNames\", \"sort\": \"-x\", \"title\": \"\"}}, \"height\": 200, \"title\": \"Astronomy\", \"width\": 150}], \"data\": {\"name\": \"data-0d7713b69f4df7ca3ed5f9f1d9abd9af\"}}, {\"vconcat\": [{\"mark\": \"bar\", \"encoding\": {\"color\": {\"type\": \"nominal\", \"field\": \"topic\", \"legend\": null, \"scale\": {\"scheme\": \"tableau20\"}}, \"tooltip\": [{\"type\": \"nominal\", \"field\": \"termNames\"}, {\"type\": \"quantitative\", \"field\": \"termWeights\", \"format\": \".6f\"}], \"x\": {\"type\": \"quantitative\", \"field\": \"termWeights\", \"title\": \"\"}, \"y\": {\"type\": \"nominal\", \"field\": \"termNames\", \"sort\": \"-x\", \"title\": \"\"}}, \"height\": 200, \"title\": \"Astrology\", \"width\": 150}], \"data\": {\"name\": \"data-981dea5ec499c03ee6541d876e583eb8\"}}, {\"vconcat\": [{\"mark\": \"bar\", \"encoding\": {\"color\": {\"type\": \"nominal\", \"field\": \"topic\", \"legend\": null, \"scale\": {\"scheme\": \"tableau20\"}}, \"tooltip\": [{\"type\": \"nominal\", \"field\": \"termNames\"}, {\"type\": \"quantitative\", \"field\": \"termWeights\", \"format\": \".6f\"}], \"x\": {\"type\": \"quantitative\", \"field\": \"termWeights\", \"title\": \"\"}, \"y\": {\"type\": \"nominal\", \"field\": \"termNames\", \"sort\": \"-x\", \"title\": \"\"}}, \"height\": 200, \"title\": \"Activities related to Space Research\", \"width\": 150}], \"data\": {\"name\": \"data-4f3b2fff5fe2b06c7f644414b22025b3\"}}, {\"vconcat\": [{\"mark\": \"bar\", \"encoding\": {\"color\": {\"type\": \"nominal\", \"field\": \"topic\", \"legend\": null, \"scale\": {\"scheme\": \"tableau20\"}}, \"tooltip\": [{\"type\": \"nominal\", \"field\": \"termNames\"}, {\"type\": \"quantitative\", \"field\": \"termWeights\", \"format\": \".6f\"}], \"x\": {\"type\": \"quantitative\", \"field\": \"termWeights\", \"title\": \"\"}, \"y\": {\"type\": \"nominal\", \"field\": \"termNames\", \"sort\": \"-x\", \"title\": \"\"}}, \"height\": 200, \"title\": \"Satellites and Telescopes\", \"width\": 150}], \"data\": {\"name\": \"data-a1d6ffbbddcf808ee88f3751ecfef14e\"}}], \"$schema\": \"https://vega.github.io/schema/vega-lite/v4.8.1.json\", \"datasets\": {\"data-0d7713b69f4df7ca3ed5f9f1d9abd9af\": [{\"topic\": \"Astronomy\", \"termIndices\": 3, \"termWeights\": 0.013682206260554103, \"termNames\": \"satellite\"}, {\"topic\": \"Astronomy\", \"termIndices\": 0, \"termWeights\": 0.00758438919452881, \"termNames\": \"space\"}, {\"topic\": \"Astronomy\", \"termIndices\": 45, \"termWeights\": 0.0074032530595820305, \"termNames\": \"station\"}, {\"topic\": \"Astronomy\", \"termIndices\": 34, \"termWeights\": 0.006394734638702463, \"termNames\": \"launch\"}, {\"topic\": \"Astronomy\", \"termIndices\": 93, \"termWeights\": 0.004359507476051629, \"termNames\": \"china\"}, {\"topic\": \"Astronomy\", \"termIndices\": 86, \"termWeights\": 0.003927476111728838, \"termNames\": \"rocket\"}, {\"topic\": \"Astronomy\", \"termIndices\": 46, \"termWeights\": 0.0039032325352638332, \"termNames\": \"world\"}, {\"topic\": \"Astronomy\", \"termIndices\": 65, \"termWeights\": 0.0032922410282071983, \"termNames\": \"shuttle\"}, {\"topic\": \"Astronomy\", \"termIndices\": 47, \"termWeights\": 0.003229385013047379, \"termNames\": \"image\"}, {\"topic\": \"Astronomy\", \"termIndices\": 344, \"termWeights\": 0.003129355744081052, \"termNames\": \"satellites\"}, {\"topic\": \"Astronomy\", \"termIndices\": 184, \"termWeights\": 0.0029772961646371172, \"termNames\": \"video\"}, {\"topic\": \"Astronomy\", \"termIndices\": 144, \"termWeights\": 0.0029056550587329946, \"termNames\": \"launched\"}, {\"topic\": \"Astronomy\", \"termIndices\": 55, \"termWeights\": 0.0028698943176630313, \"termNames\": \"images\"}, {\"topic\": \"Astronomy\", \"termIndices\": 242, \"termWeights\": 0.002740106247575204, \"termNames\": \"center\"}, {\"topic\": \"Astronomy\", \"termIndices\": 73, \"termWeights\": 0.002675043407671273, \"termNames\": \"international\"}], \"data-981dea5ec499c03ee6541d876e583eb8\": [{\"topic\": \"Astrology\", \"termIndices\": 11, \"termWeights\": 0.01424319039310705, \"termNames\": \"saturn\"}, {\"topic\": \"Astrology\", \"termIndices\": 6, \"termWeights\": 0.013442137992460398, \"termNames\": \"jupiter\"}, {\"topic\": \"Astrology\", \"termIndices\": 26, \"termWeights\": 0.012070573205520702, \"termNames\": \"pluto\"}, {\"topic\": \"Astrology\", \"termIndices\": 90, \"termWeights\": 0.007183381114804946, \"termNames\": \"neptune\"}, {\"topic\": \"Astrology\", \"termIndices\": 211, \"termWeights\": 0.00597964299601502, \"termNames\": \"house\"}, {\"topic\": \"Astrology\", \"termIndices\": 118, \"termWeights\": 0.005669805591474492, \"termNames\": \"uranus\"}, {\"topic\": \"Astrology\", \"termIndices\": 78, \"termWeights\": 0.005543101725224882, \"termNames\": \"venus\"}, {\"topic\": \"Astrology\", \"termIndices\": 80, \"termWeights\": 0.005371978686290473, \"termNames\": \"astronomy\"}, {\"topic\": \"Astrology\", \"termIndices\": 72, \"termWeights\": 0.004774714298187871, \"termNames\": \"pisces\"}, {\"topic\": \"Astrology\", \"termIndices\": 145, \"termWeights\": 0.004342262176696443, \"termNames\": \"mercury\"}, {\"topic\": \"Astrology\", \"termIndices\": 135, \"termWeights\": 0.004111566712020398, \"termNames\": \"night\"}, {\"topic\": \"Astrology\", \"termIndices\": 327, \"termWeights\": 0.0037887731064326254, \"termNames\": \"return\"}, {\"topic\": \"Astrology\", \"termIndices\": 116, \"termWeights\": 0.003553209700359916, \"termNames\": \"capricorn\"}, {\"topic\": \"Astrology\", \"termIndices\": 332, \"termWeights\": 0.0035281140313272656, \"termNames\": \"thought\"}, {\"topic\": \"Astrology\", \"termIndices\": 364, \"termWeights\": 0.0030337412671296634, \"termNames\": \"others\"}], \"data-4f3b2fff5fe2b06c7f644414b22025b3\": [{\"topic\": \"Activities related to Space Research\", \"termIndices\": 13, \"termWeights\": 0.0111715320525973, \"termNames\": \"earth\"}, {\"topic\": \"Activities related to Space Research\", \"termIndices\": 16, \"termWeights\": 0.007945154505033759, \"termNames\": \"science\"}, {\"topic\": \"Activities related to Space Research\", \"termIndices\": 0, \"termWeights\": 0.007427560571967639, \"termNames\": \"space\"}, {\"topic\": \"Activities related to Space Research\", \"termIndices\": 17, \"termWeights\": 0.00668666564712853, \"termNames\": \"planet\"}, {\"topic\": \"Activities related to Space Research\", \"termIndices\": 106, \"termWeights\": 0.005335442726769952, \"termNames\": \"system\"}, {\"topic\": \"Activities related to Space Research\", \"termIndices\": 81, \"termWeights\": 0.0042796771909742225, \"termNames\": \"solar\"}, {\"topic\": \"Activities related to Space Research\", \"termIndices\": 5, \"termWeights\": 0.004221318392915409, \"termNames\": \"light\"}, {\"topic\": \"Activities related to Space Research\", \"termIndices\": 58, \"termWeights\": 0.004141417897922666, \"termNames\": \"orbit\"}, {\"topic\": \"Activities related to Space Research\", \"termIndices\": 152, \"termWeights\": 0.003684716974853843, \"termNames\": \"human\"}, {\"topic\": \"Activities related to Space Research\", \"termIndices\": 27, \"termWeights\": 0.003612605253090478, \"termNames\": \"hubble\"}, {\"topic\": \"Activities related to Space Research\", \"termIndices\": 7, \"termWeights\": 0.003246616156986116, \"termNames\": \"universe\"}, {\"topic\": \"Activities related to Space Research\", \"termIndices\": 96, \"termWeights\": 0.003128964160338967, \"termNames\": \"small\"}, {\"topic\": \"Activities related to Space Research\", \"termIndices\": 504, \"termWeights\": 0.003016801026919204, \"termNames\": \"build\"}, {\"topic\": \"Activities related to Space Research\", \"termIndices\": 94, \"termWeights\": 0.0029996369430387547, \"termNames\": \"exploration\"}, {\"topic\": \"Activities related to Space Research\", \"termIndices\": 89, \"termWeights\": 0.0029529441758287165, \"termNames\": \"research\"}], \"data-a1d6ffbbddcf808ee88f3751ecfef14e\": [{\"topic\": \"Satellites and Telescopes\", \"termIndices\": 74, \"termWeights\": 0.00983243703138462, \"termNames\": \"spacex\"}, {\"topic\": \"Satellites and Telescopes\", \"termIndices\": 2, \"termWeights\": 0.009486459324928826, \"termNames\": \"telescope\"}, {\"topic\": \"Satellites and Telescopes\", \"termIndices\": 56, \"termWeights\": 0.005667770675248401, \"termNames\": \"james\"}, {\"topic\": \"Satellites and Telescopes\", \"termIndices\": 0, \"termWeights\": 0.005533269044306088, \"termNames\": \"space\"}, {\"topic\": \"Satellites and Telescopes\", \"termIndices\": 65, \"termWeights\": 0.005398199982076499, \"termNames\": \"shuttle\"}, {\"topic\": \"Satellites and Telescopes\", \"termIndices\": 248, \"termWeights\": 0.004247360198563488, \"termNames\": \"tesla\"}, {\"topic\": \"Satellites and Telescopes\", \"termIndices\": 475, \"termWeights\": 0.0037728752999276103, \"termNames\": \"trying\"}, {\"topic\": \"Satellites and Telescopes\", \"termIndices\": 371, \"termWeights\": 0.0033761677211647805, \"termNames\": \"company\"}, {\"topic\": \"Satellites and Telescopes\", \"termIndices\": 148, \"termWeights\": 0.003049972780849363, \"termNames\": \"working\"}, {\"topic\": \"Satellites and Telescopes\", \"termIndices\": 468, \"termWeights\": 0.0029212849369443317, \"termNames\": \"government\"}, {\"topic\": \"Satellites and Telescopes\", \"termIndices\": 537, \"termWeights\": 0.00282368332405816, \"termNames\": \"covid\"}, {\"topic\": \"Satellites and Telescopes\", \"termIndices\": 574, \"termWeights\": 0.002693055491068919, \"termNames\": \"question\"}, {\"topic\": \"Satellites and Telescopes\", \"termIndices\": 357, \"termWeights\": 0.002586696690518494, \"termNames\": \"taking\"}, {\"topic\": \"Satellites and Telescopes\", \"termIndices\": 340, \"termWeights\": 0.0025452294494371233, \"termNames\": \"twitter\"}, {\"topic\": \"Satellites and Telescopes\", \"termIndices\": 469, \"termWeights\": 0.0025270570952132775, \"termNames\": \"needs\"}]}}, {\"padding\": {\"left\": 0, \"right\": 0, \"bottom\": 0, \"top\": 0}, \"mode\": \"vega-lite\"});\n",
       "</script>"
      ],
      "text/plain": [
       "alt.HConcatChart(...)"
      ]
     },
     "execution_count": 56,
     "metadata": {},
     "output_type": "execute_result"
    }
   ],
   "source": [
    "%%time\n",
    "vh.altair_plot_grid_by_column(\n",
    "    dff.replace({\"topic\": mapping}),\n",
    "    xvar=\"termWeights\",\n",
    "    yvar=\"termNames\",\n",
    "    col2grid=\"topic\",\n",
    "    space_between_plots=10,\n",
    "    row_size=1,\n",
    "    fig_size=(150, 200),\n",
    ")"
   ]
  },
  {
   "cell_type": "markdown",
   "id": "752cf2c1",
   "metadata": {},
   "source": [
    "## Merge with Processed Data and Export to S3 `predictions/` sub-folder"
   ]
  },
  {
   "cell_type": "markdown",
   "id": "b947b9a2",
   "metadata": {},
   "source": [
    "### Merge"
   ]
  },
  {
   "cell_type": "markdown",
   "id": "f873ec86",
   "metadata": {},
   "source": [
    "The processed data is shown below (this was before duplicates in the `reviewText_processed` column were dropped and after tweets were filtered by their length)"
   ]
  },
  {
   "cell_type": "code",
   "execution_count": 57,
   "id": "899df7c8",
   "metadata": {},
   "outputs": [
    {
     "name": "stdout",
     "output_type": "stream",
     "text": [
      "CPU times: user 8.43 ms, sys: 3.55 ms, total: 12 ms\n",
      "Wall time: 861 ms\n"
     ]
    },
    {
     "data": {
      "text/html": [
       "<div>\n",
       "<style scoped>\n",
       "    .dataframe tbody tr th:only-of-type {\n",
       "        vertical-align: middle;\n",
       "    }\n",
       "\n",
       "    .dataframe tbody tr th {\n",
       "        vertical-align: top;\n",
       "    }\n",
       "\n",
       "    .dataframe thead th {\n",
       "        text-align: right;\n",
       "    }\n",
       "</style>\n",
       "<table border=\"1\" class=\"dataframe\">\n",
       "  <thead>\n",
       "    <tr style=\"text-align: right;\">\n",
       "      <th></th>\n",
       "      <th>document</th>\n",
       "      <th>created_at</th>\n",
       "      <th>user_joined</th>\n",
       "      <th>in_reply_to_screen_name</th>\n",
       "      <th>source_text</th>\n",
       "      <th>place_country</th>\n",
       "      <th>user_followers</th>\n",
       "      <th>user_friends</th>\n",
       "      <th>user_listed</th>\n",
       "      <th>user_favourites</th>\n",
       "      <th>user_statuses</th>\n",
       "      <th>user_protected</th>\n",
       "      <th>user_verified</th>\n",
       "      <th>user_location</th>\n",
       "      <th>reviewText</th>\n",
       "    </tr>\n",
       "  </thead>\n",
       "  <tbody>\n",
       "    <tr>\n",
       "      <th>0</th>\n",
       "      <td>3</td>\n",
       "      <td>2022-01-05 16:00:39+00:00</td>\n",
       "      <td>2018-01-21 00:36:55+00:00</td>\n",
       "      <td>SpaceX</td>\n",
       "      <td>Twitter for iPhone</td>\n",
       "      <td>None</td>\n",
       "      <td>158</td>\n",
       "      <td>230</td>\n",
       "      <td>1</td>\n",
       "      <td>4092</td>\n",
       "      <td>2271</td>\n",
       "      <td>False</td>\n",
       "      <td>False</td>\n",
       "      <td>Deutschland</td>\n",
       "      <td>Mr.  , can you resuscitate the   project. ...</td>\n",
       "    </tr>\n",
       "    <tr>\n",
       "      <th>1</th>\n",
       "      <td>6</td>\n",
       "      <td>2022-01-03 00:42:42+00:00</td>\n",
       "      <td>2018-03-13 13:57:44+00:00</td>\n",
       "      <td>None</td>\n",
       "      <td>Twitter for Android</td>\n",
       "      <td>None</td>\n",
       "      <td>37</td>\n",
       "      <td>690</td>\n",
       "      <td>0</td>\n",
       "      <td>8475</td>\n",
       "      <td>189</td>\n",
       "      <td>False</td>\n",
       "      <td>False</td>\n",
       "      <td>None</td>\n",
       "      <td>Receiving  first images of the early universe,...</td>\n",
       "    </tr>\n",
       "    <tr>\n",
       "      <th>2</th>\n",
       "      <td>7</td>\n",
       "      <td>2022-01-05 16:00:41+00:00</td>\n",
       "      <td>2018-07-05 12:50:08+00:00</td>\n",
       "      <td>None</td>\n",
       "      <td>Twitter for iPhone</td>\n",
       "      <td>None</td>\n",
       "      <td>237</td>\n",
       "      <td>2772</td>\n",
       "      <td>0</td>\n",
       "      <td>2233</td>\n",
       "      <td>13060</td>\n",
       "      <td>False</td>\n",
       "      <td>False</td>\n",
       "      <td>she/her</td>\n",
       "      <td>|| 100 USD || 1,4 JUTA IDR |||| one winner || ...</td>\n",
       "    </tr>\n",
       "  </tbody>\n",
       "</table>\n",
       "</div>"
      ],
      "text/plain": [
       "   document                 created_at                user_joined  \\\n",
       "0         3  2022-01-05 16:00:39+00:00  2018-01-21 00:36:55+00:00   \n",
       "1         6  2022-01-03 00:42:42+00:00  2018-03-13 13:57:44+00:00   \n",
       "2         7  2022-01-05 16:00:41+00:00  2018-07-05 12:50:08+00:00   \n",
       "\n",
       "  in_reply_to_screen_name          source_text place_country  user_followers  \\\n",
       "0                  SpaceX   Twitter for iPhone          None             158   \n",
       "1                    None  Twitter for Android          None              37   \n",
       "2                    None   Twitter for iPhone          None             237   \n",
       "\n",
       "   user_friends  user_listed  user_favourites  user_statuses  user_protected  \\\n",
       "0           230            1             4092           2271           False   \n",
       "1           690            0             8475            189           False   \n",
       "2          2772            0             2233          13060           False   \n",
       "\n",
       "   user_verified user_location  \\\n",
       "0          False   Deutschland   \n",
       "1          False          None   \n",
       "2          False       she/her   \n",
       "\n",
       "                                          reviewText  \n",
       "0      Mr.  , can you resuscitate the   project. ...  \n",
       "1  Receiving  first images of the early universe,...  \n",
       "2  || 100 USD || 1,4 JUTA IDR |||| one winner || ...  "
      ]
     },
     "execution_count": 57,
     "metadata": {},
     "output_type": "execute_result"
    }
   ],
   "source": [
    "%%time\n",
    "show_pyspark_df(df_text_processed_no_blanks.select(all_cols_to_process), 3)"
   ]
  },
  {
   "cell_type": "markdown",
   "id": "38261661",
   "metadata": {},
   "source": [
    "**Notes**\n",
    "1. The predicted topics are only valid for the tweets (texts) that are sufficiently long. For this reason, we can only merge with the processed data that was prepared by removing the short tweets and cannot merge with the raw data since there would be a lot of tweets without a predicted topic."
   ]
  },
  {
   "cell_type": "markdown",
   "id": "53471218",
   "metadata": {},
   "source": [
    "We'll now `LEFT JOIN` this with the filtered data that was used for LDA analysis, so that we can get the topic assigned to all duplicates of a particular tweet. The join will be performed on the processed version of the tweet text column"
   ]
  },
  {
   "cell_type": "code",
   "execution_count": 121,
   "id": "e6ea1381",
   "metadata": {},
   "outputs": [
    {
     "name": "stdout",
     "output_type": "stream",
     "text": [
      "CPU times: user 23.9 ms, sys: 1.32 ms, total: 25.3 ms\n",
      "Wall time: 206 ms\n"
     ]
    },
    {
     "data": {
      "text/html": [
       "<div>\n",
       "<style scoped>\n",
       "    .dataframe tbody tr th:only-of-type {\n",
       "        vertical-align: middle;\n",
       "    }\n",
       "\n",
       "    .dataframe tbody tr th {\n",
       "        vertical-align: top;\n",
       "    }\n",
       "\n",
       "    .dataframe thead th {\n",
       "        text-align: right;\n",
       "    }\n",
       "</style>\n",
       "<table border=\"1\" class=\"dataframe\">\n",
       "  <thead>\n",
       "    <tr style=\"text-align: right;\">\n",
       "      <th></th>\n",
       "      <th>reviewText_processed</th>\n",
       "      <th>document</th>\n",
       "      <th>created_at</th>\n",
       "      <th>user_joined</th>\n",
       "      <th>in_reply_to_screen_name</th>\n",
       "      <th>source_text</th>\n",
       "      <th>place_country</th>\n",
       "      <th>user_followers</th>\n",
       "      <th>user_friends</th>\n",
       "      <th>user_listed</th>\n",
       "      <th>user_favourites</th>\n",
       "      <th>user_statuses</th>\n",
       "      <th>user_protected</th>\n",
       "      <th>user_verified</th>\n",
       "      <th>user_location</th>\n",
       "      <th>reviewText</th>\n",
       "      <th>reviewText</th>\n",
       "      <th>dominant_topic_named</th>\n",
       "      <th>dominant_prob</th>\n",
       "    </tr>\n",
       "  </thead>\n",
       "  <tbody>\n",
       "    <tr>\n",
       "      <th>0</th>\n",
       "      <td>p   amp see how they amp  their industr...</td>\n",
       "      <td>188020</td>\n",
       "      <td>2022-01-03 07:49:26+00:00</td>\n",
       "      <td>2009-11-13 04:12:25+00:00</td>\n",
       "      <td>None</td>\n",
       "      <td>Twitter for Android</td>\n",
       "      <td>United States</td>\n",
       "      <td>22</td>\n",
       "      <td>13</td>\n",
       "      <td>8</td>\n",
       "      <td>2721</td>\n",
       "      <td>35608</td>\n",
       "      <td>False</td>\n",
       "      <td>False</td>\n",
       "      <td>None</td>\n",
       "      <td>1/2/22:p7:&amp;amp;See how they&amp;amp; their INDUST...</td>\n",
       "      <td>1/2/22:p7:&amp;amp;See how they&amp;amp; their INDUST...</td>\n",
       "      <td>Astronomy</td>\n",
       "      <td>0.360174</td>\n",
       "    </tr>\n",
       "    <tr>\n",
       "      <th>1</th>\n",
       "      <td>was a mass ritual  induction to the new w...</td>\n",
       "      <td>360122</td>\n",
       "      <td>2022-01-05 02:09:37+00:00</td>\n",
       "      <td>2021-06-07 13:11:48+00:00</td>\n",
       "      <td>None</td>\n",
       "      <td>Twitter for iPhone</td>\n",
       "      <td>None</td>\n",
       "      <td>1216</td>\n",
       "      <td>252</td>\n",
       "      <td>7</td>\n",
       "      <td>5390</td>\n",
       "      <td>6455</td>\n",
       "      <td>False</td>\n",
       "      <td>False</td>\n",
       "      <td>Orlando, FL</td>\n",
       "      <td>9/11 was a mass ritual, induction to the new w...</td>\n",
       "      <td>9/11 was a mass ritual, induction to the new w...</td>\n",
       "      <td>Activities related to Space Research</td>\n",
       "      <td>0.316308</td>\n",
       "    </tr>\n",
       "    <tr>\n",
       "      <th>2</th>\n",
       "      <td>wood rabbit day  new moon       capricorn...</td>\n",
       "      <td>35546</td>\n",
       "      <td>2022-01-02 12:21:40+00:00</td>\n",
       "      <td>2017-06-28 20:58:43+00:00</td>\n",
       "      <td>None</td>\n",
       "      <td>Twitter Web App</td>\n",
       "      <td>None</td>\n",
       "      <td>3719</td>\n",
       "      <td>2355</td>\n",
       "      <td>23</td>\n",
       "      <td>50246</td>\n",
       "      <td>45513</td>\n",
       "      <td>False</td>\n",
       "      <td>False</td>\n",
       "      <td>New Jersey USA, the Multiverse</td>\n",
       "      <td>1/2: Wood Rabbit day. New Moon @ 12° Capricorn...</td>\n",
       "      <td>1/2: Wood Rabbit day. New Moon @ 12° Capricorn...</td>\n",
       "      <td>Astrology</td>\n",
       "      <td>0.677650</td>\n",
       "    </tr>\n",
       "  </tbody>\n",
       "</table>\n",
       "</div>"
      ],
      "text/plain": [
       "                                reviewText_processed  document  \\\n",
       "0         p   amp see how they amp  their industr...    188020   \n",
       "1       was a mass ritual  induction to the new w...    360122   \n",
       "2       wood rabbit day  new moon       capricorn...     35546   \n",
       "\n",
       "                  created_at                user_joined  \\\n",
       "0  2022-01-03 07:49:26+00:00  2009-11-13 04:12:25+00:00   \n",
       "1  2022-01-05 02:09:37+00:00  2021-06-07 13:11:48+00:00   \n",
       "2  2022-01-02 12:21:40+00:00  2017-06-28 20:58:43+00:00   \n",
       "\n",
       "  in_reply_to_screen_name          source_text  place_country  user_followers  \\\n",
       "0                    None  Twitter for Android  United States              22   \n",
       "1                    None   Twitter for iPhone           None            1216   \n",
       "2                    None      Twitter Web App           None            3719   \n",
       "\n",
       "   user_friends  user_listed  user_favourites  user_statuses  user_protected  \\\n",
       "0            13            8             2721          35608           False   \n",
       "1           252            7             5390           6455           False   \n",
       "2          2355           23            50246          45513           False   \n",
       "\n",
       "   user_verified                   user_location  \\\n",
       "0          False                            None   \n",
       "1          False                     Orlando, FL   \n",
       "2          False  New Jersey USA, the Multiverse   \n",
       "\n",
       "                                          reviewText  \\\n",
       "0   1/2/22:p7:&amp;See how they&amp; their INDUST...   \n",
       "1  9/11 was a mass ritual, induction to the new w...   \n",
       "2  1/2: Wood Rabbit day. New Moon @ 12° Capricorn...   \n",
       "\n",
       "                                          reviewText  \\\n",
       "0   1/2/22:p7:&amp;See how they&amp; their INDUST...   \n",
       "1  9/11 was a mass ritual, induction to the new w...   \n",
       "2  1/2: Wood Rabbit day. New Moon @ 12° Capricorn...   \n",
       "\n",
       "                   dominant_topic_named  dominant_prob  \n",
       "0                             Astronomy       0.360174  \n",
       "1  Activities related to Space Research       0.316308  \n",
       "2                             Astrology       0.677650  "
      ]
     },
     "execution_count": 121,
     "metadata": {},
     "output_type": "execute_result"
    }
   ],
   "source": [
    "%%time\n",
    "df_processed_with_topics = df_text_processed_no_blanks.select(all_cols_to_process + [\"reviewText_processed\"]).alias(\"left\").join(\n",
    "    df_processed_topics_matrix_cached.select([\"reviewText\", \"reviewText_processed\", \"dominant_topic_named\", \"dominant_prob\"]).alias(\"right\"),\n",
    "    on=[\"reviewText_processed\"],\n",
    "    how=\"left\"\n",
    ")\n",
    "show_pyspark_df(df_processed_with_topics, 3)"
   ]
  },
  {
   "cell_type": "markdown",
   "id": "efd5c3ea",
   "metadata": {},
   "source": [
    "Since the raw version of the tweet text columns were not involved in the `JOIN` but are present on both the LHS and RHS, they will both appear in the merged data. Find all rows where these two columns do not agree with each other after the `JOIN` was performed"
   ]
  },
  {
   "cell_type": "code",
   "execution_count": 122,
   "id": "34d0444b",
   "metadata": {},
   "outputs": [
    {
     "data": {
      "text/html": [
       "<div>\n",
       "<style scoped>\n",
       "    .dataframe tbody tr th:only-of-type {\n",
       "        vertical-align: middle;\n",
       "    }\n",
       "\n",
       "    .dataframe tbody tr th {\n",
       "        vertical-align: top;\n",
       "    }\n",
       "\n",
       "    .dataframe thead th {\n",
       "        text-align: right;\n",
       "    }\n",
       "</style>\n",
       "<table border=\"1\" class=\"dataframe\">\n",
       "  <thead>\n",
       "    <tr style=\"text-align: right;\">\n",
       "      <th></th>\n",
       "      <th>reviewText_left</th>\n",
       "      <th>reviewText_right</th>\n",
       "    </tr>\n",
       "  </thead>\n",
       "  <tbody>\n",
       "    <tr>\n",
       "      <th>26</th>\n",
       "      <td>Dear  I would like to offer You to do an interview for Ukrainian viewers . The main idea is that our viewers can learn as much as possible about Mr. Musk  and his brilliant ideas. You can also hear questions from your fans from Ukraine.</td>\n",
       "      <td>Dear  I would like to offer You to do an interview for Ukrainian viewers . The main idea is that our viewers can learn as much as possible about Mr. Musk  and his brilliant ideas. You can also hear questions from your fans from Ukraine.</td>\n",
       "    </tr>\n",
       "    <tr>\n",
       "      <th>22</th>\n",
       "      <td>Dear  I would like to offer You to do an interview for Ukrainian viewers . The main idea is that our viewers can learn as much as possible about Mr. Musk  and his brilliant ideas. You can also hear questions from your fans from Ukraine.</td>\n",
       "      <td>Dear  I would like to offer You to do an interview for Ukrainian viewers . The main idea is that our viewers can learn as much as possible about Mr. Musk  and his brilliant ideas. You can also hear questions from your fans from Ukraine.</td>\n",
       "    </tr>\n",
       "    <tr>\n",
       "      <th>53</th>\n",
       "      <td>dream to support the cause of  as well as to build an open ecosystem for everyone regardless of your age or your races to gain your financial freedom will surprise the world</td>\n",
       "      <td>dream to support the cause of  as well as to build an open ecosystem for everyone regardless of your age or your races to gain your financial freedom will surprise the world</td>\n",
       "    </tr>\n",
       "    <tr>\n",
       "      <th>92</th>\n",
       "      <td>Teach me how to make NANO satellite.Reply me one day when you see this chain of re-tweet.I tried to learn it from youtube but there are no proper information.Kindly guide me.I will keep re-tweeting this until you reply. Thanks in advance.Day 293/365</td>\n",
       "      <td>Teach me how to make NANO satellite.Reply me one day when you see this chain of re-tweet.I tried to learn it from youtube but there are no proper information.Kindly guide me.I will keep re-tweeting this until you reply. Thanks in advance.Day 295/365</td>\n",
       "    </tr>\n",
       "    <tr>\n",
       "      <th>89</th>\n",
       "      <td>… and someone replied acting like they do not have a clue about how a whole website had gone down. These dev just fcuked up these project and they shouldn’t go free without been punished.</td>\n",
       "      <td>… and someone replied acting like they do not have a clue about how a whole website had gone down. These dev just fcuked up these project and they shouldn’t go free without been punished.</td>\n",
       "    </tr>\n",
       "    <tr>\n",
       "      <th>1</th>\n",
       "      <td>A new Chinese satellite equipped with artificial intelligence can grab high-resolution images of large areas up to three times quicker than current US-designed versions, according to scientists involved in the project</td>\n",
       "      <td>A new Chinese satellite equipped with artificial intelligence can grab high-resolution images of large areas up to three times quicker than current US-designed versions, according to scientists involved in the project</td>\n",
       "    </tr>\n",
       "    <tr>\n",
       "      <th>43</th>\n",
       "      <td>dream to support the cause of  as well as to build an open ecosystem for everyone regardless of your age or your races to gain your financial freedom will surprise the world</td>\n",
       "      <td>dream to support the cause of  as well as to build an open ecosystem for everyone regardless of your age or your races to gain your financial freedom will surprise the world</td>\n",
       "    </tr>\n",
       "    <tr>\n",
       "      <th>40</th>\n",
       "      <td>dream to support the cause of  as well as to build an open ecosystem for everyone regardless of your age or your races to gain your financial freedom will surprise the world</td>\n",
       "      <td>dream to support the cause of  as well as to build an open ecosystem for everyone regardless of your age or your races to gain your financial freedom will surprise the world</td>\n",
       "    </tr>\n",
       "    <tr>\n",
       "      <th>66</th>\n",
       "      <td>[Saturn] MSI GeForce RTX 3060 Ti Ventus 3X OC 8GB LHR (V397-239R) (NVIDIA, Grafikkarte) now in stock!   Retailer:  Saturn  Price: 849 EUR  Link:   Time: [06.01.2022 16:01:45]</td>\n",
       "      <td>[Saturn] MSI GeForce RTX 3060 Ti Ventus 3X OC 8GB LHR (V397-239R) (NVIDIA, Grafikkarte) now in stock!   Retailer:  Saturn  Price: 849 EUR  Link:   Time: [04.01.2022 15:54:07]</td>\n",
       "    </tr>\n",
       "    <tr>\n",
       "      <th>97</th>\n",
       "      <td>We need to control the universe with  . We need everyone on board. We need to join forces. We need to ask everyone to join with us. Tweet everyone from everyone country to join forces with us to pump  START THE NEW YEAR PUMPING</td>\n",
       "      <td>We need to control the universe with  . We need everyone on board. We need to join forces. We need to ask everyone to join with us. Tweet everyone from everyone country to join forces with us to pump  START THE NEW YEAR PUMPING</td>\n",
       "    </tr>\n",
       "  </tbody>\n",
       "</table>\n",
       "</div>"
      ],
      "text/plain": [
       "                                                                                                                                                                                                                                               reviewText_left  \\\n",
       "26                Dear  I would like to offer You to do an interview for Ukrainian viewers . The main idea is that our viewers can learn as much as possible about Mr. Musk  and his brilliant ideas. You can also hear questions from your fans from Ukraine.   \n",
       "22                Dear  I would like to offer You to do an interview for Ukrainian viewers . The main idea is that our viewers can learn as much as possible about Mr. Musk  and his brilliant ideas. You can also hear questions from your fans from Ukraine.   \n",
       "53                                                                               dream to support the cause of  as well as to build an open ecosystem for everyone regardless of your age or your races to gain your financial freedom will surprise the world   \n",
       "92   Teach me how to make NANO satellite.Reply me one day when you see this chain of re-tweet.I tried to learn it from youtube but there are no proper information.Kindly guide me.I will keep re-tweeting this until you reply. Thanks in advance.Day 293/365   \n",
       "89                                                                 … and someone replied acting like they do not have a clue about how a whole website had gone down. These dev just fcuked up these project and they shouldn’t go free without been punished.   \n",
       "1                                    A new Chinese satellite equipped with artificial intelligence can grab high-resolution images of large areas up to three times quicker than current US-designed versions, according to scientists involved in the project   \n",
       "43                                                                               dream to support the cause of  as well as to build an open ecosystem for everyone regardless of your age or your races to gain your financial freedom will surprise the world   \n",
       "40                                                                               dream to support the cause of  as well as to build an open ecosystem for everyone regardless of your age or your races to gain your financial freedom will surprise the world   \n",
       "66                                                                              [Saturn] MSI GeForce RTX 3060 Ti Ventus 3X OC 8GB LHR (V397-239R) (NVIDIA, Grafikkarte) now in stock!   Retailer:  Saturn  Price: 849 EUR  Link:   Time: [06.01.2022 16:01:45]   \n",
       "97                         We need to control the universe with  . We need everyone on board. We need to join forces. We need to ask everyone to join with us. Tweet everyone from everyone country to join forces with us to pump  START THE NEW YEAR PUMPING   \n",
       "\n",
       "                                                                                                                                                                                                                                              reviewText_right  \n",
       "26                Dear  I would like to offer You to do an interview for Ukrainian viewers . The main idea is that our viewers can learn as much as possible about Mr. Musk  and his brilliant ideas. You can also hear questions from your fans from Ukraine.  \n",
       "22                Dear  I would like to offer You to do an interview for Ukrainian viewers . The main idea is that our viewers can learn as much as possible about Mr. Musk  and his brilliant ideas. You can also hear questions from your fans from Ukraine.  \n",
       "53                                                                               dream to support the cause of  as well as to build an open ecosystem for everyone regardless of your age or your races to gain your financial freedom will surprise the world  \n",
       "92   Teach me how to make NANO satellite.Reply me one day when you see this chain of re-tweet.I tried to learn it from youtube but there are no proper information.Kindly guide me.I will keep re-tweeting this until you reply. Thanks in advance.Day 295/365  \n",
       "89                                                                 … and someone replied acting like they do not have a clue about how a whole website had gone down. These dev just fcuked up these project and they shouldn’t go free without been punished.  \n",
       "1                                    A new Chinese satellite equipped with artificial intelligence can grab high-resolution images of large areas up to three times quicker than current US-designed versions, according to scientists involved in the project  \n",
       "43                                                                               dream to support the cause of  as well as to build an open ecosystem for everyone regardless of your age or your races to gain your financial freedom will surprise the world  \n",
       "40                                                                               dream to support the cause of  as well as to build an open ecosystem for everyone regardless of your age or your races to gain your financial freedom will surprise the world  \n",
       "66                                                                              [Saturn] MSI GeForce RTX 3060 Ti Ventus 3X OC 8GB LHR (V397-239R) (NVIDIA, Grafikkarte) now in stock!   Retailer:  Saturn  Price: 849 EUR  Link:   Time: [04.01.2022 15:54:07]  \n",
       "97                         We need to control the universe with  . We need everyone on board. We need to join forces. We need to ask everyone to join with us. Tweet everyone from everyone country to join forces with us to pump  START THE NEW YEAR PUMPING  "
      ]
     },
     "metadata": {},
     "output_type": "display_data"
    },
    {
     "name": "stdout",
     "output_type": "stream",
     "text": [
      "CPU times: user 16.2 ms, sys: 6.71 ms, total: 22.9 ms\n",
      "Wall time: 558 ms\n"
     ]
    }
   ],
   "source": [
    "%%time\n",
    "with pd_option_context(\"display.max_colwidth\", 5000):\n",
    "    display(\n",
    "        show_pyspark_df(\n",
    "            df_processed_with_topics\n",
    "            .withColumn(\"d\", F.col(\"left.reviewText\") == F.col(\"right.reviewText\"))\n",
    "            .where(F.col(\"d\") == False)\n",
    "            .select(\n",
    "                [\n",
    "                    F.col(\"left.reviewText\").alias(\"reviewText_left\"),\n",
    "                    F.col(\"right.reviewText\").alias(\"reviewText_right\"),\n",
    "                ]\n",
    "            ),\n",
    "            100\n",
    "        ).sample(10)\n",
    "    )"
   ]
  },
  {
   "cell_type": "markdown",
   "id": "6910b1c1",
   "metadata": {},
   "source": [
    "**Notes**\n",
    "1. Above is a random sample of 10 rows where these two columns do not agree with eachother."
   ]
  },
  {
   "cell_type": "markdown",
   "id": "2ee4a077",
   "metadata": {},
   "source": [
    "**Observeations**\n",
    "1. Above is a comparison of the `reviewText` columns on either side of the `LEFT JOIN` that do not match eachother. It is not very clear why most of these rows do not match. The column on the left comes from the processed data and the column on the right from the processed and de-duplicated data that was passed through the NLP pipeline and LDA. Since there doen't appear to be clearly visible differences in most of these rows, we'll\n",
    "   - use the left version in EDA (next section)\n",
    "   - keep both versions\n",
    "   - rename the columns by adding the `_left` and `_right` suffix respectively"
   ]
  },
  {
   "cell_type": "markdown",
   "id": "0fcbfcd2",
   "metadata": {},
   "source": [
    "Rename `reviewText` columns by appending a suffix"
   ]
  },
  {
   "cell_type": "code",
   "execution_count": 123,
   "id": "703b5dcd",
   "metadata": {},
   "outputs": [
    {
     "name": "stdout",
     "output_type": "stream",
     "text": [
      "CPU times: user 2.2 ms, sys: 313 µs, total: 2.51 ms\n",
      "Wall time: 15.8 ms\n"
     ]
    }
   ],
   "source": [
    "%%time\n",
    "col_renaming_dict = {'left.reviewText': 'reviewText_left', 'right.reviewText': 'reviewText_right'}\n",
    "for k, v in col_renaming_dict.items():\n",
    "    df_processed_with_topics = df_processed_with_topics.withColumn(v, F.col(k)).drop(F.col(k))"
   ]
  },
  {
   "cell_type": "markdown",
   "id": "7327e836",
   "metadata": {},
   "source": [
    "Check if cached"
   ]
  },
  {
   "cell_type": "code",
   "execution_count": 124,
   "id": "6f42e01d",
   "metadata": {},
   "outputs": [
    {
     "data": {
      "text/plain": [
       "False"
      ]
     },
     "execution_count": 124,
     "metadata": {},
     "output_type": "execute_result"
    }
   ],
   "source": [
    "df_processed_with_topics.storageLevel.useMemory"
   ]
  },
  {
   "cell_type": "markdown",
   "id": "0893551f",
   "metadata": {},
   "source": [
    "Cache the merged data, which will be used to count missing values next"
   ]
  },
  {
   "cell_type": "code",
   "execution_count": 125,
   "id": "fe1ebebd",
   "metadata": {},
   "outputs": [
    {
     "name": "stdout",
     "output_type": "stream",
     "text": [
      "CPU times: user 946 µs, sys: 136 µs, total: 1.08 ms\n",
      "Wall time: 16.2 ms\n"
     ]
    }
   ],
   "source": [
    "%%time\n",
    "df_processed_with_topics_cached = df_processed_with_topics.cache()"
   ]
  },
  {
   "cell_type": "markdown",
   "id": "e5d89c50",
   "metadata": {},
   "source": [
    "Show the number of rows in the processed data (LHS of the `LEFT JOIN`)"
   ]
  },
  {
   "cell_type": "code",
   "execution_count": 126,
   "id": "a4362953",
   "metadata": {},
   "outputs": [
    {
     "name": "stdout",
     "output_type": "stream",
     "text": [
      "CPU times: user 1.27 ms, sys: 183 µs, total: 1.45 ms\n",
      "Wall time: 4.29 s\n"
     ]
    },
    {
     "data": {
      "text/plain": [
       "238049"
      ]
     },
     "execution_count": 126,
     "metadata": {},
     "output_type": "execute_result"
    }
   ],
   "source": [
    "%%time\n",
    "df_text_processed_no_blanks.count()"
   ]
  },
  {
   "cell_type": "markdown",
   "id": "83552ead",
   "metadata": {},
   "source": [
    "Show the number of rows in the merged data (RHS of the `LEFT JOIN`)"
   ]
  },
  {
   "cell_type": "code",
   "execution_count": 127,
   "id": "14739702",
   "metadata": {},
   "outputs": [
    {
     "name": "stdout",
     "output_type": "stream",
     "text": [
      "CPU times: user 19.4 ms, sys: 4.52 ms, total: 23.9 ms\n",
      "Wall time: 2.92 s\n"
     ]
    },
    {
     "data": {
      "text/plain": [
       "238049"
      ]
     },
     "execution_count": 127,
     "metadata": {},
     "output_type": "execute_result"
    }
   ],
   "source": [
    "%%time\n",
    "df_processed_with_topics_cached.count()"
   ]
  },
  {
   "cell_type": "markdown",
   "id": "5d59205b",
   "metadata": {},
   "source": [
    "Verify that there are no missing values in the merged data"
   ]
  },
  {
   "cell_type": "code",
   "execution_count": 130,
   "id": "52a0b754",
   "metadata": {},
   "outputs": [
    {
     "name": "stdout",
     "output_type": "stream",
     "text": [
      "CPU times: user 1.62 ms, sys: 236 µs, total: 1.86 ms\n",
      "Wall time: 4.17 s\n"
     ]
    },
    {
     "data": {
      "text/plain": [
       "0"
      ]
     },
     "execution_count": 130,
     "metadata": {},
     "output_type": "execute_result"
    }
   ],
   "source": [
    "%%time\n",
    "# count missing values in the tweet text of the processed data (LHS of the LEFT JOIN)\n",
    "df_text_processed_no_blanks.where(F.col(\"reviewText\").isNull()).count()"
   ]
  },
  {
   "cell_type": "code",
   "execution_count": 131,
   "id": "d3fdf519",
   "metadata": {},
   "outputs": [
    {
     "name": "stdout",
     "output_type": "stream",
     "text": [
      "CPU times: user 13.3 ms, sys: 8.56 ms, total: 21.9 ms\n",
      "Wall time: 1.11 s\n"
     ]
    },
    {
     "data": {
      "text/plain": [
       "0"
      ]
     },
     "execution_count": 131,
     "metadata": {},
     "output_type": "execute_result"
    }
   ],
   "source": [
    "%%time\n",
    "# count missing values in the tweet text of the merged data\n",
    "df_processed_with_topics_cached.where(F.col(\"reviewText_left\").isNull()).count()"
   ]
  },
  {
   "cell_type": "code",
   "execution_count": 132,
   "id": "a8ed8b0f",
   "metadata": {},
   "outputs": [
    {
     "name": "stdout",
     "output_type": "stream",
     "text": [
      "CPU times: user 16.6 ms, sys: 6.45 ms, total: 23 ms\n",
      "Wall time: 1.29 s\n"
     ]
    },
    {
     "data": {
      "text/plain": [
       "0"
      ]
     },
     "execution_count": 132,
     "metadata": {},
     "output_type": "execute_result"
    }
   ],
   "source": [
    "%%time\n",
    "# count missing values in the tweet text of the merged data\n",
    "df_processed_with_topics_cached.where(F.col(\"reviewText_right\").isNull()).count()"
   ]
  },
  {
   "cell_type": "markdown",
   "id": "e86db818",
   "metadata": {},
   "source": [
    "Count the number of rows with a missing value in the predicted topic name column"
   ]
  },
  {
   "cell_type": "code",
   "execution_count": 133,
   "id": "72518af2",
   "metadata": {},
   "outputs": [
    {
     "name": "stdout",
     "output_type": "stream",
     "text": [
      "CPU times: user 17.6 ms, sys: 3.28 ms, total: 20.9 ms\n",
      "Wall time: 1.24 s\n"
     ]
    },
    {
     "data": {
      "text/plain": [
       "0"
      ]
     },
     "execution_count": 133,
     "metadata": {},
     "output_type": "execute_result"
    }
   ],
   "source": [
    "%%time\n",
    "df_processed_with_topics_cached.where(F.col(\"dominant_topic_named\").isNull()).count()"
   ]
  },
  {
   "cell_type": "markdown",
   "id": "9e584149",
   "metadata": {},
   "source": [
    "### Export to `predictions/` sub-folder in S3 Bucket"
   ]
  },
  {
   "cell_type": "markdown",
   "id": "37a53928",
   "metadata": {},
   "source": [
    "Show the number of PySpark `DataFrame` partitions in the merged data"
   ]
  },
  {
   "cell_type": "code",
   "execution_count": 134,
   "id": "c2b30190",
   "metadata": {},
   "outputs": [
    {
     "data": {
      "text/plain": [
       "200"
      ]
     },
     "execution_count": 134,
     "metadata": {},
     "output_type": "execute_result"
    }
   ],
   "source": [
    "df_processed_with_topics_cached.rdd.getNumPartitions()"
   ]
  },
  {
   "cell_type": "markdown",
   "id": "2d358fa1",
   "metadata": {},
   "source": [
    "We'll now export this merged data to the `predictions/` sub-folder in the same S3 bucket containing the sub-folder with the hourly CSV files that were loaded earlier"
   ]
  },
  {
   "cell_type": "code",
   "execution_count": 135,
   "id": "9997f93c",
   "metadata": {},
   "outputs": [
    {
     "name": "stdout",
     "output_type": "stream",
     "text": [
      "Starting time = 2022-01-08 06:38:11...Done at 2022-01-08 06:40:37.\n",
      "CPU times: user 37.9 ms, sys: 6.1 ms, total: 44 ms\n",
      "Wall time: 2min 26s\n"
     ]
    }
   ],
   "source": [
    "%%time\n",
    "print(f\"Starting time = {datetime.now().strftime('%Y-%m-%d %H:%M:%S')}...\", end=\"\")\n",
    "timestr = time.strftime(\"%Y%m%d_%H%M%S\")\n",
    "full_file_path = (\n",
    "    f\"s3a://{s3_bucket_name}{path_to_folder}predictions/\"\n",
    "    f\"{output_file_name}_{timestr}.parquet.gzip\"\n",
    ")\n",
    "(\n",
    "    df_processed_with_topics_cached\n",
    "    .write.mode(\"overwrite\")\n",
    "    .option('compression', 'gzip')\n",
    "    .option(\"header\", \"true\")\n",
    "    .parquet(full_file_path)\n",
    ")\n",
    "print(f\"Done at {datetime.now().strftime('%Y-%m-%d %H:%M:%S')}.\")"
   ]
  },
  {
   "cell_type": "markdown",
   "id": "df38207f",
   "metadata": {},
   "source": [
    "### (Optional) Read Exported Data from the `predictions/` sub-folder in S3 Bucket"
   ]
  },
  {
   "cell_type": "markdown",
   "id": "591c4237",
   "metadata": {},
   "source": [
    "Get path to pre-existing Parquet file saved in the `predictions/` sub-folder in S3 bucket"
   ]
  },
  {
   "cell_type": "code",
   "execution_count": 15,
   "id": "4c463a46",
   "metadata": {},
   "outputs": [
    {
     "name": "stdout",
     "output_type": "stream",
     "text": [
      "['datasets/twitter/kinesis-demo/predictions/processed_with_predictions_20220108_063811.parquet.gzip']\n",
      "CPU times: user 114 ms, sys: 20.3 ms, total: 135 ms\n",
      "Wall time: 251 ms\n"
     ]
    }
   ],
   "source": [
    "%%time\n",
    "parquet_files_list = s3h.get_existing_csv_files_list(\n",
    "    s3_bucket_name, path_to_folder[1:] + f\"predictions/{output_file_name}_\"\n",
    ")\n",
    "main_parquet_files_list = [f.rstrip(\"/_SUCCESS\") for f in parquet_files_list if \"_SUCCESS\" in f]\n",
    "print(main_parquet_files_list)"
   ]
  },
  {
   "cell_type": "markdown",
   "id": "4ff30569",
   "metadata": {},
   "source": [
    "Assemble dictionary with full filepath to parquet file"
   ]
  },
  {
   "cell_type": "code",
   "execution_count": 16,
   "id": "fac62021",
   "metadata": {},
   "outputs": [],
   "source": [
    "full_file_paths_dict = {\n",
    "    \"pyspark\": f\"s3a://{s3_bucket_name}/{main_parquet_files_list[0]}\",\n",
    "    \"pandas\": f\"s3://{s3_bucket_name}/{main_parquet_files_list[0]}\",\n",
    "}"
   ]
  },
  {
   "cell_type": "markdown",
   "id": "6889817f",
   "metadata": {},
   "source": [
    "#### PySpark"
   ]
  },
  {
   "cell_type": "markdown",
   "id": "2efc0ef0",
   "metadata": {},
   "source": [
    "Check that we can read the exported data back with PySpark"
   ]
  },
  {
   "cell_type": "code",
   "execution_count": 17,
   "id": "1d0ab8a3",
   "metadata": {},
   "outputs": [
    {
     "name": "stdout",
     "output_type": "stream",
     "text": [
      "CPU times: user 10.7 ms, sys: 3.86 ms, total: 14.5 ms\n",
      "Wall time: 5.66 s\n"
     ]
    },
    {
     "data": {
      "text/html": [
       "<div>\n",
       "<style scoped>\n",
       "    .dataframe tbody tr th:only-of-type {\n",
       "        vertical-align: middle;\n",
       "    }\n",
       "\n",
       "    .dataframe tbody tr th {\n",
       "        vertical-align: top;\n",
       "    }\n",
       "\n",
       "    .dataframe thead th {\n",
       "        text-align: right;\n",
       "    }\n",
       "</style>\n",
       "<table border=\"1\" class=\"dataframe\">\n",
       "  <thead>\n",
       "    <tr style=\"text-align: right;\">\n",
       "      <th></th>\n",
       "      <th>reviewText_processed</th>\n",
       "      <th>document</th>\n",
       "      <th>created_at</th>\n",
       "      <th>user_joined</th>\n",
       "      <th>in_reply_to_screen_name</th>\n",
       "      <th>source_text</th>\n",
       "      <th>place_country</th>\n",
       "      <th>user_followers</th>\n",
       "      <th>user_friends</th>\n",
       "      <th>user_listed</th>\n",
       "      <th>user_favourites</th>\n",
       "      <th>user_statuses</th>\n",
       "      <th>user_protected</th>\n",
       "      <th>user_verified</th>\n",
       "      <th>user_location</th>\n",
       "      <th>dominant_topic_named</th>\n",
       "      <th>dominant_prob</th>\n",
       "      <th>reviewText_left</th>\n",
       "      <th>reviewText_right</th>\n",
       "    </tr>\n",
       "  </thead>\n",
       "  <tbody>\n",
       "    <tr>\n",
       "      <th>0</th>\n",
       "      <td>updatehunan satellite tv pos...</td>\n",
       "      <td>562285</td>\n",
       "      <td>2022-01-04 12:50:51+00:00</td>\n",
       "      <td>2021-03-22 04:00:37+00:00</td>\n",
       "      <td>None</td>\n",
       "      <td>Twitter for Android</td>\n",
       "      <td>None</td>\n",
       "      <td>501</td>\n",
       "      <td>213</td>\n",
       "      <td>1</td>\n",
       "      <td>11765</td>\n",
       "      <td>10281</td>\n",
       "      <td>False</td>\n",
       "      <td>False</td>\n",
       "      <td>Sail To The Future 🚢</td>\n",
       "      <td>Activities related to Space Research</td>\n",
       "      <td>0.311246</td>\n",
       "      <td>[01.04.2022] 湖南卫视贴吧 UpdateHunan Satellite TV P...</td>\n",
       "      <td>[01.04.2022] 湖南卫视贴吧 UpdateHunan Satellite TV P...</td>\n",
       "    </tr>\n",
       "    <tr>\n",
       "      <th>1</th>\n",
       "      <td>usd        juta idr      one winner    ...</td>\n",
       "      <td>7</td>\n",
       "      <td>2022-01-05 16:00:41+00:00</td>\n",
       "      <td>2018-07-05 12:50:08+00:00</td>\n",
       "      <td>None</td>\n",
       "      <td>Twitter for iPhone</td>\n",
       "      <td>None</td>\n",
       "      <td>237</td>\n",
       "      <td>2772</td>\n",
       "      <td>0</td>\n",
       "      <td>2233</td>\n",
       "      <td>13060</td>\n",
       "      <td>False</td>\n",
       "      <td>False</td>\n",
       "      <td>she/her</td>\n",
       "      <td>Satellites and Telescopes</td>\n",
       "      <td>0.425723</td>\n",
       "      <td>|| 100 USD || 1,4 JUTA IDR |||| one winner || ...</td>\n",
       "      <td>|| 100 USD || 1,4 JUTA IDR |||| one winner || ...</td>\n",
       "    </tr>\n",
       "    <tr>\n",
       "      <th>2</th>\n",
       "      <td>usd        juta idr      one winner    ...</td>\n",
       "      <td>11</td>\n",
       "      <td>2022-01-05 16:00:41+00:00</td>\n",
       "      <td>2021-09-19 08:39:09+00:00</td>\n",
       "      <td>None</td>\n",
       "      <td>Twitter Web App</td>\n",
       "      <td>None</td>\n",
       "      <td>84</td>\n",
       "      <td>1055</td>\n",
       "      <td>0</td>\n",
       "      <td>311</td>\n",
       "      <td>10722</td>\n",
       "      <td>False</td>\n",
       "      <td>False</td>\n",
       "      <td>None</td>\n",
       "      <td>Satellites and Telescopes</td>\n",
       "      <td>0.425723</td>\n",
       "      <td>|| 100 USD || 1,4 JUTA IDR |||| one winner || ...</td>\n",
       "      <td>|| 100 USD || 1,4 JUTA IDR |||| one winner || ...</td>\n",
       "    </tr>\n",
       "  </tbody>\n",
       "</table>\n",
       "</div>"
      ],
      "text/plain": [
       "                                reviewText_processed  document  \\\n",
       "0                    updatehunan satellite tv pos...    562285   \n",
       "1         usd        juta idr      one winner    ...         7   \n",
       "2         usd        juta idr      one winner    ...        11   \n",
       "\n",
       "                  created_at                user_joined  \\\n",
       "0  2022-01-04 12:50:51+00:00  2021-03-22 04:00:37+00:00   \n",
       "1  2022-01-05 16:00:41+00:00  2018-07-05 12:50:08+00:00   \n",
       "2  2022-01-05 16:00:41+00:00  2021-09-19 08:39:09+00:00   \n",
       "\n",
       "  in_reply_to_screen_name          source_text place_country  user_followers  \\\n",
       "0                    None  Twitter for Android          None             501   \n",
       "1                    None   Twitter for iPhone          None             237   \n",
       "2                    None      Twitter Web App          None              84   \n",
       "\n",
       "   user_friends  user_listed  user_favourites  user_statuses  user_protected  \\\n",
       "0           213            1            11765          10281           False   \n",
       "1          2772            0             2233          13060           False   \n",
       "2          1055            0              311          10722           False   \n",
       "\n",
       "   user_verified         user_location                  dominant_topic_named  \\\n",
       "0          False  Sail To The Future 🚢  Activities related to Space Research   \n",
       "1          False               she/her             Satellites and Telescopes   \n",
       "2          False                  None             Satellites and Telescopes   \n",
       "\n",
       "   dominant_prob                                    reviewText_left  \\\n",
       "0       0.311246  [01.04.2022] 湖南卫视贴吧 UpdateHunan Satellite TV P...   \n",
       "1       0.425723  || 100 USD || 1,4 JUTA IDR |||| one winner || ...   \n",
       "2       0.425723  || 100 USD || 1,4 JUTA IDR |||| one winner || ...   \n",
       "\n",
       "                                    reviewText_right  \n",
       "0  [01.04.2022] 湖南卫视贴吧 UpdateHunan Satellite TV P...  \n",
       "1  || 100 USD || 1,4 JUTA IDR |||| one winner || ...  \n",
       "2  || 100 USD || 1,4 JUTA IDR |||| one winner || ...  "
      ]
     },
     "execution_count": 17,
     "metadata": {},
     "output_type": "execute_result"
    }
   ],
   "source": [
    "%%time\n",
    "df_reloaded = spark.read.parquet(full_file_paths_dict[\"pyspark\"])\n",
    "show_pyspark_df(df_reloaded, 3)"
   ]
  },
  {
   "cell_type": "markdown",
   "id": "68d7152e",
   "metadata": {},
   "source": [
    "Check if cached"
   ]
  },
  {
   "cell_type": "code",
   "execution_count": 18,
   "id": "611c8731",
   "metadata": {},
   "outputs": [
    {
     "data": {
      "text/plain": [
       "False"
      ]
     },
     "execution_count": 18,
     "metadata": {},
     "output_type": "execute_result"
    }
   ],
   "source": [
    "df_reloaded.storageLevel.useMemory"
   ]
  },
  {
   "cell_type": "markdown",
   "id": "dcd8119f",
   "metadata": {},
   "source": [
    "Cache the reloaded data"
   ]
  },
  {
   "cell_type": "code",
   "execution_count": 19,
   "id": "899f3868",
   "metadata": {},
   "outputs": [
    {
     "name": "stdout",
     "output_type": "stream",
     "text": [
      "CPU times: user 896 µs, sys: 154 µs, total: 1.05 ms\n",
      "Wall time: 33.4 ms\n"
     ]
    }
   ],
   "source": [
    "%%time\n",
    "df_reloaded_cached = df_reloaded.cache()"
   ]
  },
  {
   "cell_type": "markdown",
   "id": "81db6af4",
   "metadata": {},
   "source": [
    "Show (a `DataFrame` version of) the Spark Schema"
   ]
  },
  {
   "cell_type": "code",
   "execution_count": 20,
   "id": "cabf4ba8",
   "metadata": {},
   "outputs": [
    {
     "data": {
      "text/html": [
       "<div>\n",
       "<style scoped>\n",
       "    .dataframe tbody tr th:only-of-type {\n",
       "        vertical-align: middle;\n",
       "    }\n",
       "\n",
       "    .dataframe tbody tr th {\n",
       "        vertical-align: top;\n",
       "    }\n",
       "\n",
       "    .dataframe thead th {\n",
       "        text-align: right;\n",
       "    }\n",
       "</style>\n",
       "<table border=\"1\" class=\"dataframe\">\n",
       "  <thead>\n",
       "    <tr style=\"text-align: right;\">\n",
       "      <th></th>\n",
       "      <th>dtype</th>\n",
       "      <th>nullable</th>\n",
       "    </tr>\n",
       "    <tr>\n",
       "      <th>name</th>\n",
       "      <th></th>\n",
       "      <th></th>\n",
       "    </tr>\n",
       "  </thead>\n",
       "  <tbody>\n",
       "    <tr>\n",
       "      <th>reviewText_processed</th>\n",
       "      <td>StringType</td>\n",
       "      <td>True</td>\n",
       "    </tr>\n",
       "    <tr>\n",
       "      <th>document</th>\n",
       "      <td>IntegerType</td>\n",
       "      <td>True</td>\n",
       "    </tr>\n",
       "    <tr>\n",
       "      <th>created_at</th>\n",
       "      <td>StringType</td>\n",
       "      <td>True</td>\n",
       "    </tr>\n",
       "    <tr>\n",
       "      <th>user_joined</th>\n",
       "      <td>StringType</td>\n",
       "      <td>True</td>\n",
       "    </tr>\n",
       "    <tr>\n",
       "      <th>in_reply_to_screen_name</th>\n",
       "      <td>StringType</td>\n",
       "      <td>True</td>\n",
       "    </tr>\n",
       "    <tr>\n",
       "      <th>source_text</th>\n",
       "      <td>StringType</td>\n",
       "      <td>True</td>\n",
       "    </tr>\n",
       "    <tr>\n",
       "      <th>place_country</th>\n",
       "      <td>StringType</td>\n",
       "      <td>True</td>\n",
       "    </tr>\n",
       "    <tr>\n",
       "      <th>user_followers</th>\n",
       "      <td>IntegerType</td>\n",
       "      <td>True</td>\n",
       "    </tr>\n",
       "    <tr>\n",
       "      <th>user_friends</th>\n",
       "      <td>IntegerType</td>\n",
       "      <td>True</td>\n",
       "    </tr>\n",
       "    <tr>\n",
       "      <th>user_listed</th>\n",
       "      <td>IntegerType</td>\n",
       "      <td>True</td>\n",
       "    </tr>\n",
       "    <tr>\n",
       "      <th>user_favourites</th>\n",
       "      <td>IntegerType</td>\n",
       "      <td>True</td>\n",
       "    </tr>\n",
       "    <tr>\n",
       "      <th>user_statuses</th>\n",
       "      <td>IntegerType</td>\n",
       "      <td>True</td>\n",
       "    </tr>\n",
       "    <tr>\n",
       "      <th>user_protected</th>\n",
       "      <td>BooleanType</td>\n",
       "      <td>True</td>\n",
       "    </tr>\n",
       "    <tr>\n",
       "      <th>user_verified</th>\n",
       "      <td>BooleanType</td>\n",
       "      <td>True</td>\n",
       "    </tr>\n",
       "    <tr>\n",
       "      <th>user_location</th>\n",
       "      <td>StringType</td>\n",
       "      <td>True</td>\n",
       "    </tr>\n",
       "    <tr>\n",
       "      <th>dominant_topic_named</th>\n",
       "      <td>StringType</td>\n",
       "      <td>True</td>\n",
       "    </tr>\n",
       "    <tr>\n",
       "      <th>dominant_prob</th>\n",
       "      <td>DoubleType</td>\n",
       "      <td>True</td>\n",
       "    </tr>\n",
       "    <tr>\n",
       "      <th>reviewText_left</th>\n",
       "      <td>StringType</td>\n",
       "      <td>True</td>\n",
       "    </tr>\n",
       "    <tr>\n",
       "      <th>reviewText_right</th>\n",
       "      <td>StringType</td>\n",
       "      <td>True</td>\n",
       "    </tr>\n",
       "  </tbody>\n",
       "</table>\n",
       "</div>"
      ],
      "text/plain": [
       "                               dtype  nullable\n",
       "name                                          \n",
       "reviewText_processed      StringType      True\n",
       "document                 IntegerType      True\n",
       "created_at                StringType      True\n",
       "user_joined               StringType      True\n",
       "in_reply_to_screen_name   StringType      True\n",
       "source_text               StringType      True\n",
       "place_country             StringType      True\n",
       "user_followers           IntegerType      True\n",
       "user_friends             IntegerType      True\n",
       "user_listed              IntegerType      True\n",
       "user_favourites          IntegerType      True\n",
       "user_statuses            IntegerType      True\n",
       "user_protected           BooleanType      True\n",
       "user_verified            BooleanType      True\n",
       "user_location             StringType      True\n",
       "dominant_topic_named      StringType      True\n",
       "dominant_prob             DoubleType      True\n",
       "reviewText_left           StringType      True\n",
       "reviewText_right          StringType      True"
      ]
     },
     "execution_count": 20,
     "metadata": {},
     "output_type": "execute_result"
    }
   ],
   "source": [
    "df_dtypes_pyspark = pd_DataFrame.from_records(\n",
    "    [\n",
    "        {\"name\": field.name, \"dtype\": field.dataType, \"nullable\": field.nullable}\n",
    "        for field in df_reloaded.schema.fields\n",
    "    ]\n",
    ").set_index(\"name\")\n",
    "df_dtypes_pyspark"
   ]
  },
  {
   "cell_type": "markdown",
   "id": "0cc95199",
   "metadata": {},
   "source": [
    "Show the number of rows in the re-loaded PySpark `DataFrame`"
   ]
  },
  {
   "cell_type": "code",
   "execution_count": 21,
   "id": "d9e4e8a2",
   "metadata": {},
   "outputs": [
    {
     "name": "stdout",
     "output_type": "stream",
     "text": [
      "CPU times: user 3.78 ms, sys: 307 µs, total: 4.09 ms\n",
      "Wall time: 18.6 s\n"
     ]
    },
    {
     "data": {
      "text/plain": [
       "238049"
      ]
     },
     "execution_count": 21,
     "metadata": {},
     "output_type": "execute_result"
    }
   ],
   "source": [
    "%%time\n",
    "df_reloaded_cached.count()"
   ]
  },
  {
   "cell_type": "markdown",
   "id": "f9c9e585",
   "metadata": {},
   "source": [
    "Show the number of PySpark `DataFrame` partitions in the reloaded data"
   ]
  },
  {
   "cell_type": "code",
   "execution_count": 22,
   "id": "d43f9239",
   "metadata": {},
   "outputs": [
    {
     "name": "stdout",
     "output_type": "stream",
     "text": [
      "CPU times: user 1.45 ms, sys: 0 ns, total: 1.45 ms\n",
      "Wall time: 22.3 ms\n"
     ]
    },
    {
     "data": {
      "text/plain": [
       "7"
      ]
     },
     "execution_count": 22,
     "metadata": {},
     "output_type": "execute_result"
    }
   ],
   "source": [
    "%%time\n",
    "df_reloaded_cached.rdd.getNumPartitions()"
   ]
  },
  {
   "cell_type": "markdown",
   "id": "684fdedf",
   "metadata": {},
   "source": [
    "#### `dask.DataFrame`"
   ]
  },
  {
   "cell_type": "markdown",
   "id": "7e682987",
   "metadata": {},
   "source": [
    "Check that we can read the exported data back with Dask `DataFrame`"
   ]
  },
  {
   "cell_type": "code",
   "execution_count": 144,
   "id": "0972561c",
   "metadata": {},
   "outputs": [],
   "source": [
    "import dask.dataframe as dd"
   ]
  },
  {
   "cell_type": "code",
   "execution_count": 145,
   "id": "a4295d58",
   "metadata": {},
   "outputs": [
    {
     "name": "stdout",
     "output_type": "stream",
     "text": [
      "CPU times: user 142 ms, sys: 10.2 ms, total: 152 ms\n",
      "Wall time: 352 ms\n"
     ]
    },
    {
     "data": {
      "text/html": [
       "<div>\n",
       "<style scoped>\n",
       "    .dataframe tbody tr th:only-of-type {\n",
       "        vertical-align: middle;\n",
       "    }\n",
       "\n",
       "    .dataframe tbody tr th {\n",
       "        vertical-align: top;\n",
       "    }\n",
       "\n",
       "    .dataframe thead th {\n",
       "        text-align: right;\n",
       "    }\n",
       "</style>\n",
       "<table border=\"1\" class=\"dataframe\">\n",
       "  <thead>\n",
       "    <tr style=\"text-align: right;\">\n",
       "      <th></th>\n",
       "      <th>reviewText_processed</th>\n",
       "      <th>document</th>\n",
       "      <th>created_at</th>\n",
       "      <th>user_joined</th>\n",
       "      <th>in_reply_to_screen_name</th>\n",
       "      <th>source_text</th>\n",
       "      <th>place_country</th>\n",
       "      <th>user_followers</th>\n",
       "      <th>user_friends</th>\n",
       "      <th>user_listed</th>\n",
       "      <th>user_favourites</th>\n",
       "      <th>user_statuses</th>\n",
       "      <th>user_protected</th>\n",
       "      <th>user_verified</th>\n",
       "      <th>user_location</th>\n",
       "      <th>dominant_topic_named</th>\n",
       "      <th>dominant_prob</th>\n",
       "      <th>reviewText_left</th>\n",
       "      <th>reviewText_right</th>\n",
       "    </tr>\n",
       "  </thead>\n",
       "  <tbody>\n",
       "    <tr>\n",
       "      <th>0</th>\n",
       "      <td>p   amp see how they amp  their industr...</td>\n",
       "      <td>188020</td>\n",
       "      <td>2022-01-03 07:49:26+00:00</td>\n",
       "      <td>2009-11-13 04:12:25+00:00</td>\n",
       "      <td>None</td>\n",
       "      <td>Twitter for Android</td>\n",
       "      <td>United States</td>\n",
       "      <td>22</td>\n",
       "      <td>13</td>\n",
       "      <td>8</td>\n",
       "      <td>2721</td>\n",
       "      <td>35608</td>\n",
       "      <td>False</td>\n",
       "      <td>False</td>\n",
       "      <td>None</td>\n",
       "      <td>Astronomy</td>\n",
       "      <td>0.360174</td>\n",
       "      <td>1/2/22:p7:&amp;amp;See how they&amp;amp; their INDUST...</td>\n",
       "      <td>1/2/22:p7:&amp;amp;See how they&amp;amp; their INDUST...</td>\n",
       "    </tr>\n",
       "    <tr>\n",
       "      <th>1</th>\n",
       "      <td>was a mass ritual  induction to the new w...</td>\n",
       "      <td>360122</td>\n",
       "      <td>2022-01-05 02:09:37+00:00</td>\n",
       "      <td>2021-06-07 13:11:48+00:00</td>\n",
       "      <td>None</td>\n",
       "      <td>Twitter for iPhone</td>\n",
       "      <td>None</td>\n",
       "      <td>1216</td>\n",
       "      <td>252</td>\n",
       "      <td>7</td>\n",
       "      <td>5390</td>\n",
       "      <td>6455</td>\n",
       "      <td>False</td>\n",
       "      <td>False</td>\n",
       "      <td>Orlando, FL</td>\n",
       "      <td>Activities related to Space Research</td>\n",
       "      <td>0.316308</td>\n",
       "      <td>9/11 was a mass ritual, induction to the new w...</td>\n",
       "      <td>9/11 was a mass ritual, induction to the new w...</td>\n",
       "    </tr>\n",
       "    <tr>\n",
       "      <th>2</th>\n",
       "      <td>wood rabbit day  new moon       capricorn...</td>\n",
       "      <td>35546</td>\n",
       "      <td>2022-01-02 12:21:40+00:00</td>\n",
       "      <td>2017-06-28 20:58:43+00:00</td>\n",
       "      <td>None</td>\n",
       "      <td>Twitter Web App</td>\n",
       "      <td>None</td>\n",
       "      <td>3719</td>\n",
       "      <td>2355</td>\n",
       "      <td>23</td>\n",
       "      <td>50246</td>\n",
       "      <td>45513</td>\n",
       "      <td>False</td>\n",
       "      <td>False</td>\n",
       "      <td>New Jersey USA, the Multiverse</td>\n",
       "      <td>Astrology</td>\n",
       "      <td>0.677650</td>\n",
       "      <td>1/2: Wood Rabbit day. New Moon @ 12° Capricorn...</td>\n",
       "      <td>1/2: Wood Rabbit day. New Moon @ 12° Capricorn...</td>\n",
       "    </tr>\n",
       "  </tbody>\n",
       "</table>\n",
       "</div>"
      ],
      "text/plain": [
       "                                reviewText_processed  document  \\\n",
       "0         p   amp see how they amp  their industr...    188020   \n",
       "1       was a mass ritual  induction to the new w...    360122   \n",
       "2       wood rabbit day  new moon       capricorn...     35546   \n",
       "\n",
       "                  created_at                user_joined  \\\n",
       "0  2022-01-03 07:49:26+00:00  2009-11-13 04:12:25+00:00   \n",
       "1  2022-01-05 02:09:37+00:00  2021-06-07 13:11:48+00:00   \n",
       "2  2022-01-02 12:21:40+00:00  2017-06-28 20:58:43+00:00   \n",
       "\n",
       "  in_reply_to_screen_name          source_text  place_country  user_followers  \\\n",
       "0                    None  Twitter for Android  United States              22   \n",
       "1                    None   Twitter for iPhone           None            1216   \n",
       "2                    None      Twitter Web App           None            3719   \n",
       "\n",
       "   user_friends  user_listed  user_favourites  user_statuses  user_protected  \\\n",
       "0            13            8             2721          35608           False   \n",
       "1           252            7             5390           6455           False   \n",
       "2          2355           23            50246          45513           False   \n",
       "\n",
       "   user_verified                   user_location  \\\n",
       "0          False                            None   \n",
       "1          False                     Orlando, FL   \n",
       "2          False  New Jersey USA, the Multiverse   \n",
       "\n",
       "                   dominant_topic_named  dominant_prob  \\\n",
       "0                             Astronomy       0.360174   \n",
       "1  Activities related to Space Research       0.316308   \n",
       "2                             Astrology       0.677650   \n",
       "\n",
       "                                     reviewText_left  \\\n",
       "0   1/2/22:p7:&amp;See how they&amp; their INDUST...   \n",
       "1  9/11 was a mass ritual, induction to the new w...   \n",
       "2  1/2: Wood Rabbit day. New Moon @ 12° Capricorn...   \n",
       "\n",
       "                                    reviewText_right  \n",
       "0   1/2/22:p7:&amp;See how they&amp; their INDUST...  \n",
       "1  9/11 was a mass ritual, induction to the new w...  \n",
       "2  1/2: Wood Rabbit day. New Moon @ 12° Capricorn...  "
      ]
     },
     "execution_count": 145,
     "metadata": {},
     "output_type": "execute_result"
    }
   ],
   "source": [
    "%%time\n",
    "ddf = dd.read_parquet(full_file_paths_dict[\"pandas\"], engine=\"auto\")\n",
    "ddf.head(3)"
   ]
  },
  {
   "cell_type": "markdown",
   "id": "fb2ffe0d",
   "metadata": {},
   "source": [
    "Show the datatypes"
   ]
  },
  {
   "cell_type": "code",
   "execution_count": 146,
   "id": "dd5292b6",
   "metadata": {},
   "outputs": [
    {
     "data": {
      "text/html": [
       "<div>\n",
       "<style scoped>\n",
       "    .dataframe tbody tr th:only-of-type {\n",
       "        vertical-align: middle;\n",
       "    }\n",
       "\n",
       "    .dataframe tbody tr th {\n",
       "        vertical-align: top;\n",
       "    }\n",
       "\n",
       "    .dataframe thead th {\n",
       "        text-align: right;\n",
       "    }\n",
       "</style>\n",
       "<table border=\"1\" class=\"dataframe\">\n",
       "  <thead>\n",
       "    <tr style=\"text-align: right;\">\n",
       "      <th></th>\n",
       "      <th>dtype</th>\n",
       "    </tr>\n",
       "    <tr>\n",
       "      <th>name</th>\n",
       "      <th></th>\n",
       "    </tr>\n",
       "  </thead>\n",
       "  <tbody>\n",
       "    <tr>\n",
       "      <th>reviewText_processed</th>\n",
       "      <td>object</td>\n",
       "    </tr>\n",
       "    <tr>\n",
       "      <th>document</th>\n",
       "      <td>int32</td>\n",
       "    </tr>\n",
       "    <tr>\n",
       "      <th>created_at</th>\n",
       "      <td>object</td>\n",
       "    </tr>\n",
       "    <tr>\n",
       "      <th>user_joined</th>\n",
       "      <td>object</td>\n",
       "    </tr>\n",
       "    <tr>\n",
       "      <th>in_reply_to_screen_name</th>\n",
       "      <td>object</td>\n",
       "    </tr>\n",
       "    <tr>\n",
       "      <th>source_text</th>\n",
       "      <td>object</td>\n",
       "    </tr>\n",
       "    <tr>\n",
       "      <th>place_country</th>\n",
       "      <td>object</td>\n",
       "    </tr>\n",
       "    <tr>\n",
       "      <th>user_followers</th>\n",
       "      <td>int32</td>\n",
       "    </tr>\n",
       "    <tr>\n",
       "      <th>user_friends</th>\n",
       "      <td>int32</td>\n",
       "    </tr>\n",
       "    <tr>\n",
       "      <th>user_listed</th>\n",
       "      <td>int32</td>\n",
       "    </tr>\n",
       "    <tr>\n",
       "      <th>user_favourites</th>\n",
       "      <td>int32</td>\n",
       "    </tr>\n",
       "    <tr>\n",
       "      <th>user_statuses</th>\n",
       "      <td>int32</td>\n",
       "    </tr>\n",
       "    <tr>\n",
       "      <th>user_protected</th>\n",
       "      <td>bool</td>\n",
       "    </tr>\n",
       "    <tr>\n",
       "      <th>user_verified</th>\n",
       "      <td>bool</td>\n",
       "    </tr>\n",
       "    <tr>\n",
       "      <th>user_location</th>\n",
       "      <td>object</td>\n",
       "    </tr>\n",
       "    <tr>\n",
       "      <th>dominant_topic_named</th>\n",
       "      <td>object</td>\n",
       "    </tr>\n",
       "    <tr>\n",
       "      <th>dominant_prob</th>\n",
       "      <td>float64</td>\n",
       "    </tr>\n",
       "    <tr>\n",
       "      <th>reviewText_left</th>\n",
       "      <td>object</td>\n",
       "    </tr>\n",
       "    <tr>\n",
       "      <th>reviewText_right</th>\n",
       "      <td>object</td>\n",
       "    </tr>\n",
       "  </tbody>\n",
       "</table>\n",
       "</div>"
      ],
      "text/plain": [
       "                           dtype\n",
       "name                            \n",
       "reviewText_processed      object\n",
       "document                   int32\n",
       "created_at                object\n",
       "user_joined               object\n",
       "in_reply_to_screen_name   object\n",
       "source_text               object\n",
       "place_country             object\n",
       "user_followers             int32\n",
       "user_friends               int32\n",
       "user_listed                int32\n",
       "user_favourites            int32\n",
       "user_statuses              int32\n",
       "user_protected              bool\n",
       "user_verified               bool\n",
       "user_location             object\n",
       "dominant_topic_named      object\n",
       "dominant_prob            float64\n",
       "reviewText_left           object\n",
       "reviewText_right          object"
      ]
     },
     "execution_count": 146,
     "metadata": {},
     "output_type": "execute_result"
    }
   ],
   "source": [
    "ddf.dtypes.rename(\"dtype\").rename_axis(\"name\").to_frame()"
   ]
  },
  {
   "cell_type": "markdown",
   "id": "33ec003f",
   "metadata": {},
   "source": [
    "Show the number of rows in the re-loaded `dask.DataFrame` (DDF)"
   ]
  },
  {
   "cell_type": "code",
   "execution_count": 147,
   "id": "a7415776",
   "metadata": {},
   "outputs": [
    {
     "name": "stdout",
     "output_type": "stream",
     "text": [
      "CPU times: user 2.47 s, sys: 188 ms, total: 2.65 s\n",
      "Wall time: 3.15 s\n"
     ]
    },
    {
     "data": {
      "text/plain": [
       "238049"
      ]
     },
     "execution_count": 147,
     "metadata": {},
     "output_type": "execute_result"
    }
   ],
   "source": [
    "%%time\n",
    "len(ddf)"
   ]
  },
  {
   "cell_type": "markdown",
   "id": "06d43eac",
   "metadata": {},
   "source": [
    "Show the number of `dask.DataFrame` partitions in the reloaded data"
   ]
  },
  {
   "cell_type": "code",
   "execution_count": 148,
   "id": "6fd4ea9e",
   "metadata": {},
   "outputs": [
    {
     "name": "stdout",
     "output_type": "stream",
     "text": [
      "CPU times: user 6 µs, sys: 1 µs, total: 7 µs\n",
      "Wall time: 11.2 µs\n"
     ]
    },
    {
     "data": {
      "text/plain": [
       "200"
      ]
     },
     "execution_count": 148,
     "metadata": {},
     "output_type": "execute_result"
    }
   ],
   "source": [
    "%%time\n",
    "ddf.npartitions"
   ]
  },
  {
   "cell_type": "markdown",
   "id": "17e7066d",
   "metadata": {},
   "source": [
    "Get length of each partition in the re-loaded DDF"
   ]
  },
  {
   "cell_type": "code",
   "execution_count": 149,
   "id": "01441d6c",
   "metadata": {},
   "outputs": [
    {
     "name": "stdout",
     "output_type": "stream",
     "text": [
      "CPU times: user 3.67 s, sys: 348 ms, total: 4.02 s\n",
      "Wall time: 3.9 s\n"
     ]
    }
   ],
   "source": [
    "%%time\n",
    "ddf_partition_sizes = (\n",
    "    ddf.map_partitions(len)\n",
    "    .compute()\n",
    "    .rename(\"num_rows_in_partition\")\n",
    "    .reset_index()\n",
    "    .rename(columns={\"index\": \"partition_index\"})\n",
    ")"
   ]
  },
  {
   "cell_type": "code",
   "execution_count": 150,
   "id": "91c41ea3",
   "metadata": {},
   "outputs": [
    {
     "data": {
      "text/html": [
       "<div>\n",
       "<style scoped>\n",
       "    .dataframe tbody tr th:only-of-type {\n",
       "        vertical-align: middle;\n",
       "    }\n",
       "\n",
       "    .dataframe tbody tr th {\n",
       "        vertical-align: top;\n",
       "    }\n",
       "\n",
       "    .dataframe thead th {\n",
       "        text-align: right;\n",
       "    }\n",
       "</style>\n",
       "<table border=\"1\" class=\"dataframe\">\n",
       "  <thead>\n",
       "    <tr style=\"text-align: right;\">\n",
       "      <th></th>\n",
       "      <th>partition_index</th>\n",
       "      <th>num_rows_in_partition</th>\n",
       "    </tr>\n",
       "  </thead>\n",
       "  <tbody>\n",
       "    <tr>\n",
       "      <th>49</th>\n",
       "      <td>49</td>\n",
       "      <td>1871</td>\n",
       "    </tr>\n",
       "    <tr>\n",
       "      <th>122</th>\n",
       "      <td>122</td>\n",
       "      <td>491</td>\n",
       "    </tr>\n",
       "    <tr>\n",
       "      <th>145</th>\n",
       "      <td>145</td>\n",
       "      <td>630</td>\n",
       "    </tr>\n",
       "    <tr>\n",
       "      <th>47</th>\n",
       "      <td>47</td>\n",
       "      <td>854</td>\n",
       "    </tr>\n",
       "    <tr>\n",
       "      <th>12</th>\n",
       "      <td>12</td>\n",
       "      <td>4393</td>\n",
       "    </tr>\n",
       "    <tr>\n",
       "      <th>197</th>\n",
       "      <td>197</td>\n",
       "      <td>1242</td>\n",
       "    </tr>\n",
       "    <tr>\n",
       "      <th>78</th>\n",
       "      <td>78</td>\n",
       "      <td>1053</td>\n",
       "    </tr>\n",
       "    <tr>\n",
       "      <th>31</th>\n",
       "      <td>31</td>\n",
       "      <td>669</td>\n",
       "    </tr>\n",
       "    <tr>\n",
       "      <th>137</th>\n",
       "      <td>137</td>\n",
       "      <td>2288</td>\n",
       "    </tr>\n",
       "    <tr>\n",
       "      <th>44</th>\n",
       "      <td>44</td>\n",
       "      <td>764</td>\n",
       "    </tr>\n",
       "  </tbody>\n",
       "</table>\n",
       "</div>"
      ],
      "text/plain": [
       "     partition_index  num_rows_in_partition\n",
       "49                49                   1871\n",
       "122              122                    491\n",
       "145              145                    630\n",
       "47                47                    854\n",
       "12                12                   4393\n",
       "197              197                   1242\n",
       "78                78                   1053\n",
       "31                31                    669\n",
       "137              137                   2288\n",
       "44                44                    764"
      ]
     },
     "metadata": {},
     "output_type": "display_data"
    }
   ],
   "source": [
    "with pd_option_context(\"display.max_rows\", 200):\n",
    "    display(ddf_partition_sizes.sample(n=10))"
   ]
  },
  {
   "cell_type": "markdown",
   "id": "17e348e1",
   "metadata": {},
   "source": [
    "#### `pandas`"
   ]
  },
  {
   "cell_type": "markdown",
   "id": "64933541",
   "metadata": {},
   "source": [
    "Check that we can read this back with Pandas (this will only be possible if the data is small enough to fit into memory; if not, then `dask` or `pyspark` are required)"
   ]
  },
  {
   "cell_type": "code",
   "execution_count": 151,
   "id": "ed970125",
   "metadata": {},
   "outputs": [
    {
     "name": "stdout",
     "output_type": "stream",
     "text": [
      "CPU times: user 2.93 s, sys: 323 ms, total: 3.25 s\n",
      "Wall time: 5.37 s\n"
     ]
    },
    {
     "data": {
      "text/html": [
       "<div>\n",
       "<style scoped>\n",
       "    .dataframe tbody tr th:only-of-type {\n",
       "        vertical-align: middle;\n",
       "    }\n",
       "\n",
       "    .dataframe tbody tr th {\n",
       "        vertical-align: top;\n",
       "    }\n",
       "\n",
       "    .dataframe thead th {\n",
       "        text-align: right;\n",
       "    }\n",
       "</style>\n",
       "<table border=\"1\" class=\"dataframe\">\n",
       "  <thead>\n",
       "    <tr style=\"text-align: right;\">\n",
       "      <th></th>\n",
       "      <th>reviewText_processed</th>\n",
       "      <th>document</th>\n",
       "      <th>created_at</th>\n",
       "      <th>user_joined</th>\n",
       "      <th>in_reply_to_screen_name</th>\n",
       "      <th>source_text</th>\n",
       "      <th>place_country</th>\n",
       "      <th>user_followers</th>\n",
       "      <th>user_friends</th>\n",
       "      <th>user_listed</th>\n",
       "      <th>user_favourites</th>\n",
       "      <th>user_statuses</th>\n",
       "      <th>user_protected</th>\n",
       "      <th>user_verified</th>\n",
       "      <th>user_location</th>\n",
       "      <th>dominant_topic_named</th>\n",
       "      <th>dominant_prob</th>\n",
       "      <th>reviewText_left</th>\n",
       "      <th>reviewText_right</th>\n",
       "    </tr>\n",
       "  </thead>\n",
       "  <tbody>\n",
       "    <tr>\n",
       "      <th>0</th>\n",
       "      <td>p   amp see how they amp  their industr...</td>\n",
       "      <td>188020</td>\n",
       "      <td>2022-01-03 07:49:26+00:00</td>\n",
       "      <td>2009-11-13 04:12:25+00:00</td>\n",
       "      <td>None</td>\n",
       "      <td>Twitter for Android</td>\n",
       "      <td>United States</td>\n",
       "      <td>22</td>\n",
       "      <td>13</td>\n",
       "      <td>8</td>\n",
       "      <td>2721</td>\n",
       "      <td>35608</td>\n",
       "      <td>False</td>\n",
       "      <td>False</td>\n",
       "      <td>None</td>\n",
       "      <td>Astronomy</td>\n",
       "      <td>0.360174</td>\n",
       "      <td>1/2/22:p7:&amp;amp;See how they&amp;amp; their INDUST...</td>\n",
       "      <td>1/2/22:p7:&amp;amp;See how they&amp;amp; their INDUST...</td>\n",
       "    </tr>\n",
       "    <tr>\n",
       "      <th>1</th>\n",
       "      <td>was a mass ritual  induction to the new w...</td>\n",
       "      <td>360122</td>\n",
       "      <td>2022-01-05 02:09:37+00:00</td>\n",
       "      <td>2021-06-07 13:11:48+00:00</td>\n",
       "      <td>None</td>\n",
       "      <td>Twitter for iPhone</td>\n",
       "      <td>None</td>\n",
       "      <td>1216</td>\n",
       "      <td>252</td>\n",
       "      <td>7</td>\n",
       "      <td>5390</td>\n",
       "      <td>6455</td>\n",
       "      <td>False</td>\n",
       "      <td>False</td>\n",
       "      <td>Orlando, FL</td>\n",
       "      <td>Activities related to Space Research</td>\n",
       "      <td>0.316308</td>\n",
       "      <td>9/11 was a mass ritual, induction to the new w...</td>\n",
       "      <td>9/11 was a mass ritual, induction to the new w...</td>\n",
       "    </tr>\n",
       "    <tr>\n",
       "      <th>2</th>\n",
       "      <td>wood rabbit day  new moon       capricorn...</td>\n",
       "      <td>35546</td>\n",
       "      <td>2022-01-02 12:21:40+00:00</td>\n",
       "      <td>2017-06-28 20:58:43+00:00</td>\n",
       "      <td>None</td>\n",
       "      <td>Twitter Web App</td>\n",
       "      <td>None</td>\n",
       "      <td>3719</td>\n",
       "      <td>2355</td>\n",
       "      <td>23</td>\n",
       "      <td>50246</td>\n",
       "      <td>45513</td>\n",
       "      <td>False</td>\n",
       "      <td>False</td>\n",
       "      <td>New Jersey USA, the Multiverse</td>\n",
       "      <td>Astrology</td>\n",
       "      <td>0.677650</td>\n",
       "      <td>1/2: Wood Rabbit day. New Moon @ 12° Capricorn...</td>\n",
       "      <td>1/2: Wood Rabbit day. New Moon @ 12° Capricorn...</td>\n",
       "    </tr>\n",
       "  </tbody>\n",
       "</table>\n",
       "</div>"
      ],
      "text/plain": [
       "                                reviewText_processed  document  \\\n",
       "0         p   amp see how they amp  their industr...    188020   \n",
       "1       was a mass ritual  induction to the new w...    360122   \n",
       "2       wood rabbit day  new moon       capricorn...     35546   \n",
       "\n",
       "                  created_at                user_joined  \\\n",
       "0  2022-01-03 07:49:26+00:00  2009-11-13 04:12:25+00:00   \n",
       "1  2022-01-05 02:09:37+00:00  2021-06-07 13:11:48+00:00   \n",
       "2  2022-01-02 12:21:40+00:00  2017-06-28 20:58:43+00:00   \n",
       "\n",
       "  in_reply_to_screen_name          source_text  place_country  user_followers  \\\n",
       "0                    None  Twitter for Android  United States              22   \n",
       "1                    None   Twitter for iPhone           None            1216   \n",
       "2                    None      Twitter Web App           None            3719   \n",
       "\n",
       "   user_friends  user_listed  user_favourites  user_statuses  user_protected  \\\n",
       "0            13            8             2721          35608           False   \n",
       "1           252            7             5390           6455           False   \n",
       "2          2355           23            50246          45513           False   \n",
       "\n",
       "   user_verified                   user_location  \\\n",
       "0          False                            None   \n",
       "1          False                     Orlando, FL   \n",
       "2          False  New Jersey USA, the Multiverse   \n",
       "\n",
       "                   dominant_topic_named  dominant_prob  \\\n",
       "0                             Astronomy       0.360174   \n",
       "1  Activities related to Space Research       0.316308   \n",
       "2                             Astrology       0.677650   \n",
       "\n",
       "                                     reviewText_left  \\\n",
       "0   1/2/22:p7:&amp;See how they&amp; their INDUST...   \n",
       "1  9/11 was a mass ritual, induction to the new w...   \n",
       "2  1/2: Wood Rabbit day. New Moon @ 12° Capricorn...   \n",
       "\n",
       "                                    reviewText_right  \n",
       "0   1/2/22:p7:&amp;See how they&amp; their INDUST...  \n",
       "1  9/11 was a mass ritual, induction to the new w...  \n",
       "2  1/2: Wood Rabbit day. New Moon @ 12° Capricorn...  "
      ]
     },
     "execution_count": 151,
     "metadata": {},
     "output_type": "execute_result"
    }
   ],
   "source": [
    "%%time\n",
    "df_reloaded_pandas = pd_read_parquet(full_file_paths_dict[\"pandas\"], engine=\"auto\")\n",
    "df_reloaded_pandas.head(3)"
   ]
  },
  {
   "cell_type": "markdown",
   "id": "5ab509a3",
   "metadata": {},
   "source": [
    "Show the datatypes"
   ]
  },
  {
   "cell_type": "code",
   "execution_count": 152,
   "id": "4f68d0d6",
   "metadata": {},
   "outputs": [
    {
     "data": {
      "text/html": [
       "<div>\n",
       "<style scoped>\n",
       "    .dataframe tbody tr th:only-of-type {\n",
       "        vertical-align: middle;\n",
       "    }\n",
       "\n",
       "    .dataframe tbody tr th {\n",
       "        vertical-align: top;\n",
       "    }\n",
       "\n",
       "    .dataframe thead th {\n",
       "        text-align: right;\n",
       "    }\n",
       "</style>\n",
       "<table border=\"1\" class=\"dataframe\">\n",
       "  <thead>\n",
       "    <tr style=\"text-align: right;\">\n",
       "      <th></th>\n",
       "      <th>dtype</th>\n",
       "    </tr>\n",
       "    <tr>\n",
       "      <th>name</th>\n",
       "      <th></th>\n",
       "    </tr>\n",
       "  </thead>\n",
       "  <tbody>\n",
       "    <tr>\n",
       "      <th>reviewText_processed</th>\n",
       "      <td>object</td>\n",
       "    </tr>\n",
       "    <tr>\n",
       "      <th>document</th>\n",
       "      <td>int32</td>\n",
       "    </tr>\n",
       "    <tr>\n",
       "      <th>created_at</th>\n",
       "      <td>object</td>\n",
       "    </tr>\n",
       "    <tr>\n",
       "      <th>user_joined</th>\n",
       "      <td>object</td>\n",
       "    </tr>\n",
       "    <tr>\n",
       "      <th>in_reply_to_screen_name</th>\n",
       "      <td>object</td>\n",
       "    </tr>\n",
       "    <tr>\n",
       "      <th>source_text</th>\n",
       "      <td>object</td>\n",
       "    </tr>\n",
       "    <tr>\n",
       "      <th>place_country</th>\n",
       "      <td>object</td>\n",
       "    </tr>\n",
       "    <tr>\n",
       "      <th>user_followers</th>\n",
       "      <td>int32</td>\n",
       "    </tr>\n",
       "    <tr>\n",
       "      <th>user_friends</th>\n",
       "      <td>int32</td>\n",
       "    </tr>\n",
       "    <tr>\n",
       "      <th>user_listed</th>\n",
       "      <td>int32</td>\n",
       "    </tr>\n",
       "    <tr>\n",
       "      <th>user_favourites</th>\n",
       "      <td>int32</td>\n",
       "    </tr>\n",
       "    <tr>\n",
       "      <th>user_statuses</th>\n",
       "      <td>int32</td>\n",
       "    </tr>\n",
       "    <tr>\n",
       "      <th>user_protected</th>\n",
       "      <td>bool</td>\n",
       "    </tr>\n",
       "    <tr>\n",
       "      <th>user_verified</th>\n",
       "      <td>bool</td>\n",
       "    </tr>\n",
       "    <tr>\n",
       "      <th>user_location</th>\n",
       "      <td>object</td>\n",
       "    </tr>\n",
       "    <tr>\n",
       "      <th>dominant_topic_named</th>\n",
       "      <td>object</td>\n",
       "    </tr>\n",
       "    <tr>\n",
       "      <th>dominant_prob</th>\n",
       "      <td>float64</td>\n",
       "    </tr>\n",
       "    <tr>\n",
       "      <th>reviewText_left</th>\n",
       "      <td>object</td>\n",
       "    </tr>\n",
       "    <tr>\n",
       "      <th>reviewText_right</th>\n",
       "      <td>object</td>\n",
       "    </tr>\n",
       "  </tbody>\n",
       "</table>\n",
       "</div>"
      ],
      "text/plain": [
       "                           dtype\n",
       "name                            \n",
       "reviewText_processed      object\n",
       "document                   int32\n",
       "created_at                object\n",
       "user_joined               object\n",
       "in_reply_to_screen_name   object\n",
       "source_text               object\n",
       "place_country             object\n",
       "user_followers             int32\n",
       "user_friends               int32\n",
       "user_listed                int32\n",
       "user_favourites            int32\n",
       "user_statuses              int32\n",
       "user_protected              bool\n",
       "user_verified               bool\n",
       "user_location             object\n",
       "dominant_topic_named      object\n",
       "dominant_prob            float64\n",
       "reviewText_left           object\n",
       "reviewText_right          object"
      ]
     },
     "execution_count": 152,
     "metadata": {},
     "output_type": "execute_result"
    }
   ],
   "source": [
    "df_reloaded_pandas.dtypes.rename(\"dtype\").rename_axis(\"name\").to_frame()"
   ]
  },
  {
   "cell_type": "markdown",
   "id": "0647070e",
   "metadata": {},
   "source": [
    "Show the number of rows in the re-loaded `pandas.DataFrame`"
   ]
  },
  {
   "cell_type": "code",
   "execution_count": 153,
   "id": "877b8f4a",
   "metadata": {},
   "outputs": [
    {
     "data": {
      "text/plain": [
       "238049"
      ]
     },
     "execution_count": 153,
     "metadata": {},
     "output_type": "execute_result"
    }
   ],
   "source": [
    "len(df_reloaded_pandas)"
   ]
  },
  {
   "cell_type": "markdown",
   "id": "418bf6b5",
   "metadata": {},
   "source": [
    "## EDA of Data with Assigned Topic Names"
   ]
  },
  {
   "cell_type": "markdown",
   "id": "d1815951",
   "metadata": {},
   "source": [
    "This section will include a brief exploration of the data with the predicted topic names using the data reloaded into the `PySpark` `DataFrame`."
   ]
  },
  {
   "cell_type": "markdown",
   "id": "7168111c",
   "metadata": {},
   "source": [
    "### Pre-Processing"
   ]
  },
  {
   "cell_type": "markdown",
   "id": "0435643e",
   "metadata": {},
   "source": [
    "Drop rows with a missing topic name in the `dominant_topic_named` column (see discussion about this in the **Merge with Processed Data and Export to S3** section)"
   ]
  },
  {
   "cell_type": "code",
   "execution_count": 23,
   "id": "c0ad50f0",
   "metadata": {},
   "outputs": [
    {
     "name": "stdout",
     "output_type": "stream",
     "text": [
      "CPU times: user 0 ns, sys: 1.98 ms, total: 1.98 ms\n",
      "Wall time: 25.8 ms\n"
     ]
    }
   ],
   "source": [
    "%%time\n",
    "# # Pandas\n",
    "# import pandas as pd\n",
    "# df_reloaded_pandas = df_reloaded_pandas.dropna(subset=[\"dominant_topic_named\"])\n",
    "\n",
    "# PySpark\n",
    "df_reloaded_cached = df_reloaded_cached.dropna(subset=[\"dominant_topic_named\"])"
   ]
  },
  {
   "cell_type": "markdown",
   "id": "fe5f97a8",
   "metadata": {},
   "source": [
    "Convert timestamp columns to `datetime` format"
   ]
  },
  {
   "cell_type": "code",
   "execution_count": 299,
   "id": "2a26c9e4",
   "metadata": {},
   "outputs": [
    {
     "name": "stdout",
     "output_type": "stream",
     "text": [
      "CPU times: user 4.39 ms, sys: 684 µs, total: 5.07 ms\n",
      "Wall time: 28.1 ms\n"
     ]
    }
   ],
   "source": [
    "%%time\n",
    "# # Pandas\n",
    "# df_reloaded_pandas[\"created_at_hour\"] = pd.to_datetime(\n",
    "#     df_reloaded_pandas[\"created_at\"]\n",
    "# ).dt.hour\n",
    "# df_reloaded_pandas[\"created_at_weekday\"] = pd.to_datetime(\n",
    "#     df_reloaded_pandas[\"created_at\"]\n",
    "# ).dt.day_name()\n",
    "# df_reloaded_pandas['created_at_dt'] = pd.to_datetime(df_reloaded_pandas['created_at']).dt.date\n",
    "\n",
    "# PySpark\n",
    "df_reloaded_cached = df_reloaded_cached.withColumn(\n",
    "    \"created_at_dt\", F.date_format(df_reloaded_cached.created_at, \"yyyy-MM-dd HH:mm:ss\")\n",
    ")\n",
    "df_reloaded_cached = df_reloaded_cached.withColumn(\n",
    "    \"created_at_hour\", F.hour(\"created_at_dt\")\n",
    ").withColumn(\"created_at_weekday\", F.date_format(\"created_at_dt\", \"E\"))\n",
    "df_reloaded_cached = df_reloaded_cached.withColumn(\"created_at_date\", F.to_date(\"created_at_dt\"))"
   ]
  },
  {
   "cell_type": "markdown",
   "id": "e87b5fb6",
   "metadata": {},
   "source": [
    "### Business Questions about the Data"
   ]
  },
  {
   "cell_type": "markdown",
   "id": "9a48eac4",
   "metadata": {},
   "source": [
    "**1. Get the 10 most common Twitter user screen names who received a reply to any of their tweets**"
   ]
  },
  {
   "cell_type": "code",
   "execution_count": 25,
   "id": "0e64c2a5",
   "metadata": {},
   "outputs": [
    {
     "name": "stdout",
     "output_type": "stream",
     "text": [
      "CPU times: user 187 ms, sys: 21.5 ms, total: 209 ms\n",
      "Wall time: 3.43 s\n"
     ]
    },
    {
     "data": {
      "text/html": [
       "<div>\n",
       "<style scoped>\n",
       "    .dataframe tbody tr th:only-of-type {\n",
       "        vertical-align: middle;\n",
       "    }\n",
       "\n",
       "    .dataframe tbody tr th {\n",
       "        vertical-align: top;\n",
       "    }\n",
       "\n",
       "    .dataframe thead th {\n",
       "        text-align: right;\n",
       "    }\n",
       "</style>\n",
       "<table border=\"1\" class=\"dataframe\">\n",
       "  <thead>\n",
       "    <tr style=\"text-align: right;\">\n",
       "      <th></th>\n",
       "      <th>in_reply_to_screen_name</th>\n",
       "      <th>count</th>\n",
       "    </tr>\n",
       "  </thead>\n",
       "  <tbody>\n",
       "    <tr>\n",
       "      <th>0</th>\n",
       "      <td>None</td>\n",
       "      <td>209373</td>\n",
       "    </tr>\n",
       "    <tr>\n",
       "      <th>1</th>\n",
       "      <td>elonmusk</td>\n",
       "      <td>592</td>\n",
       "    </tr>\n",
       "    <tr>\n",
       "      <th>2</th>\n",
       "      <td>NASA</td>\n",
       "      <td>491</td>\n",
       "    </tr>\n",
       "    <tr>\n",
       "      <th>3</th>\n",
       "      <td>SpaceX</td>\n",
       "      <td>346</td>\n",
       "    </tr>\n",
       "    <tr>\n",
       "      <th>4</th>\n",
       "      <td>NASAWebb</td>\n",
       "      <td>212</td>\n",
       "    </tr>\n",
       "    <tr>\n",
       "      <th>5</th>\n",
       "      <td>VP</td>\n",
       "      <td>90</td>\n",
       "    </tr>\n",
       "    <tr>\n",
       "      <th>6</th>\n",
       "      <td>GailAlfarATX</td>\n",
       "      <td>87</td>\n",
       "    </tr>\n",
       "    <tr>\n",
       "      <th>7</th>\n",
       "      <td>ChinaPumpWXC</td>\n",
       "      <td>77</td>\n",
       "    </tr>\n",
       "    <tr>\n",
       "      <th>8</th>\n",
       "      <td>markmccaughrean</td>\n",
       "      <td>62</td>\n",
       "    </tr>\n",
       "    <tr>\n",
       "      <th>9</th>\n",
       "      <td>Erdayastronaut</td>\n",
       "      <td>59</td>\n",
       "    </tr>\n",
       "  </tbody>\n",
       "</table>\n",
       "</div>"
      ],
      "text/plain": [
       "  in_reply_to_screen_name   count\n",
       "0                    None  209373\n",
       "1                elonmusk     592\n",
       "2                    NASA     491\n",
       "3                  SpaceX     346\n",
       "4                NASAWebb     212\n",
       "5                      VP      90\n",
       "6            GailAlfarATX      87\n",
       "7            ChinaPumpWXC      77\n",
       "8         markmccaughrean      62\n",
       "9          Erdayastronaut      59"
      ]
     },
     "execution_count": 25,
     "metadata": {},
     "output_type": "execute_result"
    }
   ],
   "source": [
    "%%time\n",
    "# # Pandas\n",
    "# df_reloaded_pandas[\"in_reply_to_screen_name\"].value_counts().nlargest(10).to_frame()\n",
    "\n",
    "# PySpark\n",
    "df_most_replied_to_user_toPandas = (\n",
    "    df_reloaded_cached.groupBy([\"in_reply_to_screen_name\"])\n",
    "    .count()\n",
    "    .orderBy([\"count\"], ascending=False)\n",
    "    .toPandas()\n",
    ")\n",
    "df_most_replied_to_user_toPandas.head(10)"
   ]
  },
  {
   "cell_type": "markdown",
   "id": "74d2fb9a",
   "metadata": {},
   "source": [
    "**Observations**\n",
    "1. The majority of the tweets were not posted as a reply to another user."
   ]
  },
  {
   "cell_type": "markdown",
   "id": "c4079af3",
   "metadata": {},
   "source": [
    "**2. What are the 20 Twitter clients that were most frequently used to post a tweet?**"
   ]
  },
  {
   "cell_type": "code",
   "execution_count": 26,
   "id": "009c8f9c",
   "metadata": {},
   "outputs": [
    {
     "name": "stdout",
     "output_type": "stream",
     "text": [
      "CPU times: user 10.2 ms, sys: 3.41 ms, total: 13.6 ms\n",
      "Wall time: 1.56 s\n"
     ]
    },
    {
     "data": {
      "text/html": [
       "<div>\n",
       "<style scoped>\n",
       "    .dataframe tbody tr th:only-of-type {\n",
       "        vertical-align: middle;\n",
       "    }\n",
       "\n",
       "    .dataframe tbody tr th {\n",
       "        vertical-align: top;\n",
       "    }\n",
       "\n",
       "    .dataframe thead th {\n",
       "        text-align: right;\n",
       "    }\n",
       "</style>\n",
       "<table border=\"1\" class=\"dataframe\">\n",
       "  <thead>\n",
       "    <tr style=\"text-align: right;\">\n",
       "      <th></th>\n",
       "      <th>source_text</th>\n",
       "      <th>count</th>\n",
       "    </tr>\n",
       "  </thead>\n",
       "  <tbody>\n",
       "    <tr>\n",
       "      <th>0</th>\n",
       "      <td>Twitter for Android</td>\n",
       "      <td>96540</td>\n",
       "    </tr>\n",
       "    <tr>\n",
       "      <th>1</th>\n",
       "      <td>Twitter for iPhone</td>\n",
       "      <td>67406</td>\n",
       "    </tr>\n",
       "    <tr>\n",
       "      <th>2</th>\n",
       "      <td>Twitter Web App</td>\n",
       "      <td>57874</td>\n",
       "    </tr>\n",
       "    <tr>\n",
       "      <th>3</th>\n",
       "      <td>Twitter for iPad</td>\n",
       "      <td>5960</td>\n",
       "    </tr>\n",
       "    <tr>\n",
       "      <th>4</th>\n",
       "      <td>TweetDeck</td>\n",
       "      <td>2267</td>\n",
       "    </tr>\n",
       "    <tr>\n",
       "      <th>5</th>\n",
       "      <td>IFTTT</td>\n",
       "      <td>631</td>\n",
       "    </tr>\n",
       "    <tr>\n",
       "      <th>6</th>\n",
       "      <td>Tweetbot for iΟS</td>\n",
       "      <td>520</td>\n",
       "    </tr>\n",
       "    <tr>\n",
       "      <th>7</th>\n",
       "      <td>Hootsuite Inc.</td>\n",
       "      <td>510</td>\n",
       "    </tr>\n",
       "    <tr>\n",
       "      <th>8</th>\n",
       "      <td>dlvr.it</td>\n",
       "      <td>275</td>\n",
       "    </tr>\n",
       "    <tr>\n",
       "      <th>9</th>\n",
       "      <td>Buffer</td>\n",
       "      <td>268</td>\n",
       "    </tr>\n",
       "    <tr>\n",
       "      <th>10</th>\n",
       "      <td>Sprout Social</td>\n",
       "      <td>210</td>\n",
       "    </tr>\n",
       "    <tr>\n",
       "      <th>11</th>\n",
       "      <td>Twitter for Mac</td>\n",
       "      <td>210</td>\n",
       "    </tr>\n",
       "    <tr>\n",
       "      <th>12</th>\n",
       "      <td>Twitterrific for iOS</td>\n",
       "      <td>169</td>\n",
       "    </tr>\n",
       "    <tr>\n",
       "      <th>13</th>\n",
       "      <td>Tweetbot for Mac</td>\n",
       "      <td>154</td>\n",
       "    </tr>\n",
       "    <tr>\n",
       "      <th>14</th>\n",
       "      <td>Sprinklr</td>\n",
       "      <td>137</td>\n",
       "    </tr>\n",
       "    <tr>\n",
       "      <th>15</th>\n",
       "      <td>Tumblr</td>\n",
       "      <td>99</td>\n",
       "    </tr>\n",
       "    <tr>\n",
       "      <th>16</th>\n",
       "      <td>RetweetingBot</td>\n",
       "      <td>88</td>\n",
       "    </tr>\n",
       "    <tr>\n",
       "      <th>17</th>\n",
       "      <td>Makezu.io</td>\n",
       "      <td>86</td>\n",
       "    </tr>\n",
       "    <tr>\n",
       "      <th>18</th>\n",
       "      <td>SocialFlow</td>\n",
       "      <td>82</td>\n",
       "    </tr>\n",
       "    <tr>\n",
       "      <th>19</th>\n",
       "      <td>twittbot.net</td>\n",
       "      <td>78</td>\n",
       "    </tr>\n",
       "  </tbody>\n",
       "</table>\n",
       "</div>"
      ],
      "text/plain": [
       "             source_text  count\n",
       "0    Twitter for Android  96540\n",
       "1     Twitter for iPhone  67406\n",
       "2        Twitter Web App  57874\n",
       "3       Twitter for iPad   5960\n",
       "4              TweetDeck   2267\n",
       "5                  IFTTT    631\n",
       "6       Tweetbot for iΟS    520\n",
       "7         Hootsuite Inc.    510\n",
       "8                dlvr.it    275\n",
       "9                 Buffer    268\n",
       "10         Sprout Social    210\n",
       "11       Twitter for Mac    210\n",
       "12  Twitterrific for iOS    169\n",
       "13      Tweetbot for Mac    154\n",
       "14              Sprinklr    137\n",
       "15                Tumblr     99\n",
       "16         RetweetingBot     88\n",
       "17             Makezu.io     86\n",
       "18            SocialFlow     82\n",
       "19          twittbot.net     78"
      ]
     },
     "execution_count": 26,
     "metadata": {},
     "output_type": "execute_result"
    }
   ],
   "source": [
    "%%time\n",
    "# # Pandas\n",
    "# df_reloaded_pandas[\"source_text\"].value_counts().nlargest(10).to_frame()\n",
    "\n",
    "# PySpark\n",
    "df_top_clients_toPandas = (\n",
    "    df_reloaded_cached.groupBy([\"source_text\"])\n",
    "    .count()\n",
    "    .orderBy([\"count\"], ascending=False)\n",
    "    .toPandas()\n",
    ")\n",
    "df_top_clients_toPandas.head(20)"
   ]
  },
  {
   "cell_type": "markdown",
   "id": "f37df0cb",
   "metadata": {},
   "source": [
    "**3. For the top 7 most frequently used Twitter clients, show an appropriate chart of the frequency (number of tweets) for each of the named topics in this dataset.**"
   ]
  },
  {
   "cell_type": "markdown",
   "id": "fb32bb1d",
   "metadata": {},
   "source": [
    "Get a list with the top twenty most frequently used Twitter clients (using result of above question)"
   ]
  },
  {
   "cell_type": "code",
   "execution_count": 27,
   "id": "a7ec20f4",
   "metadata": {},
   "outputs": [
    {
     "data": {
      "text/plain": [
       "['Twitter for Android',\n",
       " 'Twitter for iPhone',\n",
       " 'Twitter Web App',\n",
       " 'Twitter for iPad',\n",
       " 'TweetDeck',\n",
       " 'IFTTT',\n",
       " 'Tweetbot for iΟS']"
      ]
     },
     "execution_count": 27,
     "metadata": {},
     "output_type": "execute_result"
    }
   ],
   "source": [
    "sources_wanted = df_top_clients_toPandas[\"source_text\"].tolist()[:7]\n",
    "sources_wanted"
   ]
  },
  {
   "cell_type": "markdown",
   "id": "e9d05322",
   "metadata": {},
   "source": [
    "Count the number of tweets posted from each of these top 20 clients"
   ]
  },
  {
   "cell_type": "code",
   "execution_count": 264,
   "id": "d9b501ca",
   "metadata": {},
   "outputs": [
    {
     "name": "stdout",
     "output_type": "stream",
     "text": [
      "CPU times: user 6.98 ms, sys: 3.93 ms, total: 10.9 ms\n",
      "Wall time: 703 ms\n"
     ]
    },
    {
     "data": {
      "text/html": [
       "<div>\n",
       "<style scoped>\n",
       "    .dataframe tbody tr th:only-of-type {\n",
       "        vertical-align: middle;\n",
       "    }\n",
       "\n",
       "    .dataframe tbody tr th {\n",
       "        vertical-align: top;\n",
       "    }\n",
       "\n",
       "    .dataframe thead th {\n",
       "        text-align: right;\n",
       "    }\n",
       "</style>\n",
       "<table border=\"1\" class=\"dataframe\">\n",
       "  <thead>\n",
       "    <tr style=\"text-align: right;\">\n",
       "      <th></th>\n",
       "      <th>source_text</th>\n",
       "      <th>dominant_topic_named</th>\n",
       "      <th>count</th>\n",
       "    </tr>\n",
       "  </thead>\n",
       "  <tbody>\n",
       "    <tr>\n",
       "      <th>0</th>\n",
       "      <td>IFTTT</td>\n",
       "      <td>Activities related to Space Research</td>\n",
       "      <td>143</td>\n",
       "    </tr>\n",
       "    <tr>\n",
       "      <th>1</th>\n",
       "      <td>IFTTT</td>\n",
       "      <td>Astrology</td>\n",
       "      <td>68</td>\n",
       "    </tr>\n",
       "    <tr>\n",
       "      <th>2</th>\n",
       "      <td>IFTTT</td>\n",
       "      <td>Astronomy</td>\n",
       "      <td>250</td>\n",
       "    </tr>\n",
       "    <tr>\n",
       "      <th>3</th>\n",
       "      <td>IFTTT</td>\n",
       "      <td>Satellites and Telescopes</td>\n",
       "      <td>170</td>\n",
       "    </tr>\n",
       "    <tr>\n",
       "      <th>4</th>\n",
       "      <td>TweetDeck</td>\n",
       "      <td>Activities related to Space Research</td>\n",
       "      <td>505</td>\n",
       "    </tr>\n",
       "  </tbody>\n",
       "</table>\n",
       "</div>"
      ],
      "text/plain": [
       "  source_text                  dominant_topic_named  count\n",
       "0       IFTTT  Activities related to Space Research    143\n",
       "1       IFTTT                             Astrology     68\n",
       "2       IFTTT                             Astronomy    250\n",
       "3       IFTTT             Satellites and Telescopes    170\n",
       "4   TweetDeck  Activities related to Space Research    505"
      ]
     },
     "execution_count": 264,
     "metadata": {},
     "output_type": "execute_result"
    }
   ],
   "source": [
    "%%time\n",
    "# # Pandas\n",
    "# df_reloaded_pandas[df_reloaded_pandas[\"source_text\"].isin(sources_wanted)].groupby(\n",
    "#     [\"source_text\", \"dominant_topic_named\"], as_index=False\n",
    "# ).size()\n",
    "\n",
    "# PySpark\n",
    "df_sources_grouped = df_reloaded_cached.filter(F.col(\"source_text\").isin(sources_wanted)).groupBy(\n",
    "    [\"source_text\", \"dominant_topic_named\"]\n",
    ").count().orderBy([\"source_text\", \"dominant_topic_named\"], ascending=[True, True])\n",
    "show_pyspark_df(df_sources_grouped)"
   ]
  },
  {
   "cell_type": "markdown",
   "id": "d3874be5",
   "metadata": {},
   "source": [
    "**Observations**\n",
    "1. Twitter for iPhone seems to be the preferred platform for users posting tweets about Astrology. The absolute number of tweets, within this topic, is the highest for the twitter app on the iPhone. On all other platforms, the fewest tweets posted fall under the Astrology topic. However, on the iPhone app, Astrology is among the highest."
   ]
  },
  {
   "cell_type": "markdown",
   "id": "7e8c84d4",
   "metadata": {},
   "source": [
    "Pivot the clientwise grouped data keeping client along the rows and topics along the columns"
   ]
  },
  {
   "cell_type": "code",
   "execution_count": 241,
   "id": "96a7d448",
   "metadata": {},
   "outputs": [
    {
     "name": "stdout",
     "output_type": "stream",
     "text": [
      "CPU times: user 15.4 ms, sys: 29 µs, total: 15.5 ms\n",
      "Wall time: 1.63 s\n"
     ]
    },
    {
     "data": {
      "text/html": [
       "<div>\n",
       "<style scoped>\n",
       "    .dataframe tbody tr th:only-of-type {\n",
       "        vertical-align: middle;\n",
       "    }\n",
       "\n",
       "    .dataframe tbody tr th {\n",
       "        vertical-align: top;\n",
       "    }\n",
       "\n",
       "    .dataframe thead th {\n",
       "        text-align: right;\n",
       "    }\n",
       "</style>\n",
       "<table border=\"1\" class=\"dataframe\">\n",
       "  <thead>\n",
       "    <tr style=\"text-align: right;\">\n",
       "      <th></th>\n",
       "      <th>Space Research</th>\n",
       "      <th>Astronomy</th>\n",
       "      <th>Astrology</th>\n",
       "      <th>Satellites / Telescopes</th>\n",
       "    </tr>\n",
       "    <tr>\n",
       "      <th>source_text</th>\n",
       "      <th></th>\n",
       "      <th></th>\n",
       "      <th></th>\n",
       "      <th></th>\n",
       "    </tr>\n",
       "  </thead>\n",
       "  <tbody>\n",
       "    <tr>\n",
       "      <th>Twitter Web App</th>\n",
       "      <td>13562</td>\n",
       "      <td>16108</td>\n",
       "      <td>10037</td>\n",
       "      <td>18167</td>\n",
       "    </tr>\n",
       "    <tr>\n",
       "      <th>Twitter for iPhone</th>\n",
       "      <td>13032</td>\n",
       "      <td>15743</td>\n",
       "      <td>18253</td>\n",
       "      <td>20378</td>\n",
       "    </tr>\n",
       "    <tr>\n",
       "      <th>TweetDeck</th>\n",
       "      <td>505</td>\n",
       "      <td>713</td>\n",
       "      <td>244</td>\n",
       "      <td>805</td>\n",
       "    </tr>\n",
       "    <tr>\n",
       "      <th>Twitter for iPad</th>\n",
       "      <td>1439</td>\n",
       "      <td>1630</td>\n",
       "      <td>957</td>\n",
       "      <td>1934</td>\n",
       "    </tr>\n",
       "    <tr>\n",
       "      <th>Twitter for Android</th>\n",
       "      <td>19147</td>\n",
       "      <td>23222</td>\n",
       "      <td>16975</td>\n",
       "      <td>37196</td>\n",
       "    </tr>\n",
       "    <tr>\n",
       "      <th>IFTTT</th>\n",
       "      <td>143</td>\n",
       "      <td>250</td>\n",
       "      <td>68</td>\n",
       "      <td>170</td>\n",
       "    </tr>\n",
       "    <tr>\n",
       "      <th>Tweetbot for iΟS</th>\n",
       "      <td>80</td>\n",
       "      <td>110</td>\n",
       "      <td>55</td>\n",
       "      <td>275</td>\n",
       "    </tr>\n",
       "  </tbody>\n",
       "</table>\n",
       "</div>"
      ],
      "text/plain": [
       "                     Space Research  Astronomy  Astrology  \\\n",
       "source_text                                                 \n",
       "Twitter Web App               13562      16108      10037   \n",
       "Twitter for iPhone            13032      15743      18253   \n",
       "TweetDeck                       505        713        244   \n",
       "Twitter for iPad               1439       1630        957   \n",
       "Twitter for Android           19147      23222      16975   \n",
       "IFTTT                           143        250         68   \n",
       "Tweetbot for iΟS                 80        110         55   \n",
       "\n",
       "                     Satellites / Telescopes  \n",
       "source_text                                   \n",
       "Twitter Web App                        18167  \n",
       "Twitter for iPhone                     20378  \n",
       "TweetDeck                                805  \n",
       "Twitter for iPad                        1934  \n",
       "Twitter for Android                    37196  \n",
       "IFTTT                                    170  \n",
       "Tweetbot for iΟS                         275  "
      ]
     },
     "execution_count": 241,
     "metadata": {},
     "output_type": "execute_result"
    }
   ],
   "source": [
    "%%time\n",
    "distinct_column_vals = [\n",
    "    v.asDict()[\"dominant_topic_named\"]\n",
    "    for v in df_reloaded_cached.select(\"dominant_topic_named\").distinct().collect()\n",
    "]\n",
    "df_sources_pivotted_toPandas = df_sources_grouped.groupBy(\"source_text\").pivot(\n",
    "    \"dominant_topic_named\", distinct_column_vals\n",
    ").sum(\"count\").withColumnRenamed(\n",
    "    \"Activities related to Space Research\", \"Space Research\"\n",
    ").withColumnRenamed(\n",
    "    \"Satellites and Telescopes\", \"Satellites / Telescopes\"\n",
    ").toPandas().set_index(\"source_text\")\n",
    "df_sources_pivotted_toPandas"
   ]
  },
  {
   "cell_type": "markdown",
   "id": "777e2de4",
   "metadata": {},
   "source": [
    "Re-shape data into format suitable for PlotLy `go.Heatmap()`"
   ]
  },
  {
   "cell_type": "code",
   "execution_count": null,
   "id": "e367aabc",
   "metadata": {},
   "outputs": [],
   "source": [
    "df_annot = df_sources_pivotted_toPandas.copy()\n",
    "for col in df_annot:\n",
    "    df_annot[col] = df_annot[col].map(\"{:,}\".format)\n",
    "data_dict = vh.convert_df_to_format_for_plotly_heatmap(\n",
    "    df_sources_pivotted_toPandas, df_annot, True,\n",
    ")"
   ]
  },
  {
   "cell_type": "markdown",
   "id": "e43606a9",
   "metadata": {},
   "source": [
    "Plot the heatmap from the reshaped data"
   ]
  },
  {
   "cell_type": "code",
   "execution_count": 265,
   "id": "4ed5834d",
   "metadata": {},
   "outputs": [
    {
     "name": "stdout",
     "output_type": "stream",
     "text": [
      "CPU times: user 34.2 ms, sys: 3.17 ms, total: 37.4 ms\n",
      "Wall time: 47.7 ms\n"
     ]
    },
    {
     "data": {
      "application/vnd.plotly.v1+json": {
       "config": {
        "plotlyServerURL": "https://plot.ly"
       },
       "data": [
        {
         "colorscale": [
          [
           0,
           "rgb(255,255,204)"
          ],
          [
           0.125,
           "rgb(255,237,160)"
          ],
          [
           0.25,
           "rgb(254,217,118)"
          ],
          [
           0.375,
           "rgb(254,178,76)"
          ],
          [
           0.5,
           "rgb(253,141,60)"
          ],
          [
           0.625,
           "rgb(252,78,42)"
          ],
          [
           0.75,
           "rgb(227,26,28)"
          ],
          [
           0.875,
           "rgb(189,0,38)"
          ],
          [
           1,
           "rgb(128,0,38)"
          ]
         ],
         "hoverinfo": "skip",
         "reversescale": false,
         "showscale": false,
         "type": "heatmap",
         "x": [
          "Space Research",
          "Astronomy",
          "Astrology",
          "Satellites / Telescopes"
         ],
         "y": [
          "Twitter Web App",
          "Twitter for iPhone",
          "TweetDeck",
          "Twitter for iPad",
          "Twitter for Android",
          "IFTTT",
          "Tweetbot for iΟS"
         ],
         "z": [
          [
           9.515100775962715,
           9.687133400997965,
           9.214133170214879,
           9.807417083785394
          ],
          [
           9.47523988153072,
           9.664214619292034,
           9.812139513076822,
           9.922260237859412
          ],
          [
           6.226536669287466,
           6.570882962339584,
           5.501258210544727,
           6.692083742506628
          ],
          [
           7.272398392570047,
           7.396948602621014,
           6.86484777797086,
           7.5678626054638825
          ],
          [
           9.8599535505124,
           10.052898445872824,
           9.739555860853764,
           10.523983391847953
          ],
          [
           4.969813299576001,
           5.5254529391317835,
           4.23410650459726,
           5.14166355650266
          ],
          [
           4.394449154672439,
           4.709530201312334,
           4.02535169073515,
           5.62040086571715
          ]
         ]
        }
       ],
       "layout": {
        "annotations": [
         {
          "font": {
           "color": "white"
          },
          "showarrow": false,
          "text": "13,562",
          "x": "Space Research",
          "xref": "x",
          "y": "Twitter Web App",
          "yref": "y"
         },
         {
          "font": {
           "color": "white"
          },
          "showarrow": false,
          "text": "16,108",
          "x": "Astronomy",
          "xref": "x",
          "y": "Twitter Web App",
          "yref": "y"
         },
         {
          "font": {
           "color": "white"
          },
          "showarrow": false,
          "text": "10,037",
          "x": "Astrology",
          "xref": "x",
          "y": "Twitter Web App",
          "yref": "y"
         },
         {
          "font": {
           "color": "white"
          },
          "showarrow": false,
          "text": "18,167",
          "x": "Satellites / Telescopes",
          "xref": "x",
          "y": "Twitter Web App",
          "yref": "y"
         },
         {
          "font": {
           "color": "white"
          },
          "showarrow": false,
          "text": "13,032",
          "x": "Space Research",
          "xref": "x",
          "y": "Twitter for iPhone",
          "yref": "y"
         },
         {
          "font": {
           "color": "white"
          },
          "showarrow": false,
          "text": "15,743",
          "x": "Astronomy",
          "xref": "x",
          "y": "Twitter for iPhone",
          "yref": "y"
         },
         {
          "font": {
           "color": "white"
          },
          "showarrow": false,
          "text": "18,253",
          "x": "Astrology",
          "xref": "x",
          "y": "Twitter for iPhone",
          "yref": "y"
         },
         {
          "font": {
           "color": "white"
          },
          "showarrow": false,
          "text": "20,378",
          "x": "Satellites / Telescopes",
          "xref": "x",
          "y": "Twitter for iPhone",
          "yref": "y"
         },
         {
          "font": {
           "color": "#454545"
          },
          "showarrow": false,
          "text": "505",
          "x": "Space Research",
          "xref": "x",
          "y": "TweetDeck",
          "yref": "y"
         },
         {
          "font": {
           "color": "#454545"
          },
          "showarrow": false,
          "text": "713",
          "x": "Astronomy",
          "xref": "x",
          "y": "TweetDeck",
          "yref": "y"
         },
         {
          "font": {
           "color": "#454545"
          },
          "showarrow": false,
          "text": "244",
          "x": "Astrology",
          "xref": "x",
          "y": "TweetDeck",
          "yref": "y"
         },
         {
          "font": {
           "color": "#454545"
          },
          "showarrow": false,
          "text": "805",
          "x": "Satellites / Telescopes",
          "xref": "x",
          "y": "TweetDeck",
          "yref": "y"
         },
         {
          "font": {
           "color": "#454545"
          },
          "showarrow": false,
          "text": "1,439",
          "x": "Space Research",
          "xref": "x",
          "y": "Twitter for iPad",
          "yref": "y"
         },
         {
          "font": {
           "color": "white"
          },
          "showarrow": false,
          "text": "1,630",
          "x": "Astronomy",
          "xref": "x",
          "y": "Twitter for iPad",
          "yref": "y"
         },
         {
          "font": {
           "color": "#454545"
          },
          "showarrow": false,
          "text": "957",
          "x": "Astrology",
          "xref": "x",
          "y": "Twitter for iPad",
          "yref": "y"
         },
         {
          "font": {
           "color": "white"
          },
          "showarrow": false,
          "text": "1,934",
          "x": "Satellites / Telescopes",
          "xref": "x",
          "y": "Twitter for iPad",
          "yref": "y"
         },
         {
          "font": {
           "color": "white"
          },
          "showarrow": false,
          "text": "19,147",
          "x": "Space Research",
          "xref": "x",
          "y": "Twitter for Android",
          "yref": "y"
         },
         {
          "font": {
           "color": "white"
          },
          "showarrow": false,
          "text": "23,222",
          "x": "Astronomy",
          "xref": "x",
          "y": "Twitter for Android",
          "yref": "y"
         },
         {
          "font": {
           "color": "white"
          },
          "showarrow": false,
          "text": "16,975",
          "x": "Astrology",
          "xref": "x",
          "y": "Twitter for Android",
          "yref": "y"
         },
         {
          "font": {
           "color": "white"
          },
          "showarrow": false,
          "text": "37,196",
          "x": "Satellites / Telescopes",
          "xref": "x",
          "y": "Twitter for Android",
          "yref": "y"
         },
         {
          "font": {
           "color": "#454545"
          },
          "showarrow": false,
          "text": "143",
          "x": "Space Research",
          "xref": "x",
          "y": "IFTTT",
          "yref": "y"
         },
         {
          "font": {
           "color": "#454545"
          },
          "showarrow": false,
          "text": "250",
          "x": "Astronomy",
          "xref": "x",
          "y": "IFTTT",
          "yref": "y"
         },
         {
          "font": {
           "color": "#454545"
          },
          "showarrow": false,
          "text": "68",
          "x": "Astrology",
          "xref": "x",
          "y": "IFTTT",
          "yref": "y"
         },
         {
          "font": {
           "color": "#454545"
          },
          "showarrow": false,
          "text": "170",
          "x": "Satellites / Telescopes",
          "xref": "x",
          "y": "IFTTT",
          "yref": "y"
         },
         {
          "font": {
           "color": "#454545"
          },
          "showarrow": false,
          "text": "80",
          "x": "Space Research",
          "xref": "x",
          "y": "Tweetbot for iΟS",
          "yref": "y"
         },
         {
          "font": {
           "color": "#454545"
          },
          "showarrow": false,
          "text": "110",
          "x": "Astronomy",
          "xref": "x",
          "y": "Tweetbot for iΟS",
          "yref": "y"
         },
         {
          "font": {
           "color": "#454545"
          },
          "showarrow": false,
          "text": "55",
          "x": "Astrology",
          "xref": "x",
          "y": "Tweetbot for iΟS",
          "yref": "y"
         },
         {
          "font": {
           "color": "#454545"
          },
          "showarrow": false,
          "text": "275",
          "x": "Satellites / Telescopes",
          "xref": "x",
          "y": "Tweetbot for iΟS",
          "yref": "y"
         }
        ],
        "autosize": false,
        "font": {
         "size": 16
        },
        "height": 450,
        "margin": {
         "b": 0,
         "l": 30,
         "pad": 0,
         "r": 0,
         "t": 0
        },
        "paper_bgcolor": "rgba(0, 0, 0, 0)",
        "plot_bgcolor": "rgba(0, 0, 0, 0)",
        "template": {
         "data": {
          "bar": [
           {
            "error_x": {
             "color": "#2a3f5f"
            },
            "error_y": {
             "color": "#2a3f5f"
            },
            "marker": {
             "line": {
              "color": "#E5ECF6",
              "width": 0.5
             },
             "pattern": {
              "fillmode": "overlay",
              "size": 10,
              "solidity": 0.2
             }
            },
            "type": "bar"
           }
          ],
          "barpolar": [
           {
            "marker": {
             "line": {
              "color": "#E5ECF6",
              "width": 0.5
             },
             "pattern": {
              "fillmode": "overlay",
              "size": 10,
              "solidity": 0.2
             }
            },
            "type": "barpolar"
           }
          ],
          "carpet": [
           {
            "aaxis": {
             "endlinecolor": "#2a3f5f",
             "gridcolor": "white",
             "linecolor": "white",
             "minorgridcolor": "white",
             "startlinecolor": "#2a3f5f"
            },
            "baxis": {
             "endlinecolor": "#2a3f5f",
             "gridcolor": "white",
             "linecolor": "white",
             "minorgridcolor": "white",
             "startlinecolor": "#2a3f5f"
            },
            "type": "carpet"
           }
          ],
          "choropleth": [
           {
            "colorbar": {
             "outlinewidth": 0,
             "ticks": ""
            },
            "type": "choropleth"
           }
          ],
          "contour": [
           {
            "colorbar": {
             "outlinewidth": 0,
             "ticks": ""
            },
            "colorscale": [
             [
              0,
              "#0d0887"
             ],
             [
              0.1111111111111111,
              "#46039f"
             ],
             [
              0.2222222222222222,
              "#7201a8"
             ],
             [
              0.3333333333333333,
              "#9c179e"
             ],
             [
              0.4444444444444444,
              "#bd3786"
             ],
             [
              0.5555555555555556,
              "#d8576b"
             ],
             [
              0.6666666666666666,
              "#ed7953"
             ],
             [
              0.7777777777777778,
              "#fb9f3a"
             ],
             [
              0.8888888888888888,
              "#fdca26"
             ],
             [
              1,
              "#f0f921"
             ]
            ],
            "type": "contour"
           }
          ],
          "contourcarpet": [
           {
            "colorbar": {
             "outlinewidth": 0,
             "ticks": ""
            },
            "type": "contourcarpet"
           }
          ],
          "heatmap": [
           {
            "colorbar": {
             "outlinewidth": 0,
             "ticks": ""
            },
            "colorscale": [
             [
              0,
              "#0d0887"
             ],
             [
              0.1111111111111111,
              "#46039f"
             ],
             [
              0.2222222222222222,
              "#7201a8"
             ],
             [
              0.3333333333333333,
              "#9c179e"
             ],
             [
              0.4444444444444444,
              "#bd3786"
             ],
             [
              0.5555555555555556,
              "#d8576b"
             ],
             [
              0.6666666666666666,
              "#ed7953"
             ],
             [
              0.7777777777777778,
              "#fb9f3a"
             ],
             [
              0.8888888888888888,
              "#fdca26"
             ],
             [
              1,
              "#f0f921"
             ]
            ],
            "type": "heatmap"
           }
          ],
          "heatmapgl": [
           {
            "colorbar": {
             "outlinewidth": 0,
             "ticks": ""
            },
            "colorscale": [
             [
              0,
              "#0d0887"
             ],
             [
              0.1111111111111111,
              "#46039f"
             ],
             [
              0.2222222222222222,
              "#7201a8"
             ],
             [
              0.3333333333333333,
              "#9c179e"
             ],
             [
              0.4444444444444444,
              "#bd3786"
             ],
             [
              0.5555555555555556,
              "#d8576b"
             ],
             [
              0.6666666666666666,
              "#ed7953"
             ],
             [
              0.7777777777777778,
              "#fb9f3a"
             ],
             [
              0.8888888888888888,
              "#fdca26"
             ],
             [
              1,
              "#f0f921"
             ]
            ],
            "type": "heatmapgl"
           }
          ],
          "histogram": [
           {
            "marker": {
             "pattern": {
              "fillmode": "overlay",
              "size": 10,
              "solidity": 0.2
             }
            },
            "type": "histogram"
           }
          ],
          "histogram2d": [
           {
            "colorbar": {
             "outlinewidth": 0,
             "ticks": ""
            },
            "colorscale": [
             [
              0,
              "#0d0887"
             ],
             [
              0.1111111111111111,
              "#46039f"
             ],
             [
              0.2222222222222222,
              "#7201a8"
             ],
             [
              0.3333333333333333,
              "#9c179e"
             ],
             [
              0.4444444444444444,
              "#bd3786"
             ],
             [
              0.5555555555555556,
              "#d8576b"
             ],
             [
              0.6666666666666666,
              "#ed7953"
             ],
             [
              0.7777777777777778,
              "#fb9f3a"
             ],
             [
              0.8888888888888888,
              "#fdca26"
             ],
             [
              1,
              "#f0f921"
             ]
            ],
            "type": "histogram2d"
           }
          ],
          "histogram2dcontour": [
           {
            "colorbar": {
             "outlinewidth": 0,
             "ticks": ""
            },
            "colorscale": [
             [
              0,
              "#0d0887"
             ],
             [
              0.1111111111111111,
              "#46039f"
             ],
             [
              0.2222222222222222,
              "#7201a8"
             ],
             [
              0.3333333333333333,
              "#9c179e"
             ],
             [
              0.4444444444444444,
              "#bd3786"
             ],
             [
              0.5555555555555556,
              "#d8576b"
             ],
             [
              0.6666666666666666,
              "#ed7953"
             ],
             [
              0.7777777777777778,
              "#fb9f3a"
             ],
             [
              0.8888888888888888,
              "#fdca26"
             ],
             [
              1,
              "#f0f921"
             ]
            ],
            "type": "histogram2dcontour"
           }
          ],
          "mesh3d": [
           {
            "colorbar": {
             "outlinewidth": 0,
             "ticks": ""
            },
            "type": "mesh3d"
           }
          ],
          "parcoords": [
           {
            "line": {
             "colorbar": {
              "outlinewidth": 0,
              "ticks": ""
             }
            },
            "type": "parcoords"
           }
          ],
          "pie": [
           {
            "automargin": true,
            "type": "pie"
           }
          ],
          "scatter": [
           {
            "marker": {
             "colorbar": {
              "outlinewidth": 0,
              "ticks": ""
             }
            },
            "type": "scatter"
           }
          ],
          "scatter3d": [
           {
            "line": {
             "colorbar": {
              "outlinewidth": 0,
              "ticks": ""
             }
            },
            "marker": {
             "colorbar": {
              "outlinewidth": 0,
              "ticks": ""
             }
            },
            "type": "scatter3d"
           }
          ],
          "scattercarpet": [
           {
            "marker": {
             "colorbar": {
              "outlinewidth": 0,
              "ticks": ""
             }
            },
            "type": "scattercarpet"
           }
          ],
          "scattergeo": [
           {
            "marker": {
             "colorbar": {
              "outlinewidth": 0,
              "ticks": ""
             }
            },
            "type": "scattergeo"
           }
          ],
          "scattergl": [
           {
            "marker": {
             "colorbar": {
              "outlinewidth": 0,
              "ticks": ""
             }
            },
            "type": "scattergl"
           }
          ],
          "scattermapbox": [
           {
            "marker": {
             "colorbar": {
              "outlinewidth": 0,
              "ticks": ""
             }
            },
            "type": "scattermapbox"
           }
          ],
          "scatterpolar": [
           {
            "marker": {
             "colorbar": {
              "outlinewidth": 0,
              "ticks": ""
             }
            },
            "type": "scatterpolar"
           }
          ],
          "scatterpolargl": [
           {
            "marker": {
             "colorbar": {
              "outlinewidth": 0,
              "ticks": ""
             }
            },
            "type": "scatterpolargl"
           }
          ],
          "scatterternary": [
           {
            "marker": {
             "colorbar": {
              "outlinewidth": 0,
              "ticks": ""
             }
            },
            "type": "scatterternary"
           }
          ],
          "surface": [
           {
            "colorbar": {
             "outlinewidth": 0,
             "ticks": ""
            },
            "colorscale": [
             [
              0,
              "#0d0887"
             ],
             [
              0.1111111111111111,
              "#46039f"
             ],
             [
              0.2222222222222222,
              "#7201a8"
             ],
             [
              0.3333333333333333,
              "#9c179e"
             ],
             [
              0.4444444444444444,
              "#bd3786"
             ],
             [
              0.5555555555555556,
              "#d8576b"
             ],
             [
              0.6666666666666666,
              "#ed7953"
             ],
             [
              0.7777777777777778,
              "#fb9f3a"
             ],
             [
              0.8888888888888888,
              "#fdca26"
             ],
             [
              1,
              "#f0f921"
             ]
            ],
            "type": "surface"
           }
          ],
          "table": [
           {
            "cells": {
             "fill": {
              "color": "#EBF0F8"
             },
             "line": {
              "color": "white"
             }
            },
            "header": {
             "fill": {
              "color": "#C8D4E3"
             },
             "line": {
              "color": "white"
             }
            },
            "type": "table"
           }
          ]
         },
         "layout": {
          "annotationdefaults": {
           "arrowcolor": "#2a3f5f",
           "arrowhead": 0,
           "arrowwidth": 1
          },
          "autotypenumbers": "strict",
          "coloraxis": {
           "colorbar": {
            "outlinewidth": 0,
            "ticks": ""
           }
          },
          "colorscale": {
           "diverging": [
            [
             0,
             "#8e0152"
            ],
            [
             0.1,
             "#c51b7d"
            ],
            [
             0.2,
             "#de77ae"
            ],
            [
             0.3,
             "#f1b6da"
            ],
            [
             0.4,
             "#fde0ef"
            ],
            [
             0.5,
             "#f7f7f7"
            ],
            [
             0.6,
             "#e6f5d0"
            ],
            [
             0.7,
             "#b8e186"
            ],
            [
             0.8,
             "#7fbc41"
            ],
            [
             0.9,
             "#4d9221"
            ],
            [
             1,
             "#276419"
            ]
           ],
           "sequential": [
            [
             0,
             "#0d0887"
            ],
            [
             0.1111111111111111,
             "#46039f"
            ],
            [
             0.2222222222222222,
             "#7201a8"
            ],
            [
             0.3333333333333333,
             "#9c179e"
            ],
            [
             0.4444444444444444,
             "#bd3786"
            ],
            [
             0.5555555555555556,
             "#d8576b"
            ],
            [
             0.6666666666666666,
             "#ed7953"
            ],
            [
             0.7777777777777778,
             "#fb9f3a"
            ],
            [
             0.8888888888888888,
             "#fdca26"
            ],
            [
             1,
             "#f0f921"
            ]
           ],
           "sequentialminus": [
            [
             0,
             "#0d0887"
            ],
            [
             0.1111111111111111,
             "#46039f"
            ],
            [
             0.2222222222222222,
             "#7201a8"
            ],
            [
             0.3333333333333333,
             "#9c179e"
            ],
            [
             0.4444444444444444,
             "#bd3786"
            ],
            [
             0.5555555555555556,
             "#d8576b"
            ],
            [
             0.6666666666666666,
             "#ed7953"
            ],
            [
             0.7777777777777778,
             "#fb9f3a"
            ],
            [
             0.8888888888888888,
             "#fdca26"
            ],
            [
             1,
             "#f0f921"
            ]
           ]
          },
          "colorway": [
           "#636efa",
           "#EF553B",
           "#00cc96",
           "#ab63fa",
           "#FFA15A",
           "#19d3f3",
           "#FF6692",
           "#B6E880",
           "#FF97FF",
           "#FECB52"
          ],
          "font": {
           "color": "#2a3f5f"
          },
          "geo": {
           "bgcolor": "white",
           "lakecolor": "white",
           "landcolor": "#E5ECF6",
           "showlakes": true,
           "showland": true,
           "subunitcolor": "white"
          },
          "hoverlabel": {
           "align": "left"
          },
          "hovermode": "closest",
          "mapbox": {
           "style": "light"
          },
          "paper_bgcolor": "white",
          "plot_bgcolor": "#E5ECF6",
          "polar": {
           "angularaxis": {
            "gridcolor": "white",
            "linecolor": "white",
            "ticks": ""
           },
           "bgcolor": "#E5ECF6",
           "radialaxis": {
            "gridcolor": "white",
            "linecolor": "white",
            "ticks": ""
           }
          },
          "scene": {
           "xaxis": {
            "backgroundcolor": "#E5ECF6",
            "gridcolor": "white",
            "gridwidth": 2,
            "linecolor": "white",
            "showbackground": true,
            "ticks": "",
            "zerolinecolor": "white"
           },
           "yaxis": {
            "backgroundcolor": "#E5ECF6",
            "gridcolor": "white",
            "gridwidth": 2,
            "linecolor": "white",
            "showbackground": true,
            "ticks": "",
            "zerolinecolor": "white"
           },
           "zaxis": {
            "backgroundcolor": "#E5ECF6",
            "gridcolor": "white",
            "gridwidth": 2,
            "linecolor": "white",
            "showbackground": true,
            "ticks": "",
            "zerolinecolor": "white"
           }
          },
          "shapedefaults": {
           "line": {
            "color": "#2a3f5f"
           }
          },
          "ternary": {
           "aaxis": {
            "gridcolor": "white",
            "linecolor": "white",
            "ticks": ""
           },
           "baxis": {
            "gridcolor": "white",
            "linecolor": "white",
            "ticks": ""
           },
           "bgcolor": "#E5ECF6",
           "caxis": {
            "gridcolor": "white",
            "linecolor": "white",
            "ticks": ""
           }
          },
          "title": {
           "x": 0.05
          },
          "xaxis": {
           "automargin": true,
           "gridcolor": "white",
           "linecolor": "white",
           "ticks": "",
           "title": {
            "standoff": 15
           },
           "zerolinecolor": "white",
           "zerolinewidth": 2
          },
          "yaxis": {
           "automargin": true,
           "gridcolor": "white",
           "linecolor": "white",
           "ticks": "",
           "title": {
            "standoff": 15
           },
           "zerolinecolor": "white",
           "zerolinewidth": 2
          }
         }
        },
        "width": 900,
        "xaxis": {
         "autorange": true,
         "dtick": 1,
         "gridcolor": "rgb(0, 0, 0)",
         "range": [
          -0.5,
          3.5
         ],
         "side": "top",
         "tickangle": 0,
         "tickfont": {
          "color": "rgb(92,90,90)",
          "family": "Arial",
          "size": 18
         },
         "ticks": "",
         "type": "category"
        },
        "yaxis": {
         "autorange": true,
         "dtick": 1,
         "range": [
          -0.5,
          6.5
         ],
         "tickfont": {
          "color": "rgb(92,90,90)",
          "family": "Arial",
          "size": 18
         },
         "ticks": "",
         "ticksuffix": "  ",
         "type": "category"
        }
       }
      },
      "image/png": "[encoded data removed]",
      "text/html": [
       "<div>                            <div id=\"e117f71b-b453-4a0d-905c-189b70d8db43\" class=\"plotly-graph-div\" style=\"height:525px; width:900px;\"></div>            <script type=\"text/javascript\">                require([\"plotly\"], function(Plotly) {                    window.PLOTLYENV=window.PLOTLYENV || {};                                    if (document.getElementById(\"e117f71b-b453-4a0d-905c-189b70d8db43\")) {                    Plotly.newPlot(                        \"e117f71b-b453-4a0d-905c-189b70d8db43\",                        [{\"colorscale\":[[0.0,\"rgb(255,255,204)\"],[0.125,\"rgb(255,237,160)\"],[0.25,\"rgb(254,217,118)\"],[0.375,\"rgb(254,178,76)\"],[0.5,\"rgb(253,141,60)\"],[0.625,\"rgb(252,78,42)\"],[0.75,\"rgb(227,26,28)\"],[0.875,\"rgb(189,0,38)\"],[1.0,\"rgb(128,0,38)\"]],\"hoverinfo\":\"skip\",\"reversescale\":false,\"showscale\":false,\"x\":[\"Space Research\",\"Astronomy\",\"Astrology\",\"Satellites / Telescopes\"],\"y\":[\"Twitter Web App\",\"Twitter for iPhone\",\"TweetDeck\",\"Twitter for iPad\",\"Twitter for Android\",\"IFTTT\",\"Tweetbot for i\\u039fS\"],\"z\":[[9.515100775962715,9.687133400997965,9.214133170214879,9.807417083785394],[9.47523988153072,9.664214619292034,9.812139513076822,9.922260237859412],[6.226536669287466,6.570882962339584,5.501258210544727,6.692083742506628],[7.272398392570047,7.396948602621014,6.86484777797086,7.5678626054638825],[9.8599535505124,10.052898445872824,9.739555860853764,10.523983391847953],[4.969813299576001,5.5254529391317835,4.23410650459726,5.14166355650266],[4.394449154672439,4.709530201312334,4.02535169073515,5.62040086571715]],\"type\":\"heatmap\"}],                        {\"annotations\":[{\"font\":{\"color\":\"white\"},\"showarrow\":false,\"text\":\"13,562\",\"x\":\"Space Research\",\"xref\":\"x\",\"y\":\"Twitter Web App\",\"yref\":\"y\"},{\"font\":{\"color\":\"white\"},\"showarrow\":false,\"text\":\"16,108\",\"x\":\"Astronomy\",\"xref\":\"x\",\"y\":\"Twitter Web App\",\"yref\":\"y\"},{\"font\":{\"color\":\"white\"},\"showarrow\":false,\"text\":\"10,037\",\"x\":\"Astrology\",\"xref\":\"x\",\"y\":\"Twitter Web App\",\"yref\":\"y\"},{\"font\":{\"color\":\"white\"},\"showarrow\":false,\"text\":\"18,167\",\"x\":\"Satellites / Telescopes\",\"xref\":\"x\",\"y\":\"Twitter Web App\",\"yref\":\"y\"},{\"font\":{\"color\":\"white\"},\"showarrow\":false,\"text\":\"13,032\",\"x\":\"Space Research\",\"xref\":\"x\",\"y\":\"Twitter for iPhone\",\"yref\":\"y\"},{\"font\":{\"color\":\"white\"},\"showarrow\":false,\"text\":\"15,743\",\"x\":\"Astronomy\",\"xref\":\"x\",\"y\":\"Twitter for iPhone\",\"yref\":\"y\"},{\"font\":{\"color\":\"white\"},\"showarrow\":false,\"text\":\"18,253\",\"x\":\"Astrology\",\"xref\":\"x\",\"y\":\"Twitter for iPhone\",\"yref\":\"y\"},{\"font\":{\"color\":\"white\"},\"showarrow\":false,\"text\":\"20,378\",\"x\":\"Satellites / Telescopes\",\"xref\":\"x\",\"y\":\"Twitter for iPhone\",\"yref\":\"y\"},{\"font\":{\"color\":\"#454545\"},\"showarrow\":false,\"text\":\"505\",\"x\":\"Space Research\",\"xref\":\"x\",\"y\":\"TweetDeck\",\"yref\":\"y\"},{\"font\":{\"color\":\"#454545\"},\"showarrow\":false,\"text\":\"713\",\"x\":\"Astronomy\",\"xref\":\"x\",\"y\":\"TweetDeck\",\"yref\":\"y\"},{\"font\":{\"color\":\"#454545\"},\"showarrow\":false,\"text\":\"244\",\"x\":\"Astrology\",\"xref\":\"x\",\"y\":\"TweetDeck\",\"yref\":\"y\"},{\"font\":{\"color\":\"#454545\"},\"showarrow\":false,\"text\":\"805\",\"x\":\"Satellites / Telescopes\",\"xref\":\"x\",\"y\":\"TweetDeck\",\"yref\":\"y\"},{\"font\":{\"color\":\"#454545\"},\"showarrow\":false,\"text\":\"1,439\",\"x\":\"Space Research\",\"xref\":\"x\",\"y\":\"Twitter for iPad\",\"yref\":\"y\"},{\"font\":{\"color\":\"white\"},\"showarrow\":false,\"text\":\"1,630\",\"x\":\"Astronomy\",\"xref\":\"x\",\"y\":\"Twitter for iPad\",\"yref\":\"y\"},{\"font\":{\"color\":\"#454545\"},\"showarrow\":false,\"text\":\"957\",\"x\":\"Astrology\",\"xref\":\"x\",\"y\":\"Twitter for iPad\",\"yref\":\"y\"},{\"font\":{\"color\":\"white\"},\"showarrow\":false,\"text\":\"1,934\",\"x\":\"Satellites / Telescopes\",\"xref\":\"x\",\"y\":\"Twitter for iPad\",\"yref\":\"y\"},{\"font\":{\"color\":\"white\"},\"showarrow\":false,\"text\":\"19,147\",\"x\":\"Space Research\",\"xref\":\"x\",\"y\":\"Twitter for Android\",\"yref\":\"y\"},{\"font\":{\"color\":\"white\"},\"showarrow\":false,\"text\":\"23,222\",\"x\":\"Astronomy\",\"xref\":\"x\",\"y\":\"Twitter for Android\",\"yref\":\"y\"},{\"font\":{\"color\":\"white\"},\"showarrow\":false,\"text\":\"16,975\",\"x\":\"Astrology\",\"xref\":\"x\",\"y\":\"Twitter for Android\",\"yref\":\"y\"},{\"font\":{\"color\":\"white\"},\"showarrow\":false,\"text\":\"37,196\",\"x\":\"Satellites / Telescopes\",\"xref\":\"x\",\"y\":\"Twitter for Android\",\"yref\":\"y\"},{\"font\":{\"color\":\"#454545\"},\"showarrow\":false,\"text\":\"143\",\"x\":\"Space Research\",\"xref\":\"x\",\"y\":\"IFTTT\",\"yref\":\"y\"},{\"font\":{\"color\":\"#454545\"},\"showarrow\":false,\"text\":\"250\",\"x\":\"Astronomy\",\"xref\":\"x\",\"y\":\"IFTTT\",\"yref\":\"y\"},{\"font\":{\"color\":\"#454545\"},\"showarrow\":false,\"text\":\"68\",\"x\":\"Astrology\",\"xref\":\"x\",\"y\":\"IFTTT\",\"yref\":\"y\"},{\"font\":{\"color\":\"#454545\"},\"showarrow\":false,\"text\":\"170\",\"x\":\"Satellites / Telescopes\",\"xref\":\"x\",\"y\":\"IFTTT\",\"yref\":\"y\"},{\"font\":{\"color\":\"#454545\"},\"showarrow\":false,\"text\":\"80\",\"x\":\"Space Research\",\"xref\":\"x\",\"y\":\"Tweetbot for i\\u039fS\",\"yref\":\"y\"},{\"font\":{\"color\":\"#454545\"},\"showarrow\":false,\"text\":\"110\",\"x\":\"Astronomy\",\"xref\":\"x\",\"y\":\"Tweetbot for i\\u039fS\",\"yref\":\"y\"},{\"font\":{\"color\":\"#454545\"},\"showarrow\":false,\"text\":\"55\",\"x\":\"Astrology\",\"xref\":\"x\",\"y\":\"Tweetbot for i\\u039fS\",\"yref\":\"y\"},{\"font\":{\"color\":\"#454545\"},\"showarrow\":false,\"text\":\"275\",\"x\":\"Satellites / Telescopes\",\"xref\":\"x\",\"y\":\"Tweetbot for i\\u039fS\",\"yref\":\"y\"}],\"xaxis\":{\"dtick\":1,\"gridcolor\":\"rgb(0, 0, 0)\",\"side\":\"top\",\"ticks\":\"\",\"tickfont\":{\"family\":\"Arial\",\"size\":18,\"color\":\"rgb(92,90,90)\"},\"tickangle\":0},\"yaxis\":{\"dtick\":1,\"ticks\":\"\",\"ticksuffix\":\"  \",\"tickfont\":{\"family\":\"Arial\",\"size\":18,\"color\":\"rgb(92,90,90)\"}},\"template\":{\"data\":{\"bar\":[{\"error_x\":{\"color\":\"#2a3f5f\"},\"error_y\":{\"color\":\"#2a3f5f\"},\"marker\":{\"line\":{\"color\":\"#E5ECF6\",\"width\":0.5},\"pattern\":{\"fillmode\":\"overlay\",\"size\":10,\"solidity\":0.2}},\"type\":\"bar\"}],\"barpolar\":[{\"marker\":{\"line\":{\"color\":\"#E5ECF6\",\"width\":0.5},\"pattern\":{\"fillmode\":\"overlay\",\"size\":10,\"solidity\":0.2}},\"type\":\"barpolar\"}],\"carpet\":[{\"aaxis\":{\"endlinecolor\":\"#2a3f5f\",\"gridcolor\":\"white\",\"linecolor\":\"white\",\"minorgridcolor\":\"white\",\"startlinecolor\":\"#2a3f5f\"},\"baxis\":{\"endlinecolor\":\"#2a3f5f\",\"gridcolor\":\"white\",\"linecolor\":\"white\",\"minorgridcolor\":\"white\",\"startlinecolor\":\"#2a3f5f\"},\"type\":\"carpet\"}],\"choropleth\":[{\"colorbar\":{\"outlinewidth\":0,\"ticks\":\"\"},\"type\":\"choropleth\"}],\"contour\":[{\"colorbar\":{\"outlinewidth\":0,\"ticks\":\"\"},\"colorscale\":[[0.0,\"#0d0887\"],[0.1111111111111111,\"#46039f\"],[0.2222222222222222,\"#7201a8\"],[0.3333333333333333,\"#9c179e\"],[0.4444444444444444,\"#bd3786\"],[0.5555555555555556,\"#d8576b\"],[0.6666666666666666,\"#ed7953\"],[0.7777777777777778,\"#fb9f3a\"],[0.8888888888888888,\"#fdca26\"],[1.0,\"#f0f921\"]],\"type\":\"contour\"}],\"contourcarpet\":[{\"colorbar\":{\"outlinewidth\":0,\"ticks\":\"\"},\"type\":\"contourcarpet\"}],\"heatmap\":[{\"colorbar\":{\"outlinewidth\":0,\"ticks\":\"\"},\"colorscale\":[[0.0,\"#0d0887\"],[0.1111111111111111,\"#46039f\"],[0.2222222222222222,\"#7201a8\"],[0.3333333333333333,\"#9c179e\"],[0.4444444444444444,\"#bd3786\"],[0.5555555555555556,\"#d8576b\"],[0.6666666666666666,\"#ed7953\"],[0.7777777777777778,\"#fb9f3a\"],[0.8888888888888888,\"#fdca26\"],[1.0,\"#f0f921\"]],\"type\":\"heatmap\"}],\"heatmapgl\":[{\"colorbar\":{\"outlinewidth\":0,\"ticks\":\"\"},\"colorscale\":[[0.0,\"#0d0887\"],[0.1111111111111111,\"#46039f\"],[0.2222222222222222,\"#7201a8\"],[0.3333333333333333,\"#9c179e\"],[0.4444444444444444,\"#bd3786\"],[0.5555555555555556,\"#d8576b\"],[0.6666666666666666,\"#ed7953\"],[0.7777777777777778,\"#fb9f3a\"],[0.8888888888888888,\"#fdca26\"],[1.0,\"#f0f921\"]],\"type\":\"heatmapgl\"}],\"histogram\":[{\"marker\":{\"pattern\":{\"fillmode\":\"overlay\",\"size\":10,\"solidity\":0.2}},\"type\":\"histogram\"}],\"histogram2d\":[{\"colorbar\":{\"outlinewidth\":0,\"ticks\":\"\"},\"colorscale\":[[0.0,\"#0d0887\"],[0.1111111111111111,\"#46039f\"],[0.2222222222222222,\"#7201a8\"],[0.3333333333333333,\"#9c179e\"],[0.4444444444444444,\"#bd3786\"],[0.5555555555555556,\"#d8576b\"],[0.6666666666666666,\"#ed7953\"],[0.7777777777777778,\"#fb9f3a\"],[0.8888888888888888,\"#fdca26\"],[1.0,\"#f0f921\"]],\"type\":\"histogram2d\"}],\"histogram2dcontour\":[{\"colorbar\":{\"outlinewidth\":0,\"ticks\":\"\"},\"colorscale\":[[0.0,\"#0d0887\"],[0.1111111111111111,\"#46039f\"],[0.2222222222222222,\"#7201a8\"],[0.3333333333333333,\"#9c179e\"],[0.4444444444444444,\"#bd3786\"],[0.5555555555555556,\"#d8576b\"],[0.6666666666666666,\"#ed7953\"],[0.7777777777777778,\"#fb9f3a\"],[0.8888888888888888,\"#fdca26\"],[1.0,\"#f0f921\"]],\"type\":\"histogram2dcontour\"}],\"mesh3d\":[{\"colorbar\":{\"outlinewidth\":0,\"ticks\":\"\"},\"type\":\"mesh3d\"}],\"parcoords\":[{\"line\":{\"colorbar\":{\"outlinewidth\":0,\"ticks\":\"\"}},\"type\":\"parcoords\"}],\"pie\":[{\"automargin\":true,\"type\":\"pie\"}],\"scatter\":[{\"marker\":{\"colorbar\":{\"outlinewidth\":0,\"ticks\":\"\"}},\"type\":\"scatter\"}],\"scatter3d\":[{\"line\":{\"colorbar\":{\"outlinewidth\":0,\"ticks\":\"\"}},\"marker\":{\"colorbar\":{\"outlinewidth\":0,\"ticks\":\"\"}},\"type\":\"scatter3d\"}],\"scattercarpet\":[{\"marker\":{\"colorbar\":{\"outlinewidth\":0,\"ticks\":\"\"}},\"type\":\"scattercarpet\"}],\"scattergeo\":[{\"marker\":{\"colorbar\":{\"outlinewidth\":0,\"ticks\":\"\"}},\"type\":\"scattergeo\"}],\"scattergl\":[{\"marker\":{\"colorbar\":{\"outlinewidth\":0,\"ticks\":\"\"}},\"type\":\"scattergl\"}],\"scattermapbox\":[{\"marker\":{\"colorbar\":{\"outlinewidth\":0,\"ticks\":\"\"}},\"type\":\"scattermapbox\"}],\"scatterpolar\":[{\"marker\":{\"colorbar\":{\"outlinewidth\":0,\"ticks\":\"\"}},\"type\":\"scatterpolar\"}],\"scatterpolargl\":[{\"marker\":{\"colorbar\":{\"outlinewidth\":0,\"ticks\":\"\"}},\"type\":\"scatterpolargl\"}],\"scatterternary\":[{\"marker\":{\"colorbar\":{\"outlinewidth\":0,\"ticks\":\"\"}},\"type\":\"scatterternary\"}],\"surface\":[{\"colorbar\":{\"outlinewidth\":0,\"ticks\":\"\"},\"colorscale\":[[0.0,\"#0d0887\"],[0.1111111111111111,\"#46039f\"],[0.2222222222222222,\"#7201a8\"],[0.3333333333333333,\"#9c179e\"],[0.4444444444444444,\"#bd3786\"],[0.5555555555555556,\"#d8576b\"],[0.6666666666666666,\"#ed7953\"],[0.7777777777777778,\"#fb9f3a\"],[0.8888888888888888,\"#fdca26\"],[1.0,\"#f0f921\"]],\"type\":\"surface\"}],\"table\":[{\"cells\":{\"fill\":{\"color\":\"#EBF0F8\"},\"line\":{\"color\":\"white\"}},\"header\":{\"fill\":{\"color\":\"#C8D4E3\"},\"line\":{\"color\":\"white\"}},\"type\":\"table\"}]},\"layout\":{\"annotationdefaults\":{\"arrowcolor\":\"#2a3f5f\",\"arrowhead\":0,\"arrowwidth\":1},\"autotypenumbers\":\"strict\",\"coloraxis\":{\"colorbar\":{\"outlinewidth\":0,\"ticks\":\"\"}},\"colorscale\":{\"diverging\":[[0,\"#8e0152\"],[0.1,\"#c51b7d\"],[0.2,\"#de77ae\"],[0.3,\"#f1b6da\"],[0.4,\"#fde0ef\"],[0.5,\"#f7f7f7\"],[0.6,\"#e6f5d0\"],[0.7,\"#b8e186\"],[0.8,\"#7fbc41\"],[0.9,\"#4d9221\"],[1,\"#276419\"]],\"sequential\":[[0.0,\"#0d0887\"],[0.1111111111111111,\"#46039f\"],[0.2222222222222222,\"#7201a8\"],[0.3333333333333333,\"#9c179e\"],[0.4444444444444444,\"#bd3786\"],[0.5555555555555556,\"#d8576b\"],[0.6666666666666666,\"#ed7953\"],[0.7777777777777778,\"#fb9f3a\"],[0.8888888888888888,\"#fdca26\"],[1.0,\"#f0f921\"]],\"sequentialminus\":[[0.0,\"#0d0887\"],[0.1111111111111111,\"#46039f\"],[0.2222222222222222,\"#7201a8\"],[0.3333333333333333,\"#9c179e\"],[0.4444444444444444,\"#bd3786\"],[0.5555555555555556,\"#d8576b\"],[0.6666666666666666,\"#ed7953\"],[0.7777777777777778,\"#fb9f3a\"],[0.8888888888888888,\"#fdca26\"],[1.0,\"#f0f921\"]]},\"colorway\":[\"#636efa\",\"#EF553B\",\"#00cc96\",\"#ab63fa\",\"#FFA15A\",\"#19d3f3\",\"#FF6692\",\"#B6E880\",\"#FF97FF\",\"#FECB52\"],\"font\":{\"color\":\"#2a3f5f\"},\"geo\":{\"bgcolor\":\"white\",\"lakecolor\":\"white\",\"landcolor\":\"#E5ECF6\",\"showlakes\":true,\"showland\":true,\"subunitcolor\":\"white\"},\"hoverlabel\":{\"align\":\"left\"},\"hovermode\":\"closest\",\"mapbox\":{\"style\":\"light\"},\"paper_bgcolor\":\"white\",\"plot_bgcolor\":\"#E5ECF6\",\"polar\":{\"angularaxis\":{\"gridcolor\":\"white\",\"linecolor\":\"white\",\"ticks\":\"\"},\"bgcolor\":\"#E5ECF6\",\"radialaxis\":{\"gridcolor\":\"white\",\"linecolor\":\"white\",\"ticks\":\"\"}},\"scene\":{\"xaxis\":{\"backgroundcolor\":\"#E5ECF6\",\"gridcolor\":\"white\",\"gridwidth\":2,\"linecolor\":\"white\",\"showbackground\":true,\"ticks\":\"\",\"zerolinecolor\":\"white\"},\"yaxis\":{\"backgroundcolor\":\"#E5ECF6\",\"gridcolor\":\"white\",\"gridwidth\":2,\"linecolor\":\"white\",\"showbackground\":true,\"ticks\":\"\",\"zerolinecolor\":\"white\"},\"zaxis\":{\"backgroundcolor\":\"#E5ECF6\",\"gridcolor\":\"white\",\"gridwidth\":2,\"linecolor\":\"white\",\"showbackground\":true,\"ticks\":\"\",\"zerolinecolor\":\"white\"}},\"shapedefaults\":{\"line\":{\"color\":\"#2a3f5f\"}},\"ternary\":{\"aaxis\":{\"gridcolor\":\"white\",\"linecolor\":\"white\",\"ticks\":\"\"},\"baxis\":{\"gridcolor\":\"white\",\"linecolor\":\"white\",\"ticks\":\"\"},\"bgcolor\":\"#E5ECF6\",\"caxis\":{\"gridcolor\":\"white\",\"linecolor\":\"white\",\"ticks\":\"\"}},\"title\":{\"x\":0.05},\"xaxis\":{\"automargin\":true,\"gridcolor\":\"white\",\"linecolor\":\"white\",\"ticks\":\"\",\"title\":{\"standoff\":15},\"zerolinecolor\":\"white\",\"zerolinewidth\":2},\"yaxis\":{\"automargin\":true,\"gridcolor\":\"white\",\"linecolor\":\"white\",\"ticks\":\"\",\"title\":{\"standoff\":15},\"zerolinecolor\":\"white\",\"zerolinewidth\":2}}},\"font\":{\"size\":16},\"margin\":{\"b\":0,\"l\":30,\"pad\":0,\"r\":0,\"t\":0},\"paper_bgcolor\":\"rgba(0,0,0,0)\",\"plot_bgcolor\":\"rgba(0,0,0,0)\",\"autosize\":false,\"width\":900},                        {\"responsive\": true}                    ).then(function(){\n",
       "                            \n",
       "var gd = document.getElementById('e117f71b-b453-4a0d-905c-189b70d8db43');\n",
       "var x = new MutationObserver(function (mutations, observer) {{\n",
       "        var display = window.getComputedStyle(gd).display;\n",
       "        if (!display || display === 'none') {{\n",
       "            console.log([gd, 'removed!']);\n",
       "            Plotly.purge(gd);\n",
       "            observer.disconnect();\n",
       "        }}\n",
       "}});\n",
       "\n",
       "// Listen for the removal of the full notebook cells\n",
       "var notebookContainer = gd.closest('#notebook-container');\n",
       "if (notebookContainer) {{\n",
       "    x.observe(notebookContainer, {childList: true});\n",
       "}}\n",
       "\n",
       "// Listen for the clearing of the current output cell\n",
       "var outputEl = gd.closest('.output');\n",
       "if (outputEl) {{\n",
       "    x.observe(outputEl, {childList: true});\n",
       "}}\n",
       "\n",
       "                        })                };                });            </script>        </div>"
      ]
     },
     "metadata": {},
     "output_type": "display_data"
    }
   ],
   "source": [
    "%%time\n",
    "vh.plot_plotly_heatmap(\n",
    "    data_dict=data_dict,\n",
    "    annotation_text=data_dict[\"annotation_text\"],\n",
    "    margin_dict=dict(l=30, r=0, b=0, t=0, pad=0),\n",
    "    fig_width=900,\n",
    ")"
   ]
  },
  {
   "cell_type": "markdown",
   "id": "c52119e8",
   "metadata": {},
   "source": [
    "**4. Show descriptive statistics (min, mean, median and max) about the number of users followers, by topic**"
   ]
  },
  {
   "cell_type": "code",
   "execution_count": 160,
   "id": "0de21d5d",
   "metadata": {},
   "outputs": [
    {
     "name": "stdout",
     "output_type": "stream",
     "text": [
      "CPU times: user 8.82 ms, sys: 4.01 ms, total: 12.8 ms\n",
      "Wall time: 1.21 s\n"
     ]
    },
    {
     "data": {
      "text/html": [
       "<div>\n",
       "<style scoped>\n",
       "    .dataframe tbody tr th:only-of-type {\n",
       "        vertical-align: middle;\n",
       "    }\n",
       "\n",
       "    .dataframe tbody tr th {\n",
       "        vertical-align: top;\n",
       "    }\n",
       "\n",
       "    .dataframe thead th {\n",
       "        text-align: right;\n",
       "    }\n",
       "</style>\n",
       "<table border=\"1\" class=\"dataframe\">\n",
       "  <thead>\n",
       "    <tr style=\"text-align: right;\">\n",
       "      <th></th>\n",
       "      <th>dominant_topic_named</th>\n",
       "      <th>user_followers_min</th>\n",
       "      <th>user_followers_mean</th>\n",
       "      <th>50%</th>\n",
       "      <th>user_followers_max</th>\n",
       "    </tr>\n",
       "  </thead>\n",
       "  <tbody>\n",
       "    <tr>\n",
       "      <th>0</th>\n",
       "      <td>Activities related to Space Research</td>\n",
       "      <td>0</td>\n",
       "      <td>24786.266768</td>\n",
       "      <td>293.0</td>\n",
       "      <td>55791275</td>\n",
       "    </tr>\n",
       "    <tr>\n",
       "      <th>1</th>\n",
       "      <td>Astronomy</td>\n",
       "      <td>0</td>\n",
       "      <td>20448.375997</td>\n",
       "      <td>320.0</td>\n",
       "      <td>55776589</td>\n",
       "    </tr>\n",
       "    <tr>\n",
       "      <th>2</th>\n",
       "      <td>Astrology</td>\n",
       "      <td>0</td>\n",
       "      <td>9046.980068</td>\n",
       "      <td>288.0</td>\n",
       "      <td>50960953</td>\n",
       "    </tr>\n",
       "    <tr>\n",
       "      <th>3</th>\n",
       "      <td>Satellites and Telescopes</td>\n",
       "      <td>0</td>\n",
       "      <td>16608.428706</td>\n",
       "      <td>237.0</td>\n",
       "      <td>55780145</td>\n",
       "    </tr>\n",
       "  </tbody>\n",
       "</table>\n",
       "</div>"
      ],
      "text/plain": [
       "                   dominant_topic_named  user_followers_min  \\\n",
       "0  Activities related to Space Research                   0   \n",
       "1                             Astronomy                   0   \n",
       "2                             Astrology                   0   \n",
       "3             Satellites and Telescopes                   0   \n",
       "\n",
       "   user_followers_mean    50%  user_followers_max  \n",
       "0         24786.266768  293.0            55791275  \n",
       "1         20448.375997  320.0            55776589  \n",
       "2          9046.980068  288.0            50960953  \n",
       "3         16608.428706  237.0            55780145  "
      ]
     },
     "execution_count": 160,
     "metadata": {},
     "output_type": "execute_result"
    }
   ],
   "source": [
    "%%time\n",
    "# # Pandas\n",
    "# df_reloaded_pandas.groupby([\"dominant_topic_named\"], as_index=False)[\n",
    "#     \"user_followers\"\n",
    "# ].agg([\"min\", \"mean\", \"median\", \"max\"])\n",
    "\n",
    "# PySpark\n",
    "df_stats_by_topic_toPandas = df_reloaded_cached.groupby([\"dominant_topic_named\"]).agg(\n",
    "    F.min(F.col('user_followers')).alias('user_followers_min'),\n",
    "    F.avg(F.col('user_followers')).alias('user_followers_mean'),\n",
    "    # F.percentile_approx(\"user_followers\", 0.5).alias(\"user_followers_median\"),  # pyspark>=3.1.0\n",
    "    F.expr('percentile(user_followers, array(0.5))')[0].alias('50%'),  # pyspark==2.4.0\n",
    "    F.max(F.col('user_followers')).alias('user_followers_max'),\n",
    ").toPandas()\n",
    "df_stats_by_topic_toPandas"
   ]
  },
  {
   "cell_type": "markdown",
   "id": "90160b29",
   "metadata": {},
   "source": [
    "**Observations**\n",
    "1. Users who tweeted about Astrology have the fewest followers on average."
   ]
  },
  {
   "cell_type": "markdown",
   "id": "631bf84c",
   "metadata": {},
   "source": [
    "**5. Show a heatmap of the number of tweets by hour of the day and day of the week, for the most popular topic during every combination of hour and weekday on which Twitter data was streamed. Create a chart from this.**"
   ]
  },
  {
   "cell_type": "code",
   "execution_count": 301,
   "id": "640fb53f",
   "metadata": {},
   "outputs": [
    {
     "name": "stdout",
     "output_type": "stream",
     "text": [
      "CPU times: user 16.1 ms, sys: 1.45 ms, total: 17.5 ms\n",
      "Wall time: 4.3 s\n"
     ]
    },
    {
     "data": {
      "text/html": [
       "<div>\n",
       "<style scoped>\n",
       "    .dataframe tbody tr th:only-of-type {\n",
       "        vertical-align: middle;\n",
       "    }\n",
       "\n",
       "    .dataframe tbody tr th {\n",
       "        vertical-align: top;\n",
       "    }\n",
       "\n",
       "    .dataframe thead th {\n",
       "        text-align: right;\n",
       "    }\n",
       "</style>\n",
       "<table border=\"1\" class=\"dataframe\">\n",
       "  <thead>\n",
       "    <tr style=\"text-align: right;\">\n",
       "      <th></th>\n",
       "      <th>created_at_date</th>\n",
       "      <th>created_at_weekday</th>\n",
       "      <th>created_at_hour</th>\n",
       "      <th>dominant_topic_named</th>\n",
       "      <th>count</th>\n",
       "    </tr>\n",
       "  </thead>\n",
       "  <tbody>\n",
       "    <tr>\n",
       "      <th>0</th>\n",
       "      <td>2022-01-02</td>\n",
       "      <td>Sun</td>\n",
       "      <td>14</td>\n",
       "      <td>Satellites and Telescopes</td>\n",
       "      <td>349</td>\n",
       "    </tr>\n",
       "    <tr>\n",
       "      <th>1</th>\n",
       "      <td>2022-01-06</td>\n",
       "      <td>Thu</td>\n",
       "      <td>15</td>\n",
       "      <td>Activities related to Space Research</td>\n",
       "      <td>675</td>\n",
       "    </tr>\n",
       "    <tr>\n",
       "      <th>2</th>\n",
       "      <td>2022-01-06</td>\n",
       "      <td>Thu</td>\n",
       "      <td>18</td>\n",
       "      <td>Satellites and Telescopes</td>\n",
       "      <td>1623</td>\n",
       "    </tr>\n",
       "    <tr>\n",
       "      <th>3</th>\n",
       "      <td>2022-01-05</td>\n",
       "      <td>Wed</td>\n",
       "      <td>4</td>\n",
       "      <td>Satellites and Telescopes</td>\n",
       "      <td>709</td>\n",
       "    </tr>\n",
       "    <tr>\n",
       "      <th>4</th>\n",
       "      <td>2022-01-03</td>\n",
       "      <td>Mon</td>\n",
       "      <td>18</td>\n",
       "      <td>Satellites and Telescopes</td>\n",
       "      <td>390</td>\n",
       "    </tr>\n",
       "    <tr>\n",
       "      <th>...</th>\n",
       "      <td>...</td>\n",
       "      <td>...</td>\n",
       "      <td>...</td>\n",
       "      <td>...</td>\n",
       "      <td>...</td>\n",
       "    </tr>\n",
       "    <tr>\n",
       "      <th>148</th>\n",
       "      <td>2022-01-04</td>\n",
       "      <td>Tue</td>\n",
       "      <td>18</td>\n",
       "      <td>Satellites and Telescopes</td>\n",
       "      <td>588</td>\n",
       "    </tr>\n",
       "    <tr>\n",
       "      <th>149</th>\n",
       "      <td>2022-01-06</td>\n",
       "      <td>Thu</td>\n",
       "      <td>14</td>\n",
       "      <td>Activities related to Space Research</td>\n",
       "      <td>464</td>\n",
       "    </tr>\n",
       "    <tr>\n",
       "      <th>150</th>\n",
       "      <td>2022-01-03</td>\n",
       "      <td>Mon</td>\n",
       "      <td>19</td>\n",
       "      <td>Activities related to Space Research</td>\n",
       "      <td>373</td>\n",
       "    </tr>\n",
       "    <tr>\n",
       "      <th>151</th>\n",
       "      <td>2022-01-04</td>\n",
       "      <td>Tue</td>\n",
       "      <td>20</td>\n",
       "      <td>Astronomy</td>\n",
       "      <td>443</td>\n",
       "    </tr>\n",
       "    <tr>\n",
       "      <th>152</th>\n",
       "      <td>2022-01-05</td>\n",
       "      <td>Wed</td>\n",
       "      <td>23</td>\n",
       "      <td>Satellites and Telescopes</td>\n",
       "      <td>1161</td>\n",
       "    </tr>\n",
       "  </tbody>\n",
       "</table>\n",
       "<p>153 rows × 5 columns</p>\n",
       "</div>"
      ],
      "text/plain": [
       "    created_at_date created_at_weekday  created_at_hour  \\\n",
       "0        2022-01-02                Sun               14   \n",
       "1        2022-01-06                Thu               15   \n",
       "2        2022-01-06                Thu               18   \n",
       "3        2022-01-05                Wed                4   \n",
       "4        2022-01-03                Mon               18   \n",
       "..              ...                ...              ...   \n",
       "148      2022-01-04                Tue               18   \n",
       "149      2022-01-06                Thu               14   \n",
       "150      2022-01-03                Mon               19   \n",
       "151      2022-01-04                Tue               20   \n",
       "152      2022-01-05                Wed               23   \n",
       "\n",
       "                     dominant_topic_named  count  \n",
       "0               Satellites and Telescopes    349  \n",
       "1    Activities related to Space Research    675  \n",
       "2               Satellites and Telescopes   1623  \n",
       "3               Satellites and Telescopes    709  \n",
       "4               Satellites and Telescopes    390  \n",
       "..                                    ...    ...  \n",
       "148             Satellites and Telescopes    588  \n",
       "149  Activities related to Space Research    464  \n",
       "150  Activities related to Space Research    373  \n",
       "151                             Astronomy    443  \n",
       "152             Satellites and Telescopes   1161  \n",
       "\n",
       "[153 rows x 5 columns]"
      ]
     },
     "execution_count": 301,
     "metadata": {},
     "output_type": "execute_result"
    }
   ],
   "source": [
    "%%time\n",
    "# # Pandas\n",
    "# df_reloaded_pandas.groupby(\n",
    "#     [\"created_at_weekday\", \"created_at_hour\", \"dominant_topic_named\"], as_index=False\n",
    "# )[\"document\"].count().sort_values(\"document\", ascending=False).groupby(\n",
    "#     [\"created_at_weekday\", \"created_at_hour\"]\n",
    "# ).first().reset_index()\n",
    "\n",
    "# PySpark\n",
    "df_reloaded_cached_dt_agg = df_reloaded_cached.groupBy(\n",
    "    [\"created_at_date\", \"created_at_weekday\", \"created_at_hour\", \"dominant_topic_named\"]\n",
    ").count().orderBy([\"count\"], ascending=False)\n",
    "w = Window.partitionBy(\n",
    "    [\"created_at_date\", \"created_at_weekday\", \"created_at_hour\"]\n",
    ").orderBy(F.desc(\"count\"))\n",
    "df_most_tweeted_topics = df_reloaded_cached_dt_agg.withColumn(\n",
    "    \"row_number\", F.row_number().over(w)\n",
    ").where(\"row_number = 1\").drop(\"row_number\")\n",
    "df_most_tweeted_topics_toPandas = df_most_tweeted_topics.toPandas()\n",
    "df_most_tweeted_topics_toPandas"
   ]
  },
  {
   "cell_type": "markdown",
   "id": "3828bf90",
   "metadata": {},
   "source": [
    "Convert the `create_at_date` column to a string, which Altair can serialize to JSON"
   ]
  },
  {
   "cell_type": "code",
   "execution_count": 350,
   "id": "efc4ffb8",
   "metadata": {},
   "outputs": [],
   "source": [
    "df_most_tweeted_topics_toPandas[date_col_name] = pd.to_datetime(\n",
    "    df_most_tweeted_topics_toPandas[date_col_name]\n",
    ").dt.strftime(\"%Y-%m-%d\")"
   ]
  },
  {
   "cell_type": "markdown",
   "id": "91576c4f",
   "metadata": {},
   "source": [
    "Plot the heatmap"
   ]
  },
  {
   "cell_type": "code",
   "execution_count": 381,
   "id": "1885c63e",
   "metadata": {},
   "outputs": [
    {
     "data": {
      "text/html": [
       "\n",
       "<div id=\"altair-viz-7498448c5e7b4f73bcc186dbfcad007b\"></div>\n",
       "<script type=\"text/javascript\">\n",
       "  (function(spec, embedOpt){\n",
       "    let outputDiv = document.currentScript.previousElementSibling;\n",
       "    if (outputDiv.id !== \"altair-viz-7498448c5e7b4f73bcc186dbfcad007b\") {\n",
       "      outputDiv = document.getElementById(\"altair-viz-7498448c5e7b4f73bcc186dbfcad007b\");\n",
       "    }\n",
       "    const paths = {\n",
       "      \"vega\": \"https://cdn.jsdelivr.net/npm//vega@5?noext\",\n",
       "      \"vega-lib\": \"https://cdn.jsdelivr.net/npm//vega-lib?noext\",\n",
       "      \"vega-lite\": \"https://cdn.jsdelivr.net/npm//vega-lite@4.8.1?noext\",\n",
       "      \"vega-embed\": \"https://cdn.jsdelivr.net/npm//vega-embed@6?noext\",\n",
       "    };\n",
       "\n",
       "    function loadScript(lib) {\n",
       "      return new Promise(function(resolve, reject) {\n",
       "        var s = document.createElement('script');\n",
       "        s.src = paths[lib];\n",
       "        s.async = true;\n",
       "        s.onload = () => resolve(paths[lib]);\n",
       "        s.onerror = () => reject(`Error loading script: ${paths[lib]}`);\n",
       "        document.getElementsByTagName(\"head\")[0].appendChild(s);\n",
       "      });\n",
       "    }\n",
       "\n",
       "    function showError(err) {\n",
       "      outputDiv.innerHTML = `<div class=\"error\" style=\"color:red;\">${err}</div>`;\n",
       "      throw err;\n",
       "    }\n",
       "\n",
       "    function displayChart(vegaEmbed) {\n",
       "      vegaEmbed(outputDiv, spec, embedOpt)\n",
       "        .catch(err => showError(`Javascript Error: ${err.message}<br>This usually means there's a typo in your chart specification. See the javascript console for the full traceback.`));\n",
       "    }\n",
       "\n",
       "    if(typeof define === \"function\" && define.amd) {\n",
       "      requirejs.config({paths});\n",
       "      require([\"vega-embed\"], displayChart, err => showError(`Error loading script: ${err.message}`));\n",
       "    } else if (typeof vegaEmbed === \"function\") {\n",
       "      displayChart(vegaEmbed);\n",
       "    } else {\n",
       "      loadScript(\"vega\")\n",
       "        .then(() => loadScript(\"vega-lite\"))\n",
       "        .then(() => loadScript(\"vega-embed\"))\n",
       "        .catch(showError)\n",
       "        .then(() => displayChart(vegaEmbed));\n",
       "    }\n",
       "  })({\"config\": {\"view\": {\"continuousWidth\": 400, \"continuousHeight\": 300, \"strokeWidth\": 0}, \"axis\": {\"domain\": false, \"labelFontSize\": 14, \"titleFontSize\": 16}, \"legend\": {\"labelFontSize\": 14}, \"title\": {\"anchor\": \"middle\", \"fontSize\": 16}}, \"data\": {\"name\": \"data-a08f9e448a0ad157f302c1782a961664\"}, \"mark\": {\"type\": \"rect\", \"stroke\": \"white\", \"strokeWidth\": 1}, \"encoding\": {\"color\": {\"type\": \"quantitative\", \"aggregate\": \"mean\", \"field\": \"count\", \"legend\": {\"direction\": \"vertical\", \"legendX\": 250, \"orient\": \"none\", \"title\": \"Average Number of Tweets\", \"titleAnchor\": \"start\"}, \"scale\": {\"scheme\": \"yelloworangered\", \"type\": \"log\"}}, \"tooltip\": [{\"type\": \"ordinal\", \"field\": \"created_at_hour\", \"title\": \"Hour\"}, {\"type\": \"nominal\", \"field\": \"created_at_weekday\", \"title\": \"Weekday\"}, {\"type\": \"nominal\", \"field\": \"created_at_date\", \"title\": \"Date\"}, {\"type\": \"nominal\", \"field\": \"dominant_topic_named\", \"title\": \"Topic\"}, {\"type\": \"quantitative\", \"aggregate\": \"mean\", \"field\": \"count\", \"format\": \",\", \"title\": \"Avg. Number of Tweets\"}], \"x\": {\"type\": \"ordinal\", \"axis\": {\"labelAngle\": 0, \"labels\": true, \"orient\": \"top\", \"ticks\": false}, \"field\": \"created_at_weekday\", \"sort\": [\"Mon\", \"Tue\", \"Wed\", \"Thu\", \"Fri\", \"Sat\", \"Sun\"], \"title\": null}, \"y\": {\"type\": \"nominal\", \"axis\": {\"labels\": true, \"ticks\": false}, \"field\": \"created_at_hour\", \"sort\": [0, 1, 2, 3, 4, 5, 6, 7, 8, 9, 10, 11, 12, 13, 14, 15, 16, 17, 18, 19, 20, 21, 22, 23], \"title\": null}}, \"height\": 750, \"title\": \"Tweets During the Day\", \"width\": 240, \"$schema\": \"https://vega.github.io/schema/vega-lite/v4.8.1.json\", \"datasets\": {\"data-a08f9e448a0ad157f302c1782a961664\": [{\"created_at_date\": \"2022-01-02\", \"created_at_weekday\": \"Sun\", \"created_at_hour\": 14, \"dominant_topic_named\": \"Satellites and Telescopes\", \"count\": 349}, {\"created_at_date\": \"2022-01-06\", \"created_at_weekday\": \"Thu\", \"created_at_hour\": 15, \"dominant_topic_named\": \"Activities related to Space Research\", \"count\": 675}, {\"created_at_date\": \"2022-01-06\", \"created_at_weekday\": \"Thu\", \"created_at_hour\": 18, \"dominant_topic_named\": \"Satellites and Telescopes\", \"count\": 1623}, {\"created_at_date\": \"2022-01-05\", \"created_at_weekday\": \"Wed\", \"created_at_hour\": 4, \"dominant_topic_named\": \"Satellites and Telescopes\", \"count\": 709}, {\"created_at_date\": \"2022-01-03\", \"created_at_weekday\": \"Mon\", \"created_at_hour\": 18, \"dominant_topic_named\": \"Satellites and Telescopes\", \"count\": 390}, {\"created_at_date\": \"2022-01-03\", \"created_at_weekday\": \"Mon\", \"created_at_hour\": 20, \"dominant_topic_named\": \"Activities related to Space Research\", \"count\": 437}, {\"created_at_date\": \"2022-01-06\", \"created_at_weekday\": \"Thu\", \"created_at_hour\": 13, \"dominant_topic_named\": \"Satellites and Telescopes\", \"count\": 478}, {\"created_at_date\": \"2022-01-06\", \"created_at_weekday\": \"Thu\", \"created_at_hour\": 11, \"dominant_topic_named\": \"Astronomy\", \"count\": 491}, {\"created_at_date\": \"2022-01-06\", \"created_at_weekday\": \"Thu\", \"created_at_hour\": 12, \"dominant_topic_named\": \"Astronomy\", \"count\": 505}, {\"created_at_date\": \"2022-01-03\", \"created_at_weekday\": \"Mon\", \"created_at_hour\": 7, \"dominant_topic_named\": \"Astronomy\", \"count\": 212}, {\"created_at_date\": \"2022-01-02\", \"created_at_weekday\": \"Sun\", \"created_at_hour\": 7, \"dominant_topic_named\": \"Activities related to Space Research\", \"count\": 259}, {\"created_at_date\": \"2022-01-02\", \"created_at_weekday\": \"Sun\", \"created_at_hour\": 2, \"dominant_topic_named\": \"Astrology\", \"count\": 312}, {\"created_at_date\": \"2022-01-02\", \"created_at_weekday\": \"Sun\", \"created_at_hour\": 18, \"dominant_topic_named\": \"Astrology\", \"count\": 448}, {\"created_at_date\": \"2022-01-05\", \"created_at_weekday\": \"Wed\", \"created_at_hour\": 14, \"dominant_topic_named\": \"Satellites and Telescopes\", \"count\": 762}, {\"created_at_date\": \"2022-01-01\", \"created_at_weekday\": \"Sat\", \"created_at_hour\": 18, \"dominant_topic_named\": \"Satellites and Telescopes\", \"count\": 748}, {\"created_at_date\": \"2022-01-06\", \"created_at_weekday\": \"Thu\", \"created_at_hour\": 3, \"dominant_topic_named\": \"Satellites and Telescopes\", \"count\": 528}, {\"created_at_date\": \"2022-01-01\", \"created_at_weekday\": \"Sat\", \"created_at_hour\": 22, \"dominant_topic_named\": \"Satellites and Telescopes\", \"count\": 432}, {\"created_at_date\": \"2022-01-04\", \"created_at_weekday\": \"Tue\", \"created_at_hour\": 19, \"dominant_topic_named\": \"Activities related to Space Research\", \"count\": 457}, {\"created_at_date\": \"2022-01-06\", \"created_at_weekday\": \"Thu\", \"created_at_hour\": 4, \"dominant_topic_named\": \"Satellites and Telescopes\", \"count\": 435}, {\"created_at_date\": \"2022-01-06\", \"created_at_weekday\": \"Thu\", \"created_at_hour\": 20, \"dominant_topic_named\": \"Satellites and Telescopes\", \"count\": 1013}, {\"created_at_date\": \"2022-01-05\", \"created_at_weekday\": \"Wed\", \"created_at_hour\": 20, \"dominant_topic_named\": \"Satellites and Telescopes\", \"count\": 684}, {\"created_at_date\": \"2022-01-04\", \"created_at_weekday\": \"Tue\", \"created_at_hour\": 16, \"dominant_topic_named\": \"Astronomy\", \"count\": 652}, {\"created_at_date\": \"2022-01-04\", \"created_at_weekday\": \"Tue\", \"created_at_hour\": 23, \"dominant_topic_named\": \"Satellites and Telescopes\", \"count\": 598}, {\"created_at_date\": \"2022-01-06\", \"created_at_weekday\": \"Thu\", \"created_at_hour\": 22, \"dominant_topic_named\": \"Satellites and Telescopes\", \"count\": 1493}, {\"created_at_date\": \"2022-01-03\", \"created_at_weekday\": \"Mon\", \"created_at_hour\": 15, \"dominant_topic_named\": \"Astronomy\", \"count\": 723}, {\"created_at_date\": \"2021-12-31\", \"created_at_weekday\": \"Fri\", \"created_at_hour\": 19, \"dominant_topic_named\": \"Astronomy\", \"count\": 385}, {\"created_at_date\": \"2021-12-31\", \"created_at_weekday\": \"Fri\", \"created_at_hour\": 23, \"dominant_topic_named\": \"Astronomy\", \"count\": 775}, {\"created_at_date\": \"2022-01-02\", \"created_at_weekday\": \"Sun\", \"created_at_hour\": 5, \"dominant_topic_named\": \"Astronomy\", \"count\": 364}, {\"created_at_date\": \"2022-01-04\", \"created_at_weekday\": \"Tue\", \"created_at_hour\": 11, \"dominant_topic_named\": \"Activities related to Space Research\", \"count\": 335}, {\"created_at_date\": \"2022-01-04\", \"created_at_weekday\": \"Tue\", \"created_at_hour\": 1, \"dominant_topic_named\": \"Satellites and Telescopes\", \"count\": 576}, {\"created_at_date\": \"2022-01-04\", \"created_at_weekday\": \"Tue\", \"created_at_hour\": 9, \"dominant_topic_named\": \"Activities related to Space Research\", \"count\": 234}, {\"created_at_date\": \"2022-01-06\", \"created_at_weekday\": \"Thu\", \"created_at_hour\": 10, \"dominant_topic_named\": \"Satellites and Telescopes\", \"count\": 376}, {\"created_at_date\": \"2022-01-05\", \"created_at_weekday\": \"Wed\", \"created_at_hour\": 6, \"dominant_topic_named\": \"Satellites and Telescopes\", \"count\": 671}, {\"created_at_date\": \"2022-01-02\", \"created_at_weekday\": \"Sun\", \"created_at_hour\": 11, \"dominant_topic_named\": \"Activities related to Space Research\", \"count\": 309}, {\"created_at_date\": \"2022-01-04\", \"created_at_weekday\": \"Tue\", \"created_at_hour\": 22, \"dominant_topic_named\": \"Astronomy\", \"count\": 495}, {\"created_at_date\": \"2022-01-05\", \"created_at_weekday\": \"Wed\", \"created_at_hour\": 2, \"dominant_topic_named\": \"Satellites and Telescopes\", \"count\": 1180}, {\"created_at_date\": \"2022-01-05\", \"created_at_weekday\": \"Wed\", \"created_at_hour\": 12, \"dominant_topic_named\": \"Satellites and Telescopes\", \"count\": 748}, {\"created_at_date\": \"2021-12-31\", \"created_at_weekday\": \"Fri\", \"created_at_hour\": 18, \"dominant_topic_named\": \"Activities related to Space Research\", \"count\": 311}, {\"created_at_date\": \"2022-01-05\", \"created_at_weekday\": \"Wed\", \"created_at_hour\": 19, \"dominant_topic_named\": \"Satellites and Telescopes\", \"count\": 709}, {\"created_at_date\": \"2022-01-03\", \"created_at_weekday\": \"Mon\", \"created_at_hour\": 14, \"dominant_topic_named\": \"Astrology\", \"count\": 369}, {\"created_at_date\": \"2022-01-05\", \"created_at_weekday\": \"Wed\", \"created_at_hour\": 3, \"dominant_topic_named\": \"Satellites and Telescopes\", \"count\": 1394}, {\"created_at_date\": \"2021-12-31\", \"created_at_weekday\": \"Fri\", \"created_at_hour\": 20, \"dominant_topic_named\": \"Astronomy\", \"count\": 716}, {\"created_at_date\": \"2022-01-03\", \"created_at_weekday\": \"Mon\", \"created_at_hour\": 21, \"dominant_topic_named\": \"Activities related to Space Research\", \"count\": 395}, {\"created_at_date\": \"2022-01-05\", \"created_at_weekday\": \"Wed\", \"created_at_hour\": 9, \"dominant_topic_named\": \"Satellites and Telescopes\", \"count\": 446}, {\"created_at_date\": \"2022-01-02\", \"created_at_weekday\": \"Sun\", \"created_at_hour\": 1, \"dominant_topic_named\": \"Astrology\", \"count\": 386}, {\"created_at_date\": \"2022-01-04\", \"created_at_weekday\": \"Tue\", \"created_at_hour\": 14, \"dominant_topic_named\": \"Satellites and Telescopes\", \"count\": 969}, {\"created_at_date\": \"2022-01-06\", \"created_at_weekday\": \"Thu\", \"created_at_hour\": 6, \"dominant_topic_named\": \"Satellites and Telescopes\", \"count\": 373}, {\"created_at_date\": \"2022-01-02\", \"created_at_weekday\": \"Sun\", \"created_at_hour\": 20, \"dominant_topic_named\": \"Astrology\", \"count\": 395}, {\"created_at_date\": \"2022-01-02\", \"created_at_weekday\": \"Sun\", \"created_at_hour\": 22, \"dominant_topic_named\": \"Activities related to Space Research\", \"count\": 302}, {\"created_at_date\": \"2022-01-04\", \"created_at_weekday\": \"Tue\", \"created_at_hour\": 17, \"dominant_topic_named\": \"Satellites and Telescopes\", \"count\": 826}, {\"created_at_date\": \"2022-01-02\", \"created_at_weekday\": \"Sun\", \"created_at_hour\": 21, \"dominant_topic_named\": \"Activities related to Space Research\", \"count\": 373}, {\"created_at_date\": \"2021-12-30\", \"created_at_weekday\": \"Thu\", \"created_at_hour\": 17, \"dominant_topic_named\": \"Satellites and Telescopes\", \"count\": 254}, {\"created_at_date\": \"2022-01-04\", \"created_at_weekday\": \"Tue\", \"created_at_hour\": 15, \"dominant_topic_named\": \"Satellites and Telescopes\", \"count\": 730}, {\"created_at_date\": \"2022-01-06\", \"created_at_weekday\": \"Thu\", \"created_at_hour\": 7, \"dominant_topic_named\": \"Satellites and Telescopes\", \"count\": 432}, {\"created_at_date\": \"2022-01-06\", \"created_at_weekday\": \"Thu\", \"created_at_hour\": 16, \"dominant_topic_named\": \"Satellites and Telescopes\", \"count\": 876}, {\"created_at_date\": \"2022-01-06\", \"created_at_weekday\": \"Thu\", \"created_at_hour\": 2, \"dominant_topic_named\": \"Satellites and Telescopes\", \"count\": 1410}, {\"created_at_date\": \"2022-01-01\", \"created_at_weekday\": \"Sat\", \"created_at_hour\": 20, \"dominant_topic_named\": \"Astronomy\", \"count\": 487}, {\"created_at_date\": \"2022-01-06\", \"created_at_weekday\": \"Thu\", \"created_at_hour\": 21, \"dominant_topic_named\": \"Satellites and Telescopes\", \"count\": 1131}, {\"created_at_date\": \"2022-01-02\", \"created_at_weekday\": \"Sun\", \"created_at_hour\": 6, \"dominant_topic_named\": \"Activities related to Space Research\", \"count\": 267}, {\"created_at_date\": \"2022-01-04\", \"created_at_weekday\": \"Tue\", \"created_at_hour\": 6, \"dominant_topic_named\": \"Satellites and Telescopes\", \"count\": 295}, {\"created_at_date\": \"2022-01-06\", \"created_at_weekday\": \"Thu\", \"created_at_hour\": 8, \"dominant_topic_named\": \"Satellites and Telescopes\", \"count\": 396}, {\"created_at_date\": \"2022-01-04\", \"created_at_weekday\": \"Tue\", \"created_at_hour\": 8, \"dominant_topic_named\": \"Astrology\", \"count\": 252}, {\"created_at_date\": \"2022-01-06\", \"created_at_weekday\": \"Thu\", \"created_at_hour\": 1, \"dominant_topic_named\": \"Satellites and Telescopes\", \"count\": 824}, {\"created_at_date\": \"2022-01-01\", \"created_at_weekday\": \"Sat\", \"created_at_hour\": 7, \"dominant_topic_named\": \"Astronomy\", \"count\": 537}, {\"created_at_date\": \"2022-01-02\", \"created_at_weekday\": \"Sun\", \"created_at_hour\": 0, \"dominant_topic_named\": \"Astrology\", \"count\": 393}, {\"created_at_date\": \"2022-01-04\", \"created_at_weekday\": \"Tue\", \"created_at_hour\": 7, \"dominant_topic_named\": \"Satellites and Telescopes\", \"count\": 265}, {\"created_at_date\": \"2022-01-07\", \"created_at_weekday\": \"Fri\", \"created_at_hour\": 1, \"dominant_topic_named\": \"Satellites and Telescopes\", \"count\": 235}, {\"created_at_date\": \"2022-01-06\", \"created_at_weekday\": \"Thu\", \"created_at_hour\": 0, \"dominant_topic_named\": \"Satellites and Telescopes\", \"count\": 817}, {\"created_at_date\": \"2022-01-06\", \"created_at_weekday\": \"Thu\", \"created_at_hour\": 9, \"dominant_topic_named\": \"Satellites and Telescopes\", \"count\": 432}, {\"created_at_date\": \"2022-01-03\", \"created_at_weekday\": \"Mon\", \"created_at_hour\": 9, \"dominant_topic_named\": \"Astronomy\", \"count\": 199}, {\"created_at_date\": \"2022-01-01\", \"created_at_weekday\": \"Sat\", \"created_at_hour\": 9, \"dominant_topic_named\": \"Astronomy\", \"count\": 441}, {\"created_at_date\": \"2022-01-01\", \"created_at_weekday\": \"Sat\", \"created_at_hour\": 12, \"dominant_topic_named\": \"Astronomy\", \"count\": 414}, {\"created_at_date\": \"2022-01-05\", \"created_at_weekday\": \"Wed\", \"created_at_hour\": 10, \"dominant_topic_named\": \"Satellites and Telescopes\", \"count\": 660}, {\"created_at_date\": \"2022-01-05\", \"created_at_weekday\": \"Wed\", \"created_at_hour\": 21, \"dominant_topic_named\": \"Satellites and Telescopes\", \"count\": 1742}, {\"created_at_date\": \"2022-01-05\", \"created_at_weekday\": \"Wed\", \"created_at_hour\": 7, \"dominant_topic_named\": \"Satellites and Telescopes\", \"count\": 550}, {\"created_at_date\": \"2022-01-06\", \"created_at_weekday\": \"Thu\", \"created_at_hour\": 19, \"dominant_topic_named\": \"Satellites and Telescopes\", \"count\": 1368}, {\"created_at_date\": \"2022-01-06\", \"created_at_weekday\": \"Thu\", \"created_at_hour\": 23, \"dominant_topic_named\": \"Satellites and Telescopes\", \"count\": 1234}, {\"created_at_date\": \"2022-01-01\", \"created_at_weekday\": \"Sat\", \"created_at_hour\": 4, \"dominant_topic_named\": \"Satellites and Telescopes\", \"count\": 872}, {\"created_at_date\": \"2022-01-04\", \"created_at_weekday\": \"Tue\", \"created_at_hour\": 0, \"dominant_topic_named\": \"Satellites and Telescopes\", \"count\": 569}, {\"created_at_date\": \"2022-01-01\", \"created_at_weekday\": \"Sat\", \"created_at_hour\": 2, \"dominant_topic_named\": \"Astronomy\", \"count\": 760}, {\"created_at_date\": \"2022-01-01\", \"created_at_weekday\": \"Sat\", \"created_at_hour\": 16, \"dominant_topic_named\": \"Astronomy\", \"count\": 609}, {\"created_at_date\": \"2022-01-02\", \"created_at_weekday\": \"Sun\", \"created_at_hour\": 12, \"dominant_topic_named\": \"Astronomy\", \"count\": 289}, {\"created_at_date\": \"2022-01-06\", \"created_at_weekday\": \"Thu\", \"created_at_hour\": 17, \"dominant_topic_named\": \"Satellites and Telescopes\", \"count\": 2364}, {\"created_at_date\": \"2022-01-02\", \"created_at_weekday\": \"Sun\", \"created_at_hour\": 13, \"dominant_topic_named\": \"Satellites and Telescopes\", \"count\": 355}, {\"created_at_date\": \"2022-01-03\", \"created_at_weekday\": \"Mon\", \"created_at_hour\": 8, \"dominant_topic_named\": \"Astronomy\", \"count\": 235}, {\"created_at_date\": \"2022-01-01\", \"created_at_weekday\": \"Sat\", \"created_at_hour\": 21, \"dominant_topic_named\": \"Astronomy\", \"count\": 437}, {\"created_at_date\": \"2022-01-03\", \"created_at_weekday\": \"Mon\", \"created_at_hour\": 6, \"dominant_topic_named\": \"Astrology\", \"count\": 217}, {\"created_at_date\": \"2022-01-01\", \"created_at_weekday\": \"Sat\", \"created_at_hour\": 0, \"dominant_topic_named\": \"Astrology\", \"count\": 1325}, {\"created_at_date\": \"2022-01-05\", \"created_at_weekday\": \"Wed\", \"created_at_hour\": 0, \"dominant_topic_named\": \"Satellites and Telescopes\", \"count\": 507}, {\"created_at_date\": \"2022-01-06\", \"created_at_weekday\": \"Thu\", \"created_at_hour\": 5, \"dominant_topic_named\": \"Satellites and Telescopes\", \"count\": 505}, {\"created_at_date\": \"2022-01-01\", \"created_at_weekday\": \"Sat\", \"created_at_hour\": 6, \"dominant_topic_named\": \"Astronomy\", \"count\": 559}, {\"created_at_date\": \"2022-01-03\", \"created_at_weekday\": \"Mon\", \"created_at_hour\": 11, \"dominant_topic_named\": \"Astronomy\", \"count\": 281}, {\"created_at_date\": \"2022-01-02\", \"created_at_weekday\": \"Sun\", \"created_at_hour\": 8, \"dominant_topic_named\": \"Astronomy\", \"count\": 297}, {\"created_at_date\": \"2021-12-31\", \"created_at_weekday\": \"Fri\", \"created_at_hour\": 21, \"dominant_topic_named\": \"Astronomy\", \"count\": 543}, {\"created_at_date\": \"2022-01-05\", \"created_at_weekday\": \"Wed\", \"created_at_hour\": 1, \"dominant_topic_named\": \"Satellites and Telescopes\", \"count\": 503}, {\"created_at_date\": \"2022-01-03\", \"created_at_weekday\": \"Mon\", \"created_at_hour\": 17, \"dominant_topic_named\": \"Astronomy\", \"count\": 436}, {\"created_at_date\": \"2022-01-01\", \"created_at_weekday\": \"Sat\", \"created_at_hour\": 5, \"dominant_topic_named\": \"Astronomy\", \"count\": 566}, {\"created_at_date\": \"2022-01-02\", \"created_at_weekday\": \"Sun\", \"created_at_hour\": 19, \"dominant_topic_named\": \"Astrology\", \"count\": 434}, {\"created_at_date\": \"2022-01-04\", \"created_at_weekday\": \"Tue\", \"created_at_hour\": 10, \"dominant_topic_named\": \"Activities related to Space Research\", \"count\": 258}, {\"created_at_date\": \"2022-01-01\", \"created_at_weekday\": \"Sat\", \"created_at_hour\": 14, \"dominant_topic_named\": \"Astronomy\", \"count\": 561}, {\"created_at_date\": \"2022-01-02\", \"created_at_weekday\": \"Sun\", \"created_at_hour\": 9, \"dominant_topic_named\": \"Astronomy\", \"count\": 281}, {\"created_at_date\": \"2022-01-02\", \"created_at_weekday\": \"Sun\", \"created_at_hour\": 4, \"dominant_topic_named\": \"Astronomy\", \"count\": 378}, {\"created_at_date\": \"2022-01-02\", \"created_at_weekday\": \"Sun\", \"created_at_hour\": 17, \"dominant_topic_named\": \"Astrology\", \"count\": 447}, {\"created_at_date\": \"2022-01-04\", \"created_at_weekday\": \"Tue\", \"created_at_hour\": 13, \"dominant_topic_named\": \"Astronomy\", \"count\": 391}, {\"created_at_date\": \"2022-01-01\", \"created_at_weekday\": \"Sat\", \"created_at_hour\": 23, \"dominant_topic_named\": \"Astrology\", \"count\": 586}, {\"created_at_date\": \"2022-01-03\", \"created_at_weekday\": \"Mon\", \"created_at_hour\": 22, \"dominant_topic_named\": \"Satellites and Telescopes\", \"count\": 791}, {\"created_at_date\": \"2022-01-01\", \"created_at_weekday\": \"Sat\", \"created_at_hour\": 17, \"dominant_topic_named\": \"Satellites and Telescopes\", \"count\": 734}, {\"created_at_date\": \"2022-01-01\", \"created_at_weekday\": \"Sat\", \"created_at_hour\": 13, \"dominant_topic_named\": \"Astronomy\", \"count\": 618}, {\"created_at_date\": \"2022-01-01\", \"created_at_weekday\": \"Sat\", \"created_at_hour\": 10, \"dominant_topic_named\": \"Astronomy\", \"count\": 417}, {\"created_at_date\": \"2022-01-05\", \"created_at_weekday\": \"Wed\", \"created_at_hour\": 8, \"dominant_topic_named\": \"Satellites and Telescopes\", \"count\": 524}, {\"created_at_date\": \"2022-01-02\", \"created_at_weekday\": \"Sun\", \"created_at_hour\": 16, \"dominant_topic_named\": \"Astrology\", \"count\": 434}, {\"created_at_date\": \"2022-01-02\", \"created_at_weekday\": \"Sun\", \"created_at_hour\": 3, \"dominant_topic_named\": \"Astronomy\", \"count\": 307}, {\"created_at_date\": \"2022-01-02\", \"created_at_weekday\": \"Sun\", \"created_at_hour\": 10, \"dominant_topic_named\": \"Astronomy\", \"count\": 368}, {\"created_at_date\": \"2022-01-04\", \"created_at_weekday\": \"Tue\", \"created_at_hour\": 2, \"dominant_topic_named\": \"Activities related to Space Research\", \"count\": 481}, {\"created_at_date\": \"2022-01-05\", \"created_at_weekday\": \"Wed\", \"created_at_hour\": 16, \"dominant_topic_named\": \"Satellites and Telescopes\", \"count\": 1919}, {\"created_at_date\": \"2022-01-01\", \"created_at_weekday\": \"Sat\", \"created_at_hour\": 3, \"dominant_topic_named\": \"Astronomy\", \"count\": 711}, {\"created_at_date\": \"2022-01-03\", \"created_at_weekday\": \"Mon\", \"created_at_hour\": 10, \"dominant_topic_named\": \"Astronomy\", \"count\": 267}, {\"created_at_date\": \"2022-01-04\", \"created_at_weekday\": \"Tue\", \"created_at_hour\": 5, \"dominant_topic_named\": \"Satellites and Telescopes\", \"count\": 340}, {\"created_at_date\": \"2022-01-05\", \"created_at_weekday\": \"Wed\", \"created_at_hour\": 18, \"dominant_topic_named\": \"Satellites and Telescopes\", \"count\": 946}, {\"created_at_date\": \"2022-01-03\", \"created_at_weekday\": \"Mon\", \"created_at_hour\": 1, \"dominant_topic_named\": \"Astrology\", \"count\": 251}, {\"created_at_date\": \"2022-01-05\", \"created_at_weekday\": \"Wed\", \"created_at_hour\": 11, \"dominant_topic_named\": \"Satellites and Telescopes\", \"count\": 681}, {\"created_at_date\": \"2022-01-01\", \"created_at_weekday\": \"Sat\", \"created_at_hour\": 11, \"dominant_topic_named\": \"Astronomy\", \"count\": 420}, {\"created_at_date\": \"2022-01-02\", \"created_at_weekday\": \"Sun\", \"created_at_hour\": 23, \"dominant_topic_named\": \"Astrology\", \"count\": 282}, {\"created_at_date\": \"2022-01-03\", \"created_at_weekday\": \"Mon\", \"created_at_hour\": 0, \"dominant_topic_named\": \"Astrology\", \"count\": 302}, {\"created_at_date\": \"2022-01-05\", \"created_at_weekday\": \"Wed\", \"created_at_hour\": 5, \"dominant_topic_named\": \"Satellites and Telescopes\", \"count\": 795}, {\"created_at_date\": \"2022-01-05\", \"created_at_weekday\": \"Wed\", \"created_at_hour\": 13, \"dominant_topic_named\": \"Satellites and Telescopes\", \"count\": 897}, {\"created_at_date\": \"2022-01-05\", \"created_at_weekday\": \"Wed\", \"created_at_hour\": 22, \"dominant_topic_named\": \"Satellites and Telescopes\", \"count\": 1251}, {\"created_at_date\": \"2022-01-04\", \"created_at_weekday\": \"Tue\", \"created_at_hour\": 12, \"dominant_topic_named\": \"Activities related to Space Research\", \"count\": 389}, {\"created_at_date\": \"2022-01-03\", \"created_at_weekday\": \"Mon\", \"created_at_hour\": 23, \"dominant_topic_named\": \"Satellites and Telescopes\", \"count\": 449}, {\"created_at_date\": \"2022-01-01\", \"created_at_weekday\": \"Sat\", \"created_at_hour\": 1, \"dominant_topic_named\": \"Astrology\", \"count\": 802}, {\"created_at_date\": \"2021-12-31\", \"created_at_weekday\": \"Fri\", \"created_at_hour\": 22, \"dominant_topic_named\": \"Astronomy\", \"count\": 646}, {\"created_at_date\": \"2022-01-02\", \"created_at_weekday\": \"Sun\", \"created_at_hour\": 15, \"dominant_topic_named\": \"Activities related to Space Research\", \"count\": 452}, {\"created_at_date\": \"2022-01-03\", \"created_at_weekday\": \"Mon\", \"created_at_hour\": 4, \"dominant_topic_named\": \"Astronomy\", \"count\": 321}, {\"created_at_date\": \"2022-01-05\", \"created_at_weekday\": \"Wed\", \"created_at_hour\": 17, \"dominant_topic_named\": \"Satellites and Telescopes\", \"count\": 1732}, {\"created_at_date\": \"2022-01-04\", \"created_at_weekday\": \"Tue\", \"created_at_hour\": 3, \"dominant_topic_named\": \"Activities related to Space Research\", \"count\": 426}, {\"created_at_date\": \"2022-01-01\", \"created_at_weekday\": \"Sat\", \"created_at_hour\": 19, \"dominant_topic_named\": \"Satellites and Telescopes\", \"count\": 563}, {\"created_at_date\": \"2022-01-03\", \"created_at_weekday\": \"Mon\", \"created_at_hour\": 12, \"dominant_topic_named\": \"Astronomy\", \"count\": 282}, {\"created_at_date\": \"2022-01-01\", \"created_at_weekday\": \"Sat\", \"created_at_hour\": 15, \"dominant_topic_named\": \"Astronomy\", \"count\": 658}, {\"created_at_date\": \"2022-01-01\", \"created_at_weekday\": \"Sat\", \"created_at_hour\": 8, \"dominant_topic_named\": \"Astronomy\", \"count\": 454}, {\"created_at_date\": \"2022-01-03\", \"created_at_weekday\": \"Mon\", \"created_at_hour\": 13, \"dominant_topic_named\": \"Activities related to Space Research\", \"count\": 358}, {\"created_at_date\": \"2022-01-03\", \"created_at_weekday\": \"Mon\", \"created_at_hour\": 5, \"dominant_topic_named\": \"Astronomy\", \"count\": 272}, {\"created_at_date\": \"2022-01-04\", \"created_at_weekday\": \"Tue\", \"created_at_hour\": 4, \"dominant_topic_named\": \"Satellites and Telescopes\", \"count\": 315}, {\"created_at_date\": \"2022-01-04\", \"created_at_weekday\": \"Tue\", \"created_at_hour\": 21, \"dominant_topic_named\": \"Satellites and Telescopes\", \"count\": 616}, {\"created_at_date\": \"2022-01-03\", \"created_at_weekday\": \"Mon\", \"created_at_hour\": 3, \"dominant_topic_named\": \"Astronomy\", \"count\": 288}, {\"created_at_date\": \"2022-01-03\", \"created_at_weekday\": \"Mon\", \"created_at_hour\": 16, \"dominant_topic_named\": \"Astronomy\", \"count\": 521}, {\"created_at_date\": \"2022-01-03\", \"created_at_weekday\": \"Mon\", \"created_at_hour\": 2, \"dominant_topic_named\": \"Astrology\", \"count\": 267}, {\"created_at_date\": \"2022-01-05\", \"created_at_weekday\": \"Wed\", \"created_at_hour\": 15, \"dominant_topic_named\": \"Satellites and Telescopes\", \"count\": 715}, {\"created_at_date\": \"2022-01-07\", \"created_at_weekday\": \"Fri\", \"created_at_hour\": 0, \"dominant_topic_named\": \"Satellites and Telescopes\", \"count\": 1351}, {\"created_at_date\": \"2022-01-04\", \"created_at_weekday\": \"Tue\", \"created_at_hour\": 18, \"dominant_topic_named\": \"Satellites and Telescopes\", \"count\": 588}, {\"created_at_date\": \"2022-01-06\", \"created_at_weekday\": \"Thu\", \"created_at_hour\": 14, \"dominant_topic_named\": \"Activities related to Space Research\", \"count\": 464}, {\"created_at_date\": \"2022-01-03\", \"created_at_weekday\": \"Mon\", \"created_at_hour\": 19, \"dominant_topic_named\": \"Activities related to Space Research\", \"count\": 373}, {\"created_at_date\": \"2022-01-04\", \"created_at_weekday\": \"Tue\", \"created_at_hour\": 20, \"dominant_topic_named\": \"Astronomy\", \"count\": 443}, {\"created_at_date\": \"2022-01-05\", \"created_at_weekday\": \"Wed\", \"created_at_hour\": 23, \"dominant_topic_named\": \"Satellites and Telescopes\", \"count\": 1161}]}}, {\"padding\": {\"left\": 0, \"right\": 0, \"bottom\": 0, \"top\": 0}, \"mode\": \"vega-lite\"});\n",
       "</script>"
      ],
      "text/plain": [
       "alt.Chart(...)"
      ]
     },
     "metadata": {},
     "output_type": "display_data"
    },
    {
     "name": "stdout",
     "output_type": "stream",
     "text": [
      "CPU times: user 21.6 ms, sys: 0 ns, total: 21.6 ms\n",
      "Wall time: 26 ms\n"
     ]
    }
   ],
   "source": [
    "%%time\n",
    "chart = vh.plot_altair_heatmap(\n",
    "    data=df_most_tweeted_topics_toPandas,\n",
    "    legend=alt.Legend(\n",
    "        title=\"Average Number of Tweets\",\n",
    "        orient=\"none\",\n",
    "        legendX=250,\n",
    "        titleAnchor=\"start\",\n",
    "        direction=\"vertical\",\n",
    "    ),\n",
    "    tooltip=[\n",
    "        alt.Tooltip(\"created_at_hour:O\", title=\"Hour\"),\n",
    "        alt.Tooltip(\"created_at_weekday:N\", title=\"Weekday\"),\n",
    "        alt.Tooltip(\"created_at_date:N\", title=\"Date\"),\n",
    "        alt.Tooltip(\"dominant_topic_named:N\", title=\"Topic\"),\n",
    "        alt.Tooltip(f\"mean(count):Q\", title=\"Avg. Number of Tweets\", format=\",\"),\n",
    "    ],\n",
    "    agg=\"mean\",\n",
    "    xvar=\"created_at_weekday\",\n",
    "    yvar=\"created_at_hour\",\n",
    "    color_by_col=\"count\",\n",
    "    ptitle=\"Tweets During the Day\",\n",
    "    sort_x=[\"Mon\", \"Tue\", \"Wed\", \"Thu\", \"Fri\", \"Sat\", \"Sun\"],\n",
    "    sort_y=list(range(0, 23 + 1)),\n",
    "    marker_linewidth=1,\n",
    "    cmap=\"yelloworangered\",\n",
    "    scale=\"log\",\n",
    "    show_x_labels=True,\n",
    "    show_y_labels=True,\n",
    "    fig_size=(240, 750),\n",
    ").configure_view(strokeWidth=0).configure_axis(\n",
    "    domain=False, labelFontSize=14, titleFontSize=16\n",
    ").configure_title(\n",
    "    anchor=\"middle\", fontSize=16\n",
    ").configure_legend(labelFontSize=14)\n",
    "display(chart)"
   ]
  },
  {
   "cell_type": "markdown",
   "id": "66a773b5",
   "metadata": {},
   "source": [
    "**6. Did any verified or protected Twitter users posted tweets?**"
   ]
  },
  {
   "cell_type": "code",
   "execution_count": 173,
   "id": "afc239fb",
   "metadata": {},
   "outputs": [
    {
     "name": "stdout",
     "output_type": "stream",
     "text": [
      "CPU times: user 1.69 ms, sys: 230 µs, total: 1.92 ms\n",
      "Wall time: 160 ms\n"
     ]
    },
    {
     "data": {
      "text/plain": [
       "0"
      ]
     },
     "execution_count": 173,
     "metadata": {},
     "output_type": "execute_result"
    }
   ],
   "source": [
    "%%time\n",
    "df_reloaded_cached.where(F.col(\"user_protected\") == True).count()"
   ]
  },
  {
   "cell_type": "code",
   "execution_count": 174,
   "id": "3f3b6886",
   "metadata": {},
   "outputs": [
    {
     "name": "stdout",
     "output_type": "stream",
     "text": [
      "CPU times: user 1.92 ms, sys: 264 µs, total: 2.18 ms\n",
      "Wall time: 180 ms\n"
     ]
    },
    {
     "data": {
      "text/plain": [
       "4147"
      ]
     },
     "execution_count": 174,
     "metadata": {},
     "output_type": "execute_result"
    }
   ],
   "source": [
    "%%time\n",
    "df_reloaded_cached.where(F.col(\"user_verified\") == True).count()"
   ]
  },
  {
   "cell_type": "markdown",
   "id": "324bb0f1",
   "metadata": {},
   "source": [
    "**Observations**\n",
    "1. There were no tweets by protected users.\n",
    "2. There were approximately 4,000 tweets by verified users, out of a total of approximately 240,000 tweets with a topic."
   ]
  },
  {
   "cell_type": "markdown",
   "id": "45c67837",
   "metadata": {},
   "source": [
    "**7. In how many tweets is the user's location available? In how many is it missing?**"
   ]
  },
  {
   "cell_type": "markdown",
   "id": "835dffa4",
   "metadata": {},
   "source": [
    "Count for non-missing and missing values in the `place_country` column"
   ]
  },
  {
   "cell_type": "code",
   "execution_count": 175,
   "id": "2e8c4603",
   "metadata": {},
   "outputs": [
    {
     "name": "stdout",
     "output_type": "stream",
     "text": [
      "CPU times: user 1.71 ms, sys: 235 µs, total: 1.94 ms\n",
      "Wall time: 148 ms\n"
     ]
    },
    {
     "data": {
      "text/plain": [
       "1064"
      ]
     },
     "execution_count": 175,
     "metadata": {},
     "output_type": "execute_result"
    }
   ],
   "source": [
    "%%time\n",
    "df_reloaded_cached.where(~F.col(\"place_country\").isNull()).count()"
   ]
  },
  {
   "cell_type": "code",
   "execution_count": 187,
   "id": "462a361b",
   "metadata": {},
   "outputs": [
    {
     "name": "stdout",
     "output_type": "stream",
     "text": [
      "CPU times: user 1.44 ms, sys: 186 µs, total: 1.62 ms\n",
      "Wall time: 136 ms\n"
     ]
    },
    {
     "data": {
      "text/plain": [
       "236985"
      ]
     },
     "execution_count": 187,
     "metadata": {},
     "output_type": "execute_result"
    }
   ],
   "source": [
    "%%time\n",
    "df_reloaded_cached.where(F.col(\"place_country\").isNull()).count()"
   ]
  },
  {
   "cell_type": "markdown",
   "id": "397c1b65",
   "metadata": {},
   "source": [
    "Count for non-missing and missing values in the `user_location` column"
   ]
  },
  {
   "cell_type": "code",
   "execution_count": 177,
   "id": "a6a1de46",
   "metadata": {},
   "outputs": [
    {
     "name": "stdout",
     "output_type": "stream",
     "text": [
      "CPU times: user 1.45 ms, sys: 200 µs, total: 1.65 ms\n",
      "Wall time: 97.9 ms\n"
     ]
    },
    {
     "data": {
      "text/plain": [
       "0"
      ]
     },
     "execution_count": 177,
     "metadata": {},
     "output_type": "execute_result"
    }
   ],
   "source": [
    "%%time\n",
    "df_reloaded_cached.where(F.col(\"user_location\").isNull()).count()"
   ]
  },
  {
   "cell_type": "code",
   "execution_count": 178,
   "id": "ab28be59",
   "metadata": {},
   "outputs": [
    {
     "name": "stdout",
     "output_type": "stream",
     "text": [
      "CPU times: user 1.65 ms, sys: 228 µs, total: 1.88 ms\n",
      "Wall time: 201 ms\n"
     ]
    },
    {
     "data": {
      "text/plain": [
       "83872"
      ]
     },
     "execution_count": 178,
     "metadata": {},
     "output_type": "execute_result"
    }
   ],
   "source": [
    "%%time\n",
    "df_reloaded_cached.where(F.col(\"user_location\") == \"None\").count()"
   ]
  },
  {
   "cell_type": "code",
   "execution_count": 185,
   "id": "d6e3f250",
   "metadata": {},
   "outputs": [
    {
     "name": "stdout",
     "output_type": "stream",
     "text": [
      "CPU times: user 0 ns, sys: 2.11 ms, total: 2.11 ms\n",
      "Wall time: 562 ms\n"
     ]
    },
    {
     "data": {
      "text/plain": [
       "154177"
      ]
     },
     "execution_count": 185,
     "metadata": {},
     "output_type": "execute_result"
    }
   ],
   "source": [
    "%%time\n",
    "df_reloaded_cached.where(~(F.col(\"user_location\") == \"None\")).count()"
   ]
  },
  {
   "cell_type": "markdown",
   "id": "f69f6c48",
   "metadata": {},
   "source": [
    "**Observations**\n",
    "1. Out of 240,000 tweets\n",
    "   - approximately 1,000 tweets are not missing a value in the `place_country` column\n",
    "   - approximately 154,000 tweets are not missing a value in the `user_location` column"
   ]
  },
  {
   "cell_type": "markdown",
   "id": "777ad0ab",
   "metadata": {},
   "source": [
    "**8. What are the 50 user locations from which tweets were posted?**"
   ]
  },
  {
   "cell_type": "code",
   "execution_count": 245,
   "id": "0c3ffd2f",
   "metadata": {},
   "outputs": [
    {
     "name": "stdout",
     "output_type": "stream",
     "text": [
      "Tweets were posted from 50,118 unique locations\n",
      "CPU times: user 389 ms, sys: 10 ms, total: 399 ms\n",
      "Wall time: 2.01 s\n"
     ]
    },
    {
     "data": {
      "text/html": [
       "<div>\n",
       "<style scoped>\n",
       "    .dataframe tbody tr th:only-of-type {\n",
       "        vertical-align: middle;\n",
       "    }\n",
       "\n",
       "    .dataframe tbody tr th {\n",
       "        vertical-align: top;\n",
       "    }\n",
       "\n",
       "    .dataframe thead th {\n",
       "        text-align: right;\n",
       "    }\n",
       "</style>\n",
       "<table border=\"1\" class=\"dataframe\">\n",
       "  <thead>\n",
       "    <tr style=\"text-align: right;\">\n",
       "      <th></th>\n",
       "      <th>user_location</th>\n",
       "      <th>count</th>\n",
       "    </tr>\n",
       "  </thead>\n",
       "  <tbody>\n",
       "    <tr>\n",
       "      <th>0</th>\n",
       "      <td>United States</td>\n",
       "      <td>1854</td>\n",
       "    </tr>\n",
       "    <tr>\n",
       "      <th>1</th>\n",
       "      <td>India</td>\n",
       "      <td>1421</td>\n",
       "    </tr>\n",
       "    <tr>\n",
       "      <th>2</th>\n",
       "      <td>Los Angeles, CA</td>\n",
       "      <td>901</td>\n",
       "    </tr>\n",
       "    <tr>\n",
       "      <th>3</th>\n",
       "      <td>California, USA</td>\n",
       "      <td>899</td>\n",
       "    </tr>\n",
       "    <tr>\n",
       "      <th>4</th>\n",
       "      <td>London, England</td>\n",
       "      <td>844</td>\n",
       "    </tr>\n",
       "    <tr>\n",
       "      <th>5</th>\n",
       "      <td>Washington, DC</td>\n",
       "      <td>795</td>\n",
       "    </tr>\n",
       "    <tr>\n",
       "      <th>6</th>\n",
       "      <td>USA</td>\n",
       "      <td>683</td>\n",
       "    </tr>\n",
       "    <tr>\n",
       "      <th>7</th>\n",
       "      <td>United Kingdom</td>\n",
       "      <td>638</td>\n",
       "    </tr>\n",
       "    <tr>\n",
       "      <th>8</th>\n",
       "      <td>London</td>\n",
       "      <td>590</td>\n",
       "    </tr>\n",
       "    <tr>\n",
       "      <th>9</th>\n",
       "      <td>Canada</td>\n",
       "      <td>589</td>\n",
       "    </tr>\n",
       "    <tr>\n",
       "      <th>10</th>\n",
       "      <td>Republic of the Philippines</td>\n",
       "      <td>560</td>\n",
       "    </tr>\n",
       "    <tr>\n",
       "      <th>11</th>\n",
       "      <td>Indonesia</td>\n",
       "      <td>551</td>\n",
       "    </tr>\n",
       "    <tr>\n",
       "      <th>12</th>\n",
       "      <td>New York, NY</td>\n",
       "      <td>531</td>\n",
       "    </tr>\n",
       "    <tr>\n",
       "      <th>13</th>\n",
       "      <td>Seattle, WA</td>\n",
       "      <td>514</td>\n",
       "    </tr>\n",
       "    <tr>\n",
       "      <th>14</th>\n",
       "      <td>UK</td>\n",
       "      <td>490</td>\n",
       "    </tr>\n",
       "    <tr>\n",
       "      <th>15</th>\n",
       "      <td>Houston, TX</td>\n",
       "      <td>459</td>\n",
       "    </tr>\n",
       "    <tr>\n",
       "      <th>16</th>\n",
       "      <td>Australia</td>\n",
       "      <td>437</td>\n",
       "    </tr>\n",
       "    <tr>\n",
       "      <th>17</th>\n",
       "      <td>New Delhi, India</td>\n",
       "      <td>418</td>\n",
       "    </tr>\n",
       "    <tr>\n",
       "      <th>18</th>\n",
       "      <td>Chicago, IL</td>\n",
       "      <td>417</td>\n",
       "    </tr>\n",
       "    <tr>\n",
       "      <th>19</th>\n",
       "      <td>Florida, USA</td>\n",
       "      <td>415</td>\n",
       "    </tr>\n",
       "    <tr>\n",
       "      <th>20</th>\n",
       "      <td>England, United Kingdom</td>\n",
       "      <td>415</td>\n",
       "    </tr>\n",
       "    <tr>\n",
       "      <th>21</th>\n",
       "      <td>New York, USA</td>\n",
       "      <td>401</td>\n",
       "    </tr>\n",
       "    <tr>\n",
       "      <th>22</th>\n",
       "      <td>Brooklyn, NY</td>\n",
       "      <td>385</td>\n",
       "    </tr>\n",
       "    <tr>\n",
       "      <th>23</th>\n",
       "      <td>Texas, USA</td>\n",
       "      <td>372</td>\n",
       "    </tr>\n",
       "    <tr>\n",
       "      <th>24</th>\n",
       "      <td>Mumbai, India</td>\n",
       "      <td>361</td>\n",
       "    </tr>\n",
       "    <tr>\n",
       "      <th>25</th>\n",
       "      <td>Toronto, Ontario</td>\n",
       "      <td>330</td>\n",
       "    </tr>\n",
       "    <tr>\n",
       "      <th>26</th>\n",
       "      <td>San Francisco, CA</td>\n",
       "      <td>326</td>\n",
       "    </tr>\n",
       "    <tr>\n",
       "      <th>27</th>\n",
       "      <td>Germany</td>\n",
       "      <td>325</td>\n",
       "    </tr>\n",
       "    <tr>\n",
       "      <th>28</th>\n",
       "      <td>Philippines</td>\n",
       "      <td>322</td>\n",
       "    </tr>\n",
       "    <tr>\n",
       "      <th>29</th>\n",
       "      <td>Atlanta, GA</td>\n",
       "      <td>314</td>\n",
       "    </tr>\n",
       "    <tr>\n",
       "      <th>30</th>\n",
       "      <td>France</td>\n",
       "      <td>311</td>\n",
       "    </tr>\n",
       "    <tr>\n",
       "      <th>31</th>\n",
       "      <td>Austin, TX</td>\n",
       "      <td>311</td>\n",
       "    </tr>\n",
       "    <tr>\n",
       "      <th>32</th>\n",
       "      <td>Bengaluru, India</td>\n",
       "      <td>274</td>\n",
       "    </tr>\n",
       "    <tr>\n",
       "      <th>33</th>\n",
       "      <td>Boston, MA</td>\n",
       "      <td>267</td>\n",
       "    </tr>\n",
       "    <tr>\n",
       "      <th>34</th>\n",
       "      <td>San Diego, CA</td>\n",
       "      <td>260</td>\n",
       "    </tr>\n",
       "    <tr>\n",
       "      <th>35</th>\n",
       "      <td>Paris, France</td>\n",
       "      <td>256</td>\n",
       "    </tr>\n",
       "    <tr>\n",
       "      <th>36</th>\n",
       "      <td>Nairobi, Kenya</td>\n",
       "      <td>237</td>\n",
       "    </tr>\n",
       "    <tr>\n",
       "      <th>37</th>\n",
       "      <td>Baltimore, MD</td>\n",
       "      <td>235</td>\n",
       "    </tr>\n",
       "    <tr>\n",
       "      <th>38</th>\n",
       "      <td>Portland, OR</td>\n",
       "      <td>224</td>\n",
       "    </tr>\n",
       "    <tr>\n",
       "      <th>39</th>\n",
       "      <td>Kolkata, India</td>\n",
       "      <td>221</td>\n",
       "    </tr>\n",
       "    <tr>\n",
       "      <th>40</th>\n",
       "      <td>Deutschland</td>\n",
       "      <td>215</td>\n",
       "    </tr>\n",
       "    <tr>\n",
       "      <th>41</th>\n",
       "      <td>Virginia, USA</td>\n",
       "      <td>214</td>\n",
       "    </tr>\n",
       "    <tr>\n",
       "      <th>42</th>\n",
       "      <td>Los Angeles,CA Baltimore MD</td>\n",
       "      <td>214</td>\n",
       "    </tr>\n",
       "    <tr>\n",
       "      <th>43</th>\n",
       "      <td>Orlando, FL</td>\n",
       "      <td>214</td>\n",
       "    </tr>\n",
       "    <tr>\n",
       "      <th>44</th>\n",
       "      <td>México</td>\n",
       "      <td>213</td>\n",
       "    </tr>\n",
       "    <tr>\n",
       "      <th>45</th>\n",
       "      <td>Maryland, USA</td>\n",
       "      <td>210</td>\n",
       "    </tr>\n",
       "    <tr>\n",
       "      <th>46</th>\n",
       "      <td>Tucson, AZ</td>\n",
       "      <td>206</td>\n",
       "    </tr>\n",
       "    <tr>\n",
       "      <th>47</th>\n",
       "      <td>Texas</td>\n",
       "      <td>205</td>\n",
       "    </tr>\n",
       "    <tr>\n",
       "      <th>48</th>\n",
       "      <td>Los Angeles</td>\n",
       "      <td>204</td>\n",
       "    </tr>\n",
       "    <tr>\n",
       "      <th>49</th>\n",
       "      <td>Pittsburgh, PA</td>\n",
       "      <td>201</td>\n",
       "    </tr>\n",
       "  </tbody>\n",
       "</table>\n",
       "</div>"
      ],
      "text/plain": [
       "                   user_location  count\n",
       "0                  United States   1854\n",
       "1                          India   1421\n",
       "2                Los Angeles, CA    901\n",
       "3                California, USA    899\n",
       "4                London, England    844\n",
       "5                 Washington, DC    795\n",
       "6                            USA    683\n",
       "7                 United Kingdom    638\n",
       "8                         London    590\n",
       "9                         Canada    589\n",
       "10   Republic of the Philippines    560\n",
       "11                     Indonesia    551\n",
       "12                  New York, NY    531\n",
       "13                   Seattle, WA    514\n",
       "14                            UK    490\n",
       "15                   Houston, TX    459\n",
       "16                     Australia    437\n",
       "17              New Delhi, India    418\n",
       "18                   Chicago, IL    417\n",
       "19                  Florida, USA    415\n",
       "20       England, United Kingdom    415\n",
       "21                 New York, USA    401\n",
       "22                  Brooklyn, NY    385\n",
       "23                    Texas, USA    372\n",
       "24                 Mumbai, India    361\n",
       "25              Toronto, Ontario    330\n",
       "26             San Francisco, CA    326\n",
       "27                       Germany    325\n",
       "28                   Philippines    322\n",
       "29                   Atlanta, GA    314\n",
       "30                        France    311\n",
       "31                    Austin, TX    311\n",
       "32              Bengaluru, India    274\n",
       "33                    Boston, MA    267\n",
       "34                 San Diego, CA    260\n",
       "35                 Paris, France    256\n",
       "36                Nairobi, Kenya    237\n",
       "37                 Baltimore, MD    235\n",
       "38                  Portland, OR    224\n",
       "39                Kolkata, India    221\n",
       "40                   Deutschland    215\n",
       "41                 Virginia, USA    214\n",
       "42  Los Angeles,CA Baltimore MD     214\n",
       "43                   Orlando, FL    214\n",
       "44                        México    213\n",
       "45                 Maryland, USA    210\n",
       "46                    Tucson, AZ    206\n",
       "47                         Texas    205\n",
       "48                   Los Angeles    204\n",
       "49                Pittsburgh, PA    201"
      ]
     },
     "execution_count": 245,
     "metadata": {},
     "output_type": "execute_result"
    }
   ],
   "source": [
    "%%time\n",
    "# # Pandas\n",
    "# df_reloaded_pandas[\"user_location\"].value_counts().nlargest(10).to_frame()\n",
    "\n",
    "# PySpark\n",
    "df_top_locations_toPandas = (\n",
    "    df_reloaded_cached\n",
    "    .where(~(F.col(\"user_location\").isin([\"Earth\", \"Planet Earth\", \"she/her\", \"None\"])))\n",
    "    .groupBy([\"user_location\"])\n",
    "    .count()\n",
    "    .orderBy([\"count\"], ascending=False)\n",
    "    .toPandas()\n",
    ")\n",
    "print(f\"Tweets were posted from {df_top_locations_toPandas['user_location'].nunique():,} unique locations\")\n",
    "df_top_locations_toPandas.head(50)"
   ]
  },
  {
   "cell_type": "code",
   "execution_count": 246,
   "id": "cb0fbccc",
   "metadata": {},
   "outputs": [],
   "source": [
    "top_50_user_locations = df_top_locations_toPandas[\"user_location\"].head(50).tolist()"
   ]
  },
  {
   "cell_type": "markdown",
   "id": "d32416de",
   "metadata": {},
   "source": [
    "**9. Find the name of the country containing the top 50 user locations from question 8.**"
   ]
  },
  {
   "cell_type": "code",
   "execution_count": 249,
   "id": "142d7b2c",
   "metadata": {},
   "outputs": [
    {
     "name": "stdout",
     "output_type": "stream",
     "text": [
      "CPU times: user 26.7 ms, sys: 3.31 ms, total: 30 ms\n",
      "Wall time: 380 ms\n"
     ]
    },
    {
     "data": {
      "text/html": [
       "<div>\n",
       "<style scoped>\n",
       "    .dataframe tbody tr th:only-of-type {\n",
       "        vertical-align: middle;\n",
       "    }\n",
       "\n",
       "    .dataframe tbody tr th {\n",
       "        vertical-align: top;\n",
       "    }\n",
       "\n",
       "    .dataframe thead th {\n",
       "        text-align: right;\n",
       "    }\n",
       "</style>\n",
       "<table border=\"1\" class=\"dataframe\">\n",
       "  <thead>\n",
       "    <tr style=\"text-align: right;\">\n",
       "      <th></th>\n",
       "      <th>reviewText_processed</th>\n",
       "      <th>document</th>\n",
       "      <th>created_at</th>\n",
       "      <th>user_joined</th>\n",
       "      <th>in_reply_to_screen_name</th>\n",
       "      <th>source_text</th>\n",
       "      <th>place_country</th>\n",
       "      <th>user_followers</th>\n",
       "      <th>user_friends</th>\n",
       "      <th>user_listed</th>\n",
       "      <th>...</th>\n",
       "      <th>user_verified</th>\n",
       "      <th>user_location</th>\n",
       "      <th>dominant_topic_named</th>\n",
       "      <th>dominant_prob</th>\n",
       "      <th>reviewText_left</th>\n",
       "      <th>reviewText_right</th>\n",
       "      <th>created_at_dt</th>\n",
       "      <th>created_at_hour</th>\n",
       "      <th>created_at_weekday</th>\n",
       "      <th>country</th>\n",
       "    </tr>\n",
       "  </thead>\n",
       "  <tbody>\n",
       "    <tr>\n",
       "      <th>0</th>\n",
       "      <td>updatehunan satellite tv pos...</td>\n",
       "      <td>562285</td>\n",
       "      <td>2022-01-04 12:50:51+00:00</td>\n",
       "      <td>2021-03-22 04:00:37+00:00</td>\n",
       "      <td>None</td>\n",
       "      <td>Twitter for Android</td>\n",
       "      <td>None</td>\n",
       "      <td>501</td>\n",
       "      <td>213</td>\n",
       "      <td>1</td>\n",
       "      <td>...</td>\n",
       "      <td>False</td>\n",
       "      <td>Sail To The Future 🚢</td>\n",
       "      <td>Activities related to Space Research</td>\n",
       "      <td>0.311246</td>\n",
       "      <td>[01.04.2022] 湖南卫视贴吧 UpdateHunan Satellite TV P...</td>\n",
       "      <td>[01.04.2022] 湖南卫视贴吧 UpdateHunan Satellite TV P...</td>\n",
       "      <td>2022-01-04 12:50:51</td>\n",
       "      <td>12</td>\n",
       "      <td>Tue</td>\n",
       "      <td>Other</td>\n",
       "    </tr>\n",
       "    <tr>\n",
       "      <th>1</th>\n",
       "      <td>usd        juta idr      one winner    ...</td>\n",
       "      <td>7</td>\n",
       "      <td>2022-01-05 16:00:41+00:00</td>\n",
       "      <td>2018-07-05 12:50:08+00:00</td>\n",
       "      <td>None</td>\n",
       "      <td>Twitter for iPhone</td>\n",
       "      <td>None</td>\n",
       "      <td>237</td>\n",
       "      <td>2772</td>\n",
       "      <td>0</td>\n",
       "      <td>...</td>\n",
       "      <td>False</td>\n",
       "      <td>she/her</td>\n",
       "      <td>Satellites and Telescopes</td>\n",
       "      <td>0.425723</td>\n",
       "      <td>|| 100 USD || 1,4 JUTA IDR |||| one winner || ...</td>\n",
       "      <td>|| 100 USD || 1,4 JUTA IDR |||| one winner || ...</td>\n",
       "      <td>2022-01-05 16:00:41</td>\n",
       "      <td>16</td>\n",
       "      <td>Wed</td>\n",
       "      <td>Other</td>\n",
       "    </tr>\n",
       "    <tr>\n",
       "      <th>2</th>\n",
       "      <td>usd        juta idr      one winner    ...</td>\n",
       "      <td>11</td>\n",
       "      <td>2022-01-05 16:00:41+00:00</td>\n",
       "      <td>2021-09-19 08:39:09+00:00</td>\n",
       "      <td>None</td>\n",
       "      <td>Twitter Web App</td>\n",
       "      <td>None</td>\n",
       "      <td>84</td>\n",
       "      <td>1055</td>\n",
       "      <td>0</td>\n",
       "      <td>...</td>\n",
       "      <td>False</td>\n",
       "      <td>None</td>\n",
       "      <td>Satellites and Telescopes</td>\n",
       "      <td>0.425723</td>\n",
       "      <td>|| 100 USD || 1,4 JUTA IDR |||| one winner || ...</td>\n",
       "      <td>|| 100 USD || 1,4 JUTA IDR |||| one winner || ...</td>\n",
       "      <td>2022-01-05 16:00:41</td>\n",
       "      <td>16</td>\n",
       "      <td>Wed</td>\n",
       "      <td>None</td>\n",
       "    </tr>\n",
       "    <tr>\n",
       "      <th>3</th>\n",
       "      <td>usd        juta idr      one winner    ...</td>\n",
       "      <td>21</td>\n",
       "      <td>2022-01-05 16:00:45+00:00</td>\n",
       "      <td>2021-12-31 16:52:25+00:00</td>\n",
       "      <td>None</td>\n",
       "      <td>Twitter for iPhone</td>\n",
       "      <td>None</td>\n",
       "      <td>194</td>\n",
       "      <td>856</td>\n",
       "      <td>0</td>\n",
       "      <td>...</td>\n",
       "      <td>False</td>\n",
       "      <td>Sakarya, Türkiye</td>\n",
       "      <td>Satellites and Telescopes</td>\n",
       "      <td>0.425723</td>\n",
       "      <td>|| 100 USD || 1,4 JUTA IDR |||| one winner || ...</td>\n",
       "      <td>|| 100 USD || 1,4 JUTA IDR |||| one winner || ...</td>\n",
       "      <td>2022-01-05 16:00:45</td>\n",
       "      <td>16</td>\n",
       "      <td>Wed</td>\n",
       "      <td>Other</td>\n",
       "    </tr>\n",
       "    <tr>\n",
       "      <th>4</th>\n",
       "      <td>usd        juta idr      one winner    ...</td>\n",
       "      <td>73</td>\n",
       "      <td>2022-01-05 16:00:51+00:00</td>\n",
       "      <td>2021-07-31 10:52:34+00:00</td>\n",
       "      <td>None</td>\n",
       "      <td>Twitter for Android</td>\n",
       "      <td>None</td>\n",
       "      <td>65</td>\n",
       "      <td>1217</td>\n",
       "      <td>0</td>\n",
       "      <td>...</td>\n",
       "      <td>False</td>\n",
       "      <td>None</td>\n",
       "      <td>Satellites and Telescopes</td>\n",
       "      <td>0.425723</td>\n",
       "      <td>|| 100 USD || 1,4 JUTA IDR |||| one winner || ...</td>\n",
       "      <td>|| 100 USD || 1,4 JUTA IDR |||| one winner || ...</td>\n",
       "      <td>2022-01-05 16:00:51</td>\n",
       "      <td>16</td>\n",
       "      <td>Wed</td>\n",
       "      <td>None</td>\n",
       "    </tr>\n",
       "  </tbody>\n",
       "</table>\n",
       "<p>5 rows × 23 columns</p>\n",
       "</div>"
      ],
      "text/plain": [
       "                                reviewText_processed  document  \\\n",
       "0                    updatehunan satellite tv pos...    562285   \n",
       "1         usd        juta idr      one winner    ...         7   \n",
       "2         usd        juta idr      one winner    ...        11   \n",
       "3         usd        juta idr      one winner    ...        21   \n",
       "4         usd        juta idr      one winner    ...        73   \n",
       "\n",
       "                  created_at                user_joined  \\\n",
       "0  2022-01-04 12:50:51+00:00  2021-03-22 04:00:37+00:00   \n",
       "1  2022-01-05 16:00:41+00:00  2018-07-05 12:50:08+00:00   \n",
       "2  2022-01-05 16:00:41+00:00  2021-09-19 08:39:09+00:00   \n",
       "3  2022-01-05 16:00:45+00:00  2021-12-31 16:52:25+00:00   \n",
       "4  2022-01-05 16:00:51+00:00  2021-07-31 10:52:34+00:00   \n",
       "\n",
       "  in_reply_to_screen_name          source_text place_country  user_followers  \\\n",
       "0                    None  Twitter for Android          None             501   \n",
       "1                    None   Twitter for iPhone          None             237   \n",
       "2                    None      Twitter Web App          None              84   \n",
       "3                    None   Twitter for iPhone          None             194   \n",
       "4                    None  Twitter for Android          None              65   \n",
       "\n",
       "   user_friends  user_listed  ...  user_verified         user_location  \\\n",
       "0           213            1  ...          False  Sail To The Future 🚢   \n",
       "1          2772            0  ...          False               she/her   \n",
       "2          1055            0  ...          False                  None   \n",
       "3           856            0  ...          False      Sakarya, Türkiye   \n",
       "4          1217            0  ...          False                  None   \n",
       "\n",
       "                   dominant_topic_named  dominant_prob  \\\n",
       "0  Activities related to Space Research       0.311246   \n",
       "1             Satellites and Telescopes       0.425723   \n",
       "2             Satellites and Telescopes       0.425723   \n",
       "3             Satellites and Telescopes       0.425723   \n",
       "4             Satellites and Telescopes       0.425723   \n",
       "\n",
       "                                     reviewText_left  \\\n",
       "0  [01.04.2022] 湖南卫视贴吧 UpdateHunan Satellite TV P...   \n",
       "1  || 100 USD || 1,4 JUTA IDR |||| one winner || ...   \n",
       "2  || 100 USD || 1,4 JUTA IDR |||| one winner || ...   \n",
       "3  || 100 USD || 1,4 JUTA IDR |||| one winner || ...   \n",
       "4  || 100 USD || 1,4 JUTA IDR |||| one winner || ...   \n",
       "\n",
       "                                    reviewText_right        created_at_dt  \\\n",
       "0  [01.04.2022] 湖南卫视贴吧 UpdateHunan Satellite TV P...  2022-01-04 12:50:51   \n",
       "1  || 100 USD || 1,4 JUTA IDR |||| one winner || ...  2022-01-05 16:00:41   \n",
       "2  || 100 USD || 1,4 JUTA IDR |||| one winner || ...  2022-01-05 16:00:41   \n",
       "3  || 100 USD || 1,4 JUTA IDR |||| one winner || ...  2022-01-05 16:00:45   \n",
       "4  || 100 USD || 1,4 JUTA IDR |||| one winner || ...  2022-01-05 16:00:51   \n",
       "\n",
       "  created_at_hour created_at_weekday country  \n",
       "0              12                Tue   Other  \n",
       "1              16                Wed   Other  \n",
       "2              16                Wed    None  \n",
       "3              16                Wed   Other  \n",
       "4              16                Wed    None  \n",
       "\n",
       "[5 rows x 23 columns]"
      ]
     },
     "execution_count": 249,
     "metadata": {},
     "output_type": "execute_result"
    }
   ],
   "source": [
    "%%time\n",
    "df_reloaded_cached_with_country = df_reloaded_cached.withColumn(\n",
    "    \"country\",\n",
    "    F.when(\n",
    "        df_reloaded_cached.user_location.like(\"% CA\")\n",
    "        | df_reloaded_cached.user_location.like(\"% DC\")\n",
    "        | df_reloaded_cached.user_location.like(\"% NY\")\n",
    "        | df_reloaded_cached.user_location.like(\"% WA\")\n",
    "        | df_reloaded_cached.user_location.like(\"% TX\")\n",
    "        | df_reloaded_cached.user_location.like(\"% IL\")\n",
    "        | df_reloaded_cached.user_location.like(\"% FL\")\n",
    "        | df_reloaded_cached.user_location.like(\"% MD\")\n",
    "        | df_reloaded_cached.user_location.like(\"% PA\")\n",
    "        | df_reloaded_cached.user_location.like(\"%, OR\")\n",
    "        | df_reloaded_cached.user_location.like(\"% MA\")\n",
    "        | df_reloaded_cached.user_location.like(\"% AZ\")\n",
    "        | df_reloaded_cached.user_location.like(\"% TX\")\n",
    "        | df_reloaded_cached.user_location.like(\"% GA\")\n",
    "        | df_reloaded_cached.user_location.like(\"% USA\")\n",
    "        | (df_reloaded_cached.user_location == \"United States\")\n",
    "        | (df_reloaded_cached.user_location.like(\"Los Angeles%\"))\n",
    "        | (df_reloaded_cached.user_location == \"USA\")\n",
    "        | (df_reloaded_cached.user_location.like(\"Texas\"))\n",
    "        | (df_reloaded_cached.user_location == \"Los Angeles\"),\n",
    "        \"USA\",\n",
    "    )\n",
    "    .when(\n",
    "        (df_reloaded_cached.user_location == \"United Kingdom\")\n",
    "        | df_reloaded_cached.user_location.like(\"% United Kingdom\")\n",
    "        | df_reloaded_cached.user_location.like(\"% England\")\n",
    "        | (df_reloaded_cached.user_location == \"London\")\n",
    "        | (df_reloaded_cached.user_location == \"UK\"),\n",
    "        \"UK\",\n",
    "    )\n",
    "    .when(\n",
    "        df_reloaded_cached.user_location.like(\"% India\")\n",
    "        | (df_reloaded_cached.user_location == \"India\"),\n",
    "        \"India\",\n",
    "    )\n",
    "    .when(\n",
    "        df_reloaded_cached.user_location == \"Australia\",\n",
    "        \"Australia\",\n",
    "    )\n",
    "    .when(\n",
    "        (df_reloaded_cached.user_location == \"Canada\")\n",
    "        | df_reloaded_cached.user_location.like(\"% Ontario\"),\n",
    "        \"Canada\",\n",
    "    )\n",
    "    .when(\n",
    "        (df_reloaded_cached.user_location == \"Republic of the Philippines\")\n",
    "        | (df_reloaded_cached.user_location == \"Philippines\"),\n",
    "        \"Philippines\",\n",
    "    )\n",
    "    .when(\n",
    "        df_reloaded_cached.user_location == \"Indonesia\",\n",
    "        \"Indonesia\",\n",
    "    )\n",
    "    .when(\n",
    "        df_reloaded_cached.user_location == \"None\",\n",
    "        \"None\",\n",
    "    )\n",
    "     .when(\n",
    "        (df_reloaded_cached.user_location == \"France\")\n",
    "        | (df_reloaded_cached.user_location.like(\"% France\")),\n",
    "        \"France\",\n",
    "    )\n",
    "    .when(\n",
    "        (df_reloaded_cached.user_location == \"Germany\")\n",
    "        | (df_reloaded_cached.user_location == \"Deutschland\"),\n",
    "        \"Germany\",\n",
    "    )\n",
    "    .when(\n",
    "        (df_reloaded_cached.user_location.like(\"% Kenya\")),\n",
    "        \"Kenya\",\n",
    "    )\n",
    "    .when(\n",
    "        df_reloaded_cached.user_location.like(\"%xico%\"),\n",
    "        \"Mexico\",\n",
    "    )\n",
    "    .otherwise(\"Other\"),\n",
    ")\n",
    "show_pyspark_df(df_reloaded_cached_with_country, 5)"
   ]
  },
  {
   "cell_type": "markdown",
   "id": "393635dc",
   "metadata": {},
   "source": [
    "Verify `Other` is not present in the derived country name column"
   ]
  },
  {
   "cell_type": "code",
   "execution_count": 250,
   "id": "42884954",
   "metadata": {},
   "outputs": [
    {
     "name": "stdout",
     "output_type": "stream",
     "text": [
      "CPU times: user 21.9 ms, sys: 5.3 ms, total: 27.2 ms\n",
      "Wall time: 685 ms\n"
     ]
    }
   ],
   "source": [
    "%%time\n",
    "assert (\n",
    "    df_reloaded_cached_with_country\n",
    "    .filter(F.col(\"user_location\").isin(top_50_user_locations))\n",
    "    .filter(F.col(\"country\") == \"Other\")\n",
    "    .select([\"user_location\", \"country\"])\n",
    "    .count()\n",
    ") == 0"
   ]
  },
  {
   "cell_type": "markdown",
   "id": "cdbb1b58",
   "metadata": {},
   "source": [
    "**10. Count the number of tweets by country, for those tweets originating from any of the top 50 locations (by number of tweets) found in question 8.**"
   ]
  },
  {
   "cell_type": "code",
   "execution_count": 303,
   "id": "027717d6",
   "metadata": {},
   "outputs": [
    {
     "name": "stdout",
     "output_type": "stream",
     "text": [
      "CPU times: user 19.3 ms, sys: 8.74 ms, total: 28 ms\n",
      "Wall time: 921 ms\n"
     ]
    },
    {
     "data": {
      "text/html": [
       "<div>\n",
       "<style scoped>\n",
       "    .dataframe tbody tr th:only-of-type {\n",
       "        vertical-align: middle;\n",
       "    }\n",
       "\n",
       "    .dataframe tbody tr th {\n",
       "        vertical-align: top;\n",
       "    }\n",
       "\n",
       "    .dataframe thead th {\n",
       "        text-align: right;\n",
       "    }\n",
       "</style>\n",
       "<table border=\"1\" class=\"dataframe\">\n",
       "  <thead>\n",
       "    <tr style=\"text-align: right;\">\n",
       "      <th></th>\n",
       "      <th>country</th>\n",
       "      <th>count</th>\n",
       "    </tr>\n",
       "  </thead>\n",
       "  <tbody>\n",
       "    <tr>\n",
       "      <th>0</th>\n",
       "      <td>USA</td>\n",
       "      <td>12231</td>\n",
       "    </tr>\n",
       "    <tr>\n",
       "      <th>1</th>\n",
       "      <td>UK</td>\n",
       "      <td>2977</td>\n",
       "    </tr>\n",
       "    <tr>\n",
       "      <th>2</th>\n",
       "      <td>India</td>\n",
       "      <td>2695</td>\n",
       "    </tr>\n",
       "    <tr>\n",
       "      <th>3</th>\n",
       "      <td>Canada</td>\n",
       "      <td>919</td>\n",
       "    </tr>\n",
       "    <tr>\n",
       "      <th>4</th>\n",
       "      <td>Philippines</td>\n",
       "      <td>882</td>\n",
       "    </tr>\n",
       "    <tr>\n",
       "      <th>5</th>\n",
       "      <td>France</td>\n",
       "      <td>567</td>\n",
       "    </tr>\n",
       "    <tr>\n",
       "      <th>6</th>\n",
       "      <td>Indonesia</td>\n",
       "      <td>551</td>\n",
       "    </tr>\n",
       "    <tr>\n",
       "      <th>7</th>\n",
       "      <td>Germany</td>\n",
       "      <td>540</td>\n",
       "    </tr>\n",
       "    <tr>\n",
       "      <th>8</th>\n",
       "      <td>Australia</td>\n",
       "      <td>437</td>\n",
       "    </tr>\n",
       "    <tr>\n",
       "      <th>9</th>\n",
       "      <td>Kenya</td>\n",
       "      <td>237</td>\n",
       "    </tr>\n",
       "    <tr>\n",
       "      <th>10</th>\n",
       "      <td>Mexico</td>\n",
       "      <td>213</td>\n",
       "    </tr>\n",
       "  </tbody>\n",
       "</table>\n",
       "</div>"
      ],
      "text/plain": [
       "        country  count\n",
       "0           USA  12231\n",
       "1            UK   2977\n",
       "2         India   2695\n",
       "3        Canada    919\n",
       "4   Philippines    882\n",
       "5        France    567\n",
       "6     Indonesia    551\n",
       "7       Germany    540\n",
       "8     Australia    437\n",
       "9         Kenya    237\n",
       "10       Mexico    213"
      ]
     },
     "execution_count": 303,
     "metadata": {},
     "output_type": "execute_result"
    }
   ],
   "source": [
    "%%time\n",
    "df_top_50_countries_toPandas = (\n",
    "    df_reloaded_cached_with_country\n",
    "    .filter(F.col(\"user_location\").isin(top_50_user_locations))\n",
    "    .groupBy([\"country\"])\n",
    "    .count()\n",
    "    .orderBy([\"count\"], ascending=False)\n",
    "    .toPandas()\n",
    ")\n",
    "df_top_50_countries_toPandas"
   ]
  },
  {
   "cell_type": "markdown",
   "id": "a72034dd",
   "metadata": {},
   "source": [
    "**11. For each of the countries containing the top 50 user locations (by number of tweets posted) from question 8., count the number of tweets by topic. Create a chart from this.**"
   ]
  },
  {
   "cell_type": "markdown",
   "id": "435ba862",
   "metadata": {},
   "source": [
    "For the top 50 user locations, count the number of tweets by country"
   ]
  },
  {
   "cell_type": "code",
   "execution_count": 262,
   "id": "5ff6ef17",
   "metadata": {},
   "outputs": [
    {
     "name": "stdout",
     "output_type": "stream",
     "text": [
      "CPU times: user 28.2 ms, sys: 4.1 ms, total: 32.3 ms\n",
      "Wall time: 749 ms\n"
     ]
    },
    {
     "data": {
      "text/html": [
       "<div>\n",
       "<style scoped>\n",
       "    .dataframe tbody tr th:only-of-type {\n",
       "        vertical-align: middle;\n",
       "    }\n",
       "\n",
       "    .dataframe tbody tr th {\n",
       "        vertical-align: top;\n",
       "    }\n",
       "\n",
       "    .dataframe thead th {\n",
       "        text-align: right;\n",
       "    }\n",
       "</style>\n",
       "<table border=\"1\" class=\"dataframe\">\n",
       "  <thead>\n",
       "    <tr style=\"text-align: right;\">\n",
       "      <th></th>\n",
       "      <th>country</th>\n",
       "      <th>dominant_topic_named</th>\n",
       "      <th>count</th>\n",
       "    </tr>\n",
       "  </thead>\n",
       "  <tbody>\n",
       "    <tr>\n",
       "      <th>0</th>\n",
       "      <td>Australia</td>\n",
       "      <td>Satellites and Telescopes</td>\n",
       "      <td>146</td>\n",
       "    </tr>\n",
       "    <tr>\n",
       "      <th>1</th>\n",
       "      <td>Australia</td>\n",
       "      <td>Astronomy</td>\n",
       "      <td>114</td>\n",
       "    </tr>\n",
       "    <tr>\n",
       "      <th>2</th>\n",
       "      <td>Australia</td>\n",
       "      <td>Activities related to Space Research</td>\n",
       "      <td>104</td>\n",
       "    </tr>\n",
       "    <tr>\n",
       "      <th>3</th>\n",
       "      <td>Australia</td>\n",
       "      <td>Astrology</td>\n",
       "      <td>73</td>\n",
       "    </tr>\n",
       "    <tr>\n",
       "      <th>4</th>\n",
       "      <td>Canada</td>\n",
       "      <td>Satellites and Telescopes</td>\n",
       "      <td>289</td>\n",
       "    </tr>\n",
       "  </tbody>\n",
       "</table>\n",
       "</div>"
      ],
      "text/plain": [
       "     country                  dominant_topic_named  count\n",
       "0  Australia             Satellites and Telescopes    146\n",
       "1  Australia                             Astronomy    114\n",
       "2  Australia  Activities related to Space Research    104\n",
       "3  Australia                             Astrology     73\n",
       "4     Canada             Satellites and Telescopes    289"
      ]
     },
     "execution_count": 262,
     "metadata": {},
     "output_type": "execute_result"
    }
   ],
   "source": [
    "%%time\n",
    "df_top_50_countries_grouped = (\n",
    "    df_reloaded_cached_with_country\n",
    "    .filter(F.col(\"user_location\").isin(top_50_user_locations))\n",
    "    .groupBy([\"country\", \"dominant_topic_named\"])\n",
    "    .count()\n",
    "    .orderBy([\"country\", \"count\"], ascending=[True, False])\n",
    ")\n",
    "show_pyspark_df(df_top_50_countries_grouped)"
   ]
  },
  {
   "cell_type": "markdown",
   "id": "87574353",
   "metadata": {},
   "source": [
    "Pivot the countrywise grouped data keeping country along the rows and topics along the columns"
   ]
  },
  {
   "cell_type": "code",
   "execution_count": 263,
   "id": "66264c4c",
   "metadata": {},
   "outputs": [
    {
     "name": "stdout",
     "output_type": "stream",
     "text": [
      "CPU times: user 5.94 ms, sys: 3.22 ms, total: 9.16 ms\n",
      "Wall time: 1.52 s\n"
     ]
    },
    {
     "data": {
      "text/html": [
       "<div>\n",
       "<style scoped>\n",
       "    .dataframe tbody tr th:only-of-type {\n",
       "        vertical-align: middle;\n",
       "    }\n",
       "\n",
       "    .dataframe tbody tr th {\n",
       "        vertical-align: top;\n",
       "    }\n",
       "\n",
       "    .dataframe thead th {\n",
       "        text-align: right;\n",
       "    }\n",
       "</style>\n",
       "<table border=\"1\" class=\"dataframe\">\n",
       "  <thead>\n",
       "    <tr style=\"text-align: right;\">\n",
       "      <th></th>\n",
       "      <th>Space Research</th>\n",
       "      <th>Astronomy</th>\n",
       "      <th>Astrology</th>\n",
       "      <th>Satellites / Telescopes</th>\n",
       "    </tr>\n",
       "    <tr>\n",
       "      <th>country</th>\n",
       "      <th></th>\n",
       "      <th></th>\n",
       "      <th></th>\n",
       "      <th></th>\n",
       "    </tr>\n",
       "  </thead>\n",
       "  <tbody>\n",
       "    <tr>\n",
       "      <th>Philippines</th>\n",
       "      <td>72</td>\n",
       "      <td>306</td>\n",
       "      <td>210</td>\n",
       "      <td>294</td>\n",
       "    </tr>\n",
       "    <tr>\n",
       "      <th>Germany</th>\n",
       "      <td>96</td>\n",
       "      <td>158</td>\n",
       "      <td>53</td>\n",
       "      <td>233</td>\n",
       "    </tr>\n",
       "    <tr>\n",
       "      <th>France</th>\n",
       "      <td>118</td>\n",
       "      <td>147</td>\n",
       "      <td>73</td>\n",
       "      <td>229</td>\n",
       "    </tr>\n",
       "    <tr>\n",
       "      <th>India</th>\n",
       "      <td>756</td>\n",
       "      <td>858</td>\n",
       "      <td>528</td>\n",
       "      <td>553</td>\n",
       "    </tr>\n",
       "    <tr>\n",
       "      <th>USA</th>\n",
       "      <td>2654</td>\n",
       "      <td>3000</td>\n",
       "      <td>2737</td>\n",
       "      <td>3840</td>\n",
       "    </tr>\n",
       "    <tr>\n",
       "      <th>Mexico</th>\n",
       "      <td>52</td>\n",
       "      <td>35</td>\n",
       "      <td>35</td>\n",
       "      <td>91</td>\n",
       "    </tr>\n",
       "    <tr>\n",
       "      <th>Indonesia</th>\n",
       "      <td>22</td>\n",
       "      <td>33</td>\n",
       "      <td>46</td>\n",
       "      <td>450</td>\n",
       "    </tr>\n",
       "    <tr>\n",
       "      <th>UK</th>\n",
       "      <td>762</td>\n",
       "      <td>737</td>\n",
       "      <td>572</td>\n",
       "      <td>906</td>\n",
       "    </tr>\n",
       "    <tr>\n",
       "      <th>Canada</th>\n",
       "      <td>220</td>\n",
       "      <td>221</td>\n",
       "      <td>189</td>\n",
       "      <td>289</td>\n",
       "    </tr>\n",
       "    <tr>\n",
       "      <th>Kenya</th>\n",
       "      <td>50</td>\n",
       "      <td>93</td>\n",
       "      <td>41</td>\n",
       "      <td>53</td>\n",
       "    </tr>\n",
       "    <tr>\n",
       "      <th>Australia</th>\n",
       "      <td>104</td>\n",
       "      <td>114</td>\n",
       "      <td>73</td>\n",
       "      <td>146</td>\n",
       "    </tr>\n",
       "  </tbody>\n",
       "</table>\n",
       "</div>"
      ],
      "text/plain": [
       "             Space Research  Astronomy  Astrology  Satellites / Telescopes\n",
       "country                                                                   \n",
       "Philippines              72        306        210                      294\n",
       "Germany                  96        158         53                      233\n",
       "France                  118        147         73                      229\n",
       "India                   756        858        528                      553\n",
       "USA                    2654       3000       2737                     3840\n",
       "Mexico                   52         35         35                       91\n",
       "Indonesia                22         33         46                      450\n",
       "UK                      762        737        572                      906\n",
       "Canada                  220        221        189                      289\n",
       "Kenya                    50         93         41                       53\n",
       "Australia               104        114         73                      146"
      ]
     },
     "execution_count": 263,
     "metadata": {},
     "output_type": "execute_result"
    }
   ],
   "source": [
    "%%time\n",
    "df_countries_pivotted_toPandas = df_top_50_countries_grouped.groupBy(\"country\").pivot(\n",
    "    \"dominant_topic_named\", distinct_column_vals\n",
    ").sum(\"count\").withColumnRenamed(\n",
    "    \"Activities related to Space Research\", \"Space Research\"\n",
    ").withColumnRenamed(\n",
    "    \"Satellites and Telescopes\", \"Satellites / Telescopes\"\n",
    ").toPandas().set_index(\"country\")\n",
    "df_countries_pivotted_toPandas"
   ]
  },
  {
   "cell_type": "markdown",
   "id": "0c93e0b6",
   "metadata": {},
   "source": [
    "Re-shape data into format suitable for PlotLy `go.Heatmap()`"
   ]
  },
  {
   "cell_type": "code",
   "execution_count": null,
   "id": "001d512d",
   "metadata": {},
   "outputs": [],
   "source": [
    "%%time\n",
    "df_annot = df_countries_pivotted_toPandas.copy()\n",
    "for col in df_annot:\n",
    "    df_annot[col] = df_annot[col].map(\"{:,}\".format)\n",
    "data_dict = vh.convert_df_to_format_for_plotly_heatmap(\n",
    "    df_countries_pivotted_toPandas, df_annot, True,\n",
    ")"
   ]
  },
  {
   "cell_type": "markdown",
   "id": "16680fab",
   "metadata": {},
   "source": [
    "Plot the heatmap from the reshaped data"
   ]
  },
  {
   "cell_type": "code",
   "execution_count": 261,
   "id": "01fb3da7",
   "metadata": {},
   "outputs": [
    {
     "name": "stdout",
     "output_type": "stream",
     "text": [
      "CPU times: user 37.2 ms, sys: 3.55 ms, total: 40.7 ms\n",
      "Wall time: 45 ms\n"
     ]
    },
    {
     "data": {
      "application/vnd.plotly.v1+json": {
       "config": {
        "plotlyServerURL": "https://plot.ly"
       },
       "data": [
        {
         "colorscale": [
          [
           0,
           "rgb(255,255,204)"
          ],
          [
           0.125,
           "rgb(255,237,160)"
          ],
          [
           0.25,
           "rgb(254,217,118)"
          ],
          [
           0.375,
           "rgb(254,178,76)"
          ],
          [
           0.5,
           "rgb(253,141,60)"
          ],
          [
           0.625,
           "rgb(252,78,42)"
          ],
          [
           0.75,
           "rgb(227,26,28)"
          ],
          [
           0.875,
           "rgb(189,0,38)"
          ],
          [
           1,
           "rgb(128,0,38)"
          ]
         ],
         "hoverinfo": "skip",
         "reversescale": false,
         "showscale": false,
         "type": "heatmap",
         "x": [
          "Space Research",
          "Astronomy",
          "Astrology",
          "Satellites / Telescopes"
         ],
         "y": [
          "Philippines",
          "Germany",
          "France",
          "India",
          "USA",
          "Mexico",
          "Indonesia",
          "UK",
          "Canada",
          "Kenya",
          "Australia"
         ],
         "z": [
          [
           4.290459441148391,
           5.726847747587197,
           5.351858133476067,
           5.68697535633982
          ],
          [
           4.574710978503383,
           5.0689042022202315,
           3.9889840465642745,
           5.455321115357702
          ],
          [
           4.77912349311153,
           4.997212273764115,
           4.304065093204169,
           5.438079308923196
          ],
          [
           6.6293632534374485,
           6.755768921984256,
           6.270988431858299,
           6.317164686747284
          ],
          [
           7.884199933676039,
           8.006700845440367,
           7.914983005848394,
           8.253488028345904
          ],
          [
           3.970291913552122,
           3.58351893845611,
           3.58351893845611,
           4.5217885770490405
          ],
          [
           3.1354942159291497,
           3.5263605246161616,
           3.8501476017100584,
           6.111467339502679
          ],
          [
           6.637258031284457,
           6.6039438246004725,
           6.35088571671474,
           6.810142450115136
          ],
          [
           5.3981627015177525,
           5.402677381872279,
           5.247024072160486,
           5.66988092298052
          ],
          [
           3.9318256327243257,
           4.543294782270004,
           3.7376696182833684,
           3.9889840465642745
          ],
          [
           4.653960350157523,
           4.74493212836325,
           4.304065093204169,
           4.990432586778736
          ]
         ]
        }
       ],
       "layout": {
        "annotations": [
         {
          "font": {
           "color": "#454545"
          },
          "showarrow": false,
          "text": "72",
          "x": "Space Research",
          "xref": "x",
          "y": "Philippines",
          "yref": "y"
         },
         {
          "font": {
           "color": "white"
          },
          "showarrow": false,
          "text": "306",
          "x": "Astronomy",
          "xref": "x",
          "y": "Philippines",
          "yref": "y"
         },
         {
          "font": {
           "color": "#454545"
          },
          "showarrow": false,
          "text": "210",
          "x": "Astrology",
          "xref": "x",
          "y": "Philippines",
          "yref": "y"
         },
         {
          "font": {
           "color": "#454545"
          },
          "showarrow": false,
          "text": "294",
          "x": "Satellites / Telescopes",
          "xref": "x",
          "y": "Philippines",
          "yref": "y"
         },
         {
          "font": {
           "color": "#454545"
          },
          "showarrow": false,
          "text": "96",
          "x": "Space Research",
          "xref": "x",
          "y": "Germany",
          "yref": "y"
         },
         {
          "font": {
           "color": "#454545"
          },
          "showarrow": false,
          "text": "158",
          "x": "Astronomy",
          "xref": "x",
          "y": "Germany",
          "yref": "y"
         },
         {
          "font": {
           "color": "#454545"
          },
          "showarrow": false,
          "text": "53",
          "x": "Astrology",
          "xref": "x",
          "y": "Germany",
          "yref": "y"
         },
         {
          "font": {
           "color": "#454545"
          },
          "showarrow": false,
          "text": "233",
          "x": "Satellites / Telescopes",
          "xref": "x",
          "y": "Germany",
          "yref": "y"
         },
         {
          "font": {
           "color": "#454545"
          },
          "showarrow": false,
          "text": "118",
          "x": "Space Research",
          "xref": "x",
          "y": "France",
          "yref": "y"
         },
         {
          "font": {
           "color": "#454545"
          },
          "showarrow": false,
          "text": "147",
          "x": "Astronomy",
          "xref": "x",
          "y": "France",
          "yref": "y"
         },
         {
          "font": {
           "color": "#454545"
          },
          "showarrow": false,
          "text": "73",
          "x": "Astrology",
          "xref": "x",
          "y": "France",
          "yref": "y"
         },
         {
          "font": {
           "color": "#454545"
          },
          "showarrow": false,
          "text": "229",
          "x": "Satellites / Telescopes",
          "xref": "x",
          "y": "France",
          "yref": "y"
         },
         {
          "font": {
           "color": "white"
          },
          "showarrow": false,
          "text": "756",
          "x": "Space Research",
          "xref": "x",
          "y": "India",
          "yref": "y"
         },
         {
          "font": {
           "color": "white"
          },
          "showarrow": false,
          "text": "858",
          "x": "Astronomy",
          "xref": "x",
          "y": "India",
          "yref": "y"
         },
         {
          "font": {
           "color": "white"
          },
          "showarrow": false,
          "text": "528",
          "x": "Astrology",
          "xref": "x",
          "y": "India",
          "yref": "y"
         },
         {
          "font": {
           "color": "white"
          },
          "showarrow": false,
          "text": "553",
          "x": "Satellites / Telescopes",
          "xref": "x",
          "y": "India",
          "yref": "y"
         },
         {
          "font": {
           "color": "white"
          },
          "showarrow": false,
          "text": "2,654",
          "x": "Space Research",
          "xref": "x",
          "y": "USA",
          "yref": "y"
         },
         {
          "font": {
           "color": "white"
          },
          "showarrow": false,
          "text": "3,000",
          "x": "Astronomy",
          "xref": "x",
          "y": "USA",
          "yref": "y"
         },
         {
          "font": {
           "color": "white"
          },
          "showarrow": false,
          "text": "2,737",
          "x": "Astrology",
          "xref": "x",
          "y": "USA",
          "yref": "y"
         },
         {
          "font": {
           "color": "white"
          },
          "showarrow": false,
          "text": "3,840",
          "x": "Satellites / Telescopes",
          "xref": "x",
          "y": "USA",
          "yref": "y"
         },
         {
          "font": {
           "color": "#454545"
          },
          "showarrow": false,
          "text": "52",
          "x": "Space Research",
          "xref": "x",
          "y": "Mexico",
          "yref": "y"
         },
         {
          "font": {
           "color": "#454545"
          },
          "showarrow": false,
          "text": "35",
          "x": "Astronomy",
          "xref": "x",
          "y": "Mexico",
          "yref": "y"
         },
         {
          "font": {
           "color": "#454545"
          },
          "showarrow": false,
          "text": "35",
          "x": "Astrology",
          "xref": "x",
          "y": "Mexico",
          "yref": "y"
         },
         {
          "font": {
           "color": "#454545"
          },
          "showarrow": false,
          "text": "91",
          "x": "Satellites / Telescopes",
          "xref": "x",
          "y": "Mexico",
          "yref": "y"
         },
         {
          "font": {
           "color": "#454545"
          },
          "showarrow": false,
          "text": "22",
          "x": "Space Research",
          "xref": "x",
          "y": "Indonesia",
          "yref": "y"
         },
         {
          "font": {
           "color": "#454545"
          },
          "showarrow": false,
          "text": "33",
          "x": "Astronomy",
          "xref": "x",
          "y": "Indonesia",
          "yref": "y"
         },
         {
          "font": {
           "color": "#454545"
          },
          "showarrow": false,
          "text": "46",
          "x": "Astrology",
          "xref": "x",
          "y": "Indonesia",
          "yref": "y"
         },
         {
          "font": {
           "color": "white"
          },
          "showarrow": false,
          "text": "450",
          "x": "Satellites / Telescopes",
          "xref": "x",
          "y": "Indonesia",
          "yref": "y"
         },
         {
          "font": {
           "color": "white"
          },
          "showarrow": false,
          "text": "762",
          "x": "Space Research",
          "xref": "x",
          "y": "UK",
          "yref": "y"
         },
         {
          "font": {
           "color": "white"
          },
          "showarrow": false,
          "text": "737",
          "x": "Astronomy",
          "xref": "x",
          "y": "UK",
          "yref": "y"
         },
         {
          "font": {
           "color": "white"
          },
          "showarrow": false,
          "text": "572",
          "x": "Astrology",
          "xref": "x",
          "y": "UK",
          "yref": "y"
         },
         {
          "font": {
           "color": "white"
          },
          "showarrow": false,
          "text": "906",
          "x": "Satellites / Telescopes",
          "xref": "x",
          "y": "UK",
          "yref": "y"
         },
         {
          "font": {
           "color": "#454545"
          },
          "showarrow": false,
          "text": "220",
          "x": "Space Research",
          "xref": "x",
          "y": "Canada",
          "yref": "y"
         },
         {
          "font": {
           "color": "#454545"
          },
          "showarrow": false,
          "text": "221",
          "x": "Astronomy",
          "xref": "x",
          "y": "Canada",
          "yref": "y"
         },
         {
          "font": {
           "color": "#454545"
          },
          "showarrow": false,
          "text": "189",
          "x": "Astrology",
          "xref": "x",
          "y": "Canada",
          "yref": "y"
         },
         {
          "font": {
           "color": "#454545"
          },
          "showarrow": false,
          "text": "289",
          "x": "Satellites / Telescopes",
          "xref": "x",
          "y": "Canada",
          "yref": "y"
         },
         {
          "font": {
           "color": "#454545"
          },
          "showarrow": false,
          "text": "50",
          "x": "Space Research",
          "xref": "x",
          "y": "Kenya",
          "yref": "y"
         },
         {
          "font": {
           "color": "#454545"
          },
          "showarrow": false,
          "text": "93",
          "x": "Astronomy",
          "xref": "x",
          "y": "Kenya",
          "yref": "y"
         },
         {
          "font": {
           "color": "#454545"
          },
          "showarrow": false,
          "text": "41",
          "x": "Astrology",
          "xref": "x",
          "y": "Kenya",
          "yref": "y"
         },
         {
          "font": {
           "color": "#454545"
          },
          "showarrow": false,
          "text": "53",
          "x": "Satellites / Telescopes",
          "xref": "x",
          "y": "Kenya",
          "yref": "y"
         },
         {
          "font": {
           "color": "#454545"
          },
          "showarrow": false,
          "text": "104",
          "x": "Space Research",
          "xref": "x",
          "y": "Australia",
          "yref": "y"
         },
         {
          "font": {
           "color": "#454545"
          },
          "showarrow": false,
          "text": "114",
          "x": "Astronomy",
          "xref": "x",
          "y": "Australia",
          "yref": "y"
         },
         {
          "font": {
           "color": "#454545"
          },
          "showarrow": false,
          "text": "73",
          "x": "Astrology",
          "xref": "x",
          "y": "Australia",
          "yref": "y"
         },
         {
          "font": {
           "color": "#454545"
          },
          "showarrow": false,
          "text": "146",
          "x": "Satellites / Telescopes",
          "xref": "x",
          "y": "Australia",
          "yref": "y"
         }
        ],
        "autosize": false,
        "font": {
         "size": 16
        },
        "height": 450,
        "margin": {
         "b": 0,
         "l": 30,
         "pad": 0,
         "r": 0,
         "t": 0
        },
        "paper_bgcolor": "rgba(0, 0, 0, 0)",
        "plot_bgcolor": "rgba(0, 0, 0, 0)",
        "template": {
         "data": {
          "bar": [
           {
            "error_x": {
             "color": "#2a3f5f"
            },
            "error_y": {
             "color": "#2a3f5f"
            },
            "marker": {
             "line": {
              "color": "#E5ECF6",
              "width": 0.5
             },
             "pattern": {
              "fillmode": "overlay",
              "size": 10,
              "solidity": 0.2
             }
            },
            "type": "bar"
           }
          ],
          "barpolar": [
           {
            "marker": {
             "line": {
              "color": "#E5ECF6",
              "width": 0.5
             },
             "pattern": {
              "fillmode": "overlay",
              "size": 10,
              "solidity": 0.2
             }
            },
            "type": "barpolar"
           }
          ],
          "carpet": [
           {
            "aaxis": {
             "endlinecolor": "#2a3f5f",
             "gridcolor": "white",
             "linecolor": "white",
             "minorgridcolor": "white",
             "startlinecolor": "#2a3f5f"
            },
            "baxis": {
             "endlinecolor": "#2a3f5f",
             "gridcolor": "white",
             "linecolor": "white",
             "minorgridcolor": "white",
             "startlinecolor": "#2a3f5f"
            },
            "type": "carpet"
           }
          ],
          "choropleth": [
           {
            "colorbar": {
             "outlinewidth": 0,
             "ticks": ""
            },
            "type": "choropleth"
           }
          ],
          "contour": [
           {
            "colorbar": {
             "outlinewidth": 0,
             "ticks": ""
            },
            "colorscale": [
             [
              0,
              "#0d0887"
             ],
             [
              0.1111111111111111,
              "#46039f"
             ],
             [
              0.2222222222222222,
              "#7201a8"
             ],
             [
              0.3333333333333333,
              "#9c179e"
             ],
             [
              0.4444444444444444,
              "#bd3786"
             ],
             [
              0.5555555555555556,
              "#d8576b"
             ],
             [
              0.6666666666666666,
              "#ed7953"
             ],
             [
              0.7777777777777778,
              "#fb9f3a"
             ],
             [
              0.8888888888888888,
              "#fdca26"
             ],
             [
              1,
              "#f0f921"
             ]
            ],
            "type": "contour"
           }
          ],
          "contourcarpet": [
           {
            "colorbar": {
             "outlinewidth": 0,
             "ticks": ""
            },
            "type": "contourcarpet"
           }
          ],
          "heatmap": [
           {
            "colorbar": {
             "outlinewidth": 0,
             "ticks": ""
            },
            "colorscale": [
             [
              0,
              "#0d0887"
             ],
             [
              0.1111111111111111,
              "#46039f"
             ],
             [
              0.2222222222222222,
              "#7201a8"
             ],
             [
              0.3333333333333333,
              "#9c179e"
             ],
             [
              0.4444444444444444,
              "#bd3786"
             ],
             [
              0.5555555555555556,
              "#d8576b"
             ],
             [
              0.6666666666666666,
              "#ed7953"
             ],
             [
              0.7777777777777778,
              "#fb9f3a"
             ],
             [
              0.8888888888888888,
              "#fdca26"
             ],
             [
              1,
              "#f0f921"
             ]
            ],
            "type": "heatmap"
           }
          ],
          "heatmapgl": [
           {
            "colorbar": {
             "outlinewidth": 0,
             "ticks": ""
            },
            "colorscale": [
             [
              0,
              "#0d0887"
             ],
             [
              0.1111111111111111,
              "#46039f"
             ],
             [
              0.2222222222222222,
              "#7201a8"
             ],
             [
              0.3333333333333333,
              "#9c179e"
             ],
             [
              0.4444444444444444,
              "#bd3786"
             ],
             [
              0.5555555555555556,
              "#d8576b"
             ],
             [
              0.6666666666666666,
              "#ed7953"
             ],
             [
              0.7777777777777778,
              "#fb9f3a"
             ],
             [
              0.8888888888888888,
              "#fdca26"
             ],
             [
              1,
              "#f0f921"
             ]
            ],
            "type": "heatmapgl"
           }
          ],
          "histogram": [
           {
            "marker": {
             "pattern": {
              "fillmode": "overlay",
              "size": 10,
              "solidity": 0.2
             }
            },
            "type": "histogram"
           }
          ],
          "histogram2d": [
           {
            "colorbar": {
             "outlinewidth": 0,
             "ticks": ""
            },
            "colorscale": [
             [
              0,
              "#0d0887"
             ],
             [
              0.1111111111111111,
              "#46039f"
             ],
             [
              0.2222222222222222,
              "#7201a8"
             ],
             [
              0.3333333333333333,
              "#9c179e"
             ],
             [
              0.4444444444444444,
              "#bd3786"
             ],
             [
              0.5555555555555556,
              "#d8576b"
             ],
             [
              0.6666666666666666,
              "#ed7953"
             ],
             [
              0.7777777777777778,
              "#fb9f3a"
             ],
             [
              0.8888888888888888,
              "#fdca26"
             ],
             [
              1,
              "#f0f921"
             ]
            ],
            "type": "histogram2d"
           }
          ],
          "histogram2dcontour": [
           {
            "colorbar": {
             "outlinewidth": 0,
             "ticks": ""
            },
            "colorscale": [
             [
              0,
              "#0d0887"
             ],
             [
              0.1111111111111111,
              "#46039f"
             ],
             [
              0.2222222222222222,
              "#7201a8"
             ],
             [
              0.3333333333333333,
              "#9c179e"
             ],
             [
              0.4444444444444444,
              "#bd3786"
             ],
             [
              0.5555555555555556,
              "#d8576b"
             ],
             [
              0.6666666666666666,
              "#ed7953"
             ],
             [
              0.7777777777777778,
              "#fb9f3a"
             ],
             [
              0.8888888888888888,
              "#fdca26"
             ],
             [
              1,
              "#f0f921"
             ]
            ],
            "type": "histogram2dcontour"
           }
          ],
          "mesh3d": [
           {
            "colorbar": {
             "outlinewidth": 0,
             "ticks": ""
            },
            "type": "mesh3d"
           }
          ],
          "parcoords": [
           {
            "line": {
             "colorbar": {
              "outlinewidth": 0,
              "ticks": ""
             }
            },
            "type": "parcoords"
           }
          ],
          "pie": [
           {
            "automargin": true,
            "type": "pie"
           }
          ],
          "scatter": [
           {
            "marker": {
             "colorbar": {
              "outlinewidth": 0,
              "ticks": ""
             }
            },
            "type": "scatter"
           }
          ],
          "scatter3d": [
           {
            "line": {
             "colorbar": {
              "outlinewidth": 0,
              "ticks": ""
             }
            },
            "marker": {
             "colorbar": {
              "outlinewidth": 0,
              "ticks": ""
             }
            },
            "type": "scatter3d"
           }
          ],
          "scattercarpet": [
           {
            "marker": {
             "colorbar": {
              "outlinewidth": 0,
              "ticks": ""
             }
            },
            "type": "scattercarpet"
           }
          ],
          "scattergeo": [
           {
            "marker": {
             "colorbar": {
              "outlinewidth": 0,
              "ticks": ""
             }
            },
            "type": "scattergeo"
           }
          ],
          "scattergl": [
           {
            "marker": {
             "colorbar": {
              "outlinewidth": 0,
              "ticks": ""
             }
            },
            "type": "scattergl"
           }
          ],
          "scattermapbox": [
           {
            "marker": {
             "colorbar": {
              "outlinewidth": 0,
              "ticks": ""
             }
            },
            "type": "scattermapbox"
           }
          ],
          "scatterpolar": [
           {
            "marker": {
             "colorbar": {
              "outlinewidth": 0,
              "ticks": ""
             }
            },
            "type": "scatterpolar"
           }
          ],
          "scatterpolargl": [
           {
            "marker": {
             "colorbar": {
              "outlinewidth": 0,
              "ticks": ""
             }
            },
            "type": "scatterpolargl"
           }
          ],
          "scatterternary": [
           {
            "marker": {
             "colorbar": {
              "outlinewidth": 0,
              "ticks": ""
             }
            },
            "type": "scatterternary"
           }
          ],
          "surface": [
           {
            "colorbar": {
             "outlinewidth": 0,
             "ticks": ""
            },
            "colorscale": [
             [
              0,
              "#0d0887"
             ],
             [
              0.1111111111111111,
              "#46039f"
             ],
             [
              0.2222222222222222,
              "#7201a8"
             ],
             [
              0.3333333333333333,
              "#9c179e"
             ],
             [
              0.4444444444444444,
              "#bd3786"
             ],
             [
              0.5555555555555556,
              "#d8576b"
             ],
             [
              0.6666666666666666,
              "#ed7953"
             ],
             [
              0.7777777777777778,
              "#fb9f3a"
             ],
             [
              0.8888888888888888,
              "#fdca26"
             ],
             [
              1,
              "#f0f921"
             ]
            ],
            "type": "surface"
           }
          ],
          "table": [
           {
            "cells": {
             "fill": {
              "color": "#EBF0F8"
             },
             "line": {
              "color": "white"
             }
            },
            "header": {
             "fill": {
              "color": "#C8D4E3"
             },
             "line": {
              "color": "white"
             }
            },
            "type": "table"
           }
          ]
         },
         "layout": {
          "annotationdefaults": {
           "arrowcolor": "#2a3f5f",
           "arrowhead": 0,
           "arrowwidth": 1
          },
          "autotypenumbers": "strict",
          "coloraxis": {
           "colorbar": {
            "outlinewidth": 0,
            "ticks": ""
           }
          },
          "colorscale": {
           "diverging": [
            [
             0,
             "#8e0152"
            ],
            [
             0.1,
             "#c51b7d"
            ],
            [
             0.2,
             "#de77ae"
            ],
            [
             0.3,
             "#f1b6da"
            ],
            [
             0.4,
             "#fde0ef"
            ],
            [
             0.5,
             "#f7f7f7"
            ],
            [
             0.6,
             "#e6f5d0"
            ],
            [
             0.7,
             "#b8e186"
            ],
            [
             0.8,
             "#7fbc41"
            ],
            [
             0.9,
             "#4d9221"
            ],
            [
             1,
             "#276419"
            ]
           ],
           "sequential": [
            [
             0,
             "#0d0887"
            ],
            [
             0.1111111111111111,
             "#46039f"
            ],
            [
             0.2222222222222222,
             "#7201a8"
            ],
            [
             0.3333333333333333,
             "#9c179e"
            ],
            [
             0.4444444444444444,
             "#bd3786"
            ],
            [
             0.5555555555555556,
             "#d8576b"
            ],
            [
             0.6666666666666666,
             "#ed7953"
            ],
            [
             0.7777777777777778,
             "#fb9f3a"
            ],
            [
             0.8888888888888888,
             "#fdca26"
            ],
            [
             1,
             "#f0f921"
            ]
           ],
           "sequentialminus": [
            [
             0,
             "#0d0887"
            ],
            [
             0.1111111111111111,
             "#46039f"
            ],
            [
             0.2222222222222222,
             "#7201a8"
            ],
            [
             0.3333333333333333,
             "#9c179e"
            ],
            [
             0.4444444444444444,
             "#bd3786"
            ],
            [
             0.5555555555555556,
             "#d8576b"
            ],
            [
             0.6666666666666666,
             "#ed7953"
            ],
            [
             0.7777777777777778,
             "#fb9f3a"
            ],
            [
             0.8888888888888888,
             "#fdca26"
            ],
            [
             1,
             "#f0f921"
            ]
           ]
          },
          "colorway": [
           "#636efa",
           "#EF553B",
           "#00cc96",
           "#ab63fa",
           "#FFA15A",
           "#19d3f3",
           "#FF6692",
           "#B6E880",
           "#FF97FF",
           "#FECB52"
          ],
          "font": {
           "color": "#2a3f5f"
          },
          "geo": {
           "bgcolor": "white",
           "lakecolor": "white",
           "landcolor": "#E5ECF6",
           "showlakes": true,
           "showland": true,
           "subunitcolor": "white"
          },
          "hoverlabel": {
           "align": "left"
          },
          "hovermode": "closest",
          "mapbox": {
           "style": "light"
          },
          "paper_bgcolor": "white",
          "plot_bgcolor": "#E5ECF6",
          "polar": {
           "angularaxis": {
            "gridcolor": "white",
            "linecolor": "white",
            "ticks": ""
           },
           "bgcolor": "#E5ECF6",
           "radialaxis": {
            "gridcolor": "white",
            "linecolor": "white",
            "ticks": ""
           }
          },
          "scene": {
           "xaxis": {
            "backgroundcolor": "#E5ECF6",
            "gridcolor": "white",
            "gridwidth": 2,
            "linecolor": "white",
            "showbackground": true,
            "ticks": "",
            "zerolinecolor": "white"
           },
           "yaxis": {
            "backgroundcolor": "#E5ECF6",
            "gridcolor": "white",
            "gridwidth": 2,
            "linecolor": "white",
            "showbackground": true,
            "ticks": "",
            "zerolinecolor": "white"
           },
           "zaxis": {
            "backgroundcolor": "#E5ECF6",
            "gridcolor": "white",
            "gridwidth": 2,
            "linecolor": "white",
            "showbackground": true,
            "ticks": "",
            "zerolinecolor": "white"
           }
          },
          "shapedefaults": {
           "line": {
            "color": "#2a3f5f"
           }
          },
          "ternary": {
           "aaxis": {
            "gridcolor": "white",
            "linecolor": "white",
            "ticks": ""
           },
           "baxis": {
            "gridcolor": "white",
            "linecolor": "white",
            "ticks": ""
           },
           "bgcolor": "#E5ECF6",
           "caxis": {
            "gridcolor": "white",
            "linecolor": "white",
            "ticks": ""
           }
          },
          "title": {
           "x": 0.05
          },
          "xaxis": {
           "automargin": true,
           "gridcolor": "white",
           "linecolor": "white",
           "ticks": "",
           "title": {
            "standoff": 15
           },
           "zerolinecolor": "white",
           "zerolinewidth": 2
          },
          "yaxis": {
           "automargin": true,
           "gridcolor": "white",
           "linecolor": "white",
           "ticks": "",
           "title": {
            "standoff": 15
           },
           "zerolinecolor": "white",
           "zerolinewidth": 2
          }
         }
        },
        "width": 900,
        "xaxis": {
         "autorange": true,
         "dtick": 1,
         "gridcolor": "rgb(0, 0, 0)",
         "range": [
          -0.5,
          3.5
         ],
         "side": "top",
         "tickangle": 0,
         "tickfont": {
          "color": "rgb(92,90,90)",
          "family": "Arial",
          "size": 18
         },
         "ticks": "",
         "type": "category"
        },
        "yaxis": {
         "autorange": true,
         "dtick": 1,
         "range": [
          -0.5,
          10.5
         ],
         "tickfont": {
          "color": "rgb(92,90,90)",
          "family": "Arial",
          "size": 18
         },
         "ticks": "",
         "ticksuffix": "  ",
         "type": "category"
        }
       }
      },
      "image/png": "[encoded data removed]",
      "text/html": [
       "<div>                            <div id=\"86628acf-fc37-43b4-97b5-1b9028093de2\" class=\"plotly-graph-div\" style=\"height:525px; width:900px;\"></div>            <script type=\"text/javascript\">                require([\"plotly\"], function(Plotly) {                    window.PLOTLYENV=window.PLOTLYENV || {};                                    if (document.getElementById(\"86628acf-fc37-43b4-97b5-1b9028093de2\")) {                    Plotly.newPlot(                        \"86628acf-fc37-43b4-97b5-1b9028093de2\",                        [{\"colorscale\":[[0.0,\"rgb(255,255,204)\"],[0.125,\"rgb(255,237,160)\"],[0.25,\"rgb(254,217,118)\"],[0.375,\"rgb(254,178,76)\"],[0.5,\"rgb(253,141,60)\"],[0.625,\"rgb(252,78,42)\"],[0.75,\"rgb(227,26,28)\"],[0.875,\"rgb(189,0,38)\"],[1.0,\"rgb(128,0,38)\"]],\"hoverinfo\":\"skip\",\"reversescale\":false,\"showscale\":false,\"x\":[\"Space Research\",\"Astronomy\",\"Astrology\",\"Satellites / Telescopes\"],\"y\":[\"Philippines\",\"Germany\",\"France\",\"India\",\"USA\",\"Mexico\",\"Indonesia\",\"UK\",\"Canada\",\"Kenya\",\"Australia\"],\"z\":[[4.290459441148391,5.726847747587197,5.351858133476067,5.68697535633982],[4.574710978503383,5.0689042022202315,3.9889840465642745,5.455321115357702],[4.77912349311153,4.997212273764115,4.304065093204169,5.438079308923196],[6.6293632534374485,6.755768921984256,6.270988431858299,6.317164686747284],[7.884199933676039,8.006700845440367,7.914983005848394,8.253488028345904],[3.970291913552122,3.58351893845611,3.58351893845611,4.5217885770490405],[3.1354942159291497,3.5263605246161616,3.8501476017100584,6.111467339502679],[6.637258031284457,6.6039438246004725,6.35088571671474,6.810142450115136],[5.3981627015177525,5.402677381872279,5.247024072160486,5.66988092298052],[3.9318256327243257,4.543294782270004,3.7376696182833684,3.9889840465642745],[4.653960350157523,4.74493212836325,4.304065093204169,4.990432586778736]],\"type\":\"heatmap\"}],                        {\"annotations\":[{\"font\":{\"color\":\"#454545\"},\"showarrow\":false,\"text\":\"72\",\"x\":\"Space Research\",\"xref\":\"x\",\"y\":\"Philippines\",\"yref\":\"y\"},{\"font\":{\"color\":\"white\"},\"showarrow\":false,\"text\":\"306\",\"x\":\"Astronomy\",\"xref\":\"x\",\"y\":\"Philippines\",\"yref\":\"y\"},{\"font\":{\"color\":\"#454545\"},\"showarrow\":false,\"text\":\"210\",\"x\":\"Astrology\",\"xref\":\"x\",\"y\":\"Philippines\",\"yref\":\"y\"},{\"font\":{\"color\":\"#454545\"},\"showarrow\":false,\"text\":\"294\",\"x\":\"Satellites / Telescopes\",\"xref\":\"x\",\"y\":\"Philippines\",\"yref\":\"y\"},{\"font\":{\"color\":\"#454545\"},\"showarrow\":false,\"text\":\"96\",\"x\":\"Space Research\",\"xref\":\"x\",\"y\":\"Germany\",\"yref\":\"y\"},{\"font\":{\"color\":\"#454545\"},\"showarrow\":false,\"text\":\"158\",\"x\":\"Astronomy\",\"xref\":\"x\",\"y\":\"Germany\",\"yref\":\"y\"},{\"font\":{\"color\":\"#454545\"},\"showarrow\":false,\"text\":\"53\",\"x\":\"Astrology\",\"xref\":\"x\",\"y\":\"Germany\",\"yref\":\"y\"},{\"font\":{\"color\":\"#454545\"},\"showarrow\":false,\"text\":\"233\",\"x\":\"Satellites / Telescopes\",\"xref\":\"x\",\"y\":\"Germany\",\"yref\":\"y\"},{\"font\":{\"color\":\"#454545\"},\"showarrow\":false,\"text\":\"118\",\"x\":\"Space Research\",\"xref\":\"x\",\"y\":\"France\",\"yref\":\"y\"},{\"font\":{\"color\":\"#454545\"},\"showarrow\":false,\"text\":\"147\",\"x\":\"Astronomy\",\"xref\":\"x\",\"y\":\"France\",\"yref\":\"y\"},{\"font\":{\"color\":\"#454545\"},\"showarrow\":false,\"text\":\"73\",\"x\":\"Astrology\",\"xref\":\"x\",\"y\":\"France\",\"yref\":\"y\"},{\"font\":{\"color\":\"#454545\"},\"showarrow\":false,\"text\":\"229\",\"x\":\"Satellites / Telescopes\",\"xref\":\"x\",\"y\":\"France\",\"yref\":\"y\"},{\"font\":{\"color\":\"white\"},\"showarrow\":false,\"text\":\"756\",\"x\":\"Space Research\",\"xref\":\"x\",\"y\":\"India\",\"yref\":\"y\"},{\"font\":{\"color\":\"white\"},\"showarrow\":false,\"text\":\"858\",\"x\":\"Astronomy\",\"xref\":\"x\",\"y\":\"India\",\"yref\":\"y\"},{\"font\":{\"color\":\"white\"},\"showarrow\":false,\"text\":\"528\",\"x\":\"Astrology\",\"xref\":\"x\",\"y\":\"India\",\"yref\":\"y\"},{\"font\":{\"color\":\"white\"},\"showarrow\":false,\"text\":\"553\",\"x\":\"Satellites / Telescopes\",\"xref\":\"x\",\"y\":\"India\",\"yref\":\"y\"},{\"font\":{\"color\":\"white\"},\"showarrow\":false,\"text\":\"2,654\",\"x\":\"Space Research\",\"xref\":\"x\",\"y\":\"USA\",\"yref\":\"y\"},{\"font\":{\"color\":\"white\"},\"showarrow\":false,\"text\":\"3,000\",\"x\":\"Astronomy\",\"xref\":\"x\",\"y\":\"USA\",\"yref\":\"y\"},{\"font\":{\"color\":\"white\"},\"showarrow\":false,\"text\":\"2,737\",\"x\":\"Astrology\",\"xref\":\"x\",\"y\":\"USA\",\"yref\":\"y\"},{\"font\":{\"color\":\"white\"},\"showarrow\":false,\"text\":\"3,840\",\"x\":\"Satellites / Telescopes\",\"xref\":\"x\",\"y\":\"USA\",\"yref\":\"y\"},{\"font\":{\"color\":\"#454545\"},\"showarrow\":false,\"text\":\"52\",\"x\":\"Space Research\",\"xref\":\"x\",\"y\":\"Mexico\",\"yref\":\"y\"},{\"font\":{\"color\":\"#454545\"},\"showarrow\":false,\"text\":\"35\",\"x\":\"Astronomy\",\"xref\":\"x\",\"y\":\"Mexico\",\"yref\":\"y\"},{\"font\":{\"color\":\"#454545\"},\"showarrow\":false,\"text\":\"35\",\"x\":\"Astrology\",\"xref\":\"x\",\"y\":\"Mexico\",\"yref\":\"y\"},{\"font\":{\"color\":\"#454545\"},\"showarrow\":false,\"text\":\"91\",\"x\":\"Satellites / Telescopes\",\"xref\":\"x\",\"y\":\"Mexico\",\"yref\":\"y\"},{\"font\":{\"color\":\"#454545\"},\"showarrow\":false,\"text\":\"22\",\"x\":\"Space Research\",\"xref\":\"x\",\"y\":\"Indonesia\",\"yref\":\"y\"},{\"font\":{\"color\":\"#454545\"},\"showarrow\":false,\"text\":\"33\",\"x\":\"Astronomy\",\"xref\":\"x\",\"y\":\"Indonesia\",\"yref\":\"y\"},{\"font\":{\"color\":\"#454545\"},\"showarrow\":false,\"text\":\"46\",\"x\":\"Astrology\",\"xref\":\"x\",\"y\":\"Indonesia\",\"yref\":\"y\"},{\"font\":{\"color\":\"white\"},\"showarrow\":false,\"text\":\"450\",\"x\":\"Satellites / Telescopes\",\"xref\":\"x\",\"y\":\"Indonesia\",\"yref\":\"y\"},{\"font\":{\"color\":\"white\"},\"showarrow\":false,\"text\":\"762\",\"x\":\"Space Research\",\"xref\":\"x\",\"y\":\"UK\",\"yref\":\"y\"},{\"font\":{\"color\":\"white\"},\"showarrow\":false,\"text\":\"737\",\"x\":\"Astronomy\",\"xref\":\"x\",\"y\":\"UK\",\"yref\":\"y\"},{\"font\":{\"color\":\"white\"},\"showarrow\":false,\"text\":\"572\",\"x\":\"Astrology\",\"xref\":\"x\",\"y\":\"UK\",\"yref\":\"y\"},{\"font\":{\"color\":\"white\"},\"showarrow\":false,\"text\":\"906\",\"x\":\"Satellites / Telescopes\",\"xref\":\"x\",\"y\":\"UK\",\"yref\":\"y\"},{\"font\":{\"color\":\"#454545\"},\"showarrow\":false,\"text\":\"220\",\"x\":\"Space Research\",\"xref\":\"x\",\"y\":\"Canada\",\"yref\":\"y\"},{\"font\":{\"color\":\"#454545\"},\"showarrow\":false,\"text\":\"221\",\"x\":\"Astronomy\",\"xref\":\"x\",\"y\":\"Canada\",\"yref\":\"y\"},{\"font\":{\"color\":\"#454545\"},\"showarrow\":false,\"text\":\"189\",\"x\":\"Astrology\",\"xref\":\"x\",\"y\":\"Canada\",\"yref\":\"y\"},{\"font\":{\"color\":\"#454545\"},\"showarrow\":false,\"text\":\"289\",\"x\":\"Satellites / Telescopes\",\"xref\":\"x\",\"y\":\"Canada\",\"yref\":\"y\"},{\"font\":{\"color\":\"#454545\"},\"showarrow\":false,\"text\":\"50\",\"x\":\"Space Research\",\"xref\":\"x\",\"y\":\"Kenya\",\"yref\":\"y\"},{\"font\":{\"color\":\"#454545\"},\"showarrow\":false,\"text\":\"93\",\"x\":\"Astronomy\",\"xref\":\"x\",\"y\":\"Kenya\",\"yref\":\"y\"},{\"font\":{\"color\":\"#454545\"},\"showarrow\":false,\"text\":\"41\",\"x\":\"Astrology\",\"xref\":\"x\",\"y\":\"Kenya\",\"yref\":\"y\"},{\"font\":{\"color\":\"#454545\"},\"showarrow\":false,\"text\":\"53\",\"x\":\"Satellites / Telescopes\",\"xref\":\"x\",\"y\":\"Kenya\",\"yref\":\"y\"},{\"font\":{\"color\":\"#454545\"},\"showarrow\":false,\"text\":\"104\",\"x\":\"Space Research\",\"xref\":\"x\",\"y\":\"Australia\",\"yref\":\"y\"},{\"font\":{\"color\":\"#454545\"},\"showarrow\":false,\"text\":\"114\",\"x\":\"Astronomy\",\"xref\":\"x\",\"y\":\"Australia\",\"yref\":\"y\"},{\"font\":{\"color\":\"#454545\"},\"showarrow\":false,\"text\":\"73\",\"x\":\"Astrology\",\"xref\":\"x\",\"y\":\"Australia\",\"yref\":\"y\"},{\"font\":{\"color\":\"#454545\"},\"showarrow\":false,\"text\":\"146\",\"x\":\"Satellites / Telescopes\",\"xref\":\"x\",\"y\":\"Australia\",\"yref\":\"y\"}],\"xaxis\":{\"dtick\":1,\"gridcolor\":\"rgb(0, 0, 0)\",\"side\":\"top\",\"ticks\":\"\",\"tickfont\":{\"family\":\"Arial\",\"size\":18,\"color\":\"rgb(92,90,90)\"},\"tickangle\":0},\"yaxis\":{\"dtick\":1,\"ticks\":\"\",\"ticksuffix\":\"  \",\"tickfont\":{\"family\":\"Arial\",\"size\":18,\"color\":\"rgb(92,90,90)\"}},\"template\":{\"data\":{\"bar\":[{\"error_x\":{\"color\":\"#2a3f5f\"},\"error_y\":{\"color\":\"#2a3f5f\"},\"marker\":{\"line\":{\"color\":\"#E5ECF6\",\"width\":0.5},\"pattern\":{\"fillmode\":\"overlay\",\"size\":10,\"solidity\":0.2}},\"type\":\"bar\"}],\"barpolar\":[{\"marker\":{\"line\":{\"color\":\"#E5ECF6\",\"width\":0.5},\"pattern\":{\"fillmode\":\"overlay\",\"size\":10,\"solidity\":0.2}},\"type\":\"barpolar\"}],\"carpet\":[{\"aaxis\":{\"endlinecolor\":\"#2a3f5f\",\"gridcolor\":\"white\",\"linecolor\":\"white\",\"minorgridcolor\":\"white\",\"startlinecolor\":\"#2a3f5f\"},\"baxis\":{\"endlinecolor\":\"#2a3f5f\",\"gridcolor\":\"white\",\"linecolor\":\"white\",\"minorgridcolor\":\"white\",\"startlinecolor\":\"#2a3f5f\"},\"type\":\"carpet\"}],\"choropleth\":[{\"colorbar\":{\"outlinewidth\":0,\"ticks\":\"\"},\"type\":\"choropleth\"}],\"contour\":[{\"colorbar\":{\"outlinewidth\":0,\"ticks\":\"\"},\"colorscale\":[[0.0,\"#0d0887\"],[0.1111111111111111,\"#46039f\"],[0.2222222222222222,\"#7201a8\"],[0.3333333333333333,\"#9c179e\"],[0.4444444444444444,\"#bd3786\"],[0.5555555555555556,\"#d8576b\"],[0.6666666666666666,\"#ed7953\"],[0.7777777777777778,\"#fb9f3a\"],[0.8888888888888888,\"#fdca26\"],[1.0,\"#f0f921\"]],\"type\":\"contour\"}],\"contourcarpet\":[{\"colorbar\":{\"outlinewidth\":0,\"ticks\":\"\"},\"type\":\"contourcarpet\"}],\"heatmap\":[{\"colorbar\":{\"outlinewidth\":0,\"ticks\":\"\"},\"colorscale\":[[0.0,\"#0d0887\"],[0.1111111111111111,\"#46039f\"],[0.2222222222222222,\"#7201a8\"],[0.3333333333333333,\"#9c179e\"],[0.4444444444444444,\"#bd3786\"],[0.5555555555555556,\"#d8576b\"],[0.6666666666666666,\"#ed7953\"],[0.7777777777777778,\"#fb9f3a\"],[0.8888888888888888,\"#fdca26\"],[1.0,\"#f0f921\"]],\"type\":\"heatmap\"}],\"heatmapgl\":[{\"colorbar\":{\"outlinewidth\":0,\"ticks\":\"\"},\"colorscale\":[[0.0,\"#0d0887\"],[0.1111111111111111,\"#46039f\"],[0.2222222222222222,\"#7201a8\"],[0.3333333333333333,\"#9c179e\"],[0.4444444444444444,\"#bd3786\"],[0.5555555555555556,\"#d8576b\"],[0.6666666666666666,\"#ed7953\"],[0.7777777777777778,\"#fb9f3a\"],[0.8888888888888888,\"#fdca26\"],[1.0,\"#f0f921\"]],\"type\":\"heatmapgl\"}],\"histogram\":[{\"marker\":{\"pattern\":{\"fillmode\":\"overlay\",\"size\":10,\"solidity\":0.2}},\"type\":\"histogram\"}],\"histogram2d\":[{\"colorbar\":{\"outlinewidth\":0,\"ticks\":\"\"},\"colorscale\":[[0.0,\"#0d0887\"],[0.1111111111111111,\"#46039f\"],[0.2222222222222222,\"#7201a8\"],[0.3333333333333333,\"#9c179e\"],[0.4444444444444444,\"#bd3786\"],[0.5555555555555556,\"#d8576b\"],[0.6666666666666666,\"#ed7953\"],[0.7777777777777778,\"#fb9f3a\"],[0.8888888888888888,\"#fdca26\"],[1.0,\"#f0f921\"]],\"type\":\"histogram2d\"}],\"histogram2dcontour\":[{\"colorbar\":{\"outlinewidth\":0,\"ticks\":\"\"},\"colorscale\":[[0.0,\"#0d0887\"],[0.1111111111111111,\"#46039f\"],[0.2222222222222222,\"#7201a8\"],[0.3333333333333333,\"#9c179e\"],[0.4444444444444444,\"#bd3786\"],[0.5555555555555556,\"#d8576b\"],[0.6666666666666666,\"#ed7953\"],[0.7777777777777778,\"#fb9f3a\"],[0.8888888888888888,\"#fdca26\"],[1.0,\"#f0f921\"]],\"type\":\"histogram2dcontour\"}],\"mesh3d\":[{\"colorbar\":{\"outlinewidth\":0,\"ticks\":\"\"},\"type\":\"mesh3d\"}],\"parcoords\":[{\"line\":{\"colorbar\":{\"outlinewidth\":0,\"ticks\":\"\"}},\"type\":\"parcoords\"}],\"pie\":[{\"automargin\":true,\"type\":\"pie\"}],\"scatter\":[{\"marker\":{\"colorbar\":{\"outlinewidth\":0,\"ticks\":\"\"}},\"type\":\"scatter\"}],\"scatter3d\":[{\"line\":{\"colorbar\":{\"outlinewidth\":0,\"ticks\":\"\"}},\"marker\":{\"colorbar\":{\"outlinewidth\":0,\"ticks\":\"\"}},\"type\":\"scatter3d\"}],\"scattercarpet\":[{\"marker\":{\"colorbar\":{\"outlinewidth\":0,\"ticks\":\"\"}},\"type\":\"scattercarpet\"}],\"scattergeo\":[{\"marker\":{\"colorbar\":{\"outlinewidth\":0,\"ticks\":\"\"}},\"type\":\"scattergeo\"}],\"scattergl\":[{\"marker\":{\"colorbar\":{\"outlinewidth\":0,\"ticks\":\"\"}},\"type\":\"scattergl\"}],\"scattermapbox\":[{\"marker\":{\"colorbar\":{\"outlinewidth\":0,\"ticks\":\"\"}},\"type\":\"scattermapbox\"}],\"scatterpolar\":[{\"marker\":{\"colorbar\":{\"outlinewidth\":0,\"ticks\":\"\"}},\"type\":\"scatterpolar\"}],\"scatterpolargl\":[{\"marker\":{\"colorbar\":{\"outlinewidth\":0,\"ticks\":\"\"}},\"type\":\"scatterpolargl\"}],\"scatterternary\":[{\"marker\":{\"colorbar\":{\"outlinewidth\":0,\"ticks\":\"\"}},\"type\":\"scatterternary\"}],\"surface\":[{\"colorbar\":{\"outlinewidth\":0,\"ticks\":\"\"},\"colorscale\":[[0.0,\"#0d0887\"],[0.1111111111111111,\"#46039f\"],[0.2222222222222222,\"#7201a8\"],[0.3333333333333333,\"#9c179e\"],[0.4444444444444444,\"#bd3786\"],[0.5555555555555556,\"#d8576b\"],[0.6666666666666666,\"#ed7953\"],[0.7777777777777778,\"#fb9f3a\"],[0.8888888888888888,\"#fdca26\"],[1.0,\"#f0f921\"]],\"type\":\"surface\"}],\"table\":[{\"cells\":{\"fill\":{\"color\":\"#EBF0F8\"},\"line\":{\"color\":\"white\"}},\"header\":{\"fill\":{\"color\":\"#C8D4E3\"},\"line\":{\"color\":\"white\"}},\"type\":\"table\"}]},\"layout\":{\"annotationdefaults\":{\"arrowcolor\":\"#2a3f5f\",\"arrowhead\":0,\"arrowwidth\":1},\"autotypenumbers\":\"strict\",\"coloraxis\":{\"colorbar\":{\"outlinewidth\":0,\"ticks\":\"\"}},\"colorscale\":{\"diverging\":[[0,\"#8e0152\"],[0.1,\"#c51b7d\"],[0.2,\"#de77ae\"],[0.3,\"#f1b6da\"],[0.4,\"#fde0ef\"],[0.5,\"#f7f7f7\"],[0.6,\"#e6f5d0\"],[0.7,\"#b8e186\"],[0.8,\"#7fbc41\"],[0.9,\"#4d9221\"],[1,\"#276419\"]],\"sequential\":[[0.0,\"#0d0887\"],[0.1111111111111111,\"#46039f\"],[0.2222222222222222,\"#7201a8\"],[0.3333333333333333,\"#9c179e\"],[0.4444444444444444,\"#bd3786\"],[0.5555555555555556,\"#d8576b\"],[0.6666666666666666,\"#ed7953\"],[0.7777777777777778,\"#fb9f3a\"],[0.8888888888888888,\"#fdca26\"],[1.0,\"#f0f921\"]],\"sequentialminus\":[[0.0,\"#0d0887\"],[0.1111111111111111,\"#46039f\"],[0.2222222222222222,\"#7201a8\"],[0.3333333333333333,\"#9c179e\"],[0.4444444444444444,\"#bd3786\"],[0.5555555555555556,\"#d8576b\"],[0.6666666666666666,\"#ed7953\"],[0.7777777777777778,\"#fb9f3a\"],[0.8888888888888888,\"#fdca26\"],[1.0,\"#f0f921\"]]},\"colorway\":[\"#636efa\",\"#EF553B\",\"#00cc96\",\"#ab63fa\",\"#FFA15A\",\"#19d3f3\",\"#FF6692\",\"#B6E880\",\"#FF97FF\",\"#FECB52\"],\"font\":{\"color\":\"#2a3f5f\"},\"geo\":{\"bgcolor\":\"white\",\"lakecolor\":\"white\",\"landcolor\":\"#E5ECF6\",\"showlakes\":true,\"showland\":true,\"subunitcolor\":\"white\"},\"hoverlabel\":{\"align\":\"left\"},\"hovermode\":\"closest\",\"mapbox\":{\"style\":\"light\"},\"paper_bgcolor\":\"white\",\"plot_bgcolor\":\"#E5ECF6\",\"polar\":{\"angularaxis\":{\"gridcolor\":\"white\",\"linecolor\":\"white\",\"ticks\":\"\"},\"bgcolor\":\"#E5ECF6\",\"radialaxis\":{\"gridcolor\":\"white\",\"linecolor\":\"white\",\"ticks\":\"\"}},\"scene\":{\"xaxis\":{\"backgroundcolor\":\"#E5ECF6\",\"gridcolor\":\"white\",\"gridwidth\":2,\"linecolor\":\"white\",\"showbackground\":true,\"ticks\":\"\",\"zerolinecolor\":\"white\"},\"yaxis\":{\"backgroundcolor\":\"#E5ECF6\",\"gridcolor\":\"white\",\"gridwidth\":2,\"linecolor\":\"white\",\"showbackground\":true,\"ticks\":\"\",\"zerolinecolor\":\"white\"},\"zaxis\":{\"backgroundcolor\":\"#E5ECF6\",\"gridcolor\":\"white\",\"gridwidth\":2,\"linecolor\":\"white\",\"showbackground\":true,\"ticks\":\"\",\"zerolinecolor\":\"white\"}},\"shapedefaults\":{\"line\":{\"color\":\"#2a3f5f\"}},\"ternary\":{\"aaxis\":{\"gridcolor\":\"white\",\"linecolor\":\"white\",\"ticks\":\"\"},\"baxis\":{\"gridcolor\":\"white\",\"linecolor\":\"white\",\"ticks\":\"\"},\"bgcolor\":\"#E5ECF6\",\"caxis\":{\"gridcolor\":\"white\",\"linecolor\":\"white\",\"ticks\":\"\"}},\"title\":{\"x\":0.05},\"xaxis\":{\"automargin\":true,\"gridcolor\":\"white\",\"linecolor\":\"white\",\"ticks\":\"\",\"title\":{\"standoff\":15},\"zerolinecolor\":\"white\",\"zerolinewidth\":2},\"yaxis\":{\"automargin\":true,\"gridcolor\":\"white\",\"linecolor\":\"white\",\"ticks\":\"\",\"title\":{\"standoff\":15},\"zerolinecolor\":\"white\",\"zerolinewidth\":2}}},\"font\":{\"size\":16},\"margin\":{\"b\":0,\"l\":30,\"pad\":0,\"r\":0,\"t\":0},\"paper_bgcolor\":\"rgba(0,0,0,0)\",\"plot_bgcolor\":\"rgba(0,0,0,0)\",\"autosize\":false,\"width\":900},                        {\"responsive\": true}                    ).then(function(){\n",
       "                            \n",
       "var gd = document.getElementById('86628acf-fc37-43b4-97b5-1b9028093de2');\n",
       "var x = new MutationObserver(function (mutations, observer) {{\n",
       "        var display = window.getComputedStyle(gd).display;\n",
       "        if (!display || display === 'none') {{\n",
       "            console.log([gd, 'removed!']);\n",
       "            Plotly.purge(gd);\n",
       "            observer.disconnect();\n",
       "        }}\n",
       "}});\n",
       "\n",
       "// Listen for the removal of the full notebook cells\n",
       "var notebookContainer = gd.closest('#notebook-container');\n",
       "if (notebookContainer) {{\n",
       "    x.observe(notebookContainer, {childList: true});\n",
       "}}\n",
       "\n",
       "// Listen for the clearing of the current output cell\n",
       "var outputEl = gd.closest('.output');\n",
       "if (outputEl) {{\n",
       "    x.observe(outputEl, {childList: true});\n",
       "}}\n",
       "\n",
       "                        })                };                });            </script>        </div>"
      ]
     },
     "metadata": {},
     "output_type": "display_data"
    }
   ],
   "source": [
    "%%time\n",
    "vh.plot_plotly_heatmap(\n",
    "    data_dict=data_dict,\n",
    "    annotation_text=data_dict[\"annotation_text\"],\n",
    "    margin_dict=dict(l=30, r=0, b=0, t=0, pad=0),\n",
    "    fig_width=900,\n",
    ")"
   ]
  },
  {
   "cell_type": "markdown",
   "id": "c0f7e059",
   "metadata": {},
   "source": [
    "## Conclusions and Future Work"
   ]
  },
  {
   "cell_type": "markdown",
   "id": "aa48d64b",
   "metadata": {},
   "source": [
    "### Conclusions\n",
    "In this preliminary attempt to learn the topics from twitter data, the LDA algorithm has at least suggested topics that can be named based on the top `n` terms within each topic. Manual hyper-parameter tuning has been performed to help with this and the number of topics was also determined by inspecting the top `n` words by weight for each topic. This is a preliminary attempt at topic modeling with PySpark ML."
   ]
  },
  {
   "cell_type": "markdown",
   "id": "9d4315dd",
   "metadata": {},
   "source": [
    "### Difficulties and Recommendations for Future Work\n",
    "#### ML Modeling\n",
    "Using LDA for topic modeling with shorter texts can be challenging ([1](https://towardsdatascience.com/topic-modeling-with-latent-dirichlet-allocation-e7ff75290f8)). The Latent part of LDA refers to the hidden nature of the topics in the documents (tweet texts) ([1](https://towardsdatascience.com/short-text-topic-modeling-70e50a57c883), [2](https://www.analyticsvidhya.com/blog/2021/06/part-2-topic-modeling-and-latent-dirichlet-allocation-lda-using-gensim-and-sklearn/)). LDA assumes each document is made up of a distribution of topics and each topic itself is comprised of a distribution of words. With these documents and words, LDA will learn the hidden link (layer) between them ([1](https://towardsdatascience.com/short-text-topic-modelling-lda-vs-gsdmm-20f1db742e14)).i.e. learn the topics. With short texts, there is generally room for only one topic in the text so there can be a larger error in the learned topic probabilities ([3](https://stackoverflow.com/a/29789165)).\n",
    "\n",
    "Both the length of the text used and the number of text documents in the data influence the efficiency of LDA ([1](https://dl.acm.org/doi/10.5555/3044805.3044828)). For streaming twitter data, the number of documents (tweets) is not such a big problem since we can simply collect more tweets for analysis. However, these tweets need to be long enough to improve the efficiency of using LDA for topic modeling. The overall domain in which the documents fall will have some influence on these two variables.\n",
    "\n",
    "Recommendations for the minimum number of words required by LDA (in a single document) range from 50-200 to a few thousand ([1](https://towardsdatascience.com/short-text-topic-modeling-70e50a57c883), [2](https://towardsdatascience.com/lda-topic-modeling-with-tweets-deff37c0e131), [3](https://www.researchgate.net/post/What_would_be_considered_the_minimum_length_of_document_minimum_number_of_words_for_training_an_LDA_SLDA_topic_model), [4](https://link.springer.com/article/10.1007/s11135-020-00976-w), [5](https://www.frontiersin.org/articles/10.3389/frai.2020.00042/full)). These are approximations and not hard claims. For the current analysis (tweets related to *space*) even the lower end of this range requires filtering out a lot of tweets and significantly reducing the size of the dataset from one that would require a big-data ML tool (as would be the case with our raw streamed tweets data) such as Spark ML to others that do not have this requirement. This opens up the possibility of using other algorithms that are more equipped to handle shorter texts, such as Gibbs Sampling algorithm for the Dirichlet Multinomial Mixture model (GSDMM) ([1](https://www.semanticscholar.org/paper/A-dirichlet-multinomial-mixture-model-based-for-Yin-Wang/d03ca28403da15e75bc3e90c21eab44031257e80?p2df)), which is [implemented in Python](https://github.com/rwalk/gsdmm) with example uses available ([1](https://stackoverflow.com/a/62331941/4057186), [2](https://towardsdatascience.com/short-text-topic-modelling-lda-vs-gsdmm-20f1db742e14), [3](https://gist.github.com/rrpelgrim/ef88b94f32dff78af4ef3253c93b6436)). Future work should either explore use of this technique for this dataset or assess more references comparing LDA to other unsupervised ML techniques for short texts.\n",
    "\n",
    "#### Text Data Processing\n",
    "In the current work, the topics were named using the top words per topic. Removing the *leftover duplicated* tweets from twitter data will help re-affirm or reject these names. As we saw earlier, such duplicates can come in the form of tweets that differ in as little as one word. From reading the documents within each topic, we can see that the further processing is needed to remove such tweets before LDA. So, the top `n` (unique) documents printed for reading contain several of these *leftover duplicates* which makes it difficult to decide if a topic is appropriately named or if it should even exist by reading the documents (tweets) in that topic. Regardless of the ML algorithm used, iteratively removing such *leftover duplicates* will help in\n",
    "- validating the names of the topics by reading the top (unique) tweets within each topic (without unnecessary duplication)\n",
    "- fine-tune the number of topics to be learned\n",
    "- reduce ML model training time"
   ]
  },
  {
   "cell_type": "markdown",
   "id": "f351d602",
   "metadata": {},
   "source": [
    "## Summary of Assumptions and Limitations\n",
    "### Assumptions\n",
    "1. Re-tweets (identical text in tweet) are not useful to the topic modeling algorithm (LDA). Only a single version of each tweet is sufficient.\n",
    "2. Regarding short tweets, tweets with more than 25 words in their text can be used with LDA.\n",
    "\n",
    "### Limitations\n",
    "1. After processing to replace a double whitespace by a single one, changing to lowercase and trimming the text, the majority of duplicated tweets (which are not retweets) can be removed. Some duplicates, which differ from the original tweet by a single word, remain and (per assumption 1. above) future work should focus on trying to remove these.\n",
    "2. Preliminary hyper-parameter tuning was performed for TFIDF vectorization and LDA."
   ]
  }
 ],
 "metadata": {
  "kernelspec": {
   "display_name": "conda_python3",
   "language": "python",
   "name": "conda_python3"
  },
  "language_info": {
   "codemirror_mode": {
    "name": "ipython",
    "version": 3
   },
   "file_extension": ".py",
   "mimetype": "text/x-python",
   "name": "python",
   "nbconvert_exporter": "python",
   "pygments_lexer": "ipython3",
   "version": "3.6.13"
  }
 },
 "nbformat": 4,
 "nbformat_minor": 5
}
