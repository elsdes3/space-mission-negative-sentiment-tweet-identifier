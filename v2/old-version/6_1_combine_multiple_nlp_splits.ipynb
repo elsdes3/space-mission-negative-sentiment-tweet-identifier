{
 "cells": [
  {
   "cell_type": "markdown",
   "id": "07ce3b9a-0163-4042-bcb9-55dc1338b722",
   "metadata": {},
   "source": [
    "# Combining `.xlsx` Files for NLP Manual Labeling"
   ]
  },
  {
   "cell_type": "code",
   "execution_count": 1,
   "id": "215845f9-d9a9-457f-bbca-61be8808275e",
   "metadata": {},
   "outputs": [],
   "source": [
    "%load_ext lab_black"
   ]
  },
  {
   "cell_type": "code",
   "execution_count": 2,
   "id": "59cbfd0e-63db-4b44-b5e0-e4e1e8aef427",
   "metadata": {},
   "outputs": [],
   "source": [
    "from glob import glob\n",
    "\n",
    "import pandas as pd"
   ]
  },
  {
   "cell_type": "markdown",
   "id": "172cdb68-c262-4c69-8ec0-af800bc1e85a",
   "metadata": {},
   "source": [
    "## About"
   ]
  },
  {
   "cell_type": "markdown",
   "id": "f322f9d3-5e2d-42db-a5bd-af25e2a10b26",
   "metadata": {},
   "source": []
  },
  {
   "cell_type": "markdown",
   "id": "e3698b1b-f01f-4174-8445-a545b7bce394",
   "metadata": {},
   "source": [
    "## User Inputs"
   ]
  },
  {
   "cell_type": "code",
   "execution_count": 3,
   "id": "0e13cba3-7b34-43f6-855a-3fea391d1efd",
   "metadata": {},
   "outputs": [],
   "source": [
    "temp_processed_data_dir = \"../data\"\n",
    "processed_data_dir = \"../data/processed\""
   ]
  },
  {
   "cell_type": "code",
   "execution_count": 4,
   "id": "ae255d60-e439-47eb-b145-ae80e7a9564c",
   "metadata": {},
   "outputs": [],
   "source": [
    "dtypes_dict = dict(\n",
    "    id=pd.StringDtype(),\n",
    "    text=pd.StringDtype(),\n",
    "    sentiment=pd.Int32Dtype(),\n",
    ")"
   ]
  },
  {
   "cell_type": "markdown",
   "id": "2f44ae74-53e0-4747-8d32-746a2593541c",
   "metadata": {},
   "source": [
    "## Get Data, Drop Last Duplicate and Re-Order"
   ]
  },
  {
   "cell_type": "code",
   "execution_count": 5,
   "id": "71e60fa9-c610-484c-af39-dee2986d655d",
   "metadata": {
    "tags": []
   },
   "outputs": [
    {
     "data": {
      "text/html": [
       "<style type=\"text/css\">\n",
       "</style>\n",
       "<table id=\"T_d2603\">\n",
       "  <caption>Total training data for manual labeling = 2,461</caption>\n",
       "  <thead>\n",
       "    <tr>\n",
       "      <th class=\"blank level0\" >&nbsp;</th>\n",
       "      <th id=\"T_d2603_level0_col0\" class=\"col_heading level0 col0\" >id</th>\n",
       "      <th id=\"T_d2603_level0_col1\" class=\"col_heading level0 col1\" >created_at</th>\n",
       "      <th id=\"T_d2603_level0_col2\" class=\"col_heading level0 col2\" >text</th>\n",
       "      <th id=\"T_d2603_level0_col3\" class=\"col_heading level0 col3\" >sentiment</th>\n",
       "    </tr>\n",
       "  </thead>\n",
       "  <tbody>\n",
       "    <tr>\n",
       "      <th id=\"T_d2603_level0_row0\" class=\"row_heading level0 row0\" >2742</th>\n",
       "      <td id=\"T_d2603_row0_col0\" class=\"data row0 col0\" >1479141744700760075</td>\n",
       "      <td id=\"T_d2603_row0_col1\" class=\"data row0 col1\" >2022-01-06 17:24:07</td>\n",
       "      <td id=\"T_d2603_row0_col2\" class=\"data row0 col2\" >Why is there no camera onboard the James Webb Space Telescope?</td>\n",
       "      <td id=\"T_d2603_row0_col3\" class=\"data row0 col3\" ><NA></td>\n",
       "    </tr>\n",
       "    <tr>\n",
       "      <th id=\"T_d2603_level0_row1\" class=\"row_heading level0 row1\" >2</th>\n",
       "      <td id=\"T_d2603_row1_col0\" class=\"data row1 col0\" >1478198711339536384</td>\n",
       "      <td id=\"T_d2603_row1_col1\" class=\"data row1 col1\" >2022-01-04 02:56:51</td>\n",
       "      <td id=\"T_d2603_row1_col2\" class=\"data row1 col2\" >Good morning! The James Webb Space Telescope is now 5.5 lakh kilometres from its L2 orbit. Its distance from Earth is 8.8 lakh kilometres. Its journey to L2 is now more than 61% complete.</td>\n",
       "      <td id=\"T_d2603_row1_col3\" class=\"data row1 col3\" >2</td>\n",
       "    </tr>\n",
       "    <tr>\n",
       "      <th id=\"T_d2603_level0_row2\" class=\"row_heading level0 row2\" >205</th>\n",
       "      <td id=\"T_d2603_row2_col0\" class=\"data row2 col0\" >1479832192545173514</td>\n",
       "      <td id=\"T_d2603_row2_col1\" class=\"data row2 col1\" >2022-01-08 15:07:43</td>\n",
       "      <td id=\"T_d2603_row2_col2\" class=\"data row2 col2\" >NASA live streaming the James Webb telescope unfolding.  Science makes me happy....</td>\n",
       "      <td id=\"T_d2603_row2_col3\" class=\"data row2 col3\" ><NA></td>\n",
       "    </tr>\n",
       "  </tbody>\n",
       "</table>\n"
      ],
      "text/plain": [
       "<pandas.io.formats.style.Styler at 0x7f02f0679ab0>"
      ]
     },
     "metadata": {},
     "output_type": "display_data"
    },
    {
     "data": {
      "text/html": [
       "<style type=\"text/css\">\n",
       "</style>\n",
       "<table id=\"T_11c48\">\n",
       "  <caption>Total validation data for manual labeling = 338</caption>\n",
       "  <thead>\n",
       "    <tr>\n",
       "      <th class=\"blank level0\" >&nbsp;</th>\n",
       "      <th id=\"T_11c48_level0_col0\" class=\"col_heading level0 col0\" >id</th>\n",
       "      <th id=\"T_11c48_level0_col1\" class=\"col_heading level0 col1\" >created_at</th>\n",
       "      <th id=\"T_11c48_level0_col2\" class=\"col_heading level0 col2\" >text</th>\n",
       "      <th id=\"T_11c48_level0_col3\" class=\"col_heading level0 col3\" >sentiment</th>\n",
       "    </tr>\n",
       "  </thead>\n",
       "  <tbody>\n",
       "    <tr>\n",
       "      <th id=\"T_11c48_level0_row0\" class=\"row_heading level0 row0\" >179</th>\n",
       "      <td id=\"T_11c48_row0_col0\" class=\"data row0 col0\" >1480012233451229187</td>\n",
       "      <td id=\"T_11c48_row0_col1\" class=\"data row0 col1\" >2022-01-09 03:03:08</td>\n",
       "      <td id=\"T_11c48_row0_col2\" class=\"data row0 col2\" >If you could imagine the Webb telescope trying to deploy far from intelligent life for almost 62 years, well you're looking at him</td>\n",
       "      <td id=\"T_11c48_row0_col3\" class=\"data row0 col3\" ><NA></td>\n",
       "    </tr>\n",
       "    <tr>\n",
       "      <th id=\"T_11c48_level0_row1\" class=\"row_heading level0 row1\" >152</th>\n",
       "      <td id=\"T_11c48_row1_col0\" class=\"data row1 col0\" >1480004850507259906</td>\n",
       "      <td id=\"T_11c48_row1_col1\" class=\"data row1 col1\" >2022-01-09 02:33:48</td>\n",
       "      <td id=\"T_11c48_row1_col2\" class=\"data row1 col2\" >My BBC World Service Radio Interview on James Webb Telescope:</td>\n",
       "      <td id=\"T_11c48_row1_col3\" class=\"data row1 col3\" ><NA></td>\n",
       "    </tr>\n",
       "    <tr>\n",
       "      <th id=\"T_11c48_level0_row2\" class=\"row_heading level0 row2\" >206</th>\n",
       "      <td id=\"T_11c48_row2_col0\" class=\"data row2 col0\" >1479911279460372483</td>\n",
       "      <td id=\"T_11c48_row2_col1\" class=\"data row2 col1\" >2022-01-08 20:21:59</td>\n",
       "      <td id=\"T_11c48_row2_col2\" class=\"data row2 col2\" >Yesss!!! What a milestone! James Webb Space Telescope mirrors unfolded successfully today! Nice shirt (with \"Jan 08, 2022\" on the shirt) for celebrating this special day. Order link:</td>\n",
       "      <td id=\"T_11c48_row2_col3\" class=\"data row2 col3\" ><NA></td>\n",
       "    </tr>\n",
       "  </tbody>\n",
       "</table>\n"
      ],
      "text/plain": [
       "<pandas.io.formats.style.Styler at 0x7f02f066e9b0>"
      ]
     },
     "metadata": {},
     "output_type": "display_data"
    },
    {
     "data": {
      "text/html": [
       "<style type=\"text/css\">\n",
       "</style>\n",
       "<table id=\"T_5f67b\">\n",
       "  <caption>Total testing data for manual labeling = 365</caption>\n",
       "  <thead>\n",
       "    <tr>\n",
       "      <th class=\"blank level0\" >&nbsp;</th>\n",
       "      <th id=\"T_5f67b_level0_col0\" class=\"col_heading level0 col0\" >id</th>\n",
       "      <th id=\"T_5f67b_level0_col1\" class=\"col_heading level0 col1\" >created_at</th>\n",
       "      <th id=\"T_5f67b_level0_col2\" class=\"col_heading level0 col2\" >text</th>\n",
       "      <th id=\"T_5f67b_level0_col3\" class=\"col_heading level0 col3\" >sentiment</th>\n",
       "    </tr>\n",
       "  </thead>\n",
       "  <tbody>\n",
       "    <tr>\n",
       "      <th id=\"T_5f67b_level0_row0\" class=\"row_heading level0 row0\" >3</th>\n",
       "      <td id=\"T_5f67b_row0_col0\" class=\"data row0 col0\" >1480126412593848322</td>\n",
       "      <td id=\"T_5f67b_row0_col1\" class=\"data row0 col1\" >2022-01-09 10:36:50</td>\n",
       "      <td id=\"T_5f67b_row0_col2\" class=\"data row0 col2\" >NASA's Webb Telescope reaches major milestone as mirror unfolds     719</td>\n",
       "      <td id=\"T_5f67b_row0_col3\" class=\"data row0 col3\" >2</td>\n",
       "    </tr>\n",
       "    <tr>\n",
       "      <th id=\"T_5f67b_level0_row1\" class=\"row_heading level0 row1\" >198</th>\n",
       "      <td id=\"T_5f67b_row1_col0\" class=\"data row1 col0\" >1480279600739594241</td>\n",
       "      <td id=\"T_5f67b_row1_col1\" class=\"data row1 col1\" >2022-01-09 20:45:33</td>\n",
       "      <td id=\"T_5f67b_row1_col2\" class=\"data row1 col2\" >James Webb Telescope Ready to Reveal the Secrets of the Universe</td>\n",
       "      <td id=\"T_5f67b_row1_col3\" class=\"data row1 col3\" ><NA></td>\n",
       "    </tr>\n",
       "    <tr>\n",
       "      <th id=\"T_5f67b_level0_row2\" class=\"row_heading level0 row2\" >111</th>\n",
       "      <td id=\"T_5f67b_row2_col0\" class=\"data row2 col0\" >1480135789438586882</td>\n",
       "      <td id=\"T_5f67b_row2_col1\" class=\"data row2 col1\" >2022-01-09 11:14:06</td>\n",
       "      <td id=\"T_5f67b_row2_col2\" class=\"data row2 col2\" >Good news for science, space exploration and humanity. James Webb telescope is now fully deployed.</td>\n",
       "      <td id=\"T_5f67b_row2_col3\" class=\"data row2 col3\" ><NA></td>\n",
       "    </tr>\n",
       "  </tbody>\n",
       "</table>\n"
      ],
      "text/plain": [
       "<pandas.io.formats.style.Styler at 0x7f02f066e140>"
      ]
     },
     "metadata": {},
     "output_type": "display_data"
    },
    {
     "name": "stdout",
     "output_type": "stream",
     "text": [
      "CPU times: user 333 ms, sys: 16.5 ms, total: 350 ms\n",
      "Wall time: 348 ms\n"
     ]
    }
   ],
   "source": [
    "%%time\n",
    "df_train, df_val, df_test = [\n",
    "    pd.concat(\n",
    "        [\n",
    "            pd.read_excel(f, dtype=dtypes_dict, parse_dates=['created_at'])\n",
    "            for f in glob(f\"{temp_processed_data_dir}/{split_type}_*.xlsx\")\n",
    "        ],\n",
    "        ignore_index=True,\n",
    "    ).sort_values(by=['sentiment'])\n",
    "    .drop_duplicates(subset=['text'], keep='first')\n",
    "    .sort_index()\n",
    "    for split_type in ['train', 'val', 'test']\n",
    "]\n",
    "display(df_train.sample(3).style.set_caption(f\"Total training data for manual labeling = {len(df_train):,}\"))\n",
    "display(df_val.sample(3).style.set_caption(f\"Total validation data for manual labeling = {len(df_val):,}\"))\n",
    "display(df_test.sample(3).style.set_caption(f\"Total testing data for manual labeling = {len(df_test):,}\"))"
   ]
  },
  {
   "cell_type": "markdown",
   "id": "004e5551-0019-46aa-8ee5-afa93b15c641",
   "metadata": {},
   "source": [
    "## Export to `.xlsx` File"
   ]
  },
  {
   "cell_type": "code",
   "execution_count": 6,
   "id": "149600fb-c09a-4f97-b3fd-48591839306f",
   "metadata": {},
   "outputs": [
    {
     "data": {
      "text/plain": [
       "'20220110_000000'"
      ]
     },
     "execution_count": 6,
     "metadata": {},
     "output_type": "execute_result"
    }
   ],
   "source": [
    "inference_start_date_str = (\n",
    "    glob(f\"{temp_processed_data_dir}/train_*.xlsx\")[0]\n",
    "    .split(\"nlp__inference_starts\")[-1]\n",
    "    .split(\".\")[0][1:]\n",
    ")\n",
    "inference_start_date_str"
   ]
  },
  {
   "cell_type": "code",
   "execution_count": 8,
   "id": "e27dda3e-3fb5-4dce-9497-969226dbf435",
   "metadata": {},
   "outputs": [
    {
     "name": "stdout",
     "output_type": "stream",
     "text": [
      "CPU times: user 345 ms, sys: 12.4 ms, total: 357 ms\n",
      "Wall time: 355 ms\n"
     ]
    }
   ],
   "source": [
    "%%time\n",
    "for df_split_to_export, split_type in zip([df_train, df_val, df_test], ['train', 'val', 'test']):\n",
    "    fname = f\"{processed_data_dir}/{split_type}_nlp__inference_starts_{inference_start_date_str}.xlsx\"\n",
    "    df_split_to_export.to_excel(fname, index=False)"
   ]
  }
 ],
 "metadata": {
  "kernelspec": {
   "display_name": "split-data",
   "language": "python",
   "name": "split-data"
  },
  "language_info": {
   "codemirror_mode": {
    "name": "ipython",
    "version": 3
   },
   "file_extension": ".py",
   "mimetype": "text/x-python",
   "name": "python",
   "nbconvert_exporter": "python",
   "pygments_lexer": "ipython3",
   "version": "3.10.6"
  }
 },
 "nbformat": 4,
 "nbformat_minor": 5
}
